{
 "cells": [
  {
   "cell_type": "markdown",
   "metadata": {},
   "source": [
    "# 1. scipy.optimize"
   ]
  },
  {
   "cell_type": "markdown",
   "metadata": {},
   "source": [
    "## Content\n",
    "- [1.1 Linear Programming](#1.1-Linear-Programming)\n",
    "  - [Example 1](#Example-1:-Constrained-Production)\n",
    "  - [Example 2](#Example-2:-Utility-from-Substitutes)\n",
    "  - [Example 3](#Example-3:-Linear-Sum-Assignment-Problem)\n",
    "  - [Reference](#Reference)"
   ]
  },
  {
   "cell_type": "code",
   "execution_count": 1,
   "metadata": {},
   "outputs": [],
   "source": [
    "# !pip install --upgrade scipy"
   ]
  },
  {
   "cell_type": "code",
   "execution_count": 2,
   "metadata": {},
   "outputs": [],
   "source": [
    "import numpy as np\n",
    "import matplotlib.pyplot as plt\n",
    "\n",
    "from IPython.display import set_matplotlib_formats\n",
    "set_matplotlib_formats('retina')\n",
    "\n",
    "from scipy.optimize import linprog,linprog_verbose_callback,linear_sum_assignment\n",
    "from sympy import Matrix"
   ]
  },
  {
   "cell_type": "markdown",
   "metadata": {},
   "source": [
    "## 1.1 Linear Programming"
   ]
  },
  {
   "cell_type": "markdown",
   "metadata": {},
   "source": [
    "### Example 1: [Constrained Production](https://www.economicsdiscussion.net/linear-programming/linear-programming-explained-with-diagrams/5844)"
   ]
  },
  {
   "cell_type": "markdown",
   "metadata": {},
   "source": [
    "Assume that John has total amount of production factors as follows:\n",
    "<br>\n",
    "<br>\n",
    "<center><font face = \"Times New Roman\"> Table 1: Amounts of Production Factors </font></center>\n",
    "$$\n",
    "\\begin{array}{|c|c|}\n",
    "\\hline\n",
    "\\text{Factors} & \\text{Amounts} \\\\\n",
    "\\hline\\hline\n",
    "\\text{Labor (L)} & 400 (\\text{hours}) \\\\\n",
    "\\hline\n",
    "\\text{Capital (K)} & 300 (\\text{machine hours}) \\\\\n",
    "\\hline\n",
    "\\text{Land (S)} & 200 (\\text{square feet}) \\\\\n",
    "\\hline\n",
    "\\end{array}\n",
    "$$"
   ]
  },
  {
   "cell_type": "markdown",
   "metadata": {},
   "source": [
    "He can produce two products, according to the following processes:\n",
    "<br>\n",
    "<br>\n",
    "<center><font face = \"Times New Roman\"> Table 2: Processes of Production </font></center>\n",
    "\n",
    "|Factors|Product X|Product Y|\n",
    "|:-----:|:-------:|:-------:|\n",
    "| L | 4 | 1 |\n",
    "| K | 1 | 1 |\n",
    "| S | 2 | 5 |"
   ]
  },
  {
   "cell_type": "markdown",
   "metadata": {},
   "source": [
    "where product X can give return of $\\$$ 2 while Y give $\\$$ 1. Therefore, the problem can be abstracted as follows:"
   ]
  },
  {
   "cell_type": "markdown",
   "metadata": {},
   "source": [
    "$$\n",
    "\\begin{aligned}\n",
    "\\max_{X,Y} \\quad & Z = 2X + Y \\\\\n",
    "\\text{s.t.} \\quad & 4X + Y \\leq 400 \\\\\n",
    "& X + Y \\leq 300 \\\\\n",
    "& 2X + 5Y \\leq 200\n",
    "\\end{aligned}\n",
    "$$"
   ]
  },
  {
   "cell_type": "code",
   "execution_count": 3,
   "metadata": {},
   "outputs": [],
   "source": [
    "# basic setting\n",
    "# notice that scipy.optimize solves minimization problem\n",
    "\n",
    "c = [-2,-1]\n",
    "A = [[4,1],[1,1],[2,5]]\n",
    "b = [400,300,200]\n",
    "x_b = (0,None)\n",
    "y_b = (0,None)"
   ]
  },
  {
   "cell_type": "markdown",
   "metadata": {},
   "source": [
    "There are three methods for linear programming:\n",
    "- Two Phase Simplex Method\n",
    "- Interior Point Method (**by default**)\n",
    "- Revised Simplex Algorithm (**greater accuracy**)"
   ]
  },
  {
   "cell_type": "code",
   "execution_count": 4,
   "metadata": {},
   "outputs": [
    {
     "name": "stdout",
     "output_type": "stream",
     "text": [
      "1.5 ms ± 5.86 µs per loop (mean ± std. dev. of 7 runs, 1000 loops each)\n"
     ]
    }
   ],
   "source": [
    "%timeit linprog(c, A, b, bounds=[x_b, y_b],method = \"simplex\")"
   ]
  },
  {
   "cell_type": "code",
   "execution_count": 5,
   "metadata": {},
   "outputs": [
    {
     "name": "stdout",
     "output_type": "stream",
     "text": [
      "     con: array([], dtype=float64)\n",
      "     fun: -200.0\n",
      " message: 'Optimization terminated successfully.'\n",
      "     nit: 3\n",
      "   slack: array([  0., 200.,   0.])\n",
      "  status: 0\n",
      " success: True\n",
      "       x: array([100.,   0.])\n"
     ]
    }
   ],
   "source": [
    "res_sim = linprog(c, A, b, bounds=[x_b, y_b],method = \"simplex\")\n",
    "print(res_sim)"
   ]
  },
  {
   "cell_type": "code",
   "execution_count": 6,
   "metadata": {},
   "outputs": [
    {
     "name": "stdout",
     "output_type": "stream",
     "text": [
      "2.54 ms ± 22.7 µs per loop (mean ± std. dev. of 7 runs, 100 loops each)\n"
     ]
    }
   ],
   "source": [
    "%timeit linprog(c, A, b, bounds=[x_b, y_b],method = 'interior-point')"
   ]
  },
  {
   "cell_type": "code",
   "execution_count": 7,
   "metadata": {},
   "outputs": [
    {
     "name": "stdout",
     "output_type": "stream",
     "text": [
      "     con: array([], dtype=float64)\n",
      "     fun: -199.9999999996715\n",
      " message: 'Optimization terminated successfully.'\n",
      "     nit: 6\n",
      "   slack: array([6.65238531e-10, 2.00000000e+02, 2.95671043e-10])\n",
      "  status: 0\n",
      " success: True\n",
      "       x: array([1.00000000e+02, 8.21000289e-12])\n"
     ]
    }
   ],
   "source": [
    "res_int = linprog(c, A, b, bounds=[x_b, y_b],method = 'interior-point')\n",
    "print(res_int)"
   ]
  },
  {
   "cell_type": "code",
   "execution_count": 8,
   "metadata": {},
   "outputs": [
    {
     "name": "stdout",
     "output_type": "stream",
     "text": [
      "1.18 ms ± 3.21 µs per loop (mean ± std. dev. of 7 runs, 1000 loops each)\n"
     ]
    }
   ],
   "source": [
    "%timeit linprog(c, A, b, bounds=[x_b, y_b],method = 'revised simplex')\n",
    "# need to upgrade the scipy package"
   ]
  },
  {
   "cell_type": "code",
   "execution_count": 9,
   "metadata": {},
   "outputs": [
    {
     "name": "stdout",
     "output_type": "stream",
     "text": [
      "     con: array([], dtype=float64)\n",
      "     fun: -200.0\n",
      " message: 'Optimization terminated successfully.'\n",
      "     nit: 2\n",
      "   slack: array([  0., 200.,   0.])\n",
      "  status: 0\n",
      " success: True\n",
      "       x: array([100.,   0.])\n"
     ]
    }
   ],
   "source": [
    "res_rev = linprog(c, A, b, bounds=[x_b, y_b],method = 'revised simplex')\n",
    "print(res_rev)"
   ]
  },
  {
   "cell_type": "markdown",
   "metadata": {},
   "source": [
    "Status 0 means successful! <br>\n",
    "It seems the last method behaves best in both terms of running time and accuracy. Also, the first method has a higher accuracy than the second which is also the default one."
   ]
  },
  {
   "cell_type": "code",
   "execution_count": 10,
   "metadata": {},
   "outputs": [],
   "source": [
    "x_L = np.linspace(0,100,101)\n",
    "y_L = 400 - 4*x_L\n",
    "x_K = np.linspace(0,150,151)\n",
    "y_K = 300 - x_K\n",
    "x_S = np.linspace(0,100,101)\n",
    "y_S = 40 - 0.4*x_S\n",
    "x_obj = np.linspace(0,150,151)\n",
    "y_obj1 = 100 - 2*x_obj\n",
    "y_obj2 = 200 - 2*x_obj\n",
    "y_obj3 = 300 - 2*x_obj\n",
    "y_obj4 = 400 - 2*x_obj"
   ]
  },
  {
   "cell_type": "code",
   "execution_count": 11,
   "metadata": {},
   "outputs": [
    {
     "data": {
      "image/png": "[encoded data removed]",
      "text/plain": [
       "<Figure size 432x288 with 1 Axes>"
      ]
     },
     "metadata": {
      "needs_background": "light"
     },
     "output_type": "display_data"
    }
   ],
   "source": [
    "plt.fill_between(x_L,y_L,color=\"r\",alpha = 0.1)\n",
    "plt.fill_between(x_K,y_K,color=\"g\",alpha = 0.1)\n",
    "plt.fill_between(x_S,y_S,color=\"b\",alpha = 0.1)\n",
    "plt.plot(x_obj,y_obj1,\"r-.\",x_obj,y_obj2,\"g-.\",x_obj,y_obj3,\"b-.\",x_obj,y_obj4,\"k-.\")\n",
    "plt.show()"
   ]
  },
  {
   "cell_type": "markdown",
   "metadata": {},
   "source": [
    "We can see that actually the first and the third constraint bind. Then we can try to reduce it to equality constraints to see whether we get a same result."
   ]
  },
  {
   "cell_type": "code",
   "execution_count": 12,
   "metadata": {},
   "outputs": [
    {
     "name": "stdout",
     "output_type": "stream",
     "text": [
      "     con: array([0., 0.])\n",
      "     fun: -200.0\n",
      " message: 'Optimization terminated successfully.'\n",
      "     nit: 2\n",
      "   slack: array([200.])\n",
      "  status: 0\n",
      " success: True\n",
      "       x: array([100.,   0.])\n"
     ]
    }
   ],
   "source": [
    "A_ub = [[1,1]]\n",
    "b_ub = [300]\n",
    "A_eq = [[4,1],[2,5]]\n",
    "b_eq = [400,200]\n",
    "res_rev = linprog(c, A_ub, b_ub, A_eq, b_eq, bounds=[x_b, y_b],method = 'revised simplex')\n",
    "print(res_rev)"
   ]
  },
  {
   "cell_type": "markdown",
   "metadata": {},
   "source": [
    "Same result!"
   ]
  },
  {
   "cell_type": "markdown",
   "metadata": {},
   "source": [
    "![jupyter](./Comparison.jpg)"
   ]
  },
  {
   "cell_type": "code",
   "execution_count": null,
   "metadata": {},
   "outputs": [],
   "source": []
  },
  {
   "cell_type": "markdown",
   "metadata": {},
   "source": [
    "### Example 2: Utility from Substitutes"
   ]
  },
  {
   "cell_type": "markdown",
   "metadata": {},
   "source": [
    "In order to get unique solution, we artificially impose one more constraint that difference between consumption on X and Y must be greater than some amount, say, 5. Then the UMP is as follows:\n",
    "\n",
    "$$\n",
    "\\begin{aligned}\n",
    "\\max_{X,Y} \\quad & Z = X + Y  \\\\\n",
    "\\text{s.t.} \\quad & 2X + 3Y \\leq 40 \\\\\n",
    "& X - Y \\geq 5 \\\\\n",
    "\\end{aligned}\n",
    "$$"
   ]
  },
  {
   "cell_type": "code",
   "execution_count": 13,
   "metadata": {},
   "outputs": [],
   "source": [
    "c = [-1,-1]\n",
    "A = [[2,3],[-1,1]]\n",
    "b = [40,-5]\n",
    "x_b = (0,None)\n",
    "y_b = (0,None)"
   ]
  },
  {
   "cell_type": "code",
   "execution_count": 14,
   "metadata": {},
   "outputs": [
    {
     "name": "stdout",
     "output_type": "stream",
     "text": [
      "1.6 ms ± 10.8 µs per loop (mean ± std. dev. of 7 runs, 1000 loops each)\n"
     ]
    }
   ],
   "source": [
    "%timeit linprog(c, A, b, bounds=[x_b, y_b],method = \"simplex\")"
   ]
  },
  {
   "cell_type": "code",
   "execution_count": 15,
   "metadata": {},
   "outputs": [
    {
     "name": "stdout",
     "output_type": "stream",
     "text": [
      "     con: array([], dtype=float64)\n",
      "     fun: -20.0\n",
      " message: 'Optimization terminated successfully.'\n",
      "     nit: 3\n",
      "   slack: array([ 0., 15.])\n",
      "  status: 0\n",
      " success: True\n",
      "       x: array([20.,  0.])\n"
     ]
    }
   ],
   "source": [
    "res_sim = linprog(c, A, b, bounds=[x_b, y_b],method = \"simplex\")\n",
    "print(res_sim)"
   ]
  },
  {
   "cell_type": "code",
   "execution_count": 16,
   "metadata": {},
   "outputs": [
    {
     "name": "stdout",
     "output_type": "stream",
     "text": [
      "2.4 ms ± 54.7 µs per loop (mean ± std. dev. of 7 runs, 100 loops each)\n"
     ]
    }
   ],
   "source": [
    "%timeit linprog(c, A, b, bounds=[x_b, y_b],method = \"interior-point\")"
   ]
  },
  {
   "cell_type": "code",
   "execution_count": 17,
   "metadata": {},
   "outputs": [
    {
     "name": "stdout",
     "output_type": "stream",
     "text": [
      "     con: array([], dtype=float64)\n",
      "     fun: -19.999999975883508\n",
      " message: 'Optimization terminated successfully.'\n",
      "     nit: 5\n",
      "   slack: array([3.30874599e-08, 1.49999999e+01])\n",
      "  status: 0\n",
      " success: True\n",
      "       x: array([2.00000000e+01, 1.51455219e-08])\n"
     ]
    }
   ],
   "source": [
    "res_int = linprog(c, A, b, bounds=[x_b, y_b],method = \"interior-point\")\n",
    "print(res_int)"
   ]
  },
  {
   "cell_type": "code",
   "execution_count": 18,
   "metadata": {},
   "outputs": [
    {
     "name": "stdout",
     "output_type": "stream",
     "text": [
      "1.33 ms ± 64.4 µs per loop (mean ± std. dev. of 7 runs, 1000 loops each)\n"
     ]
    }
   ],
   "source": [
    "%timeit linprog(c, A, b, bounds=[x_b, y_b],method = \"revised simplex\")"
   ]
  },
  {
   "cell_type": "code",
   "execution_count": 19,
   "metadata": {},
   "outputs": [
    {
     "name": "stdout",
     "output_type": "stream",
     "text": [
      "     con: array([], dtype=float64)\n",
      "     fun: -20.0\n",
      " message: 'Optimization terminated successfully.'\n",
      "     nit: 3\n",
      "   slack: array([ 0., 15.])\n",
      "  status: 0\n",
      " success: True\n",
      "       x: array([20.,  0.])\n"
     ]
    }
   ],
   "source": [
    "res_rev = linprog(c, A, b, bounds=[x_b, y_b],method = \"revised simplex\")\n",
    "print(res_rev)"
   ]
  },
  {
   "cell_type": "markdown",
   "metadata": {},
   "source": [
    "We can also see each iteration of each method."
   ]
  },
  {
   "cell_type": "code",
   "execution_count": 30,
   "metadata": {},
   "outputs": [
    {
     "name": "stdout",
     "output_type": "stream",
     "text": [
      "--------- Iteration 0  ---------\n",
      "\n",
      "--------- Iteration 1  ---------\n",
      "\n",
      "Current Pseudo-Objective Value:\n",
      "f =  -5.0\n",
      "\n",
      "Current Solution Vector:\n",
      "x =  [      5.0000       0.0000]\n",
      "\n",
      "--------- Simplex Complete --------\n",
      "\n",
      "Iterations required: 2\n",
      "Current Pseudo-Objective Value:\n",
      "f =  -17.0\n",
      "\n",
      "Current Solution Vector:\n",
      "x =  [     11.0000       6.0000]\n",
      "\n",
      "--------- Iteration 2  ---------\n",
      "\n",
      "Current Objective Value:\n",
      "f =  -17.0\n",
      "\n",
      "Current Solution Vector:\n",
      "x =  [     11.0000       6.0000]\n",
      "\n",
      "--------- Simplex Complete --------\n",
      "\n",
      "Iterations required: 3\n",
      "Current Objective Value:\n",
      "f =  -20.0\n",
      "\n",
      "Current Solution Vector:\n",
      "x =  [     20.0000       0.0000]\n",
      "\n",
      "     con: array([], dtype=float64)\n",
      "     fun: -20.0\n",
      " message: 'Optimization terminated successfully.'\n",
      "     nit: 3\n",
      "   slack: array([ 0., 15.])\n",
      "  status: 0\n",
      " success: True\n",
      "       x: array([20.,  0.])\n"
     ]
    }
   ],
   "source": [
    "res_sim = linprog(c, A, b, bounds=[x_b, y_b],method = \"simplex\",callback = linprog_verbose_callback)\n",
    "print(res_sim)"
   ]
  },
  {
   "cell_type": "code",
   "execution_count": 31,
   "metadata": {},
   "outputs": [
    {
     "name": "stdout",
     "output_type": "stream",
     "text": [
      "--------- Iteration 0  ---------\n",
      "\n",
      "--------- Iteration 1  ---------\n",
      "\n",
      "Current Pseudo-Objective Value:\n",
      "f =  -7.741922615729104\n",
      "\n",
      "Current Solution Vector:\n",
      "x =  [      5.6940       2.0479]\n",
      "\n",
      "--------- Iteration 2  ---------\n",
      "\n",
      "Current Pseudo-Objective Value:\n",
      "f =  -15.451214252962156\n",
      "\n",
      "Current Solution Vector:\n",
      "x =  [     11.9117       3.5395]\n",
      "\n",
      "--------- Iteration 3  ---------\n",
      "\n",
      "Current Pseudo-Objective Value:\n",
      "f =  -19.312022823150244\n",
      "\n",
      "Current Solution Vector:\n",
      "x =  [     19.3117       0.0003]\n",
      "\n",
      "--------- Iteration 4  ---------\n",
      "\n",
      "Current Pseudo-Objective Value:\n",
      "f =  -19.999517701876485\n",
      "\n",
      "Current Solution Vector:\n",
      "x =  [     19.9992       0.0003]\n",
      "\n",
      "--------- Iteration 5  ---------\n",
      "\n",
      "Current Pseudo-Objective Value:\n",
      "f =  -19.999999975883508\n",
      "\n",
      "Current Solution Vector:\n",
      "x =  [     20.0000       0.0000]\n",
      "\n",
      "     con: array([], dtype=float64)\n",
      "     fun: -19.999999975883508\n",
      " message: 'Optimization terminated successfully.'\n",
      "     nit: 5\n",
      "   slack: array([3.30874599e-08, 1.49999999e+01])\n",
      "  status: 0\n",
      " success: True\n",
      "       x: array([2.00000000e+01, 1.51455219e-08])\n"
     ]
    }
   ],
   "source": [
    "res_int = linprog(c, A, b, bounds=[x_b, y_b],method = \"interior-point\",callback = linprog_verbose_callback)\n",
    "print(res_int)"
   ]
  },
  {
   "cell_type": "code",
   "execution_count": 32,
   "metadata": {},
   "outputs": [
    {
     "name": "stdout",
     "output_type": "stream",
     "text": [
      "--------- Iteration 0  ---------\n",
      "\n",
      "--------- Iteration 1  ---------\n",
      "\n",
      "Current Pseudo-Objective Value:\n",
      "f =  -5.0\n",
      "\n",
      "Current Solution Vector:\n",
      "x =  [      5.0000       0.0000]\n",
      "\n",
      "--------- Iteration 1  ---------\n",
      "\n",
      "Current Objective Value:\n",
      "f =  -5.0\n",
      "\n",
      "Current Solution Vector:\n",
      "x =  [      5.0000       0.0000]\n",
      "\n",
      "--------- Iteration 2  ---------\n",
      "\n",
      "Current Objective Value:\n",
      "f =  -17.0\n",
      "\n",
      "Current Solution Vector:\n",
      "x =  [     11.0000       6.0000]\n",
      "\n",
      "--------- Iteration 3  ---------\n",
      "\n",
      "Current Objective Value:\n",
      "f =  -20.0\n",
      "\n",
      "Current Solution Vector:\n",
      "x =  [     20.0000       0.0000]\n",
      "\n",
      "     con: array([], dtype=float64)\n",
      "     fun: -20.0\n",
      " message: 'Optimization terminated successfully.'\n",
      "     nit: 3\n",
      "   slack: array([ 0., 15.])\n",
      "  status: 0\n",
      " success: True\n",
      "       x: array([20.,  0.])\n"
     ]
    }
   ],
   "source": [
    "res_rev = linprog(c, A, b, bounds=[x_b, y_b],method = \"revised simplex\",callback = linprog_verbose_callback)\n",
    "print(res_rev)"
   ]
  },
  {
   "cell_type": "markdown",
   "metadata": {},
   "source": [
    "Same result of comparisons between methods in terms of running time and accuracy!"
   ]
  },
  {
   "cell_type": "code",
   "execution_count": 23,
   "metadata": {},
   "outputs": [],
   "source": [
    "x_p = np.linspace(0,20,21)\n",
    "y_p = (40 - 2*x_p)/3\n",
    "x_d = np.linspace(0,20,21)\n",
    "y_d = x_d - 5\n",
    "y_1 = -5*np.ones(y_d.shape)\n",
    "x_obj = np.linspace(0,20,21)\n",
    "y_obj1 = 16 - x_obj\n",
    "y_obj2 = 18 - x_obj\n",
    "y_obj3 = 20 - x_obj\n",
    "y_obj4 = 22 - x_obj\n",
    "y_obj5 = 24 - x_obj"
   ]
  },
  {
   "cell_type": "code",
   "execution_count": 24,
   "metadata": {},
   "outputs": [
    {
     "data": {
      "image/png": "[encoded data removed]",
      "text/plain": [
       "<Figure size 432x288 with 1 Axes>"
      ]
     },
     "metadata": {
      "needs_background": "light"
     },
     "output_type": "display_data"
    }
   ],
   "source": [
    "plt.fill_between(x_p,y_p,y_1,color=\"r\",alpha = 0.1)\n",
    "plt.fill_between(x_d,y_d,y_1,color=\"g\",alpha = 0.1)\n",
    "plt.plot(x_obj,y_obj1,\"r-.\",x_obj,y_obj2,\"g-.\",x_obj,y_obj3,\"b-.\",x_obj,y_obj4,\"k-.\",x_obj,y_obj5,\"p-.\")\n",
    "plt.show()"
   ]
  },
  {
   "cell_type": "code",
   "execution_count": 25,
   "metadata": {},
   "outputs": [
    {
     "data": {
      "image/png": "[encoded data removed]",
      "text/plain": [
       "<Figure size 432x288 with 1 Axes>"
      ]
     },
     "metadata": {
      "needs_background": "light"
     },
     "output_type": "display_data"
    }
   ],
   "source": [
    "plt.plot(x_p,y_p,\"r\",x_d,y_d,\"g\",linewidth=1.9)\n",
    "plt.legend([\"price constraint\",\"difference constraint\"])\n",
    "\n",
    "plt.fill_between(x_p,y_p,y_1,where=y_p<=y_d,color=\"r\",alpha = 0.1)\n",
    "plt.fill_between(x_d,y_d,y_1,where=y_d<=y_p,color=\"g\",alpha = 0.1)\n",
    "\n",
    "plt.plot(x_obj,y_obj1,color=\"orange\",linestyle=\"-.\")\n",
    "plt.plot(x_obj,y_obj2,color=\"pink\",linestyle=\"-.\")\n",
    "plt.plot(x_obj,y_obj3,\"b-.\",x_obj,y_obj4,\"k-.\",x_obj,y_obj5,\"y-.\")\n",
    "plt.show()"
   ]
  },
  {
   "cell_type": "code",
   "execution_count": null,
   "metadata": {},
   "outputs": [],
   "source": []
  },
  {
   "cell_type": "markdown",
   "metadata": {},
   "source": [
    "### Example 3: [Linear Sum Assignment Problem](https://docs.scipy.org/doc/scipy/reference/generated/scipy.optimize.linear_sum_assignment.html#scipy.optimize.linear_sum_assignment)"
   ]
  },
  {
   "cell_type": "markdown",
   "metadata": {},
   "source": [
    "scipy.optimize provides a solver to a type of interesting problem called linear sum assignment problem. The problem goes as this: we have costs to assign a worker to a job, and we want to minimize the total costs of assignment, i.e.,\n",
    "\n",
    "$$\n",
    "\\begin{aligned}\n",
    "\\min \\quad \\sum_{i}\\sum_{j} C_{i,j}X_{i,j}\n",
    "\\end{aligned}\n",
    "$$\n",
    "\n",
    "where $X_{i,j}=1$ if worker i is assigned to job j and $C$ is the assignment costs matrix."
   ]
  },
  {
   "cell_type": "code",
   "execution_count": 26,
   "metadata": {},
   "outputs": [
    {
     "name": "stdout",
     "output_type": "stream",
     "text": [
      "[0 1 2 3]\n",
      "[1 3 2 0]\n"
     ]
    }
   ],
   "source": [
    "cost = np.array([[2,5,2,7], [4,2,6,8], [2,5,9,0],[8,0,2,6]])\n",
    "# not necessary to be square\n",
    "row_ind, col_ind = linear_sum_assignment(cost,maximize=True)\n",
    "print(row_ind)\n",
    "print(col_ind)\n",
    "# corresponding row and column indices of optimal assignment"
   ]
  },
  {
   "cell_type": "code",
   "execution_count": 27,
   "metadata": {},
   "outputs": [
    {
     "data": {
      "text/plain": [
       "30"
      ]
     },
     "execution_count": 27,
     "metadata": {},
     "output_type": "execute_result"
    }
   ],
   "source": [
    "cost[row_ind,col_ind].sum()\n",
    "# minimized costs"
   ]
  },
  {
   "cell_type": "code",
   "execution_count": 28,
   "metadata": {},
   "outputs": [
    {
     "data": {
      "text/plain": [
       "array([0, 1, 2, 3])"
      ]
     },
     "execution_count": 28,
     "metadata": {},
     "output_type": "execute_result"
    }
   ],
   "source": [
    "np.arange(cost.shape[0])\n",
    "# row indices are sorted"
   ]
  },
  {
   "cell_type": "code",
   "execution_count": 29,
   "metadata": {},
   "outputs": [
    {
     "data": {
      "text/latex": [
       "$\\displaystyle \\left[\\begin{matrix}0.0 & 1.0 & 0.0 & 0.0\\\\0.0 & 0.0 & 0.0 & 1.0\\\\0.0 & 0.0 & 1.0 & 0.0\\\\1.0 & 0.0 & 0.0 & 0.0\\end{matrix}\\right]$"
      ],
      "text/plain": [
       "Matrix([\n",
       "[0.0, 1.0, 0.0, 0.0],\n",
       "[0.0, 0.0, 0.0, 1.0],\n",
       "[0.0, 0.0, 1.0, 0.0],\n",
       "[1.0, 0.0, 0.0, 0.0]])"
      ]
     },
     "execution_count": 29,
     "metadata": {},
     "output_type": "execute_result"
    }
   ],
   "source": [
    "x = np.zeros(cost.shape)\n",
    "x[row_ind,col_ind] = 1\n",
    "Matrix(x)"
   ]
  },
  {
   "cell_type": "markdown",
   "metadata": {},
   "source": [
    "Details of parameters and output of this function can be refered to [here](https://docs.scipy.org/doc/scipy/reference/generated/scipy.optimize.linear_sum_assignment.html#scipy.optimize.linear_sum_assignment)"
   ]
  },
  {
   "cell_type": "markdown",
   "metadata": {},
   "source": [
    "![jupyter](./linear_sum_assignment.jpg)"
   ]
  },
  {
   "cell_type": "markdown",
   "metadata": {},
   "source": [
    "## Reference\n",
    "[1] *scipy.optimize document*: https://docs.scipy.org/doc/scipy/reference/optimize.html\n",
    "<br>\n",
    "[2] *Linear Programming (Explained With Diagrams)*: https://www.economicsdiscussion.net/linear-programming/linear-programming-explained-with-diagrams/5844"
   ]
  }
 ],
 "metadata": {
  "kernelspec": {
   "display_name": "Python 3",
   "language": "python",
   "name": "python3"
  },
  "language_info": {
   "codemirror_mode": {
    "name": "ipython",
    "version": 3
   },
   "file_extension": ".py",
   "mimetype": "text/x-python",
   "name": "python",
   "nbconvert_exporter": "python",
   "pygments_lexer": "ipython3",
   "version": "3.7.3"
  }
 },
 "nbformat": 4,
 "nbformat_minor": 2
}
