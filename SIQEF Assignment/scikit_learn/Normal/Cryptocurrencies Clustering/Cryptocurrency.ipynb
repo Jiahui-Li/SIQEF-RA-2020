{
 "cells": [
  {
   "cell_type": "markdown",
   "metadata": {},
   "source": [
    "# Preprocessing"
   ]
  },
  {
   "cell_type": "code",
   "execution_count": 38,
   "metadata": {},
   "outputs": [],
   "source": [
    "# Import dependencies\n",
    "import pandas as pd\n",
    "from sklearn.preprocessing import StandardScaler\n",
    "from sklearn.decomposition import PCA\n",
    "from sklearn.cluster import AgglomerativeClustering\n",
    "from sklearn.cluster import KMeans\n",
    "import hvplot.pandas\n",
    "import plotly.express as px\n",
    "import plotly.figure_factory as ff"
   ]
  },
  {
   "cell_type": "code",
   "execution_count": 39,
   "metadata": {},
   "outputs": [
    {
     "data": {
      "text/html": [
       "<div>\n",
       "<style scoped>\n",
       "    .dataframe tbody tr th:only-of-type {\n",
       "        vertical-align: middle;\n",
       "    }\n",
       "\n",
       "    .dataframe tbody tr th {\n",
       "        vertical-align: top;\n",
       "    }\n",
       "\n",
       "    .dataframe thead th {\n",
       "        text-align: right;\n",
       "    }\n",
       "</style>\n",
       "<table border=\"1\" class=\"dataframe\">\n",
       "  <thead>\n",
       "    <tr style=\"text-align: right;\">\n",
       "      <th></th>\n",
       "      <th>Unnamed: 0</th>\n",
       "      <th>CoinName</th>\n",
       "      <th>Algorithm</th>\n",
       "      <th>IsTrading</th>\n",
       "      <th>ProofType</th>\n",
       "      <th>TotalCoinsMined</th>\n",
       "      <th>TotalCoinSupply</th>\n",
       "    </tr>\n",
       "  </thead>\n",
       "  <tbody>\n",
       "    <tr>\n",
       "      <th>0</th>\n",
       "      <td>42</td>\n",
       "      <td>42 Coin</td>\n",
       "      <td>Scrypt</td>\n",
       "      <td>True</td>\n",
       "      <td>PoW/PoS</td>\n",
       "      <td>4.199995e+01</td>\n",
       "      <td>42</td>\n",
       "    </tr>\n",
       "    <tr>\n",
       "      <th>1</th>\n",
       "      <td>365</td>\n",
       "      <td>365Coin</td>\n",
       "      <td>X11</td>\n",
       "      <td>True</td>\n",
       "      <td>PoW/PoS</td>\n",
       "      <td>NaN</td>\n",
       "      <td>2300000000</td>\n",
       "    </tr>\n",
       "    <tr>\n",
       "      <th>2</th>\n",
       "      <td>404</td>\n",
       "      <td>404Coin</td>\n",
       "      <td>Scrypt</td>\n",
       "      <td>True</td>\n",
       "      <td>PoW/PoS</td>\n",
       "      <td>1.055185e+09</td>\n",
       "      <td>532000000</td>\n",
       "    </tr>\n",
       "    <tr>\n",
       "      <th>3</th>\n",
       "      <td>611</td>\n",
       "      <td>SixEleven</td>\n",
       "      <td>SHA-256</td>\n",
       "      <td>True</td>\n",
       "      <td>PoW</td>\n",
       "      <td>NaN</td>\n",
       "      <td>611000</td>\n",
       "    </tr>\n",
       "    <tr>\n",
       "      <th>4</th>\n",
       "      <td>808</td>\n",
       "      <td>808</td>\n",
       "      <td>SHA-256</td>\n",
       "      <td>True</td>\n",
       "      <td>PoW/PoS</td>\n",
       "      <td>0.000000e+00</td>\n",
       "      <td>0</td>\n",
       "    </tr>\n",
       "    <tr>\n",
       "      <th>5</th>\n",
       "      <td>1337</td>\n",
       "      <td>EliteCoin</td>\n",
       "      <td>X13</td>\n",
       "      <td>True</td>\n",
       "      <td>PoW/PoS</td>\n",
       "      <td>2.927942e+10</td>\n",
       "      <td>314159265359</td>\n",
       "    </tr>\n",
       "    <tr>\n",
       "      <th>6</th>\n",
       "      <td>2015</td>\n",
       "      <td>2015 coin</td>\n",
       "      <td>X11</td>\n",
       "      <td>True</td>\n",
       "      <td>PoW/PoS</td>\n",
       "      <td>NaN</td>\n",
       "      <td>0</td>\n",
       "    </tr>\n",
       "    <tr>\n",
       "      <th>7</th>\n",
       "      <td>BTC</td>\n",
       "      <td>Bitcoin</td>\n",
       "      <td>SHA-256</td>\n",
       "      <td>True</td>\n",
       "      <td>PoW</td>\n",
       "      <td>1.792718e+07</td>\n",
       "      <td>21000000</td>\n",
       "    </tr>\n",
       "    <tr>\n",
       "      <th>8</th>\n",
       "      <td>ETH</td>\n",
       "      <td>Ethereum</td>\n",
       "      <td>Ethash</td>\n",
       "      <td>True</td>\n",
       "      <td>PoW</td>\n",
       "      <td>1.076842e+08</td>\n",
       "      <td>0</td>\n",
       "    </tr>\n",
       "    <tr>\n",
       "      <th>9</th>\n",
       "      <td>LTC</td>\n",
       "      <td>Litecoin</td>\n",
       "      <td>Scrypt</td>\n",
       "      <td>True</td>\n",
       "      <td>PoW</td>\n",
       "      <td>6.303924e+07</td>\n",
       "      <td>84000000</td>\n",
       "    </tr>\n",
       "  </tbody>\n",
       "</table>\n",
       "</div>"
      ],
      "text/plain": [
       "  Unnamed: 0   CoinName Algorithm  IsTrading ProofType  TotalCoinsMined  \\\n",
       "0         42    42 Coin    Scrypt       True   PoW/PoS     4.199995e+01   \n",
       "1        365    365Coin       X11       True   PoW/PoS              NaN   \n",
       "2        404    404Coin    Scrypt       True   PoW/PoS     1.055185e+09   \n",
       "3        611  SixEleven   SHA-256       True       PoW              NaN   \n",
       "4        808        808   SHA-256       True   PoW/PoS     0.000000e+00   \n",
       "5       1337  EliteCoin       X13       True   PoW/PoS     2.927942e+10   \n",
       "6       2015  2015 coin       X11       True   PoW/PoS              NaN   \n",
       "7        BTC    Bitcoin   SHA-256       True       PoW     1.792718e+07   \n",
       "8        ETH   Ethereum    Ethash       True       PoW     1.076842e+08   \n",
       "9        LTC   Litecoin    Scrypt       True       PoW     6.303924e+07   \n",
       "\n",
       "  TotalCoinSupply  \n",
       "0              42  \n",
       "1      2300000000  \n",
       "2       532000000  \n",
       "3          611000  \n",
       "4               0  \n",
       "5    314159265359  \n",
       "6               0  \n",
       "7        21000000  \n",
       "8               0  \n",
       "9        84000000  "
      ]
     },
     "execution_count": 39,
     "metadata": {},
     "output_type": "execute_result"
    }
   ],
   "source": [
    "# Load the data\n",
    "file_path = \"./Resources/crypto_data.csv\"\n",
    "crypto_df = pd.read_csv(file_path)\n",
    "crypto_df.head(10)"
   ]
  },
  {
   "cell_type": "code",
   "execution_count": 40,
   "metadata": {},
   "outputs": [
    {
     "data": {
      "text/plain": [
       "(1252, 7)"
      ]
     },
     "execution_count": 40,
     "metadata": {},
     "output_type": "execute_result"
    }
   ],
   "source": [
    "crypto_df.count()\n",
    "crypto_df.shape"
   ]
  },
  {
   "cell_type": "code",
   "execution_count": 41,
   "metadata": {},
   "outputs": [
    {
     "data": {
      "text/plain": [
       "Unnamed: 0          object\n",
       "CoinName            object\n",
       "Algorithm           object\n",
       "IsTrading             bool\n",
       "ProofType           object\n",
       "TotalCoinsMined    float64\n",
       "TotalCoinSupply     object\n",
       "dtype: object"
      ]
     },
     "execution_count": 41,
     "metadata": {},
     "output_type": "execute_result"
    }
   ],
   "source": [
    "crypto_df.dtypes"
   ]
  },
  {
   "cell_type": "code",
   "execution_count": 42,
   "metadata": {},
   "outputs": [
    {
     "data": {
      "text/plain": [
       "Index(['Unnamed: 0', 'CoinName', 'Algorithm', 'IsTrading', 'ProofType',\n",
       "       'TotalCoinsMined', 'TotalCoinSupply'],\n",
       "      dtype='object')"
      ]
     },
     "execution_count": 42,
     "metadata": {},
     "output_type": "execute_result"
    }
   ],
   "source": [
    "crypto_df.columns"
   ]
  },
  {
   "cell_type": "code",
   "execution_count": 43,
   "metadata": {},
   "outputs": [
    {
     "data": {
      "text/plain": [
       "(1144, 7)"
      ]
     },
     "execution_count": 43,
     "metadata": {},
     "output_type": "execute_result"
    }
   ],
   "source": [
    "# STEP 1\n",
    "# Remove all cryptocurrencies that aren’t trading\n",
    "#crypto_df[crypto_df[\"IsTrading\"] == True].count()\n",
    "crypto_df.drop(crypto_df[crypto_df[\"IsTrading\"] == False].index, inplace=True)\n",
    "crypto_df.shape"
   ]
  },
  {
   "cell_type": "markdown",
   "metadata": {},
   "source": [
    "108 cryptocurrencies were removed because they are not trading, leaving the new dataframe with 1144 cryptocurrencies"
   ]
  },
  {
   "cell_type": "code",
   "execution_count": 44,
   "metadata": {},
   "outputs": [
    {
     "name": "stdout",
     "output_type": "stream",
     "text": [
      "Column Unnamed: 0 has 0 null values\n",
      "Column CoinName has 0 null values\n",
      "Column Algorithm has 0 null values\n",
      "Column IsTrading has 0 null values\n",
      "Column ProofType has 0 null values\n",
      "Column TotalCoinsMined has 459 null values\n",
      "Column TotalCoinSupply has 0 null values\n"
     ]
    }
   ],
   "source": [
    "# STEP 2\n",
    "# Remove all cryptocurrencies that don’t have an algorithm defined\n",
    "for column in crypto_df.columns:\n",
    "    print(f\"Column {column} has {crypto_df[column].isnull().sum()} null values\")"
   ]
  },
  {
   "cell_type": "markdown",
   "metadata": {},
   "source": [
    "When we explore the dataset for null values we see that all cryptocurrencies have a defined algorithm, meaning there are no null values for the Algorithm column. "
   ]
  },
  {
   "cell_type": "code",
   "execution_count": 45,
   "metadata": {},
   "outputs": [
    {
     "data": {
      "text/html": [
       "<div>\n",
       "<style scoped>\n",
       "    .dataframe tbody tr th:only-of-type {\n",
       "        vertical-align: middle;\n",
       "    }\n",
       "\n",
       "    .dataframe tbody tr th {\n",
       "        vertical-align: top;\n",
       "    }\n",
       "\n",
       "    .dataframe thead th {\n",
       "        text-align: right;\n",
       "    }\n",
       "</style>\n",
       "<table border=\"1\" class=\"dataframe\">\n",
       "  <thead>\n",
       "    <tr style=\"text-align: right;\">\n",
       "      <th></th>\n",
       "      <th>Unnamed: 0</th>\n",
       "      <th>CoinName</th>\n",
       "      <th>Algorithm</th>\n",
       "      <th>ProofType</th>\n",
       "      <th>TotalCoinsMined</th>\n",
       "      <th>TotalCoinSupply</th>\n",
       "    </tr>\n",
       "  </thead>\n",
       "  <tbody>\n",
       "    <tr>\n",
       "      <th>0</th>\n",
       "      <td>42</td>\n",
       "      <td>42 Coin</td>\n",
       "      <td>Scrypt</td>\n",
       "      <td>PoW/PoS</td>\n",
       "      <td>4.199995e+01</td>\n",
       "      <td>42</td>\n",
       "    </tr>\n",
       "    <tr>\n",
       "      <th>1</th>\n",
       "      <td>365</td>\n",
       "      <td>365Coin</td>\n",
       "      <td>X11</td>\n",
       "      <td>PoW/PoS</td>\n",
       "      <td>NaN</td>\n",
       "      <td>2300000000</td>\n",
       "    </tr>\n",
       "    <tr>\n",
       "      <th>2</th>\n",
       "      <td>404</td>\n",
       "      <td>404Coin</td>\n",
       "      <td>Scrypt</td>\n",
       "      <td>PoW/PoS</td>\n",
       "      <td>1.055185e+09</td>\n",
       "      <td>532000000</td>\n",
       "    </tr>\n",
       "    <tr>\n",
       "      <th>3</th>\n",
       "      <td>611</td>\n",
       "      <td>SixEleven</td>\n",
       "      <td>SHA-256</td>\n",
       "      <td>PoW</td>\n",
       "      <td>NaN</td>\n",
       "      <td>611000</td>\n",
       "    </tr>\n",
       "    <tr>\n",
       "      <th>4</th>\n",
       "      <td>808</td>\n",
       "      <td>808</td>\n",
       "      <td>SHA-256</td>\n",
       "      <td>PoW/PoS</td>\n",
       "      <td>0.000000e+00</td>\n",
       "      <td>0</td>\n",
       "    </tr>\n",
       "  </tbody>\n",
       "</table>\n",
       "</div>"
      ],
      "text/plain": [
       "  Unnamed: 0   CoinName Algorithm ProofType  TotalCoinsMined TotalCoinSupply\n",
       "0         42    42 Coin    Scrypt   PoW/PoS     4.199995e+01              42\n",
       "1        365    365Coin       X11   PoW/PoS              NaN      2300000000\n",
       "2        404    404Coin    Scrypt   PoW/PoS     1.055185e+09       532000000\n",
       "3        611  SixEleven   SHA-256       PoW              NaN          611000\n",
       "4        808        808   SHA-256   PoW/PoS     0.000000e+00               0"
      ]
     },
     "execution_count": 45,
     "metadata": {},
     "output_type": "execute_result"
    }
   ],
   "source": [
    "# STEP 3\n",
    "# Remove the IsTrading column.\n",
    "crypto_df.drop(columns=[\"IsTrading\"], inplace=True)\n",
    "crypto_df.head()"
   ]
  },
  {
   "cell_type": "code",
   "execution_count": 46,
   "metadata": {},
   "outputs": [
    {
     "data": {
      "text/plain": [
       "(685, 6)"
      ]
     },
     "execution_count": 46,
     "metadata": {},
     "output_type": "execute_result"
    }
   ],
   "source": [
    "# STEP 4\n",
    "# Remove all cryptocurrencies with at least one null value.\n",
    "crypto_df = crypto_df.dropna()\n",
    "crypto_df.shape"
   ]
  },
  {
   "cell_type": "markdown",
   "metadata": {},
   "source": [
    "We can see from an exploratory analysis we did during Step 2 that there were 459 null values in the TotalCoinsMined column. Those 459 rows were dropped, leaving us with 685 rows."
   ]
  },
  {
   "cell_type": "code",
   "execution_count": 47,
   "metadata": {},
   "outputs": [],
   "source": [
    "# STEP 5\n",
    "# Remove all cryptocurrencies without coins mined.\n",
    "crypto_df.drop(crypto_df[crypto_df[\"TotalCoinsMined\"] <= 0].index, inplace=True)"
   ]
  },
  {
   "cell_type": "code",
   "execution_count": 48,
   "metadata": {},
   "outputs": [
    {
     "data": {
      "text/html": [
       "<div>\n",
       "<style scoped>\n",
       "    .dataframe tbody tr th:only-of-type {\n",
       "        vertical-align: middle;\n",
       "    }\n",
       "\n",
       "    .dataframe tbody tr th {\n",
       "        vertical-align: top;\n",
       "    }\n",
       "\n",
       "    .dataframe thead th {\n",
       "        text-align: right;\n",
       "    }\n",
       "</style>\n",
       "<table border=\"1\" class=\"dataframe\">\n",
       "  <thead>\n",
       "    <tr style=\"text-align: right;\">\n",
       "      <th></th>\n",
       "      <th>Unnamed: 0</th>\n",
       "      <th>CoinName</th>\n",
       "      <th>Algorithm</th>\n",
       "      <th>ProofType</th>\n",
       "      <th>TotalCoinsMined</th>\n",
       "      <th>TotalCoinSupply</th>\n",
       "    </tr>\n",
       "  </thead>\n",
       "  <tbody>\n",
       "    <tr>\n",
       "      <th>0</th>\n",
       "      <td>42</td>\n",
       "      <td>42 Coin</td>\n",
       "      <td>Scrypt</td>\n",
       "      <td>PoW/PoS</td>\n",
       "      <td>4.199995e+01</td>\n",
       "      <td>42</td>\n",
       "    </tr>\n",
       "    <tr>\n",
       "      <th>2</th>\n",
       "      <td>404</td>\n",
       "      <td>404Coin</td>\n",
       "      <td>Scrypt</td>\n",
       "      <td>PoW/PoS</td>\n",
       "      <td>1.055185e+09</td>\n",
       "      <td>532000000</td>\n",
       "    </tr>\n",
       "    <tr>\n",
       "      <th>5</th>\n",
       "      <td>1337</td>\n",
       "      <td>EliteCoin</td>\n",
       "      <td>X13</td>\n",
       "      <td>PoW/PoS</td>\n",
       "      <td>2.927942e+10</td>\n",
       "      <td>314159265359</td>\n",
       "    </tr>\n",
       "    <tr>\n",
       "      <th>7</th>\n",
       "      <td>BTC</td>\n",
       "      <td>Bitcoin</td>\n",
       "      <td>SHA-256</td>\n",
       "      <td>PoW</td>\n",
       "      <td>1.792718e+07</td>\n",
       "      <td>21000000</td>\n",
       "    </tr>\n",
       "    <tr>\n",
       "      <th>8</th>\n",
       "      <td>ETH</td>\n",
       "      <td>Ethereum</td>\n",
       "      <td>Ethash</td>\n",
       "      <td>PoW</td>\n",
       "      <td>1.076842e+08</td>\n",
       "      <td>0</td>\n",
       "    </tr>\n",
       "  </tbody>\n",
       "</table>\n",
       "</div>"
      ],
      "text/plain": [
       "  Unnamed: 0   CoinName Algorithm ProofType  TotalCoinsMined TotalCoinSupply\n",
       "0         42    42 Coin    Scrypt   PoW/PoS     4.199995e+01              42\n",
       "2        404    404Coin    Scrypt   PoW/PoS     1.055185e+09       532000000\n",
       "5       1337  EliteCoin       X13   PoW/PoS     2.927942e+10    314159265359\n",
       "7        BTC    Bitcoin   SHA-256       PoW     1.792718e+07        21000000\n",
       "8        ETH   Ethereum    Ethash       PoW     1.076842e+08               0"
      ]
     },
     "execution_count": 48,
     "metadata": {},
     "output_type": "execute_result"
    }
   ],
   "source": [
    "crypto_df.head()"
   ]
  },
  {
   "cell_type": "markdown",
   "metadata": {},
   "source": [
    "Finding and removies all cryptocurrencies with less than or equal to 0 coins mined; leaving our dataframe with 532 cryptocurrencies."
   ]
  },
  {
   "cell_type": "code",
   "execution_count": 49,
   "metadata": {},
   "outputs": [
    {
     "data": {
      "text/html": [
       "<div>\n",
       "<style scoped>\n",
       "    .dataframe tbody tr th:only-of-type {\n",
       "        vertical-align: middle;\n",
       "    }\n",
       "\n",
       "    .dataframe tbody tr th {\n",
       "        vertical-align: top;\n",
       "    }\n",
       "\n",
       "    .dataframe thead th {\n",
       "        text-align: right;\n",
       "    }\n",
       "</style>\n",
       "<table border=\"1\" class=\"dataframe\">\n",
       "  <thead>\n",
       "    <tr style=\"text-align: right;\">\n",
       "      <th></th>\n",
       "      <th>Unnamed: 0</th>\n",
       "      <th>CoinName</th>\n",
       "      <th>Algorithm</th>\n",
       "      <th>ProofType</th>\n",
       "      <th>TotalCoinsMined</th>\n",
       "      <th>TotalCoinSupply</th>\n",
       "    </tr>\n",
       "  </thead>\n",
       "  <tbody>\n",
       "    <tr>\n",
       "      <th>0</th>\n",
       "      <td>42</td>\n",
       "      <td>42 Coin</td>\n",
       "      <td>Scrypt</td>\n",
       "      <td>PoW/PoS</td>\n",
       "      <td>4.199995e+01</td>\n",
       "      <td>42</td>\n",
       "    </tr>\n",
       "    <tr>\n",
       "      <th>2</th>\n",
       "      <td>404</td>\n",
       "      <td>404Coin</td>\n",
       "      <td>Scrypt</td>\n",
       "      <td>PoW/PoS</td>\n",
       "      <td>1.055185e+09</td>\n",
       "      <td>532000000</td>\n",
       "    </tr>\n",
       "    <tr>\n",
       "      <th>5</th>\n",
       "      <td>1337</td>\n",
       "      <td>EliteCoin</td>\n",
       "      <td>X13</td>\n",
       "      <td>PoW/PoS</td>\n",
       "      <td>2.927942e+10</td>\n",
       "      <td>314159265359</td>\n",
       "    </tr>\n",
       "    <tr>\n",
       "      <th>7</th>\n",
       "      <td>BTC</td>\n",
       "      <td>Bitcoin</td>\n",
       "      <td>SHA-256</td>\n",
       "      <td>PoW</td>\n",
       "      <td>1.792718e+07</td>\n",
       "      <td>21000000</td>\n",
       "    </tr>\n",
       "    <tr>\n",
       "      <th>8</th>\n",
       "      <td>ETH</td>\n",
       "      <td>Ethereum</td>\n",
       "      <td>Ethash</td>\n",
       "      <td>PoW</td>\n",
       "      <td>1.076842e+08</td>\n",
       "      <td>0</td>\n",
       "    </tr>\n",
       "  </tbody>\n",
       "</table>\n",
       "</div>"
      ],
      "text/plain": [
       "  Unnamed: 0   CoinName Algorithm ProofType  TotalCoinsMined TotalCoinSupply\n",
       "0         42    42 Coin    Scrypt   PoW/PoS     4.199995e+01              42\n",
       "2        404    404Coin    Scrypt   PoW/PoS     1.055185e+09       532000000\n",
       "5       1337  EliteCoin       X13   PoW/PoS     2.927942e+10    314159265359\n",
       "7        BTC    Bitcoin   SHA-256       PoW     1.792718e+07        21000000\n",
       "8        ETH   Ethereum    Ethash       PoW     1.076842e+08               0"
      ]
     },
     "execution_count": 49,
     "metadata": {},
     "output_type": "execute_result"
    }
   ],
   "source": [
    "# Create a cleaned dataframe\n",
    "clean_crypto_df = crypto_df\n",
    "clean_crypto_df.head()"
   ]
  },
  {
   "cell_type": "code",
   "execution_count": 50,
   "metadata": {},
   "outputs": [
    {
     "data": {
      "text/plain": [
       "(532, 6)"
      ]
     },
     "execution_count": 50,
     "metadata": {},
     "output_type": "execute_result"
    }
   ],
   "source": [
    "clean_crypto_df.shape"
   ]
  },
  {
   "cell_type": "code",
   "execution_count": 51,
   "metadata": {},
   "outputs": [
    {
     "data": {
      "text/html": [
       "<div>\n",
       "<style scoped>\n",
       "    .dataframe tbody tr th:only-of-type {\n",
       "        vertical-align: middle;\n",
       "    }\n",
       "\n",
       "    .dataframe tbody tr th {\n",
       "        vertical-align: top;\n",
       "    }\n",
       "\n",
       "    .dataframe thead th {\n",
       "        text-align: right;\n",
       "    }\n",
       "</style>\n",
       "<table border=\"1\" class=\"dataframe\">\n",
       "  <thead>\n",
       "    <tr style=\"text-align: right;\">\n",
       "      <th></th>\n",
       "      <th>CoinName</th>\n",
       "    </tr>\n",
       "    <tr>\n",
       "      <th>Unnamed: 0</th>\n",
       "      <th></th>\n",
       "    </tr>\n",
       "  </thead>\n",
       "  <tbody>\n",
       "    <tr>\n",
       "      <th>42</th>\n",
       "      <td>42 Coin</td>\n",
       "    </tr>\n",
       "    <tr>\n",
       "      <th>404</th>\n",
       "      <td>404Coin</td>\n",
       "    </tr>\n",
       "    <tr>\n",
       "      <th>1337</th>\n",
       "      <td>EliteCoin</td>\n",
       "    </tr>\n",
       "    <tr>\n",
       "      <th>BTC</th>\n",
       "      <td>Bitcoin</td>\n",
       "    </tr>\n",
       "    <tr>\n",
       "      <th>ETH</th>\n",
       "      <td>Ethereum</td>\n",
       "    </tr>\n",
       "    <tr>\n",
       "      <th>LTC</th>\n",
       "      <td>Litecoin</td>\n",
       "    </tr>\n",
       "    <tr>\n",
       "      <th>DASH</th>\n",
       "      <td>Dash</td>\n",
       "    </tr>\n",
       "    <tr>\n",
       "      <th>XMR</th>\n",
       "      <td>Monero</td>\n",
       "    </tr>\n",
       "    <tr>\n",
       "      <th>ETC</th>\n",
       "      <td>Ethereum Classic</td>\n",
       "    </tr>\n",
       "    <tr>\n",
       "      <th>ZEC</th>\n",
       "      <td>ZCash</td>\n",
       "    </tr>\n",
       "    <tr>\n",
       "      <th>BTS</th>\n",
       "      <td>Bitshares</td>\n",
       "    </tr>\n",
       "    <tr>\n",
       "      <th>DGB</th>\n",
       "      <td>DigiByte</td>\n",
       "    </tr>\n",
       "    <tr>\n",
       "      <th>BTCD</th>\n",
       "      <td>BitcoinDark</td>\n",
       "    </tr>\n",
       "    <tr>\n",
       "      <th>XPY</th>\n",
       "      <td>PayCoin</td>\n",
       "    </tr>\n",
       "    <tr>\n",
       "      <th>PRC</th>\n",
       "      <td>ProsperCoin</td>\n",
       "    </tr>\n",
       "    <tr>\n",
       "      <th>KOBO</th>\n",
       "      <td>KoboCoin</td>\n",
       "    </tr>\n",
       "    <tr>\n",
       "      <th>SPR</th>\n",
       "      <td>Spreadcoin</td>\n",
       "    </tr>\n",
       "    <tr>\n",
       "      <th>ARG</th>\n",
       "      <td>Argentum</td>\n",
       "    </tr>\n",
       "    <tr>\n",
       "      <th>AUR</th>\n",
       "      <td>Aurora Coin</td>\n",
       "    </tr>\n",
       "    <tr>\n",
       "      <th>BLU</th>\n",
       "      <td>BlueCoin</td>\n",
       "    </tr>\n",
       "    <tr>\n",
       "      <th>XMY</th>\n",
       "      <td>MyriadCoin</td>\n",
       "    </tr>\n",
       "    <tr>\n",
       "      <th>MOON</th>\n",
       "      <td>MoonCoin</td>\n",
       "    </tr>\n",
       "    <tr>\n",
       "      <th>ZET</th>\n",
       "      <td>ZetaCoin</td>\n",
       "    </tr>\n",
       "    <tr>\n",
       "      <th>SXC</th>\n",
       "      <td>SexCoin</td>\n",
       "    </tr>\n",
       "    <tr>\n",
       "      <th>QTL</th>\n",
       "      <td>Quatloo</td>\n",
       "    </tr>\n",
       "    <tr>\n",
       "      <th>ENRG</th>\n",
       "      <td>EnergyCoin</td>\n",
       "    </tr>\n",
       "    <tr>\n",
       "      <th>QRK</th>\n",
       "      <td>QuarkCoin</td>\n",
       "    </tr>\n",
       "    <tr>\n",
       "      <th>RIC</th>\n",
       "      <td>Riecoin</td>\n",
       "    </tr>\n",
       "    <tr>\n",
       "      <th>DGC</th>\n",
       "      <td>Digitalcoin</td>\n",
       "    </tr>\n",
       "    <tr>\n",
       "      <th>BTB</th>\n",
       "      <td>BitBar</td>\n",
       "    </tr>\n",
       "    <tr>\n",
       "      <th>...</th>\n",
       "      <td>...</td>\n",
       "    </tr>\n",
       "    <tr>\n",
       "      <th>SMLY</th>\n",
       "      <td>SmileyCoin</td>\n",
       "    </tr>\n",
       "    <tr>\n",
       "      <th>MI</th>\n",
       "      <td>XiaoMiCoin</td>\n",
       "    </tr>\n",
       "    <tr>\n",
       "      <th>GRS</th>\n",
       "      <td>Groestlcoin</td>\n",
       "    </tr>\n",
       "    <tr>\n",
       "      <th>CPC</th>\n",
       "      <td>CapriCoin</td>\n",
       "    </tr>\n",
       "    <tr>\n",
       "      <th>CLUB</th>\n",
       "      <td>ClubCoin</td>\n",
       "    </tr>\n",
       "    <tr>\n",
       "      <th>RADS</th>\n",
       "      <td>Radium</td>\n",
       "    </tr>\n",
       "    <tr>\n",
       "      <th>BTA</th>\n",
       "      <td>Bata</td>\n",
       "    </tr>\n",
       "    <tr>\n",
       "      <th>PAK</th>\n",
       "      <td>Pakcoin</td>\n",
       "    </tr>\n",
       "    <tr>\n",
       "      <th>CRB</th>\n",
       "      <td>Creditbit</td>\n",
       "    </tr>\n",
       "    <tr>\n",
       "      <th>OK</th>\n",
       "      <td>OKCash</td>\n",
       "    </tr>\n",
       "    <tr>\n",
       "      <th>LSK</th>\n",
       "      <td>Lisk</td>\n",
       "    </tr>\n",
       "    <tr>\n",
       "      <th>XHI</th>\n",
       "      <td>HiCoin</td>\n",
       "    </tr>\n",
       "    <tr>\n",
       "      <th>XWC</th>\n",
       "      <td>WhiteCoin</td>\n",
       "    </tr>\n",
       "    <tr>\n",
       "      <th>FSC</th>\n",
       "      <td>FriendshipCoin</td>\n",
       "    </tr>\n",
       "    <tr>\n",
       "      <th>J</th>\n",
       "      <td>JoinCoin</td>\n",
       "    </tr>\n",
       "    <tr>\n",
       "      <th>TRI</th>\n",
       "      <td>Triangles Coin</td>\n",
       "    </tr>\n",
       "    <tr>\n",
       "      <th>VOLLAR</th>\n",
       "      <td>Vollar</td>\n",
       "    </tr>\n",
       "    <tr>\n",
       "      <th>EOS</th>\n",
       "      <td>EOS</td>\n",
       "    </tr>\n",
       "    <tr>\n",
       "      <th>RCC</th>\n",
       "      <td>Reality Clash</td>\n",
       "    </tr>\n",
       "    <tr>\n",
       "      <th>OXY</th>\n",
       "      <td>Oxycoin</td>\n",
       "    </tr>\n",
       "    <tr>\n",
       "      <th>TCH</th>\n",
       "      <td>TigerCash</td>\n",
       "    </tr>\n",
       "    <tr>\n",
       "      <th>WAVES</th>\n",
       "      <td>Waves</td>\n",
       "    </tr>\n",
       "    <tr>\n",
       "      <th>PART</th>\n",
       "      <td>Particl</td>\n",
       "    </tr>\n",
       "    <tr>\n",
       "      <th>BTT</th>\n",
       "      <td>BitTorrent</td>\n",
       "    </tr>\n",
       "    <tr>\n",
       "      <th>NXT</th>\n",
       "      <td>Nxt</td>\n",
       "    </tr>\n",
       "    <tr>\n",
       "      <th>ZEPH</th>\n",
       "      <td>ZEPHYR</td>\n",
       "    </tr>\n",
       "    <tr>\n",
       "      <th>GAP</th>\n",
       "      <td>Gapcoin</td>\n",
       "    </tr>\n",
       "    <tr>\n",
       "      <th>BDX</th>\n",
       "      <td>Beldex</td>\n",
       "    </tr>\n",
       "    <tr>\n",
       "      <th>ZEN</th>\n",
       "      <td>Horizen</td>\n",
       "    </tr>\n",
       "    <tr>\n",
       "      <th>XBC</th>\n",
       "      <td>BitcoinPlus</td>\n",
       "    </tr>\n",
       "  </tbody>\n",
       "</table>\n",
       "<p>532 rows × 1 columns</p>\n",
       "</div>"
      ],
      "text/plain": [
       "                    CoinName\n",
       "Unnamed: 0                  \n",
       "42                   42 Coin\n",
       "404                  404Coin\n",
       "1337               EliteCoin\n",
       "BTC                  Bitcoin\n",
       "ETH                 Ethereum\n",
       "LTC                 Litecoin\n",
       "DASH                    Dash\n",
       "XMR                   Monero\n",
       "ETC         Ethereum Classic\n",
       "ZEC                    ZCash\n",
       "BTS                Bitshares\n",
       "DGB                 DigiByte\n",
       "BTCD             BitcoinDark\n",
       "XPY                  PayCoin\n",
       "PRC              ProsperCoin\n",
       "KOBO                KoboCoin\n",
       "SPR               Spreadcoin\n",
       "ARG                 Argentum\n",
       "AUR              Aurora Coin\n",
       "BLU                 BlueCoin\n",
       "XMY               MyriadCoin\n",
       "MOON                MoonCoin\n",
       "ZET                 ZetaCoin\n",
       "SXC                  SexCoin\n",
       "QTL                  Quatloo\n",
       "ENRG              EnergyCoin\n",
       "QRK                QuarkCoin\n",
       "RIC                  Riecoin\n",
       "DGC             Digitalcoin \n",
       "BTB                   BitBar\n",
       "...                      ...\n",
       "SMLY              SmileyCoin\n",
       "MI                XiaoMiCoin\n",
       "GRS              Groestlcoin\n",
       "CPC                CapriCoin\n",
       "CLUB                ClubCoin\n",
       "RADS                  Radium\n",
       "BTA                     Bata\n",
       "PAK                  Pakcoin\n",
       "CRB               Creditbit \n",
       "OK                    OKCash\n",
       "LSK                     Lisk\n",
       "XHI                   HiCoin\n",
       "XWC                WhiteCoin\n",
       "FSC           FriendshipCoin\n",
       "J                   JoinCoin\n",
       "TRI           Triangles Coin\n",
       "VOLLAR                Vollar\n",
       "EOS                      EOS\n",
       "RCC            Reality Clash\n",
       "OXY                  Oxycoin\n",
       "TCH                TigerCash\n",
       "WAVES                  Waves\n",
       "PART                 Particl\n",
       "BTT               BitTorrent\n",
       "NXT                      Nxt\n",
       "ZEPH                  ZEPHYR\n",
       "GAP                  Gapcoin\n",
       "BDX                   Beldex\n",
       "ZEN                  Horizen\n",
       "XBC              BitcoinPlus\n",
       "\n",
       "[532 rows x 1 columns]"
      ]
     },
     "execution_count": 51,
     "metadata": {},
     "output_type": "execute_result"
    }
   ],
   "source": [
    "# STEP 6\n",
    "# Store the names of all cryptocurrencies on a DataFramed named coins_name, \n",
    "# and use the crypto_df.index as the index for this new DataFrame.\n",
    "coins_name = pd.DataFrame(clean_crypto_df[[\"Unnamed: 0\", \"CoinName\"]])\n",
    "coins_name.set_index(\"Unnamed: 0\", drop=True, inplace=True)\n",
    "coins_name"
   ]
  },
  {
   "cell_type": "code",
   "execution_count": 52,
   "metadata": {},
   "outputs": [
    {
     "data": {
      "text/html": [
       "<div>\n",
       "<style scoped>\n",
       "    .dataframe tbody tr th:only-of-type {\n",
       "        vertical-align: middle;\n",
       "    }\n",
       "\n",
       "    .dataframe tbody tr th {\n",
       "        vertical-align: top;\n",
       "    }\n",
       "\n",
       "    .dataframe thead th {\n",
       "        text-align: right;\n",
       "    }\n",
       "</style>\n",
       "<table border=\"1\" class=\"dataframe\">\n",
       "  <thead>\n",
       "    <tr style=\"text-align: right;\">\n",
       "      <th></th>\n",
       "      <th>Unnamed: 0</th>\n",
       "      <th>Algorithm</th>\n",
       "      <th>ProofType</th>\n",
       "      <th>TotalCoinsMined</th>\n",
       "      <th>TotalCoinSupply</th>\n",
       "    </tr>\n",
       "  </thead>\n",
       "  <tbody>\n",
       "    <tr>\n",
       "      <th>0</th>\n",
       "      <td>42</td>\n",
       "      <td>Scrypt</td>\n",
       "      <td>PoW/PoS</td>\n",
       "      <td>4.199995e+01</td>\n",
       "      <td>42</td>\n",
       "    </tr>\n",
       "    <tr>\n",
       "      <th>2</th>\n",
       "      <td>404</td>\n",
       "      <td>Scrypt</td>\n",
       "      <td>PoW/PoS</td>\n",
       "      <td>1.055185e+09</td>\n",
       "      <td>532000000</td>\n",
       "    </tr>\n",
       "    <tr>\n",
       "      <th>5</th>\n",
       "      <td>1337</td>\n",
       "      <td>X13</td>\n",
       "      <td>PoW/PoS</td>\n",
       "      <td>2.927942e+10</td>\n",
       "      <td>314159265359</td>\n",
       "    </tr>\n",
       "    <tr>\n",
       "      <th>7</th>\n",
       "      <td>BTC</td>\n",
       "      <td>SHA-256</td>\n",
       "      <td>PoW</td>\n",
       "      <td>1.792718e+07</td>\n",
       "      <td>21000000</td>\n",
       "    </tr>\n",
       "    <tr>\n",
       "      <th>8</th>\n",
       "      <td>ETH</td>\n",
       "      <td>Ethash</td>\n",
       "      <td>PoW</td>\n",
       "      <td>1.076842e+08</td>\n",
       "      <td>0</td>\n",
       "    </tr>\n",
       "    <tr>\n",
       "      <th>9</th>\n",
       "      <td>LTC</td>\n",
       "      <td>Scrypt</td>\n",
       "      <td>PoW</td>\n",
       "      <td>6.303924e+07</td>\n",
       "      <td>84000000</td>\n",
       "    </tr>\n",
       "    <tr>\n",
       "      <th>10</th>\n",
       "      <td>DASH</td>\n",
       "      <td>X11</td>\n",
       "      <td>PoW/PoS</td>\n",
       "      <td>9.031294e+06</td>\n",
       "      <td>22000000</td>\n",
       "    </tr>\n",
       "    <tr>\n",
       "      <th>11</th>\n",
       "      <td>XMR</td>\n",
       "      <td>CryptoNight-V7</td>\n",
       "      <td>PoW</td>\n",
       "      <td>1.720114e+07</td>\n",
       "      <td>0</td>\n",
       "    </tr>\n",
       "    <tr>\n",
       "      <th>12</th>\n",
       "      <td>ETC</td>\n",
       "      <td>Ethash</td>\n",
       "      <td>PoW</td>\n",
       "      <td>1.133597e+08</td>\n",
       "      <td>210000000</td>\n",
       "    </tr>\n",
       "    <tr>\n",
       "      <th>13</th>\n",
       "      <td>ZEC</td>\n",
       "      <td>Equihash</td>\n",
       "      <td>PoW</td>\n",
       "      <td>7.383056e+06</td>\n",
       "      <td>21000000</td>\n",
       "    </tr>\n",
       "    <tr>\n",
       "      <th>14</th>\n",
       "      <td>BTS</td>\n",
       "      <td>SHA-512</td>\n",
       "      <td>PoS</td>\n",
       "      <td>2.741570e+09</td>\n",
       "      <td>3600570502</td>\n",
       "    </tr>\n",
       "    <tr>\n",
       "      <th>15</th>\n",
       "      <td>DGB</td>\n",
       "      <td>Multiple</td>\n",
       "      <td>PoW</td>\n",
       "      <td>1.140622e+10</td>\n",
       "      <td>21000000000</td>\n",
       "    </tr>\n",
       "    <tr>\n",
       "      <th>16</th>\n",
       "      <td>BTCD</td>\n",
       "      <td>SHA-256</td>\n",
       "      <td>PoW/PoS</td>\n",
       "      <td>1.288862e+06</td>\n",
       "      <td>22000000</td>\n",
       "    </tr>\n",
       "    <tr>\n",
       "      <th>19</th>\n",
       "      <td>XPY</td>\n",
       "      <td>SHA-256</td>\n",
       "      <td>PoS</td>\n",
       "      <td>1.199533e+07</td>\n",
       "      <td>12500000</td>\n",
       "    </tr>\n",
       "    <tr>\n",
       "      <th>20</th>\n",
       "      <td>PRC</td>\n",
       "      <td>Scrypt</td>\n",
       "      <td>PoW</td>\n",
       "      <td>5.768310e+06</td>\n",
       "      <td>21000000</td>\n",
       "    </tr>\n",
       "    <tr>\n",
       "      <th>24</th>\n",
       "      <td>KOBO</td>\n",
       "      <td>X15</td>\n",
       "      <td>PoW/PoS</td>\n",
       "      <td>2.554254e+07</td>\n",
       "      <td>350000000</td>\n",
       "    </tr>\n",
       "    <tr>\n",
       "      <th>27</th>\n",
       "      <td>SPR</td>\n",
       "      <td>X11</td>\n",
       "      <td>PoW</td>\n",
       "      <td>1.114973e+07</td>\n",
       "      <td>20000000</td>\n",
       "    </tr>\n",
       "    <tr>\n",
       "      <th>37</th>\n",
       "      <td>ARG</td>\n",
       "      <td>Scrypt</td>\n",
       "      <td>PoW</td>\n",
       "      <td>1.220580e+07</td>\n",
       "      <td>64000000</td>\n",
       "    </tr>\n",
       "    <tr>\n",
       "      <th>39</th>\n",
       "      <td>AUR</td>\n",
       "      <td>Scrypt</td>\n",
       "      <td>PoW/PoS</td>\n",
       "      <td>1.813510e+07</td>\n",
       "      <td>16768584</td>\n",
       "    </tr>\n",
       "    <tr>\n",
       "      <th>42</th>\n",
       "      <td>BLU</td>\n",
       "      <td>Scrypt</td>\n",
       "      <td>PoW/PoS</td>\n",
       "      <td>6.354239e+08</td>\n",
       "      <td>0</td>\n",
       "    </tr>\n",
       "    <tr>\n",
       "      <th>44</th>\n",
       "      <td>XMY</td>\n",
       "      <td>Multiple</td>\n",
       "      <td>PoW</td>\n",
       "      <td>1.688254e+09</td>\n",
       "      <td>2000000000</td>\n",
       "    </tr>\n",
       "    <tr>\n",
       "      <th>45</th>\n",
       "      <td>MOON</td>\n",
       "      <td>Scrypt</td>\n",
       "      <td>PoW</td>\n",
       "      <td>8.800000e+01</td>\n",
       "      <td>384000000000</td>\n",
       "    </tr>\n",
       "    <tr>\n",
       "      <th>46</th>\n",
       "      <td>ZET</td>\n",
       "      <td>SHA-256</td>\n",
       "      <td>PoW</td>\n",
       "      <td>1.702044e+08</td>\n",
       "      <td>169795588</td>\n",
       "    </tr>\n",
       "    <tr>\n",
       "      <th>47</th>\n",
       "      <td>SXC</td>\n",
       "      <td>Scrypt</td>\n",
       "      <td>PoW</td>\n",
       "      <td>1.289410e+08</td>\n",
       "      <td>250000000</td>\n",
       "    </tr>\n",
       "    <tr>\n",
       "      <th>48</th>\n",
       "      <td>QTL</td>\n",
       "      <td>Scrypt</td>\n",
       "      <td>PoW</td>\n",
       "      <td>7.357795e+06</td>\n",
       "      <td>100000000</td>\n",
       "    </tr>\n",
       "    <tr>\n",
       "      <th>49</th>\n",
       "      <td>ENRG</td>\n",
       "      <td>Scrypt</td>\n",
       "      <td>PoW/PoS</td>\n",
       "      <td>1.230628e+08</td>\n",
       "      <td>0</td>\n",
       "    </tr>\n",
       "    <tr>\n",
       "      <th>50</th>\n",
       "      <td>QRK</td>\n",
       "      <td>Quark</td>\n",
       "      <td>PoW</td>\n",
       "      <td>2.595572e+08</td>\n",
       "      <td>247000000</td>\n",
       "    </tr>\n",
       "    <tr>\n",
       "      <th>51</th>\n",
       "      <td>RIC</td>\n",
       "      <td>Groestl</td>\n",
       "      <td>PoW</td>\n",
       "      <td>4.954859e+07</td>\n",
       "      <td>84000000</td>\n",
       "    </tr>\n",
       "    <tr>\n",
       "      <th>52</th>\n",
       "      <td>DGC</td>\n",
       "      <td>Scrypt</td>\n",
       "      <td>PoW</td>\n",
       "      <td>3.344299e+07</td>\n",
       "      <td>48166000</td>\n",
       "    </tr>\n",
       "    <tr>\n",
       "      <th>54</th>\n",
       "      <td>BTB</td>\n",
       "      <td>Scrypt</td>\n",
       "      <td>PoW/PoS</td>\n",
       "      <td>4.257948e+04</td>\n",
       "      <td>500000</td>\n",
       "    </tr>\n",
       "    <tr>\n",
       "      <th>...</th>\n",
       "      <td>...</td>\n",
       "      <td>...</td>\n",
       "      <td>...</td>\n",
       "      <td>...</td>\n",
       "      <td>...</td>\n",
       "    </tr>\n",
       "    <tr>\n",
       "      <th>1181</th>\n",
       "      <td>SMLY</td>\n",
       "      <td>Scrypt</td>\n",
       "      <td>PoW</td>\n",
       "      <td>2.958399e+10</td>\n",
       "      <td>50000000000</td>\n",
       "    </tr>\n",
       "    <tr>\n",
       "      <th>1185</th>\n",
       "      <td>MI</td>\n",
       "      <td>Scrypt</td>\n",
       "      <td>PoW/PoS</td>\n",
       "      <td>4.043165e+08</td>\n",
       "      <td>400000000</td>\n",
       "    </tr>\n",
       "    <tr>\n",
       "      <th>1186</th>\n",
       "      <td>GRS</td>\n",
       "      <td>Groestl</td>\n",
       "      <td>PoW</td>\n",
       "      <td>7.329820e+07</td>\n",
       "      <td>105000000</td>\n",
       "    </tr>\n",
       "    <tr>\n",
       "      <th>1187</th>\n",
       "      <td>CPC</td>\n",
       "      <td>X11</td>\n",
       "      <td>PoW/PoS</td>\n",
       "      <td>2.013643e+08</td>\n",
       "      <td>208000000</td>\n",
       "    </tr>\n",
       "    <tr>\n",
       "      <th>1188</th>\n",
       "      <td>CLUB</td>\n",
       "      <td>Scrypt</td>\n",
       "      <td>PoW/PoS</td>\n",
       "      <td>1.036219e+08</td>\n",
       "      <td>160000000</td>\n",
       "    </tr>\n",
       "    <tr>\n",
       "      <th>1189</th>\n",
       "      <td>RADS</td>\n",
       "      <td>PoS</td>\n",
       "      <td>PoS</td>\n",
       "      <td>3.821246e+06</td>\n",
       "      <td>9000000</td>\n",
       "    </tr>\n",
       "    <tr>\n",
       "      <th>1190</th>\n",
       "      <td>BTA</td>\n",
       "      <td>Scrypt</td>\n",
       "      <td>PoW</td>\n",
       "      <td>5.052556e+06</td>\n",
       "      <td>5000000</td>\n",
       "    </tr>\n",
       "    <tr>\n",
       "      <th>1191</th>\n",
       "      <td>PAK</td>\n",
       "      <td>Scrypt</td>\n",
       "      <td>PoW</td>\n",
       "      <td>6.968446e+07</td>\n",
       "      <td>182000000</td>\n",
       "    </tr>\n",
       "    <tr>\n",
       "      <th>1192</th>\n",
       "      <td>CRB</td>\n",
       "      <td>X11</td>\n",
       "      <td>Proof of Trust</td>\n",
       "      <td>1.690102e+07</td>\n",
       "      <td>16504333</td>\n",
       "    </tr>\n",
       "    <tr>\n",
       "      <th>1193</th>\n",
       "      <td>OK</td>\n",
       "      <td>SHA-256</td>\n",
       "      <td>PoW/PoS</td>\n",
       "      <td>7.467606e+07</td>\n",
       "      <td>105000000</td>\n",
       "    </tr>\n",
       "    <tr>\n",
       "      <th>1194</th>\n",
       "      <td>LSK</td>\n",
       "      <td>DPoS</td>\n",
       "      <td>DPoS</td>\n",
       "      <td>1.200121e+08</td>\n",
       "      <td>159918400</td>\n",
       "    </tr>\n",
       "    <tr>\n",
       "      <th>1195</th>\n",
       "      <td>XHI</td>\n",
       "      <td>Scrypt</td>\n",
       "      <td>PoS</td>\n",
       "      <td>1.000024e+10</td>\n",
       "      <td>10008835635</td>\n",
       "    </tr>\n",
       "    <tr>\n",
       "      <th>1196</th>\n",
       "      <td>XWC</td>\n",
       "      <td>Scrypt</td>\n",
       "      <td>PoW/PoS</td>\n",
       "      <td>2.520056e+08</td>\n",
       "      <td>300000000</td>\n",
       "    </tr>\n",
       "    <tr>\n",
       "      <th>1198</th>\n",
       "      <td>FSC</td>\n",
       "      <td>NeoScrypt</td>\n",
       "      <td>PoW/PoS</td>\n",
       "      <td>1.120385e+06</td>\n",
       "      <td>60168145</td>\n",
       "    </tr>\n",
       "    <tr>\n",
       "      <th>1201</th>\n",
       "      <td>J</td>\n",
       "      <td>Multiple</td>\n",
       "      <td>PoW</td>\n",
       "      <td>3.332922e+06</td>\n",
       "      <td>2800000</td>\n",
       "    </tr>\n",
       "    <tr>\n",
       "      <th>1202</th>\n",
       "      <td>TRI</td>\n",
       "      <td>X13</td>\n",
       "      <td>PoW/PoS</td>\n",
       "      <td>1.407778e+05</td>\n",
       "      <td>120000</td>\n",
       "    </tr>\n",
       "    <tr>\n",
       "      <th>1204</th>\n",
       "      <td>VOLLAR</td>\n",
       "      <td>Equihash+Scrypt</td>\n",
       "      <td>PoW</td>\n",
       "      <td>1.000000e+08</td>\n",
       "      <td>2100000000</td>\n",
       "    </tr>\n",
       "    <tr>\n",
       "      <th>1211</th>\n",
       "      <td>EOS</td>\n",
       "      <td>DPoS</td>\n",
       "      <td>DPoS</td>\n",
       "      <td>1.020545e+09</td>\n",
       "      <td>0</td>\n",
       "    </tr>\n",
       "    <tr>\n",
       "      <th>1213</th>\n",
       "      <td>RCC</td>\n",
       "      <td>Ethash</td>\n",
       "      <td>PoW</td>\n",
       "      <td>2.448794e+07</td>\n",
       "      <td>24487944</td>\n",
       "    </tr>\n",
       "    <tr>\n",
       "      <th>1214</th>\n",
       "      <td>OXY</td>\n",
       "      <td>DPoS</td>\n",
       "      <td>DPoS</td>\n",
       "      <td>1.122382e+09</td>\n",
       "      <td>0</td>\n",
       "    </tr>\n",
       "    <tr>\n",
       "      <th>1226</th>\n",
       "      <td>TCH</td>\n",
       "      <td>SHA-256</td>\n",
       "      <td>PoS</td>\n",
       "      <td>1.000000e+09</td>\n",
       "      <td>1000000000</td>\n",
       "    </tr>\n",
       "    <tr>\n",
       "      <th>1230</th>\n",
       "      <td>WAVES</td>\n",
       "      <td>Leased POS</td>\n",
       "      <td>LPoS</td>\n",
       "      <td>1.000000e+08</td>\n",
       "      <td>100000000</td>\n",
       "    </tr>\n",
       "    <tr>\n",
       "      <th>1231</th>\n",
       "      <td>PART</td>\n",
       "      <td>PoS</td>\n",
       "      <td>PoS</td>\n",
       "      <td>9.283138e+06</td>\n",
       "      <td>8634140</td>\n",
       "    </tr>\n",
       "    <tr>\n",
       "      <th>1234</th>\n",
       "      <td>BTT</td>\n",
       "      <td>TRC10</td>\n",
       "      <td>DPoS</td>\n",
       "      <td>9.899887e+11</td>\n",
       "      <td>990000000000</td>\n",
       "    </tr>\n",
       "    <tr>\n",
       "      <th>1237</th>\n",
       "      <td>NXT</td>\n",
       "      <td>PoS</td>\n",
       "      <td>PoS/LPoS</td>\n",
       "      <td>1.000000e+09</td>\n",
       "      <td>1000000000</td>\n",
       "    </tr>\n",
       "    <tr>\n",
       "      <th>1238</th>\n",
       "      <td>ZEPH</td>\n",
       "      <td>SHA-256</td>\n",
       "      <td>DPoS</td>\n",
       "      <td>2.000000e+09</td>\n",
       "      <td>2000000000</td>\n",
       "    </tr>\n",
       "    <tr>\n",
       "      <th>1242</th>\n",
       "      <td>GAP</td>\n",
       "      <td>Scrypt</td>\n",
       "      <td>PoW/PoS</td>\n",
       "      <td>1.493105e+07</td>\n",
       "      <td>250000000</td>\n",
       "    </tr>\n",
       "    <tr>\n",
       "      <th>1245</th>\n",
       "      <td>BDX</td>\n",
       "      <td>CryptoNight</td>\n",
       "      <td>PoW</td>\n",
       "      <td>9.802226e+08</td>\n",
       "      <td>1400222610</td>\n",
       "    </tr>\n",
       "    <tr>\n",
       "      <th>1246</th>\n",
       "      <td>ZEN</td>\n",
       "      <td>Equihash</td>\n",
       "      <td>PoW</td>\n",
       "      <td>7.296538e+06</td>\n",
       "      <td>21000000</td>\n",
       "    </tr>\n",
       "    <tr>\n",
       "      <th>1247</th>\n",
       "      <td>XBC</td>\n",
       "      <td>Scrypt</td>\n",
       "      <td>PoS</td>\n",
       "      <td>1.283270e+05</td>\n",
       "      <td>1000000</td>\n",
       "    </tr>\n",
       "  </tbody>\n",
       "</table>\n",
       "<p>532 rows × 5 columns</p>\n",
       "</div>"
      ],
      "text/plain": [
       "     Unnamed: 0        Algorithm       ProofType  TotalCoinsMined  \\\n",
       "0            42           Scrypt         PoW/PoS     4.199995e+01   \n",
       "2           404           Scrypt         PoW/PoS     1.055185e+09   \n",
       "5          1337              X13         PoW/PoS     2.927942e+10   \n",
       "7           BTC          SHA-256             PoW     1.792718e+07   \n",
       "8           ETH           Ethash             PoW     1.076842e+08   \n",
       "9           LTC           Scrypt             PoW     6.303924e+07   \n",
       "10         DASH              X11         PoW/PoS     9.031294e+06   \n",
       "11          XMR   CryptoNight-V7             PoW     1.720114e+07   \n",
       "12          ETC           Ethash             PoW     1.133597e+08   \n",
       "13          ZEC         Equihash             PoW     7.383056e+06   \n",
       "14          BTS          SHA-512             PoS     2.741570e+09   \n",
       "15          DGB         Multiple             PoW     1.140622e+10   \n",
       "16         BTCD          SHA-256         PoW/PoS     1.288862e+06   \n",
       "19          XPY          SHA-256             PoS     1.199533e+07   \n",
       "20          PRC           Scrypt             PoW     5.768310e+06   \n",
       "24         KOBO              X15         PoW/PoS     2.554254e+07   \n",
       "27          SPR              X11             PoW     1.114973e+07   \n",
       "37          ARG           Scrypt             PoW     1.220580e+07   \n",
       "39          AUR           Scrypt         PoW/PoS     1.813510e+07   \n",
       "42          BLU           Scrypt         PoW/PoS     6.354239e+08   \n",
       "44          XMY         Multiple             PoW     1.688254e+09   \n",
       "45         MOON           Scrypt             PoW     8.800000e+01   \n",
       "46          ZET          SHA-256             PoW     1.702044e+08   \n",
       "47          SXC           Scrypt             PoW     1.289410e+08   \n",
       "48          QTL           Scrypt             PoW     7.357795e+06   \n",
       "49         ENRG           Scrypt         PoW/PoS     1.230628e+08   \n",
       "50          QRK            Quark             PoW     2.595572e+08   \n",
       "51          RIC          Groestl             PoW     4.954859e+07   \n",
       "52          DGC           Scrypt             PoW     3.344299e+07   \n",
       "54          BTB           Scrypt         PoW/PoS     4.257948e+04   \n",
       "...         ...              ...             ...              ...   \n",
       "1181       SMLY           Scrypt             PoW     2.958399e+10   \n",
       "1185         MI           Scrypt         PoW/PoS     4.043165e+08   \n",
       "1186        GRS          Groestl             PoW     7.329820e+07   \n",
       "1187        CPC              X11         PoW/PoS     2.013643e+08   \n",
       "1188       CLUB           Scrypt         PoW/PoS     1.036219e+08   \n",
       "1189       RADS              PoS             PoS     3.821246e+06   \n",
       "1190        BTA           Scrypt             PoW     5.052556e+06   \n",
       "1191        PAK           Scrypt             PoW     6.968446e+07   \n",
       "1192        CRB              X11  Proof of Trust     1.690102e+07   \n",
       "1193         OK          SHA-256         PoW/PoS     7.467606e+07   \n",
       "1194        LSK             DPoS            DPoS     1.200121e+08   \n",
       "1195        XHI           Scrypt             PoS     1.000024e+10   \n",
       "1196        XWC           Scrypt         PoW/PoS     2.520056e+08   \n",
       "1198        FSC        NeoScrypt         PoW/PoS     1.120385e+06   \n",
       "1201          J         Multiple             PoW     3.332922e+06   \n",
       "1202        TRI              X13         PoW/PoS     1.407778e+05   \n",
       "1204     VOLLAR  Equihash+Scrypt             PoW     1.000000e+08   \n",
       "1211        EOS             DPoS            DPoS     1.020545e+09   \n",
       "1213        RCC           Ethash             PoW     2.448794e+07   \n",
       "1214        OXY             DPoS            DPoS     1.122382e+09   \n",
       "1226        TCH          SHA-256             PoS     1.000000e+09   \n",
       "1230      WAVES       Leased POS            LPoS     1.000000e+08   \n",
       "1231       PART              PoS             PoS     9.283138e+06   \n",
       "1234        BTT            TRC10            DPoS     9.899887e+11   \n",
       "1237        NXT              PoS        PoS/LPoS     1.000000e+09   \n",
       "1238       ZEPH          SHA-256            DPoS     2.000000e+09   \n",
       "1242        GAP           Scrypt         PoW/PoS     1.493105e+07   \n",
       "1245        BDX      CryptoNight             PoW     9.802226e+08   \n",
       "1246        ZEN         Equihash             PoW     7.296538e+06   \n",
       "1247        XBC           Scrypt             PoS     1.283270e+05   \n",
       "\n",
       "     TotalCoinSupply  \n",
       "0                 42  \n",
       "2          532000000  \n",
       "5       314159265359  \n",
       "7           21000000  \n",
       "8                  0  \n",
       "9           84000000  \n",
       "10          22000000  \n",
       "11                 0  \n",
       "12         210000000  \n",
       "13          21000000  \n",
       "14        3600570502  \n",
       "15       21000000000  \n",
       "16          22000000  \n",
       "19          12500000  \n",
       "20          21000000  \n",
       "24         350000000  \n",
       "27          20000000  \n",
       "37          64000000  \n",
       "39          16768584  \n",
       "42                 0  \n",
       "44        2000000000  \n",
       "45      384000000000  \n",
       "46         169795588  \n",
       "47         250000000  \n",
       "48         100000000  \n",
       "49                 0  \n",
       "50         247000000  \n",
       "51          84000000  \n",
       "52          48166000  \n",
       "54            500000  \n",
       "...              ...  \n",
       "1181     50000000000  \n",
       "1185       400000000  \n",
       "1186       105000000  \n",
       "1187       208000000  \n",
       "1188       160000000  \n",
       "1189         9000000  \n",
       "1190         5000000  \n",
       "1191       182000000  \n",
       "1192        16504333  \n",
       "1193       105000000  \n",
       "1194       159918400  \n",
       "1195     10008835635  \n",
       "1196       300000000  \n",
       "1198        60168145  \n",
       "1201         2800000  \n",
       "1202          120000  \n",
       "1204      2100000000  \n",
       "1211               0  \n",
       "1213        24487944  \n",
       "1214               0  \n",
       "1226      1000000000  \n",
       "1230       100000000  \n",
       "1231         8634140  \n",
       "1234    990000000000  \n",
       "1237      1000000000  \n",
       "1238      2000000000  \n",
       "1242       250000000  \n",
       "1245      1400222610  \n",
       "1246        21000000  \n",
       "1247         1000000  \n",
       "\n",
       "[532 rows x 5 columns]"
      ]
     },
     "execution_count": 52,
     "metadata": {},
     "output_type": "execute_result"
    }
   ],
   "source": [
    "# STEP 7\n",
    "# Remove the CoinName column from the clean_crypto_df\n",
    "clean_crypto_df.drop(columns=[\"CoinName\"], inplace=True)\n",
    "clean_crypto_df"
   ]
  },
  {
   "cell_type": "code",
   "execution_count": 53,
   "metadata": {},
   "outputs": [
    {
     "data": {
      "text/plain": [
       "Unnamed: 0          object\n",
       "Algorithm           object\n",
       "ProofType           object\n",
       "TotalCoinsMined    float64\n",
       "TotalCoinSupply     object\n",
       "dtype: object"
      ]
     },
     "execution_count": 53,
     "metadata": {},
     "output_type": "execute_result"
    }
   ],
   "source": [
    "# STEP 8\n",
    "# Create dummies variables for all of the text features, and store the resulting data on a DataFrame named X.\n",
    "\n",
    "# Look at datatypes in coins_name\n",
    "clean_crypto_df.dtypes"
   ]
  },
  {
   "cell_type": "code",
   "execution_count": 54,
   "metadata": {},
   "outputs": [
    {
     "data": {
      "text/plain": [
       "Unnamed: 0          object\n",
       "Algorithm           object\n",
       "ProofType           object\n",
       "TotalCoinsMined    float64\n",
       "TotalCoinSupply    float64\n",
       "dtype: object"
      ]
     },
     "execution_count": 54,
     "metadata": {},
     "output_type": "execute_result"
    }
   ],
   "source": [
    "# First, change TotalCoinSupply datatype from object to float\n",
    "clean_crypto_df[\"TotalCoinSupply\"] = clean_crypto_df[\"TotalCoinSupply\"].apply(float)\n",
    "clean_crypto_df.dtypes"
   ]
  },
  {
   "cell_type": "code",
   "execution_count": 55,
   "metadata": {},
   "outputs": [],
   "source": [
    "# Next, we want to convert the ProofType column to numbers\n",
    "# First, let's see what ProofTypes are the most common\n",
    "# proofType_df = clean_crypto_df.groupby(\"ProofType\").nunique()\n",
    "# print(proofType_df)"
   ]
  },
  {
   "cell_type": "markdown",
   "metadata": {},
   "source": [
    "POS, POW, and POW/POS contain the most types of cryptocurrencies. So we can group those 3 individually and the rest as 'other'."
   ]
  },
  {
   "cell_type": "code",
   "execution_count": 56,
   "metadata": {},
   "outputs": [],
   "source": [
    "# Transform the string column.\n",
    "# def change_string(ProofType):\n",
    "#     if ProofType == \"PoS\":\n",
    "#         return 0\n",
    "#     if ProofType == \"PoW\":\n",
    "#         return 1\n",
    "#     if ProofType == \"PoW/PoS\":\n",
    "#         return 2\n",
    "#     else:\n",
    "#         return 3\n",
    "    \n",
    "# coins_name[\"ProofType\"] = coins_name[\"ProofType\"].apply(change_string)\n",
    "# coins_name"
   ]
  },
  {
   "cell_type": "code",
   "execution_count": 57,
   "metadata": {},
   "outputs": [
    {
     "data": {
      "text/html": [
       "<div>\n",
       "<style scoped>\n",
       "    .dataframe tbody tr th:only-of-type {\n",
       "        vertical-align: middle;\n",
       "    }\n",
       "\n",
       "    .dataframe tbody tr th {\n",
       "        vertical-align: top;\n",
       "    }\n",
       "\n",
       "    .dataframe thead th {\n",
       "        text-align: right;\n",
       "    }\n",
       "</style>\n",
       "<table border=\"1\" class=\"dataframe\">\n",
       "  <thead>\n",
       "    <tr style=\"text-align: right;\">\n",
       "      <th></th>\n",
       "      <th>TotalCoinsMined</th>\n",
       "      <th>TotalCoinSupply</th>\n",
       "      <th>Algorithm_536</th>\n",
       "      <th>Algorithm_Argon2d</th>\n",
       "      <th>Algorithm_BLAKE256</th>\n",
       "      <th>Algorithm_Blake</th>\n",
       "      <th>Algorithm_Blake2S</th>\n",
       "      <th>Algorithm_Blake2b</th>\n",
       "      <th>Algorithm_C11</th>\n",
       "      <th>Algorithm_Cloverhash</th>\n",
       "      <th>...</th>\n",
       "      <th>ProofType_PoW/PoS</th>\n",
       "      <th>ProofType_PoW/PoS</th>\n",
       "      <th>ProofType_PoW/PoW</th>\n",
       "      <th>ProofType_PoW/nPoS</th>\n",
       "      <th>ProofType_Pos</th>\n",
       "      <th>ProofType_Proof of Authority</th>\n",
       "      <th>ProofType_Proof of Trust</th>\n",
       "      <th>ProofType_TPoS</th>\n",
       "      <th>ProofType_Zero-Knowledge Proof</th>\n",
       "      <th>ProofType_dPoW/PoW</th>\n",
       "    </tr>\n",
       "  </thead>\n",
       "  <tbody>\n",
       "    <tr>\n",
       "      <th>0</th>\n",
       "      <td>4.199995e+01</td>\n",
       "      <td>4.200000e+01</td>\n",
       "      <td>0</td>\n",
       "      <td>0</td>\n",
       "      <td>0</td>\n",
       "      <td>0</td>\n",
       "      <td>0</td>\n",
       "      <td>0</td>\n",
       "      <td>0</td>\n",
       "      <td>0</td>\n",
       "      <td>...</td>\n",
       "      <td>1</td>\n",
       "      <td>0</td>\n",
       "      <td>0</td>\n",
       "      <td>0</td>\n",
       "      <td>0</td>\n",
       "      <td>0</td>\n",
       "      <td>0</td>\n",
       "      <td>0</td>\n",
       "      <td>0</td>\n",
       "      <td>0</td>\n",
       "    </tr>\n",
       "    <tr>\n",
       "      <th>2</th>\n",
       "      <td>1.055185e+09</td>\n",
       "      <td>5.320000e+08</td>\n",
       "      <td>0</td>\n",
       "      <td>0</td>\n",
       "      <td>0</td>\n",
       "      <td>0</td>\n",
       "      <td>0</td>\n",
       "      <td>0</td>\n",
       "      <td>0</td>\n",
       "      <td>0</td>\n",
       "      <td>...</td>\n",
       "      <td>1</td>\n",
       "      <td>0</td>\n",
       "      <td>0</td>\n",
       "      <td>0</td>\n",
       "      <td>0</td>\n",
       "      <td>0</td>\n",
       "      <td>0</td>\n",
       "      <td>0</td>\n",
       "      <td>0</td>\n",
       "      <td>0</td>\n",
       "    </tr>\n",
       "    <tr>\n",
       "      <th>5</th>\n",
       "      <td>2.927942e+10</td>\n",
       "      <td>3.141593e+11</td>\n",
       "      <td>0</td>\n",
       "      <td>0</td>\n",
       "      <td>0</td>\n",
       "      <td>0</td>\n",
       "      <td>0</td>\n",
       "      <td>0</td>\n",
       "      <td>0</td>\n",
       "      <td>0</td>\n",
       "      <td>...</td>\n",
       "      <td>1</td>\n",
       "      <td>0</td>\n",
       "      <td>0</td>\n",
       "      <td>0</td>\n",
       "      <td>0</td>\n",
       "      <td>0</td>\n",
       "      <td>0</td>\n",
       "      <td>0</td>\n",
       "      <td>0</td>\n",
       "      <td>0</td>\n",
       "    </tr>\n",
       "    <tr>\n",
       "      <th>7</th>\n",
       "      <td>1.792718e+07</td>\n",
       "      <td>2.100000e+07</td>\n",
       "      <td>0</td>\n",
       "      <td>0</td>\n",
       "      <td>0</td>\n",
       "      <td>0</td>\n",
       "      <td>0</td>\n",
       "      <td>0</td>\n",
       "      <td>0</td>\n",
       "      <td>0</td>\n",
       "      <td>...</td>\n",
       "      <td>0</td>\n",
       "      <td>0</td>\n",
       "      <td>0</td>\n",
       "      <td>0</td>\n",
       "      <td>0</td>\n",
       "      <td>0</td>\n",
       "      <td>0</td>\n",
       "      <td>0</td>\n",
       "      <td>0</td>\n",
       "      <td>0</td>\n",
       "    </tr>\n",
       "    <tr>\n",
       "      <th>8</th>\n",
       "      <td>1.076842e+08</td>\n",
       "      <td>0.000000e+00</td>\n",
       "      <td>0</td>\n",
       "      <td>0</td>\n",
       "      <td>0</td>\n",
       "      <td>0</td>\n",
       "      <td>0</td>\n",
       "      <td>0</td>\n",
       "      <td>0</td>\n",
       "      <td>0</td>\n",
       "      <td>...</td>\n",
       "      <td>0</td>\n",
       "      <td>0</td>\n",
       "      <td>0</td>\n",
       "      <td>0</td>\n",
       "      <td>0</td>\n",
       "      <td>0</td>\n",
       "      <td>0</td>\n",
       "      <td>0</td>\n",
       "      <td>0</td>\n",
       "      <td>0</td>\n",
       "    </tr>\n",
       "  </tbody>\n",
       "</table>\n",
       "<p>5 rows × 96 columns</p>\n",
       "</div>"
      ],
      "text/plain": [
       "   TotalCoinsMined  TotalCoinSupply  Algorithm_536  Algorithm_Argon2d  \\\n",
       "0     4.199995e+01     4.200000e+01              0                  0   \n",
       "2     1.055185e+09     5.320000e+08              0                  0   \n",
       "5     2.927942e+10     3.141593e+11              0                  0   \n",
       "7     1.792718e+07     2.100000e+07              0                  0   \n",
       "8     1.076842e+08     0.000000e+00              0                  0   \n",
       "\n",
       "   Algorithm_BLAKE256  Algorithm_Blake  Algorithm_Blake2S  Algorithm_Blake2b  \\\n",
       "0                   0                0                  0                  0   \n",
       "2                   0                0                  0                  0   \n",
       "5                   0                0                  0                  0   \n",
       "7                   0                0                  0                  0   \n",
       "8                   0                0                  0                  0   \n",
       "\n",
       "   Algorithm_C11  Algorithm_Cloverhash         ...          ProofType_PoW/PoS  \\\n",
       "0              0                     0         ...                          1   \n",
       "2              0                     0         ...                          1   \n",
       "5              0                     0         ...                          1   \n",
       "7              0                     0         ...                          0   \n",
       "8              0                     0         ...                          0   \n",
       "\n",
       "   ProofType_PoW/PoS   ProofType_PoW/PoW  ProofType_PoW/nPoS  ProofType_Pos  \\\n",
       "0                   0                  0                   0              0   \n",
       "2                   0                  0                   0              0   \n",
       "5                   0                  0                   0              0   \n",
       "7                   0                  0                   0              0   \n",
       "8                   0                  0                   0              0   \n",
       "\n",
       "   ProofType_Proof of Authority  ProofType_Proof of Trust  ProofType_TPoS  \\\n",
       "0                             0                         0               0   \n",
       "2                             0                         0               0   \n",
       "5                             0                         0               0   \n",
       "7                             0                         0               0   \n",
       "8                             0                         0               0   \n",
       "\n",
       "   ProofType_Zero-Knowledge Proof  ProofType_dPoW/PoW  \n",
       "0                               0                   0  \n",
       "2                               0                   0  \n",
       "5                               0                   0  \n",
       "7                               0                   0  \n",
       "8                               0                   0  \n",
       "\n",
       "[5 rows x 96 columns]"
      ]
     },
     "execution_count": 57,
     "metadata": {},
     "output_type": "execute_result"
    }
   ],
   "source": [
    "# Next create dummy variables for all text features (Algorithm and ProofType)\n",
    "X = clean_crypto_df[[\"Algorithm\", \"ProofType\", \"TotalCoinsMined\", \"TotalCoinSupply\"]].copy()\n",
    "X = pd.get_dummies(X, columns=[\"Algorithm\", \"ProofType\"], drop_first=True)\n",
    "X = X.dropna()\n",
    "X.head()"
   ]
  },
  {
   "cell_type": "code",
   "execution_count": 58,
   "metadata": {},
   "outputs": [
    {
     "name": "stdout",
     "output_type": "stream",
     "text": [
      "[[-0.11710817 -0.1528703  -0.0433963  -0.0433963  -0.06142951 -0.07530656\n",
      "  -0.0433963  -0.06142951 -0.06142951 -0.0433963  -0.0433963  -0.19245009\n",
      "  -0.06142951 -0.09740465 -0.0433963  -0.11547005 -0.07530656 -0.0433963\n",
      "  -0.0433963  -0.15191091 -0.0433963  -0.13118084 -0.0433963  -0.0433963\n",
      "  -0.08703883 -0.0433963  -0.0433963  -0.0433963  -0.0433963  -0.06142951\n",
      "  -0.0433963  -0.08703883 -0.08703883 -0.08703883 -0.0433963  -0.13118084\n",
      "  -0.13840913 -0.13840913 -0.0433963  -0.06142951 -0.0433963  -0.07530656\n",
      "  -0.18168574 -0.0433963  -0.0433963  -0.0433963  -0.07530656 -0.15826614\n",
      "  -0.31491833 -0.0433963  -0.08703883 -0.07530656 -0.06142951  1.38675049\n",
      "  -0.0433963  -0.0433963  -0.06142951 -0.0433963  -0.0433963  -0.0433963\n",
      "  -0.0433963  -0.0433963  -0.0433963  -0.0433963  -0.0433963  -0.39879994\n",
      "  -0.0433963  -0.18168574 -0.0433963  -0.08703883 -0.08703883 -0.10680283\n",
      "  -0.13118084 -0.0433963  -0.0433963  -0.0433963  -0.0433963  -0.07530656\n",
      "  -0.43911856 -0.0433963  -0.06142951 -0.0433963  -0.0433963  -0.89632016\n",
      "  -0.0433963  -0.0433963   1.42222617 -0.0433963  -0.0433963  -0.0433963\n",
      "  -0.0433963  -0.0433963  -0.0433963  -0.0433963  -0.0433963  -0.0433963 ]\n",
      " [-0.09396955 -0.145009   -0.0433963  -0.0433963  -0.06142951 -0.07530656\n",
      "  -0.0433963  -0.06142951 -0.06142951 -0.0433963  -0.0433963  -0.19245009\n",
      "  -0.06142951 -0.09740465 -0.0433963  -0.11547005 -0.07530656 -0.0433963\n",
      "  -0.0433963  -0.15191091 -0.0433963  -0.13118084 -0.0433963  -0.0433963\n",
      "  -0.08703883 -0.0433963  -0.0433963  -0.0433963  -0.0433963  -0.06142951\n",
      "  -0.0433963  -0.08703883 -0.08703883 -0.08703883 -0.0433963  -0.13118084\n",
      "  -0.13840913 -0.13840913 -0.0433963  -0.06142951 -0.0433963  -0.07530656\n",
      "  -0.18168574 -0.0433963  -0.0433963  -0.0433963  -0.07530656 -0.15826614\n",
      "  -0.31491833 -0.0433963  -0.08703883 -0.07530656 -0.06142951  1.38675049\n",
      "  -0.0433963  -0.0433963  -0.06142951 -0.0433963  -0.0433963  -0.0433963\n",
      "  -0.0433963  -0.0433963  -0.0433963  -0.0433963  -0.0433963  -0.39879994\n",
      "  -0.0433963  -0.18168574 -0.0433963  -0.08703883 -0.08703883 -0.10680283\n",
      "  -0.13118084 -0.0433963  -0.0433963  -0.0433963  -0.0433963  -0.07530656\n",
      "  -0.43911856 -0.0433963  -0.06142951 -0.0433963  -0.0433963  -0.89632016\n",
      "  -0.0433963  -0.0433963   1.42222617 -0.0433963  -0.0433963  -0.0433963\n",
      "  -0.0433963  -0.0433963  -0.0433963  -0.0433963  -0.0433963  -0.0433963 ]]\n"
     ]
    }
   ],
   "source": [
    "# STEP 9\n",
    "# Use the StandardScaler from sklearn to standardize all of the data from the X DataFrame.\n",
    "X_scaled = StandardScaler().fit_transform(X)\n",
    "print(X_scaled[0:2])"
   ]
  },
  {
   "cell_type": "code",
   "execution_count": 59,
   "metadata": {},
   "outputs": [],
   "source": [
    "# Save cleaned data\n",
    "file_path = \"./Resources/X_cleaned_crypto.csv\"\n",
    "X.to_csv(file_path, index=False)"
   ]
  },
  {
   "cell_type": "markdown",
   "metadata": {},
   "source": [
    "# Reducing Data Dimensions Using PCA"
   ]
  },
  {
   "cell_type": "code",
   "execution_count": 60,
   "metadata": {},
   "outputs": [],
   "source": [
    "# Initialize PCA model\n",
    "pca = PCA(n_components=3)"
   ]
  },
  {
   "cell_type": "code",
   "execution_count": 61,
   "metadata": {},
   "outputs": [],
   "source": [
    "# Get three principal components for the X_scaled data.\n",
    "X_pca = pca.fit_transform(X_scaled)"
   ]
  },
  {
   "cell_type": "code",
   "execution_count": 62,
   "metadata": {},
   "outputs": [
    {
     "data": {
      "text/html": [
       "<div>\n",
       "<style scoped>\n",
       "    .dataframe tbody tr th:only-of-type {\n",
       "        vertical-align: middle;\n",
       "    }\n",
       "\n",
       "    .dataframe tbody tr th {\n",
       "        vertical-align: top;\n",
       "    }\n",
       "\n",
       "    .dataframe thead th {\n",
       "        text-align: right;\n",
       "    }\n",
       "</style>\n",
       "<table border=\"1\" class=\"dataframe\">\n",
       "  <thead>\n",
       "    <tr style=\"text-align: right;\">\n",
       "      <th></th>\n",
       "      <th>PC 1</th>\n",
       "      <th>PC 2</th>\n",
       "      <th>PC 3</th>\n",
       "    </tr>\n",
       "  </thead>\n",
       "  <tbody>\n",
       "    <tr>\n",
       "      <th>0</th>\n",
       "      <td>-0.333955</td>\n",
       "      <td>0.993608</td>\n",
       "      <td>-0.522746</td>\n",
       "    </tr>\n",
       "    <tr>\n",
       "      <th>1</th>\n",
       "      <td>-0.317289</td>\n",
       "      <td>0.993657</td>\n",
       "      <td>-0.523065</td>\n",
       "    </tr>\n",
       "    <tr>\n",
       "      <th>2</th>\n",
       "      <td>2.294921</td>\n",
       "      <td>1.563401</td>\n",
       "      <td>-0.619588</td>\n",
       "    </tr>\n",
       "    <tr>\n",
       "      <th>3</th>\n",
       "      <td>-0.147424</td>\n",
       "      <td>-1.275470</td>\n",
       "      <td>0.171421</td>\n",
       "    </tr>\n",
       "    <tr>\n",
       "      <th>4</th>\n",
       "      <td>-0.151750</td>\n",
       "      <td>-2.044473</td>\n",
       "      <td>0.356146</td>\n",
       "    </tr>\n",
       "  </tbody>\n",
       "</table>\n",
       "</div>"
      ],
      "text/plain": [
       "       PC 1      PC 2      PC 3\n",
       "0 -0.333955  0.993608 -0.522746\n",
       "1 -0.317289  0.993657 -0.523065\n",
       "2  2.294921  1.563401 -0.619588\n",
       "3 -0.147424 -1.275470  0.171421\n",
       "4 -0.151750 -2.044473  0.356146"
      ]
     },
     "execution_count": 62,
     "metadata": {},
     "output_type": "execute_result"
    }
   ],
   "source": [
    "# Transform PCA data to a dataframe\n",
    "X_pca_df = pd.DataFrame(\n",
    "    data=X_pca, columns=[\"PC 1\", \"PC 2\", \"PC 3\"]\n",
    ")\n",
    "X_pca_df.head()"
   ]
  },
  {
   "cell_type": "code",
   "execution_count": 63,
   "metadata": {},
   "outputs": [
    {
     "data": {
      "text/plain": [
       "array([0.02851297, 0.02177838, 0.02092444])"
      ]
     },
     "execution_count": 63,
     "metadata": {},
     "output_type": "execute_result"
    }
   ],
   "source": [
    "# Fetch the explained variance\n",
    "pca.explained_variance_ratio_"
   ]
  },
  {
   "cell_type": "code",
   "execution_count": 64,
   "metadata": {},
   "outputs": [
    {
     "data": {
      "text/html": [
       "<div>\n",
       "<style scoped>\n",
       "    .dataframe tbody tr th:only-of-type {\n",
       "        vertical-align: middle;\n",
       "    }\n",
       "\n",
       "    .dataframe tbody tr th {\n",
       "        vertical-align: top;\n",
       "    }\n",
       "\n",
       "    .dataframe thead th {\n",
       "        text-align: right;\n",
       "    }\n",
       "</style>\n",
       "<table border=\"1\" class=\"dataframe\">\n",
       "  <thead>\n",
       "    <tr style=\"text-align: right;\">\n",
       "      <th></th>\n",
       "      <th>PC 1</th>\n",
       "      <th>PC 2</th>\n",
       "      <th>PC 3</th>\n",
       "      <th>Unnamed: 0</th>\n",
       "    </tr>\n",
       "  </thead>\n",
       "  <tbody>\n",
       "    <tr>\n",
       "      <th>0</th>\n",
       "      <td>-0.333955</td>\n",
       "      <td>0.993608</td>\n",
       "      <td>-0.522746</td>\n",
       "      <td>42</td>\n",
       "    </tr>\n",
       "    <tr>\n",
       "      <th>2</th>\n",
       "      <td>2.294921</td>\n",
       "      <td>1.563401</td>\n",
       "      <td>-0.619588</td>\n",
       "      <td>404</td>\n",
       "    </tr>\n",
       "    <tr>\n",
       "      <th>5</th>\n",
       "      <td>-0.162368</td>\n",
       "      <td>-1.160095</td>\n",
       "      <td>0.015884</td>\n",
       "      <td>1337</td>\n",
       "    </tr>\n",
       "    <tr>\n",
       "      <th>7</th>\n",
       "      <td>-0.148343</td>\n",
       "      <td>-2.231451</td>\n",
       "      <td>0.415101</td>\n",
       "      <td>BTC</td>\n",
       "    </tr>\n",
       "    <tr>\n",
       "      <th>8</th>\n",
       "      <td>-0.150192</td>\n",
       "      <td>-2.044587</td>\n",
       "      <td>0.356132</td>\n",
       "      <td>ETH</td>\n",
       "    </tr>\n",
       "  </tbody>\n",
       "</table>\n",
       "</div>"
      ],
      "text/plain": [
       "       PC 1      PC 2      PC 3 Unnamed: 0\n",
       "0 -0.333955  0.993608 -0.522746         42\n",
       "2  2.294921  1.563401 -0.619588        404\n",
       "5 -0.162368 -1.160095  0.015884       1337\n",
       "7 -0.148343 -2.231451  0.415101        BTC\n",
       "8 -0.150192 -2.044587  0.356132        ETH"
      ]
     },
     "execution_count": 64,
     "metadata": {},
     "output_type": "execute_result"
    }
   ],
   "source": [
    "# Join the index from crypto_df\n",
    "join_df = pd.DataFrame(data=clean_crypto_df, columns=[\"Unnamed: 0\"])\n",
    "pca_df = X_pca_df.join(join_df, how=\"inner\")\n",
    "pca_df.head()"
   ]
  },
  {
   "cell_type": "code",
   "execution_count": 65,
   "metadata": {},
   "outputs": [
    {
     "data": {
      "text/html": [
       "<div>\n",
       "<style scoped>\n",
       "    .dataframe tbody tr th:only-of-type {\n",
       "        vertical-align: middle;\n",
       "    }\n",
       "\n",
       "    .dataframe tbody tr th {\n",
       "        vertical-align: top;\n",
       "    }\n",
       "\n",
       "    .dataframe thead th {\n",
       "        text-align: right;\n",
       "    }\n",
       "</style>\n",
       "<table border=\"1\" class=\"dataframe\">\n",
       "  <thead>\n",
       "    <tr style=\"text-align: right;\">\n",
       "      <th></th>\n",
       "      <th>PC 1</th>\n",
       "      <th>PC 2</th>\n",
       "      <th>PC 3</th>\n",
       "    </tr>\n",
       "    <tr>\n",
       "      <th>Unnamed: 0</th>\n",
       "      <th></th>\n",
       "      <th></th>\n",
       "      <th></th>\n",
       "    </tr>\n",
       "  </thead>\n",
       "  <tbody>\n",
       "    <tr>\n",
       "      <th>42</th>\n",
       "      <td>-0.333955</td>\n",
       "      <td>0.993608</td>\n",
       "      <td>-0.522746</td>\n",
       "    </tr>\n",
       "    <tr>\n",
       "      <th>404</th>\n",
       "      <td>2.294921</td>\n",
       "      <td>1.563401</td>\n",
       "      <td>-0.619588</td>\n",
       "    </tr>\n",
       "    <tr>\n",
       "      <th>1337</th>\n",
       "      <td>-0.162368</td>\n",
       "      <td>-1.160095</td>\n",
       "      <td>0.015884</td>\n",
       "    </tr>\n",
       "    <tr>\n",
       "      <th>BTC</th>\n",
       "      <td>-0.148343</td>\n",
       "      <td>-2.231451</td>\n",
       "      <td>0.415101</td>\n",
       "    </tr>\n",
       "    <tr>\n",
       "      <th>ETH</th>\n",
       "      <td>-0.150192</td>\n",
       "      <td>-2.044587</td>\n",
       "      <td>0.356132</td>\n",
       "    </tr>\n",
       "    <tr>\n",
       "      <th>LTC</th>\n",
       "      <td>-0.154867</td>\n",
       "      <td>-2.041512</td>\n",
       "      <td>0.432079</td>\n",
       "    </tr>\n",
       "    <tr>\n",
       "      <th>DASH</th>\n",
       "      <td>-0.282779</td>\n",
       "      <td>1.347116</td>\n",
       "      <td>-0.020772</td>\n",
       "    </tr>\n",
       "    <tr>\n",
       "      <th>XMR</th>\n",
       "      <td>0.167585</td>\n",
       "      <td>-1.748403</td>\n",
       "      <td>0.321259</td>\n",
       "    </tr>\n",
       "    <tr>\n",
       "      <th>ETC</th>\n",
       "      <td>-0.317841</td>\n",
       "      <td>0.878202</td>\n",
       "      <td>-0.367228</td>\n",
       "    </tr>\n",
       "    <tr>\n",
       "      <th>ZEC</th>\n",
       "      <td>-0.271402</td>\n",
       "      <td>0.607574</td>\n",
       "      <td>-0.062275</td>\n",
       "    </tr>\n",
       "    <tr>\n",
       "      <th>BTS</th>\n",
       "      <td>-0.163515</td>\n",
       "      <td>-1.160079</td>\n",
       "      <td>0.015904</td>\n",
       "    </tr>\n",
       "    <tr>\n",
       "      <th>DGB</th>\n",
       "      <td>-0.251787</td>\n",
       "      <td>1.909616</td>\n",
       "      <td>-0.606535</td>\n",
       "    </tr>\n",
       "    <tr>\n",
       "      <th>BTCD</th>\n",
       "      <td>-0.226992</td>\n",
       "      <td>-0.788140</td>\n",
       "      <td>0.032171</td>\n",
       "    </tr>\n",
       "    <tr>\n",
       "      <th>XPY</th>\n",
       "      <td>-0.326189</td>\n",
       "      <td>0.993815</td>\n",
       "      <td>-0.522920</td>\n",
       "    </tr>\n",
       "    <tr>\n",
       "      <th>PRC</th>\n",
       "      <td>-0.085857</td>\n",
       "      <td>-1.741028</td>\n",
       "      <td>0.325015</td>\n",
       "    </tr>\n",
       "    <tr>\n",
       "      <th>KOBO</th>\n",
       "      <td>-0.162936</td>\n",
       "      <td>-1.160122</td>\n",
       "      <td>0.015899</td>\n",
       "    </tr>\n",
       "    <tr>\n",
       "      <th>SPR</th>\n",
       "      <td>-0.204840</td>\n",
       "      <td>-1.199045</td>\n",
       "      <td>0.111780</td>\n",
       "    </tr>\n",
       "    <tr>\n",
       "      <th>ARG</th>\n",
       "      <td>0.230495</td>\n",
       "      <td>-1.280998</td>\n",
       "      <td>0.165082</td>\n",
       "    </tr>\n",
       "    <tr>\n",
       "      <th>AUR</th>\n",
       "      <td>-0.163330</td>\n",
       "      <td>-1.160074</td>\n",
       "      <td>0.015900</td>\n",
       "    </tr>\n",
       "    <tr>\n",
       "      <th>BLU</th>\n",
       "      <td>-0.351652</td>\n",
       "      <td>1.400049</td>\n",
       "      <td>-0.090706</td>\n",
       "    </tr>\n",
       "    <tr>\n",
       "      <th>XMY</th>\n",
       "      <td>-0.163641</td>\n",
       "      <td>-1.160075</td>\n",
       "      <td>0.015906</td>\n",
       "    </tr>\n",
       "    <tr>\n",
       "      <th>MOON</th>\n",
       "      <td>-0.179137</td>\n",
       "      <td>-1.644759</td>\n",
       "      <td>0.228306</td>\n",
       "    </tr>\n",
       "    <tr>\n",
       "      <th>ZET</th>\n",
       "      <td>-0.142860</td>\n",
       "      <td>-1.160569</td>\n",
       "      <td>0.015583</td>\n",
       "    </tr>\n",
       "    <tr>\n",
       "      <th>SXC</th>\n",
       "      <td>-0.162436</td>\n",
       "      <td>-1.160087</td>\n",
       "      <td>0.015885</td>\n",
       "    </tr>\n",
       "    <tr>\n",
       "      <th>QTL</th>\n",
       "      <td>-0.162713</td>\n",
       "      <td>-1.160096</td>\n",
       "      <td>0.015891</td>\n",
       "    </tr>\n",
       "    <tr>\n",
       "      <th>ENRG</th>\n",
       "      <td>-0.332013</td>\n",
       "      <td>0.993571</td>\n",
       "      <td>-0.522778</td>\n",
       "    </tr>\n",
       "    <tr>\n",
       "      <th>QRK</th>\n",
       "      <td>-0.330602</td>\n",
       "      <td>1.095455</td>\n",
       "      <td>-0.201980</td>\n",
       "    </tr>\n",
       "    <tr>\n",
       "      <th>RIC</th>\n",
       "      <td>1.585623</td>\n",
       "      <td>-1.180819</td>\n",
       "      <td>-0.014087</td>\n",
       "    </tr>\n",
       "    <tr>\n",
       "      <th>DGC</th>\n",
       "      <td>-0.397119</td>\n",
       "      <td>1.365539</td>\n",
       "      <td>-0.506484</td>\n",
       "    </tr>\n",
       "    <tr>\n",
       "      <th>BTB</th>\n",
       "      <td>-0.160002</td>\n",
       "      <td>-1.160167</td>\n",
       "      <td>0.015850</td>\n",
       "    </tr>\n",
       "    <tr>\n",
       "      <th>...</th>\n",
       "      <td>...</td>\n",
       "      <td>...</td>\n",
       "      <td>...</td>\n",
       "    </tr>\n",
       "    <tr>\n",
       "      <th>FRWC</th>\n",
       "      <td>-0.227060</td>\n",
       "      <td>-0.788143</td>\n",
       "      <td>0.032173</td>\n",
       "    </tr>\n",
       "    <tr>\n",
       "      <th>MUDRA</th>\n",
       "      <td>-0.365951</td>\n",
       "      <td>0.934344</td>\n",
       "      <td>-0.351235</td>\n",
       "    </tr>\n",
       "    <tr>\n",
       "      <th>PIZZA</th>\n",
       "      <td>-0.359023</td>\n",
       "      <td>1.398068</td>\n",
       "      <td>-0.184589</td>\n",
       "    </tr>\n",
       "    <tr>\n",
       "      <th>LC</th>\n",
       "      <td>-0.163560</td>\n",
       "      <td>-1.160081</td>\n",
       "      <td>0.015905</td>\n",
       "    </tr>\n",
       "    <tr>\n",
       "      <th>KMD</th>\n",
       "      <td>-0.135958</td>\n",
       "      <td>-2.232422</td>\n",
       "      <td>0.414999</td>\n",
       "    </tr>\n",
       "    <tr>\n",
       "      <th>GB</th>\n",
       "      <td>-0.157625</td>\n",
       "      <td>-2.340034</td>\n",
       "      <td>0.429153</td>\n",
       "    </tr>\n",
       "    <tr>\n",
       "      <th>CTC</th>\n",
       "      <td>-0.284419</td>\n",
       "      <td>0.722863</td>\n",
       "      <td>-0.217835</td>\n",
       "    </tr>\n",
       "    <tr>\n",
       "      <th>KRB</th>\n",
       "      <td>-0.193409</td>\n",
       "      <td>0.983969</td>\n",
       "      <td>-0.524081</td>\n",
       "    </tr>\n",
       "    <tr>\n",
       "      <th>BXT</th>\n",
       "      <td>-0.200782</td>\n",
       "      <td>-1.200417</td>\n",
       "      <td>0.190011</td>\n",
       "    </tr>\n",
       "    <tr>\n",
       "      <th>ZYD</th>\n",
       "      <td>-0.146906</td>\n",
       "      <td>0.242026</td>\n",
       "      <td>0.154244</td>\n",
       "    </tr>\n",
       "    <tr>\n",
       "      <th>MST</th>\n",
       "      <td>-0.049477</td>\n",
       "      <td>-2.044339</td>\n",
       "      <td>0.430484</td>\n",
       "    </tr>\n",
       "    <tr>\n",
       "      <th>ZNE</th>\n",
       "      <td>-0.152580</td>\n",
       "      <td>-2.268084</td>\n",
       "      <td>0.365433</td>\n",
       "    </tr>\n",
       "    <tr>\n",
       "      <th>COVAL</th>\n",
       "      <td>-0.147424</td>\n",
       "      <td>-1.275470</td>\n",
       "      <td>0.171420</td>\n",
       "    </tr>\n",
       "    <tr>\n",
       "      <th>ROOT</th>\n",
       "      <td>0.379906</td>\n",
       "      <td>-2.367758</td>\n",
       "      <td>0.384120</td>\n",
       "    </tr>\n",
       "    <tr>\n",
       "      <th>DOPE</th>\n",
       "      <td>-0.406101</td>\n",
       "      <td>1.668720</td>\n",
       "      <td>-0.489534</td>\n",
       "    </tr>\n",
       "    <tr>\n",
       "      <th>BTCR</th>\n",
       "      <td>-0.154579</td>\n",
       "      <td>-2.041512</td>\n",
       "      <td>0.432073</td>\n",
       "    </tr>\n",
       "    <tr>\n",
       "      <th>DLC</th>\n",
       "      <td>-0.181510</td>\n",
       "      <td>-1.484129</td>\n",
       "      <td>0.149906</td>\n",
       "    </tr>\n",
       "    <tr>\n",
       "      <th>SCN</th>\n",
       "      <td>-0.350966</td>\n",
       "      <td>1.094898</td>\n",
       "      <td>-0.201523</td>\n",
       "    </tr>\n",
       "    <tr>\n",
       "      <th>SH</th>\n",
       "      <td>-0.295906</td>\n",
       "      <td>1.883833</td>\n",
       "      <td>-0.496210</td>\n",
       "    </tr>\n",
       "    <tr>\n",
       "      <th>BUZZ</th>\n",
       "      <td>-0.305069</td>\n",
       "      <td>1.893032</td>\n",
       "      <td>-0.732511</td>\n",
       "    </tr>\n",
       "    <tr>\n",
       "      <th>XPO</th>\n",
       "      <td>-0.119559</td>\n",
       "      <td>-0.425541</td>\n",
       "      <td>-0.054699</td>\n",
       "    </tr>\n",
       "    <tr>\n",
       "      <th>PSB</th>\n",
       "      <td>-0.145567</td>\n",
       "      <td>-1.275529</td>\n",
       "      <td>0.171394</td>\n",
       "    </tr>\n",
       "    <tr>\n",
       "      <th>HALLO</th>\n",
       "      <td>-0.101154</td>\n",
       "      <td>-2.235824</td>\n",
       "      <td>0.409761</td>\n",
       "    </tr>\n",
       "    <tr>\n",
       "      <th>XZC</th>\n",
       "      <td>-0.204401</td>\n",
       "      <td>-1.199049</td>\n",
       "      <td>0.111773</td>\n",
       "    </tr>\n",
       "    <tr>\n",
       "      <th>CFC</th>\n",
       "      <td>-0.161593</td>\n",
       "      <td>-1.160148</td>\n",
       "      <td>0.015877</td>\n",
       "    </tr>\n",
       "    <tr>\n",
       "      <th>ROYAL</th>\n",
       "      <td>-0.120605</td>\n",
       "      <td>-1.740469</td>\n",
       "      <td>0.325591</td>\n",
       "    </tr>\n",
       "    <tr>\n",
       "      <th>GNJ</th>\n",
       "      <td>-0.252328</td>\n",
       "      <td>0.607349</td>\n",
       "      <td>-0.062602</td>\n",
       "    </tr>\n",
       "    <tr>\n",
       "      <th>TEAM</th>\n",
       "      <td>-0.417614</td>\n",
       "      <td>3.430502</td>\n",
       "      <td>13.911529</td>\n",
       "    </tr>\n",
       "    <tr>\n",
       "      <th>LANA</th>\n",
       "      <td>34.066598</td>\n",
       "      <td>1.579395</td>\n",
       "      <td>-0.756369</td>\n",
       "    </tr>\n",
       "    <tr>\n",
       "      <th>ELE</th>\n",
       "      <td>-0.346040</td>\n",
       "      <td>1.366557</td>\n",
       "      <td>-0.115255</td>\n",
       "    </tr>\n",
       "  </tbody>\n",
       "</table>\n",
       "<p>205 rows × 3 columns</p>\n",
       "</div>"
      ],
      "text/plain": [
       "                 PC 1      PC 2       PC 3\n",
       "Unnamed: 0                                \n",
       "42          -0.333955  0.993608  -0.522746\n",
       "404          2.294921  1.563401  -0.619588\n",
       "1337        -0.162368 -1.160095   0.015884\n",
       "BTC         -0.148343 -2.231451   0.415101\n",
       "ETH         -0.150192 -2.044587   0.356132\n",
       "LTC         -0.154867 -2.041512   0.432079\n",
       "DASH        -0.282779  1.347116  -0.020772\n",
       "XMR          0.167585 -1.748403   0.321259\n",
       "ETC         -0.317841  0.878202  -0.367228\n",
       "ZEC         -0.271402  0.607574  -0.062275\n",
       "BTS         -0.163515 -1.160079   0.015904\n",
       "DGB         -0.251787  1.909616  -0.606535\n",
       "BTCD        -0.226992 -0.788140   0.032171\n",
       "XPY         -0.326189  0.993815  -0.522920\n",
       "PRC         -0.085857 -1.741028   0.325015\n",
       "KOBO        -0.162936 -1.160122   0.015899\n",
       "SPR         -0.204840 -1.199045   0.111780\n",
       "ARG          0.230495 -1.280998   0.165082\n",
       "AUR         -0.163330 -1.160074   0.015900\n",
       "BLU         -0.351652  1.400049  -0.090706\n",
       "XMY         -0.163641 -1.160075   0.015906\n",
       "MOON        -0.179137 -1.644759   0.228306\n",
       "ZET         -0.142860 -1.160569   0.015583\n",
       "SXC         -0.162436 -1.160087   0.015885\n",
       "QTL         -0.162713 -1.160096   0.015891\n",
       "ENRG        -0.332013  0.993571  -0.522778\n",
       "QRK         -0.330602  1.095455  -0.201980\n",
       "RIC          1.585623 -1.180819  -0.014087\n",
       "DGC         -0.397119  1.365539  -0.506484\n",
       "BTB         -0.160002 -1.160167   0.015850\n",
       "...               ...       ...        ...\n",
       "FRWC        -0.227060 -0.788143   0.032173\n",
       "MUDRA       -0.365951  0.934344  -0.351235\n",
       "PIZZA       -0.359023  1.398068  -0.184589\n",
       "LC          -0.163560 -1.160081   0.015905\n",
       "KMD         -0.135958 -2.232422   0.414999\n",
       "GB          -0.157625 -2.340034   0.429153\n",
       "CTC         -0.284419  0.722863  -0.217835\n",
       "KRB         -0.193409  0.983969  -0.524081\n",
       "BXT         -0.200782 -1.200417   0.190011\n",
       "ZYD         -0.146906  0.242026   0.154244\n",
       "MST         -0.049477 -2.044339   0.430484\n",
       "ZNE         -0.152580 -2.268084   0.365433\n",
       "COVAL       -0.147424 -1.275470   0.171420\n",
       "ROOT         0.379906 -2.367758   0.384120\n",
       "DOPE        -0.406101  1.668720  -0.489534\n",
       "BTCR        -0.154579 -2.041512   0.432073\n",
       "DLC         -0.181510 -1.484129   0.149906\n",
       "SCN         -0.350966  1.094898  -0.201523\n",
       "SH          -0.295906  1.883833  -0.496210\n",
       "BUZZ        -0.305069  1.893032  -0.732511\n",
       "XPO         -0.119559 -0.425541  -0.054699\n",
       "PSB         -0.145567 -1.275529   0.171394\n",
       "HALLO       -0.101154 -2.235824   0.409761\n",
       "XZC         -0.204401 -1.199049   0.111773\n",
       "CFC         -0.161593 -1.160148   0.015877\n",
       "ROYAL       -0.120605 -1.740469   0.325591\n",
       "GNJ         -0.252328  0.607349  -0.062602\n",
       "TEAM        -0.417614  3.430502  13.911529\n",
       "LANA        34.066598  1.579395  -0.756369\n",
       "ELE         -0.346040  1.366557  -0.115255\n",
       "\n",
       "[205 rows x 3 columns]"
      ]
     },
     "execution_count": 65,
     "metadata": {},
     "output_type": "execute_result"
    }
   ],
   "source": [
    "# Remove \"Unnamed: 0\"\n",
    "pca_df = pca_df.set_index([\"Unnamed: 0\"])\n",
    "pca_df"
   ]
  },
  {
   "cell_type": "code",
   "execution_count": 66,
   "metadata": {},
   "outputs": [],
   "source": [
    "# Save the PC data\n",
    "file_path = \"./Resources/principal_components.csv\"\n",
    "pca_df.to_csv(file_path, index=False)"
   ]
  },
  {
   "cell_type": "markdown",
   "metadata": {},
   "source": [
    "# Clustering Cryptocurrencies Using K-Means"
   ]
  },
  {
   "cell_type": "code",
   "execution_count": 67,
   "metadata": {},
   "outputs": [
    {
     "data": {
      "application/vnd.holoviews_exec.v0+json": "",
      "text/html": [
       "<div id='1796'>\n",
       "\n",
       "\n",
       "\n",
       "\n",
       "\n",
       "  <div class=\"bk-root\" id=\"b4f20111-73f4-4f48-b2ed-741602b9ee48\" data-root-id=\"1796\"></div>\n",
       "</div>\n",
       "<script type=\"application/javascript\">(function(root) {\n",
       "  function embed_document(root) {\n",
       "  var docs_json = {\"ac1b828a-2e2f-4524-ad18-f6be779b1719\":{\"roots\":{\"references\":[{\"attributes\":{\"overlay\":{\"id\":\"1823\"}},\"id\":\"1821\",\"type\":\"BoxZoomTool\"},{\"attributes\":{\"end\":2101.8139595180114,\"reset_end\":2101.8139595180114,\"reset_start\":-166.29218364522353,\"start\":-166.29218364522353,\"tags\":[[[\"inertia\",\"inertia\",null]]]},\"id\":\"1799\",\"type\":\"Range1d\"},{\"attributes\":{\"end\":10.0,\"reset_end\":10.0,\"reset_start\":1.0,\"start\":1.0,\"tags\":[[[\"k\",\"k\",null]]]},\"id\":\"1798\",\"type\":\"Range1d\"},{\"attributes\":{},\"id\":\"1822\",\"type\":\"ResetTool\"},{\"attributes\":{},\"id\":\"1841\",\"type\":\"BasicTickFormatter\"},{\"attributes\":{\"data\":{\"inertia\":{\"__ndarray__\":\"6gDfbzjjnUArFp2pnmWHQCjCILNlnnZAktNKS5KAY0BYDRqlRRtZQCAnmM1lbVJArjZMoY6ZSUAuxOOiCPFCQBsBC4+l9DpA6jzFIne3NkA=\",\"dtype\":\"float64\",\"order\":\"little\",\"shape\":[10]},\"k\":[1,2,3,4,5,6,7,8,9,10]},\"selected\":{\"id\":\"1832\"},\"selection_policy\":{\"id\":\"1851\"}},\"id\":\"1831\",\"type\":\"ColumnDataSource\"},{\"attributes\":{\"active_drag\":\"auto\",\"active_inspect\":\"auto\",\"active_multi\":null,\"active_scroll\":\"auto\",\"active_tap\":\"auto\",\"tools\":[{\"id\":\"1800\"},{\"id\":\"1818\"},{\"id\":\"1819\"},{\"id\":\"1820\"},{\"id\":\"1821\"},{\"id\":\"1822\"}]},\"id\":\"1824\",\"type\":\"Toolbar\"},{\"attributes\":{\"align\":null,\"below\":[{\"id\":\"1810\"}],\"center\":[{\"id\":\"1813\"},{\"id\":\"1817\"}],\"left\":[{\"id\":\"1814\"}],\"margin\":null,\"min_border_bottom\":10,\"min_border_left\":10,\"min_border_right\":10,\"min_border_top\":10,\"plot_height\":300,\"plot_width\":700,\"renderers\":[{\"id\":\"1837\"}],\"sizing_mode\":\"fixed\",\"title\":{\"id\":\"1802\"},\"toolbar\":{\"id\":\"1824\"},\"x_range\":{\"id\":\"1798\"},\"x_scale\":{\"id\":\"1806\"},\"y_range\":{\"id\":\"1799\"},\"y_scale\":{\"id\":\"1808\"}},\"id\":\"1801\",\"subtype\":\"Figure\",\"type\":\"Plot\"},{\"attributes\":{\"ticks\":[1,2,3,4,5,6,7,8,9,10]},\"id\":\"1839\",\"type\":\"FixedTicker\"},{\"attributes\":{},\"id\":\"1820\",\"type\":\"WheelZoomTool\"},{\"attributes\":{\"text\":\"Elbow Curve\",\"text_color\":{\"value\":\"black\"},\"text_font_size\":{\"value\":\"12pt\"}},\"id\":\"1802\",\"type\":\"Title\"},{\"attributes\":{},\"id\":\"1806\",\"type\":\"LinearScale\"},{\"attributes\":{\"bottom_units\":\"screen\",\"fill_alpha\":0.5,\"fill_color\":\"lightgrey\",\"left_units\":\"screen\",\"level\":\"overlay\",\"line_alpha\":1.0,\"line_color\":\"black\",\"line_dash\":[4,4],\"line_width\":2,\"right_units\":\"screen\",\"top_units\":\"screen\"},\"id\":\"1823\",\"type\":\"BoxAnnotation\"},{\"attributes\":{},\"id\":\"1808\",\"type\":\"LinearScale\"},{\"attributes\":{\"axis_label\":\"k\",\"bounds\":\"auto\",\"formatter\":{\"id\":\"1841\"},\"major_label_orientation\":\"horizontal\",\"ticker\":{\"id\":\"1839\"}},\"id\":\"1810\",\"type\":\"LinearAxis\"},{\"attributes\":{},\"id\":\"1832\",\"type\":\"Selection\"},{\"attributes\":{},\"id\":\"1845\",\"type\":\"BasicTickFormatter\"},{\"attributes\":{\"axis\":{\"id\":\"1810\"},\"grid_line_color\":null,\"ticker\":null},\"id\":\"1813\",\"type\":\"Grid\"},{\"attributes\":{\"axis_label\":\"inertia\",\"bounds\":\"auto\",\"formatter\":{\"id\":\"1845\"},\"major_label_orientation\":\"horizontal\",\"ticker\":{\"id\":\"1815\"}},\"id\":\"1814\",\"type\":\"LinearAxis\"},{\"attributes\":{\"data_source\":{\"id\":\"1831\"},\"glyph\":{\"id\":\"1834\"},\"hover_glyph\":null,\"muted_glyph\":{\"id\":\"1836\"},\"nonselection_glyph\":{\"id\":\"1835\"},\"selection_glyph\":null,\"view\":{\"id\":\"1838\"}},\"id\":\"1837\",\"type\":\"GlyphRenderer\"},{\"attributes\":{\"line_color\":\"#1f77b3\",\"line_width\":2,\"x\":{\"field\":\"k\"},\"y\":{\"field\":\"inertia\"}},\"id\":\"1834\",\"type\":\"Line\"},{\"attributes\":{},\"id\":\"1815\",\"type\":\"BasicTicker\"},{\"attributes\":{\"line_alpha\":0.2,\"line_color\":\"#1f77b3\",\"line_width\":2,\"x\":{\"field\":\"k\"},\"y\":{\"field\":\"inertia\"}},\"id\":\"1836\",\"type\":\"Line\"},{\"attributes\":{\"axis\":{\"id\":\"1814\"},\"dimension\":1,\"grid_line_color\":null,\"ticker\":null},\"id\":\"1817\",\"type\":\"Grid\"},{\"attributes\":{\"source\":{\"id\":\"1831\"}},\"id\":\"1838\",\"type\":\"CDSView\"},{\"attributes\":{\"line_alpha\":0.1,\"line_color\":\"#1f77b3\",\"line_width\":2,\"x\":{\"field\":\"k\"},\"y\":{\"field\":\"inertia\"}},\"id\":\"1835\",\"type\":\"Line\"},{\"attributes\":{\"margin\":[5,5,5,5],\"name\":\"HSpacer03401\",\"sizing_mode\":\"stretch_width\"},\"id\":\"1797\",\"type\":\"Spacer\"},{\"attributes\":{},\"id\":\"1818\",\"type\":\"SaveTool\"},{\"attributes\":{\"callback\":null,\"renderers\":[{\"id\":\"1837\"}],\"tags\":[\"hv_created\"],\"tooltips\":[[\"k\",\"@{k}\"],[\"inertia\",\"@{inertia}\"]]},\"id\":\"1800\",\"type\":\"HoverTool\"},{\"attributes\":{},\"id\":\"1851\",\"type\":\"UnionRenderers\"},{\"attributes\":{\"children\":[{\"id\":\"1797\"},{\"id\":\"1801\"},{\"id\":\"1860\"}],\"margin\":[0,0,0,0],\"name\":\"Row03397\",\"tags\":[\"embedded\"]},\"id\":\"1796\",\"type\":\"Row\"},{\"attributes\":{},\"id\":\"1819\",\"type\":\"PanTool\"},{\"attributes\":{\"margin\":[5,5,5,5],\"name\":\"HSpacer03402\",\"sizing_mode\":\"stretch_width\"},\"id\":\"1860\",\"type\":\"Spacer\"}],\"root_ids\":[\"1796\"]},\"title\":\"Bokeh Application\",\"version\":\"2.1.1\"}};\n",
       "  var render_items = [{\"docid\":\"ac1b828a-2e2f-4524-ad18-f6be779b1719\",\"root_ids\":[\"1796\"],\"roots\":{\"1796\":\"b4f20111-73f4-4f48-b2ed-741602b9ee48\"}}];\n",
       "  root.Bokeh.embed.embed_items_notebook(docs_json, render_items);\n",
       "  }\n",
       "if (root.Bokeh !== undefined) {\n",
       "    embed_document(root);\n",
       "  } else {\n",
       "    var attempts = 0;\n",
       "    var timer = setInterval(function(root) {\n",
       "      if (root.Bokeh !== undefined) {\n",
       "        clearInterval(timer);\n",
       "        embed_document(root);\n",
       "      } else if (document.readyState == \"complete\") {\n",
       "        attempts++;\n",
       "        if (attempts > 100) {\n",
       "          clearInterval(timer);\n",
       "          console.log(\"Bokeh: ERROR: Unable to run BokehJS code because BokehJS library is missing\");\n",
       "        }\n",
       "      }\n",
       "    }, 10, root)\n",
       "  }\n",
       "})(window);</script>"
      ],
      "text/plain": [
       ":Curve   [k]   (inertia)"
      ]
     },
     "execution_count": 67,
     "metadata": {
      "application/vnd.holoviews_exec.v0+json": {
       "id": "1796"
      }
     },
     "output_type": "execute_result"
    }
   ],
   "source": [
    "# STEP 1\n",
    "# Create an elbow curve to find the best value for K, and use the pcs_df DataFrame.\n",
    "\n",
    "# Create empty lists\n",
    "inertia = []\n",
    "k = list(range(1, 11))\n",
    "\n",
    "# Calculate the inertia for the range of K values\n",
    "for i in k:\n",
    "   km = KMeans(n_clusters=i, random_state=0)\n",
    "   km.fit(pca_df)\n",
    "   inertia.append(km.inertia_)\n",
    "\n",
    "# Create the Elbow Curve using hvPlot\n",
    "elbow_data = {\"k\": k, \"inertia\": inertia}\n",
    "df_elbow = pd.DataFrame(elbow_data)\n",
    "df_elbow.hvplot.line(x=\"k\", y=\"inertia\", xticks=k, title=\"Elbow Curve\")"
   ]
  },
  {
   "cell_type": "markdown",
   "metadata": {},
   "source": [
    "Based off the elbow curve, I'd say that our ideal number of clusters is 4. "
   ]
  },
  {
   "cell_type": "code",
   "execution_count": 68,
   "metadata": {},
   "outputs": [
    {
     "data": {
      "text/plain": [
       "KMeans(algorithm='auto', copy_x=True, init='k-means++', max_iter=300,\n",
       "       n_clusters=4, n_init=10, n_jobs=None, precompute_distances='auto',\n",
       "       random_state=None, tol=0.0001, verbose=0)"
      ]
     },
     "execution_count": 68,
     "metadata": {},
     "output_type": "execute_result"
    }
   ],
   "source": [
    "km = KMeans(n_clusters=4)\n",
    "km.fit(pca_df)"
   ]
  },
  {
   "cell_type": "code",
   "execution_count": 69,
   "metadata": {},
   "outputs": [
    {
     "name": "stdout",
     "output_type": "stream",
     "text": [
      "[0 0 2 2 2 2 0 2 0 0 2 0 2 0 2 2 2 2 2 0 2 2 2 2 2 0 0 2 0 2 2 0 0 2 2 0 0\n",
      " 2 0 0 2 2 2 0 2 2 2 0 0 2 0 0 0 2 0 2 2 2 2 0 0 2 2 2 0 0 2 0 0 2 2 0 2 2\n",
      " 0 0 0 0 0 2 0 0 2 0 0 2 0 2 0 2 0 0 0 0 0 0 2 2 0 0 0 2 0 0 2 0 0 0 0 0 2\n",
      " 2 0 0 0 0 2 0 2 2 0 0 0 0 2 0 0 0 2 2 0 0 2 2 0 2 0 2 0 0 2 2 0 0 0 2 2 2\n",
      " 0 0 0 0 2 0 0 2 0 2 0 0 0 2 0 2 2 0 2 0 2 0 0 2 2 0 0 2 0 0 2 2 2 0 0 2 0\n",
      " 2 2 2 2 0 2 2 0 0 0 2 2 2 2 2 2 0 3 1 0]\n"
     ]
    }
   ],
   "source": [
    "# STEP 2\n",
    "# Once you define the best value for K, run the K-means algorithm to predict the K clusters for the cryptocurrencies’ data.\n",
    "# Use the pcs_df to run the K-means algorithm.\n",
    "\n",
    "# Initialize the K-means model\n",
    "model = KMeans(n_clusters=4, random_state=0)\n",
    "\n",
    "# Fit the model\n",
    "model.fit(pca_df)\n",
    "\n",
    "# Predict clusters\n",
    "predictions = model.predict(pca_df)\n",
    "print(predictions)"
   ]
  },
  {
   "cell_type": "code",
   "execution_count": 70,
   "metadata": {},
   "outputs": [
    {
     "data": {
      "text/html": [
       "<div>\n",
       "<style scoped>\n",
       "    .dataframe tbody tr th:only-of-type {\n",
       "        vertical-align: middle;\n",
       "    }\n",
       "\n",
       "    .dataframe tbody tr th {\n",
       "        vertical-align: top;\n",
       "    }\n",
       "\n",
       "    .dataframe thead th {\n",
       "        text-align: right;\n",
       "    }\n",
       "</style>\n",
       "<table border=\"1\" class=\"dataframe\">\n",
       "  <thead>\n",
       "    <tr style=\"text-align: right;\">\n",
       "      <th></th>\n",
       "      <th>Algorithm</th>\n",
       "      <th>ProofType</th>\n",
       "      <th>TotalCoinsMined</th>\n",
       "      <th>TotalCoinSupply</th>\n",
       "      <th>PC 1</th>\n",
       "      <th>PC 2</th>\n",
       "      <th>PC 3</th>\n",
       "      <th>CoinName</th>\n",
       "      <th>class</th>\n",
       "    </tr>\n",
       "    <tr>\n",
       "      <th>Unnamed: 0</th>\n",
       "      <th></th>\n",
       "      <th></th>\n",
       "      <th></th>\n",
       "      <th></th>\n",
       "      <th></th>\n",
       "      <th></th>\n",
       "      <th></th>\n",
       "      <th></th>\n",
       "      <th></th>\n",
       "    </tr>\n",
       "  </thead>\n",
       "  <tbody>\n",
       "    <tr>\n",
       "      <th>42</th>\n",
       "      <td>Scrypt</td>\n",
       "      <td>PoW/PoS</td>\n",
       "      <td>4.199995e+01</td>\n",
       "      <td>4.200000e+01</td>\n",
       "      <td>-0.333955</td>\n",
       "      <td>0.993608</td>\n",
       "      <td>-0.522746</td>\n",
       "      <td>42 Coin</td>\n",
       "      <td>0</td>\n",
       "    </tr>\n",
       "    <tr>\n",
       "      <th>404</th>\n",
       "      <td>Scrypt</td>\n",
       "      <td>PoW/PoS</td>\n",
       "      <td>1.055185e+09</td>\n",
       "      <td>5.320000e+08</td>\n",
       "      <td>2.294921</td>\n",
       "      <td>1.563401</td>\n",
       "      <td>-0.619588</td>\n",
       "      <td>404Coin</td>\n",
       "      <td>0</td>\n",
       "    </tr>\n",
       "    <tr>\n",
       "      <th>1337</th>\n",
       "      <td>X13</td>\n",
       "      <td>PoW/PoS</td>\n",
       "      <td>2.927942e+10</td>\n",
       "      <td>3.141593e+11</td>\n",
       "      <td>-0.162368</td>\n",
       "      <td>-1.160095</td>\n",
       "      <td>0.015884</td>\n",
       "      <td>EliteCoin</td>\n",
       "      <td>2</td>\n",
       "    </tr>\n",
       "    <tr>\n",
       "      <th>BTC</th>\n",
       "      <td>SHA-256</td>\n",
       "      <td>PoW</td>\n",
       "      <td>1.792718e+07</td>\n",
       "      <td>2.100000e+07</td>\n",
       "      <td>-0.148343</td>\n",
       "      <td>-2.231451</td>\n",
       "      <td>0.415101</td>\n",
       "      <td>Bitcoin</td>\n",
       "      <td>2</td>\n",
       "    </tr>\n",
       "    <tr>\n",
       "      <th>ETH</th>\n",
       "      <td>Ethash</td>\n",
       "      <td>PoW</td>\n",
       "      <td>1.076842e+08</td>\n",
       "      <td>0.000000e+00</td>\n",
       "      <td>-0.150192</td>\n",
       "      <td>-2.044587</td>\n",
       "      <td>0.356132</td>\n",
       "      <td>Ethereum</td>\n",
       "      <td>2</td>\n",
       "    </tr>\n",
       "    <tr>\n",
       "      <th>LTC</th>\n",
       "      <td>Scrypt</td>\n",
       "      <td>PoW</td>\n",
       "      <td>6.303924e+07</td>\n",
       "      <td>8.400000e+07</td>\n",
       "      <td>-0.154867</td>\n",
       "      <td>-2.041512</td>\n",
       "      <td>0.432079</td>\n",
       "      <td>Litecoin</td>\n",
       "      <td>2</td>\n",
       "    </tr>\n",
       "    <tr>\n",
       "      <th>DASH</th>\n",
       "      <td>X11</td>\n",
       "      <td>PoW/PoS</td>\n",
       "      <td>9.031294e+06</td>\n",
       "      <td>2.200000e+07</td>\n",
       "      <td>-0.282779</td>\n",
       "      <td>1.347116</td>\n",
       "      <td>-0.020772</td>\n",
       "      <td>Dash</td>\n",
       "      <td>0</td>\n",
       "    </tr>\n",
       "    <tr>\n",
       "      <th>XMR</th>\n",
       "      <td>CryptoNight-V7</td>\n",
       "      <td>PoW</td>\n",
       "      <td>1.720114e+07</td>\n",
       "      <td>0.000000e+00</td>\n",
       "      <td>0.167585</td>\n",
       "      <td>-1.748403</td>\n",
       "      <td>0.321259</td>\n",
       "      <td>Monero</td>\n",
       "      <td>2</td>\n",
       "    </tr>\n",
       "    <tr>\n",
       "      <th>ETC</th>\n",
       "      <td>Ethash</td>\n",
       "      <td>PoW</td>\n",
       "      <td>1.133597e+08</td>\n",
       "      <td>2.100000e+08</td>\n",
       "      <td>-0.317841</td>\n",
       "      <td>0.878202</td>\n",
       "      <td>-0.367228</td>\n",
       "      <td>Ethereum Classic</td>\n",
       "      <td>0</td>\n",
       "    </tr>\n",
       "    <tr>\n",
       "      <th>ZEC</th>\n",
       "      <td>Equihash</td>\n",
       "      <td>PoW</td>\n",
       "      <td>7.383056e+06</td>\n",
       "      <td>2.100000e+07</td>\n",
       "      <td>-0.271402</td>\n",
       "      <td>0.607574</td>\n",
       "      <td>-0.062275</td>\n",
       "      <td>ZCash</td>\n",
       "      <td>0</td>\n",
       "    </tr>\n",
       "  </tbody>\n",
       "</table>\n",
       "</div>"
      ],
      "text/plain": [
       "                 Algorithm ProofType  TotalCoinsMined  TotalCoinSupply  \\\n",
       "Unnamed: 0                                                               \n",
       "42                  Scrypt   PoW/PoS     4.199995e+01     4.200000e+01   \n",
       "404                 Scrypt   PoW/PoS     1.055185e+09     5.320000e+08   \n",
       "1337                   X13   PoW/PoS     2.927942e+10     3.141593e+11   \n",
       "BTC                SHA-256       PoW     1.792718e+07     2.100000e+07   \n",
       "ETH                 Ethash       PoW     1.076842e+08     0.000000e+00   \n",
       "LTC                 Scrypt       PoW     6.303924e+07     8.400000e+07   \n",
       "DASH                   X11   PoW/PoS     9.031294e+06     2.200000e+07   \n",
       "XMR         CryptoNight-V7       PoW     1.720114e+07     0.000000e+00   \n",
       "ETC                 Ethash       PoW     1.133597e+08     2.100000e+08   \n",
       "ZEC               Equihash       PoW     7.383056e+06     2.100000e+07   \n",
       "\n",
       "                PC 1      PC 2      PC 3          CoinName  class  \n",
       "Unnamed: 0                                                         \n",
       "42         -0.333955  0.993608 -0.522746           42 Coin      0  \n",
       "404         2.294921  1.563401 -0.619588           404Coin      0  \n",
       "1337       -0.162368 -1.160095  0.015884         EliteCoin      2  \n",
       "BTC        -0.148343 -2.231451  0.415101           Bitcoin      2  \n",
       "ETH        -0.150192 -2.044587  0.356132          Ethereum      2  \n",
       "LTC        -0.154867 -2.041512  0.432079          Litecoin      2  \n",
       "DASH       -0.282779  1.347116 -0.020772              Dash      0  \n",
       "XMR         0.167585 -1.748403  0.321259            Monero      2  \n",
       "ETC        -0.317841  0.878202 -0.367228  Ethereum Classic      0  \n",
       "ZEC        -0.271402  0.607574 -0.062275             ZCash      0  "
      ]
     },
     "execution_count": 70,
     "metadata": {},
     "output_type": "execute_result"
    }
   ],
   "source": [
    "# STEP 3\n",
    "# Create a new DataFrame named “clustered_df,” that includes the following columns:\n",
    "# Algorithm, ProofType, TotalCoinsMined, TotalCoinSupply, PC 1, PC 2, PC 3, CoinName, and Class. \n",
    "\n",
    "clustered_df = clean_crypto_df.merge(pca_df, on=\"Unnamed: 0\")\n",
    "clustered_df = clustered_df.merge(coins_name, on=\"Unnamed: 0\")\n",
    "\n",
    "clustered_df[\"class\"] = model.labels_\n",
    "\n",
    "clustered_df.set_index(\"Unnamed: 0\", drop=True, inplace=True)\n",
    "clustered_df.head(10)"
   ]
  },
  {
   "cell_type": "markdown",
   "metadata": {},
   "source": [
    "# Visualizing Results"
   ]
  },
  {
   "cell_type": "code",
   "execution_count": 71,
   "metadata": {},
   "outputs": [
    {
     "data": {
      "application/vnd.plotly.v1+json": {
       "config": {
        "plotlyServerURL": "https://plot.ly"
       },
       "data": [
        {
         "customdata": [
          [
           "Scrypt"
          ],
          [
           "Scrypt"
          ],
          [
           "X11"
          ],
          [
           "Ethash"
          ],
          [
           "Equihash"
          ],
          [
           "Multiple"
          ],
          [
           "SHA-256"
          ],
          [
           "Scrypt"
          ],
          [
           "Scrypt"
          ],
          [
           "Quark"
          ],
          [
           "Scrypt"
          ],
          [
           "Scrypt"
          ],
          [
           "Scrypt"
          ],
          [
           "Groestl"
          ],
          [
           "Multiple"
          ],
          [
           "Scrypt"
          ],
          [
           "Scrypt"
          ],
          [
           "Scrypt"
          ],
          [
           "Scrypt"
          ],
          [
           "Scrypt"
          ],
          [
           "X11"
          ],
          [
           "Scrypt"
          ],
          [
           "X11"
          ],
          [
           "Scrypt"
          ],
          [
           "HybridScryptHash256"
          ],
          [
           "Scrypt"
          ],
          [
           "X13"
          ],
          [
           "Scrypt"
          ],
          [
           "Scrypt"
          ],
          [
           "X13"
          ],
          [
           "Scrypt"
          ],
          [
           "Scrypt"
          ],
          [
           "Scrypt"
          ],
          [
           "X11"
          ],
          [
           "X11"
          ],
          [
           "SHA-256"
          ],
          [
           "SHA-256"
          ],
          [
           "PHI1612"
          ],
          [
           "SHA-256"
          ],
          [
           "SHA-256"
          ],
          [
           "X11"
          ],
          [
           "Scrypt"
          ],
          [
           "Scrypt"
          ],
          [
           "Lyra2REv2"
          ],
          [
           "Scrypt"
          ],
          [
           "X11"
          ],
          [
           "Multiple"
          ],
          [
           "SHA-256"
          ],
          [
           "CryptoNight"
          ],
          [
           "CryptoNight"
          ],
          [
           "Shabal256"
          ],
          [
           "Scrypt"
          ],
          [
           "SHA-256"
          ],
          [
           "Scrypt"
          ],
          [
           "Scrypt"
          ],
          [
           "Scrypt"
          ],
          [
           "X13"
          ],
          [
           "Scrypt"
          ],
          [
           "Scrypt"
          ],
          [
           "X13"
          ],
          [
           "Scrypt"
          ],
          [
           "Stanford Folding"
          ],
          [
           "Multiple"
          ],
          [
           "Scrypt"
          ],
          [
           "Scrypt"
          ],
          [
           "M7 POW"
          ],
          [
           "Scrypt"
          ],
          [
           "Scrypt"
          ],
          [
           "X11"
          ],
          [
           "SHA3"
          ],
          [
           "SHA-256"
          ],
          [
           "QUAIT"
          ],
          [
           "Scrypt"
          ],
          [
           "Scrypt"
          ],
          [
           "X13"
          ],
          [
           "Blake2b"
          ],
          [
           "X11"
          ],
          [
           "SHA-256"
          ],
          [
           "BLAKE256"
          ],
          [
           "X11"
          ],
          [
           "Scrypt"
          ],
          [
           "SHA-256"
          ],
          [
           "SHA-256"
          ],
          [
           "Scrypt"
          ],
          [
           "Scrypt"
          ],
          [
           "Dagger"
          ],
          [
           "X11GOST"
          ],
          [
           "X11"
          ],
          [
           "Scrypt"
          ],
          [
           "Scrypt"
          ],
          [
           "X11"
          ],
          [
           "SHA-256"
          ],
          [
           "NIST5"
          ],
          [
           "X11"
          ],
          [
           "Scrypt"
          ],
          [
           "Scrypt"
          ],
          [
           "X13"
          ],
          [
           "X11"
          ],
          [
           "Scrypt"
          ],
          [
           "CryptoNight"
          ],
          [
           "SHA-256"
          ],
          [
           "Scrypt"
          ],
          [
           "Scrypt"
          ],
          [
           "Scrypt"
          ],
          [
           "SHA-256D"
          ],
          [
           "X14"
          ],
          [
           "Ethash"
          ]
         ],
         "hovertemplate": "<b>%{hovertext}</b><br><br>class=%{marker.color}<br>PC 1=%{x}<br>PC 2=%{y}<br>PC 3=%{z}<br>Algorithm=%{customdata[0]}<extra></extra>",
         "hovertext": [
          "42 Coin",
          "404Coin",
          "Dash",
          "Ethereum Classic",
          "ZCash",
          "DigiByte",
          "PayCoin",
          "BlueCoin",
          "EnergyCoin",
          "QuarkCoin",
          "Digitalcoin ",
          "CryptoBullion",
          "CannaCoin",
          "Diamond",
          "Verge",
          "EarthCoin",
          "E-Gulden",
          "FlutterCoin",
          "GlobalCoin",
          "GoldCoin",
          "HyperStake",
          "Infinite Coin",
          "IOCoin",
          "KrugerCoin",
          "MediterraneanCoin",
          "MintCoin",
          "NavCoin",
          "NobleCoin",
          "NyanCoin",
          "OpalCoin",
          "PhoenixCoin",
          "StableCoin",
          "SmartCoin",
          "SuperCoin",
          "SyncCoin",
          "SysCoin",
          "TigerCoin",
          "TittieCoin",
          "TerraCoin",
          "UnbreakableCoin",
          "UroCoin",
          "UltraCoin",
          "VeriCoin",
          "Vertcoin",
          "WorldCoin",
          "X11 Coin",
          "Crypti",
          "JouleCoin",
          "ByteCoin",
          "DigitalNote ",
          "BurstCoin",
          "MonaCoin",
          "Neutron",
          "Gulden",
          "RubyCoin",
          "PesetaCoin",
          "Kore",
          "Wild Beast Coin",
          "8BIT Coin",
          "Sativa Coin",
          "ArtByte",
          "Folding Coin",
          "Unitus",
          "Vtorrent",
          "GreenCoin",
          "Cryptonite",
          "MasterCoin",
          "1Credit",
          "IslaCoin",
          "Nexus",
          "Anarchists Prime",
          "Droidz",
          "Song Coin",
          "Diggits",
          "Paycon",
          "Siacoin",
          "MindCoin",
          "I0coin",
          "Decred",
          "Hitcoin",
          "Gamecredits",
          "DubaiCoin",
          "CarpeDiemCoin",
          "BillaryCoin",
          "GPU Coin",
          "SoilCoin",
          "SibCoin",
          "EuropeCoin",
          "ZeitCoin",
          "SafeExchangeCoin",
          "BolivarCoin",
          "Revenu",
          "VIP Tokens",
          "BitSend",
          "PutinCoin",
          "iBankCoin",
          "MudraCoin",
          "PizzaCoin",
          "CarterCoin",
          "Karbo",
          "ZayedCoin",
          "DopeCoin",
          "Swiscoin",
          "Shilling",
          "BuzzCoin",
          "GanjaCoin V2",
          "Elementrem"
         ],
         "legendgroup": "0",
         "marker": {
          "color": [
           0,
           0,
           0,
           0,
           0,
           0,
           0,
           0,
           0,
           0,
           0,
           0,
           0,
           0,
           0,
           0,
           0,
           0,
           0,
           0,
           0,
           0,
           0,
           0,
           0,
           0,
           0,
           0,
           0,
           0,
           0,
           0,
           0,
           0,
           0,
           0,
           0,
           0,
           0,
           0,
           0,
           0,
           0,
           0,
           0,
           0,
           0,
           0,
           0,
           0,
           0,
           0,
           0,
           0,
           0,
           0,
           0,
           0,
           0,
           0,
           0,
           0,
           0,
           0,
           0,
           0,
           0,
           0,
           0,
           0,
           0,
           0,
           0,
           0,
           0,
           0,
           0,
           0,
           0,
           0,
           0,
           0,
           0,
           0,
           0,
           0,
           0,
           0,
           0,
           0,
           0,
           0,
           0,
           0,
           0,
           0,
           0,
           0,
           0,
           0,
           0,
           0,
           0,
           0,
           0,
           0,
           0
          ],
          "coloraxis": "coloraxis",
          "symbol": "circle"
         },
         "mode": "markers",
         "name": "0",
         "scene": "scene",
         "showlegend": true,
         "type": "scatter3d",
         "x": [
          -0.3339547718003025,
          2.2949211265250566,
          -0.28277919684525016,
          -0.31784107140730994,
          -0.2714017309518723,
          -0.25178662385289396,
          -0.326189472132593,
          -0.3516515049640583,
          -0.3320132523325056,
          -0.33060172613430056,
          -0.39711854046645156,
          -0.28114213928456144,
          -0.2872665095056455,
          -0.3504946710397629,
          -0.3974901717107606,
          -0.3198227907206,
          -0.39740181007582354,
          -0.24328795714895196,
          -0.004927082495171777,
          -0.3293200358947405,
          -0.28190039355184876,
          -0.3339368346230907,
          -0.28965128700742226,
          -0.3336711853491988,
          -0.42851983686304196,
          -0.3459019138566783,
          -0.3103980557841945,
          -0.09001392036725245,
          -0.31781197609135703,
          -0.07490839323651241,
          -0.3335470852646092,
          -0.06474045630174716,
          -0.31408767895826645,
          -0.33358520136975806,
          -0.3320238570418512,
          -0.24195425686905336,
          -0.39694556765444927,
          -0.33278929717628725,
          -0.317856634111428,
          -0.3337743608543796,
          -0.3339310658842057,
          -0.28550632434434514,
          -0.3502916240542805,
          -0.33354509989668285,
          -0.3836229062169663,
          -0.24338478370491998,
          -0.34936952192055987,
          -0.28503471993533674,
          0.8428736119570919,
          -0.3507554569323484,
          -0.33362712040417936,
          -0.3177192606366769,
          -0.37218244971677666,
          -0.3328316463160119,
          0.3561218530946189,
          -0.3338201800384411,
          -0.3338907475252395,
          -0.36030425729795174,
          -0.3301176528809281,
          -0.317833040297449,
          -0.33379553215940344,
          -0.24315259636977388,
          -0.3146456169168988,
          -0.39535848229996895,
          -0.3495809710364571,
          -0.3268601682242359,
          -0.269795192860482,
          0.5694573779510749,
          -0.3605723561652015,
          -0.2893363349772926,
          -0.2872274722465326,
          4.402377024755439,
          -0.3972100524854116,
          -0.3196464084497153,
          -0.3161789979370024,
          -0.3453375718478516,
          -0.3447688084585753,
          -0.33364998487893976,
          -0.09785452692912085,
          -0.3960026379363537,
          3.723731591150202,
          -0.2860774089859241,
          -0.3311099767703532,
          -0.31396002233750775,
          -0.33278860783589453,
          -0.35935487941176936,
          -0.3338958121562991,
          -0.35091163430583683,
          -0.2543131330625953,
          -0.3294402652391355,
          -0.39728648855008847,
          -0.2807681301577827,
          -0.4037895506795291,
          -0.28692160797773547,
          -0.355898403159164,
          1.0161485708871854,
          -0.3659505898023257,
          -0.3590230473566533,
          -0.2844189774235187,
          -0.19340853943008132,
          -0.1469058964799387,
          -0.40610064286442277,
          -0.35096596305166267,
          -0.2959057896228266,
          -0.30506910290690326,
          -0.2523277723620464,
          -0.3460399616029439
         ],
         "y": [
          0.9936084842221671,
          1.563400968707135,
          1.34711561513839,
          0.8782022195484599,
          0.607574497867162,
          1.9096160679480036,
          0.9938154542547905,
          1.4000493922948318,
          0.9935709926017621,
          1.0954553347838336,
          1.365538631990534,
          0.8773976586339519,
          0.7229682999147841,
          1.0949251243591345,
          1.3655450866341856,
          1.4292552554572058,
          1.3655400058857736,
          0.14260509865875065,
          0.2837726418518519,
          1.5192435453083644,
          0.7227515258835538,
          0.9936089623363784,
          1.7281344734609112,
          0.9936011695138439,
          1.8581885707312538,
          1.4724051541913865,
          0.8776732990525242,
          0.9430699709864897,
          0.8782029950314216,
          1.3543987171614627,
          0.993588116631693,
          0.1861173010498227,
          0.8779281978717396,
          0.9935853655068398,
          0.9935855831753354,
          1.4573919128223063,
          1.3655224197555653,
          0.9935726183660447,
          0.8782025484139073,
          0.9935976758964371,
          0.9936091160916677,
          0.7230272469002738,
          1.400030606533315,
          0.9936194033161656,
          1.3647992025116755,
          1.4575006577037681,
          1.3998863724160744,
          1.8917019569870257,
          1.7576951985271263,
          1.4000360917753258,
          0.9935859834399741,
          0.8782069535162685,
          1.1883682338117374,
          0.9935313319245863,
          0.7159486037957634,
          0.9936024039582132,
          0.9936077248810744,
          1.398097204180138,
          0.9933389251375707,
          0.8782031772642955,
          0.9935964175301507,
          1.4574979039141396,
          0.993379473667287,
          1.3655201009731315,
          1.4000225602174092,
          0.993053916920061,
          0.7219586763707859,
          1.659598931157014,
          1.52880966066484,
          1.7281279947140684,
          0.7229684287345867,
          3.701574017698148,
          1.3655324745976523,
          0.6637267029746645,
          0.8781885135378595,
          1.5283307594915498,
          1.4725120007898966,
          0.9936056103306327,
          0.6055164297948007,
          1.3654776476921429,
          1.9546485084876735,
          1.7280809964790873,
          0.9935281382731975,
          1.2581663102369238,
          0.9935280170704711,
          1.398044423708366,
          0.9936070810713689,
          1.0948983940742634,
          0.48649670531659106,
          0.9935562808653936,
          1.3655319246550472,
          0.722781704314042,
          1.668673148106131,
          0.7229701898880264,
          1.3977424094171678,
          1.6747523684676688,
          0.9343438975153523,
          1.3980681413138187,
          0.7228628762658306,
          0.9839685889708352,
          0.24202616448144498,
          1.6687201246559773,
          1.0948979127994094,
          1.8838327114422406,
          1.8930315916158833,
          0.6073485143140429,
          1.3665570483119744
         ],
         "z": [
          -0.5227464534907557,
          -0.6195877803831529,
          -0.020771830751521423,
          -0.3672280287592464,
          -0.06227480477992546,
          -0.6065349394317107,
          -0.5229199208071235,
          -0.09070627694697132,
          -0.5227777911358503,
          -0.20198021861670787,
          -0.5064836828537412,
          -0.3678074482075022,
          -0.2177962149494684,
          -0.2015358345193447,
          -0.5064775871130239,
          -0.21832141748028733,
          -0.506478558309895,
          0.0918675612193512,
          -0.05882903305621928,
          -0.057781608183790474,
          -0.21786757022694495,
          -0.5227468541896044,
          -0.5933543021756941,
          -0.5227507828811271,
          -0.6844437163903317,
          -0.2397177770729608,
          -0.3672962233439261,
          -0.38745944976100594,
          -0.36722867871307574,
          -0.51102125101341,
          -0.5227513489777238,
          -0.2151318999084957,
          -0.3672614344032474,
          -0.5227502635251456,
          -0.522779559828457,
          -0.28840916769916736,
          -0.5064847390307292,
          -0.5227634636249865,
          -0.36722778138688383,
          -0.5227483777868884,
          -0.5227469830561868,
          -0.21783715785795252,
          -0.09072923434710885,
          -0.5227556050650342,
          -0.5066369458259045,
          -0.28839701665411105,
          -0.09072706954916207,
          -0.7327075025829142,
          -0.6185692907287863,
          -0.09072127959365044,
          -0.522749561090439,
          -0.3672309504220024,
          -0.25536778534808696,
          -0.5227571025069846,
          -0.2289097700691687,
          -0.5227481564778131,
          -0.5227475512136172,
          -0.18456929087866844,
          -0.5227820303244061,
          -0.3672283084438771,
          -0.5227478112516732,
          -0.288400997602671,
          -0.5230775169929018,
          -0.5065141758129217,
          -0.09074147032372644,
          -0.5228046588322222,
          -0.21798756646356582,
          -0.7558515570898966,
          -0.5578318315023362,
          -0.5933593322305858,
          -0.21779696406248084,
          4.162994943418501,
          -0.5064811371897696,
          -0.04628029637932773,
          -0.3672573356543983,
          -0.5580528254429381,
          -0.13514666270268258,
          -0.5227517791025258,
          -0.06525037589856861,
          -0.5064963766615315,
          -0.0950543609474751,
          -0.5934140823578891,
          -0.522788944059004,
          -0.2528797427662435,
          -0.5227574622574159,
          -0.18457996947979627,
          -0.522747369463646,
          -0.20152441420083825,
          -0.3829189493732892,
          -0.5228240372279296,
          -0.5064796302603093,
          -0.21789286360853044,
          -0.4895709056200656,
          -0.2178029348843008,
          -0.18460403483357446,
          -0.08438260020271024,
          -0.35123463433853813,
          -0.18458938779156217,
          -0.2178353752051374,
          -0.5240810547232776,
          0.15424400637056102,
          -0.48953391944150393,
          -0.20152333092627514,
          -0.49621044319229557,
          -0.7325112592165764,
          -0.0626018677729049,
          -0.11525480839169627
         ]
        },
        {
         "customdata": [
          [
           "X13"
          ],
          [
           "SHA-256"
          ],
          [
           "Ethash"
          ],
          [
           "Scrypt"
          ],
          [
           "CryptoNight-V7"
          ],
          [
           "SHA-512"
          ],
          [
           "SHA-256"
          ],
          [
           "Scrypt"
          ],
          [
           "X15"
          ],
          [
           "X11"
          ],
          [
           "Scrypt"
          ],
          [
           "Scrypt"
          ],
          [
           "Multiple"
          ],
          [
           "Scrypt"
          ],
          [
           "SHA-256"
          ],
          [
           "Scrypt"
          ],
          [
           "Scrypt"
          ],
          [
           "Groestl"
          ],
          [
           "Scrypt"
          ],
          [
           "Scrypt"
          ],
          [
           "X11"
          ],
          [
           "Scrypt"
          ],
          [
           "SHA-256"
          ],
          [
           "Scrypt"
          ],
          [
           "Scrypt"
          ],
          [
           "PoS"
          ],
          [
           "Scrypt"
          ],
          [
           "NeoScrypt"
          ],
          [
           "Scrypt"
          ],
          [
           "Scrypt"
          ],
          [
           "SHA-256"
          ],
          [
           "Scrypt"
          ],
          [
           "Scrypt"
          ],
          [
           "SHA3"
          ],
          [
           "Scrypt"
          ],
          [
           "Scrypt"
          ],
          [
           "SHA-256"
          ],
          [
           "Scrypt"
          ],
          [
           "SHA-256"
          ],
          [
           "NeoScrypt"
          ],
          [
           "Scrypt"
          ],
          [
           "Scrypt"
          ],
          [
           "Scrypt"
          ],
          [
           "Multiple"
          ],
          [
           "X11"
          ],
          [
           "SHA-256"
          ],
          [
           "Scrypt"
          ],
          [
           "Scrypt"
          ],
          [
           "X13"
          ],
          [
           "Scrypt"
          ],
          [
           "Counterparty"
          ],
          [
           "Groestl"
          ],
          [
           "Scrypt"
          ],
          [
           "Scrypt"
          ],
          [
           "X11"
          ],
          [
           "QuBit"
          ],
          [
           "Scrypt"
          ],
          [
           "SHA-256"
          ],
          [
           "X11"
          ],
          [
           "Lyra2RE"
          ],
          [
           "X11"
          ],
          [
           "X11"
          ],
          [
           "Scrypt"
          ],
          [
           "Ethash"
          ],
          [
           "SHA-256"
          ],
          [
           "X15"
          ],
          [
           "Scrypt"
          ],
          [
           "1GB AES Pattern Search"
          ],
          [
           "SHA-256"
          ],
          [
           "NIST5"
          ],
          [
           "X11"
          ],
          [
           "Scrypt"
          ],
          [
           "SHA-256"
          ],
          [
           "PoS"
          ],
          [
           "Scrypt"
          ],
          [
           "X11"
          ],
          [
           "SHA-256"
          ],
          [
           "Scrypt"
          ],
          [
           "POS 3.0"
          ],
          [
           "Scrypt"
          ],
          [
           "X11"
          ],
          [
           "Equihash"
          ],
          [
           "X11"
          ],
          [
           "SHA-256"
          ],
          [
           "X11"
          ],
          [
           "Scrypt"
          ],
          [
           "Multiple"
          ],
          [
           "Scrypt"
          ],
          [
           "Scrypt"
          ],
          [
           "SHA-256"
          ],
          [
           "PoS"
          ],
          [
           "Scrypt"
          ],
          [
           "X11"
          ],
          [
           "Lyra2Z"
          ],
          [
           "PoS"
          ],
          [
           "X13"
          ]
         ],
         "hovertemplate": "<b>%{hovertext}</b><br><br>class=%{marker.color}<br>PC 1=%{x}<br>PC 2=%{y}<br>PC 3=%{z}<br>Algorithm=%{customdata[0]}<extra></extra>",
         "hovertext": [
          "EliteCoin",
          "Bitcoin",
          "Ethereum",
          "Litecoin",
          "Monero",
          "Bitshares",
          "BitcoinDark",
          "ProsperCoin",
          "KoboCoin",
          "Spreadcoin",
          "Argentum",
          "Aurora Coin",
          "MyriadCoin",
          "MoonCoin",
          "ZetaCoin",
          "SexCoin",
          "Quatloo",
          "Riecoin",
          "BitBar",
          "Catcoin",
          "CryptCoin",
          "CasinoCoin",
          "DevCoin",
          "Einsteinium",
          "Emerald",
          "Exclusive Coin",
          "Franko",
          "FeatherCoin",
          "GrandCoin",
          "HoboNickels",
          "IXcoin",
          "LuckyCoin",
          "Litebar ",
          "MaxCoin",
          "MegaCoin",
          "MinCoin",
          "MazaCoin",
          "Nautilus Coin",
          "Namecoin",
          "Orbitcoin",
          "PotCoin",
          "Reddcoin",
          "RonPaulCoin",
          "TeslaCoin",
          "TorCoin",
          "Unobtanium",
          "UnitaryStatus Dollar",
          "ViaCoin",
          "StealthCoin",
          "ZCC Coin",
          "StorjCoin",
          "FairCoin",
          "Dnotes",
          "Flo",
          "Ucoin",
          "CypherPunkCoin",
          "OmniCron",
          "SoonCoin",
          "MarsCoin ",
          "Crypto",
          "BowsCoin",
          "Squall Coin",
          "BitZeny",
          "Expanse",
          "Emercoin",
          "EverGreenCoin",
          "Revolution VR",
          "HOdlcoin",
          "EDRCoin",
          "PWR Coin",
          "Adzcoin",
          "YoCoin",
          "SwingCoin",
          "Nebuchadnezzar",
          "Francs",
          "Ratecoin",
          "Clockcoin",
          "Omni",
          "Let it Ride",
          "Frankywillcoin",
          "Lutetium Coin",
          "Komodo",
          "GoldBlocks",
          "BitTokens",
          "MustangCoin",
          "ZoneCoin",
          "Circuits of Value",
          "RootCoin",
          "BitCurrency",
          "DollarCoin",
          "Opair",
          "PesoBit",
          "Halloween Coin",
          "ZCoin",
          "CoffeeCoin",
          "RoyalCoin"
         ],
         "legendgroup": "2",
         "marker": {
          "color": [
           2,
           2,
           2,
           2,
           2,
           2,
           2,
           2,
           2,
           2,
           2,
           2,
           2,
           2,
           2,
           2,
           2,
           2,
           2,
           2,
           2,
           2,
           2,
           2,
           2,
           2,
           2,
           2,
           2,
           2,
           2,
           2,
           2,
           2,
           2,
           2,
           2,
           2,
           2,
           2,
           2,
           2,
           2,
           2,
           2,
           2,
           2,
           2,
           2,
           2,
           2,
           2,
           2,
           2,
           2,
           2,
           2,
           2,
           2,
           2,
           2,
           2,
           2,
           2,
           2,
           2,
           2,
           2,
           2,
           2,
           2,
           2,
           2,
           2,
           2,
           2,
           2,
           2,
           2,
           2,
           2,
           2,
           2,
           2,
           2,
           2,
           2,
           2,
           2,
           2,
           2,
           2,
           2,
           2,
           2,
           2
          ],
          "coloraxis": "coloraxis",
          "symbol": "diamond"
         },
         "mode": "markers",
         "name": "2",
         "scene": "scene",
         "showlegend": true,
         "type": "scatter3d",
         "x": [
          -0.16236848673954996,
          -0.14834344151567225,
          -0.15019182627394112,
          -0.1548665687551994,
          0.16758452670320864,
          -0.1635149505626536,
          -0.22699169506658656,
          -0.08585682110965574,
          -0.16293553497638286,
          -0.20484043537366908,
          0.23049503741717717,
          -0.16332990324120467,
          -0.16364069156596353,
          -0.17913712237014695,
          -0.14285971642569323,
          -0.1624355428229003,
          -0.1627130920460193,
          1.5856233034870137,
          -0.16000207725526752,
          -0.16359248533799203,
          -0.1635719495931418,
          -0.16166625244614194,
          -0.1469270053568777,
          -0.14719737788941592,
          -0.14778807051568843,
          -0.22725496794724934,
          -0.14699431781329367,
          3.8568293060998426,
          0.4551025259596652,
          -0.16087431860666176,
          -0.1469604778784485,
          -0.12839865943037942,
          -0.14749113807689987,
          -0.14043723421412976,
          -0.14723099993244984,
          -0.1610381187690713,
          -0.1528176404636323,
          0.36784474095686154,
          -0.09594094178414285,
          -0.16228542465361628,
          0.2711823002915779,
          -0.22612301056753636,
          -0.1625331663195699,
          -0.28216484629722705,
          0.29998099538061473,
          -0.09993853866491693,
          -0.16088867669590023,
          -0.16338576269999447,
          -0.15488819329234735,
          -0.09045046985636683,
          -0.22490362681326828,
          0.29997532709079927,
          -0.16370413571314896,
          0.3001060772943125,
          -0.15490056137342517,
          -0.1618052995871167,
          -0.1538778061334936,
          -0.16305683185706674,
          -0.22710369613426742,
          3.2466056846685682,
          -0.08929918427598066,
          -0.16292557163605811,
          -0.1838266305333825,
          -0.15474657035324027,
          -0.15062539735637004,
          -0.16180350812149466,
          -0.1836720386369164,
          -0.15092507101893046,
          -0.1837722419931528,
          0.2999581142896148,
          1.08561118427388,
          -0.17686095438148797,
          -0.14972269370371202,
          0.3038329925104661,
          -0.150128284917843,
          -0.16353570244191548,
          -0.2261722377718655,
          -0.13562701525785015,
          0.3137476301053971,
          -0.2270598455603694,
          -0.16356029591719667,
          -0.13595838592341644,
          -0.15762506925959274,
          -0.200781931407134,
          -0.04947723344503175,
          -0.15258023560715098,
          -0.14742355910552515,
          0.3799061929771961,
          -0.15457935847127544,
          -0.18150972864139794,
          -0.11955924126010083,
          -0.14556740284752276,
          -0.10115404763643472,
          -0.2044013409437571,
          -0.16159260543297815,
          -0.12060481486905933
         ],
         "y": [
          -1.1600953460546939,
          -2.231451146210332,
          -2.0445871676275758,
          -2.041512028471638,
          -1.7484028648312904,
          -1.1600790523197735,
          -0.7881401421805333,
          -1.7410283232776875,
          -1.1601223582769622,
          -1.1990450973679885,
          -1.2809980823797664,
          -1.1600741202184999,
          -1.1600751424720444,
          -1.6447593828526765,
          -1.1605693597438937,
          -1.1600867220571403,
          -1.1600957896689348,
          -1.1808190223064705,
          -1.1601671892947703,
          -1.1600729385962179,
          -1.1600805715257183,
          -1.1602000770212444,
          -1.2754756604326989,
          -1.2755073986406127,
          -1.275463835506647,
          -0.7881322860195402,
          -1.2754759583019102,
          -2.4062592810311116,
          -2.367181491852293,
          -1.1601167889758017,
          -1.1603658670877388,
          -2.585883768041956,
          -1.2754713522789265,
          -2.0938506503742125,
          -1.2754887811068465,
          -1.1601833352554938,
          -2.0445135577401516,
          -2.1762800094806294,
          -1.140142334828715,
          -1.1600931321851977,
          -1.280379377165372,
          -0.7881645832814812,
          -1.1601624640750288,
          -1.4949357821757234,
          -2.363886800521387,
          -1.7408087170443123,
          -1.1601421690903955,
          -1.160082302001529,
          -2.0415126048345185,
          -1.1655526454551397,
          -0.7882391700204116,
          -2.3638951318719825,
          -1.160070496332379,
          -2.3638946216066463,
          -2.0415099598387445,
          -1.1600922338992694,
          -2.0977869415470525,
          -1.160104768713618,
          -0.7881423093389238,
          -1.2179050738615083,
          -1.1658937905951647,
          -1.1601101941438487,
          -1.644654581907327,
          -2.041508830131525,
          -2.1883627373658348,
          -1.1600921861509967,
          -1.6446638474408668,
          -2.044658767218651,
          -1.6446567018527685,
          -2.363889269528298,
          -1.2507244412994643,
          -1.6448206761443418,
          -1.9783587349787775,
          -2.3640265660462463,
          -2.1883076146046347,
          -1.160079605423538,
          -0.7881777939217907,
          -2.025819929281558,
          -2.3642561003345923,
          -0.7881427022696843,
          -1.1600810828592363,
          -2.2324224519836977,
          -2.340034038343399,
          -1.2004165835584315,
          -2.044339274393018,
          -2.268083820046606,
          -1.2754695510838157,
          -2.3677578845456995,
          -2.0415117252356745,
          -1.484129313408293,
          -0.42554084063112524,
          -1.2755293967881485,
          -2.2358243816520975,
          -1.1990490109851057,
          -1.1601475451356142,
          -1.740469228091782
         ],
         "z": [
          0.01588448162613988,
          0.4151005777779371,
          0.3561322388030979,
          0.4320787158774946,
          0.32125900490139275,
          0.015903774623050936,
          0.03217123033511677,
          0.3250152657061235,
          0.015898753262408596,
          0.1117803683915145,
          0.16508201404524095,
          0.015899640891856203,
          0.015905604376283362,
          0.22830641895983972,
          0.015582713987925543,
          0.01588457566495751,
          0.015891000973224486,
          -0.014086626363948937,
          0.01584981170476621,
          0.015904403581376833,
          0.015905047911789174,
          0.01588544095712171,
          0.1714120076266862,
          0.1714213554403858,
          0.17142655350674882,
          0.032175105940916465,
          0.17141330954573458,
          0.3241375155092796,
          0.38263244001813546,
          0.015859365356834805,
          0.01563214149332215,
          0.4437172106867705,
          0.17142200119710557,
          0.38820795141195585,
          0.17141947518318004,
          0.01587140921780768,
          0.35617153296664134,
          0.4324291740977998,
          0.19470107940175507,
          0.015882626120573996,
          0.16423591328666823,
          0.0321582428685485,
          0.015896619068266227,
          0.6783837758956073,
          0.38509587395031836,
          0.3252496105261581,
          0.015863056892219722,
          0.01590179123894312,
          0.43207919894324703,
          0.015272291909017936,
          0.03214544356432514,
          0.38509710364686645,
          0.015906167107075122,
          0.38509458396475527,
          0.43207907411330265,
          0.015873505183973957,
          0.39135205327428446,
          0.015898655062193946,
          0.03217362199481343,
          -0.04022037339981464,
          0.015296713316628446,
          0.015896926222460542,
          0.22838019049776345,
          0.4320760352597271,
          0.35866898005743386,
          0.015873465164819776,
          0.22837854213355088,
          0.35615563815633916,
          0.2283794568655177,
          0.3850966357845586,
          0.13775710473846622,
          0.22827201797515295,
          0.3664900432928903,
          0.38504251613670704,
          0.3586522287647897,
          0.015904238194693197,
          0.03216094701527233,
          0.3783806540918725,
          0.38488762079017225,
          0.03217285301337069,
          0.01590489841805732,
          0.4149993997853692,
          0.42915341612669716,
          0.19001087959460888,
          0.4304844647206568,
          0.3654334264998198,
          0.1714204915654075,
          0.38411969774166094,
          0.43207329131304695,
          0.14990559204687476,
          -0.05469920325380753,
          0.17139376837936066,
          0.40976095313539024,
          0.11177266542644824,
          0.015876976770641295,
          0.3255912153509746
         ]
        },
        {
         "customdata": [
          [
           "PoS"
          ]
         ],
         "hovertemplate": "<b>%{hovertext}</b><br><br>class=%{marker.color}<br>PC 1=%{x}<br>PC 2=%{y}<br>PC 3=%{z}<br>Algorithm=%{customdata[0]}<extra></extra>",
         "hovertext": [
          "TeamUP"
         ],
         "legendgroup": "3",
         "marker": {
          "color": [
           3
          ],
          "coloraxis": "coloraxis",
          "symbol": "square"
         },
         "mode": "markers",
         "name": "3",
         "scene": "scene",
         "showlegend": true,
         "type": "scatter3d",
         "x": [
          -0.4176138224334253
         ],
         "y": [
          3.430502318014509
         ],
         "z": [
          13.911529267629083
         ]
        },
        {
         "customdata": [
          [
           "SHA-256D"
          ]
         ],
         "hovertemplate": "<b>%{hovertext}</b><br><br>class=%{marker.color}<br>PC 1=%{x}<br>PC 2=%{y}<br>PC 3=%{z}<br>Algorithm=%{customdata[0]}<extra></extra>",
         "hovertext": [
          "LanaCoin"
         ],
         "legendgroup": "1",
         "marker": {
          "color": [
           1
          ],
          "coloraxis": "coloraxis",
          "symbol": "x"
         },
         "mode": "markers",
         "name": "1",
         "scene": "scene",
         "showlegend": true,
         "type": "scatter3d",
         "x": [
          34.06659813871284
         ],
         "y": [
          1.579395480098452
         ],
         "z": [
          -0.7563688258525744
         ]
        }
       ],
       "layout": {
        "coloraxis": {
         "colorbar": {
          "title": {
           "text": "class"
          }
         },
         "colorscale": [
          [
           0,
           "#0d0887"
          ],
          [
           0.1111111111111111,
           "#46039f"
          ],
          [
           0.2222222222222222,
           "#7201a8"
          ],
          [
           0.3333333333333333,
           "#9c179e"
          ],
          [
           0.4444444444444444,
           "#bd3786"
          ],
          [
           0.5555555555555556,
           "#d8576b"
          ],
          [
           0.6666666666666666,
           "#ed7953"
          ],
          [
           0.7777777777777778,
           "#fb9f3a"
          ],
          [
           0.8888888888888888,
           "#fdca26"
          ],
          [
           1,
           "#f0f921"
          ]
         ]
        },
        "legend": {
         "title": {
          "text": "class"
         },
         "tracegroupgap": 0,
         "x": 0,
         "y": 1
        },
        "margin": {
         "t": 60
        },
        "scene": {
         "domain": {
          "x": [
           0,
           1
          ],
          "y": [
           0,
           1
          ]
         },
         "xaxis": {
          "title": {
           "text": "PC 1"
          }
         },
         "yaxis": {
          "title": {
           "text": "PC 2"
          }
         },
         "zaxis": {
          "title": {
           "text": "PC 3"
          }
         }
        },
        "template": {
         "data": {
          "bar": [
           {
            "error_x": {
             "color": "#2a3f5f"
            },
            "error_y": {
             "color": "#2a3f5f"
            },
            "marker": {
             "line": {
              "color": "#E5ECF6",
              "width": 0.5
             }
            },
            "type": "bar"
           }
          ],
          "barpolar": [
           {
            "marker": {
             "line": {
              "color": "#E5ECF6",
              "width": 0.5
             }
            },
            "type": "barpolar"
           }
          ],
          "carpet": [
           {
            "aaxis": {
             "endlinecolor": "#2a3f5f",
             "gridcolor": "white",
             "linecolor": "white",
             "minorgridcolor": "white",
             "startlinecolor": "#2a3f5f"
            },
            "baxis": {
             "endlinecolor": "#2a3f5f",
             "gridcolor": "white",
             "linecolor": "white",
             "minorgridcolor": "white",
             "startlinecolor": "#2a3f5f"
            },
            "type": "carpet"
           }
          ],
          "choropleth": [
           {
            "colorbar": {
             "outlinewidth": 0,
             "ticks": ""
            },
            "type": "choropleth"
           }
          ],
          "contour": [
           {
            "colorbar": {
             "outlinewidth": 0,
             "ticks": ""
            },
            "colorscale": [
             [
              0,
              "#0d0887"
             ],
             [
              0.1111111111111111,
              "#46039f"
             ],
             [
              0.2222222222222222,
              "#7201a8"
             ],
             [
              0.3333333333333333,
              "#9c179e"
             ],
             [
              0.4444444444444444,
              "#bd3786"
             ],
             [
              0.5555555555555556,
              "#d8576b"
             ],
             [
              0.6666666666666666,
              "#ed7953"
             ],
             [
              0.7777777777777778,
              "#fb9f3a"
             ],
             [
              0.8888888888888888,
              "#fdca26"
             ],
             [
              1,
              "#f0f921"
             ]
            ],
            "type": "contour"
           }
          ],
          "contourcarpet": [
           {
            "colorbar": {
             "outlinewidth": 0,
             "ticks": ""
            },
            "type": "contourcarpet"
           }
          ],
          "heatmap": [
           {
            "colorbar": {
             "outlinewidth": 0,
             "ticks": ""
            },
            "colorscale": [
             [
              0,
              "#0d0887"
             ],
             [
              0.1111111111111111,
              "#46039f"
             ],
             [
              0.2222222222222222,
              "#7201a8"
             ],
             [
              0.3333333333333333,
              "#9c179e"
             ],
             [
              0.4444444444444444,
              "#bd3786"
             ],
             [
              0.5555555555555556,
              "#d8576b"
             ],
             [
              0.6666666666666666,
              "#ed7953"
             ],
             [
              0.7777777777777778,
              "#fb9f3a"
             ],
             [
              0.8888888888888888,
              "#fdca26"
             ],
             [
              1,
              "#f0f921"
             ]
            ],
            "type": "heatmap"
           }
          ],
          "heatmapgl": [
           {
            "colorbar": {
             "outlinewidth": 0,
             "ticks": ""
            },
            "colorscale": [
             [
              0,
              "#0d0887"
             ],
             [
              0.1111111111111111,
              "#46039f"
             ],
             [
              0.2222222222222222,
              "#7201a8"
             ],
             [
              0.3333333333333333,
              "#9c179e"
             ],
             [
              0.4444444444444444,
              "#bd3786"
             ],
             [
              0.5555555555555556,
              "#d8576b"
             ],
             [
              0.6666666666666666,
              "#ed7953"
             ],
             [
              0.7777777777777778,
              "#fb9f3a"
             ],
             [
              0.8888888888888888,
              "#fdca26"
             ],
             [
              1,
              "#f0f921"
             ]
            ],
            "type": "heatmapgl"
           }
          ],
          "histogram": [
           {
            "marker": {
             "colorbar": {
              "outlinewidth": 0,
              "ticks": ""
             }
            },
            "type": "histogram"
           }
          ],
          "histogram2d": [
           {
            "colorbar": {
             "outlinewidth": 0,
             "ticks": ""
            },
            "colorscale": [
             [
              0,
              "#0d0887"
             ],
             [
              0.1111111111111111,
              "#46039f"
             ],
             [
              0.2222222222222222,
              "#7201a8"
             ],
             [
              0.3333333333333333,
              "#9c179e"
             ],
             [
              0.4444444444444444,
              "#bd3786"
             ],
             [
              0.5555555555555556,
              "#d8576b"
             ],
             [
              0.6666666666666666,
              "#ed7953"
             ],
             [
              0.7777777777777778,
              "#fb9f3a"
             ],
             [
              0.8888888888888888,
              "#fdca26"
             ],
             [
              1,
              "#f0f921"
             ]
            ],
            "type": "histogram2d"
           }
          ],
          "histogram2dcontour": [
           {
            "colorbar": {
             "outlinewidth": 0,
             "ticks": ""
            },
            "colorscale": [
             [
              0,
              "#0d0887"
             ],
             [
              0.1111111111111111,
              "#46039f"
             ],
             [
              0.2222222222222222,
              "#7201a8"
             ],
             [
              0.3333333333333333,
              "#9c179e"
             ],
             [
              0.4444444444444444,
              "#bd3786"
             ],
             [
              0.5555555555555556,
              "#d8576b"
             ],
             [
              0.6666666666666666,
              "#ed7953"
             ],
             [
              0.7777777777777778,
              "#fb9f3a"
             ],
             [
              0.8888888888888888,
              "#fdca26"
             ],
             [
              1,
              "#f0f921"
             ]
            ],
            "type": "histogram2dcontour"
           }
          ],
          "mesh3d": [
           {
            "colorbar": {
             "outlinewidth": 0,
             "ticks": ""
            },
            "type": "mesh3d"
           }
          ],
          "parcoords": [
           {
            "line": {
             "colorbar": {
              "outlinewidth": 0,
              "ticks": ""
             }
            },
            "type": "parcoords"
           }
          ],
          "pie": [
           {
            "automargin": true,
            "type": "pie"
           }
          ],
          "scatter": [
           {
            "marker": {
             "colorbar": {
              "outlinewidth": 0,
              "ticks": ""
             }
            },
            "type": "scatter"
           }
          ],
          "scatter3d": [
           {
            "line": {
             "colorbar": {
              "outlinewidth": 0,
              "ticks": ""
             }
            },
            "marker": {
             "colorbar": {
              "outlinewidth": 0,
              "ticks": ""
             }
            },
            "type": "scatter3d"
           }
          ],
          "scattercarpet": [
           {
            "marker": {
             "colorbar": {
              "outlinewidth": 0,
              "ticks": ""
             }
            },
            "type": "scattercarpet"
           }
          ],
          "scattergeo": [
           {
            "marker": {
             "colorbar": {
              "outlinewidth": 0,
              "ticks": ""
             }
            },
            "type": "scattergeo"
           }
          ],
          "scattergl": [
           {
            "marker": {
             "colorbar": {
              "outlinewidth": 0,
              "ticks": ""
             }
            },
            "type": "scattergl"
           }
          ],
          "scattermapbox": [
           {
            "marker": {
             "colorbar": {
              "outlinewidth": 0,
              "ticks": ""
             }
            },
            "type": "scattermapbox"
           }
          ],
          "scatterpolar": [
           {
            "marker": {
             "colorbar": {
              "outlinewidth": 0,
              "ticks": ""
             }
            },
            "type": "scatterpolar"
           }
          ],
          "scatterpolargl": [
           {
            "marker": {
             "colorbar": {
              "outlinewidth": 0,
              "ticks": ""
             }
            },
            "type": "scatterpolargl"
           }
          ],
          "scatterternary": [
           {
            "marker": {
             "colorbar": {
              "outlinewidth": 0,
              "ticks": ""
             }
            },
            "type": "scatterternary"
           }
          ],
          "surface": [
           {
            "colorbar": {
             "outlinewidth": 0,
             "ticks": ""
            },
            "colorscale": [
             [
              0,
              "#0d0887"
             ],
             [
              0.1111111111111111,
              "#46039f"
             ],
             [
              0.2222222222222222,
              "#7201a8"
             ],
             [
              0.3333333333333333,
              "#9c179e"
             ],
             [
              0.4444444444444444,
              "#bd3786"
             ],
             [
              0.5555555555555556,
              "#d8576b"
             ],
             [
              0.6666666666666666,
              "#ed7953"
             ],
             [
              0.7777777777777778,
              "#fb9f3a"
             ],
             [
              0.8888888888888888,
              "#fdca26"
             ],
             [
              1,
              "#f0f921"
             ]
            ],
            "type": "surface"
           }
          ],
          "table": [
           {
            "cells": {
             "fill": {
              "color": "#EBF0F8"
             },
             "line": {
              "color": "white"
             }
            },
            "header": {
             "fill": {
              "color": "#C8D4E3"
             },
             "line": {
              "color": "white"
             }
            },
            "type": "table"
           }
          ]
         },
         "layout": {
          "annotationdefaults": {
           "arrowcolor": "#2a3f5f",
           "arrowhead": 0,
           "arrowwidth": 1
          },
          "coloraxis": {
           "colorbar": {
            "outlinewidth": 0,
            "ticks": ""
           }
          },
          "colorscale": {
           "diverging": [
            [
             0,
             "#8e0152"
            ],
            [
             0.1,
             "#c51b7d"
            ],
            [
             0.2,
             "#de77ae"
            ],
            [
             0.3,
             "#f1b6da"
            ],
            [
             0.4,
             "#fde0ef"
            ],
            [
             0.5,
             "#f7f7f7"
            ],
            [
             0.6,
             "#e6f5d0"
            ],
            [
             0.7,
             "#b8e186"
            ],
            [
             0.8,
             "#7fbc41"
            ],
            [
             0.9,
             "#4d9221"
            ],
            [
             1,
             "#276419"
            ]
           ],
           "sequential": [
            [
             0,
             "#0d0887"
            ],
            [
             0.1111111111111111,
             "#46039f"
            ],
            [
             0.2222222222222222,
             "#7201a8"
            ],
            [
             0.3333333333333333,
             "#9c179e"
            ],
            [
             0.4444444444444444,
             "#bd3786"
            ],
            [
             0.5555555555555556,
             "#d8576b"
            ],
            [
             0.6666666666666666,
             "#ed7953"
            ],
            [
             0.7777777777777778,
             "#fb9f3a"
            ],
            [
             0.8888888888888888,
             "#fdca26"
            ],
            [
             1,
             "#f0f921"
            ]
           ],
           "sequentialminus": [
            [
             0,
             "#0d0887"
            ],
            [
             0.1111111111111111,
             "#46039f"
            ],
            [
             0.2222222222222222,
             "#7201a8"
            ],
            [
             0.3333333333333333,
             "#9c179e"
            ],
            [
             0.4444444444444444,
             "#bd3786"
            ],
            [
             0.5555555555555556,
             "#d8576b"
            ],
            [
             0.6666666666666666,
             "#ed7953"
            ],
            [
             0.7777777777777778,
             "#fb9f3a"
            ],
            [
             0.8888888888888888,
             "#fdca26"
            ],
            [
             1,
             "#f0f921"
            ]
           ]
          },
          "colorway": [
           "#636efa",
           "#EF553B",
           "#00cc96",
           "#ab63fa",
           "#FFA15A",
           "#19d3f3",
           "#FF6692",
           "#B6E880",
           "#FF97FF",
           "#FECB52"
          ],
          "font": {
           "color": "#2a3f5f"
          },
          "geo": {
           "bgcolor": "white",
           "lakecolor": "white",
           "landcolor": "#E5ECF6",
           "showlakes": true,
           "showland": true,
           "subunitcolor": "white"
          },
          "hoverlabel": {
           "align": "left"
          },
          "hovermode": "closest",
          "mapbox": {
           "style": "light"
          },
          "paper_bgcolor": "white",
          "plot_bgcolor": "#E5ECF6",
          "polar": {
           "angularaxis": {
            "gridcolor": "white",
            "linecolor": "white",
            "ticks": ""
           },
           "bgcolor": "#E5ECF6",
           "radialaxis": {
            "gridcolor": "white",
            "linecolor": "white",
            "ticks": ""
           }
          },
          "scene": {
           "xaxis": {
            "backgroundcolor": "#E5ECF6",
            "gridcolor": "white",
            "gridwidth": 2,
            "linecolor": "white",
            "showbackground": true,
            "ticks": "",
            "zerolinecolor": "white"
           },
           "yaxis": {
            "backgroundcolor": "#E5ECF6",
            "gridcolor": "white",
            "gridwidth": 2,
            "linecolor": "white",
            "showbackground": true,
            "ticks": "",
            "zerolinecolor": "white"
           },
           "zaxis": {
            "backgroundcolor": "#E5ECF6",
            "gridcolor": "white",
            "gridwidth": 2,
            "linecolor": "white",
            "showbackground": true,
            "ticks": "",
            "zerolinecolor": "white"
           }
          },
          "shapedefaults": {
           "line": {
            "color": "#2a3f5f"
           }
          },
          "ternary": {
           "aaxis": {
            "gridcolor": "white",
            "linecolor": "white",
            "ticks": ""
           },
           "baxis": {
            "gridcolor": "white",
            "linecolor": "white",
            "ticks": ""
           },
           "bgcolor": "#E5ECF6",
           "caxis": {
            "gridcolor": "white",
            "linecolor": "white",
            "ticks": ""
           }
          },
          "title": {
           "x": 0.05
          },
          "xaxis": {
           "automargin": true,
           "gridcolor": "white",
           "linecolor": "white",
           "ticks": "",
           "title": {
            "standoff": 15
           },
           "zerolinecolor": "white",
           "zerolinewidth": 2
          },
          "yaxis": {
           "automargin": true,
           "gridcolor": "white",
           "linecolor": "white",
           "ticks": "",
           "title": {
            "standoff": 15
           },
           "zerolinecolor": "white",
           "zerolinewidth": 2
          }
         }
        },
        "width": 800
       }
      },
      "text/html": [
       "<div>\n",
       "        \n",
       "        \n",
       "            <div id=\"fa57f3cb-c1d8-4733-bd02-27b70a785397\" class=\"plotly-graph-div\" style=\"height:525px; width:800px;\"></div>\n",
       "            <script type=\"text/javascript\">\n",
       "                require([\"plotly\"], function(Plotly) {\n",
       "                    window.PLOTLYENV=window.PLOTLYENV || {};\n",
       "                    \n",
       "                if (document.getElementById(\"fa57f3cb-c1d8-4733-bd02-27b70a785397\")) {\n",
       "                    Plotly.newPlot(\n",
       "                        'fa57f3cb-c1d8-4733-bd02-27b70a785397',\n",
       "                        [{\"customdata\": [[\"Scrypt\"], [\"Scrypt\"], [\"X11\"], [\"Ethash\"], [\"Equihash\"], [\"Multiple\"], [\"SHA-256\"], [\"Scrypt\"], [\"Scrypt\"], [\"Quark\"], [\"Scrypt\"], [\"Scrypt\"], [\"Scrypt\"], [\"Groestl\"], [\"Multiple\"], [\"Scrypt\"], [\"Scrypt\"], [\"Scrypt\"], [\"Scrypt\"], [\"Scrypt\"], [\"X11\"], [\"Scrypt\"], [\"X11\"], [\"Scrypt\"], [\"HybridScryptHash256\"], [\"Scrypt\"], [\"X13\"], [\"Scrypt\"], [\"Scrypt\"], [\"X13\"], [\"Scrypt\"], [\"Scrypt\"], [\"Scrypt\"], [\"X11\"], [\"X11\"], [\"SHA-256\"], [\"SHA-256\"], [\"PHI1612\"], [\"SHA-256\"], [\"SHA-256\"], [\"X11\"], [\"Scrypt\"], [\"Scrypt\"], [\"Lyra2REv2\"], [\"Scrypt\"], [\"X11\"], [\"Multiple\"], [\"SHA-256\"], [\"CryptoNight\"], [\"CryptoNight\"], [\"Shabal256\"], [\"Scrypt\"], [\"SHA-256\"], [\"Scrypt\"], [\"Scrypt\"], [\"Scrypt\"], [\"X13\"], [\"Scrypt\"], [\"Scrypt\"], [\"X13\"], [\"Scrypt\"], [\"Stanford Folding\"], [\"Multiple\"], [\"Scrypt\"], [\"Scrypt\"], [\"M7 POW\"], [\"Scrypt\"], [\"Scrypt\"], [\"X11\"], [\"SHA3\"], [\"SHA-256\"], [\"QUAIT\"], [\"Scrypt\"], [\"Scrypt\"], [\"X13\"], [\"Blake2b\"], [\"X11\"], [\"SHA-256\"], [\"BLAKE256\"], [\"X11\"], [\"Scrypt\"], [\"SHA-256\"], [\"SHA-256\"], [\"Scrypt\"], [\"Scrypt\"], [\"Dagger\"], [\"X11GOST\"], [\"X11\"], [\"Scrypt\"], [\"Scrypt\"], [\"X11\"], [\"SHA-256\"], [\"NIST5\"], [\"X11\"], [\"Scrypt\"], [\"Scrypt\"], [\"X13\"], [\"X11\"], [\"Scrypt\"], [\"CryptoNight\"], [\"SHA-256\"], [\"Scrypt\"], [\"Scrypt\"], [\"Scrypt\"], [\"SHA-256D\"], [\"X14\"], [\"Ethash\"]], \"hovertemplate\": \"<b>%{hovertext}</b><br><br>class=%{marker.color}<br>PC 1=%{x}<br>PC 2=%{y}<br>PC 3=%{z}<br>Algorithm=%{customdata[0]}<extra></extra>\", \"hovertext\": [\"42 Coin\", \"404Coin\", \"Dash\", \"Ethereum Classic\", \"ZCash\", \"DigiByte\", \"PayCoin\", \"BlueCoin\", \"EnergyCoin\", \"QuarkCoin\", \"Digitalcoin \", \"CryptoBullion\", \"CannaCoin\", \"Diamond\", \"Verge\", \"EarthCoin\", \"E-Gulden\", \"FlutterCoin\", \"GlobalCoin\", \"GoldCoin\", \"HyperStake\", \"Infinite Coin\", \"IOCoin\", \"KrugerCoin\", \"MediterraneanCoin\", \"MintCoin\", \"NavCoin\", \"NobleCoin\", \"NyanCoin\", \"OpalCoin\", \"PhoenixCoin\", \"StableCoin\", \"SmartCoin\", \"SuperCoin\", \"SyncCoin\", \"SysCoin\", \"TigerCoin\", \"TittieCoin\", \"TerraCoin\", \"UnbreakableCoin\", \"UroCoin\", \"UltraCoin\", \"VeriCoin\", \"Vertcoin\", \"WorldCoin\", \"X11 Coin\", \"Crypti\", \"JouleCoin\", \"ByteCoin\", \"DigitalNote \", \"BurstCoin\", \"MonaCoin\", \"Neutron\", \"Gulden\", \"RubyCoin\", \"PesetaCoin\", \"Kore\", \"Wild Beast Coin\", \"8BIT Coin\", \"Sativa Coin\", \"ArtByte\", \"Folding Coin\", \"Unitus\", \"Vtorrent\", \"GreenCoin\", \"Cryptonite\", \"MasterCoin\", \"1Credit\", \"IslaCoin\", \"Nexus\", \"Anarchists Prime\", \"Droidz\", \"Song Coin\", \"Diggits\", \"Paycon\", \"Siacoin\", \"MindCoin\", \"I0coin\", \"Decred\", \"Hitcoin\", \"Gamecredits\", \"DubaiCoin\", \"CarpeDiemCoin\", \"BillaryCoin\", \"GPU Coin\", \"SoilCoin\", \"SibCoin\", \"EuropeCoin\", \"ZeitCoin\", \"SafeExchangeCoin\", \"BolivarCoin\", \"Revenu\", \"VIP Tokens\", \"BitSend\", \"PutinCoin\", \"iBankCoin\", \"MudraCoin\", \"PizzaCoin\", \"CarterCoin\", \"Karbo\", \"ZayedCoin\", \"DopeCoin\", \"Swiscoin\", \"Shilling\", \"BuzzCoin\", \"GanjaCoin V2\", \"Elementrem\"], \"legendgroup\": \"0\", \"marker\": {\"color\": [0, 0, 0, 0, 0, 0, 0, 0, 0, 0, 0, 0, 0, 0, 0, 0, 0, 0, 0, 0, 0, 0, 0, 0, 0, 0, 0, 0, 0, 0, 0, 0, 0, 0, 0, 0, 0, 0, 0, 0, 0, 0, 0, 0, 0, 0, 0, 0, 0, 0, 0, 0, 0, 0, 0, 0, 0, 0, 0, 0, 0, 0, 0, 0, 0, 0, 0, 0, 0, 0, 0, 0, 0, 0, 0, 0, 0, 0, 0, 0, 0, 0, 0, 0, 0, 0, 0, 0, 0, 0, 0, 0, 0, 0, 0, 0, 0, 0, 0, 0, 0, 0, 0, 0, 0, 0, 0], \"coloraxis\": \"coloraxis\", \"symbol\": \"circle\"}, \"mode\": \"markers\", \"name\": \"0\", \"scene\": \"scene\", \"showlegend\": true, \"type\": \"scatter3d\", \"x\": [-0.3339547718003025, 2.2949211265250566, -0.28277919684525016, -0.31784107140730994, -0.2714017309518723, -0.25178662385289396, -0.326189472132593, -0.3516515049640583, -0.3320132523325056, -0.33060172613430056, -0.39711854046645156, -0.28114213928456144, -0.2872665095056455, -0.3504946710397629, -0.3974901717107606, -0.3198227907206, -0.39740181007582354, -0.24328795714895196, -0.004927082495171777, -0.3293200358947405, -0.28190039355184876, -0.3339368346230907, -0.28965128700742226, -0.3336711853491988, -0.42851983686304196, -0.3459019138566783, -0.3103980557841945, -0.09001392036725245, -0.31781197609135703, -0.07490839323651241, -0.3335470852646092, -0.06474045630174716, -0.31408767895826645, -0.33358520136975806, -0.3320238570418512, -0.24195425686905336, -0.39694556765444927, -0.33278929717628725, -0.317856634111428, -0.3337743608543796, -0.3339310658842057, -0.28550632434434514, -0.3502916240542805, -0.33354509989668285, -0.3836229062169663, -0.24338478370491998, -0.34936952192055987, -0.28503471993533674, 0.8428736119570919, -0.3507554569323484, -0.33362712040417936, -0.3177192606366769, -0.37218244971677666, -0.3328316463160119, 0.3561218530946189, -0.3338201800384411, -0.3338907475252395, -0.36030425729795174, -0.3301176528809281, -0.317833040297449, -0.33379553215940344, -0.24315259636977388, -0.3146456169168988, -0.39535848229996895, -0.3495809710364571, -0.3268601682242359, -0.269795192860482, 0.5694573779510749, -0.3605723561652015, -0.2893363349772926, -0.2872274722465326, 4.402377024755439, -0.3972100524854116, -0.3196464084497153, -0.3161789979370024, -0.3453375718478516, -0.3447688084585753, -0.33364998487893976, -0.09785452692912085, -0.3960026379363537, 3.723731591150202, -0.2860774089859241, -0.3311099767703532, -0.31396002233750775, -0.33278860783589453, -0.35935487941176936, -0.3338958121562991, -0.35091163430583683, -0.2543131330625953, -0.3294402652391355, -0.39728648855008847, -0.2807681301577827, -0.4037895506795291, -0.28692160797773547, -0.355898403159164, 1.0161485708871854, -0.3659505898023257, -0.3590230473566533, -0.2844189774235187, -0.19340853943008132, -0.1469058964799387, -0.40610064286442277, -0.35096596305166267, -0.2959057896228266, -0.30506910290690326, -0.2523277723620464, -0.3460399616029439], \"y\": [0.9936084842221671, 1.563400968707135, 1.34711561513839, 0.8782022195484599, 0.607574497867162, 1.9096160679480036, 0.9938154542547905, 1.4000493922948318, 0.9935709926017621, 1.0954553347838336, 1.365538631990534, 0.8773976586339519, 0.7229682999147841, 1.0949251243591345, 1.3655450866341856, 1.4292552554572058, 1.3655400058857736, 0.14260509865875065, 0.2837726418518519, 1.5192435453083644, 0.7227515258835538, 0.9936089623363784, 1.7281344734609112, 0.9936011695138439, 1.8581885707312538, 1.4724051541913865, 0.8776732990525242, 0.9430699709864897, 0.8782029950314216, 1.3543987171614627, 0.993588116631693, 0.1861173010498227, 0.8779281978717396, 0.9935853655068398, 0.9935855831753354, 1.4573919128223063, 1.3655224197555653, 0.9935726183660447, 0.8782025484139073, 0.9935976758964371, 0.9936091160916677, 0.7230272469002738, 1.400030606533315, 0.9936194033161656, 1.3647992025116755, 1.4575006577037681, 1.3998863724160744, 1.8917019569870257, 1.7576951985271263, 1.4000360917753258, 0.9935859834399741, 0.8782069535162685, 1.1883682338117374, 0.9935313319245863, 0.7159486037957634, 0.9936024039582132, 0.9936077248810744, 1.398097204180138, 0.9933389251375707, 0.8782031772642955, 0.9935964175301507, 1.4574979039141396, 0.993379473667287, 1.3655201009731315, 1.4000225602174092, 0.993053916920061, 0.7219586763707859, 1.659598931157014, 1.52880966066484, 1.7281279947140684, 0.7229684287345867, 3.701574017698148, 1.3655324745976523, 0.6637267029746645, 0.8781885135378595, 1.5283307594915498, 1.4725120007898966, 0.9936056103306327, 0.6055164297948007, 1.3654776476921429, 1.9546485084876735, 1.7280809964790873, 0.9935281382731975, 1.2581663102369238, 0.9935280170704711, 1.398044423708366, 0.9936070810713689, 1.0948983940742634, 0.48649670531659106, 0.9935562808653936, 1.3655319246550472, 0.722781704314042, 1.668673148106131, 0.7229701898880264, 1.3977424094171678, 1.6747523684676688, 0.9343438975153523, 1.3980681413138187, 0.7228628762658306, 0.9839685889708352, 0.24202616448144498, 1.6687201246559773, 1.0948979127994094, 1.8838327114422406, 1.8930315916158833, 0.6073485143140429, 1.3665570483119744], \"z\": [-0.5227464534907557, -0.6195877803831529, -0.020771830751521423, -0.3672280287592464, -0.06227480477992546, -0.6065349394317107, -0.5229199208071235, -0.09070627694697132, -0.5227777911358503, -0.20198021861670787, -0.5064836828537412, -0.3678074482075022, -0.2177962149494684, -0.2015358345193447, -0.5064775871130239, -0.21832141748028733, -0.506478558309895, 0.0918675612193512, -0.05882903305621928, -0.057781608183790474, -0.21786757022694495, -0.5227468541896044, -0.5933543021756941, -0.5227507828811271, -0.6844437163903317, -0.2397177770729608, -0.3672962233439261, -0.38745944976100594, -0.36722867871307574, -0.51102125101341, -0.5227513489777238, -0.2151318999084957, -0.3672614344032474, -0.5227502635251456, -0.522779559828457, -0.28840916769916736, -0.5064847390307292, -0.5227634636249865, -0.36722778138688383, -0.5227483777868884, -0.5227469830561868, -0.21783715785795252, -0.09072923434710885, -0.5227556050650342, -0.5066369458259045, -0.28839701665411105, -0.09072706954916207, -0.7327075025829142, -0.6185692907287863, -0.09072127959365044, -0.522749561090439, -0.3672309504220024, -0.25536778534808696, -0.5227571025069846, -0.2289097700691687, -0.5227481564778131, -0.5227475512136172, -0.18456929087866844, -0.5227820303244061, -0.3672283084438771, -0.5227478112516732, -0.288400997602671, -0.5230775169929018, -0.5065141758129217, -0.09074147032372644, -0.5228046588322222, -0.21798756646356582, -0.7558515570898966, -0.5578318315023362, -0.5933593322305858, -0.21779696406248084, 4.162994943418501, -0.5064811371897696, -0.04628029637932773, -0.3672573356543983, -0.5580528254429381, -0.13514666270268258, -0.5227517791025258, -0.06525037589856861, -0.5064963766615315, -0.0950543609474751, -0.5934140823578891, -0.522788944059004, -0.2528797427662435, -0.5227574622574159, -0.18457996947979627, -0.522747369463646, -0.20152441420083825, -0.3829189493732892, -0.5228240372279296, -0.5064796302603093, -0.21789286360853044, -0.4895709056200656, -0.2178029348843008, -0.18460403483357446, -0.08438260020271024, -0.35123463433853813, -0.18458938779156217, -0.2178353752051374, -0.5240810547232776, 0.15424400637056102, -0.48953391944150393, -0.20152333092627514, -0.49621044319229557, -0.7325112592165764, -0.0626018677729049, -0.11525480839169627]}, {\"customdata\": [[\"X13\"], [\"SHA-256\"], [\"Ethash\"], [\"Scrypt\"], [\"CryptoNight-V7\"], [\"SHA-512\"], [\"SHA-256\"], [\"Scrypt\"], [\"X15\"], [\"X11\"], [\"Scrypt\"], [\"Scrypt\"], [\"Multiple\"], [\"Scrypt\"], [\"SHA-256\"], [\"Scrypt\"], [\"Scrypt\"], [\"Groestl\"], [\"Scrypt\"], [\"Scrypt\"], [\"X11\"], [\"Scrypt\"], [\"SHA-256\"], [\"Scrypt\"], [\"Scrypt\"], [\"PoS\"], [\"Scrypt\"], [\"NeoScrypt\"], [\"Scrypt\"], [\"Scrypt\"], [\"SHA-256\"], [\"Scrypt\"], [\"Scrypt\"], [\"SHA3\"], [\"Scrypt\"], [\"Scrypt\"], [\"SHA-256\"], [\"Scrypt\"], [\"SHA-256\"], [\"NeoScrypt\"], [\"Scrypt\"], [\"Scrypt\"], [\"Scrypt\"], [\"Multiple\"], [\"X11\"], [\"SHA-256\"], [\"Scrypt\"], [\"Scrypt\"], [\"X13\"], [\"Scrypt\"], [\"Counterparty\"], [\"Groestl\"], [\"Scrypt\"], [\"Scrypt\"], [\"X11\"], [\"QuBit\"], [\"Scrypt\"], [\"SHA-256\"], [\"X11\"], [\"Lyra2RE\"], [\"X11\"], [\"X11\"], [\"Scrypt\"], [\"Ethash\"], [\"SHA-256\"], [\"X15\"], [\"Scrypt\"], [\"1GB AES Pattern Search\"], [\"SHA-256\"], [\"NIST5\"], [\"X11\"], [\"Scrypt\"], [\"SHA-256\"], [\"PoS\"], [\"Scrypt\"], [\"X11\"], [\"SHA-256\"], [\"Scrypt\"], [\"POS 3.0\"], [\"Scrypt\"], [\"X11\"], [\"Equihash\"], [\"X11\"], [\"SHA-256\"], [\"X11\"], [\"Scrypt\"], [\"Multiple\"], [\"Scrypt\"], [\"Scrypt\"], [\"SHA-256\"], [\"PoS\"], [\"Scrypt\"], [\"X11\"], [\"Lyra2Z\"], [\"PoS\"], [\"X13\"]], \"hovertemplate\": \"<b>%{hovertext}</b><br><br>class=%{marker.color}<br>PC 1=%{x}<br>PC 2=%{y}<br>PC 3=%{z}<br>Algorithm=%{customdata[0]}<extra></extra>\", \"hovertext\": [\"EliteCoin\", \"Bitcoin\", \"Ethereum\", \"Litecoin\", \"Monero\", \"Bitshares\", \"BitcoinDark\", \"ProsperCoin\", \"KoboCoin\", \"Spreadcoin\", \"Argentum\", \"Aurora Coin\", \"MyriadCoin\", \"MoonCoin\", \"ZetaCoin\", \"SexCoin\", \"Quatloo\", \"Riecoin\", \"BitBar\", \"Catcoin\", \"CryptCoin\", \"CasinoCoin\", \"DevCoin\", \"Einsteinium\", \"Emerald\", \"Exclusive Coin\", \"Franko\", \"FeatherCoin\", \"GrandCoin\", \"HoboNickels\", \"IXcoin\", \"LuckyCoin\", \"Litebar \", \"MaxCoin\", \"MegaCoin\", \"MinCoin\", \"MazaCoin\", \"Nautilus Coin\", \"Namecoin\", \"Orbitcoin\", \"PotCoin\", \"Reddcoin\", \"RonPaulCoin\", \"TeslaCoin\", \"TorCoin\", \"Unobtanium\", \"UnitaryStatus Dollar\", \"ViaCoin\", \"StealthCoin\", \"ZCC Coin\", \"StorjCoin\", \"FairCoin\", \"Dnotes\", \"Flo\", \"Ucoin\", \"CypherPunkCoin\", \"OmniCron\", \"SoonCoin\", \"MarsCoin \", \"Crypto\", \"BowsCoin\", \"Squall Coin\", \"BitZeny\", \"Expanse\", \"Emercoin\", \"EverGreenCoin\", \"Revolution VR\", \"HOdlcoin\", \"EDRCoin\", \"PWR Coin\", \"Adzcoin\", \"YoCoin\", \"SwingCoin\", \"Nebuchadnezzar\", \"Francs\", \"Ratecoin\", \"Clockcoin\", \"Omni\", \"Let it Ride\", \"Frankywillcoin\", \"Lutetium Coin\", \"Komodo\", \"GoldBlocks\", \"BitTokens\", \"MustangCoin\", \"ZoneCoin\", \"Circuits of Value\", \"RootCoin\", \"BitCurrency\", \"DollarCoin\", \"Opair\", \"PesoBit\", \"Halloween Coin\", \"ZCoin\", \"CoffeeCoin\", \"RoyalCoin\"], \"legendgroup\": \"2\", \"marker\": {\"color\": [2, 2, 2, 2, 2, 2, 2, 2, 2, 2, 2, 2, 2, 2, 2, 2, 2, 2, 2, 2, 2, 2, 2, 2, 2, 2, 2, 2, 2, 2, 2, 2, 2, 2, 2, 2, 2, 2, 2, 2, 2, 2, 2, 2, 2, 2, 2, 2, 2, 2, 2, 2, 2, 2, 2, 2, 2, 2, 2, 2, 2, 2, 2, 2, 2, 2, 2, 2, 2, 2, 2, 2, 2, 2, 2, 2, 2, 2, 2, 2, 2, 2, 2, 2, 2, 2, 2, 2, 2, 2, 2, 2, 2, 2, 2, 2], \"coloraxis\": \"coloraxis\", \"symbol\": \"diamond\"}, \"mode\": \"markers\", \"name\": \"2\", \"scene\": \"scene\", \"showlegend\": true, \"type\": \"scatter3d\", \"x\": [-0.16236848673954996, -0.14834344151567225, -0.15019182627394112, -0.1548665687551994, 0.16758452670320864, -0.1635149505626536, -0.22699169506658656, -0.08585682110965574, -0.16293553497638286, -0.20484043537366908, 0.23049503741717717, -0.16332990324120467, -0.16364069156596353, -0.17913712237014695, -0.14285971642569323, -0.1624355428229003, -0.1627130920460193, 1.5856233034870137, -0.16000207725526752, -0.16359248533799203, -0.1635719495931418, -0.16166625244614194, -0.1469270053568777, -0.14719737788941592, -0.14778807051568843, -0.22725496794724934, -0.14699431781329367, 3.8568293060998426, 0.4551025259596652, -0.16087431860666176, -0.1469604778784485, -0.12839865943037942, -0.14749113807689987, -0.14043723421412976, -0.14723099993244984, -0.1610381187690713, -0.1528176404636323, 0.36784474095686154, -0.09594094178414285, -0.16228542465361628, 0.2711823002915779, -0.22612301056753636, -0.1625331663195699, -0.28216484629722705, 0.29998099538061473, -0.09993853866491693, -0.16088867669590023, -0.16338576269999447, -0.15488819329234735, -0.09045046985636683, -0.22490362681326828, 0.29997532709079927, -0.16370413571314896, 0.3001060772943125, -0.15490056137342517, -0.1618052995871167, -0.1538778061334936, -0.16305683185706674, -0.22710369613426742, 3.2466056846685682, -0.08929918427598066, -0.16292557163605811, -0.1838266305333825, -0.15474657035324027, -0.15062539735637004, -0.16180350812149466, -0.1836720386369164, -0.15092507101893046, -0.1837722419931528, 0.2999581142896148, 1.08561118427388, -0.17686095438148797, -0.14972269370371202, 0.3038329925104661, -0.150128284917843, -0.16353570244191548, -0.2261722377718655, -0.13562701525785015, 0.3137476301053971, -0.2270598455603694, -0.16356029591719667, -0.13595838592341644, -0.15762506925959274, -0.200781931407134, -0.04947723344503175, -0.15258023560715098, -0.14742355910552515, 0.3799061929771961, -0.15457935847127544, -0.18150972864139794, -0.11955924126010083, -0.14556740284752276, -0.10115404763643472, -0.2044013409437571, -0.16159260543297815, -0.12060481486905933], \"y\": [-1.1600953460546939, -2.231451146210332, -2.0445871676275758, -2.041512028471638, -1.7484028648312904, -1.1600790523197735, -0.7881401421805333, -1.7410283232776875, -1.1601223582769622, -1.1990450973679885, -1.2809980823797664, -1.1600741202184999, -1.1600751424720444, -1.6447593828526765, -1.1605693597438937, -1.1600867220571403, -1.1600957896689348, -1.1808190223064705, -1.1601671892947703, -1.1600729385962179, -1.1600805715257183, -1.1602000770212444, -1.2754756604326989, -1.2755073986406127, -1.275463835506647, -0.7881322860195402, -1.2754759583019102, -2.4062592810311116, -2.367181491852293, -1.1601167889758017, -1.1603658670877388, -2.585883768041956, -1.2754713522789265, -2.0938506503742125, -1.2754887811068465, -1.1601833352554938, -2.0445135577401516, -2.1762800094806294, -1.140142334828715, -1.1600931321851977, -1.280379377165372, -0.7881645832814812, -1.1601624640750288, -1.4949357821757234, -2.363886800521387, -1.7408087170443123, -1.1601421690903955, -1.160082302001529, -2.0415126048345185, -1.1655526454551397, -0.7882391700204116, -2.3638951318719825, -1.160070496332379, -2.3638946216066463, -2.0415099598387445, -1.1600922338992694, -2.0977869415470525, -1.160104768713618, -0.7881423093389238, -1.2179050738615083, -1.1658937905951647, -1.1601101941438487, -1.644654581907327, -2.041508830131525, -2.1883627373658348, -1.1600921861509967, -1.6446638474408668, -2.044658767218651, -1.6446567018527685, -2.363889269528298, -1.2507244412994643, -1.6448206761443418, -1.9783587349787775, -2.3640265660462463, -2.1883076146046347, -1.160079605423538, -0.7881777939217907, -2.025819929281558, -2.3642561003345923, -0.7881427022696843, -1.1600810828592363, -2.2324224519836977, -2.340034038343399, -1.2004165835584315, -2.044339274393018, -2.268083820046606, -1.2754695510838157, -2.3677578845456995, -2.0415117252356745, -1.484129313408293, -0.42554084063112524, -1.2755293967881485, -2.2358243816520975, -1.1990490109851057, -1.1601475451356142, -1.740469228091782], \"z\": [0.01588448162613988, 0.4151005777779371, 0.3561322388030979, 0.4320787158774946, 0.32125900490139275, 0.015903774623050936, 0.03217123033511677, 0.3250152657061235, 0.015898753262408596, 0.1117803683915145, 0.16508201404524095, 0.015899640891856203, 0.015905604376283362, 0.22830641895983972, 0.015582713987925543, 0.01588457566495751, 0.015891000973224486, -0.014086626363948937, 0.01584981170476621, 0.015904403581376833, 0.015905047911789174, 0.01588544095712171, 0.1714120076266862, 0.1714213554403858, 0.17142655350674882, 0.032175105940916465, 0.17141330954573458, 0.3241375155092796, 0.38263244001813546, 0.015859365356834805, 0.01563214149332215, 0.4437172106867705, 0.17142200119710557, 0.38820795141195585, 0.17141947518318004, 0.01587140921780768, 0.35617153296664134, 0.4324291740977998, 0.19470107940175507, 0.015882626120573996, 0.16423591328666823, 0.0321582428685485, 0.015896619068266227, 0.6783837758956073, 0.38509587395031836, 0.3252496105261581, 0.015863056892219722, 0.01590179123894312, 0.43207919894324703, 0.015272291909017936, 0.03214544356432514, 0.38509710364686645, 0.015906167107075122, 0.38509458396475527, 0.43207907411330265, 0.015873505183973957, 0.39135205327428446, 0.015898655062193946, 0.03217362199481343, -0.04022037339981464, 0.015296713316628446, 0.015896926222460542, 0.22838019049776345, 0.4320760352597271, 0.35866898005743386, 0.015873465164819776, 0.22837854213355088, 0.35615563815633916, 0.2283794568655177, 0.3850966357845586, 0.13775710473846622, 0.22827201797515295, 0.3664900432928903, 0.38504251613670704, 0.3586522287647897, 0.015904238194693197, 0.03216094701527233, 0.3783806540918725, 0.38488762079017225, 0.03217285301337069, 0.01590489841805732, 0.4149993997853692, 0.42915341612669716, 0.19001087959460888, 0.4304844647206568, 0.3654334264998198, 0.1714204915654075, 0.38411969774166094, 0.43207329131304695, 0.14990559204687476, -0.05469920325380753, 0.17139376837936066, 0.40976095313539024, 0.11177266542644824, 0.015876976770641295, 0.3255912153509746]}, {\"customdata\": [[\"PoS\"]], \"hovertemplate\": \"<b>%{hovertext}</b><br><br>class=%{marker.color}<br>PC 1=%{x}<br>PC 2=%{y}<br>PC 3=%{z}<br>Algorithm=%{customdata[0]}<extra></extra>\", \"hovertext\": [\"TeamUP\"], \"legendgroup\": \"3\", \"marker\": {\"color\": [3], \"coloraxis\": \"coloraxis\", \"symbol\": \"square\"}, \"mode\": \"markers\", \"name\": \"3\", \"scene\": \"scene\", \"showlegend\": true, \"type\": \"scatter3d\", \"x\": [-0.4176138224334253], \"y\": [3.430502318014509], \"z\": [13.911529267629083]}, {\"customdata\": [[\"SHA-256D\"]], \"hovertemplate\": \"<b>%{hovertext}</b><br><br>class=%{marker.color}<br>PC 1=%{x}<br>PC 2=%{y}<br>PC 3=%{z}<br>Algorithm=%{customdata[0]}<extra></extra>\", \"hovertext\": [\"LanaCoin\"], \"legendgroup\": \"1\", \"marker\": {\"color\": [1], \"coloraxis\": \"coloraxis\", \"symbol\": \"x\"}, \"mode\": \"markers\", \"name\": \"1\", \"scene\": \"scene\", \"showlegend\": true, \"type\": \"scatter3d\", \"x\": [34.06659813871284], \"y\": [1.579395480098452], \"z\": [-0.7563688258525744]}],\n",
       "                        {\"coloraxis\": {\"colorbar\": {\"title\": {\"text\": \"class\"}}, \"colorscale\": [[0.0, \"#0d0887\"], [0.1111111111111111, \"#46039f\"], [0.2222222222222222, \"#7201a8\"], [0.3333333333333333, \"#9c179e\"], [0.4444444444444444, \"#bd3786\"], [0.5555555555555556, \"#d8576b\"], [0.6666666666666666, \"#ed7953\"], [0.7777777777777778, \"#fb9f3a\"], [0.8888888888888888, \"#fdca26\"], [1.0, \"#f0f921\"]]}, \"legend\": {\"title\": {\"text\": \"class\"}, \"tracegroupgap\": 0, \"x\": 0, \"y\": 1}, \"margin\": {\"t\": 60}, \"scene\": {\"domain\": {\"x\": [0.0, 1.0], \"y\": [0.0, 1.0]}, \"xaxis\": {\"title\": {\"text\": \"PC 1\"}}, \"yaxis\": {\"title\": {\"text\": \"PC 2\"}}, \"zaxis\": {\"title\": {\"text\": \"PC 3\"}}}, \"template\": {\"data\": {\"bar\": [{\"error_x\": {\"color\": \"#2a3f5f\"}, \"error_y\": {\"color\": \"#2a3f5f\"}, \"marker\": {\"line\": {\"color\": \"#E5ECF6\", \"width\": 0.5}}, \"type\": \"bar\"}], \"barpolar\": [{\"marker\": {\"line\": {\"color\": \"#E5ECF6\", \"width\": 0.5}}, \"type\": \"barpolar\"}], \"carpet\": [{\"aaxis\": {\"endlinecolor\": \"#2a3f5f\", \"gridcolor\": \"white\", \"linecolor\": \"white\", \"minorgridcolor\": \"white\", \"startlinecolor\": \"#2a3f5f\"}, \"baxis\": {\"endlinecolor\": \"#2a3f5f\", \"gridcolor\": \"white\", \"linecolor\": \"white\", \"minorgridcolor\": \"white\", \"startlinecolor\": \"#2a3f5f\"}, \"type\": \"carpet\"}], \"choropleth\": [{\"colorbar\": {\"outlinewidth\": 0, \"ticks\": \"\"}, \"type\": \"choropleth\"}], \"contour\": [{\"colorbar\": {\"outlinewidth\": 0, \"ticks\": \"\"}, \"colorscale\": [[0.0, \"#0d0887\"], [0.1111111111111111, \"#46039f\"], [0.2222222222222222, \"#7201a8\"], [0.3333333333333333, \"#9c179e\"], [0.4444444444444444, \"#bd3786\"], [0.5555555555555556, \"#d8576b\"], [0.6666666666666666, \"#ed7953\"], [0.7777777777777778, \"#fb9f3a\"], [0.8888888888888888, \"#fdca26\"], [1.0, \"#f0f921\"]], \"type\": \"contour\"}], \"contourcarpet\": [{\"colorbar\": {\"outlinewidth\": 0, \"ticks\": \"\"}, \"type\": \"contourcarpet\"}], \"heatmap\": [{\"colorbar\": {\"outlinewidth\": 0, \"ticks\": \"\"}, \"colorscale\": [[0.0, \"#0d0887\"], [0.1111111111111111, \"#46039f\"], [0.2222222222222222, \"#7201a8\"], [0.3333333333333333, \"#9c179e\"], [0.4444444444444444, \"#bd3786\"], [0.5555555555555556, \"#d8576b\"], [0.6666666666666666, \"#ed7953\"], [0.7777777777777778, \"#fb9f3a\"], [0.8888888888888888, \"#fdca26\"], [1.0, \"#f0f921\"]], \"type\": \"heatmap\"}], \"heatmapgl\": [{\"colorbar\": {\"outlinewidth\": 0, \"ticks\": \"\"}, \"colorscale\": [[0.0, \"#0d0887\"], [0.1111111111111111, \"#46039f\"], [0.2222222222222222, \"#7201a8\"], [0.3333333333333333, \"#9c179e\"], [0.4444444444444444, \"#bd3786\"], [0.5555555555555556, \"#d8576b\"], [0.6666666666666666, \"#ed7953\"], [0.7777777777777778, \"#fb9f3a\"], [0.8888888888888888, \"#fdca26\"], [1.0, \"#f0f921\"]], \"type\": \"heatmapgl\"}], \"histogram\": [{\"marker\": {\"colorbar\": {\"outlinewidth\": 0, \"ticks\": \"\"}}, \"type\": \"histogram\"}], \"histogram2d\": [{\"colorbar\": {\"outlinewidth\": 0, \"ticks\": \"\"}, \"colorscale\": [[0.0, \"#0d0887\"], [0.1111111111111111, \"#46039f\"], [0.2222222222222222, \"#7201a8\"], [0.3333333333333333, \"#9c179e\"], [0.4444444444444444, \"#bd3786\"], [0.5555555555555556, \"#d8576b\"], [0.6666666666666666, \"#ed7953\"], [0.7777777777777778, \"#fb9f3a\"], [0.8888888888888888, \"#fdca26\"], [1.0, \"#f0f921\"]], \"type\": \"histogram2d\"}], \"histogram2dcontour\": [{\"colorbar\": {\"outlinewidth\": 0, \"ticks\": \"\"}, \"colorscale\": [[0.0, \"#0d0887\"], [0.1111111111111111, \"#46039f\"], [0.2222222222222222, \"#7201a8\"], [0.3333333333333333, \"#9c179e\"], [0.4444444444444444, \"#bd3786\"], [0.5555555555555556, \"#d8576b\"], [0.6666666666666666, \"#ed7953\"], [0.7777777777777778, \"#fb9f3a\"], [0.8888888888888888, \"#fdca26\"], [1.0, \"#f0f921\"]], \"type\": \"histogram2dcontour\"}], \"mesh3d\": [{\"colorbar\": {\"outlinewidth\": 0, \"ticks\": \"\"}, \"type\": \"mesh3d\"}], \"parcoords\": [{\"line\": {\"colorbar\": {\"outlinewidth\": 0, \"ticks\": \"\"}}, \"type\": \"parcoords\"}], \"pie\": [{\"automargin\": true, \"type\": \"pie\"}], \"scatter\": [{\"marker\": {\"colorbar\": {\"outlinewidth\": 0, \"ticks\": \"\"}}, \"type\": \"scatter\"}], \"scatter3d\": [{\"line\": {\"colorbar\": {\"outlinewidth\": 0, \"ticks\": \"\"}}, \"marker\": {\"colorbar\": {\"outlinewidth\": 0, \"ticks\": \"\"}}, \"type\": \"scatter3d\"}], \"scattercarpet\": [{\"marker\": {\"colorbar\": {\"outlinewidth\": 0, \"ticks\": \"\"}}, \"type\": \"scattercarpet\"}], \"scattergeo\": [{\"marker\": {\"colorbar\": {\"outlinewidth\": 0, \"ticks\": \"\"}}, \"type\": \"scattergeo\"}], \"scattergl\": [{\"marker\": {\"colorbar\": {\"outlinewidth\": 0, \"ticks\": \"\"}}, \"type\": \"scattergl\"}], \"scattermapbox\": [{\"marker\": {\"colorbar\": {\"outlinewidth\": 0, \"ticks\": \"\"}}, \"type\": \"scattermapbox\"}], \"scatterpolar\": [{\"marker\": {\"colorbar\": {\"outlinewidth\": 0, \"ticks\": \"\"}}, \"type\": \"scatterpolar\"}], \"scatterpolargl\": [{\"marker\": {\"colorbar\": {\"outlinewidth\": 0, \"ticks\": \"\"}}, \"type\": \"scatterpolargl\"}], \"scatterternary\": [{\"marker\": {\"colorbar\": {\"outlinewidth\": 0, \"ticks\": \"\"}}, \"type\": \"scatterternary\"}], \"surface\": [{\"colorbar\": {\"outlinewidth\": 0, \"ticks\": \"\"}, \"colorscale\": [[0.0, \"#0d0887\"], [0.1111111111111111, \"#46039f\"], [0.2222222222222222, \"#7201a8\"], [0.3333333333333333, \"#9c179e\"], [0.4444444444444444, \"#bd3786\"], [0.5555555555555556, \"#d8576b\"], [0.6666666666666666, \"#ed7953\"], [0.7777777777777778, \"#fb9f3a\"], [0.8888888888888888, \"#fdca26\"], [1.0, \"#f0f921\"]], \"type\": \"surface\"}], \"table\": [{\"cells\": {\"fill\": {\"color\": \"#EBF0F8\"}, \"line\": {\"color\": \"white\"}}, \"header\": {\"fill\": {\"color\": \"#C8D4E3\"}, \"line\": {\"color\": \"white\"}}, \"type\": \"table\"}]}, \"layout\": {\"annotationdefaults\": {\"arrowcolor\": \"#2a3f5f\", \"arrowhead\": 0, \"arrowwidth\": 1}, \"coloraxis\": {\"colorbar\": {\"outlinewidth\": 0, \"ticks\": \"\"}}, \"colorscale\": {\"diverging\": [[0, \"#8e0152\"], [0.1, \"#c51b7d\"], [0.2, \"#de77ae\"], [0.3, \"#f1b6da\"], [0.4, \"#fde0ef\"], [0.5, \"#f7f7f7\"], [0.6, \"#e6f5d0\"], [0.7, \"#b8e186\"], [0.8, \"#7fbc41\"], [0.9, \"#4d9221\"], [1, \"#276419\"]], \"sequential\": [[0.0, \"#0d0887\"], [0.1111111111111111, \"#46039f\"], [0.2222222222222222, \"#7201a8\"], [0.3333333333333333, \"#9c179e\"], [0.4444444444444444, \"#bd3786\"], [0.5555555555555556, \"#d8576b\"], [0.6666666666666666, \"#ed7953\"], [0.7777777777777778, \"#fb9f3a\"], [0.8888888888888888, \"#fdca26\"], [1.0, \"#f0f921\"]], \"sequentialminus\": [[0.0, \"#0d0887\"], [0.1111111111111111, \"#46039f\"], [0.2222222222222222, \"#7201a8\"], [0.3333333333333333, \"#9c179e\"], [0.4444444444444444, \"#bd3786\"], [0.5555555555555556, \"#d8576b\"], [0.6666666666666666, \"#ed7953\"], [0.7777777777777778, \"#fb9f3a\"], [0.8888888888888888, \"#fdca26\"], [1.0, \"#f0f921\"]]}, \"colorway\": [\"#636efa\", \"#EF553B\", \"#00cc96\", \"#ab63fa\", \"#FFA15A\", \"#19d3f3\", \"#FF6692\", \"#B6E880\", \"#FF97FF\", \"#FECB52\"], \"font\": {\"color\": \"#2a3f5f\"}, \"geo\": {\"bgcolor\": \"white\", \"lakecolor\": \"white\", \"landcolor\": \"#E5ECF6\", \"showlakes\": true, \"showland\": true, \"subunitcolor\": \"white\"}, \"hoverlabel\": {\"align\": \"left\"}, \"hovermode\": \"closest\", \"mapbox\": {\"style\": \"light\"}, \"paper_bgcolor\": \"white\", \"plot_bgcolor\": \"#E5ECF6\", \"polar\": {\"angularaxis\": {\"gridcolor\": \"white\", \"linecolor\": \"white\", \"ticks\": \"\"}, \"bgcolor\": \"#E5ECF6\", \"radialaxis\": {\"gridcolor\": \"white\", \"linecolor\": \"white\", \"ticks\": \"\"}}, \"scene\": {\"xaxis\": {\"backgroundcolor\": \"#E5ECF6\", \"gridcolor\": \"white\", \"gridwidth\": 2, \"linecolor\": \"white\", \"showbackground\": true, \"ticks\": \"\", \"zerolinecolor\": \"white\"}, \"yaxis\": {\"backgroundcolor\": \"#E5ECF6\", \"gridcolor\": \"white\", \"gridwidth\": 2, \"linecolor\": \"white\", \"showbackground\": true, \"ticks\": \"\", \"zerolinecolor\": \"white\"}, \"zaxis\": {\"backgroundcolor\": \"#E5ECF6\", \"gridcolor\": \"white\", \"gridwidth\": 2, \"linecolor\": \"white\", \"showbackground\": true, \"ticks\": \"\", \"zerolinecolor\": \"white\"}}, \"shapedefaults\": {\"line\": {\"color\": \"#2a3f5f\"}}, \"ternary\": {\"aaxis\": {\"gridcolor\": \"white\", \"linecolor\": \"white\", \"ticks\": \"\"}, \"baxis\": {\"gridcolor\": \"white\", \"linecolor\": \"white\", \"ticks\": \"\"}, \"bgcolor\": \"#E5ECF6\", \"caxis\": {\"gridcolor\": \"white\", \"linecolor\": \"white\", \"ticks\": \"\"}}, \"title\": {\"x\": 0.05}, \"xaxis\": {\"automargin\": true, \"gridcolor\": \"white\", \"linecolor\": \"white\", \"ticks\": \"\", \"title\": {\"standoff\": 15}, \"zerolinecolor\": \"white\", \"zerolinewidth\": 2}, \"yaxis\": {\"automargin\": true, \"gridcolor\": \"white\", \"linecolor\": \"white\", \"ticks\": \"\", \"title\": {\"standoff\": 15}, \"zerolinecolor\": \"white\", \"zerolinewidth\": 2}}}, \"width\": 800},\n",
       "                        {\"responsive\": true}\n",
       "                    ).then(function(){\n",
       "                            \n",
       "var gd = document.getElementById('fa57f3cb-c1d8-4733-bd02-27b70a785397');\n",
       "var x = new MutationObserver(function (mutations, observer) {{\n",
       "        var display = window.getComputedStyle(gd).display;\n",
       "        if (!display || display === 'none') {{\n",
       "            console.log([gd, 'removed!']);\n",
       "            Plotly.purge(gd);\n",
       "            observer.disconnect();\n",
       "        }}\n",
       "}});\n",
       "\n",
       "// Listen for the removal of the full notebook cells\n",
       "var notebookContainer = gd.closest('#notebook-container');\n",
       "if (notebookContainer) {{\n",
       "    x.observe(notebookContainer, {childList: true});\n",
       "}}\n",
       "\n",
       "// Listen for the clearing of the current output cell\n",
       "var outputEl = gd.closest('.output');\n",
       "if (outputEl) {{\n",
       "    x.observe(outputEl, {childList: true});\n",
       "}}\n",
       "\n",
       "                        })\n",
       "                };\n",
       "                });\n",
       "            </script>\n",
       "        </div>"
      ]
     },
     "metadata": {},
     "output_type": "display_data"
    }
   ],
   "source": [
    "# STEP 1 \n",
    "# Create a 3D scatter plot using Plotly Express to plot the clusters using the clustered_df DataFrame.\n",
    "\n",
    "# Plot the df with a third axis to show what's happening with points in the middle\n",
    "fig = px.scatter_3d(\n",
    "    clustered_df,\n",
    "    x=\"PC 1\",\n",
    "    y=\"PC 2\",\n",
    "    z=\"PC 3\",\n",
    "    color=\"class\",\n",
    "    symbol=\"class\",\n",
    "    hover_name=\"CoinName\",\n",
    "    hover_data=[\"Algorithm\"],\n",
    "    width=800,\n",
    ")\n",
    "\n",
    "fig.update_layout(legend=dict(x=0, y=1))\n",
    "fig.show()"
   ]
  },
  {
   "cell_type": "code",
   "execution_count": 72,
   "metadata": {},
   "outputs": [
    {
     "data": {
      "application/vnd.holoviews_exec.v0+json": "",
      "text/html": [
       "<div id='1897'>\n",
       "\n",
       "\n",
       "\n",
       "\n",
       "\n",
       "  <div class=\"bk-root\" id=\"2b6471ef-464a-4359-a9e3-ae57fbfcace2\" data-root-id=\"1897\"></div>\n",
       "</div>\n",
       "<script type=\"application/javascript\">(function(root) {\n",
       "  function embed_document(root) {\n",
       "  var docs_json = {\"2282b9ea-530c-4a08-b1f3-dc53382861a1\":{\"roots\":{\"references\":[{\"attributes\":{\"editor\":{\"id\":\"1927\"},\"field\":\"class\",\"formatter\":{\"id\":\"1926\"},\"title\":\"class\"},\"id\":\"1928\",\"type\":\"TableColumn\"},{\"attributes\":{\"margin\":[5,5,5,5],\"name\":\"HSpacer03569\",\"sizing_mode\":\"stretch_width\"},\"id\":\"1898\",\"type\":\"Spacer\"},{\"attributes\":{\"editor\":{\"id\":\"1922\"},\"field\":\"TotalCoinsMined\",\"formatter\":{\"id\":\"1921\"},\"title\":\"TotalCoinsMined\"},\"id\":\"1923\",\"type\":\"TableColumn\"},{\"attributes\":{},\"id\":\"1901\",\"type\":\"StringFormatter\"},{\"attributes\":{},\"id\":\"1926\",\"type\":\"NumberFormatter\"},{\"attributes\":{},\"id\":\"1911\",\"type\":\"StringFormatter\"},{\"attributes\":{},\"id\":\"1912\",\"type\":\"StringEditor\"},{\"attributes\":{},\"id\":\"1902\",\"type\":\"StringEditor\"},{\"attributes\":{},\"id\":\"1922\",\"type\":\"NumberEditor\"},{\"attributes\":{\"columns\":[{\"id\":\"1903\"},{\"id\":\"1908\"},{\"id\":\"1913\"},{\"id\":\"1918\"},{\"id\":\"1923\"},{\"id\":\"1928\"}],\"height\":300,\"reorderable\":false,\"source\":{\"id\":\"1899\"},\"view\":{\"id\":\"1932\"},\"width\":800},\"id\":\"1931\",\"type\":\"DataTable\"},{\"attributes\":{\"margin\":[5,5,5,5],\"name\":\"HSpacer03570\",\"sizing_mode\":\"stretch_width\"},\"id\":\"1937\",\"type\":\"Spacer\"},{\"attributes\":{\"editor\":{\"id\":\"1907\"},\"field\":\"Algorithm\",\"formatter\":{\"id\":\"1906\"},\"title\":\"Algorithm\"},\"id\":\"1908\",\"type\":\"TableColumn\"},{\"attributes\":{},\"id\":\"1907\",\"type\":\"StringEditor\"},{\"attributes\":{\"editor\":{\"id\":\"1917\"},\"field\":\"TotalCoinSupply\",\"formatter\":{\"id\":\"1916\"},\"title\":\"TotalCoinSupply\"},\"id\":\"1918\",\"type\":\"TableColumn\"},{\"attributes\":{\"data\":{\"Algorithm\":[\"Scrypt\",\"Scrypt\",\"X13\",\"SHA-256\",\"Ethash\",\"Scrypt\",\"X11\",\"CryptoNight-V7\",\"Ethash\",\"Equihash\",\"SHA-512\",\"Multiple\",\"SHA-256\",\"SHA-256\",\"Scrypt\",\"X15\",\"X11\",\"Scrypt\",\"Scrypt\",\"Scrypt\",\"Multiple\",\"Scrypt\",\"SHA-256\",\"Scrypt\",\"Scrypt\",\"Scrypt\",\"Quark\",\"Groestl\",\"Scrypt\",\"Scrypt\",\"Scrypt\",\"Scrypt\",\"Scrypt\",\"X11\",\"Scrypt\",\"Groestl\",\"Multiple\",\"SHA-256\",\"Scrypt\",\"Scrypt\",\"Scrypt\",\"Scrypt\",\"PoS\",\"Scrypt\",\"Scrypt\",\"NeoScrypt\",\"Scrypt\",\"Scrypt\",\"Scrypt\",\"Scrypt\",\"X11\",\"Scrypt\",\"X11\",\"SHA-256\",\"Scrypt\",\"Scrypt\",\"Scrypt\",\"SHA3\",\"Scrypt\",\"HybridScryptHash256\",\"Scrypt\",\"Scrypt\",\"SHA-256\",\"Scrypt\",\"X13\",\"Scrypt\",\"SHA-256\",\"Scrypt\",\"X13\",\"NeoScrypt\",\"Scrypt\",\"Scrypt\",\"Scrypt\",\"Scrypt\",\"Scrypt\",\"Scrypt\",\"X11\",\"X11\",\"SHA-256\",\"Multiple\",\"SHA-256\",\"PHI1612\",\"X11\",\"SHA-256\",\"SHA-256\",\"SHA-256\",\"X11\",\"Scrypt\",\"Scrypt\",\"Scrypt\",\"Scrypt\",\"Lyra2REv2\",\"Scrypt\",\"X11\",\"Multiple\",\"SHA-256\",\"X13\",\"Scrypt\",\"CryptoNight\",\"CryptoNight\",\"Shabal256\",\"Counterparty\",\"Scrypt\",\"SHA-256\",\"Groestl\",\"Scrypt\",\"Scrypt\",\"Scrypt\",\"X13\",\"Scrypt\",\"Scrypt\",\"Scrypt\",\"Scrypt\",\"X13\",\"Scrypt\",\"Stanford Folding\",\"X11\",\"Multiple\",\"QuBit\",\"Scrypt\",\"Scrypt\",\"Scrypt\",\"M7 POW\",\"Scrypt\",\"SHA-256\",\"Scrypt\",\"X11\",\"SHA3\",\"X11\",\"Lyra2RE\",\"SHA-256\",\"QUAIT\",\"X11\",\"X11\",\"Scrypt\",\"Scrypt\",\"Scrypt\",\"Ethash\",\"X13\",\"Blake2b\",\"SHA-256\",\"X15\",\"X11\",\"SHA-256\",\"BLAKE256\",\"Scrypt\",\"1GB AES Pattern Search\",\"SHA-256\",\"X11\",\"Scrypt\",\"SHA-256\",\"SHA-256\",\"NIST5\",\"Scrypt\",\"Scrypt\",\"X11\",\"Dagger\",\"Scrypt\",\"X11GOST\",\"X11\",\"Scrypt\",\"SHA-256\",\"Scrypt\",\"PoS\",\"Scrypt\",\"X11\",\"X11\",\"SHA-256\",\"SHA-256\",\"NIST5\",\"X11\",\"Scrypt\",\"POS 3.0\",\"Scrypt\",\"Scrypt\",\"Scrypt\",\"X13\",\"X11\",\"X11\",\"Equihash\",\"X11\",\"Scrypt\",\"CryptoNight\",\"SHA-256\",\"SHA-256\",\"X11\",\"Scrypt\",\"Multiple\",\"Scrypt\",\"Scrypt\",\"Scrypt\",\"SHA-256\",\"Scrypt\",\"Scrypt\",\"SHA-256D\",\"PoS\",\"Scrypt\",\"X11\",\"Lyra2Z\",\"PoS\",\"X13\",\"X14\",\"PoS\",\"SHA-256D\",\"Ethash\"],\"CoinName\":[\"42 Coin\",\"404Coin\",\"EliteCoin\",\"Bitcoin\",\"Ethereum\",\"Litecoin\",\"Dash\",\"Monero\",\"Ethereum Classic\",\"ZCash\",\"Bitshares\",\"DigiByte\",\"BitcoinDark\",\"PayCoin\",\"ProsperCoin\",\"KoboCoin\",\"Spreadcoin\",\"Argentum\",\"Aurora Coin\",\"BlueCoin\",\"MyriadCoin\",\"MoonCoin\",\"ZetaCoin\",\"SexCoin\",\"Quatloo\",\"EnergyCoin\",\"QuarkCoin\",\"Riecoin\",\"Digitalcoin \",\"BitBar\",\"Catcoin\",\"CryptoBullion\",\"CannaCoin\",\"CryptCoin\",\"CasinoCoin\",\"Diamond\",\"Verge\",\"DevCoin\",\"EarthCoin\",\"E-Gulden\",\"Einsteinium\",\"Emerald\",\"Exclusive Coin\",\"FlutterCoin\",\"Franko\",\"FeatherCoin\",\"GrandCoin\",\"GlobalCoin\",\"GoldCoin\",\"HoboNickels\",\"HyperStake\",\"Infinite Coin\",\"IOCoin\",\"IXcoin\",\"KrugerCoin\",\"LuckyCoin\",\"Litebar \",\"MaxCoin\",\"MegaCoin\",\"MediterraneanCoin\",\"MintCoin\",\"MinCoin\",\"MazaCoin\",\"Nautilus Coin\",\"NavCoin\",\"NobleCoin\",\"Namecoin\",\"NyanCoin\",\"OpalCoin\",\"Orbitcoin\",\"PotCoin\",\"PhoenixCoin\",\"Reddcoin\",\"RonPaulCoin\",\"StableCoin\",\"SmartCoin\",\"SuperCoin\",\"SyncCoin\",\"SysCoin\",\"TeslaCoin\",\"TigerCoin\",\"TittieCoin\",\"TorCoin\",\"TerraCoin\",\"UnbreakableCoin\",\"Unobtanium\",\"UroCoin\",\"UnitaryStatus Dollar\",\"UltraCoin\",\"ViaCoin\",\"VeriCoin\",\"Vertcoin\",\"WorldCoin\",\"X11 Coin\",\"Crypti\",\"JouleCoin\",\"StealthCoin\",\"ZCC Coin\",\"ByteCoin\",\"DigitalNote \",\"BurstCoin\",\"StorjCoin\",\"MonaCoin\",\"Neutron\",\"FairCoin\",\"Gulden\",\"RubyCoin\",\"PesetaCoin\",\"Kore\",\"Wild Beast Coin\",\"Dnotes\",\"Flo\",\"8BIT Coin\",\"Sativa Coin\",\"ArtByte\",\"Folding Coin\",\"Ucoin\",\"Unitus\",\"CypherPunkCoin\",\"OmniCron\",\"Vtorrent\",\"GreenCoin\",\"Cryptonite\",\"MasterCoin\",\"SoonCoin\",\"1Credit\",\"IslaCoin\",\"Nexus\",\"MarsCoin \",\"Crypto\",\"Anarchists Prime\",\"Droidz\",\"BowsCoin\",\"Squall Coin\",\"Song Coin\",\"BitZeny\",\"Diggits\",\"Expanse\",\"Paycon\",\"Siacoin\",\"Emercoin\",\"EverGreenCoin\",\"MindCoin\",\"I0coin\",\"Decred\",\"Revolution VR\",\"HOdlcoin\",\"EDRCoin\",\"Hitcoin\",\"Gamecredits\",\"DubaiCoin\",\"CarpeDiemCoin\",\"PWR Coin\",\"BillaryCoin\",\"GPU Coin\",\"Adzcoin\",\"SoilCoin\",\"YoCoin\",\"SibCoin\",\"EuropeCoin\",\"ZeitCoin\",\"SwingCoin\",\"SafeExchangeCoin\",\"Nebuchadnezzar\",\"Francs\",\"BolivarCoin\",\"Ratecoin\",\"Revenu\",\"Clockcoin\",\"VIP Tokens\",\"BitSend\",\"Omni\",\"Let it Ride\",\"PutinCoin\",\"iBankCoin\",\"Frankywillcoin\",\"MudraCoin\",\"PizzaCoin\",\"Lutetium Coin\",\"Komodo\",\"GoldBlocks\",\"CarterCoin\",\"Karbo\",\"BitTokens\",\"ZayedCoin\",\"MustangCoin\",\"ZoneCoin\",\"Circuits of Value\",\"RootCoin\",\"DopeCoin\",\"BitCurrency\",\"DollarCoin\",\"Swiscoin\",\"Shilling\",\"BuzzCoin\",\"Opair\",\"PesoBit\",\"Halloween Coin\",\"ZCoin\",\"CoffeeCoin\",\"RoyalCoin\",\"GanjaCoin V2\",\"TeamUP\",\"LanaCoin\",\"Elementrem\"],\"ProofType\":[\"PoW/PoS\",\"PoW/PoS\",\"PoW/PoS\",\"PoW\",\"PoW\",\"PoW\",\"PoW/PoS\",\"PoW\",\"PoW\",\"PoW\",\"PoS\",\"PoW\",\"PoW/PoS\",\"PoS\",\"PoW\",\"PoW/PoS\",\"PoW\",\"PoW\",\"PoW/PoS\",\"PoW/PoS\",\"PoW\",\"PoW\",\"PoW\",\"PoW\",\"PoW\",\"PoW/PoS\",\"PoW\",\"PoW\",\"PoW\",\"PoW/PoS\",\"PoW\",\"PoW/PoS\",\"PoW\",\"PoW\",\"PoC\",\"PoW/PoS\",\"PoW\",\"PoW\",\"PoW\",\"PoW\",\"PoW\",\"PoW\",\"PoS\",\"PoS/PoW/PoT\",\"PoW\",\"PoW\",\"PoW\",\"PoW\",\"PoW\",\"PoW/PoS\",\"PoS\",\"PoW\",\"PoW/PoS\",\"PoW\",\"PoW\",\"PoW\",\"PoW\",\"PoW/PoS\",\"PoW\",\"PoW\",\"PoS\",\"PoW\",\"PoW/PoS\",\"PoS\",\"PoW/PoS\",\"PoW\",\"PoW\",\"PoW\",\"PoW/PoS\",\"PoW/PoS\",\"PoW/PoS\",\"PoW/PoS\",\"PoW/PoS\",\"PoW\",\"PoW\",\"PoW\",\"PoS\",\"PoW/PoS\",\"PoW\",\"PoS\",\"PoW\",\"PoS\",\"PoW/PoS\",\"PoW\",\"PoW\",\"PoW\",\"PoW\",\"PoW/PoS\",\"PoW/PoS\",\"PoW\",\"PoST\",\"PoW\",\"PoW\",\"PoW/PoS\",\"PoS\",\"PoW\",\"PoW/PoS\",\"PoW/PoS\",\"PoW\",\"PoW\",\"PoC\",\"PoS\",\"PoW\",\"PoW/PoS\",\"PoW/PoS\",\"PoW\",\"PoS\",\"PoW\",\"PoW/PoS\",\"PoW\",\"PoS\",\"PoW\",\"PoW/PoS\",\"PoW/PoS\",\"PoW\",\"PoW\",\"PoS\",\"PoW\",\"PoW\",\"PoW\",\"PoW/PoS\",\"PoW\",\"PoW\",\"PoW\",\"PoW\",\"PoW\",\"PoW/PoS\",\"PoW/nPoS\",\"PoW\",\"PoW\",\"PoW\",\"PoW/PoS\",\"PoW\",\"PoS/PoW\",\"PoW\",\"PoW\",\"PoS\",\"PoW\",\"PoW/PoS\",\"PoW\",\"PoW/PoS\",\"PoW/PoS\",\"PoW\",\"PoW\",\"PoW/PoS\",\"PoW\",\"PoW\",\"PoW/PoS\",\"PoW/PoS\",\"PoW\",\"PoW/PoS\",\"PoW\",\"PoW/PoS\",\"PoW/PoS\",\"PoS\",\"PoW\",\"PoW\",\"PoW\",\"PoW\",\"PoW/PoS\",\"PoS\",\"PoW/PoS\",\"PoC\",\"PoS\",\"PoW\",\"PoW\",\"PoW/PoS\",\"PoW/PoS\",\"PoW/PoS\",\"PoW/PoS\",\"PoW/PoS\",\"PoW\",\"PoS\",\"PoW/PoS\",\"PoW/PoS\",\"PoW/PoS\",\"PoS\",\"PoW\",\"PoS\",\"dPoW/PoW\",\"PoW/PoS\",\"PoW/PoS\",\"PoW\",\"PoW/PoS\",\"PoW\",\"PoW/PoS\",\"PoW/PoS\",\"PoW\",\"PoW/PoS\",\"PoW\",\"PoS\",\"PoW\",\"PoW/PoW\",\"PoW\",\"PoW/PoS\",\"PoS\",\"PoW/PoS\",\"PoW/PoS\",\"PoW\",\"PoS\",\"PoS\",\"PoW/PoS\",\"PoS\",\"PoW/PoS\",\"PoW\"],\"TotalCoinSupply\":{\"__ndarray__\":\"AAAAAAAARUAAAAAArbW/QQDAk31WSVJCAAAAAPQGdEEAAAAAAAAAAAAAAAD0BpRBAAAAABj7dEEAAAAAAAAAAAAAAACxCKlBAAAAAPQGdEEAAMAQi9PqQQAAAEjKjhNCAAAAABj7dEEAAAAAhNdnQQAAAAD0BnRBAAAAgJPctEEAAAAA0BJzQQAAAACAhI5BAAAAAMn7b0EAAAAAAAAAAAAAAABlzd1BAAAAwAtaVkIAAAAIwD2kQQAAAABlza1BAAAAAITXl0EAAAAAAAAAAAAAAIDXca1BAAAAAPQGlEEAAACAo/eGQQAAAACAhB5BAAAAAPQGdEEAAAAAgIQuQQAAAAAEEGlBAAAAAIgqcUEAAAAgX6AiQgAAAABYtVBBAAAABgrWDkIAAABIyo4TQgAAADhNJQlCAAAAAPQGdEEAAABKeN6xQQAAAACAhH5BAAAAAAAAAAAAAAAAAAAAAAAAAKA8bmVBAAAAAPQGtEEAAIATMivVQQAAAAB2sJBBAAAAEIc5kUEAAAAAOJycQQAAAAAAAAAAAAAASi4YNUIAAAAAGPt0QQAAAAD0BnRBAAAAAACkr0EAAAAA0BJzQQAAAABwmTRBAAAAAITXl0EAAAAA9AaEQQAAAACE16dBAAAAAAAAAAAAAAAA0BJjQQAAAABCBuJBAAAAAGTcbkEAAAAAAAAAAAAAALCO8AtCAAAAAPQGdEEAAABANha0QQAAAAAAAAAAAAAAAEjDTEEAAAAAsQi5QQAAAAByXZdBAAAAAAAAAAAAAAAA9AZ0QQAAAABlza1BAAAAAABqiEEAAAAAAAAAAAAAAAAAQI9AAAAAAOd2ykEAAAAAhNeXQQAAAADEaoZBAAAA4OYi4UEAAAAA0BJjQQAAAAD0BoRBAAAAANASk0EAAAAAgIQOQQAAAAAAAAAAAAAAAITX10EAAAAAhNeXQQAAAAA873VBAAAAAAAAAAAAAAAA9AaUQQAAAAAApK9BAAAAABj7VEEAAAAAAAAAAAAAAAAqdYVBAAAAAAAAAAAAAAAAZc3NQQCAL+KOeUVCAAAAIF+gAkIAAADQmxXgQQAAAABlzb1BAAAAAAQQmUEAAAAAZDaQQQAAAAAAAAAAAAAAALEI2UEAAAAAAAAAAAAAAKCy1aNBAAAAAGDjZkEAAAAA0AxEQQAAAABlzb1BAAAAANASo0EAAAAAAAAAAAAAAADQEmNBAAAAAGXNzUEAAAAAZc3NQQAAAADQEnNBAAAAAAAAAAAAAAAAAAAAAAAAAICkuElBAAAAANASc0EAAAAgX6ACQgAAAAALa9tBAAAAAKznIkEAAAAA9AZ0QQAAAJigazVCAAAAAAAAAAAAAAAAvpiSQQAAAACkeH9BAAAAYOVej0EAAAAAgKKJQQAAAABoTVNBAAAAAPQGdEEAAAAAAAAAAAAAAAAEEKlBAAAAAGXNrUEAAAAAhNeXQQAAANCJH3BBAAAAAITXh0EAAAAAAAAAAAAAAABlzc1BAAAAAGkUeUEAAAAAgIRuQQAAAAD0BnRBAAAAAPQGdEEAAAAAsQipQQAAANCRipNBAAAAABj7dEEAAABmA7oYQgAAAAD0BpRBAAAAAPQGZEEAAABhGyQUQgAAAAAAAAAAAAAAAPQGhEEAAACw/VmqQQAAAAD0BpRBAAAAADicfEEAAACIrBGkQQAAAABg43ZBAAAAAGDjtkEAAAAe3Aw3QgAAAADQEoNBAADA////30EAAAAA0BJzQQAAAADQEnNBAAAAAITXd0EAAAAAo+GRQQAAABAHjapBAAAAQN1Kv0EAAAAAKnWVQQAAAIDxkaBBAAAAAADQIkEAAAAAtvJ/QQAAAABlzd1BAAAAqMgjhUEAAAAAhNeXQQAAAACE16dBAAAAAITXd0EAAAAgg5TDQQAAAACE16dBAAAAAITXh0EAAAAAKnWVQQAAAADQEmNBAAAAAPQGdEEAAAAA6JFiQQAAAABg40ZBAAAAAPQGdEEAAAAAo+HRQQAAAAAAAAAAAAAAAITXp0EAAAAAAAAAAAAAAEB7SmRBAAAA4McY50EAAAAAOJx8QQAAACBfoBJCAAAAAJqkkUEAAAAAAAAAAAAAAMALWtZBAAAAAJxodEEAAADQzBKDQQAAAAAOE0NBAAAAAITXl0EAAABA5fCxQQAAAIhH9vtBAAAAMNb9eEE=\",\"dtype\":\"float64\",\"order\":\"little\",\"shape\":[205]},\"TotalCoinsMined\":{\"__ndarray__\":\"E66yfP7/REC4HgUDbHLPQcQCukHCRBtCAAAAcMAYcUHb+b76hayZQfdoZlo4D45BczEFzM85YUFmkFFyf2dwQQAAAFztBptBAAAAEAQqXEEAAAA6IW3kQQAAKLzoPgVCAAAAAJ6qM0Epu0/cGOFmQQAAAIAdAVZBuzNpefhbeEFogey/NERlQRASPW7cR2dB+ijjv4NLcUEAAABO5u/CQQAAgMotKNlBAAAAAAAAVkCRe4LLOUqkQWlwu1zuvZ5B7FG4slgRXEES3YNEKFedQbxc1FkO8a5BjF0hSWmgh0FQLIHFyuR/Qc7ixUJvyuRAZlhcKb2KW0HCR4pNGbYvQdDqKuGh8VFBQQ4rjd4PU0GutucKX6AiQqBfqd8TNklB/fZoycqrDUIAAHBTCXwRQnSTloARWwdCS2bm7Bjxc0He//+wcBeqQbTI9iT1l3JBAAAAQJaqVUHBNFQR94a7QaQ8LSbMbzFBMPUDShPgqEEAAAA1WFnKQQFaxIOwUI9BD/H/v0jdg0EMI73Wa0iVQftcscYLA9lBo6E6fO0XNUJq65YfTtVwQW3n+0/EHHRBmpmZw9ANokHNzEzyVm5yQeu2uDrY2TBBAAAAaLVMjUFC3vH/OTGCQTMzM4eHR4NB0/wVEd7UE0K3KNQ4KyRWQdb//9BLDNhBAAAAAGTcbkFGZKnBRYOPQWh5ONDpoOFBAAAAAIIbbEHurnvnQfOzQWC5lIqR6GxBEqW9I0SSSEECRgfUkYuqQQAAgKodopFB7loEOWBNG0KzdfRrHdkwQZqZmdvoF3dBqQYrknhoeEEnrP5t5i2IQQAAAAAAZJJASWWmrurJwEEmvO6+tSKTQQAAAACNwoRBsaedNq8s2EHonwEAK9k1QQAAAEB233VBAAAAAINhQUF75AdVfoYIQQAAAAAObDJBZmYm5Ctg0EHqsCJZOvSHQfL/r8ISFHZBBWSeRqeJfkHHd4jeymaIQQAAAHQ6hJxBqj02xuuDWkEAAAAAhNeXQWWO5dqisIJBhvyY1oWPf0HN5/S7TaShQQAAB3WebUVCcSCmnaK6+UEAAADwLATbQQAAAMC4ZohBcBN8y0VCkEEAAADwmKeCQQAAADhjXYlBAAAAZOS8uEGF80Sm1ux5QeDz06y0ZKBBm6kQ40DcPkGTMePy+TQGQRqL3sPG0aRB26a4ke4mokEAAAAAwWU2QQAAAICAEltBAAAAUZSex0EAAABPt3DFQQAAAACKhURBAAAAsGYMj0EAAABAGUhYQclLLY4xV2NBAAAAQF4iZkFxPQ5ywyzxQQAAAMx5HcVBAAAAAKznIkEAAACAQ8VnQQAAAABQifVAAAAAAOgYN0EAAAAgqFqOQbTMIm2Yun5BAAAAQFI2akFuowEAyCBsQb/Mf8ucV2BBAAAAsANCbkFIisgQwBcUQQAAAECDDn9BAAAAkCQHkkEAAAAAhNeXQQAAAMClBGRBAAAAwKL5dUEAAEizP9MeQnMvcJZSiIRBdN9gjbfOaUEAAADg5UNuQXci101WBnRBZImz3Q7FY0EAAAAAsQipQQAAAKBO1mVB0TYn7F3/S0EAAJj8c3sEQgAAABB1ppBBAAAAgM2QU0EAAGSVNj8UQs9mP8p8wQJCZta35+opYUEAAACQC02DQQAAAKChgoVBAAAAAGjAVUEVe6IeXWwjQQAAALCvdnBBh9M4uazZY0FWnZ2VUDchQsSzAmd+slBBAADA////30EAAAAA0BJzQfWeCOrNEFlBACv2TwgLakHGaE16SgqgQQAAAAAFPjJBAAAAgCTIb0EAAACMaOWTQWZvBMgIQndBAAAAAADQIkH8k1OFq2aCQZ+vSflmO8hBAAAAAD1EUUEAAAAAhNeXQQAAAADQElNBAAAAAH0GNUEAAAAgg5TDQQAAAEzcoZtBAAAAIIyvbUEAAADgOZWEQSqHXC4Y111BAAAAAMorIkEAAAAAgNFXQXUZ5bDIESRBAAAAAOmyQ0EAAAAAZc3NQQAAAACxmT1BAAAAsKrbm0EAAAAwvTekQQAAAECjXmFBAACA3BLTw0EAAAAATDVlQQAA7E21OxJCKwwuO6qmkUEAAADQUPh/Qd7Fk3RYja9BUc34T+beXEEAAAAgerqhQQAAAAAOE0NBAAAAAITXl0F4eqWiQ/5wQW1b4nIfINBBAAAAMNb9eEE=\",\"dtype\":\"float64\",\"order\":\"little\",\"shape\":[205]},\"class\":{\"__ndarray__\":\"AAAAAAAAAAACAAAAAgAAAAIAAAACAAAAAAAAAAIAAAAAAAAAAAAAAAIAAAAAAAAAAgAAAAAAAAACAAAAAgAAAAIAAAACAAAAAgAAAAAAAAACAAAAAgAAAAIAAAACAAAAAgAAAAAAAAAAAAAAAgAAAAAAAAACAAAAAgAAAAAAAAAAAAAAAgAAAAIAAAAAAAAAAAAAAAIAAAAAAAAAAAAAAAIAAAACAAAAAgAAAAAAAAACAAAAAgAAAAIAAAAAAAAAAAAAAAIAAAAAAAAAAAAAAAAAAAACAAAAAAAAAAIAAAACAAAAAgAAAAIAAAAAAAAAAAAAAAIAAAACAAAAAgAAAAAAAAAAAAAAAgAAAAAAAAAAAAAAAgAAAAIAAAAAAAAAAgAAAAIAAAAAAAAAAAAAAAAAAAAAAAAAAAAAAAIAAAAAAAAAAAAAAAIAAAAAAAAAAAAAAAIAAAAAAAAAAgAAAAAAAAACAAAAAAAAAAAAAAAAAAAAAAAAAAAAAAAAAAAAAgAAAAIAAAAAAAAAAAAAAAAAAAACAAAAAAAAAAAAAAACAAAAAAAAAAAAAAAAAAAAAAAAAAAAAAACAAAAAgAAAAAAAAAAAAAAAAAAAAAAAAACAAAAAAAAAAIAAAACAAAAAAAAAAAAAAAAAAAAAAAAAAIAAAAAAAAAAAAAAAAAAAACAAAAAgAAAAAAAAAAAAAAAgAAAAIAAAAAAAAAAgAAAAAAAAACAAAAAAAAAAAAAAACAAAAAgAAAAAAAAAAAAAAAAAAAAIAAAACAAAAAgAAAAAAAAAAAAAAAAAAAAAAAAACAAAAAAAAAAAAAAACAAAAAAAAAAIAAAAAAAAAAAAAAAAAAAACAAAAAAAAAAIAAAACAAAAAAAAAAIAAAAAAAAAAgAAAAAAAAAAAAAAAgAAAAIAAAAAAAAAAAAAAAIAAAAAAAAAAAAAAAIAAAACAAAAAgAAAAAAAAAAAAAAAgAAAAAAAAACAAAAAgAAAAIAAAACAAAAAAAAAAIAAAACAAAAAAAAAAAAAAAAAAAAAgAAAAIAAAACAAAAAgAAAAIAAAACAAAAAAAAAAMAAAABAAAAAAAAAA==\",\"dtype\":\"int32\",\"order\":\"little\",\"shape\":[205]}},\"selected\":{\"id\":\"1900\"},\"selection_policy\":{\"id\":\"1933\"}},\"id\":\"1899\",\"type\":\"ColumnDataSource\"},{\"attributes\":{\"format\":\"0,0.0[00000]\"},\"id\":\"1921\",\"type\":\"NumberFormatter\"},{\"attributes\":{},\"id\":\"1906\",\"type\":\"StringFormatter\"},{\"attributes\":{},\"id\":\"1933\",\"type\":\"UnionRenderers\"},{\"attributes\":{\"format\":\"0,0.0[00000]\"},\"id\":\"1916\",\"type\":\"NumberFormatter\"},{\"attributes\":{},\"id\":\"1917\",\"type\":\"NumberEditor\"},{\"attributes\":{\"editor\":{\"id\":\"1902\"},\"field\":\"CoinName\",\"formatter\":{\"id\":\"1901\"},\"title\":\"CoinName\"},\"id\":\"1903\",\"type\":\"TableColumn\"},{\"attributes\":{\"children\":[{\"id\":\"1898\"},{\"id\":\"1931\"},{\"id\":\"1937\"}],\"margin\":[0,0,0,0],\"name\":\"Row03565\",\"tags\":[\"embedded\"]},\"id\":\"1897\",\"type\":\"Row\"},{\"attributes\":{\"source\":{\"id\":\"1899\"}},\"id\":\"1932\",\"type\":\"CDSView\"},{\"attributes\":{\"editor\":{\"id\":\"1912\"},\"field\":\"ProofType\",\"formatter\":{\"id\":\"1911\"},\"title\":\"ProofType\"},\"id\":\"1913\",\"type\":\"TableColumn\"},{\"attributes\":{},\"id\":\"1927\",\"type\":\"IntEditor\"},{\"attributes\":{},\"id\":\"1900\",\"type\":\"Selection\"}],\"root_ids\":[\"1897\"]},\"title\":\"Bokeh Application\",\"version\":\"2.1.1\"}};\n",
       "  var render_items = [{\"docid\":\"2282b9ea-530c-4a08-b1f3-dc53382861a1\",\"root_ids\":[\"1897\"],\"roots\":{\"1897\":\"2b6471ef-464a-4359-a9e3-ae57fbfcace2\"}}];\n",
       "  root.Bokeh.embed.embed_items_notebook(docs_json, render_items);\n",
       "  }\n",
       "if (root.Bokeh !== undefined) {\n",
       "    embed_document(root);\n",
       "  } else {\n",
       "    var attempts = 0;\n",
       "    var timer = setInterval(function(root) {\n",
       "      if (root.Bokeh !== undefined) {\n",
       "        clearInterval(timer);\n",
       "        embed_document(root);\n",
       "      } else if (document.readyState == \"complete\") {\n",
       "        attempts++;\n",
       "        if (attempts > 100) {\n",
       "          clearInterval(timer);\n",
       "          console.log(\"Bokeh: ERROR: Unable to run BokehJS code because BokehJS library is missing\");\n",
       "        }\n",
       "      }\n",
       "    }, 10, root)\n",
       "  }\n",
       "})(window);</script>"
      ],
      "text/plain": [
       ":Table   [CoinName,Algorithm,ProofType,TotalCoinSupply,TotalCoinsMined,class]"
      ]
     },
     "execution_count": 72,
     "metadata": {
      "application/vnd.holoviews_exec.v0+json": {
       "id": "1897"
      }
     },
     "output_type": "execute_result"
    }
   ],
   "source": [
    "# STEP 2 \n",
    "# Use hvplot.table to create a data table with all the current tradable cryptocurrencies.\n",
    "\n",
    "clustered_df.hvplot.table(columns=[\"CoinName\", \"Algorithm\", \"ProofType\", \"TotalCoinSupply\", \"TotalCoinsMined\", \"class\"], width=800)"
   ]
  },
  {
   "cell_type": "code",
   "execution_count": 73,
   "metadata": {
    "scrolled": true
   },
   "outputs": [
    {
     "data": {
      "application/vnd.holoviews_exec.v0+json": "",
      "text/html": [
       "<div id='1949'>\n",
       "\n",
       "\n",
       "\n",
       "\n",
       "\n",
       "  <div class=\"bk-root\" id=\"2e11db0a-0bf1-4538-9225-e2224d1bf7dc\" data-root-id=\"1949\"></div>\n",
       "</div>\n",
       "<script type=\"application/javascript\">(function(root) {\n",
       "  function embed_document(root) {\n",
       "  var docs_json = {\"55440a71-b025-4ea6-b843-c79794277aa7\":{\"roots\":{\"references\":[{\"attributes\":{\"data_source\":{\"id\":\"2009\"},\"glyph\":{\"id\":\"2012\"},\"hover_glyph\":null,\"muted_glyph\":{\"id\":\"2014\"},\"nonselection_glyph\":{\"id\":\"2013\"},\"selection_glyph\":null,\"view\":{\"id\":\"2016\"}},\"id\":\"2015\",\"type\":\"GlyphRenderer\"},{\"attributes\":{\"end\":422400000000.0,\"reset_end\":422400000000.0,\"reset_start\":-38400000000.0,\"start\":-38400000000.0,\"tags\":[[[\"TotalCoinSupply\",\"TotalCoinSupply\",null]]]},\"id\":\"1952\",\"type\":\"Range1d\"},{\"attributes\":{},\"id\":\"2069\",\"type\":\"UnionRenderers\"},{\"attributes\":{\"callback\":null,\"renderers\":[{\"id\":\"1997\"},{\"id\":\"2015\"},{\"id\":\"2034\"},{\"id\":\"2055\"}],\"tags\":[\"hv_created\"],\"tooltips\":[[\"class\",\"@{class}\"],[\"TotalCoinsMined\",\"@{TotalCoinsMined}\"],[\"TotalCoinSupply\",\"@{TotalCoinSupply}\"],[\"CoinName\",\"@{CoinName}\"]]},\"id\":\"1953\",\"type\":\"HoverTool\"},{\"attributes\":{\"fill_alpha\":{\"value\":0.2},\"fill_color\":{\"value\":\"#2ba02b\"},\"line_alpha\":{\"value\":0.2},\"line_color\":{\"value\":\"#2ba02b\"},\"size\":{\"units\":\"screen\",\"value\":5.477225575051661},\"x\":{\"field\":\"TotalCoinsMined\"},\"y\":{\"field\":\"TotalCoinSupply\"}},\"id\":\"2033\",\"type\":\"Scatter\"},{\"attributes\":{},\"id\":\"2050\",\"type\":\"Selection\"},{\"attributes\":{},\"id\":\"2005\",\"type\":\"UnionRenderers\"},{\"attributes\":{},\"id\":\"1988\",\"type\":\"BasicTickFormatter\"},{\"attributes\":{\"fill_alpha\":{\"value\":0.2},\"fill_color\":{\"value\":\"#1f77b3\"},\"line_alpha\":{\"value\":0.2},\"line_color\":{\"value\":\"#1f77b3\"},\"size\":{\"units\":\"screen\",\"value\":5.477225575051661},\"x\":{\"field\":\"TotalCoinsMined\"},\"y\":{\"field\":\"TotalCoinSupply\"}},\"id\":\"1996\",\"type\":\"Scatter\"},{\"attributes\":{},\"id\":\"2025\",\"type\":\"UnionRenderers\"},{\"attributes\":{\"fill_alpha\":{\"value\":0.1},\"fill_color\":{\"value\":\"#1f77b3\"},\"line_alpha\":{\"value\":0.1},\"line_color\":{\"value\":\"#1f77b3\"},\"size\":{\"units\":\"screen\",\"value\":5.477225575051661},\"x\":{\"field\":\"TotalCoinsMined\"},\"y\":{\"field\":\"TotalCoinSupply\"}},\"id\":\"1995\",\"type\":\"Scatter\"},{\"attributes\":{\"source\":{\"id\":\"2009\"}},\"id\":\"2016\",\"type\":\"CDSView\"},{\"attributes\":{},\"id\":\"1971\",\"type\":\"BasicTicker\"},{\"attributes\":{\"data\":{\"CoinName\":[\"42 Coin\",\"404Coin\",\"Dash\",\"Ethereum Classic\",\"ZCash\",\"DigiByte\",\"PayCoin\",\"BlueCoin\",\"EnergyCoin\",\"QuarkCoin\",\"Digitalcoin \",\"CryptoBullion\",\"CannaCoin\",\"Diamond\",\"Verge\",\"EarthCoin\",\"E-Gulden\",\"FlutterCoin\",\"GlobalCoin\",\"GoldCoin\",\"HyperStake\",\"Infinite Coin\",\"IOCoin\",\"KrugerCoin\",\"MediterraneanCoin\",\"MintCoin\",\"NavCoin\",\"NobleCoin\",\"NyanCoin\",\"OpalCoin\",\"PhoenixCoin\",\"StableCoin\",\"SmartCoin\",\"SuperCoin\",\"SyncCoin\",\"SysCoin\",\"TigerCoin\",\"TittieCoin\",\"TerraCoin\",\"UnbreakableCoin\",\"UroCoin\",\"UltraCoin\",\"VeriCoin\",\"Vertcoin\",\"WorldCoin\",\"X11 Coin\",\"Crypti\",\"JouleCoin\",\"ByteCoin\",\"DigitalNote \",\"BurstCoin\",\"MonaCoin\",\"Neutron\",\"Gulden\",\"RubyCoin\",\"PesetaCoin\",\"Kore\",\"Wild Beast Coin\",\"8BIT Coin\",\"Sativa Coin\",\"ArtByte\",\"Folding Coin\",\"Unitus\",\"Vtorrent\",\"GreenCoin\",\"Cryptonite\",\"MasterCoin\",\"1Credit\",\"IslaCoin\",\"Nexus\",\"Anarchists Prime\",\"Droidz\",\"Song Coin\",\"Diggits\",\"Paycon\",\"Siacoin\",\"MindCoin\",\"I0coin\",\"Decred\",\"Hitcoin\",\"Gamecredits\",\"DubaiCoin\",\"CarpeDiemCoin\",\"BillaryCoin\",\"GPU Coin\",\"SoilCoin\",\"SibCoin\",\"EuropeCoin\",\"ZeitCoin\",\"SafeExchangeCoin\",\"BolivarCoin\",\"Revenu\",\"VIP Tokens\",\"BitSend\",\"PutinCoin\",\"iBankCoin\",\"MudraCoin\",\"PizzaCoin\",\"CarterCoin\",\"Karbo\",\"ZayedCoin\",\"DopeCoin\",\"Swiscoin\",\"Shilling\",\"BuzzCoin\",\"GanjaCoin V2\",\"Elementrem\"],\"TotalCoinSupply\":{\"__ndarray__\":\"AAAAAAAARUAAAAAArbW/QQAAAAAY+3RBAAAAALEIqUEAAAAA9AZ0QQAAAEjKjhNCAAAAAITXZ0EAAAAAAAAAAAAAAAAAAAAAAAAAgNdxrUEAAACAo/eGQQAAAACAhC5BAAAAAAQQaUEAAAAAWLVQQQAAAAYK1g5CAAAAOE0lCUIAAAAA9AZ0QQAAAAAAAAAAAAAAAHawkEEAAAAQhzmRQQAAAAAAAAAAAAAASi4YNUIAAAAAGPt0QQAAAAAApK9BAAAAAITXp0EAAAAAAAAAAAAAAAAAAAAAAAAAsI7wC0IAAABANha0QQAAAAAAAAAAAAAAAHJdl0EAAAAAZc2tQQAAAAAAaohBAAAAAAAAAAAAAAAAAECPQAAAAADndspBAAAAAMRqhkEAAADg5iLhQQAAAAD0BoRBAAAAANASk0EAAAAAAAAAAAAAAACE15dBAAAAAAAAAAAAAAAA9AaUQQAAAAAApK9BAAAAABj7VEEAAAAAAAAAAAAAAAAqdYVBAIAv4o55RUIAAAAgX6ACQgAAANCbFeBBAAAAAAQQmUEAAAAAZDaQQQAAAACxCNlBAAAAAAAAAAAAAACgstWjQQAAAABg42ZBAAAAANAMREEAAAAAAAAAAAAAAADQEmNBAAAAAGXNzUEAAAAAZc3NQQAAAAAAAAAAAAAAANASc0EAAAAgX6ACQgAAAAALa9tBAAAAAKznIkEAAACYoGs1QgAAAAAAAAAAAAAAAL6YkkEAAAAAgKKJQQAAAABoTVNBAAAAAAQQqUEAAAAAhNeXQQAAAACE14dBAAAAAAAAAAAAAAAAgIRuQQAAAAD0BnRBAAAAAPQGdEEAAABmA7oYQgAAAAD0BpRBAAAAAPQGZEEAAABhGyQUQgAAAAD0BoRBAAAAsP1ZqkEAAAAAOJx8QQAAAABg43ZBAAAAAGDjtkEAAAAe3Aw3QgAAwP///99BAAAAAITXd0EAAAAQB42qQQAAAAAqdZVBAAAAgPGRoEEAAAAAZc3dQQAAAKjII4VBAAAAAITXp0EAAAAAhNd3QQAAAAAqdZVBAAAAANASY0EAAAAA6JFiQQAAAACE16dBAAAA4McY50EAAAAAOJx8QQAAACBfoBJCAAAAAITXl0EAAAAw1v14QQ==\",\"dtype\":\"float64\",\"order\":\"little\",\"shape\":[107]},\"TotalCoinsMined\":{\"__ndarray__\":\"E66yfP7/REC4HgUDbHLPQXMxBczPOWFBAAAAXO0Gm0EAAAAQBCpcQQAAKLzoPgVCKbtP3BjhZkEAAABO5u/CQRLdg0QoV51BvFzUWQ7xrkFQLIHFyuR/QcJHik0Zti9B0Ooq4aHxUUGgX6nfEzZJQf32aMnKqw1CdJOWgBFbB0JLZubsGPFzQcE0VBH3hrtBAVrEg7BQj0EP8f+/SN2DQftcscYLA9lBo6E6fO0XNUJq65YfTtVwQZqZmcPQDaJBMzMzh4dHg0HT/BUR3tQTQkZkqcFFg49BaHk40Omg4UHurnvnQfOzQWC5lIqR6GxBAACAqh2ikUGamZnb6Bd3QakGK5J4aHhBJ6z+beYtiEEAAAAAAGSSQEllpq7qycBBAAAAAI3ChEGxp502ryzYQQAAAEB233VBAAAAAINhQUEAAAAADmwyQeqwIlk69IdBBWSeRqeJfkHHd4jeymaIQQAAAHQ6hJxBqj02xuuDWkEAAAAAhNeXQWWO5dqisIJBAAAHdZ5tRUJxIKadorr5QQAAAPAsBNtBcBN8y0VCkEEAAADwmKeCQQAAAGTkvLhBhfNEptbseUHg89OstGSgQZupEONA3D5BkzHj8vk0BkEAAAAAwWU2QQAAAICAEltBAAAAUZSex0EAAABPt3DFQQAAALBmDI9BAAAAQF4iZkFxPQ5ywyzxQQAAAMx5HcVBAAAAAKznIkEAAAAAUIn1QAAAAADoGDdBAAAAIKhajkFuowEAyCBsQb/Mf8ucV2BBAAAAQIMOf0EAAAAAhNeXQQAAAMCi+XVBAABIsz/THkIAAADg5UNuQXci101WBnRBZImz3Q7FY0EAAJj8c3sEQgAAABB1ppBBAAAAgM2QU0EAAGSVNj8UQmbWt+fqKWFBAAAAkAtNg0EAAAAAaMBVQQAAALCvdnBBh9M4uazZY0FWnZ2VUDchQgAAwP///99BACv2TwgLakEAAAAABT4yQQAAAIxo5ZNBZm8EyAhCd0Gfr0n5ZjvIQQAAAAA9RFFBAAAAANASU0EAAAAAfQY1QQAAAOA5lYRBKodcLhjXXUEAAAAAgNFXQQAAALCq25tBAACA3BLTw0EAAAAATDVlQQAA7E21OxJCAAAAAITXl0EAAAAw1v14QQ==\",\"dtype\":\"float64\",\"order\":\"little\",\"shape\":[107]},\"class\":[0,0,0,0,0,0,0,0,0,0,0,0,0,0,0,0,0,0,0,0,0,0,0,0,0,0,0,0,0,0,0,0,0,0,0,0,0,0,0,0,0,0,0,0,0,0,0,0,0,0,0,0,0,0,0,0,0,0,0,0,0,0,0,0,0,0,0,0,0,0,0,0,0,0,0,0,0,0,0,0,0,0,0,0,0,0,0,0,0,0,0,0,0,0,0,0,0,0,0,0,0,0,0,0,0,0,0]},\"selected\":{\"id\":\"1992\"},\"selection_policy\":{\"id\":\"2005\"}},\"id\":\"1991\",\"type\":\"ColumnDataSource\"},{\"attributes\":{\"data_source\":{\"id\":\"1991\"},\"glyph\":{\"id\":\"1994\"},\"hover_glyph\":null,\"muted_glyph\":{\"id\":\"1996\"},\"nonselection_glyph\":{\"id\":\"1995\"},\"selection_glyph\":null,\"view\":{\"id\":\"1998\"}},\"id\":\"1997\",\"type\":\"GlyphRenderer\"},{\"attributes\":{\"label\":{\"value\":\"1\"},\"renderers\":[{\"id\":\"2015\"}]},\"id\":\"2027\",\"type\":\"LegendItem\"},{\"attributes\":{\"fill_color\":{\"value\":\"#1f77b3\"},\"line_color\":{\"value\":\"#1f77b3\"},\"size\":{\"units\":\"screen\",\"value\":5.477225575051661},\"x\":{\"field\":\"TotalCoinsMined\"},\"y\":{\"field\":\"TotalCoinSupply\"}},\"id\":\"1994\",\"type\":\"Scatter\"},{\"attributes\":{\"axis_label\":\"TotalCoinSupply\",\"bounds\":\"auto\",\"formatter\":{\"id\":\"1990\"},\"major_label_orientation\":\"horizontal\",\"ticker\":{\"id\":\"1971\"}},\"id\":\"1970\",\"type\":\"LinearAxis\"},{\"attributes\":{\"label\":{\"value\":\"3\"},\"renderers\":[{\"id\":\"2055\"}]},\"id\":\"2071\",\"type\":\"LegendItem\"},{\"attributes\":{\"axis\":{\"id\":\"1970\"},\"dimension\":1,\"grid_line_color\":null,\"ticker\":null},\"id\":\"1973\",\"type\":\"Grid\"},{\"attributes\":{\"click_policy\":\"mute\",\"items\":[{\"id\":\"2008\"},{\"id\":\"2027\"},{\"id\":\"2048\"},{\"id\":\"2071\"}],\"location\":[0,0],\"title\":\"class\"},\"id\":\"2007\",\"type\":\"Legend\"},{\"attributes\":{},\"id\":\"1967\",\"type\":\"BasicTicker\"},{\"attributes\":{\"children\":[{\"id\":\"1950\"},{\"id\":\"1957\"},{\"id\":\"2198\"}],\"margin\":[0,0,0,0],\"name\":\"Row03761\",\"tags\":[\"embedded\"]},\"id\":\"1949\",\"type\":\"Row\"},{\"attributes\":{\"fill_alpha\":{\"value\":0.2},\"fill_color\":{\"value\":\"#d62628\"},\"line_alpha\":{\"value\":0.2},\"line_color\":{\"value\":\"#d62628\"},\"size\":{\"units\":\"screen\",\"value\":5.477225575051661},\"x\":{\"field\":\"TotalCoinsMined\"},\"y\":{\"field\":\"TotalCoinSupply\"}},\"id\":\"2054\",\"type\":\"Scatter\"},{\"attributes\":{},\"id\":\"2029\",\"type\":\"Selection\"},{\"attributes\":{\"axis\":{\"id\":\"1966\"},\"grid_line_color\":null,\"ticker\":null},\"id\":\"1969\",\"type\":\"Grid\"},{\"attributes\":{\"fill_color\":{\"value\":\"#2ba02b\"},\"line_color\":{\"value\":\"#2ba02b\"},\"size\":{\"units\":\"screen\",\"value\":5.477225575051661},\"x\":{\"field\":\"TotalCoinsMined\"},\"y\":{\"field\":\"TotalCoinSupply\"}},\"id\":\"2031\",\"type\":\"Scatter\"},{\"attributes\":{\"margin\":[5,5,5,5],\"name\":\"HSpacer03765\",\"sizing_mode\":\"stretch_width\"},\"id\":\"1950\",\"type\":\"Spacer\"},{\"attributes\":{\"end\":191955407189.94287,\"reset_end\":191955407189.94287,\"reset_start\":-7888578333.942905,\"start\":-7888578333.942905,\"tags\":[[[\"TotalCoinsMined\",\"TotalCoinsMined\",null]]]},\"id\":\"1951\",\"type\":\"Range1d\"},{\"attributes\":{\"label\":{\"value\":\"2\"},\"renderers\":[{\"id\":\"2034\"}]},\"id\":\"2048\",\"type\":\"LegendItem\"},{\"attributes\":{},\"id\":\"1992\",\"type\":\"Selection\"},{\"attributes\":{\"data\":{\"CoinName\":[\"TeamUP\"],\"TotalCoinSupply\":{\"__ndarray__\":\"AAAAQOXwsUE=\",\"dtype\":\"float64\",\"order\":\"little\",\"shape\":[1]},\"TotalCoinsMined\":{\"__ndarray__\":\"eHqlokP+cEE=\",\"dtype\":\"float64\",\"order\":\"little\",\"shape\":[1]},\"class\":[3]},\"selected\":{\"id\":\"2050\"},\"selection_policy\":{\"id\":\"2069\"}},\"id\":\"2049\",\"type\":\"ColumnDataSource\"},{\"attributes\":{},\"id\":\"1975\",\"type\":\"PanTool\"},{\"attributes\":{\"axis_label\":\"TotalCoinsMined\",\"bounds\":\"auto\",\"formatter\":{\"id\":\"1988\"},\"major_label_orientation\":\"horizontal\",\"ticker\":{\"id\":\"1967\"}},\"id\":\"1966\",\"type\":\"LinearAxis\"},{\"attributes\":{\"source\":{\"id\":\"1991\"}},\"id\":\"1998\",\"type\":\"CDSView\"},{\"attributes\":{\"source\":{\"id\":\"2049\"}},\"id\":\"2056\",\"type\":\"CDSView\"},{\"attributes\":{\"label\":{\"value\":\"0\"},\"renderers\":[{\"id\":\"1997\"}]},\"id\":\"2008\",\"type\":\"LegendItem\"},{\"attributes\":{\"data_source\":{\"id\":\"2049\"},\"glyph\":{\"id\":\"2052\"},\"hover_glyph\":null,\"muted_glyph\":{\"id\":\"2054\"},\"nonselection_glyph\":{\"id\":\"2053\"},\"selection_glyph\":null,\"view\":{\"id\":\"2056\"}},\"id\":\"2055\",\"type\":\"GlyphRenderer\"},{\"attributes\":{},\"id\":\"2010\",\"type\":\"Selection\"},{\"attributes\":{},\"id\":\"1990\",\"type\":\"BasicTickFormatter\"},{\"attributes\":{},\"id\":\"1976\",\"type\":\"WheelZoomTool\"},{\"attributes\":{\"fill_color\":{\"value\":\"#ff7e0e\"},\"line_color\":{\"value\":\"#ff7e0e\"},\"size\":{\"units\":\"screen\",\"value\":5.477225575051661},\"x\":{\"field\":\"TotalCoinsMined\"},\"y\":{\"field\":\"TotalCoinSupply\"}},\"id\":\"2012\",\"type\":\"Scatter\"},{\"attributes\":{\"source\":{\"id\":\"2028\"}},\"id\":\"2035\",\"type\":\"CDSView\"},{\"attributes\":{},\"id\":\"1974\",\"type\":\"SaveTool\"},{\"attributes\":{\"data\":{\"CoinName\":[\"LanaCoin\"],\"TotalCoinSupply\":{\"__ndarray__\":\"AAAAiEf2+0E=\",\"dtype\":\"float64\",\"order\":\"little\",\"shape\":[1]},\"TotalCoinsMined\":{\"__ndarray__\":\"bVvich8g0EE=\",\"dtype\":\"float64\",\"order\":\"little\",\"shape\":[1]},\"class\":[1]},\"selected\":{\"id\":\"2010\"},\"selection_policy\":{\"id\":\"2025\"}},\"id\":\"2009\",\"type\":\"ColumnDataSource\"},{\"attributes\":{\"align\":null,\"below\":[{\"id\":\"1966\"}],\"center\":[{\"id\":\"1969\"},{\"id\":\"1973\"}],\"left\":[{\"id\":\"1970\"}],\"margin\":null,\"min_border_bottom\":10,\"min_border_left\":10,\"min_border_right\":10,\"min_border_top\":10,\"plot_height\":300,\"plot_width\":700,\"renderers\":[{\"id\":\"1997\"},{\"id\":\"2015\"},{\"id\":\"2034\"},{\"id\":\"2055\"}],\"right\":[{\"id\":\"2007\"}],\"sizing_mode\":\"fixed\",\"title\":{\"id\":\"1958\"},\"toolbar\":{\"id\":\"1980\"},\"x_range\":{\"id\":\"1951\"},\"x_scale\":{\"id\":\"1962\"},\"y_range\":{\"id\":\"1952\"},\"y_scale\":{\"id\":\"1964\"}},\"id\":\"1957\",\"subtype\":\"Figure\",\"type\":\"Plot\"},{\"attributes\":{\"overlay\":{\"id\":\"1979\"}},\"id\":\"1977\",\"type\":\"BoxZoomTool\"},{\"attributes\":{\"fill_alpha\":{\"value\":0.2},\"fill_color\":{\"value\":\"#ff7e0e\"},\"line_alpha\":{\"value\":0.2},\"line_color\":{\"value\":\"#ff7e0e\"},\"size\":{\"units\":\"screen\",\"value\":5.477225575051661},\"x\":{\"field\":\"TotalCoinsMined\"},\"y\":{\"field\":\"TotalCoinSupply\"}},\"id\":\"2014\",\"type\":\"Scatter\"},{\"attributes\":{},\"id\":\"1964\",\"type\":\"LinearScale\"},{\"attributes\":{\"fill_alpha\":{\"value\":0.1},\"fill_color\":{\"value\":\"#d62628\"},\"line_alpha\":{\"value\":0.1},\"line_color\":{\"value\":\"#d62628\"},\"size\":{\"units\":\"screen\",\"value\":5.477225575051661},\"x\":{\"field\":\"TotalCoinsMined\"},\"y\":{\"field\":\"TotalCoinSupply\"}},\"id\":\"2053\",\"type\":\"Scatter\"},{\"attributes\":{\"fill_color\":{\"value\":\"#d62628\"},\"line_color\":{\"value\":\"#d62628\"},\"size\":{\"units\":\"screen\",\"value\":5.477225575051661},\"x\":{\"field\":\"TotalCoinsMined\"},\"y\":{\"field\":\"TotalCoinSupply\"}},\"id\":\"2052\",\"type\":\"Scatter\"},{\"attributes\":{\"data\":{\"CoinName\":[\"EliteCoin\",\"Bitcoin\",\"Ethereum\",\"Litecoin\",\"Monero\",\"Bitshares\",\"BitcoinDark\",\"ProsperCoin\",\"KoboCoin\",\"Spreadcoin\",\"Argentum\",\"Aurora Coin\",\"MyriadCoin\",\"MoonCoin\",\"ZetaCoin\",\"SexCoin\",\"Quatloo\",\"Riecoin\",\"BitBar\",\"Catcoin\",\"CryptCoin\",\"CasinoCoin\",\"DevCoin\",\"Einsteinium\",\"Emerald\",\"Exclusive Coin\",\"Franko\",\"FeatherCoin\",\"GrandCoin\",\"HoboNickels\",\"IXcoin\",\"LuckyCoin\",\"Litebar \",\"MaxCoin\",\"MegaCoin\",\"MinCoin\",\"MazaCoin\",\"Nautilus Coin\",\"Namecoin\",\"Orbitcoin\",\"PotCoin\",\"Reddcoin\",\"RonPaulCoin\",\"TeslaCoin\",\"TorCoin\",\"Unobtanium\",\"UnitaryStatus Dollar\",\"ViaCoin\",\"StealthCoin\",\"ZCC Coin\",\"StorjCoin\",\"FairCoin\",\"Dnotes\",\"Flo\",\"Ucoin\",\"CypherPunkCoin\",\"OmniCron\",\"SoonCoin\",\"MarsCoin \",\"Crypto\",\"BowsCoin\",\"Squall Coin\",\"BitZeny\",\"Expanse\",\"Emercoin\",\"EverGreenCoin\",\"Revolution VR\",\"HOdlcoin\",\"EDRCoin\",\"PWR Coin\",\"Adzcoin\",\"YoCoin\",\"SwingCoin\",\"Nebuchadnezzar\",\"Francs\",\"Ratecoin\",\"Clockcoin\",\"Omni\",\"Let it Ride\",\"Frankywillcoin\",\"Lutetium Coin\",\"Komodo\",\"GoldBlocks\",\"BitTokens\",\"MustangCoin\",\"ZoneCoin\",\"Circuits of Value\",\"RootCoin\",\"BitCurrency\",\"DollarCoin\",\"Opair\",\"PesoBit\",\"Halloween Coin\",\"ZCoin\",\"CoffeeCoin\",\"RoyalCoin\"],\"TotalCoinSupply\":{\"__ndarray__\":\"AMCTfVZJUkIAAAAA9AZ0QQAAAAAAAAAAAAAAAPQGlEEAAAAAAAAAAAAAwBCL0+pBAAAAABj7dEEAAAAA9AZ0QQAAAICT3LRBAAAAANASc0EAAAAAgISOQQAAAADJ+29BAAAAAGXN3UEAAADAC1pWQgAAAAjAPaRBAAAAAGXNrUEAAAAAhNeXQQAAAAD0BpRBAAAAAICEHkEAAAAA9AZ0QQAAAACIKnFBAAAAIF+gIkIAAABIyo4TQgAAAEp43rFBAAAAAICEfkEAAAAAAAAAAAAAAKA8bmVBAAAAAPQGtEEAAIATMivVQQAAAAA4nJxBAAAAAPQGdEEAAAAA0BJzQQAAAABwmTRBAAAAAITXl0EAAAAA9AaEQQAAAADQEmNBAAAAAEIG4kEAAAAAZNxuQQAAAAD0BnRBAAAAAEjDTEEAAAAAsQi5QQAAAAAAAAAAAAAAAPQGdEEAAAAAhNeXQQAAAADQEmNBAAAAAICEDkEAAAAAhNfXQQAAAAA873VBAAAAAAAAAAAAAAAAZc3NQQAAAABlzb1BAAAAAAAAAAAAAAAAZc29QQAAAADQEqNBAAAAANASc0EAAAAAAAAAAAAAAICkuElBAAAAAPQGdEEAAAAApHh/QQAAAGDlXo9BAAAAAPQGdEEAAAAAAAAAAAAAAABlza1BAAAA0IkfcEEAAAAAZc3NQQAAAABpFHlBAAAAALEIqUEAAADQkYqTQQAAAAAY+3RBAAAAAAAAAAAAAAAA9AaUQQAAAIisEaRBAAAAANASg0EAAAAA0BJzQQAAAADQEnNBAAAAAKPhkUEAAABA3Uq/QQAAAAAA0CJBAAAAALbyf0EAAAAAhNeXQQAAACCDlMNBAAAAAITXp0EAAAAAhNeHQQAAAAD0BnRBAAAAAGDjRkEAAAAA9AZ0QQAAAACj4dFBAAAAAAAAAAAAAAAAAAAAAAAAAEB7SmRBAAAAAJqkkUEAAAAAAAAAAAAAAMALWtZBAAAAAJxodEEAAADQzBKDQQAAAAAOE0NB\",\"dtype\":\"float64\",\"order\":\"little\",\"shape\":[96]},\"TotalCoinsMined\":{\"__ndarray__\":\"xAK6QcJEG0IAAABwwBhxQdv5vvqFrJlB92hmWjgPjkFmkFFyf2dwQQAAADohbeRBAAAAAJ6qM0EAAACAHQFWQbszaXn4W3hBaIHsvzREZUEQEj1u3EdnQfoo47+DS3FBAACAyi0o2UEAAAAAAABWQJF7gss5SqRBaXC7XO69nkHsUbiyWBFcQYxdIUlpoIdBzuLFQm/K5EBmWFwpvYpbQUEOK43eD1NBrrbnCl+gIkIAAHBTCXwRQt7//7BwF6pBtMj2JPWXckEAAABAlqpVQaQ8LSbMbzFBMPUDShPgqEEAAAA1WFnKQQwjvdZrSJVBbef7T8QcdEHNzEzyVm5yQeu2uDrY2TBBAAAAaLVMjUFC3vH/OTGCQbco1DgrJFZB1v//0EsM2EEAAAAAZNxuQQAAAACCG2xBEqW9I0SSSEECRgfUkYuqQe5aBDlgTRtCs3X0ax3ZMEEmvO6+tSKTQeifAQAr2TVBe+QHVX6GCEFmZibkK2DQQfL/r8ISFHZBhvyY1oWPf0HN5/S7TaShQQAAAMC4ZohBAAAAOGNdiUEai97DxtGkQdumuJHuJqJBAAAAAIqFREEAAABAGUhYQclLLY4xV2NBAAAAgEPFZ0G0zCJtmLp+QQAAAEBSNmpBAAAAsANCbkFIisgQwBcUQQAAAJAkB5JBAAAAwKUEZEFzL3CWUoiEQXTfYI23zmlBAAAAALEIqUEAAACgTtZlQdE2J+xd/0tBz2Y/ynzBAkIAAACgoYKFQRV7oh5dbCNBxLMCZ36yUEEAAAAA0BJzQfWeCOrNEFlBxmhNekoKoEEAAACAJMhvQQAAAAAA0CJB/JNThatmgkEAAAAAhNeXQQAAACCDlMNBAAAATNyhm0EAAAAgjK9tQQAAAADKKyJBdRnlsMgRJEEAAAAA6bJDQQAAAABlzc1BAAAAALGZPUEAAAAwvTekQQAAAECjXmFBKwwuO6qmkUEAAADQUPh/Qd7Fk3RYja9BUc34T+beXEEAAAAgerqhQQAAAAAOE0NB\",\"dtype\":\"float64\",\"order\":\"little\",\"shape\":[96]},\"class\":[2,2,2,2,2,2,2,2,2,2,2,2,2,2,2,2,2,2,2,2,2,2,2,2,2,2,2,2,2,2,2,2,2,2,2,2,2,2,2,2,2,2,2,2,2,2,2,2,2,2,2,2,2,2,2,2,2,2,2,2,2,2,2,2,2,2,2,2,2,2,2,2,2,2,2,2,2,2,2,2,2,2,2,2,2,2,2,2,2,2,2,2,2,2,2,2]},\"selected\":{\"id\":\"2029\"},\"selection_policy\":{\"id\":\"2046\"}},\"id\":\"2028\",\"type\":\"ColumnDataSource\"},{\"attributes\":{\"data_source\":{\"id\":\"2028\"},\"glyph\":{\"id\":\"2031\"},\"hover_glyph\":null,\"muted_glyph\":{\"id\":\"2033\"},\"nonselection_glyph\":{\"id\":\"2032\"},\"selection_glyph\":null,\"view\":{\"id\":\"2035\"}},\"id\":\"2034\",\"type\":\"GlyphRenderer\"},{\"attributes\":{},\"id\":\"1962\",\"type\":\"LinearScale\"},{\"attributes\":{},\"id\":\"1978\",\"type\":\"ResetTool\"},{\"attributes\":{\"bottom_units\":\"screen\",\"fill_alpha\":0.5,\"fill_color\":\"lightgrey\",\"left_units\":\"screen\",\"level\":\"overlay\",\"line_alpha\":1.0,\"line_color\":\"black\",\"line_dash\":[4,4],\"line_width\":2,\"right_units\":\"screen\",\"top_units\":\"screen\"},\"id\":\"1979\",\"type\":\"BoxAnnotation\"},{\"attributes\":{\"margin\":[5,5,5,5],\"name\":\"HSpacer03766\",\"sizing_mode\":\"stretch_width\"},\"id\":\"2198\",\"type\":\"Spacer\"},{\"attributes\":{},\"id\":\"2046\",\"type\":\"UnionRenderers\"},{\"attributes\":{\"fill_alpha\":{\"value\":0.1},\"fill_color\":{\"value\":\"#2ba02b\"},\"line_alpha\":{\"value\":0.1},\"line_color\":{\"value\":\"#2ba02b\"},\"size\":{\"units\":\"screen\",\"value\":5.477225575051661},\"x\":{\"field\":\"TotalCoinsMined\"},\"y\":{\"field\":\"TotalCoinSupply\"}},\"id\":\"2032\",\"type\":\"Scatter\"},{\"attributes\":{\"text\":\"\",\"text_color\":{\"value\":\"black\"},\"text_font_size\":{\"value\":\"12pt\"}},\"id\":\"1958\",\"type\":\"Title\"},{\"attributes\":{\"active_drag\":\"auto\",\"active_inspect\":\"auto\",\"active_multi\":null,\"active_scroll\":\"auto\",\"active_tap\":\"auto\",\"tools\":[{\"id\":\"1953\"},{\"id\":\"1974\"},{\"id\":\"1975\"},{\"id\":\"1976\"},{\"id\":\"1977\"},{\"id\":\"1978\"}]},\"id\":\"1980\",\"type\":\"Toolbar\"},{\"attributes\":{\"fill_alpha\":{\"value\":0.1},\"fill_color\":{\"value\":\"#ff7e0e\"},\"line_alpha\":{\"value\":0.1},\"line_color\":{\"value\":\"#ff7e0e\"},\"size\":{\"units\":\"screen\",\"value\":5.477225575051661},\"x\":{\"field\":\"TotalCoinsMined\"},\"y\":{\"field\":\"TotalCoinSupply\"}},\"id\":\"2013\",\"type\":\"Scatter\"}],\"root_ids\":[\"1949\"]},\"title\":\"Bokeh Application\",\"version\":\"2.1.1\"}};\n",
       "  var render_items = [{\"docid\":\"55440a71-b025-4ea6-b843-c79794277aa7\",\"root_ids\":[\"1949\"],\"roots\":{\"1949\":\"2e11db0a-0bf1-4538-9225-e2224d1bf7dc\"}}];\n",
       "  root.Bokeh.embed.embed_items_notebook(docs_json, render_items);\n",
       "  }\n",
       "if (root.Bokeh !== undefined) {\n",
       "    embed_document(root);\n",
       "  } else {\n",
       "    var attempts = 0;\n",
       "    var timer = setInterval(function(root) {\n",
       "      if (root.Bokeh !== undefined) {\n",
       "        clearInterval(timer);\n",
       "        embed_document(root);\n",
       "      } else if (document.readyState == \"complete\") {\n",
       "        attempts++;\n",
       "        if (attempts > 100) {\n",
       "          clearInterval(timer);\n",
       "          console.log(\"Bokeh: ERROR: Unable to run BokehJS code because BokehJS library is missing\");\n",
       "        }\n",
       "      }\n",
       "    }, 10, root)\n",
       "  }\n",
       "})(window);</script>"
      ],
      "text/plain": [
       ":NdOverlay   [class]\n",
       "   :Scatter   [TotalCoinsMined]   (TotalCoinSupply,CoinName)"
      ]
     },
     "execution_count": 73,
     "metadata": {
      "application/vnd.holoviews_exec.v0+json": {
       "id": "1949"
      }
     },
     "output_type": "execute_result"
    }
   ],
   "source": [
    "# STEP 3\n",
    "# Create a scatter plot using hvplot.scatter to present the clustered data about cryptocurrencies\n",
    "# having x=\"TotalCoinsMined\" and y=\"TotalCoinSupply\" \n",
    "# to contrast the number of available coins versus the total number of mined coins.\n",
    "\n",
    "clustered_df.hvplot.scatter(x=\"TotalCoinsMined\", y=\"TotalCoinSupply\", by=\"class\", hover_cols=[\"CoinName\"])"
   ]
  }
 ],
 "metadata": {
  "kernelspec": {
   "display_name": "Python 3",
   "language": "python",
   "name": "python3"
  },
  "language_info": {
   "codemirror_mode": {
    "name": "ipython",
    "version": 3
   },
   "file_extension": ".py",
   "mimetype": "text/x-python",
   "name": "python",
   "nbconvert_exporter": "python",
   "pygments_lexer": "ipython3",
   "version": "3.6.8"
  }
 },
 "nbformat": 4,
 "nbformat_minor": 4
}
