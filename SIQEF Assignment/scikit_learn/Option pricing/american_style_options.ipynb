{
 "cells": [
  {
   "cell_type": "markdown",
   "metadata": {},
   "source": [
    "# Pricing Bermuda option using Monte-carlo regression "
   ]
  },
  {
   "cell_type": "markdown",
   "metadata": {},
   "source": [
    "**Objective**: Explore different regression models in Least-square Monte-Carlo algorithm for american style option pricing"
   ]
  },
  {
   "cell_type": "markdown",
   "metadata": {},
   "source": [
    "For american option paying $g(\\tau)$ if exercised at time $\\tau<T$, the risk neutral price is given by the optimal stopping problem (for complete market):\n",
    "$$C(t) = \\sup_{t<\\tau<T}E_t^Q[e^{-r(\\tau - t)}g(\\tau)]$$\n",
    "And verify the following dynamic programming principle:\n",
    "$$C(t) = max\\big[g(t), E_t^Q[e^{-rdt}g(t+dt)]\\big]$$ \n",
    "\n",
    "The algorithme of least square Monte-Carlo (Longstaff Schwartz) used here is a numerical scheme that solve this problem by fitting, backward recursively in time, regression models that predict the continuation value (value of option at next step previously calculated) given the current state variables (prices of assets). See references for details.\n",
    "\n",
    "We implement the Bermuda option case which is an approx. of American option for finite number of exercise periods"
   ]
  },
  {
   "cell_type": "code",
   "execution_count": 2,
   "metadata": {},
   "outputs": [],
   "source": [
    "# pip install git+git://github.com/khrapovs/fangoosterlee\n",
    "import numpy as np\n",
    "import pandas as pd\n",
    "import time\n",
    "import matplotlib.pyplot as plt\n",
    "%matplotlib inline\n",
    "from pricing_utils import payoff_put_basket, payoff_worstof_put_basket, LSMC_2D_pricer, GBM_multi\n",
    "from sklearn.preprocessing import PolynomialFeatures\n",
    "from sklearn.pipeline import make_pipeline\n",
    "\n",
    "def payoff_basket_p(S_T, K):\n",
    "    a = 1 / S_T.shape[0] * np.ones(S_T.shape[0])\n",
    "    return payoff_put_basket(a, S_T, K)\n",
    "\n",
    "def payoff_basket_c(S_T, K):\n",
    "    a = 1 / S_T.shape[0] * np.ones(S_T.shape[0])\n",
    "    return payoff_call_basket(a, S_T, K)\n"
   ]
  },
  {
   "cell_type": "markdown",
   "metadata": {},
   "source": [
    "## Classical Least-square implementation"
   ]
  },
  {
   "cell_type": "code",
   "execution_count": 3,
   "metadata": {},
   "outputs": [
    {
     "name": "stdout",
     "output_type": "stream",
     "text": [
      "price: 6.16408014646138\n",
      "std: 1.605974390445971e-27\n",
      "err: 4.007461029686965e-16\n"
     ]
    }
   ],
   "source": [
    "N=10000\n",
    "T=1\n",
    "M=10\n",
    "S_0 = np.array([11, 12])\n",
    "K=20\n",
    "r=0.05\n",
    "Rho = np.array([[1,0.2], [0.2,1]]) \n",
    "sigma = np.array([0.4, 0.3])\n",
    "Gamma = np.diag(sigma) * Rho * np.diag(sigma)\n",
    "Sigma = np.sqrt(Gamma)\n",
    "R=4\n",
    "\n",
    "res, npv, P = LSMC_2D_pricer(N, R, T, M, S_0, K, r, sigma,\n",
    "                               Sigma, payoff_fun=payoff_worstof_put_basket,\n",
    "                               basis='laguerre')\n",
    "print('price:', res[0])\n",
    "print('std:', res[1])\n",
    "print('err:', res[2])"
   ]
  },
  {
   "cell_type": "markdown",
   "metadata": {},
   "source": [
    "## Other models for regression "
   ]
  },
  {
   "cell_type": "code",
   "execution_count": 4,
   "metadata": {},
   "outputs": [],
   "source": [
    "def LS_backward(P, payoff_fun, K, model,\n",
    "                poly_features=True, R=6,\n",
    "                discount_factor=1):\n",
    "    \"\"\"\n",
    "    Learning phase of the Least-square MC algo with model specification, Here the same model is trained \n",
    "    multiple time (at each time step)\n",
    "    Parameters\n",
    "    ----------\n",
    "    P (array-like) : multi-dimensional Prices paths array (d x N x T)\n",
    "    payoff_fun (array-like): payoff fun used to\n",
    "    model: regressor model suitable for multiple training \n",
    "    poly_features (bool): weather to generate polynomial features\n",
    "    K (float): strike value\n",
    "    R (int) : max order of polynomial basis\n",
    "    discount_factor (float): discount factor\n",
    "\n",
    "    Returns\n",
    "    -------\n",
    "\n",
    "    \"\"\"\n",
    "    N = P.shape[1] # nb of path\n",
    "    M = P.shape[2] # nb of time step\n",
    "    V = payoff_fun(P[:,:,M-1], K)\n",
    "    if poly_features:\n",
    "        model = make_pipeline(PolynomialFeatures(degree=R), model)\n",
    "            \n",
    "    for t in range(M - 1, -1, -1):\n",
    "        model.fit(P[:,:,t].T, V)  # use initial_epoch arg if training\n",
    "                                # Keras MLP (resume training at precedent step)\n",
    "        cont_val = model.predict(P[:,:,t].T)\n",
    "        cont_val = cont_val.ravel()\n",
    "        V = np.where(cont_val < payoff_fun(P[:,:,t], K),\n",
    "                     payoff_fun(P[:,:,t], K),\n",
    "                     discount_factor * V)\n",
    "        \n",
    "    mean = np.sum(V)/N\n",
    "    var = np.sum(V-mean)**2/N\n",
    "    err = np.sqrt(var/N)\n",
    "    \n",
    "    return mean, var, err\n",
    "\n",
    "def LSMC_pricer(N, R, T, M, S_0, K, r, sigma, Sigma, payoff_fun, model, poly_features):\n",
    "    P_train = GBM_multi(N, T, M, S_0, r, sigma, Sigma)\n",
    "    delta_t = T/M\n",
    "    discount_factor = np.exp(-r * delta_t)\n",
    "    V_mean, V_var, V_err = LS_backward(P_train, payoff_fun, K, model=model, R=R,\n",
    "                                       discount_factor=discount_factor,\n",
    "                                       poly_features=poly_features)\n",
    "\n",
    "    return V_mean, V_var, V_err"
   ]
  },
  {
   "cell_type": "markdown",
   "metadata": {},
   "source": [
    "### Polynomial regression"
   ]
  },
  {
   "cell_type": "code",
   "execution_count": 5,
   "metadata": {},
   "outputs": [
    {
     "name": "stdout",
     "output_type": "stream",
     "text": [
      "\n",
      "Time Cost predict: 0.602353572845459 seconds\n",
      "price:  11.677944378328016\n"
     ]
    }
   ],
   "source": [
    "from sklearn.linear_model import Ridge\n",
    "\n",
    "N=100000\n",
    "T=1\n",
    "M=10\n",
    "S_0 = np.array([100])\n",
    "K=110\n",
    "r=0.1\n",
    "Rho = 1\n",
    "sigma = np.array([0.25])\n",
    "Gamma = np.diag(sigma) * Rho * np.diag(sigma)\n",
    "Sigma = np.sqrt(Gamma)\n",
    "R=3\n",
    "\n",
    "model = Ridge(alpha=0., solver='auto')\n",
    "\n",
    "starttime = time.time()\n",
    "p, _, _ = LSMC_pricer(N, R, T, M, S_0, K, r, sigma, Sigma,\n",
    "                      payoff_fun=payoff_basket_p, poly_features=True,\n",
    "                      model=model)\n",
    "endtime = time.time()\n",
    "print('\\nTime Cost predict:', endtime - starttime, 'seconds')\n",
    "print('price: ', p)"
   ]
  },
  {
   "cell_type": "markdown",
   "metadata": {},
   "source": [
    "### ANN Regression"
   ]
  },
  {
   "cell_type": "code",
   "execution_count": 6,
   "metadata": {},
   "outputs": [
    {
     "name": "stdout",
     "output_type": "stream",
     "text": [
      "\n",
      "Time Cost predict: 91.50403833389282 seconds\n",
      "price:  10.0\n"
     ]
    }
   ],
   "source": [
    "from ml_models import MLPRegressor, MLPRegressorPCA\n",
    "from sklearn.preprocessing import StandardScaler\n",
    "\n",
    "\n",
    "model = MLPRegressor(\n",
    "    scaler=StandardScaler(),\n",
    "    n_feature=4, # two assets and 4 degree basis\n",
    "    epochs=5,\n",
    "    batch_size=512,\n",
    "    loss=\"mse\",\n",
    "    verbose=0\n",
    ")\n",
    "\n",
    "params = {'activation': 'tanh',\n",
    "         'batch_normalisation': False,\n",
    "         'beta_1': 0.6,\n",
    "         'beta_2': 0.4,\n",
    "         'dropout': 0.,\n",
    "         'hidden_size': 100,\n",
    "         'hidden_size_2':50,\n",
    "         'kernel_initializer': 'normal',\n",
    "         'learning_rate': 0.00015\n",
    "         }\n",
    "model.set_params(**params)\n",
    "\n",
    "starttime = time.time()\n",
    "p, _, _ = LSMC_pricer(N, R, T, M, S_0, K, r, sigma, Sigma,\n",
    "                      payoff_fun=payoff_basket_p, poly_features=True,\n",
    "                      model=model)\n",
    "endtime = time.time()\n",
    "print('\\nTime Cost predict:', endtime - starttime, 'seconds')\n",
    "print('price: ', p)"
   ]
  },
  {
   "cell_type": "code",
   "execution_count": 7,
   "metadata": {},
   "outputs": [
    {
     "name": "stdout",
     "output_type": "stream",
     "text": [
      "\n",
      "Time Cost predict: 155.146546125412 seconds\n",
      "price:  3.834202018732696\n"
     ]
    }
   ],
   "source": [
    "N=100000\n",
    "T=1\n",
    "M=20\n",
    "S_0 = np.ones(2) * 100\n",
    "K=100\n",
    "r=0.05\n",
    "Rho = np.array([[1,0.2], [0.2,1]]) \n",
    "sigma = np.ones(2) * 0.2\n",
    "Gamma = np.diag(sigma) * Rho * np.diag(sigma)\n",
    "Sigma = np.sqrt(Gamma)\n",
    "R=3\n",
    "\n",
    "model = MLPRegressor(\n",
    "    scaler=StandardScaler(),\n",
    "    n_feature=10, # two assets and 4 degree basis\n",
    "    epochs=5,\n",
    "    batch_size=512,\n",
    "    loss=\"mse\",\n",
    "    verbose=0\n",
    ")\n",
    "\n",
    "starttime = time.time()\n",
    "p, _, _ = LSMC_pricer(N, R, T, M, S_0, K, r, sigma, Sigma,\n",
    "                      payoff_fun=payoff_basket_p, poly_features=True,\n",
    "                      model=model)\n",
    "endtime = time.time()\n",
    "print('\\nTime Cost predict:', endtime - starttime, 'seconds')\n",
    "print('price: ', p)"
   ]
  },
  {
   "cell_type": "code",
   "execution_count": null,
   "metadata": {},
   "outputs": [],
   "source": []
  }
 ],
 "metadata": {
  "kernelspec": {
   "display_name": "Python 3",
   "language": "python",
   "name": "python3"
  },
  "language_info": {
   "codemirror_mode": {
    "name": "ipython",
    "version": 3
   },
   "file_extension": ".py",
   "mimetype": "text/x-python",
   "name": "python",
   "nbconvert_exporter": "python",
   "pygments_lexer": "ipython3",
   "version": "3.7.6"
  }
 },
 "nbformat": 4,
 "nbformat_minor": 4
}
