{
 "cells": [
  {
   "cell_type": "code",
   "execution_count": 1,
   "metadata": {
    "ExecuteTime": {
     "end_time": "2020-08-16T06:41:49.141135Z",
     "start_time": "2020-08-16T06:41:49.136147Z"
    }
   },
   "outputs": [],
   "source": [
    "# This is an example snippet!\n",
    "# To create your own, add a new snippet block to the\n",
    "# snippets.json file in your jupyter nbextensions directory:\n",
    "# /nbextensions/snippets/snippets.json"
   ]
  },
  {
   "cell_type": "markdown",
   "metadata": {},
   "source": [
    "This jupyter notebook is aiming at provide some programming skill for beginners.   "
   ]
  },
  {
   "cell_type": "markdown",
   "metadata": {},
   "source": [
    "# Beginner machine learning project guidance in python"
   ]
  },
  {
   "cell_type": "markdown",
   "metadata": {},
   "source": [
    "### Author : Niko Pang"
   ]
  },
  {
   "cell_type": "markdown",
   "metadata": {},
   "source": [
    "When you start to code your own machine learning project, the first thing is to import relevant packages. In kindergarten you will usually be scared when you see the adult-level code,'cause they actually import so many packages!  \n",
    "Feel free for that. You will never need to scrutinize all the packages syntex when you begin to code. They just did this in order to be beautiful. You can just import packages whenever you need them. \n",
    "\n",
    "Press M to write some comments, and use multiple # to indicate the title. Use space_space_enter to change to another line. If you meet some problems, try to breath and describe it clearly, then search it in google. You will always get the correct answer within the 20 page results.  \n",
    "\n",
    "If you want to control the size and font of the markdown accurately,<font/><br>you may try </font><font color=#FF0000 size=2 face=\"Times New Roman\">this way.\n",
    "    "
   ]
  },
  {
   "cell_type": "markdown",
   "metadata": {},
   "source": [
    "<div class=\"alert alert-block alert-info\"><b>Tip:</b> Use blue boxes (alert-info) for tips and notes. If it’s a note, you don’t have to include the word “Note”. See \n",
    "    \n",
    "    https://github.com/parulnith/10-Simple-hacks-to-speed-up-your-Data-Analysis-in-Python \n",
    "</div>"
   ]
  },
  {
   "cell_type": "code",
   "execution_count": 2,
   "metadata": {
    "ExecuteTime": {
     "end_time": "2020-08-16T06:41:54.316913Z",
     "start_time": "2020-08-16T06:41:49.147115Z"
    }
   },
   "outputs": [],
   "source": [
    "# But some basic packages you need to import, which will help you to load data.\n",
    "import numpy as np\n",
    "# from tabulate import tabulate   # You can also use this package for pro data vasualization.\n",
    "\n",
    "import matplotlib.pyplot as plt\n",
    "%matplotlib inline       \n",
    "# Note:if you use `%matplotlib inline`, you do not need to `plt.show()` everytime.\n",
    "\n",
    "import pandas as pd  \n",
    "pd.set_option('max_colwidth',800)\n",
    "import pandas_profiling\n",
    "\n",
    "# If you want to time your program, you can ctrl+/ to activate the time package\n",
    "# import time"
   ]
  },
  {
   "cell_type": "markdown",
   "metadata": {},
   "source": [
    "\n",
    "\n",
    "\n",
    "When people think of Machine Learning, they often think of a program that is taking in data and spitting out predictions and insights. The process of performing Machine Learning often requires many more steps before and after the predictive analytics.\n",
    "\n",
    "We try to think of the Machine Learning process as:\n",
    "\n",
    "* Formulating a Question\n",
    "* Finding and Understanding the Data\n",
    "* Cleaning the Data and Feature Engineering\n",
    "* Choosing a Model\n",
    "* Tuning and Evaluating\n",
    "* Using the Model and Presenting Results\n",
    "\n",
    "See more in https://www.codecademy.com/articles/the-ml-process\n"
   ]
  },
  {
   "cell_type": "markdown",
   "metadata": {},
   "source": [
    "## 0. Find your imperial question"
   ]
  },
  {
   "cell_type": "markdown",
   "metadata": {},
   "source": [
    "We are interested in finding the forecast model to predict bank loss when default happens.  \n",
    "It is a supervised learning problem, see  \n",
    "\n",
    "https://scikit-learn.org/stable/supervised_learning.html  \n",
    "  \n",
    "for all possible ML algorithms we could use here."
   ]
  },
  {
   "cell_type": "markdown",
   "metadata": {},
   "source": [
    "##  Find data"
   ]
  },
  {
   "cell_type": "markdown",
   "metadata": {},
   "source": [
    "Finding relative data is the first step for your project or research. On quantity side, it's always great to find huge quantity data. For the normal machine learning case, it's appropriate to have 1000+ data.  \n",
    "\n",
    "If you want to do something fancy, you can collect your own data. As machine learning needs so much data, usually you need to study beautifulsoup and some web crawler skills\n",
    "\n",
    "But in dimension side, even with the help of auto-algorithms to delete the unnecessary data, I still urge you not to have too much dimension(like 1000+) due to your computer capacity. Actually you can do that if you graduate from kindergarten and get the hand of cloud computing or parallel computing."
   ]
  },
  {
   "cell_type": "code",
   "execution_count": 3,
   "metadata": {
    "ExecuteTime": {
     "end_time": "2020-08-16T06:41:54.569234Z",
     "start_time": "2020-08-16T06:41:54.319901Z"
    }
   },
   "outputs": [],
   "source": [
    "# load local data if you already have it\n",
    "?pd.read_csv\n",
    "?pd.read_excel\n",
    "?pd.read_stata\n",
    "?pd.read_sql\n",
    "# and others …\n",
    "# print pd. then use tab to check the optional and its "
   ]
  },
  {
   "cell_type": "markdown",
   "metadata": {},
   "source": [
    "It's okay if you download data and preprocess it in excel or other software. But in case that you need data from URL, it's convenient if you can input data without download to your local computer and proprecess it in Python.\n",
    "\n",
    "Since not all of the website provide data API,let's use an local data case."
   ]
  },
  {
   "cell_type": "code",
   "execution_count": 4,
   "metadata": {
    "ExecuteTime": {
     "end_time": "2020-08-16T06:41:55.364626Z",
     "start_time": "2020-08-16T06:41:54.576214Z"
    }
   },
   "outputs": [
    {
     "data": {
      "text/html": [
       "<div>\n",
       "<style scoped>\n",
       "    .dataframe tbody tr th:only-of-type {\n",
       "        vertical-align: middle;\n",
       "    }\n",
       "\n",
       "    .dataframe tbody tr th {\n",
       "        vertical-align: top;\n",
       "    }\n",
       "\n",
       "    .dataframe thead th {\n",
       "        text-align: right;\n",
       "    }\n",
       "</style>\n",
       "<table border=\"1\" class=\"dataframe\">\n",
       "  <thead>\n",
       "    <tr style=\"text-align: right;\">\n",
       "      <th></th>\n",
       "      <th>Region</th>\n",
       "      <th>Business</th>\n",
       "      <th>Name</th>\n",
       "      <th>Status</th>\n",
       "      <th>Risk Category</th>\n",
       "      <th>Risk Sub-Category</th>\n",
       "      <th>Discovery Date</th>\n",
       "      <th>Occurrence Start Date</th>\n",
       "      <th>Year</th>\n",
       "      <th>Net Loss</th>\n",
       "      <th>Recovery Amount</th>\n",
       "      <th>Estimated Gross Loss</th>\n",
       "      <th>Recovery Amount (percent)</th>\n",
       "    </tr>\n",
       "  </thead>\n",
       "  <tbody>\n",
       "    <tr>\n",
       "      <th>0</th>\n",
       "      <td>EMEA</td>\n",
       "      <td>Retail Brokerage</td>\n",
       "      <td>LE−06−2</td>\n",
       "      <td>Under Review</td>\n",
       "      <td>Clients, Products and Business Practices</td>\n",
       "      <td>Product Flaws</td>\n",
       "      <td>2007-01-01</td>\n",
       "      <td>2007-01-02</td>\n",
       "      <td>2007</td>\n",
       "      <td>296555.27</td>\n",
       "      <td>83035.4756</td>\n",
       "      <td>291100</td>\n",
       "      <td>28.0</td>\n",
       "    </tr>\n",
       "    <tr>\n",
       "      <th>1</th>\n",
       "      <td>North America</td>\n",
       "      <td>Retail Banking</td>\n",
       "      <td>LE−06−3</td>\n",
       "      <td>Approved</td>\n",
       "      <td>Execution, Delivery and Process Management</td>\n",
       "      <td>Trade Counterparties</td>\n",
       "      <td>2007-01-03</td>\n",
       "      <td>2007-01-05</td>\n",
       "      <td>2007</td>\n",
       "      <td>87472.47</td>\n",
       "      <td>27116.4657</td>\n",
       "      <td>98400</td>\n",
       "      <td>31.0</td>\n",
       "    </tr>\n",
       "    <tr>\n",
       "      <th>2</th>\n",
       "      <td>Asia Pac</td>\n",
       "      <td>Retail Brokerage</td>\n",
       "      <td>LE−06−4</td>\n",
       "      <td>Not Started</td>\n",
       "      <td>Clients, Products and Business Practices</td>\n",
       "      <td>Advisory Activities</td>\n",
       "      <td>2007-01-04</td>\n",
       "      <td>2007-01-06</td>\n",
       "      <td>2007</td>\n",
       "      <td>229395.38</td>\n",
       "      <td>59642.7988</td>\n",
       "      <td>230700</td>\n",
       "      <td>26.0</td>\n",
       "    </tr>\n",
       "    <tr>\n",
       "      <th>3</th>\n",
       "      <td>EMEA</td>\n",
       "      <td>Retail Banking</td>\n",
       "      <td>LE−06−5</td>\n",
       "      <td>In Progress</td>\n",
       "      <td>Clients, Products and Business Practices</td>\n",
       "      <td>Product Flaws</td>\n",
       "      <td>2007-01-08</td>\n",
       "      <td>2007-01-11</td>\n",
       "      <td>2007</td>\n",
       "      <td>137925.29</td>\n",
       "      <td>34481.3225</td>\n",
       "      <td>137400</td>\n",
       "      <td>25.0</td>\n",
       "    </tr>\n",
       "    <tr>\n",
       "      <th>4</th>\n",
       "      <td>North America</td>\n",
       "      <td>Trading and Sales</td>\n",
       "      <td>LE−06−6</td>\n",
       "      <td>Under Review</td>\n",
       "      <td>Execution, Delivery and Process Management</td>\n",
       "      <td>Reporting and Disclosure</td>\n",
       "      <td>2007-01-12</td>\n",
       "      <td>2007-01-14</td>\n",
       "      <td>2007</td>\n",
       "      <td>292160.41</td>\n",
       "      <td>90569.7271</td>\n",
       "      <td>288300</td>\n",
       "      <td>31.0</td>\n",
       "    </tr>\n",
       "    <tr>\n",
       "      <th>...</th>\n",
       "      <td>...</td>\n",
       "      <td>...</td>\n",
       "      <td>...</td>\n",
       "      <td>...</td>\n",
       "      <td>...</td>\n",
       "      <td>...</td>\n",
       "      <td>...</td>\n",
       "      <td>...</td>\n",
       "      <td>...</td>\n",
       "      <td>...</td>\n",
       "      <td>...</td>\n",
       "      <td>...</td>\n",
       "      <td>...</td>\n",
       "    </tr>\n",
       "    <tr>\n",
       "      <th>1397</th>\n",
       "      <td>EMEA</td>\n",
       "      <td>Trading and Sales</td>\n",
       "      <td>z-LE-385</td>\n",
       "      <td>Under Review</td>\n",
       "      <td>Execution, Delivery and Process Management</td>\n",
       "      <td>Vendors and Suppliers</td>\n",
       "      <td>2013-11-15</td>\n",
       "      <td>2013-11-17</td>\n",
       "      <td>2013</td>\n",
       "      <td>952743.86</td>\n",
       "      <td>285823.1580</td>\n",
       "      <td>952800</td>\n",
       "      <td>30.0</td>\n",
       "    </tr>\n",
       "    <tr>\n",
       "      <th>1398</th>\n",
       "      <td>EMEA</td>\n",
       "      <td>Trading and Sales</td>\n",
       "      <td>z-LE-538</td>\n",
       "      <td>In Progress</td>\n",
       "      <td>Execution, Delivery and Process Management</td>\n",
       "      <td>Vendors and Suppliers</td>\n",
       "      <td>2014-01-24</td>\n",
       "      <td>2014-01-25</td>\n",
       "      <td>2014</td>\n",
       "      <td>122813.21</td>\n",
       "      <td>42984.6235</td>\n",
       "      <td>132200</td>\n",
       "      <td>35.0</td>\n",
       "    </tr>\n",
       "    <tr>\n",
       "      <th>1399</th>\n",
       "      <td>North America</td>\n",
       "      <td>Trading and Sales</td>\n",
       "      <td>z-LE-567</td>\n",
       "      <td>Not Started</td>\n",
       "      <td>Execution, Delivery and Process Management</td>\n",
       "      <td>Vendors and Suppliers</td>\n",
       "      <td>2014-03-23</td>\n",
       "      <td>2014-03-26</td>\n",
       "      <td>2014</td>\n",
       "      <td>949052.11</td>\n",
       "      <td>208791.4642</td>\n",
       "      <td>946400</td>\n",
       "      <td>22.0</td>\n",
       "    </tr>\n",
       "    <tr>\n",
       "      <th>1400</th>\n",
       "      <td>Asia Pac</td>\n",
       "      <td>Retail Banking</td>\n",
       "      <td>z-LE-600</td>\n",
       "      <td>Rejected</td>\n",
       "      <td>Execution, Delivery and Process Management</td>\n",
       "      <td>Vendors and Suppliers</td>\n",
       "      <td>2014-06-19</td>\n",
       "      <td>2014-06-20</td>\n",
       "      <td>2014</td>\n",
       "      <td>230710.76</td>\n",
       "      <td>18456.8608</td>\n",
       "      <td>232300</td>\n",
       "      <td>8.0</td>\n",
       "    </tr>\n",
       "    <tr>\n",
       "      <th>1401</th>\n",
       "      <td>North America</td>\n",
       "      <td>Retail Banking</td>\n",
       "      <td>z-LE-638</td>\n",
       "      <td>Rejected</td>\n",
       "      <td>Execution, Delivery and Process Management</td>\n",
       "      <td>Vendors and Suppliers</td>\n",
       "      <td>2014-10-04</td>\n",
       "      <td>2014-10-05</td>\n",
       "      <td>2014</td>\n",
       "      <td>240558.72</td>\n",
       "      <td>19244.6976</td>\n",
       "      <td>238900</td>\n",
       "      <td>8.0</td>\n",
       "    </tr>\n",
       "  </tbody>\n",
       "</table>\n",
       "<p>1402 rows × 13 columns</p>\n",
       "</div>"
      ],
      "text/plain": [
       "             Region           Business      Name        Status  \\\n",
       "0              EMEA   Retail Brokerage   LE−06−2  Under Review   \n",
       "1     North America     Retail Banking   LE−06−3      Approved   \n",
       "2          Asia Pac   Retail Brokerage   LE−06−4   Not Started   \n",
       "3              EMEA     Retail Banking   LE−06−5   In Progress   \n",
       "4     North America  Trading and Sales   LE−06−6  Under Review   \n",
       "...             ...                ...       ...           ...   \n",
       "1397           EMEA  Trading and Sales  z-LE-385  Under Review   \n",
       "1398           EMEA  Trading and Sales  z-LE-538   In Progress   \n",
       "1399  North America  Trading and Sales  z-LE-567   Not Started   \n",
       "1400       Asia Pac     Retail Banking  z-LE-600      Rejected   \n",
       "1401  North America     Retail Banking  z-LE-638      Rejected   \n",
       "\n",
       "                                   Risk Category         Risk Sub-Category  \\\n",
       "0       Clients, Products and Business Practices             Product Flaws   \n",
       "1     Execution, Delivery and Process Management      Trade Counterparties   \n",
       "2       Clients, Products and Business Practices       Advisory Activities   \n",
       "3       Clients, Products and Business Practices             Product Flaws   \n",
       "4     Execution, Delivery and Process Management  Reporting and Disclosure   \n",
       "...                                          ...                       ...   \n",
       "1397  Execution, Delivery and Process Management     Vendors and Suppliers   \n",
       "1398  Execution, Delivery and Process Management     Vendors and Suppliers   \n",
       "1399  Execution, Delivery and Process Management     Vendors and Suppliers   \n",
       "1400  Execution, Delivery and Process Management     Vendors and Suppliers   \n",
       "1401  Execution, Delivery and Process Management     Vendors and Suppliers   \n",
       "\n",
       "     Discovery Date Occurrence Start Date  Year   Net Loss  Recovery Amount  \\\n",
       "0        2007-01-01            2007-01-02  2007  296555.27       83035.4756   \n",
       "1        2007-01-03            2007-01-05  2007   87472.47       27116.4657   \n",
       "2        2007-01-04            2007-01-06  2007  229395.38       59642.7988   \n",
       "3        2007-01-08            2007-01-11  2007  137925.29       34481.3225   \n",
       "4        2007-01-12            2007-01-14  2007  292160.41       90569.7271   \n",
       "...             ...                   ...   ...        ...              ...   \n",
       "1397     2013-11-15            2013-11-17  2013  952743.86      285823.1580   \n",
       "1398     2014-01-24            2014-01-25  2014  122813.21       42984.6235   \n",
       "1399     2014-03-23            2014-03-26  2014  949052.11      208791.4642   \n",
       "1400     2014-06-19            2014-06-20  2014  230710.76       18456.8608   \n",
       "1401     2014-10-04            2014-10-05  2014  240558.72       19244.6976   \n",
       "\n",
       "      Estimated Gross Loss  Recovery Amount (percent)  \n",
       "0                   291100                       28.0  \n",
       "1                    98400                       31.0  \n",
       "2                   230700                       26.0  \n",
       "3                   137400                       25.0  \n",
       "4                   288300                       31.0  \n",
       "...                    ...                        ...  \n",
       "1397                952800                       30.0  \n",
       "1398                132200                       35.0  \n",
       "1399                946400                       22.0  \n",
       "1400                232300                        8.0  \n",
       "1401                238900                        8.0  \n",
       "\n",
       "[1402 rows x 13 columns]"
      ]
     },
     "execution_count": 4,
     "metadata": {},
     "output_type": "execute_result"
    }
   ],
   "source": [
    "df = pd.read_excel('Banking_loss_events.xlsx')\n",
    "df\n",
    "# You can also check the data via 'df.head()' ,'df.tail()','tabulate(df) (need imported package)' or other methods."
   ]
  },
  {
   "cell_type": "markdown",
   "metadata": {},
   "source": [
    "## Explore data "
   ]
  },
  {
   "cell_type": "markdown",
   "metadata": {},
   "source": [
    "You can use package `qgrid` to quickly screen the data subset. "
   ]
  },
  {
   "cell_type": "code",
   "execution_count": 5,
   "metadata": {
    "ExecuteTime": {
     "end_time": "2020-08-16T06:41:55.412500Z",
     "start_time": "2020-08-16T06:41:55.376595Z"
    }
   },
   "outputs": [
    {
     "name": "stdout",
     "output_type": "stream",
     "text": [
      "QGridWidget\n",
      "QgridWidget\n",
      "__all__\n",
      "__builtins__\n",
      "__cached__\n",
      "__doc__\n",
      "__file__\n",
      "__loader__\n",
      "__name__\n",
      "__package__\n",
      "__path__\n",
      "__spec__\n",
      "__version__\n",
      "_jupyter_nbextension_paths\n",
      "_version\n",
      "disable\n",
      "enable\n",
      "grid\n",
      "off\n",
      "on\n",
      "set_defaults\n",
      "set_grid_option\n",
      "show_grid\n",
      "version_info\n"
     ]
    }
   ],
   "source": [
    "import qgrid\n",
    "# This is an useful package for first-step screen. See https://github.com/quantopian/qgrid\n",
    "\n",
    "for qgrid_functions in dir(qgrid):\n",
    "    print(qgrid_functions)   # show the inside function callable in qgrid\n",
    "\n",
    "# other important command for qgrid\n",
    "# qgrid.nbinstall(overwrite=True)\n",
    "# qgrid.set_defaults(remote_js=True, precision=2)"
   ]
  },
  {
   "cell_type": "code",
   "execution_count": 6,
   "metadata": {
    "ExecuteTime": {
     "end_time": "2020-08-16T06:41:55.561103Z",
     "start_time": "2020-08-16T06:41:55.416487Z"
    }
   },
   "outputs": [
    {
     "data": {
      "application/vnd.jupyter.widget-view+json": {
       "model_id": "6cfd20ef8b8541b4b5a5e029a665e72c",
       "version_major": 2,
       "version_minor": 0
      },
      "text/plain": [
       "QgridWidget(grid_options={'fullWidthRows': True, 'syncColumnCellResize': True, 'forceFitColumns': True, 'defau…"
      ]
     },
     "metadata": {},
     "output_type": "display_data"
    }
   ],
   "source": [
    "df_qgrid = qgrid.show_grid(df, show_toolbar=True)\n",
    "df_qgrid\n",
    "# qgrid.show_grid(df)"
   ]
  },
  {
   "cell_type": "code",
   "execution_count": 7,
   "metadata": {
    "ExecuteTime": {
     "end_time": "2020-08-16T06:41:55.626924Z",
     "start_time": "2020-08-16T06:41:55.566089Z"
    }
   },
   "outputs": [
    {
     "data": {
      "text/html": [
       "<div>\n",
       "<style scoped>\n",
       "    .dataframe tbody tr th:only-of-type {\n",
       "        vertical-align: middle;\n",
       "    }\n",
       "\n",
       "    .dataframe tbody tr th {\n",
       "        vertical-align: top;\n",
       "    }\n",
       "\n",
       "    .dataframe thead th {\n",
       "        text-align: right;\n",
       "    }\n",
       "</style>\n",
       "<table border=\"1\" class=\"dataframe\">\n",
       "  <thead>\n",
       "    <tr style=\"text-align: right;\">\n",
       "      <th></th>\n",
       "      <th>Region</th>\n",
       "      <th>Business</th>\n",
       "      <th>Name</th>\n",
       "      <th>Status</th>\n",
       "      <th>Risk Category</th>\n",
       "      <th>Risk Sub-Category</th>\n",
       "      <th>Discovery Date</th>\n",
       "      <th>Occurrence Start Date</th>\n",
       "      <th>Year</th>\n",
       "      <th>Net Loss</th>\n",
       "      <th>Recovery Amount</th>\n",
       "      <th>Estimated Gross Loss</th>\n",
       "      <th>Recovery Amount (percent)</th>\n",
       "    </tr>\n",
       "  </thead>\n",
       "  <tbody>\n",
       "    <tr>\n",
       "      <th>0</th>\n",
       "      <td>EMEA</td>\n",
       "      <td>Retail Brokerage</td>\n",
       "      <td>LE−06−2</td>\n",
       "      <td>Under Review</td>\n",
       "      <td>Clients, Products and Business Practices</td>\n",
       "      <td>Product Flaws</td>\n",
       "      <td>2007-01-01</td>\n",
       "      <td>2007-01-02</td>\n",
       "      <td>2007</td>\n",
       "      <td>296555.27</td>\n",
       "      <td>83035.4756</td>\n",
       "      <td>291100</td>\n",
       "      <td>28.0</td>\n",
       "    </tr>\n",
       "    <tr>\n",
       "      <th>1</th>\n",
       "      <td>North America</td>\n",
       "      <td>Retail Banking</td>\n",
       "      <td>LE−06−3</td>\n",
       "      <td>Approved</td>\n",
       "      <td>Execution, Delivery and Process Management</td>\n",
       "      <td>Trade Counterparties</td>\n",
       "      <td>2007-01-03</td>\n",
       "      <td>2007-01-05</td>\n",
       "      <td>2007</td>\n",
       "      <td>87472.47</td>\n",
       "      <td>27116.4657</td>\n",
       "      <td>98400</td>\n",
       "      <td>31.0</td>\n",
       "    </tr>\n",
       "    <tr>\n",
       "      <th>2</th>\n",
       "      <td>Asia Pac</td>\n",
       "      <td>Retail Brokerage</td>\n",
       "      <td>LE−06−4</td>\n",
       "      <td>Not Started</td>\n",
       "      <td>Clients, Products and Business Practices</td>\n",
       "      <td>Advisory Activities</td>\n",
       "      <td>2007-01-04</td>\n",
       "      <td>2007-01-06</td>\n",
       "      <td>2007</td>\n",
       "      <td>229395.38</td>\n",
       "      <td>59642.7988</td>\n",
       "      <td>230700</td>\n",
       "      <td>26.0</td>\n",
       "    </tr>\n",
       "    <tr>\n",
       "      <th>3</th>\n",
       "      <td>EMEA</td>\n",
       "      <td>Retail Banking</td>\n",
       "      <td>LE−06−5</td>\n",
       "      <td>In Progress</td>\n",
       "      <td>Clients, Products and Business Practices</td>\n",
       "      <td>Product Flaws</td>\n",
       "      <td>2007-01-08</td>\n",
       "      <td>2007-01-11</td>\n",
       "      <td>2007</td>\n",
       "      <td>137925.29</td>\n",
       "      <td>34481.3225</td>\n",
       "      <td>137400</td>\n",
       "      <td>25.0</td>\n",
       "    </tr>\n",
       "    <tr>\n",
       "      <th>4</th>\n",
       "      <td>North America</td>\n",
       "      <td>Trading and Sales</td>\n",
       "      <td>LE−06−6</td>\n",
       "      <td>Under Review</td>\n",
       "      <td>Execution, Delivery and Process Management</td>\n",
       "      <td>Reporting and Disclosure</td>\n",
       "      <td>2007-01-12</td>\n",
       "      <td>2007-01-14</td>\n",
       "      <td>2007</td>\n",
       "      <td>292160.41</td>\n",
       "      <td>90569.7271</td>\n",
       "      <td>288300</td>\n",
       "      <td>31.0</td>\n",
       "    </tr>\n",
       "    <tr>\n",
       "      <th>...</th>\n",
       "      <td>...</td>\n",
       "      <td>...</td>\n",
       "      <td>...</td>\n",
       "      <td>...</td>\n",
       "      <td>...</td>\n",
       "      <td>...</td>\n",
       "      <td>...</td>\n",
       "      <td>...</td>\n",
       "      <td>...</td>\n",
       "      <td>...</td>\n",
       "      <td>...</td>\n",
       "      <td>...</td>\n",
       "      <td>...</td>\n",
       "    </tr>\n",
       "    <tr>\n",
       "      <th>1397</th>\n",
       "      <td>EMEA</td>\n",
       "      <td>Trading and Sales</td>\n",
       "      <td>z-LE-385</td>\n",
       "      <td>Under Review</td>\n",
       "      <td>Execution, Delivery and Process Management</td>\n",
       "      <td>Vendors and Suppliers</td>\n",
       "      <td>2013-11-15</td>\n",
       "      <td>2013-11-17</td>\n",
       "      <td>2013</td>\n",
       "      <td>952743.86</td>\n",
       "      <td>285823.1580</td>\n",
       "      <td>952800</td>\n",
       "      <td>30.0</td>\n",
       "    </tr>\n",
       "    <tr>\n",
       "      <th>1398</th>\n",
       "      <td>EMEA</td>\n",
       "      <td>Trading and Sales</td>\n",
       "      <td>z-LE-538</td>\n",
       "      <td>In Progress</td>\n",
       "      <td>Execution, Delivery and Process Management</td>\n",
       "      <td>Vendors and Suppliers</td>\n",
       "      <td>2014-01-24</td>\n",
       "      <td>2014-01-25</td>\n",
       "      <td>2014</td>\n",
       "      <td>122813.21</td>\n",
       "      <td>42984.6235</td>\n",
       "      <td>132200</td>\n",
       "      <td>35.0</td>\n",
       "    </tr>\n",
       "    <tr>\n",
       "      <th>1399</th>\n",
       "      <td>North America</td>\n",
       "      <td>Trading and Sales</td>\n",
       "      <td>z-LE-567</td>\n",
       "      <td>Not Started</td>\n",
       "      <td>Execution, Delivery and Process Management</td>\n",
       "      <td>Vendors and Suppliers</td>\n",
       "      <td>2014-03-23</td>\n",
       "      <td>2014-03-26</td>\n",
       "      <td>2014</td>\n",
       "      <td>949052.11</td>\n",
       "      <td>208791.4642</td>\n",
       "      <td>946400</td>\n",
       "      <td>22.0</td>\n",
       "    </tr>\n",
       "    <tr>\n",
       "      <th>1400</th>\n",
       "      <td>Asia Pac</td>\n",
       "      <td>Retail Banking</td>\n",
       "      <td>z-LE-600</td>\n",
       "      <td>Rejected</td>\n",
       "      <td>Execution, Delivery and Process Management</td>\n",
       "      <td>Vendors and Suppliers</td>\n",
       "      <td>2014-06-19</td>\n",
       "      <td>2014-06-20</td>\n",
       "      <td>2014</td>\n",
       "      <td>230710.76</td>\n",
       "      <td>18456.8608</td>\n",
       "      <td>232300</td>\n",
       "      <td>8.0</td>\n",
       "    </tr>\n",
       "    <tr>\n",
       "      <th>1401</th>\n",
       "      <td>North America</td>\n",
       "      <td>Retail Banking</td>\n",
       "      <td>z-LE-638</td>\n",
       "      <td>Rejected</td>\n",
       "      <td>Execution, Delivery and Process Management</td>\n",
       "      <td>Vendors and Suppliers</td>\n",
       "      <td>2014-10-04</td>\n",
       "      <td>2014-10-05</td>\n",
       "      <td>2014</td>\n",
       "      <td>240558.72</td>\n",
       "      <td>19244.6976</td>\n",
       "      <td>238900</td>\n",
       "      <td>8.0</td>\n",
       "    </tr>\n",
       "  </tbody>\n",
       "</table>\n",
       "<p>1402 rows × 13 columns</p>\n",
       "</div>"
      ],
      "text/plain": [
       "             Region           Business      Name        Status  \\\n",
       "0              EMEA   Retail Brokerage   LE−06−2  Under Review   \n",
       "1     North America     Retail Banking   LE−06−3      Approved   \n",
       "2          Asia Pac   Retail Brokerage   LE−06−4   Not Started   \n",
       "3              EMEA     Retail Banking   LE−06−5   In Progress   \n",
       "4     North America  Trading and Sales   LE−06−6  Under Review   \n",
       "...             ...                ...       ...           ...   \n",
       "1397           EMEA  Trading and Sales  z-LE-385  Under Review   \n",
       "1398           EMEA  Trading and Sales  z-LE-538   In Progress   \n",
       "1399  North America  Trading and Sales  z-LE-567   Not Started   \n",
       "1400       Asia Pac     Retail Banking  z-LE-600      Rejected   \n",
       "1401  North America     Retail Banking  z-LE-638      Rejected   \n",
       "\n",
       "                                   Risk Category         Risk Sub-Category  \\\n",
       "0       Clients, Products and Business Practices             Product Flaws   \n",
       "1     Execution, Delivery and Process Management      Trade Counterparties   \n",
       "2       Clients, Products and Business Practices       Advisory Activities   \n",
       "3       Clients, Products and Business Practices             Product Flaws   \n",
       "4     Execution, Delivery and Process Management  Reporting and Disclosure   \n",
       "...                                          ...                       ...   \n",
       "1397  Execution, Delivery and Process Management     Vendors and Suppliers   \n",
       "1398  Execution, Delivery and Process Management     Vendors and Suppliers   \n",
       "1399  Execution, Delivery and Process Management     Vendors and Suppliers   \n",
       "1400  Execution, Delivery and Process Management     Vendors and Suppliers   \n",
       "1401  Execution, Delivery and Process Management     Vendors and Suppliers   \n",
       "\n",
       "     Discovery Date Occurrence Start Date  Year   Net Loss  Recovery Amount  \\\n",
       "0        2007-01-01            2007-01-02  2007  296555.27       83035.4756   \n",
       "1        2007-01-03            2007-01-05  2007   87472.47       27116.4657   \n",
       "2        2007-01-04            2007-01-06  2007  229395.38       59642.7988   \n",
       "3        2007-01-08            2007-01-11  2007  137925.29       34481.3225   \n",
       "4        2007-01-12            2007-01-14  2007  292160.41       90569.7271   \n",
       "...             ...                   ...   ...        ...              ...   \n",
       "1397     2013-11-15            2013-11-17  2013  952743.86      285823.1580   \n",
       "1398     2014-01-24            2014-01-25  2014  122813.21       42984.6235   \n",
       "1399     2014-03-23            2014-03-26  2014  949052.11      208791.4642   \n",
       "1400     2014-06-19            2014-06-20  2014  230710.76       18456.8608   \n",
       "1401     2014-10-04            2014-10-05  2014  240558.72       19244.6976   \n",
       "\n",
       "      Estimated Gross Loss  Recovery Amount (percent)  \n",
       "0                   291100                       28.0  \n",
       "1                    98400                       31.0  \n",
       "2                   230700                       26.0  \n",
       "3                   137400                       25.0  \n",
       "4                   288300                       31.0  \n",
       "...                    ...                        ...  \n",
       "1397                952800                       30.0  \n",
       "1398                132200                       35.0  \n",
       "1399                946400                       22.0  \n",
       "1400                232300                        8.0  \n",
       "1401                238900                        8.0  \n",
       "\n",
       "[1402 rows x 13 columns]"
      ]
     },
     "execution_count": 7,
     "metadata": {},
     "output_type": "execute_result"
    }
   ],
   "source": [
    "df_qgrid.get_changed_df()\n",
    "\n",
    "# If you change the data in qgrid_excel above, do save it as\n",
    "# df = df_qgrid.get_changed_df()"
   ]
  },
  {
   "cell_type": "code",
   "execution_count": 8,
   "metadata": {
    "ExecuteTime": {
     "end_time": "2020-08-16T06:41:55.649862Z",
     "start_time": "2020-08-16T06:41:55.636899Z"
    }
   },
   "outputs": [],
   "source": [
    "# After firstly scaling and screening the data, we use pandas_profiling package to check the data deeply.\n",
    "# Then we'll decide what to do next. \n",
    "# Please activate the following code when you run this project at first time.\n",
    "\n",
    "# df.profile_report()"
   ]
  },
  {
   "cell_type": "code",
   "execution_count": 9,
   "metadata": {
    "ExecuteTime": {
     "end_time": "2020-08-16T06:42:23.912156Z",
     "start_time": "2020-08-16T06:41:55.663825Z"
    }
   },
   "outputs": [
    {
     "data": {
      "application/vnd.jupyter.widget-view+json": {
       "model_id": "f0a9bbfead1940d2b4d845d3f7126dff",
       "version_major": 2,
       "version_minor": 0
      },
      "text/plain": [
       "HBox(children=(FloatProgress(value=0.0, description='Summarize dataset', max=27.0, style=ProgressStyle(descrip…"
      ]
     },
     "metadata": {},
     "output_type": "display_data"
    },
    {
     "name": "stdout",
     "output_type": "stream",
     "text": [
      "\n"
     ]
    },
    {
     "data": {
      "application/vnd.jupyter.widget-view+json": {
       "model_id": "4ba457726b2e4c3b9a52d697c11a3c35",
       "version_major": 2,
       "version_minor": 0
      },
      "text/plain": [
       "HBox(children=(FloatProgress(value=0.0, description='Generate report structure', max=1.0, style=ProgressStyle(…"
      ]
     },
     "metadata": {},
     "output_type": "display_data"
    },
    {
     "name": "stderr",
     "output_type": "stream",
     "text": [
      "C:\\Users\\langbo\\anaconda3\\lib\\site-packages\\pandas\\plotting\\_matplotlib\\converter.py:256: MatplotlibDeprecationWarning: \n",
      "The epoch2num function was deprecated in Matplotlib 3.3 and will be removed two minor releases later.\n",
      "  base = dates.epoch2num(dt.asi8 / 1.0e9)\n",
      "C:\\Users\\langbo\\anaconda3\\lib\\site-packages\\pandas_profiling\\visualisation\\plot.py:154: MatplotlibDeprecationWarning: You are modifying the state of a globally registered colormap. In future versions, you will not be able to modify a registered colormap in-place. To remove this warning, you can make a copy of the colormap first. cmap = copy.copy(mpl.cm.get_cmap(\"RdBu\"))\n",
      "  cmap.set_bad(cmap_bad)\n"
     ]
    },
    {
     "name": "stdout",
     "output_type": "stream",
     "text": [
      "\n"
     ]
    },
    {
     "data": {
      "application/vnd.jupyter.widget-view+json": {
       "model_id": "5214197e1a6548b5a13e9af063e562aa",
       "version_major": 2,
       "version_minor": 0
      },
      "text/plain": [
       "HBox(children=(FloatProgress(value=0.0, description='Render HTML', max=1.0, style=ProgressStyle(description_wi…"
      ]
     },
     "metadata": {},
     "output_type": "display_data"
    },
    {
     "name": "stdout",
     "output_type": "stream",
     "text": [
      "\n"
     ]
    },
    {
     "data": {
      "application/vnd.jupyter.widget-view+json": {
       "model_id": "aa51dec0c6994ac282853baa4a62c438",
       "version_major": 2,
       "version_minor": 0
      },
      "text/plain": [
       "HBox(children=(FloatProgress(value=0.0, description='Export report to file', max=1.0, style=ProgressStyle(desc…"
      ]
     },
     "metadata": {},
     "output_type": "display_data"
    },
    {
     "name": "stdout",
     "output_type": "stream",
     "text": [
      "\n"
     ]
    }
   ],
   "source": [
    "# By the way, exporting the data report is also possible, if you don't want to see it in jupyter.\n",
    "# profile = df.profile_report(title='Pandas Profiling Report')  \n",
    "# profile.to_file(\"Banking data profiling.html\")"
   ]
  },
  {
   "cell_type": "markdown",
   "metadata": {},
   "source": [
    "## Normal data exploration: similar steps in pandas"
   ]
  },
  {
   "cell_type": "markdown",
   "metadata": {},
   "source": [
    "Note that you can also implement the similar functions in pandas. But I just don't like it because it is too slow and usually not that professional.  \n",
    "If you have the same preference or you just want to excel this part and load back, just skip this 1.3 section.   "
   ]
  },
  {
   "cell_type": "code",
   "execution_count": 10,
   "metadata": {
    "ExecuteTime": {
     "end_time": "2020-08-16T06:42:23.941044Z",
     "start_time": "2020-08-16T06:42:23.918105Z"
    }
   },
   "outputs": [
    {
     "name": "stdout",
     "output_type": "stream",
     "text": [
      "<class 'pandas.core.frame.DataFrame'>\n",
      "RangeIndex: 1402 entries, 0 to 1401\n",
      "Data columns (total 13 columns):\n",
      " #   Column                     Non-Null Count  Dtype         \n",
      "---  ------                     --------------  -----         \n",
      " 0   Region                     1402 non-null   object        \n",
      " 1   Business                   1402 non-null   object        \n",
      " 2   Name                       1402 non-null   object        \n",
      " 3   Status                     1402 non-null   object        \n",
      " 4   Risk Category              1402 non-null   object        \n",
      " 5   Risk Sub-Category          1402 non-null   object        \n",
      " 6   Discovery Date             1402 non-null   datetime64[ns]\n",
      " 7   Occurrence Start Date      1402 non-null   datetime64[ns]\n",
      " 8   Year                       1402 non-null   int64         \n",
      " 9   Net Loss                   1402 non-null   float64       \n",
      " 10  Recovery Amount            1402 non-null   float64       \n",
      " 11  Estimated Gross Loss       1402 non-null   int64         \n",
      " 12  Recovery Amount (percent)  1402 non-null   float64       \n",
      "dtypes: datetime64[ns](2), float64(3), int64(2), object(6)\n",
      "memory usage: 142.5+ KB\n"
     ]
    }
   ],
   "source": [
    "df.info()"
   ]
  },
  {
   "cell_type": "markdown",
   "metadata": {},
   "source": [
    "Ooops, we have plenty of 'object' features, which means they contain text and cannot put into our model directly. We need to do some transformation accordingly.  \n",
    "\n",
    "Let's check the description statistics for numerical variables."
   ]
  },
  {
   "cell_type": "code",
   "execution_count": 11,
   "metadata": {
    "ExecuteTime": {
     "end_time": "2020-08-16T06:42:24.011855Z",
     "start_time": "2020-08-16T06:42:23.946030Z"
    }
   },
   "outputs": [
    {
     "data": {
      "text/html": [
       "<div>\n",
       "<style scoped>\n",
       "    .dataframe tbody tr th:only-of-type {\n",
       "        vertical-align: middle;\n",
       "    }\n",
       "\n",
       "    .dataframe tbody tr th {\n",
       "        vertical-align: top;\n",
       "    }\n",
       "\n",
       "    .dataframe thead th {\n",
       "        text-align: right;\n",
       "    }\n",
       "</style>\n",
       "<table border=\"1\" class=\"dataframe\">\n",
       "  <thead>\n",
       "    <tr style=\"text-align: right;\">\n",
       "      <th></th>\n",
       "      <th>Year</th>\n",
       "      <th>Net Loss</th>\n",
       "      <th>Recovery Amount</th>\n",
       "      <th>Estimated Gross Loss</th>\n",
       "      <th>Recovery Amount (percent)</th>\n",
       "    </tr>\n",
       "  </thead>\n",
       "  <tbody>\n",
       "    <tr>\n",
       "      <th>count</th>\n",
       "      <td>1402.000000</td>\n",
       "      <td>1.402000e+03</td>\n",
       "      <td>1.402000e+03</td>\n",
       "      <td>1.402000e+03</td>\n",
       "      <td>1402.000000</td>\n",
       "    </tr>\n",
       "    <tr>\n",
       "      <th>mean</th>\n",
       "      <td>2011.019971</td>\n",
       "      <td>3.618860e+05</td>\n",
       "      <td>1.026123e+05</td>\n",
       "      <td>3.716211e+05</td>\n",
       "      <td>29.596291</td>\n",
       "    </tr>\n",
       "    <tr>\n",
       "      <th>std</th>\n",
       "      <td>2.239009</td>\n",
       "      <td>1.102039e+06</td>\n",
       "      <td>2.885603e+05</td>\n",
       "      <td>1.108328e+06</td>\n",
       "      <td>6.483356</td>\n",
       "    </tr>\n",
       "    <tr>\n",
       "      <th>min</th>\n",
       "      <td>2007.000000</td>\n",
       "      <td>-4.993440e+03</td>\n",
       "      <td>-1.947442e+03</td>\n",
       "      <td>-7.700000e+03</td>\n",
       "      <td>5.000000</td>\n",
       "    </tr>\n",
       "    <tr>\n",
       "      <th>25%</th>\n",
       "      <td>2009.000000</td>\n",
       "      <td>8.569924e+04</td>\n",
       "      <td>2.371198e+04</td>\n",
       "      <td>9.130000e+04</td>\n",
       "      <td>25.000000</td>\n",
       "    </tr>\n",
       "    <tr>\n",
       "      <th>50%</th>\n",
       "      <td>2011.000000</td>\n",
       "      <td>1.735251e+05</td>\n",
       "      <td>4.909423e+04</td>\n",
       "      <td>1.774000e+05</td>\n",
       "      <td>30.000000</td>\n",
       "    </tr>\n",
       "    <tr>\n",
       "      <th>75%</th>\n",
       "      <td>2013.000000</td>\n",
       "      <td>2.677119e+05</td>\n",
       "      <td>8.375998e+04</td>\n",
       "      <td>2.753000e+05</td>\n",
       "      <td>35.000000</td>\n",
       "    </tr>\n",
       "    <tr>\n",
       "      <th>max</th>\n",
       "      <td>2014.000000</td>\n",
       "      <td>1.168786e+07</td>\n",
       "      <td>3.774000e+06</td>\n",
       "      <td>1.169800e+07</td>\n",
       "      <td>40.000000</td>\n",
       "    </tr>\n",
       "  </tbody>\n",
       "</table>\n",
       "</div>"
      ],
      "text/plain": [
       "              Year      Net Loss  Recovery Amount  Estimated Gross Loss  \\\n",
       "count  1402.000000  1.402000e+03     1.402000e+03          1.402000e+03   \n",
       "mean   2011.019971  3.618860e+05     1.026123e+05          3.716211e+05   \n",
       "std       2.239009  1.102039e+06     2.885603e+05          1.108328e+06   \n",
       "min    2007.000000 -4.993440e+03    -1.947442e+03         -7.700000e+03   \n",
       "25%    2009.000000  8.569924e+04     2.371198e+04          9.130000e+04   \n",
       "50%    2011.000000  1.735251e+05     4.909423e+04          1.774000e+05   \n",
       "75%    2013.000000  2.677119e+05     8.375998e+04          2.753000e+05   \n",
       "max    2014.000000  1.168786e+07     3.774000e+06          1.169800e+07   \n",
       "\n",
       "       Recovery Amount (percent)  \n",
       "count                1402.000000  \n",
       "mean                   29.596291  \n",
       "std                     6.483356  \n",
       "min                     5.000000  \n",
       "25%                    25.000000  \n",
       "50%                    30.000000  \n",
       "75%                    35.000000  \n",
       "max                    40.000000  "
      ]
     },
     "execution_count": 11,
     "metadata": {},
     "output_type": "execute_result"
    }
   ],
   "source": [
    "df.describe()"
   ]
  },
  {
   "cell_type": "code",
   "execution_count": 12,
   "metadata": {
    "ExecuteTime": {
     "end_time": "2020-08-16T06:42:26.169520Z",
     "start_time": "2020-08-16T06:42:24.016842Z"
    }
   },
   "outputs": [
    {
     "data": {
      "text/plain": [
       "array([[<AxesSubplot:title={'center':'Estimated Gross Loss'}>,\n",
       "        <AxesSubplot:title={'center':'Net Loss'}>],\n",
       "       [<AxesSubplot:title={'center':'Recovery Amount'}>,\n",
       "        <AxesSubplot:title={'center':'Recovery Amount (percent)'}>],\n",
       "       [<AxesSubplot:title={'center':'Year'}>, <AxesSubplot:>]],\n",
       "      dtype=object)"
      ]
     },
     "execution_count": 12,
     "metadata": {},
     "output_type": "execute_result"
    },
    {
     "data": {
      "image/png": "[encoded data removed]",
      "text/plain": [
       "<Figure size 576x396 with 6 Axes>"
      ]
     },
     "metadata": {},
     "output_type": "display_data"
    }
   ],
   "source": [
    "df.hist()\n",
    "# only provides the bar charts for all numerical features in data "
   ]
  },
  {
   "cell_type": "code",
   "execution_count": 13,
   "metadata": {
    "ExecuteTime": {
     "end_time": "2020-08-16T06:42:26.188437Z",
     "start_time": "2020-08-16T06:42:26.175472Z"
    }
   },
   "outputs": [
    {
     "data": {
      "text/plain": [
       "array(['EMEA', 'North America', 'Asia Pac'], dtype=object)"
      ]
     },
     "execution_count": 13,
     "metadata": {},
     "output_type": "execute_result"
    }
   ],
   "source": [
    "df['Region'].unique()\n",
    "# For catagorical feature, check how much catagories it has. "
   ]
  },
  {
   "cell_type": "code",
   "execution_count": 14,
   "metadata": {
    "ExecuteTime": {
     "end_time": "2020-08-16T06:42:26.249277Z",
     "start_time": "2020-08-16T06:42:26.193424Z"
    }
   },
   "outputs": [
    {
     "name": "stdout",
     "output_type": "stream",
     "text": [
      "0       296555.27\n",
      "1        87472.47\n",
      "2       229395.38\n",
      "3       137925.29\n",
      "4       292160.41\n",
      "          ...    \n",
      "1397    952743.86\n",
      "1398    122813.21\n",
      "1399    949052.11\n",
      "1400    230710.76\n",
      "1401    240558.72\n",
      "Name: Net Loss, Length: 1402, dtype: float64\n",
      "       Net Loss\n",
      "0     296555.27\n",
      "1      87472.47\n",
      "2     229395.38\n",
      "3     137925.29\n",
      "4     292160.41\n",
      "...         ...\n",
      "1397  952743.86\n",
      "1398  122813.21\n",
      "1399  949052.11\n",
      "1400  230710.76\n",
      "1401  240558.72\n",
      "\n",
      "[1402 rows x 1 columns]\n",
      "    Year Occurrence Start Date\n",
      "0   2007            2007-01-02\n",
      "1   2007            2007-01-05\n",
      "2   2007            2007-01-06\n",
      "3   2007            2007-01-11\n",
      "4   2007            2007-01-14\n",
      "..   ...                   ...\n",
      "95  2007            2007-10-07\n",
      "96  2007            2007-10-08\n",
      "97  2007            2007-10-13\n",
      "98  2007            2007-10-15\n",
      "99  2007            2007-10-18\n",
      "\n",
      "[100 rows x 2 columns]\n"
     ]
    },
    {
     "data": {
      "text/html": [
       "<div>\n",
       "<style scoped>\n",
       "    .dataframe tbody tr th:only-of-type {\n",
       "        vertical-align: middle;\n",
       "    }\n",
       "\n",
       "    .dataframe tbody tr th {\n",
       "        vertical-align: top;\n",
       "    }\n",
       "\n",
       "    .dataframe thead th {\n",
       "        text-align: right;\n",
       "    }\n",
       "</style>\n",
       "<table border=\"1\" class=\"dataframe\">\n",
       "  <thead>\n",
       "    <tr style=\"text-align: right;\">\n",
       "      <th></th>\n",
       "      <th>Occurrence Start Date</th>\n",
       "      <th>Year</th>\n",
       "    </tr>\n",
       "  </thead>\n",
       "  <tbody>\n",
       "    <tr>\n",
       "      <th>0</th>\n",
       "      <td>2007-01-02</td>\n",
       "      <td>2007</td>\n",
       "    </tr>\n",
       "    <tr>\n",
       "      <th>1</th>\n",
       "      <td>2007-01-05</td>\n",
       "      <td>2007</td>\n",
       "    </tr>\n",
       "    <tr>\n",
       "      <th>2</th>\n",
       "      <td>2007-01-06</td>\n",
       "      <td>2007</td>\n",
       "    </tr>\n",
       "    <tr>\n",
       "      <th>3</th>\n",
       "      <td>2007-01-11</td>\n",
       "      <td>2007</td>\n",
       "    </tr>\n",
       "    <tr>\n",
       "      <th>4</th>\n",
       "      <td>2007-01-14</td>\n",
       "      <td>2007</td>\n",
       "    </tr>\n",
       "    <tr>\n",
       "      <th>...</th>\n",
       "      <td>...</td>\n",
       "      <td>...</td>\n",
       "    </tr>\n",
       "    <tr>\n",
       "      <th>95</th>\n",
       "      <td>2007-10-07</td>\n",
       "      <td>2007</td>\n",
       "    </tr>\n",
       "    <tr>\n",
       "      <th>96</th>\n",
       "      <td>2007-10-08</td>\n",
       "      <td>2007</td>\n",
       "    </tr>\n",
       "    <tr>\n",
       "      <th>97</th>\n",
       "      <td>2007-10-13</td>\n",
       "      <td>2007</td>\n",
       "    </tr>\n",
       "    <tr>\n",
       "      <th>98</th>\n",
       "      <td>2007-10-15</td>\n",
       "      <td>2007</td>\n",
       "    </tr>\n",
       "    <tr>\n",
       "      <th>99</th>\n",
       "      <td>2007-10-18</td>\n",
       "      <td>2007</td>\n",
       "    </tr>\n",
       "  </tbody>\n",
       "</table>\n",
       "<p>100 rows × 2 columns</p>\n",
       "</div>"
      ],
      "text/plain": [
       "   Occurrence Start Date  Year\n",
       "0             2007-01-02  2007\n",
       "1             2007-01-05  2007\n",
       "2             2007-01-06  2007\n",
       "3             2007-01-11  2007\n",
       "4             2007-01-14  2007\n",
       "..                   ...   ...\n",
       "95            2007-10-07  2007\n",
       "96            2007-10-08  2007\n",
       "97            2007-10-13  2007\n",
       "98            2007-10-15  2007\n",
       "99            2007-10-18  2007\n",
       "\n",
       "[100 rows x 2 columns]"
      ]
     },
     "execution_count": 14,
     "metadata": {},
     "output_type": "execute_result"
    }
   ],
   "source": [
    "# Other basic operations \n",
    "\n",
    "# Select the column 'Net Loss' with Series type\n",
    "print(df['Net Loss'])\n",
    "# Select the column 'Net Loss' with DataFrame type\n",
    "print(df[['Net Loss']])\n",
    "# Choose two columns with DataFrame type. Please note that there must be two square brackets\n",
    "df[['Net Loss','Recovery Amount']]\n",
    "# The column order will be returned according to the input order,\n",
    "# you can change the column order via this code:\n",
    "df1 = df[['Year', 'Occurrence Start Date']]\n",
    "# Quickly select multiple rows (note that single row selection is not supported):\n",
    "print(df1[:100])\n",
    "# You can combine these method\n",
    "df1[['Occurrence Start Date','Year']][:100]"
   ]
  },
  {
   "cell_type": "markdown",
   "metadata": {},
   "source": [
    "   "
   ]
  },
  {
   "cell_type": "markdown",
   "metadata": {},
   "source": [
    "# Data Preprocessing\n",
    "\n",
    "Normal steps:\n",
    "\n",
    "1. Dealing with missing data\n",
    "    - Identifying missing values in tabular data\n",
    "    - Eliminating samples or features with missing values\n",
    "    - Imputing missing values\n",
    "    - Understanding the scikit-learn estimator API  \n",
    "  \n",
    "  \n",
    "2. Handling categorical data]\n",
    "    - Nominal and ordinal features\n",
    "    - Mapping ordinal features\n",
    "    - Encoding class labels\n",
    "    - Performing one-hot encoding on nominal features\n",
    "  \n",
    "   \n",
    "3. Partitioning a dataset into a separate training and test set  \n",
    "\n",
    "  \n",
    "4. Bringing features onto the same scale\n",
    "  \n",
    "  \n",
    "5. Selecting meaningful features\n",
    "    - L1 and L2 regularization as penalties against model complexity]\n",
    "    - A geometric interpretation of L2 regularization\n",
    "    - Sparse solutions with L1 regularization\n",
    "    - Sequential feature selection algorithms\n",
    "   \n",
    "   \n",
    "   \n",
    "6. Assessing feature importance with Random Forests"
   ]
  },
  {
   "cell_type": "markdown",
   "metadata": {},
   "source": [
    "## Artificial preprocessing"
   ]
  },
  {
   "cell_type": "markdown",
   "metadata": {},
   "source": [
    "Let's go back to our data_profile report. We are gonna solve the question listed here one by one.  \n",
    "We recommend you to spend at least 3 minutes in this report, because this step contains too many objective factors and crucial for the accuracy and interpretability of the final model."
   ]
  },
  {
   "cell_type": "code",
   "execution_count": 15,
   "metadata": {
    "ExecuteTime": {
     "end_time": "2020-08-16T06:42:26.272212Z",
     "start_time": "2020-08-16T06:42:26.255258Z"
    },
    "scrolled": false
   },
   "outputs": [
    {
     "data": {
      "text/html": [
       "\n",
       "        <iframe\n",
       "            width=\"800\"\n",
       "            height=\"450\"\n",
       "            src=\"Banking data profiling.html\"\n",
       "            frameborder=\"0\"\n",
       "            allowfullscreen\n",
       "        ></iframe>\n",
       "        "
      ],
      "text/plain": [
       "<IPython.lib.display.IFrame at 0x24b04015b88>"
      ]
     },
     "execution_count": 15,
     "metadata": {},
     "output_type": "execute_result"
    }
   ],
   "source": [
    "from IPython.display import IFrame\n",
    "IFrame('Banking data profiling.html', width=800, height=450)"
   ]
  },
  {
   "cell_type": "markdown",
   "metadata": {},
   "source": [
    "Our data contains 13 features, 6 are categories, 5 are numbers, 2 are dates. The report gives us some warnings. Now let's analyze these problems.  \n",
    "  \n",
    "1. Our data has no missing values, which means we don't need to `df.fillna()`. It is the only good news.  \n",
    "\n",
    "   \n",
    "2. There exists one duplicate row. After checking background we are convinced that we should delete this data. We can use `df.drop_duplicates` to carry out.  \n",
    "\n",
    "    \n",
    "3. You can see the high correlation between two groups of variables:`Recovery Amount + Net Loss + Estimated Gross Loss`, `Risk Sub-Category + Risk Category`.  We should check them and decide to easily delete or use some dimension reduction method(PCA, Lasso, etc) here.    \n",
    "    \n",
    "    Note: We must avoid pure collinearity in y variable. Although X features' multicollinearity is allowed in particular machine learning models, it is always a dominate strategy to treat them beforehand. Here we don't have a large set of features, so we can just simply delete some of them instead of using feature engineering methods.   \n",
    "  \n",
    "  \n",
    "4. `Name` has a high cardinality. If some category features have too many categories, it is very difficult to get one-hot coding(transfer to multiple 01 variables) later. \n",
    "   \n",
    "   `Name` here is an unstructured data. We can just waive it, or try something else objectively. \n",
    "  \n",
    "   \n",
    "5. For date_time features, usually we need to check if it's better to subtract them and extract the useful time length. You can recheck in `qgrid` table. Here the data labels are Discover Date and Occurrence Start Date. Also notice that we've already had the `Year` feature. So it is necessary to make a concrete analysis based on the facts of background and data.   \n",
    "  \n",
    "  \n",
    "6. For continuous numerical features, we can still do some transformation here. If you want to make your model more robust, you can conduct discretization and get category features. Also, you can make up some objective feature with strong intuition meaning or good performance. We don't need this step here."
   ]
  },
  {
   "cell_type": "code",
   "execution_count": 16,
   "metadata": {
    "ExecuteTime": {
     "end_time": "2020-08-16T06:42:26.362674Z",
     "start_time": "2020-08-16T06:42:26.279194Z"
    }
   },
   "outputs": [
    {
     "name": "stderr",
     "output_type": "stream",
     "text": [
      "C:\\Users\\langbo\\anaconda3\\lib\\site-packages\\ipykernel_launcher.py:6: SettingWithCopyWarning: \n",
      "A value is trying to be set on a copy of a slice from a DataFrame.\n",
      "Try using .loc[row_indexer,col_indexer] = value instead\n",
      "\n",
      "See the caveats in the documentation: https://pandas.pydata.org/pandas-docs/stable/user_guide/indexing.html#returning-a-view-versus-a-copy\n",
      "  \n"
     ]
    },
    {
     "data": {
      "text/html": [
       "<div>\n",
       "<style scoped>\n",
       "    .dataframe tbody tr th:only-of-type {\n",
       "        vertical-align: middle;\n",
       "    }\n",
       "\n",
       "    .dataframe tbody tr th {\n",
       "        vertical-align: top;\n",
       "    }\n",
       "\n",
       "    .dataframe thead th {\n",
       "        text-align: right;\n",
       "    }\n",
       "</style>\n",
       "<table border=\"1\" class=\"dataframe\">\n",
       "  <thead>\n",
       "    <tr style=\"text-align: right;\">\n",
       "      <th></th>\n",
       "      <th>Region</th>\n",
       "      <th>Business</th>\n",
       "      <th>Name</th>\n",
       "      <th>Status</th>\n",
       "      <th>Risk Category</th>\n",
       "      <th>Risk Sub-Category</th>\n",
       "      <th>Discovery Date</th>\n",
       "      <th>Occurrence Start Date</th>\n",
       "      <th>Year</th>\n",
       "      <th>Net Loss</th>\n",
       "      <th>Recovery Amount</th>\n",
       "      <th>Estimated Gross Loss</th>\n",
       "      <th>Recovery Amount (percent)</th>\n",
       "    </tr>\n",
       "    <tr>\n",
       "      <th>index</th>\n",
       "      <th></th>\n",
       "      <th></th>\n",
       "      <th></th>\n",
       "      <th></th>\n",
       "      <th></th>\n",
       "      <th></th>\n",
       "      <th></th>\n",
       "      <th></th>\n",
       "      <th></th>\n",
       "      <th></th>\n",
       "      <th></th>\n",
       "      <th></th>\n",
       "      <th></th>\n",
       "    </tr>\n",
       "  </thead>\n",
       "  <tbody>\n",
       "    <tr>\n",
       "      <th>0</th>\n",
       "      <td>EMEA</td>\n",
       "      <td>Retail Brokerage</td>\n",
       "      <td>LE−06−2</td>\n",
       "      <td>Under Review</td>\n",
       "      <td>Clients, Products and Business Practices</td>\n",
       "      <td>Product Flaws</td>\n",
       "      <td>2007-01-01</td>\n",
       "      <td>2007-01-02</td>\n",
       "      <td>2007</td>\n",
       "      <td>296555.27</td>\n",
       "      <td>83035.4756</td>\n",
       "      <td>291100</td>\n",
       "      <td>28.0</td>\n",
       "    </tr>\n",
       "    <tr>\n",
       "      <th>1</th>\n",
       "      <td>North America</td>\n",
       "      <td>Retail Banking</td>\n",
       "      <td>LE−06−3</td>\n",
       "      <td>Approved</td>\n",
       "      <td>Execution, Delivery and Process Management</td>\n",
       "      <td>Trade Counterparties</td>\n",
       "      <td>2007-01-03</td>\n",
       "      <td>2007-01-05</td>\n",
       "      <td>2007</td>\n",
       "      <td>87472.47</td>\n",
       "      <td>27116.4657</td>\n",
       "      <td>98400</td>\n",
       "      <td>31.0</td>\n",
       "    </tr>\n",
       "    <tr>\n",
       "      <th>2</th>\n",
       "      <td>Asia Pac</td>\n",
       "      <td>Retail Brokerage</td>\n",
       "      <td>LE−06−4</td>\n",
       "      <td>Not Started</td>\n",
       "      <td>Clients, Products and Business Practices</td>\n",
       "      <td>Advisory Activities</td>\n",
       "      <td>2007-01-04</td>\n",
       "      <td>2007-01-06</td>\n",
       "      <td>2007</td>\n",
       "      <td>229395.38</td>\n",
       "      <td>59642.7988</td>\n",
       "      <td>230700</td>\n",
       "      <td>26.0</td>\n",
       "    </tr>\n",
       "    <tr>\n",
       "      <th>3</th>\n",
       "      <td>EMEA</td>\n",
       "      <td>Retail Banking</td>\n",
       "      <td>LE−06−5</td>\n",
       "      <td>In Progress</td>\n",
       "      <td>Clients, Products and Business Practices</td>\n",
       "      <td>Product Flaws</td>\n",
       "      <td>2007-01-08</td>\n",
       "      <td>2007-01-11</td>\n",
       "      <td>2007</td>\n",
       "      <td>137925.29</td>\n",
       "      <td>34481.3225</td>\n",
       "      <td>137400</td>\n",
       "      <td>25.0</td>\n",
       "    </tr>\n",
       "    <tr>\n",
       "      <th>4</th>\n",
       "      <td>North America</td>\n",
       "      <td>Trading and Sales</td>\n",
       "      <td>LE−06−6</td>\n",
       "      <td>Under Review</td>\n",
       "      <td>Execution, Delivery and Process Management</td>\n",
       "      <td>Reporting and Disclosure</td>\n",
       "      <td>2007-01-12</td>\n",
       "      <td>2007-01-14</td>\n",
       "      <td>2007</td>\n",
       "      <td>292160.41</td>\n",
       "      <td>90569.7271</td>\n",
       "      <td>288300</td>\n",
       "      <td>31.0</td>\n",
       "    </tr>\n",
       "    <tr>\n",
       "      <th>...</th>\n",
       "      <td>...</td>\n",
       "      <td>...</td>\n",
       "      <td>...</td>\n",
       "      <td>...</td>\n",
       "      <td>...</td>\n",
       "      <td>...</td>\n",
       "      <td>...</td>\n",
       "      <td>...</td>\n",
       "      <td>...</td>\n",
       "      <td>...</td>\n",
       "      <td>...</td>\n",
       "      <td>...</td>\n",
       "      <td>...</td>\n",
       "    </tr>\n",
       "    <tr>\n",
       "      <th>1396</th>\n",
       "      <td>EMEA</td>\n",
       "      <td>Trading and Sales</td>\n",
       "      <td>z-LE-385</td>\n",
       "      <td>Under Review</td>\n",
       "      <td>Execution, Delivery and Process Management</td>\n",
       "      <td>Vendors and Suppliers</td>\n",
       "      <td>2013-11-15</td>\n",
       "      <td>2013-11-17</td>\n",
       "      <td>2013</td>\n",
       "      <td>952743.86</td>\n",
       "      <td>285823.1580</td>\n",
       "      <td>952800</td>\n",
       "      <td>30.0</td>\n",
       "    </tr>\n",
       "    <tr>\n",
       "      <th>1397</th>\n",
       "      <td>EMEA</td>\n",
       "      <td>Trading and Sales</td>\n",
       "      <td>z-LE-538</td>\n",
       "      <td>In Progress</td>\n",
       "      <td>Execution, Delivery and Process Management</td>\n",
       "      <td>Vendors and Suppliers</td>\n",
       "      <td>2014-01-24</td>\n",
       "      <td>2014-01-25</td>\n",
       "      <td>2014</td>\n",
       "      <td>122813.21</td>\n",
       "      <td>42984.6235</td>\n",
       "      <td>132200</td>\n",
       "      <td>35.0</td>\n",
       "    </tr>\n",
       "    <tr>\n",
       "      <th>1398</th>\n",
       "      <td>North America</td>\n",
       "      <td>Trading and Sales</td>\n",
       "      <td>z-LE-567</td>\n",
       "      <td>Not Started</td>\n",
       "      <td>Execution, Delivery and Process Management</td>\n",
       "      <td>Vendors and Suppliers</td>\n",
       "      <td>2014-03-23</td>\n",
       "      <td>2014-03-26</td>\n",
       "      <td>2014</td>\n",
       "      <td>949052.11</td>\n",
       "      <td>208791.4642</td>\n",
       "      <td>946400</td>\n",
       "      <td>22.0</td>\n",
       "    </tr>\n",
       "    <tr>\n",
       "      <th>1399</th>\n",
       "      <td>Asia Pac</td>\n",
       "      <td>Retail Banking</td>\n",
       "      <td>z-LE-600</td>\n",
       "      <td>Rejected</td>\n",
       "      <td>Execution, Delivery and Process Management</td>\n",
       "      <td>Vendors and Suppliers</td>\n",
       "      <td>2014-06-19</td>\n",
       "      <td>2014-06-20</td>\n",
       "      <td>2014</td>\n",
       "      <td>230710.76</td>\n",
       "      <td>18456.8608</td>\n",
       "      <td>232300</td>\n",
       "      <td>8.0</td>\n",
       "    </tr>\n",
       "    <tr>\n",
       "      <th>1400</th>\n",
       "      <td>North America</td>\n",
       "      <td>Retail Banking</td>\n",
       "      <td>z-LE-638</td>\n",
       "      <td>Rejected</td>\n",
       "      <td>Execution, Delivery and Process Management</td>\n",
       "      <td>Vendors and Suppliers</td>\n",
       "      <td>2014-10-04</td>\n",
       "      <td>2014-10-05</td>\n",
       "      <td>2014</td>\n",
       "      <td>240558.72</td>\n",
       "      <td>19244.6976</td>\n",
       "      <td>238900</td>\n",
       "      <td>8.0</td>\n",
       "    </tr>\n",
       "  </tbody>\n",
       "</table>\n",
       "<p>1401 rows × 13 columns</p>\n",
       "</div>"
      ],
      "text/plain": [
       "              Region           Business      Name        Status  \\\n",
       "index                                                             \n",
       "0               EMEA   Retail Brokerage   LE−06−2  Under Review   \n",
       "1      North America     Retail Banking   LE−06−3      Approved   \n",
       "2           Asia Pac   Retail Brokerage   LE−06−4   Not Started   \n",
       "3               EMEA     Retail Banking   LE−06−5   In Progress   \n",
       "4      North America  Trading and Sales   LE−06−6  Under Review   \n",
       "...              ...                ...       ...           ...   \n",
       "1396            EMEA  Trading and Sales  z-LE-385  Under Review   \n",
       "1397            EMEA  Trading and Sales  z-LE-538   In Progress   \n",
       "1398   North America  Trading and Sales  z-LE-567   Not Started   \n",
       "1399        Asia Pac     Retail Banking  z-LE-600      Rejected   \n",
       "1400   North America     Retail Banking  z-LE-638      Rejected   \n",
       "\n",
       "                                    Risk Category         Risk Sub-Category  \\\n",
       "index                                                                         \n",
       "0        Clients, Products and Business Practices             Product Flaws   \n",
       "1      Execution, Delivery and Process Management      Trade Counterparties   \n",
       "2        Clients, Products and Business Practices       Advisory Activities   \n",
       "3        Clients, Products and Business Practices             Product Flaws   \n",
       "4      Execution, Delivery and Process Management  Reporting and Disclosure   \n",
       "...                                           ...                       ...   \n",
       "1396   Execution, Delivery and Process Management     Vendors and Suppliers   \n",
       "1397   Execution, Delivery and Process Management     Vendors and Suppliers   \n",
       "1398   Execution, Delivery and Process Management     Vendors and Suppliers   \n",
       "1399   Execution, Delivery and Process Management     Vendors and Suppliers   \n",
       "1400   Execution, Delivery and Process Management     Vendors and Suppliers   \n",
       "\n",
       "      Discovery Date Occurrence Start Date  Year   Net Loss  Recovery Amount  \\\n",
       "index                                                                          \n",
       "0         2007-01-01            2007-01-02  2007  296555.27       83035.4756   \n",
       "1         2007-01-03            2007-01-05  2007   87472.47       27116.4657   \n",
       "2         2007-01-04            2007-01-06  2007  229395.38       59642.7988   \n",
       "3         2007-01-08            2007-01-11  2007  137925.29       34481.3225   \n",
       "4         2007-01-12            2007-01-14  2007  292160.41       90569.7271   \n",
       "...              ...                   ...   ...        ...              ...   \n",
       "1396      2013-11-15            2013-11-17  2013  952743.86      285823.1580   \n",
       "1397      2014-01-24            2014-01-25  2014  122813.21       42984.6235   \n",
       "1398      2014-03-23            2014-03-26  2014  949052.11      208791.4642   \n",
       "1399      2014-06-19            2014-06-20  2014  230710.76       18456.8608   \n",
       "1400      2014-10-04            2014-10-05  2014  240558.72       19244.6976   \n",
       "\n",
       "       Estimated Gross Loss  Recovery Amount (percent)  \n",
       "index                                                   \n",
       "0                    291100                       28.0  \n",
       "1                     98400                       31.0  \n",
       "2                    230700                       26.0  \n",
       "3                    137400                       25.0  \n",
       "4                    288300                       31.0  \n",
       "...                     ...                        ...  \n",
       "1396                 952800                       30.0  \n",
       "1397                 132200                       35.0  \n",
       "1398                 946400                       22.0  \n",
       "1399                 232300                        8.0  \n",
       "1400                 238900                        8.0  \n",
       "\n",
       "[1401 rows x 13 columns]"
      ]
     },
     "execution_count": 16,
     "metadata": {},
     "output_type": "execute_result"
    }
   ],
   "source": [
    "# 1. delete duplicate data\n",
    "\n",
    "df = df.drop_duplicates()\n",
    "# After you drop the data, remember to re-index to fill the blank.\n",
    "index = list(np.arange(len(df)))\n",
    "df['index'] = index\n",
    "df = df.sort_values(by=['index'], ascending=(True))\n",
    "df.set_index('index',inplace=True)\n",
    "df"
   ]
  },
  {
   "cell_type": "code",
   "execution_count": 17,
   "metadata": {
    "ExecuteTime": {
     "end_time": "2020-08-16T06:42:26.402569Z",
     "start_time": "2020-08-16T06:42:26.370652Z"
    },
    "scrolled": true
   },
   "outputs": [
    {
     "data": {
      "text/html": [
       "<div>\n",
       "<style scoped>\n",
       "    .dataframe tbody tr th:only-of-type {\n",
       "        vertical-align: middle;\n",
       "    }\n",
       "\n",
       "    .dataframe tbody tr th {\n",
       "        vertical-align: top;\n",
       "    }\n",
       "\n",
       "    .dataframe thead th {\n",
       "        text-align: right;\n",
       "    }\n",
       "</style>\n",
       "<table border=\"1\" class=\"dataframe\">\n",
       "  <thead>\n",
       "    <tr style=\"text-align: right;\">\n",
       "      <th></th>\n",
       "      <th>Year</th>\n",
       "      <th>Net Loss</th>\n",
       "      <th>Recovery Amount</th>\n",
       "      <th>Estimated Gross Loss</th>\n",
       "      <th>Recovery Amount (percent)</th>\n",
       "    </tr>\n",
       "  </thead>\n",
       "  <tbody>\n",
       "    <tr>\n",
       "      <th>Year</th>\n",
       "      <td>1.000000</td>\n",
       "      <td>-0.010876</td>\n",
       "      <td>-0.003261</td>\n",
       "      <td>-0.009090</td>\n",
       "      <td>0.023309</td>\n",
       "    </tr>\n",
       "    <tr>\n",
       "      <th>Net Loss</th>\n",
       "      <td>-0.010876</td>\n",
       "      <td>1.000000</td>\n",
       "      <td>0.965853</td>\n",
       "      <td>0.993862</td>\n",
       "      <td>-0.063420</td>\n",
       "    </tr>\n",
       "    <tr>\n",
       "      <th>Recovery Amount</th>\n",
       "      <td>-0.003261</td>\n",
       "      <td>0.965853</td>\n",
       "      <td>1.000000</td>\n",
       "      <td>0.959541</td>\n",
       "      <td>0.020560</td>\n",
       "    </tr>\n",
       "    <tr>\n",
       "      <th>Estimated Gross Loss</th>\n",
       "      <td>-0.009090</td>\n",
       "      <td>0.993862</td>\n",
       "      <td>0.959541</td>\n",
       "      <td>1.000000</td>\n",
       "      <td>-0.065719</td>\n",
       "    </tr>\n",
       "    <tr>\n",
       "      <th>Recovery Amount (percent)</th>\n",
       "      <td>0.023309</td>\n",
       "      <td>-0.063420</td>\n",
       "      <td>0.020560</td>\n",
       "      <td>-0.065719</td>\n",
       "      <td>1.000000</td>\n",
       "    </tr>\n",
       "  </tbody>\n",
       "</table>\n",
       "</div>"
      ],
      "text/plain": [
       "                               Year  Net Loss  Recovery Amount  \\\n",
       "Year                       1.000000 -0.010876        -0.003261   \n",
       "Net Loss                  -0.010876  1.000000         0.965853   \n",
       "Recovery Amount           -0.003261  0.965853         1.000000   \n",
       "Estimated Gross Loss      -0.009090  0.993862         0.959541   \n",
       "Recovery Amount (percent)  0.023309 -0.063420         0.020560   \n",
       "\n",
       "                           Estimated Gross Loss  Recovery Amount (percent)  \n",
       "Year                                  -0.009090                   0.023309  \n",
       "Net Loss                               0.993862                  -0.063420  \n",
       "Recovery Amount                        0.959541                   0.020560  \n",
       "Estimated Gross Loss                   1.000000                  -0.065719  \n",
       "Recovery Amount (percent)             -0.065719                   1.000000  "
      ]
     },
     "execution_count": 17,
     "metadata": {},
     "output_type": "execute_result"
    }
   ],
   "source": [
    "# 2. deal with collinearity in numerical method\n",
    "\n",
    "## 2.1 numerical features\n",
    "df.corr()"
   ]
  },
  {
   "cell_type": "code",
   "execution_count": 18,
   "metadata": {
    "ExecuteTime": {
     "end_time": "2020-08-16T06:42:26.452435Z",
     "start_time": "2020-08-16T06:42:26.407553Z"
    }
   },
   "outputs": [
    {
     "data": {
      "text/html": [
       "<div>\n",
       "<style scoped>\n",
       "    .dataframe tbody tr th:only-of-type {\n",
       "        vertical-align: middle;\n",
       "    }\n",
       "\n",
       "    .dataframe tbody tr th {\n",
       "        vertical-align: top;\n",
       "    }\n",
       "\n",
       "    .dataframe thead th {\n",
       "        text-align: right;\n",
       "    }\n",
       "</style>\n",
       "<table border=\"1\" class=\"dataframe\">\n",
       "  <thead>\n",
       "    <tr style=\"text-align: right;\">\n",
       "      <th></th>\n",
       "      <th>Region</th>\n",
       "      <th>Business</th>\n",
       "      <th>Name</th>\n",
       "      <th>Status</th>\n",
       "      <th>Risk Category</th>\n",
       "      <th>Risk Sub-Category</th>\n",
       "      <th>Discovery Date</th>\n",
       "      <th>Occurrence Start Date</th>\n",
       "      <th>Year</th>\n",
       "      <th>Net Loss</th>\n",
       "      <th>Recovery Amount (percent)</th>\n",
       "    </tr>\n",
       "    <tr>\n",
       "      <th>index</th>\n",
       "      <th></th>\n",
       "      <th></th>\n",
       "      <th></th>\n",
       "      <th></th>\n",
       "      <th></th>\n",
       "      <th></th>\n",
       "      <th></th>\n",
       "      <th></th>\n",
       "      <th></th>\n",
       "      <th></th>\n",
       "      <th></th>\n",
       "    </tr>\n",
       "  </thead>\n",
       "  <tbody>\n",
       "    <tr>\n",
       "      <th>0</th>\n",
       "      <td>EMEA</td>\n",
       "      <td>Retail Brokerage</td>\n",
       "      <td>LE−06−2</td>\n",
       "      <td>Under Review</td>\n",
       "      <td>Clients, Products and Business Practices</td>\n",
       "      <td>Product Flaws</td>\n",
       "      <td>2007-01-01</td>\n",
       "      <td>2007-01-02</td>\n",
       "      <td>2007</td>\n",
       "      <td>296555.27</td>\n",
       "      <td>28.0</td>\n",
       "    </tr>\n",
       "    <tr>\n",
       "      <th>1</th>\n",
       "      <td>North America</td>\n",
       "      <td>Retail Banking</td>\n",
       "      <td>LE−06−3</td>\n",
       "      <td>Approved</td>\n",
       "      <td>Execution, Delivery and Process Management</td>\n",
       "      <td>Trade Counterparties</td>\n",
       "      <td>2007-01-03</td>\n",
       "      <td>2007-01-05</td>\n",
       "      <td>2007</td>\n",
       "      <td>87472.47</td>\n",
       "      <td>31.0</td>\n",
       "    </tr>\n",
       "    <tr>\n",
       "      <th>2</th>\n",
       "      <td>Asia Pac</td>\n",
       "      <td>Retail Brokerage</td>\n",
       "      <td>LE−06−4</td>\n",
       "      <td>Not Started</td>\n",
       "      <td>Clients, Products and Business Practices</td>\n",
       "      <td>Advisory Activities</td>\n",
       "      <td>2007-01-04</td>\n",
       "      <td>2007-01-06</td>\n",
       "      <td>2007</td>\n",
       "      <td>229395.38</td>\n",
       "      <td>26.0</td>\n",
       "    </tr>\n",
       "    <tr>\n",
       "      <th>3</th>\n",
       "      <td>EMEA</td>\n",
       "      <td>Retail Banking</td>\n",
       "      <td>LE−06−5</td>\n",
       "      <td>In Progress</td>\n",
       "      <td>Clients, Products and Business Practices</td>\n",
       "      <td>Product Flaws</td>\n",
       "      <td>2007-01-08</td>\n",
       "      <td>2007-01-11</td>\n",
       "      <td>2007</td>\n",
       "      <td>137925.29</td>\n",
       "      <td>25.0</td>\n",
       "    </tr>\n",
       "    <tr>\n",
       "      <th>4</th>\n",
       "      <td>North America</td>\n",
       "      <td>Trading and Sales</td>\n",
       "      <td>LE−06−6</td>\n",
       "      <td>Under Review</td>\n",
       "      <td>Execution, Delivery and Process Management</td>\n",
       "      <td>Reporting and Disclosure</td>\n",
       "      <td>2007-01-12</td>\n",
       "      <td>2007-01-14</td>\n",
       "      <td>2007</td>\n",
       "      <td>292160.41</td>\n",
       "      <td>31.0</td>\n",
       "    </tr>\n",
       "  </tbody>\n",
       "</table>\n",
       "</div>"
      ],
      "text/plain": [
       "              Region           Business     Name        Status  \\\n",
       "index                                                            \n",
       "0               EMEA   Retail Brokerage  LE−06−2  Under Review   \n",
       "1      North America     Retail Banking  LE−06−3      Approved   \n",
       "2           Asia Pac   Retail Brokerage  LE−06−4   Not Started   \n",
       "3               EMEA     Retail Banking  LE−06−5   In Progress   \n",
       "4      North America  Trading and Sales  LE−06−6  Under Review   \n",
       "\n",
       "                                    Risk Category         Risk Sub-Category  \\\n",
       "index                                                                         \n",
       "0        Clients, Products and Business Practices             Product Flaws   \n",
       "1      Execution, Delivery and Process Management      Trade Counterparties   \n",
       "2        Clients, Products and Business Practices       Advisory Activities   \n",
       "3        Clients, Products and Business Practices             Product Flaws   \n",
       "4      Execution, Delivery and Process Management  Reporting and Disclosure   \n",
       "\n",
       "      Discovery Date Occurrence Start Date  Year   Net Loss  \\\n",
       "index                                                         \n",
       "0         2007-01-01            2007-01-02  2007  296555.27   \n",
       "1         2007-01-03            2007-01-05  2007   87472.47   \n",
       "2         2007-01-04            2007-01-06  2007  229395.38   \n",
       "3         2007-01-08            2007-01-11  2007  137925.29   \n",
       "4         2007-01-12            2007-01-14  2007  292160.41   \n",
       "\n",
       "       Recovery Amount (percent)  \n",
       "index                             \n",
       "0                           28.0  \n",
       "1                           31.0  \n",
       "2                           26.0  \n",
       "3                           25.0  \n",
       "4                           31.0  "
      ]
     },
     "execution_count": 18,
     "metadata": {},
     "output_type": "execute_result"
    }
   ],
   "source": [
    "# Note that the [Recovery Amount + Net Loss + Estimated Gross Loss + Recovery Amount (percent)] are all appropriate to be our y variable. \n",
    "# We just pick `Recovery Amount (percent)` here, because it is a ratio and usually more objective.\n",
    "# But we are also interested in the actual loss scale, so we just keep net loss in our data for further use. \n",
    "\n",
    "df = df.drop(columns=['Estimated Gross Loss','Recovery Amount'])\n",
    "df.head()\n",
    "# Successfully delete the two variables.\n",
    "# Note: A shortage of pandas, compared to excel, is that you have to be cautious that you always need to load back the operation to df."
   ]
  },
  {
   "cell_type": "code",
   "execution_count": 19,
   "metadata": {
    "ExecuteTime": {
     "end_time": "2020-08-16T06:42:26.541197Z",
     "start_time": "2020-08-16T06:42:26.457421Z"
    },
    "scrolled": true
   },
   "outputs": [
    {
     "name": "stderr",
     "output_type": "stream",
     "text": [
      "C:\\Users\\langbo\\anaconda3\\lib\\site-packages\\pandas\\io\\json\\_table_schema.py:82: UserWarning: Index name of 'index' is not round-trippable\n",
      "  warnings.warn(\"Index name of 'index' is not round-trippable\")\n"
     ]
    },
    {
     "data": {
      "application/vnd.jupyter.widget-view+json": {
       "model_id": "aa7d794dc5f2438b9786654dd563f9aa",
       "version_major": 2,
       "version_minor": 0
      },
      "text/plain": [
       "QgridWidget(grid_options={'fullWidthRows': True, 'syncColumnCellResize': True, 'forceFitColumns': True, 'defau…"
      ]
     },
     "metadata": {},
     "output_type": "display_data"
    }
   ],
   "source": [
    "## 2.2 categorical features\n",
    "df_sub = df[['Risk Category','Risk Sub-Category']]\n",
    "df_sub_qgrid = qgrid.show_grid(df_sub, show_toolbar=True)\n",
    "df_sub_qgrid\n",
    "# Let's play with it to see if we can conclude the pattern."
   ]
  },
  {
   "cell_type": "code",
   "execution_count": 20,
   "metadata": {
    "ExecuteTime": {
     "end_time": "2020-08-16T06:42:26.561142Z",
     "start_time": "2020-08-16T06:42:26.552181Z"
    }
   },
   "outputs": [],
   "source": [
    "# The Chi-Square Uniformity Test for these two category variables are high.\n",
    "# If you are doing some regression and want to keep the parameters' explanatory power, you should waive one of them.\n",
    "df_reg = df.drop(columns=['Risk Sub-Category'])\n",
    "# However, these two features are not perfectly correlated. As accurarcy is often better than everything in machine learning, we decide to keep them here."
   ]
  },
  {
   "cell_type": "code",
   "execution_count": 21,
   "metadata": {
    "ExecuteTime": {
     "end_time": "2020-08-16T06:42:26.598044Z",
     "start_time": "2020-08-16T06:42:26.568124Z"
    },
    "scrolled": true
   },
   "outputs": [
    {
     "data": {
      "text/plain": [
       "count    1401.000000\n",
       "mean       -2.320485\n",
       "std        80.899678\n",
       "min     -1887.000000\n",
       "25%         1.000000\n",
       "50%         2.000000\n",
       "75%         3.000000\n",
       "max       362.000000\n",
       "Name: timediff, dtype: float64"
      ]
     },
     "execution_count": 21,
     "metadata": {},
     "output_type": "execute_result"
    }
   ],
   "source": [
    "# 3. deal with time features\n",
    "\n",
    "df['timediff'] = (df['Occurrence Start Date'] - df['Discovery Date'])\n",
    "df['timediff'] = df['timediff'].astype('timedelta64[D]')\n",
    "df['timediff'].describe()"
   ]
  },
  {
   "cell_type": "code",
   "execution_count": 22,
   "metadata": {
    "ExecuteTime": {
     "end_time": "2020-08-16T06:42:26.642925Z",
     "start_time": "2020-08-16T06:42:26.610011Z"
    }
   },
   "outputs": [
    {
     "data": {
      "text/html": [
       "<div>\n",
       "<style scoped>\n",
       "    .dataframe tbody tr th:only-of-type {\n",
       "        vertical-align: middle;\n",
       "    }\n",
       "\n",
       "    .dataframe tbody tr th {\n",
       "        vertical-align: top;\n",
       "    }\n",
       "\n",
       "    .dataframe thead th {\n",
       "        text-align: right;\n",
       "    }\n",
       "</style>\n",
       "<table border=\"1\" class=\"dataframe\">\n",
       "  <thead>\n",
       "    <tr style=\"text-align: right;\">\n",
       "      <th></th>\n",
       "      <th>Year</th>\n",
       "      <th>Occurrence Start Date</th>\n",
       "    </tr>\n",
       "  </thead>\n",
       "  <tbody>\n",
       "    <tr>\n",
       "      <th>0</th>\n",
       "      <td>2007</td>\n",
       "      <td>2007-01-02</td>\n",
       "    </tr>\n",
       "    <tr>\n",
       "      <th>1</th>\n",
       "      <td>2007</td>\n",
       "      <td>2007-01-05</td>\n",
       "    </tr>\n",
       "    <tr>\n",
       "      <th>2</th>\n",
       "      <td>2007</td>\n",
       "      <td>2007-01-06</td>\n",
       "    </tr>\n",
       "    <tr>\n",
       "      <th>3</th>\n",
       "      <td>2007</td>\n",
       "      <td>2007-01-11</td>\n",
       "    </tr>\n",
       "    <tr>\n",
       "      <th>4</th>\n",
       "      <td>2007</td>\n",
       "      <td>2007-01-14</td>\n",
       "    </tr>\n",
       "  </tbody>\n",
       "</table>\n",
       "</div>"
      ],
      "text/plain": [
       "   Year Occurrence Start Date\n",
       "0  2007            2007-01-02\n",
       "1  2007            2007-01-05\n",
       "2  2007            2007-01-06\n",
       "3  2007            2007-01-11\n",
       "4  2007            2007-01-14"
      ]
     },
     "execution_count": 22,
     "metadata": {},
     "output_type": "execute_result"
    }
   ],
   "source": [
    "# In average, the bank will be able to discover the default occurence after 3 days. Sometimes bank can be clever to forecast ahead or super stupid.\n",
    "# Look at the ptcl, you'll find actually the majority of bank can figure out the default 1-3 days before it actually occurs.\n",
    "# It is a really interesting feature, so we decide to keep it and waive `Occurrence Start Date` accordingly.\n",
    "# We also keep the `Discovery Date` to check the stock variables.\n",
    "df = df.drop(columns='Occurrence Start Date')\n",
    "df['Discovery Date'] = df['Discovery Date'].values.astype('float')\n",
    "\n",
    "df1.head()"
   ]
  },
  {
   "cell_type": "code",
   "execution_count": 23,
   "metadata": {
    "ExecuteTime": {
     "end_time": "2020-08-16T06:42:26.735194Z",
     "start_time": "2020-08-16T06:42:26.650902Z"
    }
   },
   "outputs": [
    {
     "name": "stderr",
     "output_type": "stream",
     "text": [
      "C:\\Users\\langbo\\anaconda3\\lib\\site-packages\\pandas\\io\\json\\_table_schema.py:82: UserWarning: Index name of 'index' is not round-trippable\n",
      "  warnings.warn(\"Index name of 'index' is not round-trippable\")\n"
     ]
    },
    {
     "data": {
      "application/vnd.jupyter.widget-view+json": {
       "model_id": "be9707eea8394df6bd4ff58e7578179e",
       "version_major": 2,
       "version_minor": 0
      },
      "text/plain": [
       "QgridWidget(grid_options={'fullWidthRows': True, 'syncColumnCellResize': True, 'forceFitColumns': True, 'defau…"
      ]
     },
     "metadata": {},
     "output_type": "display_data"
    }
   ],
   "source": [
    "# 4. treat `Name` feature\n",
    "# Before we delete it, let's make sure if it contains some of important message:\n",
    "df_name = df[['Name']]\n",
    "qgrid.show_grid(df_name, show_toolbar=True)\n",
    "# Wait a second. It actually implied a binary classification: z-LE and LE-06.\n",
    "# It is better to extract this out and make use of it."
   ]
  },
  {
   "cell_type": "code",
   "execution_count": 24,
   "metadata": {
    "ExecuteTime": {
     "end_time": "2020-08-16T06:42:26.862368Z",
     "start_time": "2020-08-16T06:42:26.745167Z"
    }
   },
   "outputs": [
    {
     "data": {
      "text/html": [
       "<div>\n",
       "<style scoped>\n",
       "    .dataframe tbody tr th:only-of-type {\n",
       "        vertical-align: middle;\n",
       "    }\n",
       "\n",
       "    .dataframe tbody tr th {\n",
       "        vertical-align: top;\n",
       "    }\n",
       "\n",
       "    .dataframe thead th {\n",
       "        text-align: right;\n",
       "    }\n",
       "</style>\n",
       "<table border=\"1\" class=\"dataframe\">\n",
       "  <thead>\n",
       "    <tr style=\"text-align: right;\">\n",
       "      <th></th>\n",
       "      <th>Region</th>\n",
       "      <th>Business</th>\n",
       "      <th>Status</th>\n",
       "      <th>Risk Category</th>\n",
       "      <th>Risk Sub-Category</th>\n",
       "      <th>Discovery Date</th>\n",
       "      <th>Year</th>\n",
       "      <th>Net Loss</th>\n",
       "      <th>Recovery Amount (percent)</th>\n",
       "      <th>timediff</th>\n",
       "      <th>Name Class</th>\n",
       "    </tr>\n",
       "    <tr>\n",
       "      <th>index</th>\n",
       "      <th></th>\n",
       "      <th></th>\n",
       "      <th></th>\n",
       "      <th></th>\n",
       "      <th></th>\n",
       "      <th></th>\n",
       "      <th></th>\n",
       "      <th></th>\n",
       "      <th></th>\n",
       "      <th></th>\n",
       "      <th></th>\n",
       "    </tr>\n",
       "  </thead>\n",
       "  <tbody>\n",
       "    <tr>\n",
       "      <th>0</th>\n",
       "      <td>EMEA</td>\n",
       "      <td>Retail Brokerage</td>\n",
       "      <td>Under Review</td>\n",
       "      <td>Clients, Products and Business Practices</td>\n",
       "      <td>Product Flaws</td>\n",
       "      <td>1.167610e+18</td>\n",
       "      <td>2007</td>\n",
       "      <td>296555.27</td>\n",
       "      <td>28.0</td>\n",
       "      <td>1.0</td>\n",
       "      <td>0</td>\n",
       "    </tr>\n",
       "    <tr>\n",
       "      <th>1</th>\n",
       "      <td>North America</td>\n",
       "      <td>Retail Banking</td>\n",
       "      <td>Approved</td>\n",
       "      <td>Execution, Delivery and Process Management</td>\n",
       "      <td>Trade Counterparties</td>\n",
       "      <td>1.167782e+18</td>\n",
       "      <td>2007</td>\n",
       "      <td>87472.47</td>\n",
       "      <td>31.0</td>\n",
       "      <td>2.0</td>\n",
       "      <td>0</td>\n",
       "    </tr>\n",
       "    <tr>\n",
       "      <th>2</th>\n",
       "      <td>Asia Pac</td>\n",
       "      <td>Retail Brokerage</td>\n",
       "      <td>Not Started</td>\n",
       "      <td>Clients, Products and Business Practices</td>\n",
       "      <td>Advisory Activities</td>\n",
       "      <td>1.167869e+18</td>\n",
       "      <td>2007</td>\n",
       "      <td>229395.38</td>\n",
       "      <td>26.0</td>\n",
       "      <td>2.0</td>\n",
       "      <td>0</td>\n",
       "    </tr>\n",
       "    <tr>\n",
       "      <th>3</th>\n",
       "      <td>EMEA</td>\n",
       "      <td>Retail Banking</td>\n",
       "      <td>In Progress</td>\n",
       "      <td>Clients, Products and Business Practices</td>\n",
       "      <td>Product Flaws</td>\n",
       "      <td>1.168214e+18</td>\n",
       "      <td>2007</td>\n",
       "      <td>137925.29</td>\n",
       "      <td>25.0</td>\n",
       "      <td>3.0</td>\n",
       "      <td>0</td>\n",
       "    </tr>\n",
       "    <tr>\n",
       "      <th>4</th>\n",
       "      <td>North America</td>\n",
       "      <td>Trading and Sales</td>\n",
       "      <td>Under Review</td>\n",
       "      <td>Execution, Delivery and Process Management</td>\n",
       "      <td>Reporting and Disclosure</td>\n",
       "      <td>1.168560e+18</td>\n",
       "      <td>2007</td>\n",
       "      <td>292160.41</td>\n",
       "      <td>31.0</td>\n",
       "      <td>2.0</td>\n",
       "      <td>0</td>\n",
       "    </tr>\n",
       "    <tr>\n",
       "      <th>...</th>\n",
       "      <td>...</td>\n",
       "      <td>...</td>\n",
       "      <td>...</td>\n",
       "      <td>...</td>\n",
       "      <td>...</td>\n",
       "      <td>...</td>\n",
       "      <td>...</td>\n",
       "      <td>...</td>\n",
       "      <td>...</td>\n",
       "      <td>...</td>\n",
       "      <td>...</td>\n",
       "    </tr>\n",
       "    <tr>\n",
       "      <th>1396</th>\n",
       "      <td>EMEA</td>\n",
       "      <td>Trading and Sales</td>\n",
       "      <td>Under Review</td>\n",
       "      <td>Execution, Delivery and Process Management</td>\n",
       "      <td>Vendors and Suppliers</td>\n",
       "      <td>1.384474e+18</td>\n",
       "      <td>2013</td>\n",
       "      <td>952743.86</td>\n",
       "      <td>30.0</td>\n",
       "      <td>2.0</td>\n",
       "      <td>1</td>\n",
       "    </tr>\n",
       "    <tr>\n",
       "      <th>1397</th>\n",
       "      <td>EMEA</td>\n",
       "      <td>Trading and Sales</td>\n",
       "      <td>In Progress</td>\n",
       "      <td>Execution, Delivery and Process Management</td>\n",
       "      <td>Vendors and Suppliers</td>\n",
       "      <td>1.390522e+18</td>\n",
       "      <td>2014</td>\n",
       "      <td>122813.21</td>\n",
       "      <td>35.0</td>\n",
       "      <td>1.0</td>\n",
       "      <td>1</td>\n",
       "    </tr>\n",
       "    <tr>\n",
       "      <th>1398</th>\n",
       "      <td>North America</td>\n",
       "      <td>Trading and Sales</td>\n",
       "      <td>Not Started</td>\n",
       "      <td>Execution, Delivery and Process Management</td>\n",
       "      <td>Vendors and Suppliers</td>\n",
       "      <td>1.395533e+18</td>\n",
       "      <td>2014</td>\n",
       "      <td>949052.11</td>\n",
       "      <td>22.0</td>\n",
       "      <td>3.0</td>\n",
       "      <td>1</td>\n",
       "    </tr>\n",
       "    <tr>\n",
       "      <th>1399</th>\n",
       "      <td>Asia Pac</td>\n",
       "      <td>Retail Banking</td>\n",
       "      <td>Rejected</td>\n",
       "      <td>Execution, Delivery and Process Management</td>\n",
       "      <td>Vendors and Suppliers</td>\n",
       "      <td>1.403136e+18</td>\n",
       "      <td>2014</td>\n",
       "      <td>230710.76</td>\n",
       "      <td>8.0</td>\n",
       "      <td>1.0</td>\n",
       "      <td>1</td>\n",
       "    </tr>\n",
       "    <tr>\n",
       "      <th>1400</th>\n",
       "      <td>North America</td>\n",
       "      <td>Retail Banking</td>\n",
       "      <td>Rejected</td>\n",
       "      <td>Execution, Delivery and Process Management</td>\n",
       "      <td>Vendors and Suppliers</td>\n",
       "      <td>1.412381e+18</td>\n",
       "      <td>2014</td>\n",
       "      <td>240558.72</td>\n",
       "      <td>8.0</td>\n",
       "      <td>1.0</td>\n",
       "      <td>1</td>\n",
       "    </tr>\n",
       "  </tbody>\n",
       "</table>\n",
       "<p>1401 rows × 11 columns</p>\n",
       "</div>"
      ],
      "text/plain": [
       "              Region           Business        Status  \\\n",
       "index                                                   \n",
       "0               EMEA   Retail Brokerage  Under Review   \n",
       "1      North America     Retail Banking      Approved   \n",
       "2           Asia Pac   Retail Brokerage   Not Started   \n",
       "3               EMEA     Retail Banking   In Progress   \n",
       "4      North America  Trading and Sales  Under Review   \n",
       "...              ...                ...           ...   \n",
       "1396            EMEA  Trading and Sales  Under Review   \n",
       "1397            EMEA  Trading and Sales   In Progress   \n",
       "1398   North America  Trading and Sales   Not Started   \n",
       "1399        Asia Pac     Retail Banking      Rejected   \n",
       "1400   North America     Retail Banking      Rejected   \n",
       "\n",
       "                                    Risk Category         Risk Sub-Category  \\\n",
       "index                                                                         \n",
       "0        Clients, Products and Business Practices             Product Flaws   \n",
       "1      Execution, Delivery and Process Management      Trade Counterparties   \n",
       "2        Clients, Products and Business Practices       Advisory Activities   \n",
       "3        Clients, Products and Business Practices             Product Flaws   \n",
       "4      Execution, Delivery and Process Management  Reporting and Disclosure   \n",
       "...                                           ...                       ...   \n",
       "1396   Execution, Delivery and Process Management     Vendors and Suppliers   \n",
       "1397   Execution, Delivery and Process Management     Vendors and Suppliers   \n",
       "1398   Execution, Delivery and Process Management     Vendors and Suppliers   \n",
       "1399   Execution, Delivery and Process Management     Vendors and Suppliers   \n",
       "1400   Execution, Delivery and Process Management     Vendors and Suppliers   \n",
       "\n",
       "       Discovery Date  Year   Net Loss  Recovery Amount (percent)  timediff  \\\n",
       "index                                                                         \n",
       "0        1.167610e+18  2007  296555.27                       28.0       1.0   \n",
       "1        1.167782e+18  2007   87472.47                       31.0       2.0   \n",
       "2        1.167869e+18  2007  229395.38                       26.0       2.0   \n",
       "3        1.168214e+18  2007  137925.29                       25.0       3.0   \n",
       "4        1.168560e+18  2007  292160.41                       31.0       2.0   \n",
       "...               ...   ...        ...                        ...       ...   \n",
       "1396     1.384474e+18  2013  952743.86                       30.0       2.0   \n",
       "1397     1.390522e+18  2014  122813.21                       35.0       1.0   \n",
       "1398     1.395533e+18  2014  949052.11                       22.0       3.0   \n",
       "1399     1.403136e+18  2014  230710.76                        8.0       1.0   \n",
       "1400     1.412381e+18  2014  240558.72                        8.0       1.0   \n",
       "\n",
       "       Name Class  \n",
       "index              \n",
       "0               0  \n",
       "1               0  \n",
       "2               0  \n",
       "3               0  \n",
       "4               0  \n",
       "...           ...  \n",
       "1396            1  \n",
       "1397            1  \n",
       "1398            1  \n",
       "1399            1  \n",
       "1400            1  \n",
       "\n",
       "[1401 rows x 11 columns]"
      ]
     },
     "execution_count": 24,
     "metadata": {},
     "output_type": "execute_result"
    }
   ],
   "source": [
    "# df = (df['Name Class',ii] = 1 if 'LE-06' in df['Name'][ii] else 0)\n",
    "# But when you do element-wise operations, it is likely that you are converting the copy of df instead of the original df.\n",
    "# To avoid this bug, use an outside list to store the operations we made and input background afterwards \n",
    "# The following codes may look stupid, if you have better idea please share with me.\n",
    "\n",
    "name = []\n",
    "for ii in range(1401):\n",
    "    if ('z-LE' in df['Name'][ii]):\n",
    "        name.append(1)\n",
    "    else:\n",
    "        name.append(0)\n",
    "\n",
    "df['Name Class'] = name \n",
    "# 0:type LE-06     1:type z-LE \n",
    "df = df.drop(columns='Name')\n",
    "df"
   ]
  },
  {
   "cell_type": "markdown",
   "metadata": {},
   "source": [
    "After all the steps before, we eventually finish the objective steps in data preprocessing.   \n",
    "Now we can implement the routines, which will be very easy if you have basic knowledge."
   ]
  },
  {
   "cell_type": "markdown",
   "metadata": {},
   "source": [
    "## Routine preprocessing"
   ]
  },
  {
   "cell_type": "markdown",
   "metadata": {},
   "source": [
    "Here are some advice limited on my knowledge. I will be grateful if you can share better idea me via Dingtalk.\n",
    "\n",
    "1. For a categorical feature: if its rank (eg,0-5 score) make sense, then hold it. If not, such as the feature `Region` here, we will transfer them to multiple 0-1 dummy variables for every category inside through `pd.get_dummy` one-hot coding.  \n",
    "  \n",
    "  \n",
    "2. For numerical features: we will only do feature scaling here. Here we just `StandardScaler()` all the x features and let y alone. If you realize that you should make some useful factors, you should do it in `Artificial preprocessing` part based on your own understanding of the project.  \n",
    "  \n",
    "  \n",
    "3. Split the data to training/test set and prepare for ML algorithm. Skip this step if your data is already divided. \n",
    "  \n",
    "  \n",
    "4. Other methods.(We don't need them here)"
   ]
  },
  {
   "cell_type": "code",
   "execution_count": 25,
   "metadata": {
    "ExecuteTime": {
     "end_time": "2020-08-16T06:42:26.958627Z",
     "start_time": "2020-08-16T06:42:26.870346Z"
    }
   },
   "outputs": [
    {
     "data": {
      "text/html": [
       "<div>\n",
       "<style scoped>\n",
       "    .dataframe tbody tr th:only-of-type {\n",
       "        vertical-align: middle;\n",
       "    }\n",
       "\n",
       "    .dataframe tbody tr th {\n",
       "        vertical-align: top;\n",
       "    }\n",
       "\n",
       "    .dataframe thead th {\n",
       "        text-align: right;\n",
       "    }\n",
       "</style>\n",
       "<table border=\"1\" class=\"dataframe\">\n",
       "  <thead>\n",
       "    <tr style=\"text-align: right;\">\n",
       "      <th></th>\n",
       "      <th>Discovery Date</th>\n",
       "      <th>Year</th>\n",
       "      <th>Net Loss</th>\n",
       "      <th>Recovery Amount (percent)</th>\n",
       "      <th>timediff</th>\n",
       "      <th>Name Class</th>\n",
       "      <th>Region_Asia Pac</th>\n",
       "      <th>Region_EMEA</th>\n",
       "      <th>Region_North America</th>\n",
       "      <th>Business_Agency Services</th>\n",
       "      <th>...</th>\n",
       "      <th>Risk Sub-Category_Safe Environment</th>\n",
       "      <th>Risk Sub-Category_Selection, Sponsorship and Exposure</th>\n",
       "      <th>Risk Sub-Category_Suitability, Disclosures and Fiduciary</th>\n",
       "      <th>Risk Sub-Category_Systems Security</th>\n",
       "      <th>Risk Sub-Category_Theft and Fraud</th>\n",
       "      <th>Risk Sub-Category_Trade Counterparties</th>\n",
       "      <th>Risk Sub-Category_Transaction/Data Management</th>\n",
       "      <th>Risk Sub-Category_Unauthorized Activity</th>\n",
       "      <th>Risk Sub-Category_Vendors and Suppliers</th>\n",
       "      <th>Risk Sub-Category_Willful Damage</th>\n",
       "    </tr>\n",
       "    <tr>\n",
       "      <th>index</th>\n",
       "      <th></th>\n",
       "      <th></th>\n",
       "      <th></th>\n",
       "      <th></th>\n",
       "      <th></th>\n",
       "      <th></th>\n",
       "      <th></th>\n",
       "      <th></th>\n",
       "      <th></th>\n",
       "      <th></th>\n",
       "      <th></th>\n",
       "      <th></th>\n",
       "      <th></th>\n",
       "      <th></th>\n",
       "      <th></th>\n",
       "      <th></th>\n",
       "      <th></th>\n",
       "      <th></th>\n",
       "      <th></th>\n",
       "      <th></th>\n",
       "      <th></th>\n",
       "    </tr>\n",
       "  </thead>\n",
       "  <tbody>\n",
       "    <tr>\n",
       "      <th>0</th>\n",
       "      <td>1.167610e+18</td>\n",
       "      <td>2007</td>\n",
       "      <td>296555.27</td>\n",
       "      <td>28.0</td>\n",
       "      <td>1.0</td>\n",
       "      <td>0</td>\n",
       "      <td>0</td>\n",
       "      <td>1</td>\n",
       "      <td>0</td>\n",
       "      <td>0</td>\n",
       "      <td>...</td>\n",
       "      <td>0</td>\n",
       "      <td>0</td>\n",
       "      <td>0</td>\n",
       "      <td>0</td>\n",
       "      <td>0</td>\n",
       "      <td>0</td>\n",
       "      <td>0</td>\n",
       "      <td>0</td>\n",
       "      <td>0</td>\n",
       "      <td>0</td>\n",
       "    </tr>\n",
       "    <tr>\n",
       "      <th>1</th>\n",
       "      <td>1.167782e+18</td>\n",
       "      <td>2007</td>\n",
       "      <td>87472.47</td>\n",
       "      <td>31.0</td>\n",
       "      <td>2.0</td>\n",
       "      <td>0</td>\n",
       "      <td>0</td>\n",
       "      <td>0</td>\n",
       "      <td>1</td>\n",
       "      <td>0</td>\n",
       "      <td>...</td>\n",
       "      <td>0</td>\n",
       "      <td>0</td>\n",
       "      <td>0</td>\n",
       "      <td>0</td>\n",
       "      <td>0</td>\n",
       "      <td>1</td>\n",
       "      <td>0</td>\n",
       "      <td>0</td>\n",
       "      <td>0</td>\n",
       "      <td>0</td>\n",
       "    </tr>\n",
       "    <tr>\n",
       "      <th>2</th>\n",
       "      <td>1.167869e+18</td>\n",
       "      <td>2007</td>\n",
       "      <td>229395.38</td>\n",
       "      <td>26.0</td>\n",
       "      <td>2.0</td>\n",
       "      <td>0</td>\n",
       "      <td>1</td>\n",
       "      <td>0</td>\n",
       "      <td>0</td>\n",
       "      <td>0</td>\n",
       "      <td>...</td>\n",
       "      <td>0</td>\n",
       "      <td>0</td>\n",
       "      <td>0</td>\n",
       "      <td>0</td>\n",
       "      <td>0</td>\n",
       "      <td>0</td>\n",
       "      <td>0</td>\n",
       "      <td>0</td>\n",
       "      <td>0</td>\n",
       "      <td>0</td>\n",
       "    </tr>\n",
       "    <tr>\n",
       "      <th>3</th>\n",
       "      <td>1.168214e+18</td>\n",
       "      <td>2007</td>\n",
       "      <td>137925.29</td>\n",
       "      <td>25.0</td>\n",
       "      <td>3.0</td>\n",
       "      <td>0</td>\n",
       "      <td>0</td>\n",
       "      <td>1</td>\n",
       "      <td>0</td>\n",
       "      <td>0</td>\n",
       "      <td>...</td>\n",
       "      <td>0</td>\n",
       "      <td>0</td>\n",
       "      <td>0</td>\n",
       "      <td>0</td>\n",
       "      <td>0</td>\n",
       "      <td>0</td>\n",
       "      <td>0</td>\n",
       "      <td>0</td>\n",
       "      <td>0</td>\n",
       "      <td>0</td>\n",
       "    </tr>\n",
       "    <tr>\n",
       "      <th>4</th>\n",
       "      <td>1.168560e+18</td>\n",
       "      <td>2007</td>\n",
       "      <td>292160.41</td>\n",
       "      <td>31.0</td>\n",
       "      <td>2.0</td>\n",
       "      <td>0</td>\n",
       "      <td>0</td>\n",
       "      <td>0</td>\n",
       "      <td>1</td>\n",
       "      <td>0</td>\n",
       "      <td>...</td>\n",
       "      <td>0</td>\n",
       "      <td>0</td>\n",
       "      <td>0</td>\n",
       "      <td>0</td>\n",
       "      <td>0</td>\n",
       "      <td>0</td>\n",
       "      <td>0</td>\n",
       "      <td>0</td>\n",
       "      <td>0</td>\n",
       "      <td>0</td>\n",
       "    </tr>\n",
       "    <tr>\n",
       "      <th>...</th>\n",
       "      <td>...</td>\n",
       "      <td>...</td>\n",
       "      <td>...</td>\n",
       "      <td>...</td>\n",
       "      <td>...</td>\n",
       "      <td>...</td>\n",
       "      <td>...</td>\n",
       "      <td>...</td>\n",
       "      <td>...</td>\n",
       "      <td>...</td>\n",
       "      <td>...</td>\n",
       "      <td>...</td>\n",
       "      <td>...</td>\n",
       "      <td>...</td>\n",
       "      <td>...</td>\n",
       "      <td>...</td>\n",
       "      <td>...</td>\n",
       "      <td>...</td>\n",
       "      <td>...</td>\n",
       "      <td>...</td>\n",
       "      <td>...</td>\n",
       "    </tr>\n",
       "    <tr>\n",
       "      <th>1396</th>\n",
       "      <td>1.384474e+18</td>\n",
       "      <td>2013</td>\n",
       "      <td>952743.86</td>\n",
       "      <td>30.0</td>\n",
       "      <td>2.0</td>\n",
       "      <td>1</td>\n",
       "      <td>0</td>\n",
       "      <td>1</td>\n",
       "      <td>0</td>\n",
       "      <td>0</td>\n",
       "      <td>...</td>\n",
       "      <td>0</td>\n",
       "      <td>0</td>\n",
       "      <td>0</td>\n",
       "      <td>0</td>\n",
       "      <td>0</td>\n",
       "      <td>0</td>\n",
       "      <td>0</td>\n",
       "      <td>0</td>\n",
       "      <td>1</td>\n",
       "      <td>0</td>\n",
       "    </tr>\n",
       "    <tr>\n",
       "      <th>1397</th>\n",
       "      <td>1.390522e+18</td>\n",
       "      <td>2014</td>\n",
       "      <td>122813.21</td>\n",
       "      <td>35.0</td>\n",
       "      <td>1.0</td>\n",
       "      <td>1</td>\n",
       "      <td>0</td>\n",
       "      <td>1</td>\n",
       "      <td>0</td>\n",
       "      <td>0</td>\n",
       "      <td>...</td>\n",
       "      <td>0</td>\n",
       "      <td>0</td>\n",
       "      <td>0</td>\n",
       "      <td>0</td>\n",
       "      <td>0</td>\n",
       "      <td>0</td>\n",
       "      <td>0</td>\n",
       "      <td>0</td>\n",
       "      <td>1</td>\n",
       "      <td>0</td>\n",
       "    </tr>\n",
       "    <tr>\n",
       "      <th>1398</th>\n",
       "      <td>1.395533e+18</td>\n",
       "      <td>2014</td>\n",
       "      <td>949052.11</td>\n",
       "      <td>22.0</td>\n",
       "      <td>3.0</td>\n",
       "      <td>1</td>\n",
       "      <td>0</td>\n",
       "      <td>0</td>\n",
       "      <td>1</td>\n",
       "      <td>0</td>\n",
       "      <td>...</td>\n",
       "      <td>0</td>\n",
       "      <td>0</td>\n",
       "      <td>0</td>\n",
       "      <td>0</td>\n",
       "      <td>0</td>\n",
       "      <td>0</td>\n",
       "      <td>0</td>\n",
       "      <td>0</td>\n",
       "      <td>1</td>\n",
       "      <td>0</td>\n",
       "    </tr>\n",
       "    <tr>\n",
       "      <th>1399</th>\n",
       "      <td>1.403136e+18</td>\n",
       "      <td>2014</td>\n",
       "      <td>230710.76</td>\n",
       "      <td>8.0</td>\n",
       "      <td>1.0</td>\n",
       "      <td>1</td>\n",
       "      <td>1</td>\n",
       "      <td>0</td>\n",
       "      <td>0</td>\n",
       "      <td>0</td>\n",
       "      <td>...</td>\n",
       "      <td>0</td>\n",
       "      <td>0</td>\n",
       "      <td>0</td>\n",
       "      <td>0</td>\n",
       "      <td>0</td>\n",
       "      <td>0</td>\n",
       "      <td>0</td>\n",
       "      <td>0</td>\n",
       "      <td>1</td>\n",
       "      <td>0</td>\n",
       "    </tr>\n",
       "    <tr>\n",
       "      <th>1400</th>\n",
       "      <td>1.412381e+18</td>\n",
       "      <td>2014</td>\n",
       "      <td>240558.72</td>\n",
       "      <td>8.0</td>\n",
       "      <td>1.0</td>\n",
       "      <td>1</td>\n",
       "      <td>0</td>\n",
       "      <td>0</td>\n",
       "      <td>1</td>\n",
       "      <td>0</td>\n",
       "      <td>...</td>\n",
       "      <td>0</td>\n",
       "      <td>0</td>\n",
       "      <td>0</td>\n",
       "      <td>0</td>\n",
       "      <td>0</td>\n",
       "      <td>0</td>\n",
       "      <td>0</td>\n",
       "      <td>0</td>\n",
       "      <td>1</td>\n",
       "      <td>0</td>\n",
       "    </tr>\n",
       "  </tbody>\n",
       "</table>\n",
       "<p>1401 rows × 48 columns</p>\n",
       "</div>"
      ],
      "text/plain": [
       "       Discovery Date  Year   Net Loss  Recovery Amount (percent)  timediff  \\\n",
       "index                                                                         \n",
       "0        1.167610e+18  2007  296555.27                       28.0       1.0   \n",
       "1        1.167782e+18  2007   87472.47                       31.0       2.0   \n",
       "2        1.167869e+18  2007  229395.38                       26.0       2.0   \n",
       "3        1.168214e+18  2007  137925.29                       25.0       3.0   \n",
       "4        1.168560e+18  2007  292160.41                       31.0       2.0   \n",
       "...               ...   ...        ...                        ...       ...   \n",
       "1396     1.384474e+18  2013  952743.86                       30.0       2.0   \n",
       "1397     1.390522e+18  2014  122813.21                       35.0       1.0   \n",
       "1398     1.395533e+18  2014  949052.11                       22.0       3.0   \n",
       "1399     1.403136e+18  2014  230710.76                        8.0       1.0   \n",
       "1400     1.412381e+18  2014  240558.72                        8.0       1.0   \n",
       "\n",
       "       Name Class  Region_Asia Pac  Region_EMEA  Region_North America  \\\n",
       "index                                                                   \n",
       "0               0                0            1                     0   \n",
       "1               0                0            0                     1   \n",
       "2               0                1            0                     0   \n",
       "3               0                0            1                     0   \n",
       "4               0                0            0                     1   \n",
       "...           ...              ...          ...                   ...   \n",
       "1396            1                0            1                     0   \n",
       "1397            1                0            1                     0   \n",
       "1398            1                0            0                     1   \n",
       "1399            1                1            0                     0   \n",
       "1400            1                0            0                     1   \n",
       "\n",
       "       Business_Agency Services  ...  Risk Sub-Category_Safe Environment  \\\n",
       "index                            ...                                       \n",
       "0                             0  ...                                   0   \n",
       "1                             0  ...                                   0   \n",
       "2                             0  ...                                   0   \n",
       "3                             0  ...                                   0   \n",
       "4                             0  ...                                   0   \n",
       "...                         ...  ...                                 ...   \n",
       "1396                          0  ...                                   0   \n",
       "1397                          0  ...                                   0   \n",
       "1398                          0  ...                                   0   \n",
       "1399                          0  ...                                   0   \n",
       "1400                          0  ...                                   0   \n",
       "\n",
       "       Risk Sub-Category_Selection, Sponsorship and Exposure  \\\n",
       "index                                                          \n",
       "0                                                          0   \n",
       "1                                                          0   \n",
       "2                                                          0   \n",
       "3                                                          0   \n",
       "4                                                          0   \n",
       "...                                                      ...   \n",
       "1396                                                       0   \n",
       "1397                                                       0   \n",
       "1398                                                       0   \n",
       "1399                                                       0   \n",
       "1400                                                       0   \n",
       "\n",
       "       Risk Sub-Category_Suitability, Disclosures and Fiduciary  \\\n",
       "index                                                             \n",
       "0                                                             0   \n",
       "1                                                             0   \n",
       "2                                                             0   \n",
       "3                                                             0   \n",
       "4                                                             0   \n",
       "...                                                         ...   \n",
       "1396                                                          0   \n",
       "1397                                                          0   \n",
       "1398                                                          0   \n",
       "1399                                                          0   \n",
       "1400                                                          0   \n",
       "\n",
       "       Risk Sub-Category_Systems Security  Risk Sub-Category_Theft and Fraud  \\\n",
       "index                                                                          \n",
       "0                                       0                                  0   \n",
       "1                                       0                                  0   \n",
       "2                                       0                                  0   \n",
       "3                                       0                                  0   \n",
       "4                                       0                                  0   \n",
       "...                                   ...                                ...   \n",
       "1396                                    0                                  0   \n",
       "1397                                    0                                  0   \n",
       "1398                                    0                                  0   \n",
       "1399                                    0                                  0   \n",
       "1400                                    0                                  0   \n",
       "\n",
       "       Risk Sub-Category_Trade Counterparties  \\\n",
       "index                                           \n",
       "0                                           0   \n",
       "1                                           1   \n",
       "2                                           0   \n",
       "3                                           0   \n",
       "4                                           0   \n",
       "...                                       ...   \n",
       "1396                                        0   \n",
       "1397                                        0   \n",
       "1398                                        0   \n",
       "1399                                        0   \n",
       "1400                                        0   \n",
       "\n",
       "       Risk Sub-Category_Transaction/Data Management  \\\n",
       "index                                                  \n",
       "0                                                  0   \n",
       "1                                                  0   \n",
       "2                                                  0   \n",
       "3                                                  0   \n",
       "4                                                  0   \n",
       "...                                              ...   \n",
       "1396                                               0   \n",
       "1397                                               0   \n",
       "1398                                               0   \n",
       "1399                                               0   \n",
       "1400                                               0   \n",
       "\n",
       "       Risk Sub-Category_Unauthorized Activity  \\\n",
       "index                                            \n",
       "0                                            0   \n",
       "1                                            0   \n",
       "2                                            0   \n",
       "3                                            0   \n",
       "4                                            0   \n",
       "...                                        ...   \n",
       "1396                                         0   \n",
       "1397                                         0   \n",
       "1398                                         0   \n",
       "1399                                         0   \n",
       "1400                                         0   \n",
       "\n",
       "       Risk Sub-Category_Vendors and Suppliers  \\\n",
       "index                                            \n",
       "0                                            0   \n",
       "1                                            0   \n",
       "2                                            0   \n",
       "3                                            0   \n",
       "4                                            0   \n",
       "...                                        ...   \n",
       "1396                                         1   \n",
       "1397                                         1   \n",
       "1398                                         1   \n",
       "1399                                         1   \n",
       "1400                                         1   \n",
       "\n",
       "       Risk Sub-Category_Willful Damage  \n",
       "index                                    \n",
       "0                                     0  \n",
       "1                                     0  \n",
       "2                                     0  \n",
       "3                                     0  \n",
       "4                                     0  \n",
       "...                                 ...  \n",
       "1396                                  0  \n",
       "1397                                  0  \n",
       "1398                                  0  \n",
       "1399                                  0  \n",
       "1400                                  0  \n",
       "\n",
       "[1401 rows x 48 columns]"
      ]
     },
     "execution_count": 25,
     "metadata": {},
     "output_type": "execute_result"
    }
   ],
   "source": [
    "# Automated recognization of categorical feature in Python : R-factor function\n",
    "# 1. one hot coding\n",
    "# ?pd.get_dummies\n",
    "# `pd.get_dummies` will auto-delete the original categorical features,so we use df_ml here to ensure that our procedures are reversible\n",
    "\n",
    "df_ml = pd.get_dummies(df, drop_first=False)\n",
    "df_ml\n",
    "# All the categorical features are transfered now. We can see finally we get pure numerical features.\n",
    "# Cheers!"
   ]
  },
  {
   "cell_type": "code",
   "execution_count": 26,
   "metadata": {
    "ExecuteTime": {
     "end_time": "2020-08-16T06:42:27.036417Z",
     "start_time": "2020-08-16T06:42:26.963610Z"
    }
   },
   "outputs": [
    {
     "name": "stdout",
     "output_type": "stream",
     "text": [
      "Index(['Discovery Date', 'Year', 'Net Loss', 'Recovery Amount (percent)',\n",
      "       'timediff', 'Name Class', 'Region_Asia Pac', 'Region_EMEA',\n",
      "       'Region_North America', 'Business_Agency Services',\n",
      "       'Business_Asset Management', 'Business_Commercial Banking',\n",
      "       'Business_Corporate Finance', 'Business_Retail Banking',\n",
      "       'Business_Retail Brokerage', 'Business_Trading and Sales',\n",
      "       'Status_Approved', 'Status_In Progress', 'Status_Not Started',\n",
      "       'Status_Rejected', 'Status_Under Review',\n",
      "       'Risk Category_Business Disruption and System Failures',\n",
      "       'Risk Category_Clients, Products and Business Practices',\n",
      "       'Risk Category_Damage to Physical Assets',\n",
      "       'Risk Category_Employment Practices and Workplace Safety',\n",
      "       'Risk Category_Execution, Delivery and Process Management',\n",
      "       'Risk Category_External Fraud', 'Risk Category_Internal Fraud',\n",
      "       'Risk Sub-Category_Advisory Activities',\n",
      "       'Risk Sub-Category_Customer Intake and Documentation',\n",
      "       'Risk Sub-Category_Customer/Client Account Management',\n",
      "       'Risk Sub-Category_Disaster and other events',\n",
      "       'Risk Sub-Category_Diversity and Discrimination',\n",
      "       'Risk Sub-Category_Employee Relations',\n",
      "       'Risk Sub-Category_Improper Business or Market Practices',\n",
      "       'Risk Sub-Category_Infrastructure and Systems',\n",
      "       'Risk Sub-Category_Product Flaws',\n",
      "       'Risk Sub-Category_Reporting and Disclosure',\n",
      "       'Risk Sub-Category_Safe Environment',\n",
      "       'Risk Sub-Category_Selection, Sponsorship and Exposure',\n",
      "       'Risk Sub-Category_Suitability, Disclosures and Fiduciary',\n",
      "       'Risk Sub-Category_Systems Security',\n",
      "       'Risk Sub-Category_Theft and Fraud',\n",
      "       'Risk Sub-Category_Trade Counterparties',\n",
      "       'Risk Sub-Category_Transaction/Data Management',\n",
      "       'Risk Sub-Category_Unauthorized Activity',\n",
      "       'Risk Sub-Category_Vendors and Suppliers',\n",
      "       'Risk Sub-Category_Willful Damage'],\n",
      "      dtype='object')\n"
     ]
    }
   ],
   "source": [
    "# 2. standardize all X features\n",
    "from sklearn.preprocessing import StandardScaler\n",
    "# alternative:from sklearn.preprocessing import MinMaxScaler\n",
    "\n",
    "\n",
    "print(df_ml.columns)\n"
   ]
  },
  {
   "cell_type": "code",
   "execution_count": 27,
   "metadata": {
    "ExecuteTime": {
     "end_time": "2020-08-16T06:42:27.082294Z",
     "start_time": "2020-08-16T06:42:27.041402Z"
    }
   },
   "outputs": [],
   "source": [
    "y = df_ml['Recovery Amount (percent)']\n",
    "X = df_ml[['Discovery Date','Year','timediff','Name Class','Region_Asia Pac', 'Region_EMEA', 'Region_North America',\n",
    "       'Business_Agency Services', 'Business_Asset Management',\n",
    "       'Business_Commercial Banking', 'Business_Corporate Finance',\n",
    "       'Business_Retail Banking', 'Business_Retail Brokerage',\n",
    "       'Business_Trading and Sales', 'Status_Approved', 'Status_In Progress',\n",
    "       'Status_Not Started', 'Status_Rejected', 'Status_Under Review',\n",
    "       'Risk Category_Business Disruption and System Failures',\n",
    "       'Risk Category_Clients, Products and Business Practices',\n",
    "       'Risk Category_Damage to Physical Assets',\n",
    "       'Risk Category_Employment Practices and Workplace Safety',\n",
    "       'Risk Category_Execution, Delivery and Process Management',\n",
    "       'Risk Category_External Fraud', 'Risk Category_Internal Fraud',\n",
    "       'Risk Sub-Category_Advisory Activities',\n",
    "       'Risk Sub-Category_Customer Intake and Documentation',\n",
    "       'Risk Sub-Category_Customer/Client Account Management',\n",
    "       'Risk Sub-Category_Disaster and other events',\n",
    "       'Risk Sub-Category_Diversity and Discrimination',\n",
    "       'Risk Sub-Category_Employee Relations',\n",
    "       'Risk Sub-Category_Improper Business or Market Practices',\n",
    "       'Risk Sub-Category_Infrastructure and Systems',\n",
    "       'Risk Sub-Category_Product Flaws',\n",
    "       'Risk Sub-Category_Reporting and Disclosure',\n",
    "       'Risk Sub-Category_Safe Environment',\n",
    "       'Risk Sub-Category_Selection, Sponsorship and Exposure',\n",
    "       'Risk Sub-Category_Suitability, Disclosures and Fiduciary',\n",
    "       'Risk Sub-Category_Systems Security',\n",
    "       'Risk Sub-Category_Theft and Fraud',\n",
    "       'Risk Sub-Category_Trade Counterparties',\n",
    "       'Risk Sub-Category_Transaction/Data Management',\n",
    "       'Risk Sub-Category_Unauthorized Activity',\n",
    "       'Risk Sub-Category_Vendors and Suppliers',\n",
    "       'Risk Sub-Category_Willful Damage']]\n",
    "# I am a lazy person. OFC you can also select by deduction method.\n",
    "sc_X = StandardScaler()\n",
    "X_std = sc_X.fit_transform(X)"
   ]
  },
  {
   "cell_type": "code",
   "execution_count": 28,
   "metadata": {
    "ExecuteTime": {
     "end_time": "2020-08-16T06:42:27.094265Z",
     "start_time": "2020-08-16T06:42:27.087280Z"
    }
   },
   "outputs": [],
   "source": [
    "# 3. train/test split\n",
    "# Usually if you want to predict, this step should process beforehand the standardization step.\n",
    "# Now we just conduct regression analysis. Thus, no need to do that.\n",
    "\n",
    "\n",
    "# from sklearn.model_selection import train_test_split\n",
    "\n",
    "# X_train, X_test, y_train, y_test = train_test_split(X, y, test_size=0.3, random_state=0)\n",
    "# X_test_std = sc_X.fit_transform(X_test)\n",
    "# X_train_std = sc_X.fit_transform(X_train)"
   ]
  },
  {
   "cell_type": "markdown",
   "metadata": {},
   "source": [
    "  "
   ]
  },
  {
   "cell_type": "markdown",
   "metadata": {},
   "source": [
    "## Machine learning algorithm part"
   ]
  },
  {
   "cell_type": "markdown",
   "metadata": {},
   "source": [
    "We are very happy if we still have you here. The following codes are the core of machine learning techniques, but once you know how to choose the algorithms it will be very simple. In this class we do not require parameter tuning, thus it won't cost too much time for us.  \n",
    "  \n",
    "Know more about how to choose ml algorithms, see https://docs.microsoft.com/en-us/azure/machine-learning/how-to-select-algorithms\n",
    "  \n",
    "https://towardsdatascience.com/do-you-know-how-to-choose-the-right-machine-learning-algorithm-among-7-different-types-295d0b0c7f60"
   ]
  },
  {
   "cell_type": "code",
   "execution_count": 29,
   "metadata": {
    "ExecuteTime": {
     "end_time": "2020-08-16T06:42:27.112213Z",
     "start_time": "2020-08-16T06:42:27.100246Z"
    }
   },
   "outputs": [
    {
     "data": {
      "text/html": [
       "\n",
       "        <iframe\n",
       "            width=\"600\"\n",
       "            height=\"450\"\n",
       "            src=\"https://docs.microsoft.com/en-us/azure/machine-learning/how-to-select-algorithms\"\n",
       "            frameborder=\"0\"\n",
       "            allowfullscreen\n",
       "        ></iframe>\n",
       "        "
      ],
      "text/plain": [
       "<IPython.lib.display.IFrame at 0x24b03e90548>"
      ]
     },
     "execution_count": 29,
     "metadata": {},
     "output_type": "execute_result"
    }
   ],
   "source": [
    "IFrame('https://docs.microsoft.com/en-us/azure/machine-learning/how-to-select-algorithms',width=600, height=450)"
   ]
  },
  {
   "cell_type": "markdown",
   "metadata": {},
   "source": [
    "We are in a regression problem. So we can use these following methods:\n",
    "\n",
    "- Boosted Decision Tree Regression\n",
    "- Decision Forest Regression\n",
    "- Fast Forest Quantile Regression\n",
    "- Linear Regression\n",
    "- Neural Network Regression\n",
    "- Poisson Regression\n",
    "- and more  \n",
    "\n",
    "When the method is chosen, you can go to sklearn official file to search for code to implement them. For economics and finance students who may be familiar with OLS and other model, you can view Machine Learning as applied advanced CS&Stat techniques in regression."
   ]
  },
  {
   "cell_type": "code",
   "execution_count": 30,
   "metadata": {
    "ExecuteTime": {
     "end_time": "2020-08-16T06:42:27.738539Z",
     "start_time": "2020-08-16T06:42:27.117200Z"
    }
   },
   "outputs": [
    {
     "name": "stdout",
     "output_type": "stream",
     "text": [
      "Sebastian Raschka \n",
      "last updated: 2020-08-16 \n",
      "\n",
      "sklearn 0.23.2\n"
     ]
    }
   ],
   "source": [
    "%load_ext watermark\n",
    "%watermark -a \"Sebastian Raschka\" -u -d -p sklearn"
   ]
  },
  {
   "cell_type": "code",
   "execution_count": 37,
   "metadata": {
    "ExecuteTime": {
     "end_time": "2020-08-16T06:48:06.052647Z",
     "start_time": "2020-08-16T06:48:05.983831Z"
    }
   },
   "outputs": [
    {
     "name": "stdout",
     "output_type": "stream",
     "text": [
      "Slope: [[-5.60522358e-01  5.51453159e-01 -4.05525536e-03  2.54288714e-02\n",
      "  -2.47923360e+13 -2.81662228e+13 -2.99685511e+13  6.88210094e+12\n",
      "   5.76964627e+12  1.12051307e+13  4.58125338e+12  1.82726490e+13\n",
      "   8.18248232e+12  1.29230957e+13 -2.67275986e+12 -2.67275986e+12\n",
      "  -3.25044027e+12 -2.12027980e+12 -3.02732732e+12  1.07174533e+13\n",
      "  -1.01720338e+13  1.41053568e+13 -6.15370441e+11  1.30759196e+12\n",
      "   4.52722297e+12  1.74126252e+12  6.05646532e+12  2.54096815e+11\n",
      "   1.82516051e+11 -1.06957620e+13  9.28611660e+11  9.01544420e+11\n",
      "   4.59822088e+12 -1.02288393e+13  6.05646532e+12  3.44091120e+11\n",
      "   1.07537263e+12  4.30434625e+12  4.30434625e+12 -1.66368654e+12\n",
      "  -2.55135880e+12  3.01774041e+11  1.78248445e+11 -6.76965732e+11\n",
      "   2.46885716e+11 -8.73931115e+12]]\n",
      "Intercept: -0.003\n",
      "MSE: 0.867,\n",
      "R^2: 0.133,\n"
     ]
    },
    {
     "data": {
      "text/plain": [
       "array([[ 0.05299323],\n",
       "       [-0.00547845],\n",
       "       [ 0.15162604],\n",
       "       ...,\n",
       "       [-1.02409417],\n",
       "       [-1.43669183],\n",
       "       [-1.38981683]])"
      ]
     },
     "execution_count": 37,
     "metadata": {},
     "output_type": "execute_result"
    }
   ],
   "source": [
    "# 1. linear regression\n",
    "# https://scikit-learn.org/stable/modules/classes.html#module-sklearn.linear_model\n",
    "from sklearn.linear_model import LinearRegression\n",
    "\n",
    "y_std = sc_X.fit_transform(y.values.reshape(-1,1))\n",
    "\n",
    "slr = LinearRegression()\n",
    "slr.fit(X_std, y_std)\n",
    "y_pred = slr.predict(X_std)\n",
    "print('Slope:' , slr.coef_)\n",
    "print('Intercept: %.3f' % slr.intercept_)\n",
    "\n",
    "from sklearn.metrics import r2_score\n",
    "from sklearn.metrics import mean_squared_error\n",
    "\n",
    "print('MSE: %.3f,'  % mean_squared_error(y_std, y_pred))\n",
    "print('R^2: %.3f,'  % r2_score(y_std, y_pred))\n",
    "\n",
    "# save your model\n",
    "import joblib\n",
    "\n",
    "joblib.dump(slr, \"train_model.m\")\n",
    "# load back and run\n",
    "slr_1 = joblib.load(\"train_model.m\")\n",
    "slr_1.predict(X_std)"
   ]
  },
  {
   "cell_type": "code",
   "execution_count": 38,
   "metadata": {
    "ExecuteTime": {
     "end_time": "2020-08-16T06:48:20.338525Z",
     "start_time": "2020-08-16T06:48:19.190084Z"
    }
   },
   "outputs": [
    {
     "name": "stdout",
     "output_type": "stream",
     "text": [
      "R^2 for quadratic: 0.391\n"
     ]
    }
   ],
   "source": [
    "# 2. polynomial regression\n",
    "from sklearn.preprocessing import PolynomialFeatures\n",
    "\n",
    "lr = LinearRegression()\n",
    "\n",
    "quadratic = PolynomialFeatures(degree=2)\n",
    "X_quad = quadratic.fit_transform(X_std)\n",
    "\n",
    "lr.fit(X_quad, y_std)\n",
    "\n",
    "y_quad_pred = lr.predict(X_quad)\n",
    "print('R^2 for quadratic: %.3f' % (r2_score(y_std, y_quad_pred)))"
   ]
  },
  {
   "cell_type": "code",
   "execution_count": 39,
   "metadata": {
    "ExecuteTime": {
     "end_time": "2020-08-16T06:48:21.122938Z",
     "start_time": "2020-08-16T06:48:21.091510Z"
    }
   },
   "outputs": [
    {
     "name": "stdout",
     "output_type": "stream",
     "text": [
      "[ 0.          0.          0.          0.         -0.          0.\n",
      "  0.          0.          0.          0.         -0.         -0.\n",
      "  0.          0.         -0.         -0.          0.         -0.\n",
      "  0.         -0.         -0.          0.          0.         -0.\n",
      "  0.         -0.         -0.         -0.          0.          0.\n",
      "  0.         -0.         -0.         -0.         -0.          0.\n",
      " -0.          0.          0.         -0.          0.         -0.\n",
      " -0.          0.         -0.20769451 -0.        ]\n"
     ]
    }
   ],
   "source": [
    "# 3. regularized methods for regression(Lasso,Ridge)\n",
    "from sklearn.linear_model import Lasso\n",
    "\n",
    "lasso = Lasso(alpha=0.1)\n",
    "lasso.fit(X_std, y_std)\n",
    "y_pred = lasso.predict(X_std)\n",
    "print(lasso.coef_)\n",
    "\n",
    "from sklearn.linear_model import Ridge\n",
    "ridge = Ridge(alpha=1.0)\n",
    "\n",
    "from sklearn.linear_model import ElasticNet\n",
    "elanet = ElasticNet(alpha=1.0, l1_ratio=0.5)\n",
    "# …… you can do the same operations"
   ]
  },
  {
   "cell_type": "code",
   "execution_count": 40,
   "metadata": {
    "ExecuteTime": {
     "end_time": "2020-08-16T06:48:22.058948Z",
     "start_time": "2020-08-16T06:48:22.025040Z"
    }
   },
   "outputs": [
    {
     "name": "stdout",
     "output_type": "stream",
     "text": [
      "Slope:  [-5.61161057e-01  5.57936593e-01  1.40616819e-02  1.99440291e-02\n",
      " -1.28228696e+13 -1.45678811e+13 -1.55000651e+13 -2.12403458e+10\n",
      " -1.78069579e+10 -3.45825864e+10 -1.41392006e+10 -5.63951890e+10\n",
      " -2.52537350e+10 -3.98847710e+10  3.45414710e+12  3.45414710e+12\n",
      "  4.20071365e+12  2.74014828e+12  3.91237314e+12  5.99518728e+12\n",
      " -9.81508285e+12  2.96477696e+12  8.96596782e+12 -1.46799020e+13\n",
      " -8.83108837e+12 -3.39661715e+12  6.28343032e+12  8.79185705e+12\n",
      "  6.31513242e+12 -1.85746624e+12 -4.04491942e+12 -3.92701782e+12\n",
      "  4.77053841e+12 -5.11623403e+12  6.28343032e+12  1.19056980e+13\n",
      " -4.68419237e+12  4.46565088e+12  4.46565088e+12  7.55918041e+12\n",
      "  1.15924370e+13  1.04415092e+13  6.16747143e+12  3.07588358e+12\n",
      "  8.54234999e+12 -1.51770162e+12]\n",
      "Intercept: -0.002\n",
      "MSE: 0.866,\n",
      "R^2: 0.134,\n"
     ]
    }
   ],
   "source": [
    "# 4. Fitting a robust regression model using RANSAC\n",
    "from sklearn.linear_model import RANSACRegressor\n",
    "\n",
    "ransac = RANSACRegressor(LinearRegression(), \n",
    "                         max_trials=100, \n",
    "                         min_samples=50, \n",
    "                         loss='absolute_loss', \n",
    "                         residual_threshold=5.0, \n",
    "                         random_state=0)\n",
    "\n",
    "\n",
    "ransac.fit(X_std, y_std)\n",
    "print('Slope: ', ransac.estimator_.coef_[0])\n",
    "print('Intercept: %.3f' % ransac.estimator_.intercept_)\n",
    "y_pred = ransac.predict(X_std)\n",
    "\n",
    "print('MSE: %.3f,'  % mean_squared_error(y_std, y_pred))\n",
    "print('R^2: %.3f,'  % r2_score(y_std, y_pred))"
   ]
  },
  {
   "cell_type": "markdown",
   "metadata": {},
   "source": [
    "<div class=\"alert alert-block alert-danger\">  \n",
    "Note: sklearn is not a professional package for regression and econometric methods.     \n",
    "    Here we just show the code and skip some steps(eg,elimination of Multicollinearity, intuition and significance of parameters).  \n",
    "    There should be more analysis if you want to conduct an expert regression.\n",
    "</div>"
   ]
  },
  {
   "cell_type": "code",
   "execution_count": 41,
   "metadata": {
    "ExecuteTime": {
     "end_time": "2020-08-16T06:48:24.036736Z",
     "start_time": "2020-08-16T06:48:23.724505Z"
    }
   },
   "outputs": [],
   "source": [
    "# 5. Boosted Decision Tree Regression\n",
    "# https://scikit-learn.org/stable/auto_examples/ensemble/plot_adaboost_regression.html\n",
    "\n",
    "from sklearn.tree import DecisionTreeRegressor\n",
    "from sklearn.ensemble import AdaBoostRegressor\n",
    "\n",
    "rng = np.random.RandomState(1)\n",
    "regr_1 = DecisionTreeRegressor(max_depth=4)\n",
    "\n",
    "regr_2 = AdaBoostRegressor(DecisionTreeRegressor(max_depth=4),\n",
    "                          n_estimators=300, random_state=rng)\n",
    "\n",
    "regr_1.fit(X_std, y)\n",
    "regr_2.fit(X_std, y)\n",
    "\n",
    "y_1 = regr_1.predict(X_std)\n",
    "y_2 = regr_2.predict(X_std)\n",
    "\n",
    "# Then you can value the results based on judgements below."
   ]
  },
  {
   "cell_type": "code",
   "execution_count": 42,
   "metadata": {
    "ExecuteTime": {
     "end_time": "2020-08-16T06:48:32.711474Z",
     "start_time": "2020-08-16T06:48:24.786663Z"
    }
   },
   "outputs": [
    {
     "name": "stderr",
     "output_type": "stream",
     "text": [
      "C:\\Users\\langbo\\anaconda3\\lib\\site-packages\\ipykernel_launcher.py:8: DataConversionWarning: A column-vector y was passed when a 1d array was expected. Please change the shape of y to (n_samples,), for example using ravel().\n",
      "  \n"
     ]
    },
    {
     "name": "stdout",
     "output_type": "stream",
     "text": [
      "MSE : 0.135 \n"
     ]
    }
   ],
   "source": [
    "# 6. Random Forest Regression\n",
    "from sklearn.ensemble import RandomForestRegressor\n",
    "\n",
    "forest = RandomForestRegressor(n_estimators=1000, \n",
    "                               criterion='mse', \n",
    "                               random_state=1, \n",
    "                               n_jobs=-1)\n",
    "forest.fit(X_std, y_std)\n",
    "y_pred = forest.predict(X_std)\n",
    "\n",
    "print('MSE : %.3f ' % (mean_squared_error(y_std, y_pred)))"
   ]
  },
  {
   "cell_type": "code",
   "execution_count": 43,
   "metadata": {
    "ExecuteTime": {
     "end_time": "2020-08-16T06:48:34.694893Z",
     "start_time": "2020-08-16T06:48:33.411117Z"
    }
   },
   "outputs": [
    {
     "name": "stderr",
     "output_type": "stream",
     "text": [
      "C:\\Users\\langbo\\anaconda3\\lib\\site-packages\\sklearn\\utils\\validation.py:72: DataConversionWarning: A column-vector y was passed when a 1d array was expected. Please change the shape of y to (n_samples, ), for example using ravel().\n",
      "  return f(**kwargs)\n"
     ]
    },
    {
     "name": "stdout",
     "output_type": "stream",
     "text": [
      "MSE : 0.762 \n"
     ]
    }
   ],
   "source": [
    "# 7. Neural Network Regression\n",
    "from sklearn.neural_network import MLPRegressor\n",
    "from sklearn.datasets import make_regression\n",
    "\n",
    "regr = MLPRegressor(random_state=1, max_iter=500).fit(X_std, y_std)\n",
    "y_pred = regr.predict(X_std)\n",
    "\n",
    "regr.score(X_std, y_std)\n",
    "\n",
    "print('MSE : %.3f ' % (mean_squared_error(y_std, y_pred)))"
   ]
  },
  {
   "cell_type": "code",
   "execution_count": 53,
   "metadata": {
    "ExecuteTime": {
     "end_time": "2020-08-16T06:55:48.530115Z",
     "start_time": "2020-08-16T06:55:48.498156Z"
    }
   },
   "outputs": [
    {
     "name": "stdout",
     "output_type": "stream",
     "text": [
      "[-2024.03302938 -1955.00330086 -1941.28233448 -1940.67244293\n",
      " -1940.64764189 -1940.64646627 -1940.64640867 -1940.64955853] [-0.02204476  0.02068521  0.05352692  0.01768759 -0.02600718  0.02350483\n",
      " -0.00057606  0.04227489  0.01862002 -0.00454084 -0.04751454 -0.04422456\n",
      "  0.01671702  0.04190165 -0.00563146 -0.02148489  0.00886374  0.00225094\n",
      "  0.01284692 -0.00149836  0.00150456  0.01208387  0.01092813 -0.04571614\n",
      "  0.04269785 -0.01577275  0.00083842 -0.01373459  0.05078442  0.0222992\n",
      "  0.00965412  0.00319452 -0.01257383 -0.00149836 -0.01146163  0.06123479\n",
      "  0.00561683  0.00501578  0.02725844 -0.01195682  0.03299104  0.01618286\n",
      "  0.01347941  0.04986948 -0.23441454 -0.00822607]\n"
     ]
    },
    {
     "name": "stderr",
     "output_type": "stream",
     "text": [
      "C:\\Users\\langbo\\anaconda3\\lib\\site-packages\\sklearn\\utils\\validation.py:72: DataConversionWarning: A column-vector y was passed when a 1d array was expected. Please change the shape of y to (n_samples, ), for example using ravel().\n",
      "  return f(**kwargs)\n"
     ]
    }
   ],
   "source": [
    "# 8. Bayesian Ridge Regression\n",
    "# https://scikit-learn.org/stable/auto_examples/linear_model/plot_bayesian_ridge.html\n",
    "\n",
    "from sklearn.linear_model import BayesianRidge\n",
    "\n",
    "clf = BayesianRidge(compute_score=True)\n",
    "clf.fit(X_std, y_std)\n",
    "print(clf.scores_,clf.coef_,)\n",
    "y_pred = clf.predict(X_std)\n",
    "\n",
    "print('MSE : %.3f ' % (mean_squared_error(y_std, y_pred)))"
   ]
  },
  {
   "cell_type": "code",
   "execution_count": 54,
   "metadata": {
    "ExecuteTime": {
     "end_time": "2020-08-16T06:56:09.877507Z",
     "start_time": "2020-08-16T06:56:09.162420Z"
    }
   },
   "outputs": [
    {
     "name": "stdout",
     "output_type": "stream",
     "text": [
      "MSE : 0.663 \n",
      "MSE : 0.017 \n"
     ]
    }
   ],
   "source": [
    "# 9. (k) Nearest Neighbors regression\n",
    "from sklearn import neighbors\n",
    "\n",
    "n_neighbors = 5\n",
    "\n",
    "for i, weights in enumerate(['uniform', 'distance']):\n",
    "    knn = neighbors.KNeighborsRegressor(n_neighbors, weights=weights).fit(X_std, y_std)\n",
    "    y_pred = knn.predict(X_std)\n",
    "\n",
    "    print('MSE : %.3f ' % (mean_squared_error(y_std, y_pred)))"
   ]
  },
  {
   "cell_type": "code",
   "execution_count": 55,
   "metadata": {
    "ExecuteTime": {
     "end_time": "2020-08-16T06:56:11.806313Z",
     "start_time": "2020-08-16T06:56:11.800331Z"
    }
   },
   "outputs": [],
   "source": [
    "# *10. Fast Forest Quantile Regression\n",
    "# I cannot find QRFs(Quantile Regression Forest) implementation in sklearn. \n",
    "# To carry out this method, you may try skgarden, TensorFlow or Azure ai."
   ]
  },
  {
   "cell_type": "markdown",
   "metadata": {},
   "source": [
    "Limited on my knowledge, I only list the basic operations in this linear_model_family. You may find some similar patterns to conduct these models, but actually there are many new ideas.   \n",
    "\n",
    "There exists many hyperparameters to adjust these models, as well as different types of criteria to evaluation methods for your `y_pred` result. To get more advanced operation in sklearn, I strongly advice you to read the official cases from https://scikit-learn.org/stable/auto_examples/index.html. We also provide some cases for you to get the hand of the code."
   ]
  },
  {
   "cell_type": "markdown",
   "metadata": {
    "ExecuteTime": {
     "end_time": "2020-08-15T08:11:02.488343Z",
     "start_time": "2020-08-15T08:11:02.481371Z"
    }
   },
   "source": [
    "# Classification problem"
   ]
  },
  {
   "cell_type": "markdown",
   "metadata": {},
   "source": [
    "For economics and finance students, it is likely that ML algorithms in classification problems will shock you. Because it did provide some new approaches to the problem, which requires the support of computer memory and nonlinear solvers.\n",
    "\n",
    "Let's consider a real-world question:  \n",
    "You are the leader of the bank risk management department. Suppose you want to securitize some low-quality account-receivables and sell in the market. The requirement is that it has huge possibility to reach 30% recovery amount ratio.  \n",
    "  \n",
    "Now, due to the additional information from the knowledge, you can discrete the y into two parts based on the 30% threshold. And then we get a classification problem: $ y|y<0.3 = 0, y|y \\geq 0.3 = 1. $ Besides, we will choose precision rate to evaluate the model"
   ]
  },
  {
   "cell_type": "code",
   "execution_count": 69,
   "metadata": {
    "ExecuteTime": {
     "end_time": "2020-08-16T07:07:56.135549Z",
     "start_time": "2020-08-16T07:07:56.121592Z"
    }
   },
   "outputs": [
    {
     "data": {
      "text/plain": [
       "index\n",
       "0       28.0\n",
       "1       31.0\n",
       "2       26.0\n",
       "3       25.0\n",
       "4       31.0\n",
       "        ... \n",
       "1396    30.0\n",
       "1397    35.0\n",
       "1398    22.0\n",
       "1399     8.0\n",
       "1400     8.0\n",
       "Name: Recovery Amount (percent)_bin, Length: 1401, dtype: float64"
      ]
     },
     "execution_count": 69,
     "metadata": {},
     "output_type": "execute_result"
    }
   ],
   "source": [
    "df_ml['Recovery Amount (percent)_bin'] = df_ml['Recovery Amount (percent)']\n",
    "y = df_ml['Recovery Amount (percent)_bin']\n",
    "y"
   ]
  },
  {
   "cell_type": "code",
   "execution_count": 70,
   "metadata": {
    "ExecuteTime": {
     "end_time": "2020-08-16T07:07:59.434709Z",
     "start_time": "2020-08-16T07:07:59.410775Z"
    }
   },
   "outputs": [
    {
     "name": "stderr",
     "output_type": "stream",
     "text": [
      "C:\\Users\\langbo\\anaconda3\\lib\\site-packages\\ipykernel_launcher.py:1: SettingWithCopyWarning: \n",
      "A value is trying to be set on a copy of a slice from a DataFrame\n",
      "\n",
      "See the caveats in the documentation: https://pandas.pydata.org/pandas-docs/stable/user_guide/indexing.html#returning-a-view-versus-a-copy\n",
      "  \"\"\"Entry point for launching an IPython kernel.\n",
      "C:\\Users\\langbo\\anaconda3\\lib\\site-packages\\ipykernel_launcher.py:2: SettingWithCopyWarning: \n",
      "A value is trying to be set on a copy of a slice from a DataFrame\n",
      "\n",
      "See the caveats in the documentation: https://pandas.pydata.org/pandas-docs/stable/user_guide/indexing.html#returning-a-view-versus-a-copy\n",
      "  \n"
     ]
    },
    {
     "data": {
      "text/plain": [
       "index\n",
       "0       1.0\n",
       "1       0.0\n",
       "2       1.0\n",
       "3       1.0\n",
       "4       0.0\n",
       "       ... \n",
       "1396    0.0\n",
       "1397    0.0\n",
       "1398    1.0\n",
       "1399    1.0\n",
       "1400    1.0\n",
       "Name: Recovery Amount (percent)_bin, Length: 1401, dtype: float64"
      ]
     },
     "execution_count": 70,
     "metadata": {},
     "output_type": "execute_result"
    }
   ],
   "source": [
    "y[y<30] = 1\n",
    "y[y>=30] = 0\n",
    "# Don't miss up the 0-1 value!\n",
    "# It should be better way to conduct that. \n",
    "\n",
    "y\n",
    "# y is changed now. We will use the same X to predict it."
   ]
  },
  {
   "cell_type": "code",
   "execution_count": 71,
   "metadata": {
    "ExecuteTime": {
     "end_time": "2020-08-16T07:08:01.055544Z",
     "start_time": "2020-08-16T07:08:01.028587Z"
    }
   },
   "outputs": [],
   "source": [
    "# Now we are forecast on forecasting whether y is 1 or 0. \n",
    "# So it is important to split X to train/test set.\n",
    "# For better speed, we use dimension reduction(feature engineering) method\n",
    "\n",
    "from sklearn.decomposition import PCA\n",
    "# alternative: from sklearn.decomposition import LatentDirichletAllocation\n",
    "from sklearn.model_selection import train_test_split\n",
    "\n",
    "pca = PCA(n_components=8)\n",
    "#lda = LatentDirichletAllocation(n_components=5, random_state=0)\n",
    "\n",
    "X_pca = pca.fit_transform(X_std)\n",
    "X_train, X_test, y_train, y_test = train_test_split(X_pca, y, test_size=0.3, random_state=0)\n",
    "\n",
    "# Be sure to split before you standardize X.\n",
    "X_test_std = sc_X.fit_transform(X_test)\n",
    "X_train_std = sc_X.fit_transform(X_train)"
   ]
  },
  {
   "cell_type": "code",
   "execution_count": 72,
   "metadata": {
    "ExecuteTime": {
     "end_time": "2020-08-16T07:08:21.341421Z",
     "start_time": "2020-08-16T07:08:02.063951Z"
    }
   },
   "outputs": [
    {
     "name": "stdout",
     "output_type": "stream",
     "text": [
      "Nearest Neighbors _score: 0.5083135391923991\n",
      "[[119  85]\n",
      " [122  95]]\n"
     ]
    },
    {
     "data": {
      "image/png": "[encoded data removed]",
      "text/plain": [
       "<Figure size 180x180 with 1 Axes>"
      ]
     },
     "metadata": {},
     "output_type": "display_data"
    },
    {
     "name": "stdout",
     "output_type": "stream",
     "text": [
      "Precision: 0.494\n",
      "Recall: 0.583\n",
      "F1: 0.535\n",
      "Linear SVM _score: 0.4845605700712589\n",
      "[[204   0]\n",
      " [217   0]]\n"
     ]
    },
    {
     "data": {
      "image/png": "[encoded data removed]",
      "text/plain": [
       "<Figure size 180x180 with 1 Axes>"
      ]
     },
     "metadata": {},
     "output_type": "display_data"
    },
    {
     "name": "stdout",
     "output_type": "stream",
     "text": [
      "Precision: 0.485\n",
      "Recall: 1.000\n",
      "F1: 0.653\n",
      "RBF SVM _score: 0.5320665083135392\n",
      "[[134  70]\n",
      " [127  90]]\n"
     ]
    },
    {
     "data": {
      "image/png": "[encoded data removed]",
      "text/plain": [
       "<Figure size 180x180 with 1 Axes>"
      ]
     },
     "metadata": {},
     "output_type": "display_data"
    },
    {
     "name": "stdout",
     "output_type": "stream",
     "text": [
      "Precision: 0.513\n",
      "Recall: 0.657\n",
      "F1: 0.576\n",
      "Gaussian Process _score: 0.4845605700712589\n",
      "[[204   0]\n",
      " [217   0]]\n"
     ]
    },
    {
     "data": {
      "image/png": "[encoded data removed]",
      "text/plain": [
       "<Figure size 180x180 with 1 Axes>"
      ]
     },
     "metadata": {},
     "output_type": "display_data"
    },
    {
     "name": "stdout",
     "output_type": "stream",
     "text": [
      "Precision: 0.485\n",
      "Recall: 1.000\n",
      "F1: 0.653\n",
      "Decision Tree _score: 0.49643705463182897\n",
      "[[147  57]\n",
      " [155  62]]\n"
     ]
    },
    {
     "data": {
      "image/png": "[encoded data removed]",
      "text/plain": [
       "<Figure size 180x180 with 1 Axes>"
      ]
     },
     "metadata": {},
     "output_type": "display_data"
    },
    {
     "name": "stdout",
     "output_type": "stream",
     "text": [
      "Precision: 0.487\n",
      "Recall: 0.721\n",
      "F1: 0.581\n",
      "Random Forest _score: 0.5558194774346793\n",
      "[[132  72]\n",
      " [115 102]]\n"
     ]
    },
    {
     "data": {
      "image/png": "[encoded data removed]",
      "text/plain": [
       "<Figure size 180x180 with 1 Axes>"
      ]
     },
     "metadata": {},
     "output_type": "display_data"
    },
    {
     "name": "stdout",
     "output_type": "stream",
     "text": [
      "Precision: 0.534\n",
      "Recall: 0.647\n",
      "F1: 0.585\n",
      "Neural Net _score: 0.47980997624703087\n",
      "[[156  48]\n",
      " [171  46]]\n"
     ]
    },
    {
     "data": {
      "image/png": "[encoded data removed]",
      "text/plain": [
       "<Figure size 180x180 with 1 Axes>"
      ]
     },
     "metadata": {},
     "output_type": "display_data"
    },
    {
     "name": "stdout",
     "output_type": "stream",
     "text": [
      "Precision: 0.477\n",
      "Recall: 0.765\n",
      "F1: 0.588\n",
      "AdaBoost _score: 0.5130641330166271\n",
      "[[132  72]\n",
      " [133  84]]\n"
     ]
    },
    {
     "data": {
      "image/png": "[encoded data removed]",
      "text/plain": [
       "<Figure size 180x180 with 1 Axes>"
      ]
     },
     "metadata": {},
     "output_type": "display_data"
    },
    {
     "name": "stdout",
     "output_type": "stream",
     "text": [
      "Precision: 0.498\n",
      "Recall: 0.647\n",
      "F1: 0.563\n",
      "Naive Bayes _score: 0.49406175771971494\n",
      "[[131  73]\n",
      " [140  77]]\n"
     ]
    },
    {
     "data": {
      "image/png": "[encoded data removed]",
      "text/plain": [
       "<Figure size 180x180 with 1 Axes>"
      ]
     },
     "metadata": {},
     "output_type": "display_data"
    },
    {
     "name": "stdout",
     "output_type": "stream",
     "text": [
      "Precision: 0.483\n",
      "Recall: 0.642\n",
      "F1: 0.552\n",
      "QDA _score: 0.4821852731591449\n",
      "[[138  66]\n",
      " [152  65]]\n"
     ]
    },
    {
     "data": {
      "image/png": "[encoded data removed]",
      "text/plain": [
       "<Figure size 180x180 with 1 Axes>"
      ]
     },
     "metadata": {},
     "output_type": "display_data"
    },
    {
     "name": "stdout",
     "output_type": "stream",
     "text": [
      "Precision: 0.476\n",
      "Recall: 0.676\n",
      "F1: 0.559\n"
     ]
    }
   ],
   "source": [
    "# Tired of running these algorithms one by one, this time we decide to cluster them and run together.\n",
    "# I provide a snippets(.json) for you, in which you can click the snippets and go through this process easily.\n",
    "\n",
    "# If your CPU is not fine, you can run this code and have a sleep now. Good night, sweetie！\n",
    "# How to select ML classifier? It depends.\n",
    "\n",
    "\n",
    "# model packages\n",
    "from sklearn.neural_network import MLPClassifier\n",
    "from sklearn.neighbors import KNeighborsClassifier\n",
    "from sklearn.svm import SVC\n",
    "from sklearn.gaussian_process import GaussianProcessClassifier\n",
    "from sklearn.gaussian_process.kernels import RBF\n",
    "from sklearn.tree import DecisionTreeClassifier\n",
    "from sklearn.ensemble import RandomForestClassifier, AdaBoostClassifier\n",
    "from sklearn.naive_bayes import GaussianNB\n",
    "from sklearn.discriminant_analysis import QuadraticDiscriminantAnalysis\n",
    "# evaluation packages\n",
    "from sklearn.metrics import confusion_matrix\n",
    "from sklearn.metrics import precision_score, recall_score, f1_score\n",
    "from sklearn.metrics import roc_curve, auc\n",
    "from scipy import interp\n",
    "from sklearn.model_selection import StratifiedKFold\n",
    "\n",
    "cv = list(StratifiedKFold(n_splits=3).split(X_train, y_train))\n",
    "names = [\"Nearest Neighbors\", \"Linear SVM\", \"RBF SVM\", \"Gaussian Process\",\n",
    "         \"Decision Tree\", \"Random Forest\", \"Neural Net\", \"AdaBoost\",\n",
    "         \"Naive Bayes\", \"QDA\"]\n",
    "\n",
    "classifiers = [\n",
    "    KNeighborsClassifier(5),\n",
    "    SVC(kernel=\"linear\", C=0.025),\n",
    "    SVC(kernel=\"rbf\",gamma=2, C=1),\n",
    "    GaussianProcessClassifier(1.0 * RBF(1.0)),\n",
    "    DecisionTreeClassifier(max_depth=8),\n",
    "    RandomForestClassifier(max_depth=8, n_estimators=10, max_features=1),\n",
    "    MLPClassifier(alpha=1, max_iter=1000),\n",
    "    AdaBoostClassifier(),\n",
    "    GaussianNB(),\n",
    "    QuadraticDiscriminantAnalysis()]\n",
    "\n",
    "for name, clf in zip(names, classifiers):\n",
    "    clf.fit(X_train, y_train)\n",
    "    score = clf.score(X_test, y_test)\n",
    "    print(name,'_score:',score)\n",
    "    y_pred = clf.predict(X_test)\n",
    "    confmat = confusion_matrix(y_true=y_test, y_pred=y_pred)\n",
    "    print(confmat)\n",
    "\n",
    "    fig, ax = plt.subplots(figsize=(2.5, 2.5))\n",
    "    ax.matshow(confmat, cmap=plt.cm.Blues, alpha=0.3)\n",
    "    \n",
    "    # plot confusion matrix\n",
    "    for i in range(confmat.shape[0]):\n",
    "        for j in range(confmat.shape[1]):\n",
    "            ax.text(x=j, y=i, s=confmat[i, j], va='center', ha='center')\n",
    "\n",
    "    plt.xlabel('Predicted label')\n",
    "    plt.ylabel('True label')\n",
    "\n",
    "    plt.tight_layout()\n",
    "    #plt.savefig('images/xxmethod.png', dpi=300)\n",
    "    plt.show()\n",
    "\n",
    "    print('Precision: %.3f' % precision_score(y_true=y_test, y_pred=y_pred, pos_label=0))\n",
    "    print('Recall: %.3f' % recall_score(y_true=y_test, y_pred=y_pred, pos_label=0))\n",
    "    print('F1: %.3f' % f1_score(y_true=y_test, y_pred=y_pred, pos_label=0))\n",
    "    \n",
    "    # plot ROC-AUC curve\n",
    "# Here I want to draw another plot, in which you add a line in every loop as well as plot one first matrix.\n",
    "# I don't know how to solve this in matplotlib\n",
    "    \n",
    "#     fig = plt.figure(figsize=(7, 5))\n",
    "\n",
    "#     mean_tpr = 0.0\n",
    "#     mean_fpr = np.linspace(0, 1, 100)\n",
    "#     all_tpr = []\n",
    "\n",
    "#     for i, (train, test) in enumerate(cv):\n",
    "#         probas = clf.fit(X_train_pca[train],\n",
    "#                             y_train[train]).predict_proba(X_train_pca[test])\n",
    "\n",
    "#         fpr, tpr, thresholds = roc_curve(y_train[test],\n",
    "#                                         probas[:, 0],\n",
    "#                                         pos_label=0)\n",
    "#         mean_tpr += interp(mean_fpr, fpr, tpr)\n",
    "#         mean_tpr[0] = 0.0\n",
    "#         roc_auc = auc(fpr, tpr)\n",
    "#         plt.plot(fpr,\n",
    "#                 tpr,\n",
    "#                 label='ROC fold %d (area = %0.2f)'\n",
    "#                       % (i+1, roc_auc))\n",
    "\n",
    "# plt.plot([0, 1],\n",
    "#          [0, 1],\n",
    "#          linestyle='--',\n",
    "#          color=(0.6, 0.6, 0.6),\n",
    "#          label='random guessing')\n",
    "\n",
    "# mean_tpr /= len(cv)\n",
    "# mean_tpr[-1] = 1.0\n",
    "# mean_auc = auc(mean_fpr, mean_tpr)\n",
    "# plt.plot(mean_fpr, mean_tpr, 'k--',\n",
    "#          label='mean ROC (area = %0.2f)' % mean_auc, lw=2)\n",
    "# plt.plot([0, 0, 1],\n",
    "#          [0, 1, 1],\n",
    "#          linestyle=':',\n",
    "#          color='black',\n",
    "#          label='perfect performance')\n",
    "\n",
    "# plt.xlim([-0.05, 1.05])\n",
    "# plt.ylim([-0.05, 1.05])\n",
    "# plt.xlabel('false positive rate')\n",
    "# plt.ylabel('true positive rate')\n",
    "# plt.legend(loc=\"lower right\")\n",
    "\n",
    "# plt.tight_layout()\n",
    "# # plt.savefig('images/06_10.png', dpi=300)\n",
    "# plt.show()\n",
    "\n",
    "    "
   ]
  },
  {
   "cell_type": "markdown",
   "metadata": {},
   "source": [
    "It's very disappointing that your model won't give you a good performance about precision rate (only slightly better than 50%). This is life, my honey. You'd better try to find some other advanced models, or to collect more information for this question. You should be glad that you saw such bad predictions in a tutorial, not in your work. I will definitely not show this result to my boss if I get this. "
   ]
  },
  {
   "cell_type": "markdown",
   "metadata": {},
   "source": [
    "# Summary"
   ]
  },
  {
   "cell_type": "markdown",
   "metadata": {},
   "source": [
    "We have finished the algorithms in supervise learning.  \n",
    "I hope you have generally understood the general steps of a machine learning project.   \n",
    "We provide examples of three difficulty levels, you can find and run them in other folders.   \n",
    "\n",
    "\n",
    "Have fun, stay healthy and live a happy life."
   ]
  },
  {
   "cell_type": "code",
   "execution_count": null,
   "metadata": {},
   "outputs": [],
   "source": []
  }
 ],
 "metadata": {
  "kernelspec": {
   "display_name": "Python 3",
   "language": "python",
   "name": "python3"
  },
  "language_info": {
   "codemirror_mode": {
    "name": "ipython",
    "version": 3
   },
   "file_extension": ".py",
   "mimetype": "text/x-python",
   "name": "python",
   "nbconvert_exporter": "python",
   "pygments_lexer": "ipython3",
   "version": "3.7.6"
  },
  "latex_envs": {
   "LaTeX_envs_menu_present": true,
   "autoclose": false,
   "autocomplete": true,
   "bibliofile": "biblio.bib",
   "cite_by": "apalike",
   "current_citInitial": 1,
   "eqLabelWithNumbers": true,
   "eqNumInitial": 1,
   "hotkeys": {
    "equation": "Ctrl-E",
    "itemize": "Ctrl-I"
   },
   "labels_anchors": false,
   "latex_user_defs": false,
   "report_style_numbering": false,
   "user_envs_cfg": false
  },
  "toc": {
   "base_numbering": 1,
   "nav_menu": {},
   "number_sections": true,
   "sideBar": true,
   "skip_h1_title": false,
   "title_cell": "Table of Contents",
   "title_sidebar": "Contents",
   "toc_cell": false,
   "toc_position": {
    "height": "calc(100% - 180px)",
    "left": "10px",
    "top": "150px",
    "width": "165px"
   },
   "toc_section_display": true,
   "toc_window_display": true
  },
  "varInspector": {
   "cols": {
    "lenName": 16,
    "lenType": 16,
    "lenVar": 40
   },
   "kernels_config": {
    "python": {
     "delete_cmd_postfix": "",
     "delete_cmd_prefix": "del ",
     "library": "var_list.py",
     "varRefreshCmd": "print(var_dic_list())"
    },
    "r": {
     "delete_cmd_postfix": ") ",
     "delete_cmd_prefix": "rm(",
     "library": "var_list.r",
     "varRefreshCmd": "cat(var_dic_list()) "
    }
   },
   "position": {
    "height": "251.4px",
    "left": "1083.2px",
    "right": "20px",
    "top": "60px",
    "width": "444px"
   },
   "types_to_exclude": [
    "module",
    "function",
    "builtin_function_or_method",
    "instance",
    "_Feature"
   ],
   "window_display": false
  }
 },
 "nbformat": 4,
 "nbformat_minor": 4
}
