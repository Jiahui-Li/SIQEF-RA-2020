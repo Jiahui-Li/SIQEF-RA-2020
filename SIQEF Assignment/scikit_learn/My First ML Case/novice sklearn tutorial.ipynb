{
 "cells": [
  {
   "cell_type": "code",
   "execution_count": 1,
   "metadata": {
    "ExecuteTime": {
     "end_time": "2020-08-28T07:13:19.131600Z",
     "start_time": "2020-08-28T07:13:19.125616Z"
    }
   },
   "outputs": [],
   "source": [
    "# This is an example snippet! You could try to reuse the code through snippets extension.\n",
    "# To create your own, add a new snippet block to the\n",
    "# snippets.json file in your jupyter nbextensions directory:\n",
    "# /nbextensions/snippets/snippets.json\n",
    "# I've added the snippets.json of this file in Github. You may download and reuse the code below."
   ]
  },
  {
   "cell_type": "markdown",
   "metadata": {},
   "source": [
    "This jupyter notebook is aiming at providing some programming skill for beginners.   "
   ]
  },
  {
   "cell_type": "markdown",
   "metadata": {},
   "source": [
    "# My first machine learning project"
   ]
  },
  {
   "cell_type": "markdown",
   "metadata": {},
   "source": [
    "### Author : Niko Pang"
   ]
  },
  {
   "cell_type": "markdown",
   "metadata": {},
   "source": [
    "When you start to code your own machine learning project, the first thing is to import relevant packages. At the beginning you will usually be scared when you see the adult-level code: they actually import so many packages!\n",
    "Feel free for that. You will never need to scrutinize all the command when you begin to code. You can just import packages whenever you need them. \n",
    "\n",
    "Press M to write some comments, and use multiple # to indicate the title. Use two null bytes at the end of the paragraph or `<br>` to change to another line. You may also try *Incline*, **Bold**, $ LaTeX $ .   \n",
    "*See more markdown command in http://xianbai.me/learn-md/article/syntax/paragraphs-and-line-breaks.html*  \n",
    "\n",
    "If you meet some problems, try to breath and describe it clearly, then search it in Google. You will always get the correct answer within the 20 page results.  \n",
    "\n",
    "If you want to control the size and font of the markdown accurately,<font/><br>you may try </font><font color=#FF0000 size=2 face=\"Times New Roman\">this way.\n",
    "    "
   ]
  },
  {
   "cell_type": "markdown",
   "metadata": {},
   "source": [
    "<div class=\"alert alert-block alert-info\"><b>Tip:</b> Use blue boxes (alert-info) for tips and notes. If it’s a note, you don’t have to include the word “Note”. See \n",
    "    https://github.com/parulnith/10-Simple-hacks-to-speed-up-your-Data-Analysis-in-Python \n",
    "</div>"
   ]
  },
  {
   "cell_type": "code",
   "execution_count": 2,
   "metadata": {
    "ExecuteTime": {
     "end_time": "2020-08-28T07:13:25.977331Z",
     "start_time": "2020-08-28T07:13:19.139579Z"
    }
   },
   "outputs": [],
   "source": [
    "# But some basic packages you need to import, which will help you to load data.\n",
    "import numpy as np\n",
    "# from tabulate import tabulate   # You can also use this package for pro data vasualization.\n",
    "\n",
    "import matplotlib.pyplot as plt      \n",
    "# Note:if you use `%matplotlib inline`, you do not need to `plt.show()` everytime.\n",
    "\n",
    "import pandas as pd  \n",
    "pd.set_option('max_colwidth',800)\n",
    "import pandas_profiling\n",
    "\n",
    "# If you want to time your program, you can ctrl+/ to activate the time package\n",
    "# import time"
   ]
  },
  {
   "cell_type": "markdown",
   "metadata": {},
   "source": [
    "\n",
    "\n",
    "\n",
    "When people think of machine learning, they often think of a program that is taking in data and spitting out predictions and insights. The process of performing machine learning often requires many more steps before and after the predictive analytics.\n",
    "\n",
    "We try to think of the Machine Learning process as:\n",
    "\n",
    "* Formulating a Question\n",
    "* Finding and Understanding the Data\n",
    "* Cleaning the Data and Feature Engineering\n",
    "* Choosing a Model\n",
    "* Tuning and Evaluating\n",
    "* Using the Model and Presenting Results\n",
    "* More cutting-edge content  \n",
    "\n",
    "See more in https://www.codecademy.com/articles/the-ml-process\n"
   ]
  },
  {
   "cell_type": "markdown",
   "metadata": {},
   "source": [
    "# Common steps"
   ]
  },
  {
   "cell_type": "markdown",
   "metadata": {},
   "source": [
    "## Find your imperial question"
   ]
  },
  {
   "cell_type": "markdown",
   "metadata": {},
   "source": [
    "We are interested in finding the forecast model to predict bank loss when default happens.  \n",
    "It is a supervised learning problem, see  \n",
    "\n",
    "https://scikit-learn.org/stable/supervised_learning.html  \n",
    "  \n",
    "for all possible ML algorithms we could use here.  \n",
    "\n",
    "**This tutorial uses sklearn - 0.23.2 version.**\n"
   ]
  },
  {
   "cell_type": "markdown",
   "metadata": {},
   "source": [
    "##  Find data"
   ]
  },
  {
   "cell_type": "markdown",
   "metadata": {},
   "source": [
    "Finding relative data is the first step for your project or research. On quantity side, it's always great to find huge quantity data. For the normal machine learning case, it's appropriate to have 1000+ data.  \n",
    "\n",
    "If you want to do something fancy, you can collect your own data. As machine learning needs so much data, usually you need to study beautifulsoup and some web crawler skills\n",
    "\n",
    "But in dimension side, even with the help of auto-algorithms to delete the unnecessary data, I still urge you not to have too much dimension(like 1000+) due to your computer capacity. Actually you can do that if you graduate from kindergarten and get the hand of cloud computing or parallel computing."
   ]
  },
  {
   "cell_type": "code",
   "execution_count": 3,
   "metadata": {
    "ExecuteTime": {
     "end_time": "2020-08-28T07:13:25.986281Z",
     "start_time": "2020-08-28T07:13:25.981292Z"
    }
   },
   "outputs": [],
   "source": [
    "# load/Save local data\n",
    "# pd.read_csv\n",
    "# pd.read_excel\n",
    "# pd.read_stata\n",
    "# pd.read_sql\n",
    "\n",
    "# data.to_csv('Result.csv')\n",
    "# data.to_excel('Result.xlsx')\n",
    "# and others …\n",
    "\n",
    "# print pd. then use tab to check the optional and its "
   ]
  },
  {
   "cell_type": "markdown",
   "metadata": {},
   "source": [
    "It's okay if you download data and preprocess it in excel or other software. But in case that you need data from URL, it's convenient if you can input data without download to your local computer and proprecess it in Python.\n",
    "\n",
    "Since not all of the website provide data API,let's use an local data case."
   ]
  },
  {
   "cell_type": "code",
   "execution_count": 4,
   "metadata": {
    "ExecuteTime": {
     "end_time": "2020-08-28T07:13:26.706352Z",
     "start_time": "2020-08-28T07:13:25.993259Z"
    }
   },
   "outputs": [
    {
     "data": {
      "text/html": [
       "<div>\n",
       "<style scoped>\n",
       "    .dataframe tbody tr th:only-of-type {\n",
       "        vertical-align: middle;\n",
       "    }\n",
       "\n",
       "    .dataframe tbody tr th {\n",
       "        vertical-align: top;\n",
       "    }\n",
       "\n",
       "    .dataframe thead th {\n",
       "        text-align: right;\n",
       "    }\n",
       "</style>\n",
       "<table border=\"1\" class=\"dataframe\">\n",
       "  <thead>\n",
       "    <tr style=\"text-align: right;\">\n",
       "      <th></th>\n",
       "      <th>Region</th>\n",
       "      <th>Business</th>\n",
       "      <th>Name</th>\n",
       "      <th>Status</th>\n",
       "      <th>Risk Category</th>\n",
       "      <th>Risk Sub-Category</th>\n",
       "      <th>Discovery Date</th>\n",
       "      <th>Occurrence Start Date</th>\n",
       "      <th>Year</th>\n",
       "      <th>Net Loss</th>\n",
       "      <th>Recovery Amount</th>\n",
       "      <th>Estimated Gross Loss</th>\n",
       "      <th>Recovery Amount (percent)</th>\n",
       "    </tr>\n",
       "  </thead>\n",
       "  <tbody>\n",
       "    <tr>\n",
       "      <th>0</th>\n",
       "      <td>EMEA</td>\n",
       "      <td>Retail Brokerage</td>\n",
       "      <td>LE−06−2</td>\n",
       "      <td>Under Review</td>\n",
       "      <td>Clients, Products and Business Practices</td>\n",
       "      <td>Product Flaws</td>\n",
       "      <td>2007-01-01</td>\n",
       "      <td>2007-01-02</td>\n",
       "      <td>2007</td>\n",
       "      <td>296555.27</td>\n",
       "      <td>83035.4756</td>\n",
       "      <td>291100</td>\n",
       "      <td>28.0</td>\n",
       "    </tr>\n",
       "    <tr>\n",
       "      <th>1</th>\n",
       "      <td>North America</td>\n",
       "      <td>Retail Banking</td>\n",
       "      <td>LE−06−3</td>\n",
       "      <td>Approved</td>\n",
       "      <td>Execution, Delivery and Process Management</td>\n",
       "      <td>Trade Counterparties</td>\n",
       "      <td>2007-01-03</td>\n",
       "      <td>2007-01-05</td>\n",
       "      <td>2007</td>\n",
       "      <td>87472.47</td>\n",
       "      <td>27116.4657</td>\n",
       "      <td>98400</td>\n",
       "      <td>31.0</td>\n",
       "    </tr>\n",
       "    <tr>\n",
       "      <th>2</th>\n",
       "      <td>Asia Pac</td>\n",
       "      <td>Retail Brokerage</td>\n",
       "      <td>LE−06−4</td>\n",
       "      <td>Not Started</td>\n",
       "      <td>Clients, Products and Business Practices</td>\n",
       "      <td>Advisory Activities</td>\n",
       "      <td>2007-01-04</td>\n",
       "      <td>2007-01-06</td>\n",
       "      <td>2007</td>\n",
       "      <td>229395.38</td>\n",
       "      <td>59642.7988</td>\n",
       "      <td>230700</td>\n",
       "      <td>26.0</td>\n",
       "    </tr>\n",
       "    <tr>\n",
       "      <th>3</th>\n",
       "      <td>EMEA</td>\n",
       "      <td>Retail Banking</td>\n",
       "      <td>LE−06−5</td>\n",
       "      <td>In Progress</td>\n",
       "      <td>Clients, Products and Business Practices</td>\n",
       "      <td>Product Flaws</td>\n",
       "      <td>2007-01-08</td>\n",
       "      <td>2007-01-11</td>\n",
       "      <td>2007</td>\n",
       "      <td>137925.29</td>\n",
       "      <td>34481.3225</td>\n",
       "      <td>137400</td>\n",
       "      <td>25.0</td>\n",
       "    </tr>\n",
       "    <tr>\n",
       "      <th>4</th>\n",
       "      <td>North America</td>\n",
       "      <td>Trading and Sales</td>\n",
       "      <td>LE−06−6</td>\n",
       "      <td>Under Review</td>\n",
       "      <td>Execution, Delivery and Process Management</td>\n",
       "      <td>Reporting and Disclosure</td>\n",
       "      <td>2007-01-12</td>\n",
       "      <td>2007-01-14</td>\n",
       "      <td>2007</td>\n",
       "      <td>292160.41</td>\n",
       "      <td>90569.7271</td>\n",
       "      <td>288300</td>\n",
       "      <td>31.0</td>\n",
       "    </tr>\n",
       "    <tr>\n",
       "      <th>...</th>\n",
       "      <td>...</td>\n",
       "      <td>...</td>\n",
       "      <td>...</td>\n",
       "      <td>...</td>\n",
       "      <td>...</td>\n",
       "      <td>...</td>\n",
       "      <td>...</td>\n",
       "      <td>...</td>\n",
       "      <td>...</td>\n",
       "      <td>...</td>\n",
       "      <td>...</td>\n",
       "      <td>...</td>\n",
       "      <td>...</td>\n",
       "    </tr>\n",
       "    <tr>\n",
       "      <th>1397</th>\n",
       "      <td>EMEA</td>\n",
       "      <td>Trading and Sales</td>\n",
       "      <td>z-LE-385</td>\n",
       "      <td>Under Review</td>\n",
       "      <td>Execution, Delivery and Process Management</td>\n",
       "      <td>Vendors and Suppliers</td>\n",
       "      <td>2013-11-15</td>\n",
       "      <td>2013-11-17</td>\n",
       "      <td>2013</td>\n",
       "      <td>952743.86</td>\n",
       "      <td>285823.1580</td>\n",
       "      <td>952800</td>\n",
       "      <td>30.0</td>\n",
       "    </tr>\n",
       "    <tr>\n",
       "      <th>1398</th>\n",
       "      <td>EMEA</td>\n",
       "      <td>Trading and Sales</td>\n",
       "      <td>z-LE-538</td>\n",
       "      <td>In Progress</td>\n",
       "      <td>Execution, Delivery and Process Management</td>\n",
       "      <td>Vendors and Suppliers</td>\n",
       "      <td>2014-01-24</td>\n",
       "      <td>2014-01-25</td>\n",
       "      <td>2014</td>\n",
       "      <td>122813.21</td>\n",
       "      <td>42984.6235</td>\n",
       "      <td>132200</td>\n",
       "      <td>35.0</td>\n",
       "    </tr>\n",
       "    <tr>\n",
       "      <th>1399</th>\n",
       "      <td>North America</td>\n",
       "      <td>Trading and Sales</td>\n",
       "      <td>z-LE-567</td>\n",
       "      <td>Not Started</td>\n",
       "      <td>Execution, Delivery and Process Management</td>\n",
       "      <td>Vendors and Suppliers</td>\n",
       "      <td>2014-03-23</td>\n",
       "      <td>2014-03-26</td>\n",
       "      <td>2014</td>\n",
       "      <td>949052.11</td>\n",
       "      <td>208791.4642</td>\n",
       "      <td>946400</td>\n",
       "      <td>22.0</td>\n",
       "    </tr>\n",
       "    <tr>\n",
       "      <th>1400</th>\n",
       "      <td>Asia Pac</td>\n",
       "      <td>Retail Banking</td>\n",
       "      <td>z-LE-600</td>\n",
       "      <td>Rejected</td>\n",
       "      <td>Execution, Delivery and Process Management</td>\n",
       "      <td>Vendors and Suppliers</td>\n",
       "      <td>2014-06-19</td>\n",
       "      <td>2014-06-20</td>\n",
       "      <td>2014</td>\n",
       "      <td>230710.76</td>\n",
       "      <td>18456.8608</td>\n",
       "      <td>232300</td>\n",
       "      <td>8.0</td>\n",
       "    </tr>\n",
       "    <tr>\n",
       "      <th>1401</th>\n",
       "      <td>North America</td>\n",
       "      <td>Retail Banking</td>\n",
       "      <td>z-LE-638</td>\n",
       "      <td>Rejected</td>\n",
       "      <td>Execution, Delivery and Process Management</td>\n",
       "      <td>Vendors and Suppliers</td>\n",
       "      <td>2014-10-04</td>\n",
       "      <td>2014-10-05</td>\n",
       "      <td>2014</td>\n",
       "      <td>240558.72</td>\n",
       "      <td>19244.6976</td>\n",
       "      <td>238900</td>\n",
       "      <td>8.0</td>\n",
       "    </tr>\n",
       "  </tbody>\n",
       "</table>\n",
       "<p>1402 rows × 13 columns</p>\n",
       "</div>"
      ],
      "text/plain": [
       "             Region           Business      Name        Status  \\\n",
       "0              EMEA   Retail Brokerage   LE−06−2  Under Review   \n",
       "1     North America     Retail Banking   LE−06−3      Approved   \n",
       "2          Asia Pac   Retail Brokerage   LE−06−4   Not Started   \n",
       "3              EMEA     Retail Banking   LE−06−5   In Progress   \n",
       "4     North America  Trading and Sales   LE−06−6  Under Review   \n",
       "...             ...                ...       ...           ...   \n",
       "1397           EMEA  Trading and Sales  z-LE-385  Under Review   \n",
       "1398           EMEA  Trading and Sales  z-LE-538   In Progress   \n",
       "1399  North America  Trading and Sales  z-LE-567   Not Started   \n",
       "1400       Asia Pac     Retail Banking  z-LE-600      Rejected   \n",
       "1401  North America     Retail Banking  z-LE-638      Rejected   \n",
       "\n",
       "                                   Risk Category         Risk Sub-Category  \\\n",
       "0       Clients, Products and Business Practices             Product Flaws   \n",
       "1     Execution, Delivery and Process Management      Trade Counterparties   \n",
       "2       Clients, Products and Business Practices       Advisory Activities   \n",
       "3       Clients, Products and Business Practices             Product Flaws   \n",
       "4     Execution, Delivery and Process Management  Reporting and Disclosure   \n",
       "...                                          ...                       ...   \n",
       "1397  Execution, Delivery and Process Management     Vendors and Suppliers   \n",
       "1398  Execution, Delivery and Process Management     Vendors and Suppliers   \n",
       "1399  Execution, Delivery and Process Management     Vendors and Suppliers   \n",
       "1400  Execution, Delivery and Process Management     Vendors and Suppliers   \n",
       "1401  Execution, Delivery and Process Management     Vendors and Suppliers   \n",
       "\n",
       "     Discovery Date Occurrence Start Date  Year   Net Loss  Recovery Amount  \\\n",
       "0        2007-01-01            2007-01-02  2007  296555.27       83035.4756   \n",
       "1        2007-01-03            2007-01-05  2007   87472.47       27116.4657   \n",
       "2        2007-01-04            2007-01-06  2007  229395.38       59642.7988   \n",
       "3        2007-01-08            2007-01-11  2007  137925.29       34481.3225   \n",
       "4        2007-01-12            2007-01-14  2007  292160.41       90569.7271   \n",
       "...             ...                   ...   ...        ...              ...   \n",
       "1397     2013-11-15            2013-11-17  2013  952743.86      285823.1580   \n",
       "1398     2014-01-24            2014-01-25  2014  122813.21       42984.6235   \n",
       "1399     2014-03-23            2014-03-26  2014  949052.11      208791.4642   \n",
       "1400     2014-06-19            2014-06-20  2014  230710.76       18456.8608   \n",
       "1401     2014-10-04            2014-10-05  2014  240558.72       19244.6976   \n",
       "\n",
       "      Estimated Gross Loss  Recovery Amount (percent)  \n",
       "0                   291100                       28.0  \n",
       "1                    98400                       31.0  \n",
       "2                   230700                       26.0  \n",
       "3                   137400                       25.0  \n",
       "4                   288300                       31.0  \n",
       "...                    ...                        ...  \n",
       "1397                952800                       30.0  \n",
       "1398                132200                       35.0  \n",
       "1399                946400                       22.0  \n",
       "1400                232300                        8.0  \n",
       "1401                238900                        8.0  \n",
       "\n",
       "[1402 rows x 13 columns]"
      ]
     },
     "execution_count": 4,
     "metadata": {},
     "output_type": "execute_result"
    }
   ],
   "source": [
    "df = pd.read_excel('Banking_loss_events.xlsx')\n",
    "df\n",
    "# You can also check the data via 'df.head()' ,'df.tail()','tabulate(df) (need imported package)' or other methods."
   ]
  },
  {
   "cell_type": "markdown",
   "metadata": {},
   "source": [
    "## Explore data "
   ]
  },
  {
   "cell_type": "markdown",
   "metadata": {},
   "source": [
    "You can use package `qgrid` to quickly screen the data subset. "
   ]
  },
  {
   "cell_type": "code",
   "execution_count": 5,
   "metadata": {
    "ExecuteTime": {
     "end_time": "2020-08-28T07:13:26.749240Z",
     "start_time": "2020-08-28T07:13:26.710342Z"
    }
   },
   "outputs": [
    {
     "name": "stdout",
     "output_type": "stream",
     "text": [
      "QGridWidget\n",
      "QgridWidget\n",
      "__all__\n",
      "__builtins__\n",
      "__cached__\n",
      "__doc__\n",
      "__file__\n",
      "__loader__\n",
      "__name__\n",
      "__package__\n",
      "__path__\n",
      "__spec__\n",
      "__version__\n",
      "_jupyter_nbextension_paths\n",
      "_version\n",
      "disable\n",
      "enable\n",
      "grid\n",
      "off\n",
      "on\n",
      "set_defaults\n",
      "set_grid_option\n",
      "show_grid\n",
      "version_info\n"
     ]
    }
   ],
   "source": [
    "import qgrid\n",
    "# This is an useful package for first-step screen. See https://github.com/quantopian/qgrid\n",
    "\n",
    "for qgrid_functions in dir(qgrid):\n",
    "    print(qgrid_functions)   # show the inside function callable in qgrid\n",
    "\n",
    "# other important command for qgrid\n",
    "# qgrid.nbinstall(overwrite=True)\n",
    "# qgrid.set_defaults(remote_js=True, precision=2)"
   ]
  },
  {
   "cell_type": "code",
   "execution_count": 6,
   "metadata": {
    "ExecuteTime": {
     "end_time": "2020-08-28T07:13:26.876899Z",
     "start_time": "2020-08-28T07:13:26.753227Z"
    }
   },
   "outputs": [
    {
     "data": {
      "application/vnd.jupyter.widget-view+json": {
       "model_id": "8687fb361c7b4d938a519ea3f46b20e7",
       "version_major": 2,
       "version_minor": 0
      },
      "text/plain": [
       "QgridWidget(grid_options={'fullWidthRows': True, 'syncColumnCellResize': True, 'forceFitColumns': True, 'defau…"
      ]
     },
     "metadata": {},
     "output_type": "display_data"
    }
   ],
   "source": [
    "df_qgrid = qgrid.show_grid(df, show_toolbar=True)\n",
    "df_qgrid\n",
    "# qgrid.show_grid(df)"
   ]
  },
  {
   "cell_type": "code",
   "execution_count": 7,
   "metadata": {
    "ExecuteTime": {
     "end_time": "2020-08-28T07:13:26.938732Z",
     "start_time": "2020-08-28T07:13:26.882882Z"
    }
   },
   "outputs": [
    {
     "data": {
      "text/html": [
       "<div>\n",
       "<style scoped>\n",
       "    .dataframe tbody tr th:only-of-type {\n",
       "        vertical-align: middle;\n",
       "    }\n",
       "\n",
       "    .dataframe tbody tr th {\n",
       "        vertical-align: top;\n",
       "    }\n",
       "\n",
       "    .dataframe thead th {\n",
       "        text-align: right;\n",
       "    }\n",
       "</style>\n",
       "<table border=\"1\" class=\"dataframe\">\n",
       "  <thead>\n",
       "    <tr style=\"text-align: right;\">\n",
       "      <th></th>\n",
       "      <th>Region</th>\n",
       "      <th>Business</th>\n",
       "      <th>Name</th>\n",
       "      <th>Status</th>\n",
       "      <th>Risk Category</th>\n",
       "      <th>Risk Sub-Category</th>\n",
       "      <th>Discovery Date</th>\n",
       "      <th>Occurrence Start Date</th>\n",
       "      <th>Year</th>\n",
       "      <th>Net Loss</th>\n",
       "      <th>Recovery Amount</th>\n",
       "      <th>Estimated Gross Loss</th>\n",
       "      <th>Recovery Amount (percent)</th>\n",
       "    </tr>\n",
       "  </thead>\n",
       "  <tbody>\n",
       "    <tr>\n",
       "      <th>0</th>\n",
       "      <td>EMEA</td>\n",
       "      <td>Retail Brokerage</td>\n",
       "      <td>LE−06−2</td>\n",
       "      <td>Under Review</td>\n",
       "      <td>Clients, Products and Business Practices</td>\n",
       "      <td>Product Flaws</td>\n",
       "      <td>2007-01-01</td>\n",
       "      <td>2007-01-02</td>\n",
       "      <td>2007</td>\n",
       "      <td>296555.27</td>\n",
       "      <td>83035.4756</td>\n",
       "      <td>291100</td>\n",
       "      <td>28.0</td>\n",
       "    </tr>\n",
       "    <tr>\n",
       "      <th>1</th>\n",
       "      <td>North America</td>\n",
       "      <td>Retail Banking</td>\n",
       "      <td>LE−06−3</td>\n",
       "      <td>Approved</td>\n",
       "      <td>Execution, Delivery and Process Management</td>\n",
       "      <td>Trade Counterparties</td>\n",
       "      <td>2007-01-03</td>\n",
       "      <td>2007-01-05</td>\n",
       "      <td>2007</td>\n",
       "      <td>87472.47</td>\n",
       "      <td>27116.4657</td>\n",
       "      <td>98400</td>\n",
       "      <td>31.0</td>\n",
       "    </tr>\n",
       "    <tr>\n",
       "      <th>2</th>\n",
       "      <td>Asia Pac</td>\n",
       "      <td>Retail Brokerage</td>\n",
       "      <td>LE−06−4</td>\n",
       "      <td>Not Started</td>\n",
       "      <td>Clients, Products and Business Practices</td>\n",
       "      <td>Advisory Activities</td>\n",
       "      <td>2007-01-04</td>\n",
       "      <td>2007-01-06</td>\n",
       "      <td>2007</td>\n",
       "      <td>229395.38</td>\n",
       "      <td>59642.7988</td>\n",
       "      <td>230700</td>\n",
       "      <td>26.0</td>\n",
       "    </tr>\n",
       "    <tr>\n",
       "      <th>3</th>\n",
       "      <td>EMEA</td>\n",
       "      <td>Retail Banking</td>\n",
       "      <td>LE−06−5</td>\n",
       "      <td>In Progress</td>\n",
       "      <td>Clients, Products and Business Practices</td>\n",
       "      <td>Product Flaws</td>\n",
       "      <td>2007-01-08</td>\n",
       "      <td>2007-01-11</td>\n",
       "      <td>2007</td>\n",
       "      <td>137925.29</td>\n",
       "      <td>34481.3225</td>\n",
       "      <td>137400</td>\n",
       "      <td>25.0</td>\n",
       "    </tr>\n",
       "    <tr>\n",
       "      <th>4</th>\n",
       "      <td>North America</td>\n",
       "      <td>Trading and Sales</td>\n",
       "      <td>LE−06−6</td>\n",
       "      <td>Under Review</td>\n",
       "      <td>Execution, Delivery and Process Management</td>\n",
       "      <td>Reporting and Disclosure</td>\n",
       "      <td>2007-01-12</td>\n",
       "      <td>2007-01-14</td>\n",
       "      <td>2007</td>\n",
       "      <td>292160.41</td>\n",
       "      <td>90569.7271</td>\n",
       "      <td>288300</td>\n",
       "      <td>31.0</td>\n",
       "    </tr>\n",
       "    <tr>\n",
       "      <th>...</th>\n",
       "      <td>...</td>\n",
       "      <td>...</td>\n",
       "      <td>...</td>\n",
       "      <td>...</td>\n",
       "      <td>...</td>\n",
       "      <td>...</td>\n",
       "      <td>...</td>\n",
       "      <td>...</td>\n",
       "      <td>...</td>\n",
       "      <td>...</td>\n",
       "      <td>...</td>\n",
       "      <td>...</td>\n",
       "      <td>...</td>\n",
       "    </tr>\n",
       "    <tr>\n",
       "      <th>1397</th>\n",
       "      <td>EMEA</td>\n",
       "      <td>Trading and Sales</td>\n",
       "      <td>z-LE-385</td>\n",
       "      <td>Under Review</td>\n",
       "      <td>Execution, Delivery and Process Management</td>\n",
       "      <td>Vendors and Suppliers</td>\n",
       "      <td>2013-11-15</td>\n",
       "      <td>2013-11-17</td>\n",
       "      <td>2013</td>\n",
       "      <td>952743.86</td>\n",
       "      <td>285823.1580</td>\n",
       "      <td>952800</td>\n",
       "      <td>30.0</td>\n",
       "    </tr>\n",
       "    <tr>\n",
       "      <th>1398</th>\n",
       "      <td>EMEA</td>\n",
       "      <td>Trading and Sales</td>\n",
       "      <td>z-LE-538</td>\n",
       "      <td>In Progress</td>\n",
       "      <td>Execution, Delivery and Process Management</td>\n",
       "      <td>Vendors and Suppliers</td>\n",
       "      <td>2014-01-24</td>\n",
       "      <td>2014-01-25</td>\n",
       "      <td>2014</td>\n",
       "      <td>122813.21</td>\n",
       "      <td>42984.6235</td>\n",
       "      <td>132200</td>\n",
       "      <td>35.0</td>\n",
       "    </tr>\n",
       "    <tr>\n",
       "      <th>1399</th>\n",
       "      <td>North America</td>\n",
       "      <td>Trading and Sales</td>\n",
       "      <td>z-LE-567</td>\n",
       "      <td>Not Started</td>\n",
       "      <td>Execution, Delivery and Process Management</td>\n",
       "      <td>Vendors and Suppliers</td>\n",
       "      <td>2014-03-23</td>\n",
       "      <td>2014-03-26</td>\n",
       "      <td>2014</td>\n",
       "      <td>949052.11</td>\n",
       "      <td>208791.4642</td>\n",
       "      <td>946400</td>\n",
       "      <td>22.0</td>\n",
       "    </tr>\n",
       "    <tr>\n",
       "      <th>1400</th>\n",
       "      <td>Asia Pac</td>\n",
       "      <td>Retail Banking</td>\n",
       "      <td>z-LE-600</td>\n",
       "      <td>Rejected</td>\n",
       "      <td>Execution, Delivery and Process Management</td>\n",
       "      <td>Vendors and Suppliers</td>\n",
       "      <td>2014-06-19</td>\n",
       "      <td>2014-06-20</td>\n",
       "      <td>2014</td>\n",
       "      <td>230710.76</td>\n",
       "      <td>18456.8608</td>\n",
       "      <td>232300</td>\n",
       "      <td>8.0</td>\n",
       "    </tr>\n",
       "    <tr>\n",
       "      <th>1401</th>\n",
       "      <td>North America</td>\n",
       "      <td>Retail Banking</td>\n",
       "      <td>z-LE-638</td>\n",
       "      <td>Rejected</td>\n",
       "      <td>Execution, Delivery and Process Management</td>\n",
       "      <td>Vendors and Suppliers</td>\n",
       "      <td>2014-10-04</td>\n",
       "      <td>2014-10-05</td>\n",
       "      <td>2014</td>\n",
       "      <td>240558.72</td>\n",
       "      <td>19244.6976</td>\n",
       "      <td>238900</td>\n",
       "      <td>8.0</td>\n",
       "    </tr>\n",
       "  </tbody>\n",
       "</table>\n",
       "<p>1402 rows × 13 columns</p>\n",
       "</div>"
      ],
      "text/plain": [
       "             Region           Business      Name        Status  \\\n",
       "0              EMEA   Retail Brokerage   LE−06−2  Under Review   \n",
       "1     North America     Retail Banking   LE−06−3      Approved   \n",
       "2          Asia Pac   Retail Brokerage   LE−06−4   Not Started   \n",
       "3              EMEA     Retail Banking   LE−06−5   In Progress   \n",
       "4     North America  Trading and Sales   LE−06−6  Under Review   \n",
       "...             ...                ...       ...           ...   \n",
       "1397           EMEA  Trading and Sales  z-LE-385  Under Review   \n",
       "1398           EMEA  Trading and Sales  z-LE-538   In Progress   \n",
       "1399  North America  Trading and Sales  z-LE-567   Not Started   \n",
       "1400       Asia Pac     Retail Banking  z-LE-600      Rejected   \n",
       "1401  North America     Retail Banking  z-LE-638      Rejected   \n",
       "\n",
       "                                   Risk Category         Risk Sub-Category  \\\n",
       "0       Clients, Products and Business Practices             Product Flaws   \n",
       "1     Execution, Delivery and Process Management      Trade Counterparties   \n",
       "2       Clients, Products and Business Practices       Advisory Activities   \n",
       "3       Clients, Products and Business Practices             Product Flaws   \n",
       "4     Execution, Delivery and Process Management  Reporting and Disclosure   \n",
       "...                                          ...                       ...   \n",
       "1397  Execution, Delivery and Process Management     Vendors and Suppliers   \n",
       "1398  Execution, Delivery and Process Management     Vendors and Suppliers   \n",
       "1399  Execution, Delivery and Process Management     Vendors and Suppliers   \n",
       "1400  Execution, Delivery and Process Management     Vendors and Suppliers   \n",
       "1401  Execution, Delivery and Process Management     Vendors and Suppliers   \n",
       "\n",
       "     Discovery Date Occurrence Start Date  Year   Net Loss  Recovery Amount  \\\n",
       "0        2007-01-01            2007-01-02  2007  296555.27       83035.4756   \n",
       "1        2007-01-03            2007-01-05  2007   87472.47       27116.4657   \n",
       "2        2007-01-04            2007-01-06  2007  229395.38       59642.7988   \n",
       "3        2007-01-08            2007-01-11  2007  137925.29       34481.3225   \n",
       "4        2007-01-12            2007-01-14  2007  292160.41       90569.7271   \n",
       "...             ...                   ...   ...        ...              ...   \n",
       "1397     2013-11-15            2013-11-17  2013  952743.86      285823.1580   \n",
       "1398     2014-01-24            2014-01-25  2014  122813.21       42984.6235   \n",
       "1399     2014-03-23            2014-03-26  2014  949052.11      208791.4642   \n",
       "1400     2014-06-19            2014-06-20  2014  230710.76       18456.8608   \n",
       "1401     2014-10-04            2014-10-05  2014  240558.72       19244.6976   \n",
       "\n",
       "      Estimated Gross Loss  Recovery Amount (percent)  \n",
       "0                   291100                       28.0  \n",
       "1                    98400                       31.0  \n",
       "2                   230700                       26.0  \n",
       "3                   137400                       25.0  \n",
       "4                   288300                       31.0  \n",
       "...                    ...                        ...  \n",
       "1397                952800                       30.0  \n",
       "1398                132200                       35.0  \n",
       "1399                946400                       22.0  \n",
       "1400                232300                        8.0  \n",
       "1401                238900                        8.0  \n",
       "\n",
       "[1402 rows x 13 columns]"
      ]
     },
     "execution_count": 7,
     "metadata": {},
     "output_type": "execute_result"
    }
   ],
   "source": [
    "df_qgrid.get_changed_df()\n",
    "\n",
    "# If you change the data in qgrid_excel above, do save it as\n",
    "# df = df_qgrid.get_changed_df()"
   ]
  },
  {
   "cell_type": "code",
   "execution_count": 8,
   "metadata": {
    "ExecuteTime": {
     "end_time": "2020-08-28T07:13:26.956682Z",
     "start_time": "2020-08-28T07:13:26.942723Z"
    }
   },
   "outputs": [],
   "source": [
    "# After firstly scaling and screening the data, we use pandas_profiling package to check the data deeply.\n",
    "# Then we'll decide what to do next. \n",
    "# Please activate the following code when you run this project at first time.\n",
    "\n",
    "# df.profile_report()"
   ]
  },
  {
   "cell_type": "code",
   "execution_count": 9,
   "metadata": {
    "ExecuteTime": {
     "end_time": "2020-08-28T07:13:26.973638Z",
     "start_time": "2020-08-28T07:13:26.967655Z"
    }
   },
   "outputs": [],
   "source": [
    "# By the way, exporting the data report is also possible, if you don't want to see it in jupyter.\n",
    "# profile = df.profile_report(title='Pandas Profiling Report')  \n",
    "# profile.to_file(\"Banking data profiling.html\")"
   ]
  },
  {
   "cell_type": "markdown",
   "metadata": {},
   "source": [
    "## Normal data exploration: similar steps in pandas"
   ]
  },
  {
   "cell_type": "markdown",
   "metadata": {},
   "source": [
    "Note that you can also implement the similar functions in pandas. But I just don't like it because it is too slow and usually not that professional.  \n",
    "If you have the same preference or you just want to excel this part and load back, just skip this 1.3 section.   "
   ]
  },
  {
   "cell_type": "code",
   "execution_count": 10,
   "metadata": {
    "ExecuteTime": {
     "end_time": "2020-08-28T07:13:27.003559Z",
     "start_time": "2020-08-28T07:13:26.980644Z"
    }
   },
   "outputs": [
    {
     "name": "stdout",
     "output_type": "stream",
     "text": [
      "<class 'pandas.core.frame.DataFrame'>\n",
      "RangeIndex: 1402 entries, 0 to 1401\n",
      "Data columns (total 13 columns):\n",
      " #   Column                     Non-Null Count  Dtype         \n",
      "---  ------                     --------------  -----         \n",
      " 0   Region                     1402 non-null   object        \n",
      " 1   Business                   1402 non-null   object        \n",
      " 2   Name                       1402 non-null   object        \n",
      " 3   Status                     1402 non-null   object        \n",
      " 4   Risk Category              1402 non-null   object        \n",
      " 5   Risk Sub-Category          1402 non-null   object        \n",
      " 6   Discovery Date             1402 non-null   datetime64[ns]\n",
      " 7   Occurrence Start Date      1402 non-null   datetime64[ns]\n",
      " 8   Year                       1402 non-null   int64         \n",
      " 9   Net Loss                   1402 non-null   float64       \n",
      " 10  Recovery Amount            1402 non-null   float64       \n",
      " 11  Estimated Gross Loss       1402 non-null   int64         \n",
      " 12  Recovery Amount (percent)  1402 non-null   float64       \n",
      "dtypes: datetime64[ns](2), float64(3), int64(2), object(6)\n",
      "memory usage: 142.5+ KB\n"
     ]
    }
   ],
   "source": [
    "df.info()"
   ]
  },
  {
   "cell_type": "markdown",
   "metadata": {},
   "source": [
    "Ooops, we have plenty of 'object' features, which means they contain text and cannot put into our model directly. We need to do some transformation accordingly.  \n",
    "\n",
    "Let's check the description statistics for numerical variables."
   ]
  },
  {
   "cell_type": "code",
   "execution_count": 11,
   "metadata": {
    "ExecuteTime": {
     "end_time": "2020-08-28T07:13:27.064396Z",
     "start_time": "2020-08-28T07:13:27.008545Z"
    }
   },
   "outputs": [
    {
     "data": {
      "text/html": [
       "<div>\n",
       "<style scoped>\n",
       "    .dataframe tbody tr th:only-of-type {\n",
       "        vertical-align: middle;\n",
       "    }\n",
       "\n",
       "    .dataframe tbody tr th {\n",
       "        vertical-align: top;\n",
       "    }\n",
       "\n",
       "    .dataframe thead th {\n",
       "        text-align: right;\n",
       "    }\n",
       "</style>\n",
       "<table border=\"1\" class=\"dataframe\">\n",
       "  <thead>\n",
       "    <tr style=\"text-align: right;\">\n",
       "      <th></th>\n",
       "      <th>Year</th>\n",
       "      <th>Net Loss</th>\n",
       "      <th>Recovery Amount</th>\n",
       "      <th>Estimated Gross Loss</th>\n",
       "      <th>Recovery Amount (percent)</th>\n",
       "    </tr>\n",
       "  </thead>\n",
       "  <tbody>\n",
       "    <tr>\n",
       "      <th>count</th>\n",
       "      <td>1402.000000</td>\n",
       "      <td>1.402000e+03</td>\n",
       "      <td>1.402000e+03</td>\n",
       "      <td>1.402000e+03</td>\n",
       "      <td>1402.000000</td>\n",
       "    </tr>\n",
       "    <tr>\n",
       "      <th>mean</th>\n",
       "      <td>2011.019971</td>\n",
       "      <td>3.618860e+05</td>\n",
       "      <td>1.026123e+05</td>\n",
       "      <td>3.716211e+05</td>\n",
       "      <td>29.596291</td>\n",
       "    </tr>\n",
       "    <tr>\n",
       "      <th>std</th>\n",
       "      <td>2.239009</td>\n",
       "      <td>1.102039e+06</td>\n",
       "      <td>2.885603e+05</td>\n",
       "      <td>1.108328e+06</td>\n",
       "      <td>6.483356</td>\n",
       "    </tr>\n",
       "    <tr>\n",
       "      <th>min</th>\n",
       "      <td>2007.000000</td>\n",
       "      <td>-4.993440e+03</td>\n",
       "      <td>-1.947442e+03</td>\n",
       "      <td>-7.700000e+03</td>\n",
       "      <td>5.000000</td>\n",
       "    </tr>\n",
       "    <tr>\n",
       "      <th>25%</th>\n",
       "      <td>2009.000000</td>\n",
       "      <td>8.569924e+04</td>\n",
       "      <td>2.371198e+04</td>\n",
       "      <td>9.130000e+04</td>\n",
       "      <td>25.000000</td>\n",
       "    </tr>\n",
       "    <tr>\n",
       "      <th>50%</th>\n",
       "      <td>2011.000000</td>\n",
       "      <td>1.735251e+05</td>\n",
       "      <td>4.909423e+04</td>\n",
       "      <td>1.774000e+05</td>\n",
       "      <td>30.000000</td>\n",
       "    </tr>\n",
       "    <tr>\n",
       "      <th>75%</th>\n",
       "      <td>2013.000000</td>\n",
       "      <td>2.677119e+05</td>\n",
       "      <td>8.375998e+04</td>\n",
       "      <td>2.753000e+05</td>\n",
       "      <td>35.000000</td>\n",
       "    </tr>\n",
       "    <tr>\n",
       "      <th>max</th>\n",
       "      <td>2014.000000</td>\n",
       "      <td>1.168786e+07</td>\n",
       "      <td>3.774000e+06</td>\n",
       "      <td>1.169800e+07</td>\n",
       "      <td>40.000000</td>\n",
       "    </tr>\n",
       "  </tbody>\n",
       "</table>\n",
       "</div>"
      ],
      "text/plain": [
       "              Year      Net Loss  Recovery Amount  Estimated Gross Loss  \\\n",
       "count  1402.000000  1.402000e+03     1.402000e+03          1.402000e+03   \n",
       "mean   2011.019971  3.618860e+05     1.026123e+05          3.716211e+05   \n",
       "std       2.239009  1.102039e+06     2.885603e+05          1.108328e+06   \n",
       "min    2007.000000 -4.993440e+03    -1.947442e+03         -7.700000e+03   \n",
       "25%    2009.000000  8.569924e+04     2.371198e+04          9.130000e+04   \n",
       "50%    2011.000000  1.735251e+05     4.909423e+04          1.774000e+05   \n",
       "75%    2013.000000  2.677119e+05     8.375998e+04          2.753000e+05   \n",
       "max    2014.000000  1.168786e+07     3.774000e+06          1.169800e+07   \n",
       "\n",
       "       Recovery Amount (percent)  \n",
       "count                1402.000000  \n",
       "mean                   29.596291  \n",
       "std                     6.483356  \n",
       "min                     5.000000  \n",
       "25%                    25.000000  \n",
       "50%                    30.000000  \n",
       "75%                    35.000000  \n",
       "max                    40.000000  "
      ]
     },
     "execution_count": 11,
     "metadata": {},
     "output_type": "execute_result"
    }
   ],
   "source": [
    "df.describe()"
   ]
  },
  {
   "cell_type": "code",
   "execution_count": 12,
   "metadata": {
    "ExecuteTime": {
     "end_time": "2020-08-28T07:13:29.200684Z",
     "start_time": "2020-08-28T07:13:27.068388Z"
    }
   },
   "outputs": [
    {
     "data": {
      "text/plain": [
       "array([[<AxesSubplot:title={'center':'Estimated Gross Loss'}>,\n",
       "        <AxesSubplot:title={'center':'Net Loss'}>],\n",
       "       [<AxesSubplot:title={'center':'Recovery Amount'}>,\n",
       "        <AxesSubplot:title={'center':'Recovery Amount (percent)'}>],\n",
       "       [<AxesSubplot:title={'center':'Year'}>, <AxesSubplot:>]],\n",
       "      dtype=object)"
      ]
     },
     "execution_count": 12,
     "metadata": {},
     "output_type": "execute_result"
    },
    {
     "data": {
      "image/png": "[encoded data removed]",
      "text/plain": [
       "<Figure size 576x396 with 6 Axes>"
      ]
     },
     "metadata": {},
     "output_type": "display_data"
    }
   ],
   "source": [
    "df.hist()\n",
    "# only provides the bar charts for all numerical features in data "
   ]
  },
  {
   "cell_type": "code",
   "execution_count": 13,
   "metadata": {
    "ExecuteTime": {
     "end_time": "2020-08-28T07:13:29.217640Z",
     "start_time": "2020-08-28T07:13:29.204672Z"
    }
   },
   "outputs": [
    {
     "data": {
      "text/plain": [
       "array(['EMEA', 'North America', 'Asia Pac'], dtype=object)"
      ]
     },
     "execution_count": 13,
     "metadata": {},
     "output_type": "execute_result"
    }
   ],
   "source": [
    "df['Region'].unique()\n",
    "# For catagorical feature, check how much catagories it has. "
   ]
  },
  {
   "cell_type": "markdown",
   "metadata": {},
   "source": [
    "Here we list some other useful operation when you are doing your own data project.  \n",
    "Following links are cheat-sheets from DataCamp, which will help you Get through this difficulty:    \n",
    "https://datacamp-community-prod.s3.amazonaws.com/50d31142-3de0-4159-89b9-18b718a728ef   \n",
    "https://datacamp-community-prod.s3.amazonaws.com/9f0f2ae1-8bd8-4302-a67b-e17f3059d9e8"
   ]
  },
  {
   "cell_type": "code",
   "execution_count": 14,
   "metadata": {
    "ExecuteTime": {
     "end_time": "2020-08-28T07:13:29.270496Z",
     "start_time": "2020-08-28T07:13:29.221628Z"
    }
   },
   "outputs": [
    {
     "name": "stdout",
     "output_type": "stream",
     "text": [
      "0       296555.27\n",
      "1        87472.47\n",
      "2       229395.38\n",
      "3       137925.29\n",
      "4       292160.41\n",
      "          ...    \n",
      "1397    952743.86\n",
      "1398    122813.21\n",
      "1399    949052.11\n",
      "1400    230710.76\n",
      "1401    240558.72\n",
      "Name: Net Loss, Length: 1402, dtype: float64\n",
      "       Net Loss\n",
      "0     296555.27\n",
      "1      87472.47\n",
      "2     229395.38\n",
      "3     137925.29\n",
      "4     292160.41\n",
      "...         ...\n",
      "1397  952743.86\n",
      "1398  122813.21\n",
      "1399  949052.11\n",
      "1400  230710.76\n",
      "1401  240558.72\n",
      "\n",
      "[1402 rows x 1 columns]\n",
      "    Year Occurrence Start Date\n",
      "0   2007            2007-01-02\n",
      "1   2007            2007-01-05\n",
      "2   2007            2007-01-06\n",
      "3   2007            2007-01-11\n",
      "4   2007            2007-01-14\n",
      "..   ...                   ...\n",
      "95  2007            2007-10-07\n",
      "96  2007            2007-10-08\n",
      "97  2007            2007-10-13\n",
      "98  2007            2007-10-15\n",
      "99  2007            2007-10-18\n",
      "\n",
      "[100 rows x 2 columns]\n"
     ]
    },
    {
     "data": {
      "text/html": [
       "<div>\n",
       "<style scoped>\n",
       "    .dataframe tbody tr th:only-of-type {\n",
       "        vertical-align: middle;\n",
       "    }\n",
       "\n",
       "    .dataframe tbody tr th {\n",
       "        vertical-align: top;\n",
       "    }\n",
       "\n",
       "    .dataframe thead th {\n",
       "        text-align: right;\n",
       "    }\n",
       "</style>\n",
       "<table border=\"1\" class=\"dataframe\">\n",
       "  <thead>\n",
       "    <tr style=\"text-align: right;\">\n",
       "      <th></th>\n",
       "      <th>Occurrence Start Date</th>\n",
       "      <th>Year</th>\n",
       "    </tr>\n",
       "  </thead>\n",
       "  <tbody>\n",
       "    <tr>\n",
       "      <th>0</th>\n",
       "      <td>2007-01-02</td>\n",
       "      <td>2007</td>\n",
       "    </tr>\n",
       "    <tr>\n",
       "      <th>1</th>\n",
       "      <td>2007-01-05</td>\n",
       "      <td>2007</td>\n",
       "    </tr>\n",
       "    <tr>\n",
       "      <th>2</th>\n",
       "      <td>2007-01-06</td>\n",
       "      <td>2007</td>\n",
       "    </tr>\n",
       "    <tr>\n",
       "      <th>3</th>\n",
       "      <td>2007-01-11</td>\n",
       "      <td>2007</td>\n",
       "    </tr>\n",
       "    <tr>\n",
       "      <th>4</th>\n",
       "      <td>2007-01-14</td>\n",
       "      <td>2007</td>\n",
       "    </tr>\n",
       "    <tr>\n",
       "      <th>...</th>\n",
       "      <td>...</td>\n",
       "      <td>...</td>\n",
       "    </tr>\n",
       "    <tr>\n",
       "      <th>95</th>\n",
       "      <td>2007-10-07</td>\n",
       "      <td>2007</td>\n",
       "    </tr>\n",
       "    <tr>\n",
       "      <th>96</th>\n",
       "      <td>2007-10-08</td>\n",
       "      <td>2007</td>\n",
       "    </tr>\n",
       "    <tr>\n",
       "      <th>97</th>\n",
       "      <td>2007-10-13</td>\n",
       "      <td>2007</td>\n",
       "    </tr>\n",
       "    <tr>\n",
       "      <th>98</th>\n",
       "      <td>2007-10-15</td>\n",
       "      <td>2007</td>\n",
       "    </tr>\n",
       "    <tr>\n",
       "      <th>99</th>\n",
       "      <td>2007-10-18</td>\n",
       "      <td>2007</td>\n",
       "    </tr>\n",
       "  </tbody>\n",
       "</table>\n",
       "<p>100 rows × 2 columns</p>\n",
       "</div>"
      ],
      "text/plain": [
       "   Occurrence Start Date  Year\n",
       "0             2007-01-02  2007\n",
       "1             2007-01-05  2007\n",
       "2             2007-01-06  2007\n",
       "3             2007-01-11  2007\n",
       "4             2007-01-14  2007\n",
       "..                   ...   ...\n",
       "95            2007-10-07  2007\n",
       "96            2007-10-08  2007\n",
       "97            2007-10-13  2007\n",
       "98            2007-10-15  2007\n",
       "99            2007-10-18  2007\n",
       "\n",
       "[100 rows x 2 columns]"
      ]
     },
     "execution_count": 14,
     "metadata": {},
     "output_type": "execute_result"
    }
   ],
   "source": [
    "# Select the column 'Net Loss' with Series type\n",
    "print(df['Net Loss'])\n",
    "# Select the column 'Net Loss' with DataFrame type\n",
    "print(df[['Net Loss']])\n",
    "# Choose two columns with DataFrame type. Please note that there must be two square brackets\n",
    "df[['Net Loss','Recovery Amount']]\n",
    "# The column order will be returned according to the input order,\n",
    "# you can change the column order via this code:\n",
    "df1 = df[['Year', 'Occurrence Start Date']]\n",
    "# Quickly select multiple rows (note that single row selection is not supported):\n",
    "print(df1[:100])\n",
    "# You can combine these method\n",
    "df1[['Occurrence Start Date','Year']][:100]"
   ]
  },
  {
   "cell_type": "markdown",
   "metadata": {},
   "source": [
    "   "
   ]
  },
  {
   "cell_type": "markdown",
   "metadata": {},
   "source": [
    "## Data Preprocessing\n",
    "\n",
    "Normal steps:\n",
    "\n",
    "1. Dealing with missing data\n",
    "    - Identifying missing values in tabular data\n",
    "    - Eliminating samples or features with missing values\n",
    "    - Imputing missing values\n",
    "    - Understanding the scikit-learn estimator API  \n",
    "  \n",
    "  \n",
    "2. Handling categorical data]\n",
    "    - Nominal and ordinal features\n",
    "    - Mapping ordinal features\n",
    "    - Encoding class labels\n",
    "    - Performing one-hot encoding on nominal features\n",
    "  \n",
    "   \n",
    "3. Partitioning a dataset into a separate training and test set  \n",
    "\n",
    "  \n",
    "4. Bringing features onto the same scale\n",
    "  \n",
    "  \n",
    "5. Selecting meaningful features\n",
    "    - L1 and L2 regularization as penalties against model complexity]\n",
    "    - A geometric interpretation of L2 regularization\n",
    "    - Sparse solutions with L1 regularization\n",
    "    - Sequential feature selection algorithms\n",
    "   \n",
    "   \n",
    "   \n",
    "6. Assessing feature importance with Random Forests"
   ]
  },
  {
   "cell_type": "markdown",
   "metadata": {},
   "source": [
    "### Artificial Preprocessing"
   ]
  },
  {
   "cell_type": "markdown",
   "metadata": {},
   "source": [
    "Let's go back to our data_profile report. We are gonna solve the question listed here one by one.  \n",
    "We recommend you to spend at least 3 minutes in this report, because this step contains too many objective factors and crucial for the accuracy and interpretability of the final model."
   ]
  },
  {
   "cell_type": "code",
   "execution_count": 15,
   "metadata": {
    "ExecuteTime": {
     "end_time": "2020-08-28T07:13:29.290443Z",
     "start_time": "2020-08-28T07:13:29.275482Z"
    },
    "scrolled": false
   },
   "outputs": [
    {
     "data": {
      "text/html": [
       "\n",
       "        <iframe\n",
       "            width=\"800\"\n",
       "            height=\"450\"\n",
       "            src=\"Banking data profiling.html\"\n",
       "            frameborder=\"0\"\n",
       "            allowfullscreen\n",
       "        ></iframe>\n",
       "        "
      ],
      "text/plain": [
       "<IPython.lib.display.IFrame at 0x2535c28bdc8>"
      ]
     },
     "execution_count": 15,
     "metadata": {},
     "output_type": "execute_result"
    }
   ],
   "source": [
    "from IPython.display import IFrame\n",
    "IFrame('Banking data profiling.html', width=800, height=450)"
   ]
  },
  {
   "cell_type": "markdown",
   "metadata": {},
   "source": [
    "Our data contains 13 features, 6 are categories, 5 are numbers, 2 are dates. The report gives us some warnings. Now let's analyze these problems.  \n",
    "  \n",
    "1. Our data has no missing values, which means we don't need to `df.fillna()`. It is the only good news.  \n",
    "\n",
    "   \n",
    "2. There exists one duplicate row. After checking background we are convinced that we should delete this data. We can use `df.drop_duplicates` to carry out.  \n",
    "\n",
    "    \n",
    "3. You can see the high correlation between two groups of variables:`Recovery Amount + Net Loss + Estimated Gross Loss`, `Risk Sub-Category + Risk Category`.  We should check them and decide to easily delete or use some dimension reduction method(PCA, Lasso, etc) here.    \n",
    "    \n",
    "    Note: We must avoid pure collinearity in y variable. Although X features' multicollinearity is allowed in particular machine learning models, it is always a dominate strategy to treat them beforehand. Here we don't have a large set of features, so we can just simply delete some of them instead of using feature engineering methods.   \n",
    "  \n",
    "  \n",
    "4. `Name` has a high cardinality. If some category features have too many categories, it is very difficult to get one-hot coding(transfer to multiple 01 variables) later. \n",
    "   \n",
    "   `Name` here is an unstructured data. We can just waive it, or try something else objectively. \n",
    "  \n",
    "   \n",
    "5. For date_time features, usually we need to check if it's better to subtract them and extract the useful time length. You can recheck in `qgrid` table. Here the data labels are Discover Date and Occurrence Start Date. Also notice that we've already had the `Year` feature. So it is necessary to make a concrete analysis based on the facts of background and data.   \n",
    "  \n",
    "  \n",
    "6. For continuous numerical features, we can still do some transformation here. If you want to make your model more robust, you can conduct discretization and get category features. Also, you can make up some objective feature with strong intuition meaning or good performance. We don't need this step here."
   ]
  },
  {
   "cell_type": "code",
   "execution_count": 16,
   "metadata": {
    "ExecuteTime": {
     "end_time": "2020-08-28T07:13:29.373222Z",
     "start_time": "2020-08-28T07:13:29.295428Z"
    }
   },
   "outputs": [
    {
     "name": "stderr",
     "output_type": "stream",
     "text": [
      "C:\\Users\\langbo\\anaconda3\\lib\\site-packages\\ipykernel_launcher.py:6: SettingWithCopyWarning: \n",
      "A value is trying to be set on a copy of a slice from a DataFrame.\n",
      "Try using .loc[row_indexer,col_indexer] = value instead\n",
      "\n",
      "See the caveats in the documentation: https://pandas.pydata.org/pandas-docs/stable/user_guide/indexing.html#returning-a-view-versus-a-copy\n",
      "  \n"
     ]
    },
    {
     "data": {
      "text/html": [
       "<div>\n",
       "<style scoped>\n",
       "    .dataframe tbody tr th:only-of-type {\n",
       "        vertical-align: middle;\n",
       "    }\n",
       "\n",
       "    .dataframe tbody tr th {\n",
       "        vertical-align: top;\n",
       "    }\n",
       "\n",
       "    .dataframe thead th {\n",
       "        text-align: right;\n",
       "    }\n",
       "</style>\n",
       "<table border=\"1\" class=\"dataframe\">\n",
       "  <thead>\n",
       "    <tr style=\"text-align: right;\">\n",
       "      <th></th>\n",
       "      <th>Region</th>\n",
       "      <th>Business</th>\n",
       "      <th>Name</th>\n",
       "      <th>Status</th>\n",
       "      <th>Risk Category</th>\n",
       "      <th>Risk Sub-Category</th>\n",
       "      <th>Discovery Date</th>\n",
       "      <th>Occurrence Start Date</th>\n",
       "      <th>Year</th>\n",
       "      <th>Net Loss</th>\n",
       "      <th>Recovery Amount</th>\n",
       "      <th>Estimated Gross Loss</th>\n",
       "      <th>Recovery Amount (percent)</th>\n",
       "    </tr>\n",
       "    <tr>\n",
       "      <th>index</th>\n",
       "      <th></th>\n",
       "      <th></th>\n",
       "      <th></th>\n",
       "      <th></th>\n",
       "      <th></th>\n",
       "      <th></th>\n",
       "      <th></th>\n",
       "      <th></th>\n",
       "      <th></th>\n",
       "      <th></th>\n",
       "      <th></th>\n",
       "      <th></th>\n",
       "      <th></th>\n",
       "    </tr>\n",
       "  </thead>\n",
       "  <tbody>\n",
       "    <tr>\n",
       "      <th>0</th>\n",
       "      <td>EMEA</td>\n",
       "      <td>Retail Brokerage</td>\n",
       "      <td>LE−06−2</td>\n",
       "      <td>Under Review</td>\n",
       "      <td>Clients, Products and Business Practices</td>\n",
       "      <td>Product Flaws</td>\n",
       "      <td>2007-01-01</td>\n",
       "      <td>2007-01-02</td>\n",
       "      <td>2007</td>\n",
       "      <td>296555.27</td>\n",
       "      <td>83035.4756</td>\n",
       "      <td>291100</td>\n",
       "      <td>28.0</td>\n",
       "    </tr>\n",
       "    <tr>\n",
       "      <th>1</th>\n",
       "      <td>North America</td>\n",
       "      <td>Retail Banking</td>\n",
       "      <td>LE−06−3</td>\n",
       "      <td>Approved</td>\n",
       "      <td>Execution, Delivery and Process Management</td>\n",
       "      <td>Trade Counterparties</td>\n",
       "      <td>2007-01-03</td>\n",
       "      <td>2007-01-05</td>\n",
       "      <td>2007</td>\n",
       "      <td>87472.47</td>\n",
       "      <td>27116.4657</td>\n",
       "      <td>98400</td>\n",
       "      <td>31.0</td>\n",
       "    </tr>\n",
       "    <tr>\n",
       "      <th>2</th>\n",
       "      <td>Asia Pac</td>\n",
       "      <td>Retail Brokerage</td>\n",
       "      <td>LE−06−4</td>\n",
       "      <td>Not Started</td>\n",
       "      <td>Clients, Products and Business Practices</td>\n",
       "      <td>Advisory Activities</td>\n",
       "      <td>2007-01-04</td>\n",
       "      <td>2007-01-06</td>\n",
       "      <td>2007</td>\n",
       "      <td>229395.38</td>\n",
       "      <td>59642.7988</td>\n",
       "      <td>230700</td>\n",
       "      <td>26.0</td>\n",
       "    </tr>\n",
       "    <tr>\n",
       "      <th>3</th>\n",
       "      <td>EMEA</td>\n",
       "      <td>Retail Banking</td>\n",
       "      <td>LE−06−5</td>\n",
       "      <td>In Progress</td>\n",
       "      <td>Clients, Products and Business Practices</td>\n",
       "      <td>Product Flaws</td>\n",
       "      <td>2007-01-08</td>\n",
       "      <td>2007-01-11</td>\n",
       "      <td>2007</td>\n",
       "      <td>137925.29</td>\n",
       "      <td>34481.3225</td>\n",
       "      <td>137400</td>\n",
       "      <td>25.0</td>\n",
       "    </tr>\n",
       "    <tr>\n",
       "      <th>4</th>\n",
       "      <td>North America</td>\n",
       "      <td>Trading and Sales</td>\n",
       "      <td>LE−06−6</td>\n",
       "      <td>Under Review</td>\n",
       "      <td>Execution, Delivery and Process Management</td>\n",
       "      <td>Reporting and Disclosure</td>\n",
       "      <td>2007-01-12</td>\n",
       "      <td>2007-01-14</td>\n",
       "      <td>2007</td>\n",
       "      <td>292160.41</td>\n",
       "      <td>90569.7271</td>\n",
       "      <td>288300</td>\n",
       "      <td>31.0</td>\n",
       "    </tr>\n",
       "    <tr>\n",
       "      <th>...</th>\n",
       "      <td>...</td>\n",
       "      <td>...</td>\n",
       "      <td>...</td>\n",
       "      <td>...</td>\n",
       "      <td>...</td>\n",
       "      <td>...</td>\n",
       "      <td>...</td>\n",
       "      <td>...</td>\n",
       "      <td>...</td>\n",
       "      <td>...</td>\n",
       "      <td>...</td>\n",
       "      <td>...</td>\n",
       "      <td>...</td>\n",
       "    </tr>\n",
       "    <tr>\n",
       "      <th>1396</th>\n",
       "      <td>EMEA</td>\n",
       "      <td>Trading and Sales</td>\n",
       "      <td>z-LE-385</td>\n",
       "      <td>Under Review</td>\n",
       "      <td>Execution, Delivery and Process Management</td>\n",
       "      <td>Vendors and Suppliers</td>\n",
       "      <td>2013-11-15</td>\n",
       "      <td>2013-11-17</td>\n",
       "      <td>2013</td>\n",
       "      <td>952743.86</td>\n",
       "      <td>285823.1580</td>\n",
       "      <td>952800</td>\n",
       "      <td>30.0</td>\n",
       "    </tr>\n",
       "    <tr>\n",
       "      <th>1397</th>\n",
       "      <td>EMEA</td>\n",
       "      <td>Trading and Sales</td>\n",
       "      <td>z-LE-538</td>\n",
       "      <td>In Progress</td>\n",
       "      <td>Execution, Delivery and Process Management</td>\n",
       "      <td>Vendors and Suppliers</td>\n",
       "      <td>2014-01-24</td>\n",
       "      <td>2014-01-25</td>\n",
       "      <td>2014</td>\n",
       "      <td>122813.21</td>\n",
       "      <td>42984.6235</td>\n",
       "      <td>132200</td>\n",
       "      <td>35.0</td>\n",
       "    </tr>\n",
       "    <tr>\n",
       "      <th>1398</th>\n",
       "      <td>North America</td>\n",
       "      <td>Trading and Sales</td>\n",
       "      <td>z-LE-567</td>\n",
       "      <td>Not Started</td>\n",
       "      <td>Execution, Delivery and Process Management</td>\n",
       "      <td>Vendors and Suppliers</td>\n",
       "      <td>2014-03-23</td>\n",
       "      <td>2014-03-26</td>\n",
       "      <td>2014</td>\n",
       "      <td>949052.11</td>\n",
       "      <td>208791.4642</td>\n",
       "      <td>946400</td>\n",
       "      <td>22.0</td>\n",
       "    </tr>\n",
       "    <tr>\n",
       "      <th>1399</th>\n",
       "      <td>Asia Pac</td>\n",
       "      <td>Retail Banking</td>\n",
       "      <td>z-LE-600</td>\n",
       "      <td>Rejected</td>\n",
       "      <td>Execution, Delivery and Process Management</td>\n",
       "      <td>Vendors and Suppliers</td>\n",
       "      <td>2014-06-19</td>\n",
       "      <td>2014-06-20</td>\n",
       "      <td>2014</td>\n",
       "      <td>230710.76</td>\n",
       "      <td>18456.8608</td>\n",
       "      <td>232300</td>\n",
       "      <td>8.0</td>\n",
       "    </tr>\n",
       "    <tr>\n",
       "      <th>1400</th>\n",
       "      <td>North America</td>\n",
       "      <td>Retail Banking</td>\n",
       "      <td>z-LE-638</td>\n",
       "      <td>Rejected</td>\n",
       "      <td>Execution, Delivery and Process Management</td>\n",
       "      <td>Vendors and Suppliers</td>\n",
       "      <td>2014-10-04</td>\n",
       "      <td>2014-10-05</td>\n",
       "      <td>2014</td>\n",
       "      <td>240558.72</td>\n",
       "      <td>19244.6976</td>\n",
       "      <td>238900</td>\n",
       "      <td>8.0</td>\n",
       "    </tr>\n",
       "  </tbody>\n",
       "</table>\n",
       "<p>1401 rows × 13 columns</p>\n",
       "</div>"
      ],
      "text/plain": [
       "              Region           Business      Name        Status  \\\n",
       "index                                                             \n",
       "0               EMEA   Retail Brokerage   LE−06−2  Under Review   \n",
       "1      North America     Retail Banking   LE−06−3      Approved   \n",
       "2           Asia Pac   Retail Brokerage   LE−06−4   Not Started   \n",
       "3               EMEA     Retail Banking   LE−06−5   In Progress   \n",
       "4      North America  Trading and Sales   LE−06−6  Under Review   \n",
       "...              ...                ...       ...           ...   \n",
       "1396            EMEA  Trading and Sales  z-LE-385  Under Review   \n",
       "1397            EMEA  Trading and Sales  z-LE-538   In Progress   \n",
       "1398   North America  Trading and Sales  z-LE-567   Not Started   \n",
       "1399        Asia Pac     Retail Banking  z-LE-600      Rejected   \n",
       "1400   North America     Retail Banking  z-LE-638      Rejected   \n",
       "\n",
       "                                    Risk Category         Risk Sub-Category  \\\n",
       "index                                                                         \n",
       "0        Clients, Products and Business Practices             Product Flaws   \n",
       "1      Execution, Delivery and Process Management      Trade Counterparties   \n",
       "2        Clients, Products and Business Practices       Advisory Activities   \n",
       "3        Clients, Products and Business Practices             Product Flaws   \n",
       "4      Execution, Delivery and Process Management  Reporting and Disclosure   \n",
       "...                                           ...                       ...   \n",
       "1396   Execution, Delivery and Process Management     Vendors and Suppliers   \n",
       "1397   Execution, Delivery and Process Management     Vendors and Suppliers   \n",
       "1398   Execution, Delivery and Process Management     Vendors and Suppliers   \n",
       "1399   Execution, Delivery and Process Management     Vendors and Suppliers   \n",
       "1400   Execution, Delivery and Process Management     Vendors and Suppliers   \n",
       "\n",
       "      Discovery Date Occurrence Start Date  Year   Net Loss  Recovery Amount  \\\n",
       "index                                                                          \n",
       "0         2007-01-01            2007-01-02  2007  296555.27       83035.4756   \n",
       "1         2007-01-03            2007-01-05  2007   87472.47       27116.4657   \n",
       "2         2007-01-04            2007-01-06  2007  229395.38       59642.7988   \n",
       "3         2007-01-08            2007-01-11  2007  137925.29       34481.3225   \n",
       "4         2007-01-12            2007-01-14  2007  292160.41       90569.7271   \n",
       "...              ...                   ...   ...        ...              ...   \n",
       "1396      2013-11-15            2013-11-17  2013  952743.86      285823.1580   \n",
       "1397      2014-01-24            2014-01-25  2014  122813.21       42984.6235   \n",
       "1398      2014-03-23            2014-03-26  2014  949052.11      208791.4642   \n",
       "1399      2014-06-19            2014-06-20  2014  230710.76       18456.8608   \n",
       "1400      2014-10-04            2014-10-05  2014  240558.72       19244.6976   \n",
       "\n",
       "       Estimated Gross Loss  Recovery Amount (percent)  \n",
       "index                                                   \n",
       "0                    291100                       28.0  \n",
       "1                     98400                       31.0  \n",
       "2                    230700                       26.0  \n",
       "3                    137400                       25.0  \n",
       "4                    288300                       31.0  \n",
       "...                     ...                        ...  \n",
       "1396                 952800                       30.0  \n",
       "1397                 132200                       35.0  \n",
       "1398                 946400                       22.0  \n",
       "1399                 232300                        8.0  \n",
       "1400                 238900                        8.0  \n",
       "\n",
       "[1401 rows x 13 columns]"
      ]
     },
     "execution_count": 16,
     "metadata": {},
     "output_type": "execute_result"
    }
   ],
   "source": [
    "# 1. delete duplicate data\n",
    "\n",
    "df = df.drop_duplicates()\n",
    "# After you drop the data, remember to re-index to fill the blank.\n",
    "index = list(np.arange(len(df)))\n",
    "df['index'] = index\n",
    "df = df.sort_values(by=['index'], ascending=(True))\n",
    "df.set_index('index',inplace=True)\n",
    "df"
   ]
  },
  {
   "cell_type": "code",
   "execution_count": 17,
   "metadata": {
    "ExecuteTime": {
     "end_time": "2020-08-28T07:13:29.403144Z",
     "start_time": "2020-08-28T07:13:29.377213Z"
    },
    "scrolled": true
   },
   "outputs": [
    {
     "data": {
      "text/html": [
       "<div>\n",
       "<style scoped>\n",
       "    .dataframe tbody tr th:only-of-type {\n",
       "        vertical-align: middle;\n",
       "    }\n",
       "\n",
       "    .dataframe tbody tr th {\n",
       "        vertical-align: top;\n",
       "    }\n",
       "\n",
       "    .dataframe thead th {\n",
       "        text-align: right;\n",
       "    }\n",
       "</style>\n",
       "<table border=\"1\" class=\"dataframe\">\n",
       "  <thead>\n",
       "    <tr style=\"text-align: right;\">\n",
       "      <th></th>\n",
       "      <th>Year</th>\n",
       "      <th>Net Loss</th>\n",
       "      <th>Recovery Amount</th>\n",
       "      <th>Estimated Gross Loss</th>\n",
       "      <th>Recovery Amount (percent)</th>\n",
       "    </tr>\n",
       "  </thead>\n",
       "  <tbody>\n",
       "    <tr>\n",
       "      <th>Year</th>\n",
       "      <td>1.000000</td>\n",
       "      <td>-0.010876</td>\n",
       "      <td>-0.003261</td>\n",
       "      <td>-0.009090</td>\n",
       "      <td>0.023309</td>\n",
       "    </tr>\n",
       "    <tr>\n",
       "      <th>Net Loss</th>\n",
       "      <td>-0.010876</td>\n",
       "      <td>1.000000</td>\n",
       "      <td>0.965853</td>\n",
       "      <td>0.993862</td>\n",
       "      <td>-0.063420</td>\n",
       "    </tr>\n",
       "    <tr>\n",
       "      <th>Recovery Amount</th>\n",
       "      <td>-0.003261</td>\n",
       "      <td>0.965853</td>\n",
       "      <td>1.000000</td>\n",
       "      <td>0.959541</td>\n",
       "      <td>0.020560</td>\n",
       "    </tr>\n",
       "    <tr>\n",
       "      <th>Estimated Gross Loss</th>\n",
       "      <td>-0.009090</td>\n",
       "      <td>0.993862</td>\n",
       "      <td>0.959541</td>\n",
       "      <td>1.000000</td>\n",
       "      <td>-0.065719</td>\n",
       "    </tr>\n",
       "    <tr>\n",
       "      <th>Recovery Amount (percent)</th>\n",
       "      <td>0.023309</td>\n",
       "      <td>-0.063420</td>\n",
       "      <td>0.020560</td>\n",
       "      <td>-0.065719</td>\n",
       "      <td>1.000000</td>\n",
       "    </tr>\n",
       "  </tbody>\n",
       "</table>\n",
       "</div>"
      ],
      "text/plain": [
       "                               Year  Net Loss  Recovery Amount  \\\n",
       "Year                       1.000000 -0.010876        -0.003261   \n",
       "Net Loss                  -0.010876  1.000000         0.965853   \n",
       "Recovery Amount           -0.003261  0.965853         1.000000   \n",
       "Estimated Gross Loss      -0.009090  0.993862         0.959541   \n",
       "Recovery Amount (percent)  0.023309 -0.063420         0.020560   \n",
       "\n",
       "                           Estimated Gross Loss  Recovery Amount (percent)  \n",
       "Year                                  -0.009090                   0.023309  \n",
       "Net Loss                               0.993862                  -0.063420  \n",
       "Recovery Amount                        0.959541                   0.020560  \n",
       "Estimated Gross Loss                   1.000000                  -0.065719  \n",
       "Recovery Amount (percent)             -0.065719                   1.000000  "
      ]
     },
     "execution_count": 17,
     "metadata": {},
     "output_type": "execute_result"
    }
   ],
   "source": [
    "# 2. deal with collinearity in numerical method\n",
    "\n",
    "## 2.1 numerical features\n",
    "df.corr()"
   ]
  },
  {
   "cell_type": "code",
   "execution_count": 18,
   "metadata": {
    "ExecuteTime": {
     "end_time": "2020-08-28T07:13:29.447024Z",
     "start_time": "2020-08-28T07:13:29.407132Z"
    }
   },
   "outputs": [
    {
     "data": {
      "text/html": [
       "<div>\n",
       "<style scoped>\n",
       "    .dataframe tbody tr th:only-of-type {\n",
       "        vertical-align: middle;\n",
       "    }\n",
       "\n",
       "    .dataframe tbody tr th {\n",
       "        vertical-align: top;\n",
       "    }\n",
       "\n",
       "    .dataframe thead th {\n",
       "        text-align: right;\n",
       "    }\n",
       "</style>\n",
       "<table border=\"1\" class=\"dataframe\">\n",
       "  <thead>\n",
       "    <tr style=\"text-align: right;\">\n",
       "      <th></th>\n",
       "      <th>Region</th>\n",
       "      <th>Business</th>\n",
       "      <th>Name</th>\n",
       "      <th>Status</th>\n",
       "      <th>Risk Category</th>\n",
       "      <th>Risk Sub-Category</th>\n",
       "      <th>Discovery Date</th>\n",
       "      <th>Occurrence Start Date</th>\n",
       "      <th>Year</th>\n",
       "      <th>Net Loss</th>\n",
       "      <th>Recovery Amount (percent)</th>\n",
       "    </tr>\n",
       "    <tr>\n",
       "      <th>index</th>\n",
       "      <th></th>\n",
       "      <th></th>\n",
       "      <th></th>\n",
       "      <th></th>\n",
       "      <th></th>\n",
       "      <th></th>\n",
       "      <th></th>\n",
       "      <th></th>\n",
       "      <th></th>\n",
       "      <th></th>\n",
       "      <th></th>\n",
       "    </tr>\n",
       "  </thead>\n",
       "  <tbody>\n",
       "    <tr>\n",
       "      <th>0</th>\n",
       "      <td>EMEA</td>\n",
       "      <td>Retail Brokerage</td>\n",
       "      <td>LE−06−2</td>\n",
       "      <td>Under Review</td>\n",
       "      <td>Clients, Products and Business Practices</td>\n",
       "      <td>Product Flaws</td>\n",
       "      <td>2007-01-01</td>\n",
       "      <td>2007-01-02</td>\n",
       "      <td>2007</td>\n",
       "      <td>296555.27</td>\n",
       "      <td>28.0</td>\n",
       "    </tr>\n",
       "    <tr>\n",
       "      <th>1</th>\n",
       "      <td>North America</td>\n",
       "      <td>Retail Banking</td>\n",
       "      <td>LE−06−3</td>\n",
       "      <td>Approved</td>\n",
       "      <td>Execution, Delivery and Process Management</td>\n",
       "      <td>Trade Counterparties</td>\n",
       "      <td>2007-01-03</td>\n",
       "      <td>2007-01-05</td>\n",
       "      <td>2007</td>\n",
       "      <td>87472.47</td>\n",
       "      <td>31.0</td>\n",
       "    </tr>\n",
       "    <tr>\n",
       "      <th>2</th>\n",
       "      <td>Asia Pac</td>\n",
       "      <td>Retail Brokerage</td>\n",
       "      <td>LE−06−4</td>\n",
       "      <td>Not Started</td>\n",
       "      <td>Clients, Products and Business Practices</td>\n",
       "      <td>Advisory Activities</td>\n",
       "      <td>2007-01-04</td>\n",
       "      <td>2007-01-06</td>\n",
       "      <td>2007</td>\n",
       "      <td>229395.38</td>\n",
       "      <td>26.0</td>\n",
       "    </tr>\n",
       "    <tr>\n",
       "      <th>3</th>\n",
       "      <td>EMEA</td>\n",
       "      <td>Retail Banking</td>\n",
       "      <td>LE−06−5</td>\n",
       "      <td>In Progress</td>\n",
       "      <td>Clients, Products and Business Practices</td>\n",
       "      <td>Product Flaws</td>\n",
       "      <td>2007-01-08</td>\n",
       "      <td>2007-01-11</td>\n",
       "      <td>2007</td>\n",
       "      <td>137925.29</td>\n",
       "      <td>25.0</td>\n",
       "    </tr>\n",
       "    <tr>\n",
       "      <th>4</th>\n",
       "      <td>North America</td>\n",
       "      <td>Trading and Sales</td>\n",
       "      <td>LE−06−6</td>\n",
       "      <td>Under Review</td>\n",
       "      <td>Execution, Delivery and Process Management</td>\n",
       "      <td>Reporting and Disclosure</td>\n",
       "      <td>2007-01-12</td>\n",
       "      <td>2007-01-14</td>\n",
       "      <td>2007</td>\n",
       "      <td>292160.41</td>\n",
       "      <td>31.0</td>\n",
       "    </tr>\n",
       "  </tbody>\n",
       "</table>\n",
       "</div>"
      ],
      "text/plain": [
       "              Region           Business     Name        Status  \\\n",
       "index                                                            \n",
       "0               EMEA   Retail Brokerage  LE−06−2  Under Review   \n",
       "1      North America     Retail Banking  LE−06−3      Approved   \n",
       "2           Asia Pac   Retail Brokerage  LE−06−4   Not Started   \n",
       "3               EMEA     Retail Banking  LE−06−5   In Progress   \n",
       "4      North America  Trading and Sales  LE−06−6  Under Review   \n",
       "\n",
       "                                    Risk Category         Risk Sub-Category  \\\n",
       "index                                                                         \n",
       "0        Clients, Products and Business Practices             Product Flaws   \n",
       "1      Execution, Delivery and Process Management      Trade Counterparties   \n",
       "2        Clients, Products and Business Practices       Advisory Activities   \n",
       "3        Clients, Products and Business Practices             Product Flaws   \n",
       "4      Execution, Delivery and Process Management  Reporting and Disclosure   \n",
       "\n",
       "      Discovery Date Occurrence Start Date  Year   Net Loss  \\\n",
       "index                                                         \n",
       "0         2007-01-01            2007-01-02  2007  296555.27   \n",
       "1         2007-01-03            2007-01-05  2007   87472.47   \n",
       "2         2007-01-04            2007-01-06  2007  229395.38   \n",
       "3         2007-01-08            2007-01-11  2007  137925.29   \n",
       "4         2007-01-12            2007-01-14  2007  292160.41   \n",
       "\n",
       "       Recovery Amount (percent)  \n",
       "index                             \n",
       "0                           28.0  \n",
       "1                           31.0  \n",
       "2                           26.0  \n",
       "3                           25.0  \n",
       "4                           31.0  "
      ]
     },
     "execution_count": 18,
     "metadata": {},
     "output_type": "execute_result"
    }
   ],
   "source": [
    "# Note that the [Recovery Amount + Net Loss + Estimated Gross Loss + Recovery Amount (percent)] are all appropriate to be our y variable. \n",
    "# We just pick `Recovery Amount (percent)` here, because it is a ratio and usually more objective.\n",
    "# But we are also interested in the actual loss scale, so we just keep net loss in our data for further use. \n",
    "\n",
    "df = df.drop(columns=['Estimated Gross Loss','Recovery Amount'])\n",
    "df.head()\n",
    "# Successfully delete the two variables.\n",
    "# Note: A shortage of pandas, compared to excel, is that you have to be cautious that you always need to load back the operation to df."
   ]
  },
  {
   "cell_type": "code",
   "execution_count": 19,
   "metadata": {
    "ExecuteTime": {
     "end_time": "2020-08-28T07:13:29.510857Z",
     "start_time": "2020-08-28T07:13:29.452010Z"
    },
    "scrolled": true
   },
   "outputs": [
    {
     "name": "stderr",
     "output_type": "stream",
     "text": [
      "C:\\Users\\langbo\\anaconda3\\lib\\site-packages\\pandas\\io\\json\\_table_schema.py:82: UserWarning: Index name of 'index' is not round-trippable\n",
      "  warnings.warn(\"Index name of 'index' is not round-trippable\")\n"
     ]
    },
    {
     "data": {
      "application/vnd.jupyter.widget-view+json": {
       "model_id": "eb91bf3c18f241e596335b9660eed78e",
       "version_major": 2,
       "version_minor": 0
      },
      "text/plain": [
       "QgridWidget(grid_options={'fullWidthRows': True, 'syncColumnCellResize': True, 'forceFitColumns': True, 'defau…"
      ]
     },
     "metadata": {},
     "output_type": "display_data"
    }
   ],
   "source": [
    "## 2.2 categorical features\n",
    "df_sub = df[['Risk Category','Risk Sub-Category']]\n",
    "df_sub_qgrid = qgrid.show_grid(df_sub, show_toolbar=True)\n",
    "df_sub_qgrid\n",
    "# Let's play with it to see if we can conclude the pattern."
   ]
  },
  {
   "cell_type": "code",
   "execution_count": 20,
   "metadata": {
    "ExecuteTime": {
     "end_time": "2020-08-28T07:13:29.523818Z",
     "start_time": "2020-08-28T07:13:29.515839Z"
    }
   },
   "outputs": [],
   "source": [
    "# The Chi-Square Uniformity Test for these two category variables are high.\n",
    "# If you are doing some regression and want to keep the parameters' explanatory power, you should waive one of them.\n",
    "df_reg = df.drop(columns=['Risk Sub-Category'])\n",
    "# However, these two features are not perfectly correlated. As accurarcy is often better than everything in machine learning, we decide to keep them here."
   ]
  },
  {
   "cell_type": "code",
   "execution_count": 21,
   "metadata": {
    "ExecuteTime": {
     "end_time": "2020-08-28T07:13:29.556731Z",
     "start_time": "2020-08-28T07:13:29.529803Z"
    },
    "scrolled": true
   },
   "outputs": [
    {
     "data": {
      "text/plain": [
       "count    1401.000000\n",
       "mean       -2.320485\n",
       "std        80.899678\n",
       "min     -1887.000000\n",
       "25%         1.000000\n",
       "50%         2.000000\n",
       "75%         3.000000\n",
       "max       362.000000\n",
       "Name: timediff, dtype: float64"
      ]
     },
     "execution_count": 21,
     "metadata": {},
     "output_type": "execute_result"
    }
   ],
   "source": [
    "# 3. deal with time features\n",
    "\n",
    "df['timediff'] = (df['Occurrence Start Date'] - df['Discovery Date'])\n",
    "df['timediff'] = df['timediff'].astype('timedelta64[D]')\n",
    "df['timediff'].describe()"
   ]
  },
  {
   "cell_type": "code",
   "execution_count": 22,
   "metadata": {
    "ExecuteTime": {
     "end_time": "2020-08-28T07:13:29.584657Z",
     "start_time": "2020-08-28T07:13:29.561718Z"
    }
   },
   "outputs": [
    {
     "data": {
      "text/html": [
       "<div>\n",
       "<style scoped>\n",
       "    .dataframe tbody tr th:only-of-type {\n",
       "        vertical-align: middle;\n",
       "    }\n",
       "\n",
       "    .dataframe tbody tr th {\n",
       "        vertical-align: top;\n",
       "    }\n",
       "\n",
       "    .dataframe thead th {\n",
       "        text-align: right;\n",
       "    }\n",
       "</style>\n",
       "<table border=\"1\" class=\"dataframe\">\n",
       "  <thead>\n",
       "    <tr style=\"text-align: right;\">\n",
       "      <th></th>\n",
       "      <th>Year</th>\n",
       "      <th>Occurrence Start Date</th>\n",
       "    </tr>\n",
       "  </thead>\n",
       "  <tbody>\n",
       "    <tr>\n",
       "      <th>0</th>\n",
       "      <td>2007</td>\n",
       "      <td>2007-01-02</td>\n",
       "    </tr>\n",
       "    <tr>\n",
       "      <th>1</th>\n",
       "      <td>2007</td>\n",
       "      <td>2007-01-05</td>\n",
       "    </tr>\n",
       "    <tr>\n",
       "      <th>2</th>\n",
       "      <td>2007</td>\n",
       "      <td>2007-01-06</td>\n",
       "    </tr>\n",
       "    <tr>\n",
       "      <th>3</th>\n",
       "      <td>2007</td>\n",
       "      <td>2007-01-11</td>\n",
       "    </tr>\n",
       "    <tr>\n",
       "      <th>4</th>\n",
       "      <td>2007</td>\n",
       "      <td>2007-01-14</td>\n",
       "    </tr>\n",
       "  </tbody>\n",
       "</table>\n",
       "</div>"
      ],
      "text/plain": [
       "   Year Occurrence Start Date\n",
       "0  2007            2007-01-02\n",
       "1  2007            2007-01-05\n",
       "2  2007            2007-01-06\n",
       "3  2007            2007-01-11\n",
       "4  2007            2007-01-14"
      ]
     },
     "execution_count": 22,
     "metadata": {},
     "output_type": "execute_result"
    }
   ],
   "source": [
    "# In average, the bank will be able to discover the default occurence after 3 days. Sometimes bank can be clever to forecast ahead or super stupid.\n",
    "# Look at the ptcl, you'll find actually the majority of bank can figure out the default 1-3 days before it actually occurs.\n",
    "# It is a really interesting feature, so we decide to keep it and waive `Occurrence Start Date` accordingly.\n",
    "# We also keep the `Discovery Date` to check the stock variables.\n",
    "df = df.drop(columns='Occurrence Start Date')\n",
    "df['Discovery Date'] = df['Discovery Date'].values.astype('float')\n",
    "\n",
    "df1.head()"
   ]
  },
  {
   "cell_type": "code",
   "execution_count": 23,
   "metadata": {
    "ExecuteTime": {
     "end_time": "2020-08-28T07:13:29.648485Z",
     "start_time": "2020-08-28T07:13:29.588647Z"
    }
   },
   "outputs": [
    {
     "name": "stderr",
     "output_type": "stream",
     "text": [
      "C:\\Users\\langbo\\anaconda3\\lib\\site-packages\\pandas\\io\\json\\_table_schema.py:82: UserWarning: Index name of 'index' is not round-trippable\n",
      "  warnings.warn(\"Index name of 'index' is not round-trippable\")\n"
     ]
    },
    {
     "data": {
      "application/vnd.jupyter.widget-view+json": {
       "model_id": "a6e75a5c8f554798810ffe42688f382f",
       "version_major": 2,
       "version_minor": 0
      },
      "text/plain": [
       "QgridWidget(grid_options={'fullWidthRows': True, 'syncColumnCellResize': True, 'forceFitColumns': True, 'defau…"
      ]
     },
     "metadata": {},
     "output_type": "display_data"
    }
   ],
   "source": [
    "# 4. treat `Name` feature\n",
    "# Before we delete it, let's make sure if it contains some of important message:\n",
    "df_name = df[['Name']]\n",
    "qgrid.show_grid(df_name, show_toolbar=True)\n",
    "# Wait a second. It actually implied a binary classification: z-LE and LE-06.\n",
    "# It is better to extract this out and make use of it."
   ]
  },
  {
   "cell_type": "code",
   "execution_count": 24,
   "metadata": {
    "ExecuteTime": {
     "end_time": "2020-08-28T07:13:29.773152Z",
     "start_time": "2020-08-28T07:13:29.658459Z"
    }
   },
   "outputs": [
    {
     "data": {
      "text/html": [
       "<div>\n",
       "<style scoped>\n",
       "    .dataframe tbody tr th:only-of-type {\n",
       "        vertical-align: middle;\n",
       "    }\n",
       "\n",
       "    .dataframe tbody tr th {\n",
       "        vertical-align: top;\n",
       "    }\n",
       "\n",
       "    .dataframe thead th {\n",
       "        text-align: right;\n",
       "    }\n",
       "</style>\n",
       "<table border=\"1\" class=\"dataframe\">\n",
       "  <thead>\n",
       "    <tr style=\"text-align: right;\">\n",
       "      <th></th>\n",
       "      <th>Region</th>\n",
       "      <th>Business</th>\n",
       "      <th>Status</th>\n",
       "      <th>Risk Category</th>\n",
       "      <th>Risk Sub-Category</th>\n",
       "      <th>Discovery Date</th>\n",
       "      <th>Year</th>\n",
       "      <th>Net Loss</th>\n",
       "      <th>Recovery Amount (percent)</th>\n",
       "      <th>timediff</th>\n",
       "      <th>Name Class</th>\n",
       "    </tr>\n",
       "    <tr>\n",
       "      <th>index</th>\n",
       "      <th></th>\n",
       "      <th></th>\n",
       "      <th></th>\n",
       "      <th></th>\n",
       "      <th></th>\n",
       "      <th></th>\n",
       "      <th></th>\n",
       "      <th></th>\n",
       "      <th></th>\n",
       "      <th></th>\n",
       "      <th></th>\n",
       "    </tr>\n",
       "  </thead>\n",
       "  <tbody>\n",
       "    <tr>\n",
       "      <th>0</th>\n",
       "      <td>EMEA</td>\n",
       "      <td>Retail Brokerage</td>\n",
       "      <td>Under Review</td>\n",
       "      <td>Clients, Products and Business Practices</td>\n",
       "      <td>Product Flaws</td>\n",
       "      <td>1.167610e+18</td>\n",
       "      <td>2007</td>\n",
       "      <td>296555.27</td>\n",
       "      <td>28.0</td>\n",
       "      <td>1.0</td>\n",
       "      <td>0</td>\n",
       "    </tr>\n",
       "    <tr>\n",
       "      <th>1</th>\n",
       "      <td>North America</td>\n",
       "      <td>Retail Banking</td>\n",
       "      <td>Approved</td>\n",
       "      <td>Execution, Delivery and Process Management</td>\n",
       "      <td>Trade Counterparties</td>\n",
       "      <td>1.167782e+18</td>\n",
       "      <td>2007</td>\n",
       "      <td>87472.47</td>\n",
       "      <td>31.0</td>\n",
       "      <td>2.0</td>\n",
       "      <td>0</td>\n",
       "    </tr>\n",
       "    <tr>\n",
       "      <th>2</th>\n",
       "      <td>Asia Pac</td>\n",
       "      <td>Retail Brokerage</td>\n",
       "      <td>Not Started</td>\n",
       "      <td>Clients, Products and Business Practices</td>\n",
       "      <td>Advisory Activities</td>\n",
       "      <td>1.167869e+18</td>\n",
       "      <td>2007</td>\n",
       "      <td>229395.38</td>\n",
       "      <td>26.0</td>\n",
       "      <td>2.0</td>\n",
       "      <td>0</td>\n",
       "    </tr>\n",
       "    <tr>\n",
       "      <th>3</th>\n",
       "      <td>EMEA</td>\n",
       "      <td>Retail Banking</td>\n",
       "      <td>In Progress</td>\n",
       "      <td>Clients, Products and Business Practices</td>\n",
       "      <td>Product Flaws</td>\n",
       "      <td>1.168214e+18</td>\n",
       "      <td>2007</td>\n",
       "      <td>137925.29</td>\n",
       "      <td>25.0</td>\n",
       "      <td>3.0</td>\n",
       "      <td>0</td>\n",
       "    </tr>\n",
       "    <tr>\n",
       "      <th>4</th>\n",
       "      <td>North America</td>\n",
       "      <td>Trading and Sales</td>\n",
       "      <td>Under Review</td>\n",
       "      <td>Execution, Delivery and Process Management</td>\n",
       "      <td>Reporting and Disclosure</td>\n",
       "      <td>1.168560e+18</td>\n",
       "      <td>2007</td>\n",
       "      <td>292160.41</td>\n",
       "      <td>31.0</td>\n",
       "      <td>2.0</td>\n",
       "      <td>0</td>\n",
       "    </tr>\n",
       "    <tr>\n",
       "      <th>...</th>\n",
       "      <td>...</td>\n",
       "      <td>...</td>\n",
       "      <td>...</td>\n",
       "      <td>...</td>\n",
       "      <td>...</td>\n",
       "      <td>...</td>\n",
       "      <td>...</td>\n",
       "      <td>...</td>\n",
       "      <td>...</td>\n",
       "      <td>...</td>\n",
       "      <td>...</td>\n",
       "    </tr>\n",
       "    <tr>\n",
       "      <th>1396</th>\n",
       "      <td>EMEA</td>\n",
       "      <td>Trading and Sales</td>\n",
       "      <td>Under Review</td>\n",
       "      <td>Execution, Delivery and Process Management</td>\n",
       "      <td>Vendors and Suppliers</td>\n",
       "      <td>1.384474e+18</td>\n",
       "      <td>2013</td>\n",
       "      <td>952743.86</td>\n",
       "      <td>30.0</td>\n",
       "      <td>2.0</td>\n",
       "      <td>1</td>\n",
       "    </tr>\n",
       "    <tr>\n",
       "      <th>1397</th>\n",
       "      <td>EMEA</td>\n",
       "      <td>Trading and Sales</td>\n",
       "      <td>In Progress</td>\n",
       "      <td>Execution, Delivery and Process Management</td>\n",
       "      <td>Vendors and Suppliers</td>\n",
       "      <td>1.390522e+18</td>\n",
       "      <td>2014</td>\n",
       "      <td>122813.21</td>\n",
       "      <td>35.0</td>\n",
       "      <td>1.0</td>\n",
       "      <td>1</td>\n",
       "    </tr>\n",
       "    <tr>\n",
       "      <th>1398</th>\n",
       "      <td>North America</td>\n",
       "      <td>Trading and Sales</td>\n",
       "      <td>Not Started</td>\n",
       "      <td>Execution, Delivery and Process Management</td>\n",
       "      <td>Vendors and Suppliers</td>\n",
       "      <td>1.395533e+18</td>\n",
       "      <td>2014</td>\n",
       "      <td>949052.11</td>\n",
       "      <td>22.0</td>\n",
       "      <td>3.0</td>\n",
       "      <td>1</td>\n",
       "    </tr>\n",
       "    <tr>\n",
       "      <th>1399</th>\n",
       "      <td>Asia Pac</td>\n",
       "      <td>Retail Banking</td>\n",
       "      <td>Rejected</td>\n",
       "      <td>Execution, Delivery and Process Management</td>\n",
       "      <td>Vendors and Suppliers</td>\n",
       "      <td>1.403136e+18</td>\n",
       "      <td>2014</td>\n",
       "      <td>230710.76</td>\n",
       "      <td>8.0</td>\n",
       "      <td>1.0</td>\n",
       "      <td>1</td>\n",
       "    </tr>\n",
       "    <tr>\n",
       "      <th>1400</th>\n",
       "      <td>North America</td>\n",
       "      <td>Retail Banking</td>\n",
       "      <td>Rejected</td>\n",
       "      <td>Execution, Delivery and Process Management</td>\n",
       "      <td>Vendors and Suppliers</td>\n",
       "      <td>1.412381e+18</td>\n",
       "      <td>2014</td>\n",
       "      <td>240558.72</td>\n",
       "      <td>8.0</td>\n",
       "      <td>1.0</td>\n",
       "      <td>1</td>\n",
       "    </tr>\n",
       "  </tbody>\n",
       "</table>\n",
       "<p>1401 rows × 11 columns</p>\n",
       "</div>"
      ],
      "text/plain": [
       "              Region           Business        Status  \\\n",
       "index                                                   \n",
       "0               EMEA   Retail Brokerage  Under Review   \n",
       "1      North America     Retail Banking      Approved   \n",
       "2           Asia Pac   Retail Brokerage   Not Started   \n",
       "3               EMEA     Retail Banking   In Progress   \n",
       "4      North America  Trading and Sales  Under Review   \n",
       "...              ...                ...           ...   \n",
       "1396            EMEA  Trading and Sales  Under Review   \n",
       "1397            EMEA  Trading and Sales   In Progress   \n",
       "1398   North America  Trading and Sales   Not Started   \n",
       "1399        Asia Pac     Retail Banking      Rejected   \n",
       "1400   North America     Retail Banking      Rejected   \n",
       "\n",
       "                                    Risk Category         Risk Sub-Category  \\\n",
       "index                                                                         \n",
       "0        Clients, Products and Business Practices             Product Flaws   \n",
       "1      Execution, Delivery and Process Management      Trade Counterparties   \n",
       "2        Clients, Products and Business Practices       Advisory Activities   \n",
       "3        Clients, Products and Business Practices             Product Flaws   \n",
       "4      Execution, Delivery and Process Management  Reporting and Disclosure   \n",
       "...                                           ...                       ...   \n",
       "1396   Execution, Delivery and Process Management     Vendors and Suppliers   \n",
       "1397   Execution, Delivery and Process Management     Vendors and Suppliers   \n",
       "1398   Execution, Delivery and Process Management     Vendors and Suppliers   \n",
       "1399   Execution, Delivery and Process Management     Vendors and Suppliers   \n",
       "1400   Execution, Delivery and Process Management     Vendors and Suppliers   \n",
       "\n",
       "       Discovery Date  Year   Net Loss  Recovery Amount (percent)  timediff  \\\n",
       "index                                                                         \n",
       "0        1.167610e+18  2007  296555.27                       28.0       1.0   \n",
       "1        1.167782e+18  2007   87472.47                       31.0       2.0   \n",
       "2        1.167869e+18  2007  229395.38                       26.0       2.0   \n",
       "3        1.168214e+18  2007  137925.29                       25.0       3.0   \n",
       "4        1.168560e+18  2007  292160.41                       31.0       2.0   \n",
       "...               ...   ...        ...                        ...       ...   \n",
       "1396     1.384474e+18  2013  952743.86                       30.0       2.0   \n",
       "1397     1.390522e+18  2014  122813.21                       35.0       1.0   \n",
       "1398     1.395533e+18  2014  949052.11                       22.0       3.0   \n",
       "1399     1.403136e+18  2014  230710.76                        8.0       1.0   \n",
       "1400     1.412381e+18  2014  240558.72                        8.0       1.0   \n",
       "\n",
       "       Name Class  \n",
       "index              \n",
       "0               0  \n",
       "1               0  \n",
       "2               0  \n",
       "3               0  \n",
       "4               0  \n",
       "...           ...  \n",
       "1396            1  \n",
       "1397            1  \n",
       "1398            1  \n",
       "1399            1  \n",
       "1400            1  \n",
       "\n",
       "[1401 rows x 11 columns]"
      ]
     },
     "execution_count": 24,
     "metadata": {},
     "output_type": "execute_result"
    }
   ],
   "source": [
    "# df = (df['Name Class',ii] = 1 if 'LE-06' in df['Name'][ii] else 0)\n",
    "# But when you do element-wise operations, it is likely that you are converting the copy of df instead of the original df.\n",
    "# To avoid this bug, use an outside list to store the operations we made and input background afterwards \n",
    "# The following codes may look stupid, if you have better idea please share with me.\n",
    "\n",
    "name = []\n",
    "for ii in range(1401):\n",
    "    if ('z-LE' in df['Name'][ii]):\n",
    "        name.append(1)\n",
    "    else:\n",
    "        name.append(0)\n",
    "\n",
    "df['Name Class'] = name \n",
    "# 0:type LE-06     1:type z-LE \n",
    "df = df.drop(columns='Name')\n",
    "df"
   ]
  },
  {
   "cell_type": "markdown",
   "metadata": {},
   "source": [
    "After all the steps before, we eventually finish the objective steps in data preprocessing.   \n",
    "Now we can implement the routines, which will be very easy if you have basic knowledge."
   ]
  },
  {
   "cell_type": "markdown",
   "metadata": {},
   "source": [
    "### Routine Preprocessing"
   ]
  },
  {
   "cell_type": "markdown",
   "metadata": {},
   "source": [
    "Here are some advice limited on my knowledge. I will be grateful if you can share better idea me via Dingtalk.\n",
    "\n",
    "1. For a categorical feature: if its rank (eg,0-5 score) make sense, then hold it. If not, such as the feature `Region` here, we will transfer them to multiple 0-1 dummy variables for every category inside through `pd.get_dummy` one-hot coding.  \n",
    "  \n",
    "  \n",
    "2. For numerical features: we will only do feature scaling here. Here we just `StandardScaler()` all the x features and let y alone. If you realize that you should make some useful factors, you should do it in `Artificial preprocessing` part based on your own understanding of the project.  \n",
    "  \n",
    "  \n",
    "3. Split the data to training/test set and prepare for ML algorithm. Skip this step if your data is already divided. \n",
    "  \n",
    "  \n",
    "4. Other methods.(We don't need them here)\n",
    "\n",
    "See all methods in  \n",
    "https://scikit-learn.org/stable/data_transforms.html"
   ]
  },
  {
   "cell_type": "code",
   "execution_count": 25,
   "metadata": {
    "ExecuteTime": {
     "end_time": "2020-08-28T07:13:29.872886Z",
     "start_time": "2020-08-28T07:13:29.780139Z"
    }
   },
   "outputs": [
    {
     "data": {
      "text/html": [
       "<div>\n",
       "<style scoped>\n",
       "    .dataframe tbody tr th:only-of-type {\n",
       "        vertical-align: middle;\n",
       "    }\n",
       "\n",
       "    .dataframe tbody tr th {\n",
       "        vertical-align: top;\n",
       "    }\n",
       "\n",
       "    .dataframe thead th {\n",
       "        text-align: right;\n",
       "    }\n",
       "</style>\n",
       "<table border=\"1\" class=\"dataframe\">\n",
       "  <thead>\n",
       "    <tr style=\"text-align: right;\">\n",
       "      <th></th>\n",
       "      <th>Discovery Date</th>\n",
       "      <th>Year</th>\n",
       "      <th>Net Loss</th>\n",
       "      <th>Recovery Amount (percent)</th>\n",
       "      <th>timediff</th>\n",
       "      <th>Name Class</th>\n",
       "      <th>Region_Asia Pac</th>\n",
       "      <th>Region_EMEA</th>\n",
       "      <th>Region_North America</th>\n",
       "      <th>Business_Agency Services</th>\n",
       "      <th>...</th>\n",
       "      <th>Risk Sub-Category_Safe Environment</th>\n",
       "      <th>Risk Sub-Category_Selection, Sponsorship and Exposure</th>\n",
       "      <th>Risk Sub-Category_Suitability, Disclosures and Fiduciary</th>\n",
       "      <th>Risk Sub-Category_Systems Security</th>\n",
       "      <th>Risk Sub-Category_Theft and Fraud</th>\n",
       "      <th>Risk Sub-Category_Trade Counterparties</th>\n",
       "      <th>Risk Sub-Category_Transaction/Data Management</th>\n",
       "      <th>Risk Sub-Category_Unauthorized Activity</th>\n",
       "      <th>Risk Sub-Category_Vendors and Suppliers</th>\n",
       "      <th>Risk Sub-Category_Willful Damage</th>\n",
       "    </tr>\n",
       "    <tr>\n",
       "      <th>index</th>\n",
       "      <th></th>\n",
       "      <th></th>\n",
       "      <th></th>\n",
       "      <th></th>\n",
       "      <th></th>\n",
       "      <th></th>\n",
       "      <th></th>\n",
       "      <th></th>\n",
       "      <th></th>\n",
       "      <th></th>\n",
       "      <th></th>\n",
       "      <th></th>\n",
       "      <th></th>\n",
       "      <th></th>\n",
       "      <th></th>\n",
       "      <th></th>\n",
       "      <th></th>\n",
       "      <th></th>\n",
       "      <th></th>\n",
       "      <th></th>\n",
       "      <th></th>\n",
       "    </tr>\n",
       "  </thead>\n",
       "  <tbody>\n",
       "    <tr>\n",
       "      <th>0</th>\n",
       "      <td>1.167610e+18</td>\n",
       "      <td>2007</td>\n",
       "      <td>296555.27</td>\n",
       "      <td>28.0</td>\n",
       "      <td>1.0</td>\n",
       "      <td>0</td>\n",
       "      <td>0</td>\n",
       "      <td>1</td>\n",
       "      <td>0</td>\n",
       "      <td>0</td>\n",
       "      <td>...</td>\n",
       "      <td>0</td>\n",
       "      <td>0</td>\n",
       "      <td>0</td>\n",
       "      <td>0</td>\n",
       "      <td>0</td>\n",
       "      <td>0</td>\n",
       "      <td>0</td>\n",
       "      <td>0</td>\n",
       "      <td>0</td>\n",
       "      <td>0</td>\n",
       "    </tr>\n",
       "    <tr>\n",
       "      <th>1</th>\n",
       "      <td>1.167782e+18</td>\n",
       "      <td>2007</td>\n",
       "      <td>87472.47</td>\n",
       "      <td>31.0</td>\n",
       "      <td>2.0</td>\n",
       "      <td>0</td>\n",
       "      <td>0</td>\n",
       "      <td>0</td>\n",
       "      <td>1</td>\n",
       "      <td>0</td>\n",
       "      <td>...</td>\n",
       "      <td>0</td>\n",
       "      <td>0</td>\n",
       "      <td>0</td>\n",
       "      <td>0</td>\n",
       "      <td>0</td>\n",
       "      <td>1</td>\n",
       "      <td>0</td>\n",
       "      <td>0</td>\n",
       "      <td>0</td>\n",
       "      <td>0</td>\n",
       "    </tr>\n",
       "    <tr>\n",
       "      <th>2</th>\n",
       "      <td>1.167869e+18</td>\n",
       "      <td>2007</td>\n",
       "      <td>229395.38</td>\n",
       "      <td>26.0</td>\n",
       "      <td>2.0</td>\n",
       "      <td>0</td>\n",
       "      <td>1</td>\n",
       "      <td>0</td>\n",
       "      <td>0</td>\n",
       "      <td>0</td>\n",
       "      <td>...</td>\n",
       "      <td>0</td>\n",
       "      <td>0</td>\n",
       "      <td>0</td>\n",
       "      <td>0</td>\n",
       "      <td>0</td>\n",
       "      <td>0</td>\n",
       "      <td>0</td>\n",
       "      <td>0</td>\n",
       "      <td>0</td>\n",
       "      <td>0</td>\n",
       "    </tr>\n",
       "    <tr>\n",
       "      <th>3</th>\n",
       "      <td>1.168214e+18</td>\n",
       "      <td>2007</td>\n",
       "      <td>137925.29</td>\n",
       "      <td>25.0</td>\n",
       "      <td>3.0</td>\n",
       "      <td>0</td>\n",
       "      <td>0</td>\n",
       "      <td>1</td>\n",
       "      <td>0</td>\n",
       "      <td>0</td>\n",
       "      <td>...</td>\n",
       "      <td>0</td>\n",
       "      <td>0</td>\n",
       "      <td>0</td>\n",
       "      <td>0</td>\n",
       "      <td>0</td>\n",
       "      <td>0</td>\n",
       "      <td>0</td>\n",
       "      <td>0</td>\n",
       "      <td>0</td>\n",
       "      <td>0</td>\n",
       "    </tr>\n",
       "    <tr>\n",
       "      <th>4</th>\n",
       "      <td>1.168560e+18</td>\n",
       "      <td>2007</td>\n",
       "      <td>292160.41</td>\n",
       "      <td>31.0</td>\n",
       "      <td>2.0</td>\n",
       "      <td>0</td>\n",
       "      <td>0</td>\n",
       "      <td>0</td>\n",
       "      <td>1</td>\n",
       "      <td>0</td>\n",
       "      <td>...</td>\n",
       "      <td>0</td>\n",
       "      <td>0</td>\n",
       "      <td>0</td>\n",
       "      <td>0</td>\n",
       "      <td>0</td>\n",
       "      <td>0</td>\n",
       "      <td>0</td>\n",
       "      <td>0</td>\n",
       "      <td>0</td>\n",
       "      <td>0</td>\n",
       "    </tr>\n",
       "    <tr>\n",
       "      <th>...</th>\n",
       "      <td>...</td>\n",
       "      <td>...</td>\n",
       "      <td>...</td>\n",
       "      <td>...</td>\n",
       "      <td>...</td>\n",
       "      <td>...</td>\n",
       "      <td>...</td>\n",
       "      <td>...</td>\n",
       "      <td>...</td>\n",
       "      <td>...</td>\n",
       "      <td>...</td>\n",
       "      <td>...</td>\n",
       "      <td>...</td>\n",
       "      <td>...</td>\n",
       "      <td>...</td>\n",
       "      <td>...</td>\n",
       "      <td>...</td>\n",
       "      <td>...</td>\n",
       "      <td>...</td>\n",
       "      <td>...</td>\n",
       "      <td>...</td>\n",
       "    </tr>\n",
       "    <tr>\n",
       "      <th>1396</th>\n",
       "      <td>1.384474e+18</td>\n",
       "      <td>2013</td>\n",
       "      <td>952743.86</td>\n",
       "      <td>30.0</td>\n",
       "      <td>2.0</td>\n",
       "      <td>1</td>\n",
       "      <td>0</td>\n",
       "      <td>1</td>\n",
       "      <td>0</td>\n",
       "      <td>0</td>\n",
       "      <td>...</td>\n",
       "      <td>0</td>\n",
       "      <td>0</td>\n",
       "      <td>0</td>\n",
       "      <td>0</td>\n",
       "      <td>0</td>\n",
       "      <td>0</td>\n",
       "      <td>0</td>\n",
       "      <td>0</td>\n",
       "      <td>1</td>\n",
       "      <td>0</td>\n",
       "    </tr>\n",
       "    <tr>\n",
       "      <th>1397</th>\n",
       "      <td>1.390522e+18</td>\n",
       "      <td>2014</td>\n",
       "      <td>122813.21</td>\n",
       "      <td>35.0</td>\n",
       "      <td>1.0</td>\n",
       "      <td>1</td>\n",
       "      <td>0</td>\n",
       "      <td>1</td>\n",
       "      <td>0</td>\n",
       "      <td>0</td>\n",
       "      <td>...</td>\n",
       "      <td>0</td>\n",
       "      <td>0</td>\n",
       "      <td>0</td>\n",
       "      <td>0</td>\n",
       "      <td>0</td>\n",
       "      <td>0</td>\n",
       "      <td>0</td>\n",
       "      <td>0</td>\n",
       "      <td>1</td>\n",
       "      <td>0</td>\n",
       "    </tr>\n",
       "    <tr>\n",
       "      <th>1398</th>\n",
       "      <td>1.395533e+18</td>\n",
       "      <td>2014</td>\n",
       "      <td>949052.11</td>\n",
       "      <td>22.0</td>\n",
       "      <td>3.0</td>\n",
       "      <td>1</td>\n",
       "      <td>0</td>\n",
       "      <td>0</td>\n",
       "      <td>1</td>\n",
       "      <td>0</td>\n",
       "      <td>...</td>\n",
       "      <td>0</td>\n",
       "      <td>0</td>\n",
       "      <td>0</td>\n",
       "      <td>0</td>\n",
       "      <td>0</td>\n",
       "      <td>0</td>\n",
       "      <td>0</td>\n",
       "      <td>0</td>\n",
       "      <td>1</td>\n",
       "      <td>0</td>\n",
       "    </tr>\n",
       "    <tr>\n",
       "      <th>1399</th>\n",
       "      <td>1.403136e+18</td>\n",
       "      <td>2014</td>\n",
       "      <td>230710.76</td>\n",
       "      <td>8.0</td>\n",
       "      <td>1.0</td>\n",
       "      <td>1</td>\n",
       "      <td>1</td>\n",
       "      <td>0</td>\n",
       "      <td>0</td>\n",
       "      <td>0</td>\n",
       "      <td>...</td>\n",
       "      <td>0</td>\n",
       "      <td>0</td>\n",
       "      <td>0</td>\n",
       "      <td>0</td>\n",
       "      <td>0</td>\n",
       "      <td>0</td>\n",
       "      <td>0</td>\n",
       "      <td>0</td>\n",
       "      <td>1</td>\n",
       "      <td>0</td>\n",
       "    </tr>\n",
       "    <tr>\n",
       "      <th>1400</th>\n",
       "      <td>1.412381e+18</td>\n",
       "      <td>2014</td>\n",
       "      <td>240558.72</td>\n",
       "      <td>8.0</td>\n",
       "      <td>1.0</td>\n",
       "      <td>1</td>\n",
       "      <td>0</td>\n",
       "      <td>0</td>\n",
       "      <td>1</td>\n",
       "      <td>0</td>\n",
       "      <td>...</td>\n",
       "      <td>0</td>\n",
       "      <td>0</td>\n",
       "      <td>0</td>\n",
       "      <td>0</td>\n",
       "      <td>0</td>\n",
       "      <td>0</td>\n",
       "      <td>0</td>\n",
       "      <td>0</td>\n",
       "      <td>1</td>\n",
       "      <td>0</td>\n",
       "    </tr>\n",
       "  </tbody>\n",
       "</table>\n",
       "<p>1401 rows × 48 columns</p>\n",
       "</div>"
      ],
      "text/plain": [
       "       Discovery Date  Year   Net Loss  Recovery Amount (percent)  timediff  \\\n",
       "index                                                                         \n",
       "0        1.167610e+18  2007  296555.27                       28.0       1.0   \n",
       "1        1.167782e+18  2007   87472.47                       31.0       2.0   \n",
       "2        1.167869e+18  2007  229395.38                       26.0       2.0   \n",
       "3        1.168214e+18  2007  137925.29                       25.0       3.0   \n",
       "4        1.168560e+18  2007  292160.41                       31.0       2.0   \n",
       "...               ...   ...        ...                        ...       ...   \n",
       "1396     1.384474e+18  2013  952743.86                       30.0       2.0   \n",
       "1397     1.390522e+18  2014  122813.21                       35.0       1.0   \n",
       "1398     1.395533e+18  2014  949052.11                       22.0       3.0   \n",
       "1399     1.403136e+18  2014  230710.76                        8.0       1.0   \n",
       "1400     1.412381e+18  2014  240558.72                        8.0       1.0   \n",
       "\n",
       "       Name Class  Region_Asia Pac  Region_EMEA  Region_North America  \\\n",
       "index                                                                   \n",
       "0               0                0            1                     0   \n",
       "1               0                0            0                     1   \n",
       "2               0                1            0                     0   \n",
       "3               0                0            1                     0   \n",
       "4               0                0            0                     1   \n",
       "...           ...              ...          ...                   ...   \n",
       "1396            1                0            1                     0   \n",
       "1397            1                0            1                     0   \n",
       "1398            1                0            0                     1   \n",
       "1399            1                1            0                     0   \n",
       "1400            1                0            0                     1   \n",
       "\n",
       "       Business_Agency Services  ...  Risk Sub-Category_Safe Environment  \\\n",
       "index                            ...                                       \n",
       "0                             0  ...                                   0   \n",
       "1                             0  ...                                   0   \n",
       "2                             0  ...                                   0   \n",
       "3                             0  ...                                   0   \n",
       "4                             0  ...                                   0   \n",
       "...                         ...  ...                                 ...   \n",
       "1396                          0  ...                                   0   \n",
       "1397                          0  ...                                   0   \n",
       "1398                          0  ...                                   0   \n",
       "1399                          0  ...                                   0   \n",
       "1400                          0  ...                                   0   \n",
       "\n",
       "       Risk Sub-Category_Selection, Sponsorship and Exposure  \\\n",
       "index                                                          \n",
       "0                                                          0   \n",
       "1                                                          0   \n",
       "2                                                          0   \n",
       "3                                                          0   \n",
       "4                                                          0   \n",
       "...                                                      ...   \n",
       "1396                                                       0   \n",
       "1397                                                       0   \n",
       "1398                                                       0   \n",
       "1399                                                       0   \n",
       "1400                                                       0   \n",
       "\n",
       "       Risk Sub-Category_Suitability, Disclosures and Fiduciary  \\\n",
       "index                                                             \n",
       "0                                                             0   \n",
       "1                                                             0   \n",
       "2                                                             0   \n",
       "3                                                             0   \n",
       "4                                                             0   \n",
       "...                                                         ...   \n",
       "1396                                                          0   \n",
       "1397                                                          0   \n",
       "1398                                                          0   \n",
       "1399                                                          0   \n",
       "1400                                                          0   \n",
       "\n",
       "       Risk Sub-Category_Systems Security  Risk Sub-Category_Theft and Fraud  \\\n",
       "index                                                                          \n",
       "0                                       0                                  0   \n",
       "1                                       0                                  0   \n",
       "2                                       0                                  0   \n",
       "3                                       0                                  0   \n",
       "4                                       0                                  0   \n",
       "...                                   ...                                ...   \n",
       "1396                                    0                                  0   \n",
       "1397                                    0                                  0   \n",
       "1398                                    0                                  0   \n",
       "1399                                    0                                  0   \n",
       "1400                                    0                                  0   \n",
       "\n",
       "       Risk Sub-Category_Trade Counterparties  \\\n",
       "index                                           \n",
       "0                                           0   \n",
       "1                                           1   \n",
       "2                                           0   \n",
       "3                                           0   \n",
       "4                                           0   \n",
       "...                                       ...   \n",
       "1396                                        0   \n",
       "1397                                        0   \n",
       "1398                                        0   \n",
       "1399                                        0   \n",
       "1400                                        0   \n",
       "\n",
       "       Risk Sub-Category_Transaction/Data Management  \\\n",
       "index                                                  \n",
       "0                                                  0   \n",
       "1                                                  0   \n",
       "2                                                  0   \n",
       "3                                                  0   \n",
       "4                                                  0   \n",
       "...                                              ...   \n",
       "1396                                               0   \n",
       "1397                                               0   \n",
       "1398                                               0   \n",
       "1399                                               0   \n",
       "1400                                               0   \n",
       "\n",
       "       Risk Sub-Category_Unauthorized Activity  \\\n",
       "index                                            \n",
       "0                                            0   \n",
       "1                                            0   \n",
       "2                                            0   \n",
       "3                                            0   \n",
       "4                                            0   \n",
       "...                                        ...   \n",
       "1396                                         0   \n",
       "1397                                         0   \n",
       "1398                                         0   \n",
       "1399                                         0   \n",
       "1400                                         0   \n",
       "\n",
       "       Risk Sub-Category_Vendors and Suppliers  \\\n",
       "index                                            \n",
       "0                                            0   \n",
       "1                                            0   \n",
       "2                                            0   \n",
       "3                                            0   \n",
       "4                                            0   \n",
       "...                                        ...   \n",
       "1396                                         1   \n",
       "1397                                         1   \n",
       "1398                                         1   \n",
       "1399                                         1   \n",
       "1400                                         1   \n",
       "\n",
       "       Risk Sub-Category_Willful Damage  \n",
       "index                                    \n",
       "0                                     0  \n",
       "1                                     0  \n",
       "2                                     0  \n",
       "3                                     0  \n",
       "4                                     0  \n",
       "...                                 ...  \n",
       "1396                                  0  \n",
       "1397                                  0  \n",
       "1398                                  0  \n",
       "1399                                  0  \n",
       "1400                                  0  \n",
       "\n",
       "[1401 rows x 48 columns]"
      ]
     },
     "execution_count": 25,
     "metadata": {},
     "output_type": "execute_result"
    }
   ],
   "source": [
    "# Automated recognization of categorical feature in Python : R-factor function\n",
    "# 1. one hot coding\n",
    "# ?pd.get_dummies\n",
    "# `pd.get_dummies` will auto-delete the original categorical features,so we use df_ml here to ensure that our procedures are reversible\n",
    "\n",
    "df_ml = pd.get_dummies(df, drop_first=False)\n",
    "df_ml\n",
    "# All the categorical features are transfered now. We can see finally we get pure numerical features.\n",
    "# If you want a relatively professional method, see https://github.com/scikit-learn-contrib/category_encoders"
   ]
  },
  {
   "cell_type": "code",
   "execution_count": 26,
   "metadata": {
    "ExecuteTime": {
     "end_time": "2020-08-28T07:13:29.977605Z",
     "start_time": "2020-08-28T07:13:29.876875Z"
    }
   },
   "outputs": [
    {
     "name": "stdout",
     "output_type": "stream",
     "text": [
      "Index(['Discovery Date', 'Year', 'Net Loss', 'Recovery Amount (percent)',\n",
      "       'timediff', 'Name Class', 'Region_Asia Pac', 'Region_EMEA',\n",
      "       'Region_North America', 'Business_Agency Services',\n",
      "       'Business_Asset Management', 'Business_Commercial Banking',\n",
      "       'Business_Corporate Finance', 'Business_Retail Banking',\n",
      "       'Business_Retail Brokerage', 'Business_Trading and Sales',\n",
      "       'Status_Approved', 'Status_In Progress', 'Status_Not Started',\n",
      "       'Status_Rejected', 'Status_Under Review',\n",
      "       'Risk Category_Business Disruption and System Failures',\n",
      "       'Risk Category_Clients, Products and Business Practices',\n",
      "       'Risk Category_Damage to Physical Assets',\n",
      "       'Risk Category_Employment Practices and Workplace Safety',\n",
      "       'Risk Category_Execution, Delivery and Process Management',\n",
      "       'Risk Category_External Fraud', 'Risk Category_Internal Fraud',\n",
      "       'Risk Sub-Category_Advisory Activities',\n",
      "       'Risk Sub-Category_Customer Intake and Documentation',\n",
      "       'Risk Sub-Category_Customer/Client Account Management',\n",
      "       'Risk Sub-Category_Disaster and other events',\n",
      "       'Risk Sub-Category_Diversity and Discrimination',\n",
      "       'Risk Sub-Category_Employee Relations',\n",
      "       'Risk Sub-Category_Improper Business or Market Practices',\n",
      "       'Risk Sub-Category_Infrastructure and Systems',\n",
      "       'Risk Sub-Category_Product Flaws',\n",
      "       'Risk Sub-Category_Reporting and Disclosure',\n",
      "       'Risk Sub-Category_Safe Environment',\n",
      "       'Risk Sub-Category_Selection, Sponsorship and Exposure',\n",
      "       'Risk Sub-Category_Suitability, Disclosures and Fiduciary',\n",
      "       'Risk Sub-Category_Systems Security',\n",
      "       'Risk Sub-Category_Theft and Fraud',\n",
      "       'Risk Sub-Category_Trade Counterparties',\n",
      "       'Risk Sub-Category_Transaction/Data Management',\n",
      "       'Risk Sub-Category_Unauthorized Activity',\n",
      "       'Risk Sub-Category_Vendors and Suppliers',\n",
      "       'Risk Sub-Category_Willful Damage'],\n",
      "      dtype='object')\n"
     ]
    }
   ],
   "source": [
    "# 2. standardize all X features\n",
    "from sklearn.preprocessing import StandardScaler\n",
    "# alternative:from sklearn.preprocessing import MinMaxScaler\n",
    "\n",
    "\n",
    "print(df_ml.columns)\n"
   ]
  },
  {
   "cell_type": "code",
   "execution_count": 27,
   "metadata": {
    "ExecuteTime": {
     "end_time": "2020-08-28T07:13:30.008520Z",
     "start_time": "2020-08-28T07:13:29.982591Z"
    }
   },
   "outputs": [],
   "source": [
    "y = df_ml['Recovery Amount (percent)']\n",
    "X = df_ml[['Discovery Date','Year','timediff','Name Class','Region_Asia Pac', 'Region_EMEA', 'Region_North America',\n",
    "       'Business_Agency Services', 'Business_Asset Management',\n",
    "       'Business_Commercial Banking', 'Business_Corporate Finance',\n",
    "       'Business_Retail Banking', 'Business_Retail Brokerage',\n",
    "       'Business_Trading and Sales', 'Status_Approved', 'Status_In Progress',\n",
    "       'Status_Not Started', 'Status_Rejected', 'Status_Under Review',\n",
    "       'Risk Category_Business Disruption and System Failures',\n",
    "       'Risk Category_Clients, Products and Business Practices',\n",
    "       'Risk Category_Damage to Physical Assets',\n",
    "       'Risk Category_Employment Practices and Workplace Safety',\n",
    "       'Risk Category_Execution, Delivery and Process Management',\n",
    "       'Risk Category_External Fraud', 'Risk Category_Internal Fraud',\n",
    "       'Risk Sub-Category_Advisory Activities',\n",
    "       'Risk Sub-Category_Customer Intake and Documentation',\n",
    "       'Risk Sub-Category_Customer/Client Account Management',\n",
    "       'Risk Sub-Category_Disaster and other events',\n",
    "       'Risk Sub-Category_Diversity and Discrimination',\n",
    "       'Risk Sub-Category_Employee Relations',\n",
    "       'Risk Sub-Category_Improper Business or Market Practices',\n",
    "       'Risk Sub-Category_Infrastructure and Systems',\n",
    "       'Risk Sub-Category_Product Flaws',\n",
    "       'Risk Sub-Category_Reporting and Disclosure',\n",
    "       'Risk Sub-Category_Safe Environment',\n",
    "       'Risk Sub-Category_Selection, Sponsorship and Exposure',\n",
    "       'Risk Sub-Category_Suitability, Disclosures and Fiduciary',\n",
    "       'Risk Sub-Category_Systems Security',\n",
    "       'Risk Sub-Category_Theft and Fraud',\n",
    "       'Risk Sub-Category_Trade Counterparties',\n",
    "       'Risk Sub-Category_Transaction/Data Management',\n",
    "       'Risk Sub-Category_Unauthorized Activity',\n",
    "       'Risk Sub-Category_Vendors and Suppliers',\n",
    "       'Risk Sub-Category_Willful Damage']]\n",
    "# OFC you can also select by deduction method. But I prefer to list one by one to avoid potential mistakes.\n",
    "sc_X = StandardScaler()\n",
    "X_std = sc_X.fit_transform(X)\n",
    "# Note: you will lose the columns labels for X after standardization and get an numpy array. \n",
    "# If you are more comfortable in pandas DataFrame, see:\n",
    "X_back = pd.DataFrame(X_std, columns=X.columns)"
   ]
  },
  {
   "cell_type": "code",
   "execution_count": 28,
   "metadata": {
    "ExecuteTime": {
     "end_time": "2020-08-28T07:13:30.019493Z",
     "start_time": "2020-08-28T07:13:30.013508Z"
    }
   },
   "outputs": [],
   "source": [
    "# 3. train/test split\n",
    "# Usually if you want to predict, this step should process beforehand the standardization step.\n",
    "# Now we just conduct regression analysis. Thus, no need to do that.\n",
    "\n",
    "\n",
    "# from sklearn.model_selection import train_test_split\n",
    "\n",
    "# X_train, X_test, y_train, y_test = train_test_split(X, y, test_size=0.3, random_state=0)\n",
    "# X_test_std = sc_X.fit_transform(X_test)\n",
    "# X_train_std = sc_X.fit_transform(X_train)"
   ]
  },
  {
   "cell_type": "markdown",
   "metadata": {},
   "source": [
    "  "
   ]
  },
  {
   "cell_type": "markdown",
   "metadata": {},
   "source": [
    "# Supervised Machine Learning"
   ]
  },
  {
   "cell_type": "markdown",
   "metadata": {},
   "source": [
    "We are very happy if we still have you here. The following codes are the core of machine learning techniques, but once you know how to choose the algorithms it will be very simple. In this class we do not require parameter tuning, thus it won't cost too much time for us.  \n",
    "  \n",
    "Know more about how to choose ml algorithms, see \n",
    "https://scikit-learn.org/stable/user_guide.html\n",
    "\n",
    "https://docs.microsoft.com/en-us/azure/machine-learning/how-to-select-algorithms\n",
    "  \n",
    "https://towardsdatascience.com/do-you-know-how-to-choose-the-right-machine-learning-algorithm-among-7-different-types-295d0b0c7f60"
   ]
  },
  {
   "cell_type": "code",
   "execution_count": 29,
   "metadata": {
    "ExecuteTime": {
     "end_time": "2020-08-28T07:13:30.035450Z",
     "start_time": "2020-08-28T07:13:30.024480Z"
    },
    "scrolled": false
   },
   "outputs": [
    {
     "data": {
      "text/html": [
       "\n",
       "        <iframe\n",
       "            width=\"900\"\n",
       "            height=\"550\"\n",
       "            src=\"images/how_to_select_algorithm.png\"\n",
       "            frameborder=\"0\"\n",
       "            allowfullscreen\n",
       "        ></iframe>\n",
       "        "
      ],
      "text/plain": [
       "<IPython.lib.display.IFrame at 0x2535c376ec8>"
      ]
     },
     "execution_count": 29,
     "metadata": {},
     "output_type": "execute_result"
    }
   ],
   "source": [
    "IFrame('images/how_to_select_algorithm.png',width=900, height=550)"
   ]
  },
  {
   "cell_type": "markdown",
   "metadata": {},
   "source": [
    "## Regression"
   ]
  },
  {
   "cell_type": "markdown",
   "metadata": {},
   "source": [
    "We are in a regression problem. So we can use these following methods:\n",
    "\n",
    "- Boosted Decision Tree Regression\n",
    "- Decision Forest Regression\n",
    "- Fast Forest Quantile Regression\n",
    "- Linear Regression\n",
    "- Neural Network Regression\n",
    "- Poisson Regression\n",
    "- and more  \n",
    "\n",
    "When the method is chosen, you can go to sklearn official file to search for code to implement them. For economics and finance students who may be familiar with OLS and other model, you can view Machine Learning as applied advanced CS&Stat techniques in regression."
   ]
  },
  {
   "cell_type": "markdown",
   "metadata": {},
   "source": [
    "See all the command from this package:  \n",
    "https://scikit-learn.org/stable/modules/classes.html    "
   ]
  },
  {
   "cell_type": "code",
   "execution_count": 30,
   "metadata": {
    "ExecuteTime": {
     "end_time": "2020-08-28T07:13:30.332656Z",
     "start_time": "2020-08-28T07:13:30.040436Z"
    }
   },
   "outputs": [
    {
     "name": "stdout",
     "output_type": "stream",
     "text": [
      "Slope: [[-5.60522358e-01  5.51453159e-01 -4.05525536e-03  2.54288714e-02\n",
      "  -2.47923360e+13 -2.81662228e+13 -2.99685511e+13  6.88210094e+12\n",
      "   5.76964627e+12  1.12051307e+13  4.58125338e+12  1.82726490e+13\n",
      "   8.18248232e+12  1.29230957e+13 -2.67275986e+12 -2.67275986e+12\n",
      "  -3.25044027e+12 -2.12027980e+12 -3.02732732e+12  1.07174533e+13\n",
      "  -1.01720338e+13  1.41053568e+13 -6.15370441e+11  1.30759196e+12\n",
      "   4.52722297e+12  1.74126252e+12  6.05646532e+12  2.54096815e+11\n",
      "   1.82516051e+11 -1.06957620e+13  9.28611660e+11  9.01544420e+11\n",
      "   4.59822088e+12 -1.02288393e+13  6.05646532e+12  3.44091120e+11\n",
      "   1.07537263e+12  4.30434625e+12  4.30434625e+12 -1.66368654e+12\n",
      "  -2.55135880e+12  3.01774041e+11  1.78248445e+11 -6.76965732e+11\n",
      "   2.46885716e+11 -8.73931115e+12]]\n",
      "Intercept: -0.003\n",
      "MSE: 0.867,\n",
      "R^2: 0.133,\n"
     ]
    },
    {
     "data": {
      "text/plain": [
       "array([[ 0.05299323],\n",
       "       [-0.00547845],\n",
       "       [ 0.15162604],\n",
       "       ...,\n",
       "       [-1.02409417],\n",
       "       [-1.43669183],\n",
       "       [-1.38981683]])"
      ]
     },
     "execution_count": 30,
     "metadata": {},
     "output_type": "execute_result"
    }
   ],
   "source": [
    "# 1. linear regression\n",
    "# https://scikit-learn.org/stable/modules/classes.html#module-sklearn.linear_model\n",
    "from sklearn.linear_model import LinearRegression\n",
    "\n",
    "y_std = sc_X.fit_transform(y.values.reshape(-1,1))\n",
    "\n",
    "slr = LinearRegression()\n",
    "slr.fit(X_std, y_std)\n",
    "y_pred = slr.predict(X_std)\n",
    "print('Slope:' , slr.coef_)\n",
    "print('Intercept: %.3f' % slr.intercept_)\n",
    "\n",
    "from sklearn.metrics import r2_score\n",
    "from sklearn.metrics import mean_squared_error\n",
    "\n",
    "# evaluate model in R square and MSE\n",
    "print('MSE: %.3f,'  % mean_squared_error(y_std, y_pred))\n",
    "print('R^2: %.3f,'  % r2_score(y_std, y_pred))\n",
    "\n",
    "# save your model\n",
    "import joblib\n",
    "\n",
    "joblib.dump(slr, \"train_model.m\")\n",
    "# load back and run\n",
    "slr_1 = joblib.load(\"train_model.m\")\n",
    "slr_1.predict(X_std)"
   ]
  },
  {
   "cell_type": "code",
   "execution_count": 31,
   "metadata": {
    "ExecuteTime": {
     "end_time": "2020-08-28T07:13:31.869544Z",
     "start_time": "2020-08-28T07:13:30.337641Z"
    }
   },
   "outputs": [
    {
     "name": "stdout",
     "output_type": "stream",
     "text": [
      "R^2 for quadratic: 0.391\n"
     ]
    }
   ],
   "source": [
    "# 2. polynomial regression\n",
    "from sklearn.preprocessing import PolynomialFeatures\n",
    "\n",
    "lr = LinearRegression()\n",
    "\n",
    "quadratic = PolynomialFeatures(degree=2)\n",
    "X_quad = quadratic.fit_transform(X_std)\n",
    "\n",
    "lr.fit(X_quad, y_std)\n",
    "\n",
    "y_quad_pred = lr.predict(X_quad)\n",
    "print('R^2 for quadratic: %.3f' % (r2_score(y_std, y_quad_pred)))"
   ]
  },
  {
   "cell_type": "code",
   "execution_count": 32,
   "metadata": {
    "ExecuteTime": {
     "end_time": "2020-08-28T07:13:31.898468Z",
     "start_time": "2020-08-28T07:13:31.874531Z"
    }
   },
   "outputs": [
    {
     "name": "stdout",
     "output_type": "stream",
     "text": [
      "[ 0.          0.          0.          0.         -0.          0.\n",
      "  0.          0.          0.          0.         -0.         -0.\n",
      "  0.          0.         -0.         -0.          0.         -0.\n",
      "  0.         -0.         -0.          0.          0.         -0.\n",
      "  0.         -0.         -0.         -0.          0.          0.\n",
      "  0.         -0.         -0.         -0.         -0.          0.\n",
      " -0.          0.          0.         -0.          0.         -0.\n",
      " -0.          0.         -0.20769451 -0.        ]\n"
     ]
    }
   ],
   "source": [
    "# 3. regularized methods for regression(Lasso,Ridge)\n",
    "from sklearn.linear_model import Lasso\n",
    "\n",
    "lasso = Lasso(alpha=0.1)\n",
    "lasso.fit(X_std, y_std)\n",
    "y_pred = lasso.predict(X_std)\n",
    "print(lasso.coef_)\n",
    "\n",
    "from sklearn.linear_model import Ridge\n",
    "ridge = Ridge(alpha=1.0)\n",
    "\n",
    "from sklearn.linear_model import ElasticNet\n",
    "elanet = ElasticNet(alpha=1.0, l1_ratio=0.5)\n",
    "# … you can do the same operations"
   ]
  },
  {
   "cell_type": "code",
   "execution_count": 33,
   "metadata": {
    "ExecuteTime": {
     "end_time": "2020-08-28T07:13:31.944344Z",
     "start_time": "2020-08-28T07:13:31.906445Z"
    }
   },
   "outputs": [
    {
     "name": "stdout",
     "output_type": "stream",
     "text": [
      "Slope:  [-5.61161057e-01  5.57936593e-01  1.40616819e-02  1.99440291e-02\n",
      " -1.28228696e+13 -1.45678811e+13 -1.55000651e+13 -2.12403458e+10\n",
      " -1.78069579e+10 -3.45825864e+10 -1.41392006e+10 -5.63951890e+10\n",
      " -2.52537350e+10 -3.98847710e+10  3.45414710e+12  3.45414710e+12\n",
      "  4.20071365e+12  2.74014828e+12  3.91237314e+12  5.99518728e+12\n",
      " -9.81508285e+12  2.96477696e+12  8.96596782e+12 -1.46799020e+13\n",
      " -8.83108837e+12 -3.39661715e+12  6.28343032e+12  8.79185705e+12\n",
      "  6.31513242e+12 -1.85746624e+12 -4.04491942e+12 -3.92701782e+12\n",
      "  4.77053841e+12 -5.11623403e+12  6.28343032e+12  1.19056980e+13\n",
      " -4.68419237e+12  4.46565088e+12  4.46565088e+12  7.55918041e+12\n",
      "  1.15924370e+13  1.04415092e+13  6.16747143e+12  3.07588358e+12\n",
      "  8.54234999e+12 -1.51770162e+12]\n",
      "Intercept: -0.002\n",
      "MSE: 0.866,\n",
      "R^2: 0.134,\n"
     ]
    }
   ],
   "source": [
    "# 4. Fitting a robust regression model using RANSAC\n",
    "from sklearn.linear_model import RANSACRegressor\n",
    "\n",
    "ransac = RANSACRegressor(LinearRegression(), \n",
    "                         max_trials=100, \n",
    "                         min_samples=50, \n",
    "                         loss='absolute_loss', \n",
    "                         residual_threshold=5.0, \n",
    "                         random_state=0)\n",
    "\n",
    "\n",
    "ransac.fit(X_std, y_std)\n",
    "print('Slope: ', ransac.estimator_.coef_[0])\n",
    "print('Intercept: %.3f' % ransac.estimator_.intercept_)\n",
    "y_pred = ransac.predict(X_std)\n",
    "\n",
    "print('MSE: %.3f,'  % mean_squared_error(y_std, y_pred))\n",
    "print('R^2: %.3f,'  % r2_score(y_std, y_pred))"
   ]
  },
  {
   "cell_type": "markdown",
   "metadata": {},
   "source": [
    "<div class=\"alert alert-block alert-danger\">  \n",
    "Note: sklearn is not a professional package for regression and econometric methods.     \n",
    "    Here we just show the code and skip some steps(eg,elimination of Multicollinearity, intuition and significance of parameters).  \n",
    "    There should be more analysis if you want to conduct an expert regression.\n",
    "</div>"
   ]
  },
  {
   "cell_type": "code",
   "execution_count": 34,
   "metadata": {
    "ExecuteTime": {
     "end_time": "2020-08-28T07:13:32.290452Z",
     "start_time": "2020-08-28T07:13:31.949331Z"
    }
   },
   "outputs": [],
   "source": [
    "# 5. Boosted Decision Tree Regression\n",
    "# https://scikit-learn.org/stable/auto_examples/ensemble/plot_adaboost_regression.html\n",
    "\n",
    "from sklearn.tree import DecisionTreeRegressor\n",
    "from sklearn.ensemble import AdaBoostRegressor\n",
    "\n",
    "rng = np.random.RandomState(1)\n",
    "regr_1 = DecisionTreeRegressor(max_depth=4)\n",
    "\n",
    "regr_2 = AdaBoostRegressor(DecisionTreeRegressor(max_depth=4),\n",
    "                          n_estimators=300, random_state=rng)\n",
    "\n",
    "regr_1.fit(X_std, y)\n",
    "regr_2.fit(X_std, y)\n",
    "\n",
    "y_1 = regr_1.predict(X_std)\n",
    "y_2 = regr_2.predict(X_std)\n",
    "\n",
    "# Then you can value the results based on judgements below."
   ]
  },
  {
   "cell_type": "code",
   "execution_count": 35,
   "metadata": {
    "ExecuteTime": {
     "end_time": "2020-08-28T07:13:40.739822Z",
     "start_time": "2020-08-28T07:13:32.294409Z"
    }
   },
   "outputs": [
    {
     "name": "stderr",
     "output_type": "stream",
     "text": [
      "C:\\Users\\langbo\\anaconda3\\lib\\site-packages\\ipykernel_launcher.py:8: DataConversionWarning: A column-vector y was passed when a 1d array was expected. Please change the shape of y to (n_samples,), for example using ravel().\n",
      "  \n"
     ]
    },
    {
     "name": "stdout",
     "output_type": "stream",
     "text": [
      "MSE : 0.135 \n"
     ]
    }
   ],
   "source": [
    "# 6. Random Forest Regression\n",
    "from sklearn.ensemble import RandomForestRegressor\n",
    "\n",
    "forest = RandomForestRegressor(n_estimators=1000, \n",
    "                               criterion='mse', \n",
    "                               random_state=1, \n",
    "                               n_jobs=-1)\n",
    "forest.fit(X_std, y_std)\n",
    "y_pred = forest.predict(X_std)\n",
    "\n",
    "print('MSE : %.3f ' % (mean_squared_error(y_std, y_pred)))"
   ]
  },
  {
   "cell_type": "code",
   "execution_count": 36,
   "metadata": {
    "ExecuteTime": {
     "end_time": "2020-08-28T07:13:42.450247Z",
     "start_time": "2020-08-28T07:13:40.745805Z"
    }
   },
   "outputs": [
    {
     "name": "stderr",
     "output_type": "stream",
     "text": [
      "C:\\Users\\langbo\\anaconda3\\lib\\site-packages\\sklearn\\neural_network\\_multilayer_perceptron.py:1342: DataConversionWarning: A column-vector y was passed when a 1d array was expected. Please change the shape of y to (n_samples, ), for example using ravel().\n",
      "  y = column_or_1d(y, warn=True)\n"
     ]
    },
    {
     "name": "stdout",
     "output_type": "stream",
     "text": [
      "MSE : 0.762 \n"
     ]
    }
   ],
   "source": [
    "# 7. Neural Network Regression\n",
    "from sklearn.neural_network import MLPRegressor\n",
    "from sklearn.datasets import make_regression\n",
    "\n",
    "regr = MLPRegressor(random_state=1, max_iter=500).fit(X_std, y_std)\n",
    "y_pred = regr.predict(X_std)\n",
    "\n",
    "regr.score(X_std, y_std)\n",
    "\n",
    "print('MSE : %.3f ' % (mean_squared_error(y_std, y_pred)))"
   ]
  },
  {
   "cell_type": "code",
   "execution_count": 37,
   "metadata": {
    "ExecuteTime": {
     "end_time": "2020-08-28T07:13:42.491137Z",
     "start_time": "2020-08-28T07:13:42.455233Z"
    }
   },
   "outputs": [
    {
     "name": "stdout",
     "output_type": "stream",
     "text": [
      "[-2024.03302938 -1955.00330086 -1941.28233448 -1940.67244293\n",
      " -1940.64764189 -1940.64646627 -1940.64640867 -1940.64955853] [-0.02204476  0.02068521  0.05352692  0.01768759 -0.02600718  0.02350483\n",
      " -0.00057606  0.04227489  0.01862002 -0.00454084 -0.04751454 -0.04422456\n",
      "  0.01671702  0.04190165 -0.00563146 -0.02148489  0.00886374  0.00225094\n",
      "  0.01284692 -0.00149836  0.00150456  0.01208387  0.01092813 -0.04571614\n",
      "  0.04269785 -0.01577275  0.00083842 -0.01373459  0.05078442  0.0222992\n",
      "  0.00965412  0.00319452 -0.01257383 -0.00149836 -0.01146163  0.06123479\n",
      "  0.00561683  0.00501578  0.02725844 -0.01195682  0.03299104  0.01618286\n",
      "  0.01347941  0.04986948 -0.23441454 -0.00822607]\n",
      "MSE : 0.873 \n"
     ]
    },
    {
     "name": "stderr",
     "output_type": "stream",
     "text": [
      "C:\\Users\\langbo\\anaconda3\\lib\\site-packages\\sklearn\\utils\\validation.py:760: DataConversionWarning: A column-vector y was passed when a 1d array was expected. Please change the shape of y to (n_samples, ), for example using ravel().\n",
      "  y = column_or_1d(y, warn=True)\n"
     ]
    }
   ],
   "source": [
    "# 8. Bayesian Ridge Regression\n",
    "# https://scikit-learn.org/stable/auto_examples/linear_model/plot_bayesian_ridge.html\n",
    "\n",
    "from sklearn.linear_model import BayesianRidge\n",
    "\n",
    "clf = BayesianRidge(compute_score=True)\n",
    "clf.fit(X_std, y_std)\n",
    "print(clf.scores_,clf.coef_,)\n",
    "y_pred = clf.predict(X_std)\n",
    "\n",
    "print('MSE : %.3f ' % (mean_squared_error(y_std, y_pred)))"
   ]
  },
  {
   "cell_type": "code",
   "execution_count": 38,
   "metadata": {
    "ExecuteTime": {
     "end_time": "2020-08-28T07:13:43.174311Z",
     "start_time": "2020-08-28T07:13:42.496126Z"
    }
   },
   "outputs": [
    {
     "name": "stdout",
     "output_type": "stream",
     "text": [
      "MSE : 0.663 \n",
      "MSE : 0.017 \n"
     ]
    }
   ],
   "source": [
    "# 9. (k) Nearest Neighbors regression\n",
    "from sklearn import neighbors\n",
    "\n",
    "n_neighbors = 5\n",
    "\n",
    "for i, weights in enumerate(['uniform', 'distance']):\n",
    "    knn = neighbors.KNeighborsRegressor(n_neighbors, weights=weights).fit(X_std, y_std)\n",
    "    y_pred = knn.predict(X_std)\n",
    "\n",
    "    print('MSE : %.3f ' % (mean_squared_error(y_std, y_pred)))"
   ]
  },
  {
   "cell_type": "code",
   "execution_count": 39,
   "metadata": {
    "ExecuteTime": {
     "end_time": "2020-08-28T07:13:43.184283Z",
     "start_time": "2020-08-28T07:13:43.179299Z"
    }
   },
   "outputs": [],
   "source": [
    "# *10. Fast Forest Quantile Regression\n",
    "# I cannot find QRFs(Quantile Regression Forest) implementation in sklearn. \n",
    "# To carry out this method, you may try skgarden, TensorFlow or Azure ai."
   ]
  },
  {
   "cell_type": "markdown",
   "metadata": {},
   "source": [
    "Limited on my knowledge, I only list the basic operations in this linear_model_family. You may find some similar patterns to conduct these models, but actually there are many new ideas.   \n",
    "\n",
    "There exists many hyperparameters to adjust these models, as well as different types of criteria to evaluation methods for your `y_pred` result. To get more advanced operation in sklearn, I strongly advice you to read the official cases from https://scikit-learn.org/stable/auto_examples/index.html. We also provide some cases for you to get the hand of the code."
   ]
  },
  {
   "cell_type": "markdown",
   "metadata": {
    "ExecuteTime": {
     "end_time": "2020-08-15T08:11:02.488343Z",
     "start_time": "2020-08-15T08:11:02.481371Z"
    }
   },
   "source": [
    "## Classification"
   ]
  },
  {
   "cell_type": "markdown",
   "metadata": {},
   "source": [
    "For economics and finance students, it is likely that ML algorithms in classification problems will shock you. Because it did provide some new approaches to the problem, which requires the support of computer memory and nonlinear solvers.\n",
    "\n",
    "Let's consider a real-world question:  \n",
    "\n",
    "**Example:**  \n",
    "You are a data scientist in risk management department of the bank. Suppose you want to securitize some low-quality account-receivables and sell in the market. The requirement is that it has huge possibility to reach 30% recovery amount ratio.  \n",
    "  \n",
    "Now, due to the additional information from the knowledge, you can discrete the y into two parts based on the 30% threshold. And then we get a classification problem: $ y|y<0.3 = 0, y|y \\geq 0.3 = 1. $ Besides, we will choose precision rate to evaluate the model"
   ]
  },
  {
   "cell_type": "code",
   "execution_count": 40,
   "metadata": {
    "ExecuteTime": {
     "end_time": "2020-08-28T07:13:43.204230Z",
     "start_time": "2020-08-28T07:13:43.190268Z"
    }
   },
   "outputs": [
    {
     "data": {
      "text/plain": [
       "index\n",
       "0       28.0\n",
       "1       31.0\n",
       "2       26.0\n",
       "3       25.0\n",
       "4       31.0\n",
       "        ... \n",
       "1396    30.0\n",
       "1397    35.0\n",
       "1398    22.0\n",
       "1399     8.0\n",
       "1400     8.0\n",
       "Name: Recovery Amount (percent)_bin, Length: 1401, dtype: float64"
      ]
     },
     "execution_count": 40,
     "metadata": {},
     "output_type": "execute_result"
    }
   ],
   "source": [
    "df_ml['Recovery Amount (percent)_bin'] = df_ml['Recovery Amount (percent)']\n",
    "y = df_ml['Recovery Amount (percent)_bin']\n",
    "y"
   ]
  },
  {
   "cell_type": "code",
   "execution_count": 41,
   "metadata": {
    "ExecuteTime": {
     "end_time": "2020-08-28T07:13:43.238139Z",
     "start_time": "2020-08-28T07:13:43.208221Z"
    }
   },
   "outputs": [
    {
     "name": "stderr",
     "output_type": "stream",
     "text": [
      "C:\\Users\\langbo\\anaconda3\\lib\\site-packages\\ipykernel_launcher.py:1: SettingWithCopyWarning: \n",
      "A value is trying to be set on a copy of a slice from a DataFrame\n",
      "\n",
      "See the caveats in the documentation: https://pandas.pydata.org/pandas-docs/stable/user_guide/indexing.html#returning-a-view-versus-a-copy\n",
      "  \"\"\"Entry point for launching an IPython kernel.\n",
      "C:\\Users\\langbo\\anaconda3\\lib\\site-packages\\ipykernel_launcher.py:2: SettingWithCopyWarning: \n",
      "A value is trying to be set on a copy of a slice from a DataFrame\n",
      "\n",
      "See the caveats in the documentation: https://pandas.pydata.org/pandas-docs/stable/user_guide/indexing.html#returning-a-view-versus-a-copy\n",
      "  \n"
     ]
    },
    {
     "data": {
      "text/plain": [
       "index\n",
       "0       1.0\n",
       "1       0.0\n",
       "2       1.0\n",
       "3       1.0\n",
       "4       0.0\n",
       "       ... \n",
       "1396    0.0\n",
       "1397    0.0\n",
       "1398    1.0\n",
       "1399    1.0\n",
       "1400    1.0\n",
       "Name: Recovery Amount (percent)_bin, Length: 1401, dtype: float64"
      ]
     },
     "execution_count": 41,
     "metadata": {},
     "output_type": "execute_result"
    }
   ],
   "source": [
    "y[y<30] = 1\n",
    "y[y>=30] = 0\n",
    "# You may also try to implement this step from sklearn.Preprocessing\n",
    "\n",
    "y\n",
    "# y is changed now. We will use the same X to predict it."
   ]
  },
  {
   "cell_type": "code",
   "execution_count": 42,
   "metadata": {
    "ExecuteTime": {
     "end_time": "2020-08-28T07:13:43.278032Z",
     "start_time": "2020-08-28T07:13:43.242130Z"
    }
   },
   "outputs": [],
   "source": [
    "# Now we are forecast on forecasting whether y is 1 or 0. \n",
    "# So it is important to split X to train/test set.\n",
    "# For better speed, we use an unsupervised learning method: dimensionality reduction(feature engineering). \n",
    "# Here we show PCA as an example. You can also try ICA, LDA, random_projection，FeatureAgglomeration and other techniques.\n",
    "\n",
    "from sklearn.decomposition import PCA\n",
    "# alternative: from sklearn.decomposition import LatentDirichletAllocation, FastICA, FactorAnalysis\n",
    "from sklearn.model_selection import train_test_split\n",
    "\n",
    "pca = PCA(n_components=8)\n",
    "#lda = LatentDirichletAllocation(n_components=5, random_state=0)\n",
    "\n",
    "X_pca = pca.fit_transform(X_std)\n",
    "X_train, X_test, y_train, y_test = train_test_split(X_pca, y, test_size=0.3, random_state=0)\n",
    "\n",
    "# Be sure to split before you standardize X.\n",
    "X_test_std = sc_X.fit_transform(X_test)\n",
    "X_train_std = sc_X.fit_transform(X_train)"
   ]
  },
  {
   "cell_type": "code",
   "execution_count": 43,
   "metadata": {
    "ExecuteTime": {
     "end_time": "2020-08-28T07:14:21.643425Z",
     "start_time": "2020-08-28T07:13:43.283019Z"
    }
   },
   "outputs": [
    {
     "name": "stdout",
     "output_type": "stream",
     "text": [
      "Nearest Neighbors _score: 0.5201900237529691\n",
      "[[111  93]\n",
      " [109 108]]\n"
     ]
    },
    {
     "data": {
      "image/png": "[encoded data removed]",
      "text/plain": [
       "<Figure size 180x180 with 1 Axes>"
      ]
     },
     "metadata": {},
     "output_type": "display_data"
    },
    {
     "name": "stdout",
     "output_type": "stream",
     "text": [
      "Precision: 0.505\n",
      "Recall: 0.544\n",
      "F1: 0.524\n",
      "Linear SVM _score: 0.48693586698337293\n",
      "[[165  39]\n",
      " [177  40]]\n"
     ]
    },
    {
     "data": {
      "image/png": "[encoded data removed]",
      "text/plain": [
       "<Figure size 576x396 with 1 Axes>"
      ]
     },
     "metadata": {},
     "output_type": "display_data"
    },
    {
     "data": {
      "image/png": "[encoded data removed]",
      "text/plain": [
       "<Figure size 180x180 with 1 Axes>"
      ]
     },
     "metadata": {},
     "output_type": "display_data"
    },
    {
     "name": "stdout",
     "output_type": "stream",
     "text": [
      "Precision: 0.482\n",
      "Recall: 0.809\n",
      "F1: 0.604\n",
      "RBF SVM _score: 0.5249406175771971\n",
      "[[127  77]\n",
      " [123  94]]\n"
     ]
    },
    {
     "data": {
      "image/png": "[encoded data removed]",
      "text/plain": [
       "<Figure size 576x396 with 1 Axes>"
      ]
     },
     "metadata": {},
     "output_type": "display_data"
    },
    {
     "data": {
      "image/png": "[encoded data removed]",
      "text/plain": [
       "<Figure size 180x180 with 1 Axes>"
      ]
     },
     "metadata": {},
     "output_type": "display_data"
    },
    {
     "name": "stdout",
     "output_type": "stream",
     "text": [
      "Precision: 0.508\n",
      "Recall: 0.623\n",
      "F1: 0.559\n",
      "Gaussian Process _score: 0.5391923990498813\n",
      "[[119  85]\n",
      " [109 108]]\n"
     ]
    },
    {
     "data": {
      "image/png": "[encoded data removed]",
      "text/plain": [
       "<Figure size 576x396 with 1 Axes>"
      ]
     },
     "metadata": {},
     "output_type": "display_data"
    },
    {
     "data": {
      "image/png": "[encoded data removed]",
      "text/plain": [
       "<Figure size 180x180 with 1 Axes>"
      ]
     },
     "metadata": {},
     "output_type": "display_data"
    },
    {
     "name": "stdout",
     "output_type": "stream",
     "text": [
      "Precision: 0.522\n",
      "Recall: 0.583\n",
      "F1: 0.551\n",
      "Decision Tree _score: 0.5320665083135392\n",
      "[[130  74]\n",
      " [123  94]]\n"
     ]
    },
    {
     "data": {
      "image/png": "[encoded data removed]",
      "text/plain": [
       "<Figure size 576x396 with 1 Axes>"
      ]
     },
     "metadata": {},
     "output_type": "display_data"
    },
    {
     "data": {
      "image/png": "[encoded data removed]",
      "text/plain": [
       "<Figure size 180x180 with 1 Axes>"
      ]
     },
     "metadata": {},
     "output_type": "display_data"
    },
    {
     "name": "stdout",
     "output_type": "stream",
     "text": [
      "Precision: 0.514\n",
      "Recall: 0.637\n",
      "F1: 0.569\n",
      "Random Forest _score: 0.5368171021377672\n",
      "[[132  72]\n",
      " [123  94]]\n"
     ]
    },
    {
     "data": {
      "image/png": "[encoded data removed]",
      "text/plain": [
       "<Figure size 576x396 with 1 Axes>"
      ]
     },
     "metadata": {},
     "output_type": "display_data"
    },
    {
     "data": {
      "image/png": "[encoded data removed]",
      "text/plain": [
       "<Figure size 180x180 with 1 Axes>"
      ]
     },
     "metadata": {},
     "output_type": "display_data"
    },
    {
     "name": "stdout",
     "output_type": "stream",
     "text": [
      "Precision: 0.518\n",
      "Recall: 0.647\n",
      "F1: 0.575\n",
      "Neural Net _score: 0.4679334916864608\n",
      "[[140  64]\n",
      " [160  57]]\n"
     ]
    },
    {
     "data": {
      "image/png": "[encoded data removed]",
      "text/plain": [
       "<Figure size 576x396 with 1 Axes>"
      ]
     },
     "metadata": {},
     "output_type": "display_data"
    },
    {
     "data": {
      "image/png": "[encoded data removed]",
      "text/plain": [
       "<Figure size 180x180 with 1 Axes>"
      ]
     },
     "metadata": {},
     "output_type": "display_data"
    },
    {
     "name": "stdout",
     "output_type": "stream",
     "text": [
      "Precision: 0.467\n",
      "Recall: 0.686\n",
      "F1: 0.556\n",
      "AdaBoost _score: 0.48931116389548696\n",
      "[[117  87]\n",
      " [128  89]]\n"
     ]
    },
    {
     "data": {
      "image/png": "[encoded data removed]",
      "text/plain": [
       "<Figure size 576x396 with 1 Axes>"
      ]
     },
     "metadata": {},
     "output_type": "display_data"
    },
    {
     "data": {
      "image/png": "[encoded data removed]",
      "text/plain": [
       "<Figure size 180x180 with 1 Axes>"
      ]
     },
     "metadata": {},
     "output_type": "display_data"
    },
    {
     "name": "stdout",
     "output_type": "stream",
     "text": [
      "Precision: 0.478\n",
      "Recall: 0.574\n",
      "F1: 0.521\n",
      "Naive Bayes _score: 0.505938242280285\n",
      "[[ 49 155]\n",
      " [ 53 164]]\n"
     ]
    },
    {
     "data": {
      "image/png": "[encoded data removed]",
      "text/plain": [
       "<Figure size 576x396 with 1 Axes>"
      ]
     },
     "metadata": {},
     "output_type": "display_data"
    },
    {
     "data": {
      "image/png": "[encoded data removed]",
      "text/plain": [
       "<Figure size 180x180 with 1 Axes>"
      ]
     },
     "metadata": {},
     "output_type": "display_data"
    },
    {
     "name": "stdout",
     "output_type": "stream",
     "text": [
      "Precision: 0.480\n",
      "Recall: 0.240\n",
      "F1: 0.320\n",
      "QDA _score: 0.49406175771971494\n",
      "[[ 13 191]\n",
      " [ 22 195]]\n"
     ]
    },
    {
     "data": {
      "image/png": "[encoded data removed]",
      "text/plain": [
       "<Figure size 576x396 with 1 Axes>"
      ]
     },
     "metadata": {},
     "output_type": "display_data"
    },
    {
     "data": {
      "image/png": "[encoded data removed]",
      "text/plain": [
       "<Figure size 180x180 with 1 Axes>"
      ]
     },
     "metadata": {},
     "output_type": "display_data"
    },
    {
     "name": "stdout",
     "output_type": "stream",
     "text": [
      "Precision: 0.371\n",
      "Recall: 0.064\n",
      "F1: 0.109\n"
     ]
    },
    {
     "data": {
      "image/png": "[encoded data removed]",
      "text/plain": [
       "<Figure size 576x396 with 1 Axes>"
      ]
     },
     "metadata": {},
     "output_type": "display_data"
    }
   ],
   "source": [
    "# Tired of running these algorithms one by one, this time we decide to cluster them and run together.\n",
    "# I provide a snippets(.json) for you, in which you can click the snippets and go through this process easily.\n",
    "\n",
    "# If your CPU is not fine, you can run this code and have a sleep now. Good night, sweetie！\n",
    "# How to select ML classifier? It depends. I perfer to select one with the best scores(see matrics).\n",
    "# How to select the hyper-parameters inside the algorithm functions? Try grid_search(or random_optimize) in cross-validation for tuning.\n",
    "\n",
    "\n",
    "# model packages\n",
    "from sklearn.neural_network import MLPClassifier\n",
    "from sklearn.neighbors import KNeighborsClassifier\n",
    "from sklearn.svm import SVC\n",
    "from sklearn.gaussian_process import GaussianProcessClassifier\n",
    "from sklearn.gaussian_process.kernels import RBF\n",
    "from sklearn.tree import DecisionTreeClassifier\n",
    "from sklearn.ensemble import RandomForestClassifier, AdaBoostClassifier\n",
    "from sklearn.naive_bayes import GaussianNB\n",
    "from sklearn.discriminant_analysis import QuadraticDiscriminantAnalysis\n",
    "# evaluation packages and visualization https://scikit-learn.org/stable/visualizations.html\n",
    "from sklearn.metrics import confusion_matrix\n",
    "from sklearn.metrics import precision_score, recall_score, f1_score\n",
    "from sklearn.metrics import roc_curve, auc\n",
    "from sklearn.metrics import plot_roc_curve\n",
    "from scipy import interp\n",
    "from sklearn.model_selection import StratifiedKFold\n",
    "\n",
    "cv = list(StratifiedKFold(n_splits=3).split(X_train, y_train))\n",
    "names = [\"Nearest Neighbors\", \"Linear SVM\", \"RBF SVM\", \"Gaussian Process\",\n",
    "         \"Decision Tree\", \"Random Forest\", \"Neural Net\", \"AdaBoost\",\n",
    "         \"Naive Bayes\", \"QDA\"]\n",
    "\n",
    "classifiers = [\n",
    "    KNeighborsClassifier(5),\n",
    "    SVC(kernel=\"linear\", C=0.025),\n",
    "    SVC(kernel=\"rbf\",gamma=2, C=1),\n",
    "    GaussianProcessClassifier(1.0 * RBF(1.0)),\n",
    "    DecisionTreeClassifier(max_depth=8),\n",
    "    RandomForestClassifier(max_depth=8, n_estimators=10, max_features=1),\n",
    "    MLPClassifier(alpha=1, max_iter=1000),\n",
    "    AdaBoostClassifier(),\n",
    "    GaussianNB(),\n",
    "    QuadraticDiscriminantAnalysis()]\n",
    "\n",
    "for name, clf in zip(names, classifiers):\n",
    "    clf.fit(X_train, y_train)\n",
    "    score = clf.score(X_test, y_test)\n",
    "    print(name,'_score:',score)\n",
    "    y_pred = clf.predict(X_test)\n",
    "    confmat = confusion_matrix(y_true=y_test, y_pred=y_pred)\n",
    "    print(confmat)\n",
    "\n",
    "    fig, ax = plt.subplots(figsize=(2.5, 2.5))\n",
    "    ax.matshow(confmat, cmap=plt.cm.Blues, alpha=0.3)\n",
    "    \n",
    "    # plot confusion matrix\n",
    "    for i in range(confmat.shape[0]):\n",
    "        for j in range(confmat.shape[1]):\n",
    "            ax.text(x=j, y=i, s=confmat[i, j], va='center', ha='center')\n",
    "\n",
    "    plt.xlabel('Predicted label')\n",
    "    plt.ylabel('True label')\n",
    "\n",
    "    plt.tight_layout()\n",
    "    #plt.savefig('images/xxmethod.png', dpi=300)\n",
    "    plt.show()\n",
    "\n",
    "    print('Precision: %.3f' % precision_score(y_true=y_test, y_pred=y_pred, pos_label=0))\n",
    "    print('Recall: %.3f' % recall_score(y_true=y_test, y_pred=y_pred, pos_label=0))\n",
    "    print('F1: %.3f' % f1_score(y_true=y_test, y_pred=y_pred, pos_label=0))\n",
    "    \n",
    "    ax1 = plt.gca()\n",
    "    clf_disp = plot_roc_curve(clf, X_test, y_test, ax=ax1, alpha=0.8)\n",
    "\n",
    "    # plot ROC-AUC curve\n",
    "    \n",
    "# Here I want to ensemble all the ROC-AUC curve together but I don't find a good way to do that.\n",
    "# I don't know how to solve this in matplotlib\n",
    "    \n",
    "#     fig = plt.figure(figsize=(7, 5))\n",
    "\n",
    "#     mean_tpr = 0.0\n",
    "#     mean_fpr = np.linspace(0, 1, 100)\n",
    "#     all_tpr = []\n",
    "\n",
    "#     for i, (train, test) in enumerate(cv):\n",
    "#         probas = clf.fit(X_train_pca[train],\n",
    "#                             y_train[train]).predict_proba(X_train_pca[test])\n",
    "\n",
    "#         fpr, tpr, thresholds = roc_curve(y_train[test],\n",
    "#                                         probas[:, 0],\n",
    "#                                         pos_label=0)\n",
    "#         mean_tpr += interp(mean_fpr, fpr, tpr)\n",
    "#         mean_tpr[0] = 0.0\n",
    "#         roc_auc = auc(fpr, tpr)\n",
    "#         plt.plot(fpr,\n",
    "#                 tpr,\n",
    "#                 label='ROC fold %d (area = %0.2f)'\n",
    "#                       % (i+1, roc_auc))\n",
    "\n",
    "# plt.plot([0, 1],\n",
    "#          [0, 1],\n",
    "#          linestyle='--',\n",
    "#          color=(0.6, 0.6, 0.6),\n",
    "#          label='random guessing')\n",
    "\n",
    "# mean_tpr /= len(cv)\n",
    "# mean_tpr[-1] = 1.0\n",
    "# mean_auc = auc(mean_fpr, mean_tpr)\n",
    "# plt.plot(mean_fpr, mean_tpr, 'k--',\n",
    "#          label='mean ROC (area = %0.2f)' % mean_auc, lw=2)\n",
    "# plt.plot([0, 0, 1],\n",
    "#          [0, 1, 1],\n",
    "#          linestyle=':',\n",
    "#          color='black',\n",
    "#          label='perfect performance')\n",
    "\n",
    "# plt.xlim([-0.05, 1.05])\n",
    "# plt.ylim([-0.05, 1.05])\n",
    "# plt.xlabel('false positive rate')\n",
    "# plt.ylabel('true positive rate')\n",
    "# plt.legend(loc=\"lower right\")\n",
    "\n",
    "# plt.tight_layout()\n",
    "# # plt.savefig('images/06_10.png', dpi=300)\n",
    "# plt.show()\n"
   ]
  },
  {
   "cell_type": "markdown",
   "metadata": {},
   "source": [
    "It's very disappointing that your model won't give you a good performance about precision rate (only slightly better than 50%). This is life, my honey. You'd better try to find some other advanced models, or to collect more information for this question. You should be glad that you saw such bad predictions in a tutorial, not in your work. I will definitely not show this result to my boss if I get this. \n",
    "  \n",
    "* PS: Actually all these algorithms are capable of multi-classification problems. Beside the y_pred result, you can also get a matrix which displays the possibilities for y_pred in different classes.  "
   ]
  },
  {
   "cell_type": "markdown",
   "metadata": {},
   "source": [
    "# Unsupervised learning"
   ]
  },
  {
   "cell_type": "markdown",
   "metadata": {},
   "source": [
    "Now we transfer to another important types of machine learning method: unsupervised learning.  \n",
    "In supervised learning, we already have the y variable as labels for our prediction model, which will be helpful in training models and give us a easy assess to evaluate there performance. But this time, you're facing a dataset which has plenty of X features but no y for that.  \n",
    "So here is a question: if I don't have y (which is usually designed as the variable you're interesting in your work), what can I achieve here?  \n",
    "\n",
    "There are four main types of unsupervised learning method:  \n",
    "1. Dimension reduction  \n",
    "2. Clustering  \n",
    "3. Outlier detection  \n",
    "4. Association analysis\n",
    "\n",
    "(and others cutting edge innovations)\n",
    "\n",
    "Let's see the following scenarios."
   ]
  },
  {
   "cell_type": "markdown",
   "metadata": {},
   "source": [
    "### Dimensionality Reduction"
   ]
  },
  {
   "cell_type": "markdown",
   "metadata": {},
   "source": [
    "In machine learning, to catch useful indicators and obtain a more accurate result, we tend to add as many features as possible at first. However, after a certain point, the performance of the model will decrease with the increasing number of elements. This phenomenon is often referred to as “The Curse of Dimensionality.”  \n",
    "\n",
    "The curse of dimensionality occurs because the sample density decreases exponentially with the increase of the dimensionality. When we keep adding features without increasing the number of training samples as well, the dimensionality of the feature space grows and becomes sparser and sparser. Due to this sparsity, it becomes much easier to find a “perfect” solution for the machine learning model which highly likely leads to overfitting. To deal with this, you need to consider dimensionality reduction method.\n",
    "\n",
    "Dimensionality reduction, or dimension reduction, is the transformation of data from a high-dimensional space into a low-dimensional space so that the low-dimensional representation retains some meaningful properties of the original data, ideally close to its intrinsic dimension.\n",
    "\n",
    "**Example:**  \n",
    "\n",
    "Suppose you have a large amount of features, which will be costly if you run some regression or classification(like SVM) models directly. To save the poor memory of your CPU, you have to decrease the number of your X features.  \n",
    "In previous case we've already seen the PCA and LDA methods. Now let's try something else. "
   ]
  },
  {
   "cell_type": "code",
   "execution_count": 44,
   "metadata": {
    "ExecuteTime": {
     "end_time": "2020-08-28T07:14:22.788364Z",
     "start_time": "2020-08-28T07:14:21.650407Z"
    }
   },
   "outputs": [],
   "source": [
    "# Notice at this time, variables like loss and recovery amount are also X features\n",
    "# I didn't use different symbol when transforming df. Thus, we need to load back original data and do some transforming again, which is stupid for me. Hope you can avoid it.\n",
    "# If your project is very large, it's important to have a backup and make every step invertible.\n",
    "\n",
    "df_origin = pd.read_excel('Banking_loss_events.xlsx')\n",
    "df_origin = df_origin.drop_duplicates()"
   ]
  },
  {
   "cell_type": "code",
   "execution_count": 45,
   "metadata": {
    "ExecuteTime": {
     "end_time": "2020-08-28T07:14:22.826263Z",
     "start_time": "2020-08-28T07:14:22.799335Z"
    }
   },
   "outputs": [],
   "source": [
    "X_all = np.hstack((X, df_origin[['Recovery Amount','Net Loss','Estimated Gross Loss','Recovery Amount (percent)']]))\n",
    "X_all = sc_X.fit_transform(X_all)\n",
    "X_all_column_name = np.hstack((X.columns, ['Recovery Amount','Net Loss','Estimated Gross Loss','Recovery Amount (percent)']))\n",
    "X_all = pd.DataFrame(X_all, columns=X_all_column_name)"
   ]
  },
  {
   "cell_type": "code",
   "execution_count": 46,
   "metadata": {
    "ExecuteTime": {
     "end_time": "2020-08-28T07:15:03.659054Z",
     "start_time": "2020-08-28T07:14:22.832245Z"
    }
   },
   "outputs": [
    {
     "name": "stderr",
     "output_type": "stream",
     "text": [
      "C:\\Users\\langbo\\anaconda3\\lib\\site-packages\\sklearn\\manifold\\_spectral_embedding.py:236: UserWarning: Graph is not fully connected, spectral embedding may not work as expected.\n",
      "  warnings.warn(\"Graph is not fully connected, spectral embedding\"\n"
     ]
    }
   ],
   "source": [
    "# Manifold Algorith\n",
    "\n",
    "from sklearn import manifold\n",
    "from collections import OrderedDict\n",
    "from functools import partial\n",
    "\n",
    "n_neighbors = 10          # Trade off between running time and accuracy \n",
    "n_components = 2         \n",
    "\n",
    "LLE = partial(manifold.LocallyLinearEmbedding,\n",
    "              n_neighbors, n_components, eigen_solver='dense')\n",
    "\n",
    "methods = OrderedDict()\n",
    "methods['LLE'] = LLE(method='standard')\n",
    "methods['LTSA'] = LLE(method='ltsa')\n",
    "methods['Hessian LLE'] = LLE(method='hessian')\n",
    "methods['Isomap'] = manifold.Isomap(n_neighbors, n_components)   # You should always refresh the code when you update sklearn version.\n",
    "methods['MDS'] = manifold.MDS(n_components, max_iter=100, n_init=1)\n",
    "methods['SE'] = manifold.SpectralEmbedding(n_components=n_components,\n",
    "                                         n_neighbors=n_neighbors)\n",
    "methods['t-SNE'] = manifold.TSNE(n_components=n_components, init='pca',\n",
    "                                random_state=0)\n",
    "methods['Modified LLE'] = LLE(method='modified') # It always provides warnings here... Maybe I did miss up something.\n",
    "\n",
    "\n",
    "\n",
    "for i, (label, method) in enumerate(methods.items()):\n",
    "    X_DR = method.fit_transform(X_all)\n",
    "    # Then you can add what you'd like to do in the following."
   ]
  },
  {
   "cell_type": "code",
   "execution_count": 47,
   "metadata": {
    "ExecuteTime": {
     "end_time": "2020-08-28T07:15:03.780733Z",
     "start_time": "2020-08-28T07:15:03.664042Z"
    }
   },
   "outputs": [
    {
     "name": "stdout",
     "output_type": "stream",
     "text": [
      "(1401, 50)\n"
     ]
    },
    {
     "data": {
      "text/plain": [
       "(1401, 4)"
      ]
     },
     "execution_count": 47,
     "metadata": {},
     "output_type": "execute_result"
    }
   ],
   "source": [
    "# Feature Agglomeration\n",
    "from sklearn import cluster\n",
    "n_components = 4\n",
    "\n",
    "agglo = cluster.FeatureAgglomeration(n_clusters=n_components)\n",
    "agglo.fit(X_all)\n",
    "X_reduced = agglo.transform(X_all)\n",
    "print(X_all.shape)\n",
    "X_reduced.shape"
   ]
  },
  {
   "cell_type": "code",
   "execution_count": 48,
   "metadata": {
    "ExecuteTime": {
     "end_time": "2020-08-28T07:15:03.815637Z",
     "start_time": "2020-08-28T07:15:03.785717Z"
    }
   },
   "outputs": [
    {
     "name": "stdout",
     "output_type": "stream",
     "text": [
      "(1401, 8)\n",
      "(1401, 8)\n"
     ]
    }
   ],
   "source": [
    "# Random Projection\n",
    "from sklearn import random_projection\n",
    "transformer1 = random_projection.GaussianRandomProjection(n_components=8,eps=0.1)\n",
    "X_new1 = transformer1.fit_transform(X_all)\n",
    "print(X_new1.shape)\n",
    "# If you have large amount of X features compared to samples, you may try to use `eps` to control component_number in output.\n",
    "\n",
    "transformer2 = random_projection.SparseRandomProjection(n_components=8)\n",
    "X_new2 = transformer2.fit_transform(X_all)\n",
    "print(X_new2.shape)"
   ]
  },
  {
   "cell_type": "markdown",
   "metadata": {},
   "source": [
    "<div class=\"alert alert-block alert-danger\">  \n",
    "Note: You might want to explain or visualize the components you get from dimensionality reduction, while sklearn is not a professional package for that. I suggest you to try some better packages in Python.\n",
    "</div>"
   ]
  },
  {
   "cell_type": "markdown",
   "metadata": {},
   "source": [
    "### Clustering"
   ]
  },
  {
   "cell_type": "markdown",
   "metadata": {},
   "source": [
    "Clustering is the task of dividing the population or data points into a number of groups such that data points in the same groups are more similar to other data points in the same group and dissimilar to the data points in other groups. It is basically a collection of objects on the basis of similarity and dissimilarity between them.  \n",
    "\n",
    "Clustering is very important as it determines the intrinsic grouping among the unlabeled data present.  \n",
    "*Note: There does not exist best criteria to evaluate clustering in real cases. It depends on requirements and the objective criteria from user. However, you can still get some index to describe the results(eg: AMI, ARI) if you want.*  \n",
    "\n",
    "Besides, clustering is useful for exploring data. If there are many cases and no obvious groupings, clustering algorithms can be used to find natural groupings. Clustering can also serve as a useful data-preprocessing step to identify homogeneous groups on which to build supervised models.\n",
    "\n",
    "**Example:**  \n",
    "Suppose you are still working as a data scientist in risk management department. Your boss decides to try to recover the money. He needs to design a strategic system, which will adopt different principles and debt collection plans for different customer groups.   \n",
    "Your task is to try to construct different groups of debtor customers and to describe some common characteristics. Note that this is different from the classification problem mentioned earlier. Here we do not know the exact categories(y_label) before. Instead, we use our subjective initiative to cluster the similar samples together, then create a classification standard.\n"
   ]
  },
  {
   "cell_type": "code",
   "execution_count": 49,
   "metadata": {
    "ExecuteTime": {
     "end_time": "2020-08-28T07:15:21.487374Z",
     "start_time": "2020-08-28T07:15:03.821620Z"
    }
   },
   "outputs": [
    {
     "name": "stderr",
     "output_type": "stream",
     "text": [
      "C:\\Users\\langbo\\anaconda3\\lib\\site-packages\\sklearn\\manifold\\_spectral_embedding.py:236: UserWarning: Graph is not fully connected, spectral embedding may not work as expected.\n",
      "  warnings.warn(\"Graph is not fully connected, spectral embedding\"\n"
     ]
    }
   ],
   "source": [
    "# Reference: official sklearn 0.23.2 cases\n",
    "from sklearn import cluster, mixture\n",
    "from sklearn.neighbors import kneighbors_graph\n",
    "\n",
    "# ============\n",
    "# set hyperparameters\n",
    "# ============\n",
    "default_base = {'quantile': .3,\n",
    "                'eps': .3,\n",
    "                'damping': .9,\n",
    "                'preference': -200,\n",
    "                'n_neighbors': 10,\n",
    "                'n_clusters': 3,\n",
    "                'min_samples': 20,\n",
    "                'xi': 0.05,\n",
    "                'min_cluster_size': 0.1}\n",
    "params = default_base.copy()\n",
    "\n",
    "# estimate bandwidth for mean shift\n",
    "bandwidth = cluster.estimate_bandwidth(X, quantile=params['quantile'])\n",
    "\n",
    "# connectivity matrix for structured Ward\n",
    "connectivity = kneighbors_graph(\n",
    "    X, n_neighbors=params['n_neighbors'], include_self=False)\n",
    "# make connectivity symmetric\n",
    "connectivity = 0.5 * (connectivity + connectivity.T)\n",
    "\n",
    "# ============\n",
    "# Create cluster objects\n",
    "# ============\n",
    "ms = cluster.MeanShift(bandwidth=bandwidth, bin_seeding=True)\n",
    "two_means = cluster.MiniBatchKMeans(n_clusters=params['n_clusters'])\n",
    "ward = cluster.AgglomerativeClustering(\n",
    "    n_clusters=params['n_clusters'], linkage='ward',\n",
    "    connectivity=connectivity)\n",
    "spectral = cluster.SpectralClustering(\n",
    "    n_clusters=params['n_clusters'], eigen_solver='arpack',\n",
    "    affinity=\"nearest_neighbors\")\n",
    "dbscan = cluster.DBSCAN(eps=params['eps'])\n",
    "optics = cluster.OPTICS(min_samples=params['min_samples'],\n",
    "                        xi=params['xi'],\n",
    "                        min_cluster_size=params['min_cluster_size'])\n",
    "affinity_propagation = cluster.AffinityPropagation(\n",
    "    damping=params['damping'], preference=params['preference'])\n",
    "average_linkage = cluster.AgglomerativeClustering(\n",
    "    linkage=\"average\", affinity=\"cityblock\",\n",
    "    n_clusters=params['n_clusters'], connectivity=connectivity)\n",
    "birch = cluster.Birch(n_clusters=params['n_clusters'])\n",
    "gmm = mixture.GaussianMixture(\n",
    "    n_components=params['n_clusters'], covariance_type='full')\n",
    "\n",
    "\n",
    "clustering_algorithms = (\n",
    "    ('MiniBatchKMeans', two_means),\n",
    "    ('AffinityPropagation', affinity_propagation),\n",
    "    ('MeanShift', ms),\n",
    "    ('SpectralClustering', spectral),\n",
    "    ('Ward', ward),\n",
    "    ('AgglomerativeClustering', average_linkage),\n",
    "    ('DBSCAN', dbscan),\n",
    "    ('OPTICS', optics),\n",
    "    ('Birch', birch),\n",
    "    ('GaussianMixture', gmm)\n",
    ")\n",
    "\n",
    "for name, algorithm in clustering_algorithms:\n",
    "    algorithm.fit(X_all)\n",
    "    if hasattr(algorithm, 'labels_'):\n",
    "        label_pred = algorithm.labels_.astype(np.int)\n",
    "    else:\n",
    "        label_pred = algorithm.predict(X_all)\n",
    "    #You can save the label and do the visualization in the following."
   ]
  },
  {
   "cell_type": "markdown",
   "metadata": {},
   "source": [
    "### Outlier Detection"
   ]
  },
  {
   "cell_type": "markdown",
   "metadata": {},
   "source": [
    "Outliers are generally defined as samples that are exceptionally far from the mainstream of data. There is no rigid mathematical definition of what constitutes an outlier; determining whether or not an observation is an outlier is ultimately a subjective exercise.\n",
    "\n",
    "An outlier may also be explained as a piece of data or observation that deviates drastically from the given norm or average of the data set. An outlier may be caused simply by chance or error, but it may also indicate that god provide a miracle for you.  \n",
    "\n",
    "Therefore, Outlier Detection may be defined as the process of detecting and subsequently excluding outliers from a given set of data. There are no standardized Outlier identification methods as these are largely dependent upon the data set. You may want to use this method when:  \n",
    "- you want to detect some errors in the data itself, then check and correct them to improve the accuracy of the model.\n",
    "- you hope to find the most special ones in a group, i.e., a miracle.\n",
    "  \n",
    "*Note:'novelty detection' is a similar method, but it requires the training data to be NOT polluted by outliers. If we are interested in detecting whether a new observation is an outlier, you may check in use of training data through this method. In this context an outlier is also called a novelty.*\n",
    "\n",
    "**Example:**  \n",
    "\n",
    "Historical data shows that the bad debts of your bank cannot be recovered, but your boss thinks it is necessary to try it. He hopes to let you find some unique customers who are hopeful of repaying their debts. It will be simple if you have historical repayment data, but you only have this data at present. Therefore, you plan to use the outlier detection method.  \n",
    "\n",
    "Note that this data set itself contains outliers and there is no need to judge new data points. Therefore, no need for novelty detection method."
   ]
  },
  {
   "cell_type": "code",
   "execution_count": 50,
   "metadata": {
    "ExecuteTime": {
     "end_time": "2020-08-28T07:15:25.862706Z",
     "start_time": "2020-08-28T07:15:21.490366Z"
    }
   },
   "outputs": [
    {
     "name": "stderr",
     "output_type": "stream",
     "text": [
      "C:\\Users\\langbo\\anaconda3\\lib\\site-packages\\sklearn\\covariance\\_robust_covariance.py:644: UserWarning: The covariance matrix associated to your dataset is not full rank\n",
      "  warnings.warn(\"The covariance matrix associated to your dataset \"\n",
      "C:\\Users\\langbo\\anaconda3\\lib\\site-packages\\sklearn\\covariance\\_robust_covariance.py:170: RuntimeWarning: Determinant has increased; this should not happen: log(det) > log(previous_det) (-391.174238417107119 > -396.535428905619938). You may want to try with a higher value of support_fraction (current value: 0.517).\n",
      "  RuntimeWarning)\n",
      "C:\\Users\\langbo\\anaconda3\\lib\\site-packages\\sklearn\\covariance\\_robust_covariance.py:170: RuntimeWarning: Determinant has increased; this should not happen: log(det) > log(previous_det) (-393.209786679772208 > -396.295102958589780). You may want to try with a higher value of support_fraction (current value: 0.517).\n",
      "  RuntimeWarning)\n",
      "C:\\Users\\langbo\\anaconda3\\lib\\site-packages\\sklearn\\covariance\\_robust_covariance.py:170: RuntimeWarning: Determinant has increased; this should not happen: log(det) > log(previous_det) (-393.501043754103875 > -398.819098931114183). You may want to try with a higher value of support_fraction (current value: 0.517).\n",
      "  RuntimeWarning)\n",
      "C:\\Users\\langbo\\anaconda3\\lib\\site-packages\\sklearn\\covariance\\_robust_covariance.py:170: RuntimeWarning: Determinant has increased; this should not happen: log(det) > log(previous_det) (-386.177399900998296 > -391.586178425707089). You may want to try with a higher value of support_fraction (current value: 0.517).\n",
      "  RuntimeWarning)\n",
      "C:\\Users\\langbo\\anaconda3\\lib\\site-packages\\sklearn\\covariance\\_robust_covariance.py:170: RuntimeWarning: Determinant has increased; this should not happen: log(det) > log(previous_det) (-391.520511059947353 > -394.808947721739628). You may want to try with a higher value of support_fraction (current value: 0.517).\n",
      "  RuntimeWarning)\n",
      "C:\\Users\\langbo\\anaconda3\\lib\\site-packages\\sklearn\\covariance\\_robust_covariance.py:170: RuntimeWarning: Determinant has increased; this should not happen: log(det) > log(previous_det) (-395.546606375478291 > -395.678950892675687). You may want to try with a higher value of support_fraction (current value: 0.517).\n",
      "  RuntimeWarning)\n",
      "C:\\Users\\langbo\\anaconda3\\lib\\site-packages\\sklearn\\covariance\\_robust_covariance.py:170: RuntimeWarning: Determinant has increased; this should not happen: log(det) > log(previous_det) (-389.055392980082388 > -395.190056840962086). You may want to try with a higher value of support_fraction (current value: 0.517).\n",
      "  RuntimeWarning)\n",
      "C:\\Users\\langbo\\anaconda3\\lib\\site-packages\\sklearn\\covariance\\_robust_covariance.py:170: RuntimeWarning: Determinant has increased; this should not happen: log(det) > log(previous_det) (-386.532055703480069 > -395.222989509286720). You may want to try with a higher value of support_fraction (current value: 0.517).\n",
      "  RuntimeWarning)\n",
      "C:\\Users\\langbo\\anaconda3\\lib\\site-packages\\sklearn\\covariance\\_robust_covariance.py:170: RuntimeWarning: Determinant has increased; this should not happen: log(det) > log(previous_det) (-392.201538900315768 > -392.228381054976012). You may want to try with a higher value of support_fraction (current value: 0.517).\n",
      "  RuntimeWarning)\n",
      "C:\\Users\\langbo\\anaconda3\\lib\\site-packages\\sklearn\\covariance\\_robust_covariance.py:644: UserWarning: The covariance matrix associated to your dataset is not full rank\n",
      "  warnings.warn(\"The covariance matrix associated to your dataset \"\n",
      "C:\\Users\\langbo\\anaconda3\\lib\\site-packages\\sklearn\\covariance\\_robust_covariance.py:170: RuntimeWarning: Determinant has increased; this should not happen: log(det) > log(previous_det) (-395.282500243046741 > -400.822857049712354). You may want to try with a higher value of support_fraction (current value: 0.517).\n",
      "  RuntimeWarning)\n",
      "C:\\Users\\langbo\\anaconda3\\lib\\site-packages\\sklearn\\covariance\\_robust_covariance.py:170: RuntimeWarning: Determinant has increased; this should not happen: log(det) > log(previous_det) (-394.747572332710661 > -397.811112712225793). You may want to try with a higher value of support_fraction (current value: 0.517).\n",
      "  RuntimeWarning)\n",
      "C:\\Users\\langbo\\anaconda3\\lib\\site-packages\\sklearn\\covariance\\_robust_covariance.py:170: RuntimeWarning: Determinant has increased; this should not happen: log(det) > log(previous_det) (-396.392842076566581 > -403.723736938554623). You may want to try with a higher value of support_fraction (current value: 0.517).\n",
      "  RuntimeWarning)\n",
      "C:\\Users\\langbo\\anaconda3\\lib\\site-packages\\sklearn\\covariance\\_robust_covariance.py:170: RuntimeWarning: Determinant has increased; this should not happen: log(det) > log(previous_det) (-391.344852878339566 > -398.660376501123608). You may want to try with a higher value of support_fraction (current value: 0.517).\n",
      "  RuntimeWarning)\n"
     ]
    }
   ],
   "source": [
    "from sklearn.covariance import EllipticEnvelope\n",
    "from sklearn.ensemble import IsolationForest\n",
    "from sklearn.neighbors import LocalOutlierFactor\n",
    "from sklearn import svm\n",
    "\n",
    "n_samples = len(X_all)\n",
    "outliers_fraction = 0.15\n",
    "n_outliers = int(outliers_fraction * n_samples)\n",
    "n_inliers = n_samples - n_outliers\n",
    "\n",
    "# define outlier/anomaly detection methods to be compared\n",
    "anomaly_algorithms = [\n",
    "    (\"Robust covariance\", EllipticEnvelope(contamination=outliers_fraction)),\n",
    "    (\"One-Class SVM\", svm.OneClassSVM(nu=outliers_fraction, kernel=\"rbf\",\n",
    "                                      gamma=0.1)),\n",
    "    (\"Isolation Forest\", IsolationForest(contamination=outliers_fraction,\n",
    "                                         random_state=42)),\n",
    "    (\"Local Outlier Factor\", LocalOutlierFactor(\n",
    "        n_neighbors=35, contamination=outliers_fraction))]\n",
    "\n",
    "for name, algorithm in anomaly_algorithms:\n",
    "    algorithm.fit(X)\n",
    "    if name == \"Local Outlier Factor\":\n",
    "        y_pred = algorithm.fit_predict(X)\n",
    "    else:\n",
    "        y_pred = algorithm.fit(X).predict(X)\n",
    "    #You can save the label and do the visualization in the following.    "
   ]
  },
  {
   "cell_type": "markdown",
   "metadata": {},
   "source": [
    "### Association Analysis"
   ]
  },
  {
   "cell_type": "markdown",
   "metadata": {},
   "source": [
    "Usually, after you look at the data set carefully, you will find that there are and many frequent patterns (high correlated) between your X features. For example, the rule `{onions ,potatoes}-> {hamburger meat}` found in the sales data of a supermarket would indicate that: **if a customer buys onions and potatoes together, he or she is likely to also buy hamburger meat**. Such information can be used as the basis for decisions about marketing activities (e.g., promotional pricing or product placements). In addition to the above example from market basket analysis, association rules are employed today in many application areas including Web usage mining, intrusion detection and bioinformatics.  \n",
    "\n",
    "You may find three types of associations in this algorithm:\n",
    "- Frequent itemset (For parallel data and obtain simultaneous correlation)\n",
    "- Frequent sequence (Require raw data to occur in order, such as multiple time series; obtain relationships like 'cause and effect' )\n",
    "- Frequent substructure (Mining common substructures, which are composed of the above two association relationships)  \n",
    "\n",
    "*Note: It is hard to implement association analysis is continuous numeric variable. Is the case we listed below, we use the famous `apriori` algorithms, which requires your input to be either 0/False or 1/True. If you want to add more information, please try to dichotomize your continuous features.*  \n",
    "\n",
    "You can see tutorial for more: https://www.csd.uwo.ca/~dlizotte/teaching/cs886_slides/s13/DataMiningCS886.pdf\n",
    "\n",
    "**Example:**  \n",
    "\n",
    "You have a new boss who wants to hear your report on this data, but he has no clear purpose. He has given you enough freedom and hopes that you can actively discover some information for him, and tolerate some useless attempts.  \n",
    "\n",
    "In this case, association analysis is a good choice. Since our data set has no chronological relationship, we only need to mine frequent itemset. The code demonstrated below uses the `mlxtend` package, you can also try others, such as `PySpark`.  "
   ]
  },
  {
   "cell_type": "code",
   "execution_count": 51,
   "metadata": {
    "ExecuteTime": {
     "end_time": "2020-08-28T07:15:26.096048Z",
     "start_time": "2020-08-28T07:15:25.865699Z"
    }
   },
   "outputs": [
    {
     "name": "stdout",
     "output_type": "stream",
     "text": [
      "      support  \\\n",
      "66   0.363312   \n",
      "25   0.323340   \n",
      "88   0.304069   \n",
      "48   0.301213   \n",
      "69   0.297645   \n",
      "..        ...   \n",
      "153  0.051392   \n",
      "57   0.051392   \n",
      "111  0.051392   \n",
      "134  0.051392   \n",
      "119  0.051392   \n",
      "\n",
      "                                                                                        itemsets  \n",
      "66                                       (Business_Retail Banking, Risk Category_External Fraud)  \n",
      "25                                                         (Business_Retail Banking, Name Class)  \n",
      "88                             (Risk Category_External Fraud, Risk Sub-Category_Theft and Fraud)  \n",
      "48                                               (Business_Retail Banking, Region_North America)  \n",
      "69                                  (Business_Retail Banking, Risk Sub-Category_Theft and Fraud)  \n",
      "..                                                                                           ...  \n",
      "153   (Risk Sub-Category_Theft and Fraud, Risk Category_External Fraud, Region_EMEA, Name Class)  \n",
      "57                                    (Risk Sub-Category_Systems Security, Region_North America)  \n",
      "111  (Risk Category_Execution, Delivery and Process Management, Status_Under Review, Name Class)  \n",
      "134     (Risk Sub-Category_Systems Security, Risk Category_External Fraud, Region_North America)  \n",
      "119                                  (Business_Retail Banking, Status_Under Review, Region_EMEA)  \n",
      "\n",
      "[144 rows x 2 columns]\n",
      "                                                                                            antecedents  \\\n",
      "0                                                                   (Risk Sub-Category_Theft and Fraud)   \n",
      "2                                          (Business_Retail Banking, Risk Sub-Category_Theft and Fraud)   \n",
      "4                                                       (Risk Sub-Category_Theft and Fraud, Name Class)   \n",
      "1                                                                   (Risk Sub-Category_Theft and Fraud)   \n",
      "6                                             (Risk Sub-Category_Theft and Fraud, Region_North America)   \n",
      "7                              (Business_Retail Banking, Risk Sub-Category_Theft and Fraud, Name Class)   \n",
      "3                                     (Risk Category_External Fraud, Risk Sub-Category_Theft and Fraud)   \n",
      "10                                                         (Risk Sub-Category_Reporting and Disclosure)   \n",
      "9                    (Risk Sub-Category_Theft and Fraud, Business_Retail Banking, Region_North America)   \n",
      "11                                                                 (Risk Sub-Category_Systems Security)   \n",
      "13                                                     (Region_EMEA, Risk Sub-Category_Theft and Fraud)   \n",
      "17                                                             (Risk Sub-Category_Trade Counterparties)   \n",
      "14                            (Business_Retail Banking, Region_EMEA, Risk Sub-Category_Theft and Fraud)   \n",
      "18                                        (Business_Retail Banking, Risk Sub-Category_Systems Security)   \n",
      "16                                              (Status_Not Started, Risk Sub-Category_Theft and Fraud)   \n",
      "21                     (Business_Retail Banking, Status_Not Started, Risk Sub-Category_Theft and Fraud)   \n",
      "5                                                       (Risk Sub-Category_Theft and Fraud, Name Class)   \n",
      "8                         (Risk Category_External Fraud, Risk Sub-Category_Theft and Fraud, Name Class)   \n",
      "23                                              (Status_In Progress, Risk Sub-Category_Theft and Fraud)   \n",
      "32                                                (Risk Sub-Category_Customer Intake and Documentation)   \n",
      "27                                (Risk Sub-Category_Theft and Fraud, Region_North America, Name Class)   \n",
      "35                                             (Risk Sub-Category_Reporting and Disclosure, Name Class)   \n",
      "25                     (Business_Retail Banking, Status_In Progress, Risk Sub-Category_Theft and Fraud)   \n",
      "38                                   (Risk Sub-Category_Reporting and Disclosure, Region_North America)   \n",
      "28                                                 (Region_Asia Pac, Risk Sub-Category_Theft and Fraud)   \n",
      "40                                                            (Risk Sub-Category_Vendors and Suppliers)   \n",
      "33       (Business_Retail Banking, Risk Sub-Category_Theft and Fraud, Region_North America, Name Class)   \n",
      "45                                (Risk Sub-Category_Reporting and Disclosure, Business_Retail Banking)   \n",
      "39                                                 (Status_Approved, Risk Sub-Category_Theft and Fraud)   \n",
      "44                                                 (Status_Approved, Risk Sub-Category_Theft and Fraud)   \n",
      "36                        (Business_Retail Banking, Region_Asia Pac, Risk Sub-Category_Theft and Fraud)   \n",
      "42                        (Business_Retail Banking, Status_Approved, Risk Sub-Category_Theft and Fraud)   \n",
      "48                                           (Risk Sub-Category_Systems Security, Region_North America)   \n",
      "12                                                     (Region_EMEA, Risk Sub-Category_Theft and Fraud)   \n",
      "47                                         (Region_EMEA, Risk Sub-Category_Theft and Fraud, Name Class)   \n",
      "15                       (Region_EMEA, Risk Category_External Fraud, Risk Sub-Category_Theft and Fraud)   \n",
      "20                                                   (Status_In Progress, Risk Category_External Fraud)   \n",
      "22                                              (Status_In Progress, Risk Sub-Category_Theft and Fraud)   \n",
      "19                                                      (Region_Asia Pac, Risk Category_External Fraud)   \n",
      "26                (Status_In Progress, Risk Category_External Fraud, Risk Sub-Category_Theft and Fraud)   \n",
      "24                                                      (Status_Approved, Risk Category_External Fraud)   \n",
      "30                                                                   (Status_Rejected, Region_Asia Pac)   \n",
      "29                                (Region_North America, Risk Sub-Category_Theft and Fraud, Name Class)   \n",
      "31                                                 (Region_Asia Pac, Risk Sub-Category_Theft and Fraud)   \n",
      "41                                                 (Status_Approved, Risk Sub-Category_Theft and Fraud)   \n",
      "43                   (Status_Approved, Risk Category_External Fraud, Risk Sub-Category_Theft and Fraud)   \n",
      "34  (Risk Sub-Category_Theft and Fraud, Risk Category_External Fraud, Region_North America, Name Class)   \n",
      "37                   (Region_Asia Pac, Risk Category_External Fraud, Risk Sub-Category_Theft and Fraud)   \n",
      "46                                         (Region_EMEA, Risk Sub-Category_Theft and Fraud, Name Class)   \n",
      "\n",
      "                                                   consequents  \\\n",
      "0                               (Risk Category_External Fraud)   \n",
      "2                               (Risk Category_External Fraud)   \n",
      "4                               (Risk Category_External Fraud)   \n",
      "1                                    (Business_Retail Banking)   \n",
      "6                               (Risk Category_External Fraud)   \n",
      "7                               (Risk Category_External Fraud)   \n",
      "3                                    (Business_Retail Banking)   \n",
      "10  (Risk Category_Execution, Delivery and Process Management)   \n",
      "9                               (Risk Category_External Fraud)   \n",
      "11                              (Risk Category_External Fraud)   \n",
      "13                              (Risk Category_External Fraud)   \n",
      "17  (Risk Category_Execution, Delivery and Process Management)   \n",
      "14                              (Risk Category_External Fraud)   \n",
      "18                              (Risk Category_External Fraud)   \n",
      "16                              (Risk Category_External Fraud)   \n",
      "21                              (Risk Category_External Fraud)   \n",
      "5                                    (Business_Retail Banking)   \n",
      "8                                    (Business_Retail Banking)   \n",
      "23                              (Risk Category_External Fraud)   \n",
      "32  (Risk Category_Execution, Delivery and Process Management)   \n",
      "27                              (Risk Category_External Fraud)   \n",
      "35  (Risk Category_Execution, Delivery and Process Management)   \n",
      "25                              (Risk Category_External Fraud)   \n",
      "38  (Risk Category_Execution, Delivery and Process Management)   \n",
      "28                              (Risk Category_External Fraud)   \n",
      "40  (Risk Category_Execution, Delivery and Process Management)   \n",
      "33                              (Risk Category_External Fraud)   \n",
      "45  (Risk Category_Execution, Delivery and Process Management)   \n",
      "39                              (Risk Category_External Fraud)   \n",
      "44     (Business_Retail Banking, Risk Category_External Fraud)   \n",
      "36                              (Risk Category_External Fraud)   \n",
      "42                              (Risk Category_External Fraud)   \n",
      "48                              (Risk Category_External Fraud)   \n",
      "12                                   (Business_Retail Banking)   \n",
      "47                              (Risk Category_External Fraud)   \n",
      "15                                   (Business_Retail Banking)   \n",
      "20                                   (Business_Retail Banking)   \n",
      "22                                   (Business_Retail Banking)   \n",
      "19                                   (Business_Retail Banking)   \n",
      "26                                   (Business_Retail Banking)   \n",
      "24                                   (Business_Retail Banking)   \n",
      "30                                   (Business_Retail Banking)   \n",
      "29                                   (Business_Retail Banking)   \n",
      "31                                   (Business_Retail Banking)   \n",
      "41                                   (Business_Retail Banking)   \n",
      "43                                   (Business_Retail Banking)   \n",
      "34                                   (Business_Retail Banking)   \n",
      "37                                   (Business_Retail Banking)   \n",
      "46                                   (Business_Retail Banking)   \n",
      "\n",
      "    antecedent support  consequent support   support  confidence      lift  \\\n",
      "0             0.325482            0.408280  0.304069    0.934211  2.288162   \n",
      "2             0.297645            0.408280  0.276231    0.928058  2.273092   \n",
      "4             0.157031            0.408280  0.147038    0.936364  2.293436   \n",
      "1             0.325482            0.661670  0.297645    0.914474  1.382069   \n",
      "6             0.148465            0.408280  0.138473    0.932692  2.284444   \n",
      "7             0.144897            0.408280  0.134904    0.931034  2.280383   \n",
      "3             0.304069            0.661670  0.276231    0.908451  1.372966   \n",
      "10            0.117059            0.379015  0.117059    1.000000  2.638418   \n",
      "9             0.133476            0.408280  0.123483    0.925134  2.265931   \n",
      "11            0.104211            0.408280  0.104211    1.000000  2.449301   \n",
      "13            0.109921            0.408280  0.102784    0.935065  2.290255   \n",
      "17            0.087081            0.379015  0.087081    1.000000  2.638418   \n",
      "14            0.102784            0.408280  0.095646    0.930556  2.279210   \n",
      "18            0.087081            0.408280  0.087081    1.000000  2.449301   \n",
      "16            0.092077            0.408280  0.087794    0.953488  2.335380   \n",
      "21            0.079943            0.408280  0.075660    0.946429  2.318088   \n",
      "5             0.157031            0.661670  0.144897    0.922727  1.394543   \n",
      "8             0.147038            0.661670  0.134904    0.917476  1.386606   \n",
      "23            0.072805            0.408280  0.067095    0.921569  2.257199   \n",
      "32            0.059957            0.379015  0.059957    1.000000  2.638418   \n",
      "27            0.068522            0.408280  0.064240    0.937500  2.296219   \n",
      "35            0.057816            0.379015  0.057816    1.000000  2.638418   \n",
      "25            0.069950            0.408280  0.064240    0.918367  2.249358   \n",
      "38            0.057102            0.379015  0.057102    1.000000  2.638418   \n",
      "28            0.067095            0.408280  0.062812    0.936170  2.292962   \n",
      "40            0.056388            0.379015  0.056388    1.000000  2.638418   \n",
      "33            0.062812            0.408280  0.058530    0.931818  2.282303   \n",
      "45            0.052819            0.379015  0.052819    1.000000  2.638418   \n",
      "39            0.057816            0.408280  0.056388    0.975309  2.388824   \n",
      "44            0.057816            0.363312  0.053533    0.925926  2.548570   \n",
      "36            0.061385            0.408280  0.057102    0.930233  2.278419   \n",
      "42            0.054961            0.408280  0.053533    0.974026  2.385682   \n",
      "48            0.051392            0.408280  0.051392    1.000000  2.449301   \n",
      "12            0.109921            0.661670  0.102784    0.935065  1.413189   \n",
      "47            0.054961            0.408280  0.051392    0.935065  2.290255   \n",
      "15            0.102784            0.661670  0.095646    0.930556  1.406374   \n",
      "20            0.080657            0.661670  0.076374    0.946903  1.431079   \n",
      "22            0.072805            0.661670  0.069950    0.960784  1.452059   \n",
      "19            0.085653            0.661670  0.077088    0.900000  1.360194   \n",
      "26            0.067095            0.661670  0.064240    0.957447  1.447015   \n",
      "24            0.072805            0.661670  0.067095    0.921569  1.392791   \n",
      "30            0.066381            0.661670  0.062099    0.935484  1.413822   \n",
      "29            0.068522            0.661670  0.062812    0.916667  1.385383   \n",
      "31            0.067095            0.661670  0.061385    0.914894  1.382703   \n",
      "41            0.057816            0.661670  0.054961    0.950617  1.436693   \n",
      "43            0.056388            0.661670  0.053533    0.949367  1.434804   \n",
      "34            0.064240            0.661670  0.058530    0.911111  1.376987   \n",
      "37            0.062812            0.661670  0.057102    0.909091  1.373934   \n",
      "46            0.054961            0.661670  0.051392    0.935065  1.413189   \n",
      "\n",
      "    leverage  conviction  \n",
      "0   0.171181    8.994147  \n",
      "2   0.154709    8.224911  \n",
      "4   0.082925    9.298460  \n",
      "1   0.082283    3.955856  \n",
      "6   0.077857    8.791272  \n",
      "7   0.075745    8.579943  \n",
      "3   0.075038    3.695602  \n",
      "10  0.072692         inf  \n",
      "9   0.068988    7.903691  \n",
      "11  0.061664         inf  \n",
      "13  0.057905    9.112491  \n",
      "17  0.054076         inf  \n",
      "14  0.053681    8.520771  \n",
      "18  0.051527         inf  \n",
      "16  0.050201   12.721984  \n",
      "21  0.043021   11.045444  \n",
      "5   0.040994    4.378385  \n",
      "8   0.037613    4.099761  \n",
      "23  0.037370    7.544433  \n",
      "32  0.037233         inf  \n",
      "27  0.036263    9.467523  \n",
      "35  0.035903         inf  \n",
      "25  0.035681    7.248572  \n",
      "38  0.035460         inf  \n",
      "28  0.035419    9.270283  \n",
      "40  0.035016         inf  \n",
      "33  0.032885    8.678563  \n",
      "45  0.032800         inf  \n",
      "39  0.032783   23.964668  \n",
      "44  0.032528    8.595289  \n",
      "36  0.032040    8.481323  \n",
      "42  0.031094   22.781228  \n",
      "48  0.030410         inf  \n",
      "12  0.030052    5.210278  \n",
      "47  0.028953    9.112491  \n",
      "15  0.027637    4.871949  \n",
      "20  0.023006    6.371877  \n",
      "22  0.021777    8.627409  \n",
      "19  0.020414    3.383298  \n",
      "26  0.019845    7.950749  \n",
      "24  0.018922    4.313704  \n",
      "30  0.018176    5.244111  \n",
      "29  0.017473    4.059957  \n",
      "31  0.016990    3.975375  \n",
      "41  0.016706    6.851178  \n",
      "43  0.016223    6.682013  \n",
      "34  0.016024    3.806210  \n",
      "37  0.015541    3.721627  \n",
      "46  0.015026    5.210278  \n"
     ]
    }
   ],
   "source": [
    "X_dummy = df_ml[['Name Class','Region_Asia Pac', 'Region_EMEA', 'Region_North America',\n",
    "       'Business_Agency Services', 'Business_Asset Management',\n",
    "       'Business_Commercial Banking', 'Business_Corporate Finance',\n",
    "       'Business_Retail Banking', 'Business_Retail Brokerage',\n",
    "       'Business_Trading and Sales', 'Status_Approved', 'Status_In Progress',\n",
    "       'Status_Not Started', 'Status_Rejected', 'Status_Under Review',\n",
    "       'Risk Category_Business Disruption and System Failures',\n",
    "       'Risk Category_Clients, Products and Business Practices',\n",
    "       'Risk Category_Damage to Physical Assets',\n",
    "       'Risk Category_Employment Practices and Workplace Safety',\n",
    "       'Risk Category_Execution, Delivery and Process Management',\n",
    "       'Risk Category_External Fraud', 'Risk Category_Internal Fraud',\n",
    "       'Risk Sub-Category_Advisory Activities',\n",
    "       'Risk Sub-Category_Customer Intake and Documentation',\n",
    "       'Risk Sub-Category_Customer/Client Account Management',\n",
    "       'Risk Sub-Category_Disaster and other events',\n",
    "       'Risk Sub-Category_Diversity and Discrimination',\n",
    "       'Risk Sub-Category_Employee Relations',\n",
    "       'Risk Sub-Category_Improper Business or Market Practices',\n",
    "       'Risk Sub-Category_Infrastructure and Systems',\n",
    "       'Risk Sub-Category_Product Flaws',\n",
    "       'Risk Sub-Category_Reporting and Disclosure',\n",
    "       'Risk Sub-Category_Safe Environment',\n",
    "       'Risk Sub-Category_Selection, Sponsorship and Exposure',\n",
    "       'Risk Sub-Category_Suitability, Disclosures and Fiduciary',\n",
    "       'Risk Sub-Category_Systems Security',\n",
    "       'Risk Sub-Category_Theft and Fraud',\n",
    "       'Risk Sub-Category_Trade Counterparties',\n",
    "       'Risk Sub-Category_Transaction/Data Management',\n",
    "       'Risk Sub-Category_Unauthorized Activity',\n",
    "       'Risk Sub-Category_Vendors and Suppliers',\n",
    "       'Risk Sub-Category_Willful Damage']]\n",
    "\n",
    "from mlxtend.frequent_patterns import apriori\n",
    " \n",
    "frequent_itemsets = apriori(X_dummy,min_support=0.05,use_colnames=True) # 'use_colnames=True' shows labels of features\n",
    "# frequent_itemsets = apriori(X_dummy,min_support=0.05)\n",
    "frequent_itemsets.sort_values(by='support',ascending=False,inplace=True) # Frequent itemsets can be sorted by support\n",
    "print(frequent_itemsets[frequent_itemsets.itemsets.apply(lambda x: len(x)) >= 2])  # Select frequent itemsets with length >=2\n",
    "\n",
    "from mlxtend.frequent_patterns import association_rules\n",
    " \n",
    "association_rule = association_rules(frequent_itemsets,metric='confidence',min_threshold=0.9)\n",
    "association_rule.sort_values(by='leverage',ascending=False,inplace=True)    # Association rules can be sorted by leverage\n",
    "print(association_rule)"
   ]
  },
  {
   "cell_type": "markdown",
   "metadata": {},
   "source": [
    "### Generative Adversarial Networks (GAN)"
   ]
  },
  {
   "cell_type": "markdown",
   "metadata": {},
   "source": [
    "Generative Adversarial Networks, or GANs for short, are an cutting-edge approach to generative modeling using deep learning methods, such as convolutional neural networks.  \n",
    "\n",
    "Generative modeling is an unsupervised learning task in machine learning that involves automatically discovering and learning the regularities or patterns in input data in such a way that the model can be used to generate or output new examples that plausibly could have been drawn from the original dataset. \n",
    "\n",
    "GANs are a clever way of training a generative model by framing the problem as a supervised learning problem with two sub-models: the generator model that we train to generate new examples, and the discriminator model that tries to classify examples as either real (from the domain) or fake (generated). The two models are trained together in a zero-sum game, adversarial, until the discriminator model is fooled about half the time, meaning the generator model is generating plausible examples.  \n",
    "\n",
    "Here is a more detailed introduction for GAN:\n",
    "https://indico.cern.ch/event/655447/contributions/2742176/attachments/1551254/2437141/gan-intro-iml.pdf \n",
    "\n",
    "GAN cannot be easily implemented in sklearn. So we use `TGAN` package here. You may also use Pytorch, TensorFlow-GAN or other packages.  \n",
    "\n",
    "\n",
    "**Example:**  \n",
    "\n",
    "Suppose your boss is forced to submit at least **1,500** pieces of data that are not duplicated due to evaluation requirements, and you currently only collect **1,400** pieces. Now your boss asks you to help him make up additional **100** samples, otherwise you will lose your job. In order to feed your family, you have to submit to him.  \n",
    "\n",
    "Considering that replication-based methods (such as up-sampling, bootstrap) will be easily discovered, you decide to use the GAN algorithm to accomplish this task, which is really appropriate in this situation."
   ]
  },
  {
   "cell_type": "code",
   "execution_count": 52,
   "metadata": {
    "ExecuteTime": {
     "end_time": "2020-08-28T07:15:26.107020Z",
     "start_time": "2020-08-28T07:15:26.100038Z"
    }
   },
   "outputs": [],
   "source": [
    "continuous_columns = X_all.columns"
   ]
  },
  {
   "cell_type": "code",
   "execution_count": 53,
   "metadata": {
    "ExecuteTime": {
     "end_time": "2020-08-28T07:15:26.119983Z",
     "start_time": "2020-08-28T07:15:26.114000Z"
    }
   },
   "outputs": [],
   "source": [
    "# # The following code will cost you two hours\n",
    "# from tgan.model import TGANModel\n",
    "\n",
    "# tgan = TGANModel(continuous_columns, max_epoch=2, steps_per_epoch=500,save_checkpoints=True,\n",
    "#             restore_session=True,\n",
    "#             batch_size=200,\n",
    "#             z_dim=200,\n",
    "#             noise=0.2,\n",
    "#             l2norm=0.00001,\n",
    "#             learning_rate=0.001,\n",
    "#             num_gen_rnn=100,\n",
    "#             num_gen_feature=100,\n",
    "#             num_dis_layers=1,\n",
    "#             num_dis_hidden=100,\n",
    "#             optimizer='GradientDescentOptimizer'\n",
    "#        )\n",
    "\n",
    "# tgan.fit(X_all)\n",
    "# num_samples = 1500\n",
    "# samples = tgan.sample(num_samples)\n",
    "\n",
    "# model_path = 'GANmodels/mymodel.pkl'\n",
    "# tgan.save(model_path,force=True)\n",
    "\n",
    "# samples.to_csv('GAN_Fake_data')"
   ]
  },
  {
   "cell_type": "code",
   "execution_count": 54,
   "metadata": {
    "ExecuteTime": {
     "end_time": "2020-08-28T07:15:26.132949Z",
     "start_time": "2020-08-28T07:15:26.126967Z"
    }
   },
   "outputs": [],
   "source": [
    "# It didn't work due to the kernel packages version error(intrinic bug). I may try other methods to update it."
   ]
  },
  {
   "cell_type": "markdown",
   "metadata": {},
   "source": [
    "# Semi-Supervised Learning"
   ]
  },
  {
   "cell_type": "markdown",
   "metadata": {},
   "source": [
    "Interestingly, as a data scientist, you may face the following situation in real world: Not every data has the correct label classification, or there is no way to make critical judgments at the moment. Marked samples are difficult to obtain(need specialized personnel, special equipment, additional expenses, etc) while unlabeled samples are relatively cheap.    \n",
    "\n",
    "Semi-supervised learning is an approach to machine learning that combines a small amount of labeled data with a large amount of unlabeled data during training. Semi-supervised learning falls between unsupervised learning (with no labeled training data) and supervised learning (with only labeled training data).  \n",
    "\n",
    "Semi-supervised learning may refer to either transductive learning or inductive learning. The goal of transductive learning is to infer the correct labels for the given unlabeled data ${\\displaystyle x_{l+1},\\dots ,x_{l+u}} x_{l+1},\\dots ,x_{l+u}$ only. The goal of inductive learning is to infer the correct mapping from ${\\displaystyle X} $ to ${\\displaystyle Y} $.  \n",
    "\n",
    "Unlabeled data, when used in conjunction with a small amount of labeled data, can produce considerable improvement in learning accuracy. The acquisition of labeled data for a learning problem often requires a skilled human agent (e.g. to transcribe an audio segment) or a physical experiment (e.g. determining the 3D structure of a protein or determining whether there is oil at a particular location). The cost associated with the labeling process thus may render large, fully labeled training sets infeasible, whereas acquisition of unlabeled data is relatively inexpensive. In such situations, semi-supervised learning can be of great practical value. Semi-supervised learning is also of theoretical interest in machine learning and as a model for human learning.   \n",
    "\n",
    "**Example:**  \n",
    "\n",
    "Suppose you are detecting whether the `recovery amount (percent)` is bigger than 30%. You are given a data with the bottom 70% of the labels $y$ are missing (I know you have it now, suppose you don't). Your mission is to create a model, which predicts all the labels and can also be used to predict new data in the future.  \n",
    "\n",
    "Since you can use two types of data, you may easily recognize that it is a task suitable for semi-supervised learning. You can choose Label Spreading algorithm in `sklearn.semi_supervised` package as we did in the following:\n"
   ]
  },
  {
   "cell_type": "code",
   "execution_count": 55,
   "metadata": {
    "ExecuteTime": {
     "end_time": "2020-08-28T07:15:27.642910Z",
     "start_time": "2020-08-28T07:15:26.138934Z"
    }
   },
   "outputs": [
    {
     "name": "stdout",
     "output_type": "stream",
     "text": [
      "      Discovery Date      Year  timediff  Name Class  Region_Asia Pac  \\\n",
      "0          -1.997944 -1.795294  0.041059   -0.973930        -0.526421   \n",
      "1          -1.995514 -1.795294  0.053425   -0.973930        -0.526421   \n",
      "2          -1.994299 -1.795294  0.053425   -0.973930         1.899619   \n",
      "3          -1.989440 -1.795294  0.065790   -0.973930        -0.526421   \n",
      "4          -1.984580 -1.795294  0.053425   -0.973930        -0.526421   \n",
      "...              ...       ...       ...         ...              ...   \n",
      "1396        1.051343  0.885211  0.053425    1.026768        -0.526421   \n",
      "1397        1.136383  1.331962  0.041059    1.026768        -0.526421   \n",
      "1398        1.206845  1.331962  0.065790    1.026768        -0.526421   \n",
      "1399        1.313752  1.331962  0.041059    1.026768         1.899619   \n",
      "1400        1.443742  1.331962  0.041059    1.026768        -0.526421   \n",
      "\n",
      "      Region_EMEA  Region_North America  Business_Agency Services  \\\n",
      "0        1.441916             -0.919701                 -0.184251   \n",
      "1       -0.693522              1.087310                 -0.184251   \n",
      "2       -0.693522             -0.919701                 -0.184251   \n",
      "3        1.441916             -0.919701                 -0.184251   \n",
      "4       -0.693522              1.087310                 -0.184251   \n",
      "...           ...                   ...                       ...   \n",
      "1396     1.441916             -0.919701                 -0.184251   \n",
      "1397     1.441916             -0.919701                 -0.184251   \n",
      "1398    -0.693522              1.087310                 -0.184251   \n",
      "1399    -0.693522             -0.919701                 -0.184251   \n",
      "1400    -0.693522              1.087310                 -0.184251   \n",
      "\n",
      "      Business_Asset Management  Business_Commercial Banking  ...  \\\n",
      "0                     -0.152888                    -0.319815  ...   \n",
      "1                     -0.152888                    -0.319815  ...   \n",
      "2                     -0.152888                    -0.319815  ...   \n",
      "3                     -0.152888                    -0.319815  ...   \n",
      "4                     -0.152888                    -0.319815  ...   \n",
      "...                         ...                          ...  ...   \n",
      "1396                  -0.152888                    -0.319815  ...   \n",
      "1397                  -0.152888                    -0.319815  ...   \n",
      "1398                  -0.152888                    -0.319815  ...   \n",
      "1399                  -0.152888                    -0.319815  ...   \n",
      "1400                  -0.152888                    -0.319815  ...   \n",
      "\n",
      "      Risk Sub-Category_Safe Environment  \\\n",
      "0                              -0.184251   \n",
      "1                              -0.184251   \n",
      "2                              -0.184251   \n",
      "3                              -0.184251   \n",
      "4                              -0.184251   \n",
      "...                                  ...   \n",
      "1396                           -0.184251   \n",
      "1397                           -0.184251   \n",
      "1398                           -0.184251   \n",
      "1399                           -0.184251   \n",
      "1400                           -0.184251   \n",
      "\n",
      "      Risk Sub-Category_Selection, Sponsorship and Exposure  \\\n",
      "0                                                 -0.100468   \n",
      "1                                                 -0.100468   \n",
      "2                                                 -0.100468   \n",
      "3                                                 -0.100468   \n",
      "4                                                 -0.100468   \n",
      "...                                                     ...   \n",
      "1396                                              -0.100468   \n",
      "1397                                              -0.100468   \n",
      "1398                                              -0.100468   \n",
      "1399                                              -0.100468   \n",
      "1400                                              -0.100468   \n",
      "\n",
      "      Risk Sub-Category_Suitability, Disclosures and Fiduciary  \\\n",
      "0                                                    -0.100468   \n",
      "1                                                    -0.100468   \n",
      "2                                                    -0.100468   \n",
      "3                                                    -0.100468   \n",
      "4                                                    -0.100468   \n",
      "...                                                        ...   \n",
      "1396                                                 -0.100468   \n",
      "1397                                                 -0.100468   \n",
      "1398                                                 -0.100468   \n",
      "1399                                                 -0.100468   \n",
      "1400                                                 -0.100468   \n",
      "\n",
      "      Risk Sub-Category_Systems Security  Risk Sub-Category_Theft and Fraud  \\\n",
      "0                              -0.341079                          -0.694651   \n",
      "1                              -0.341079                          -0.694651   \n",
      "2                              -0.341079                          -0.694651   \n",
      "3                              -0.341079                          -0.694651   \n",
      "4                              -0.341079                          -0.694651   \n",
      "...                                  ...                                ...   \n",
      "1396                           -0.341079                          -0.694651   \n",
      "1397                           -0.341079                          -0.694651   \n",
      "1398                           -0.341079                          -0.694651   \n",
      "1399                           -0.341079                          -0.694651   \n",
      "1400                           -0.341079                          -0.694651   \n",
      "\n",
      "      Risk Sub-Category_Trade Counterparties  \\\n",
      "0                                  -0.308848   \n",
      "1                                   3.237840   \n",
      "2                                  -0.308848   \n",
      "3                                  -0.308848   \n",
      "4                                  -0.308848   \n",
      "...                                      ...   \n",
      "1396                               -0.308848   \n",
      "1397                               -0.308848   \n",
      "1398                               -0.308848   \n",
      "1399                               -0.308848   \n",
      "1400                               -0.308848   \n",
      "\n",
      "      Risk Sub-Category_Transaction/Data Management  \\\n",
      "0                                         -0.171436   \n",
      "1                                         -0.171436   \n",
      "2                                         -0.171436   \n",
      "3                                         -0.171436   \n",
      "4                                         -0.171436   \n",
      "...                                             ...   \n",
      "1396                                      -0.171436   \n",
      "1397                                      -0.171436   \n",
      "1398                                      -0.171436   \n",
      "1399                                      -0.171436   \n",
      "1400                                      -0.171436   \n",
      "\n",
      "      Risk Sub-Category_Unauthorized Activity  \\\n",
      "0                                   -0.126308   \n",
      "1                                   -0.126308   \n",
      "2                                   -0.126308   \n",
      "3                                   -0.126308   \n",
      "4                                   -0.126308   \n",
      "...                                       ...   \n",
      "1396                                -0.126308   \n",
      "1397                                -0.126308   \n",
      "1398                                -0.126308   \n",
      "1399                                -0.126308   \n",
      "1400                                -0.126308   \n",
      "\n",
      "      Risk Sub-Category_Vendors and Suppliers  \\\n",
      "0                                   -0.244454   \n",
      "1                                   -0.244454   \n",
      "2                                   -0.244454   \n",
      "3                                   -0.244454   \n",
      "4                                   -0.244454   \n",
      "...                                       ...   \n",
      "1396                                 4.090743   \n",
      "1397                                 4.090743   \n",
      "1398                                 4.090743   \n",
      "1399                                 4.090743   \n",
      "1400                                 4.090743   \n",
      "\n",
      "      Risk Sub-Category_Willful Damage  \n",
      "0                             -0.05351  \n",
      "1                             -0.05351  \n",
      "2                             -0.05351  \n",
      "3                             -0.05351  \n",
      "4                             -0.05351  \n",
      "...                                ...  \n",
      "1396                          -0.05351  \n",
      "1397                          -0.05351  \n",
      "1398                          -0.05351  \n",
      "1399                          -0.05351  \n",
      "1400                          -0.05351  \n",
      "\n",
      "[1401 rows x 46 columns]\n",
      "index\n",
      "0       1.0\n",
      "1       0.0\n",
      "2       1.0\n",
      "3       1.0\n",
      "4       0.0\n",
      "       ... \n",
      "1396    0.0\n",
      "1397    0.0\n",
      "1398    1.0\n",
      "1399    1.0\n",
      "1400    1.0\n",
      "Name: Recovery Amount (percent)_bin, Length: 1401, dtype: float64\n"
     ]
    },
    {
     "name": "stderr",
     "output_type": "stream",
     "text": [
      "C:\\Users\\langbo\\anaconda3\\lib\\site-packages\\sklearn\\semi_supervised\\_label_propagation.py:293: RuntimeWarning: invalid value encountered in true_divide\n",
      "  self.label_distributions_ /= normalizer\n",
      "C:\\Users\\langbo\\anaconda3\\lib\\site-packages\\sklearn\\semi_supervised\\_label_propagation.py:293: RuntimeWarning: invalid value encountered in true_divide\n",
      "  self.label_distributions_ /= normalizer\n"
     ]
    }
   ],
   "source": [
    "from sklearn.semi_supervised import LabelSpreading\n",
    "\n",
    "rng = np.random.RandomState(0)\n",
    "\n",
    "print(X_back)  # X_features in this task \n",
    "print(y)       # y label we need to predict\n",
    "\n",
    "y_30 = np.copy(y)\n",
    "y_30[rng.rand(len(y)) < 0.3] = -1\n",
    "y_50 = np.copy(y)\n",
    "y_50[rng.rand(len(y)) < 0.5] = -1\n",
    "# we create an instance of SVM and fit out data.\n",
    "ls30 = (LabelSpreading().fit(X_back, y_30), y_30)\n",
    "ls50 = (LabelSpreading().fit(X_back, y_50), y_50)\n",
    "\n",
    "# You may also conduct models of label propagation and supervised learning under perfect information, if you want some contrast\n",
    "ls100 = (LabelSpreading().fit(X_back, y), y)\n",
    "rbf_svc = (svm.SVC(kernel='rbf', gamma=.5).fit(X_back, y), y)\n"
   ]
  },
  {
   "cell_type": "markdown",
   "metadata": {},
   "source": [
    "# Reinforcement Learning"
   ]
  },
  {
   "cell_type": "markdown",
   "metadata": {},
   "source": [
    "You may hear about cake-eating problem, Bewley-Huggett-Aiyagari models or Bellman equation in dynamic programming for macroeconomics. The problem to be solved by reinforcement learning is very similar, or in other words, they are largely the same way of solving sequential game of interaction with environment.  \n",
    "\n",
    "Reinforcement learning (RL) is an area of machine learning concerned with how software agents ought to take actions in an environment in order to maximize the notion of cumulative reward. Reinforcement learning is one of three basic machine learning paradigms, alongside supervised learning and unsupervised learning.  \n",
    "\n",
    "Reinforcement learning differs from supervised learning in not needing labelled input/output pairs be presented, and in not needing sub-optimal actions to be explicitly corrected. Instead the focus is on finding a balance between exploration (of uncharted territory) and exploitation (of current knowledge).  \n",
    "\n",
    "The environment is typically stated in the form of a Markov decision process (MDP), because many reinforcement learning algorithms for this context utilize dynamic programming techniques. The main difference between the classical dynamic programming methods and reinforcement learning algorithms is that the latter do not assume knowledge of an exact mathematical model of the MDP and they target large MDPs where exact methods become infeasible.   \n",
    "\n",
    "Reinforcement learning is an interdisciplinary subject and it is widely used in many fields."
   ]
  },
  {
   "cell_type": "code",
   "execution_count": 56,
   "metadata": {
    "ExecuteTime": {
     "end_time": "2020-08-28T07:15:27.656875Z",
     "start_time": "2020-08-28T07:15:27.645906Z"
    }
   },
   "outputs": [
    {
     "data": {
      "text/html": [
       "\n",
       "        <iframe\n",
       "            width=\"500\"\n",
       "            height=\"500\"\n",
       "            src=\"images/Reinforcement Learning.bmp\"\n",
       "            frameborder=\"0\"\n",
       "            allowfullscreen\n",
       "        ></iframe>\n",
       "        "
      ],
      "text/plain": [
       "<IPython.lib.display.IFrame at 0x25367fa4f48>"
      ]
     },
     "execution_count": 56,
     "metadata": {},
     "output_type": "execute_result"
    }
   ],
   "source": [
    "IFrame('images/Reinforcement Learning.bmp',width=500, height=500)"
   ]
  },
  {
   "cell_type": "markdown",
   "metadata": {},
   "source": [
    "Although the algorithm has defeated the world champion of Go, reinforcement learning is not widely used in industry. Reinforcement learning is widely used in macroeconomics dynamic programming, therefore I think you should at least know a little. As sklearn does not provide related methods, you may try these python package in different scenarios: Keras-RL, Keras-RL2, OpenAI, Stable Baselines, Acme. I will show an example to illustrate one of its application scenarios, but to carry it out is far more beyond the scope of this tutorial.    \n",
    "\n",
    "**Example:**   \n",
    "\n",
    "Finally, the bank securitized these junk assets and sold them on the market. In the end, the bank securitized these junk assets and sold them on the market. Each asset has one unit with the quotation is \\\\$0.3, which is the median of recovery rate. The characteristics of these garbage assets are public, but all the information related to recovery is private.  \n",
    "\n",
    "Assume you are a buyer with \\\\$150 principal. You will select from 1 to 1,400 assets in order and form an investment portfolio. Finally, the recovery amount you get minus your costs is the net investment income. Your goal is to find as many assets with a recovery amount higher than \\\\$0.3 as possible and maximize your capital. You will get your net income after all of your decisions. You can also leave a portion of the principal so that they will be included in final capital.  \n",
    "\n",
    "$$ 150 = I + S $$\n",
    "$$ \\pi = \\sum_{k=1} R_k - I $$\n",
    "$$ K = \\pi + S $$\n",
    "$$ \\max{K}$$ \n",
    "$$ st: X $$ \n",
    "\n",
    "\n",
    "Where $I$ is investing, $S$ is saving, $\\pi$ is net income $K$ is capital, X is the public information you get (with no recovery related message).  \n",
    "    \n",
    "You can build a reinforcement learning model in following algorithms to find the optimal policy through multiple interactions with the environment. In the end, your model will estimate the approximate income of each asset."
   ]
  },
  {
   "cell_type": "code",
   "execution_count": 57,
   "metadata": {
    "ExecuteTime": {
     "end_time": "2020-08-28T07:15:27.675823Z",
     "start_time": "2020-08-28T07:15:27.663856Z"
    }
   },
   "outputs": [
    {
     "data": {
      "text/html": [
       "\n",
       "        <iframe\n",
       "            width=\"900\"\n",
       "            height=\"500\"\n",
       "            src=\"images/RL_Algorithm.bmp\"\n",
       "            frameborder=\"0\"\n",
       "            allowfullscreen\n",
       "        ></iframe>\n",
       "        "
      ],
      "text/plain": [
       "<IPython.lib.display.IFrame at 0x2536824ba88>"
      ]
     },
     "execution_count": 57,
     "metadata": {},
     "output_type": "execute_result"
    }
   ],
   "source": [
    "IFrame('images/RL_Algorithm.bmp',width=900, height=500)"
   ]
  },
  {
   "cell_type": "markdown",
   "metadata": {},
   "source": [
    "# *Deep Learning"
   ]
  },
  {
   "cell_type": "markdown",
   "metadata": {},
   "source": [
    "Let us talk a little bit about deep learning, which is currently very popular in computer science academy.  \n",
    "\n",
    "Deep learning (also known as deep structured learning) is part of a broader family of machine learning methods based on artificial neural networks with representation learning. Learning can be supervised, semi-supervised or unsupervised.  \n",
    "\n",
    "Deep learning architectures such as `deep neural networks`, `deep belief networks`, `recurrent neural networks` and `convolutional neural networks` have been applied to fields including computer vision, machine vision, speech recognition, natural language processing, audio recognition, social network filtering, machine translation, bioinformatics, drug design, medical image analysis, material inspection and board game programs, where they have produced results comparable to and in some cases surpassing human expert performance.   \n",
    "\n",
    "In general, deep learning is a back-end technology rather than a front-end. We are here. You can apply deep learning algorithms to enhance all the machine learning methods we have talked about before (some are listed in the previous examples) and get better results.    "
   ]
  },
  {
   "cell_type": "markdown",
   "metadata": {},
   "source": [
    "# *Another idea: Bayesian Analysis in PyMC3"
   ]
  },
  {
   "cell_type": "markdown",
   "metadata": {},
   "source": [
    "## Introduction\n",
    "**Bayesian analysis**  \n",
    "It is a method of statistical inference (named for English mathematician Thomas Bayes) that allows one to combine prior information about a population parameter with evidence from information contained in a sample to guide the statistical inference process.  \n",
    "\n",
    "A key, and somewhat controversial, feature of Bayesian methods is the notion of a probability distribution for a population parameter. According to classical statistics, parameters are constants and cannot be represented as random variables. Bayesian proponents argue that, if a parameter value is unknown, then it makes sense to specify a probability distribution that describes the possible values for the parameter as well as their likelihood. The Bayesian approach permits the use of objective data or subjective opinion in specifying a prior distribution. With the Bayesian approach, different individuals might specify different prior distributions. Classical statisticians argue that for this reason Bayesian methods suffer from a lack of objectivity. Bayesian proponents argue that the classical methods of statistical inference have built-in subjectivity (through the choice of a sampling plan) and that the advantage of the Bayesian approach is that the subjectivity is made explicit.\n",
    "\n",
    "**Compare Bayesian Analysis to Machine Learning**   \n",
    "We can distinguish statistical modeling, classical machine learning and modern machine learning by the role of the data.\n",
    "\n",
    "In statistical modeling(like Bayesian method), the data guide us to the selection of a stochastic model which serves as the abstraction for making probabilistic statements about questions of interest, such as hypotheses, predictions and forecasts.\n",
    "\n",
    "In classical machine learning, the data drive the selection of the analytic technique to best perform the task at hand. The data trains the algorithms.\n",
    "\n",
    "In modern machine learning, the data drive systems based on neural nets that self-determine the regularities in the data in order to learn a task. The process of training the neural network on the data learns the task. As someone put it, \"The data does the programming.\"   \n",
    "(Reference: https://www.linkedin.com/pulse/difference-between-statistical-modeling-machine-i-see-schabenberger)\n",
    "\n",
    "**Implement Bayesian method in PyMC3**  \n",
    "Here are the common steps we will use in the following model. You can always try different patterns.  \n",
    "1. Describe your model and draw analysis process.  \n",
    "2. Build your model\n",
    "    - First part: with pm.Model() as Your_model: #Build a model framework   \n",
    "    - Second part:create stochastic variables with prior distributions   \n",
    "    - The third part describes the likelihood, that is, the relationship between the variables we can observe and the prior parameters  \n",
    "3. Select sampling times, sampling method and initial point and start inference  \n",
    "4. Visual or quantitative analysis to summarize and evaluate the posterior  \n",
    "5. Make decisions based on loss function and posterior  \n",
    "\n",
    "(Reference: https://docs.pymc.io/notebooks/getting_started.html \n",
    "\n",
    "https://github.com/PacktPublishing/Bayesian-Analysis-with-Python/blob/master/Chapter%203/03_Juggling%20with%20multiparametric%20and%20Hierarchical%20models.ipynb)"
   ]
  },
  {
   "cell_type": "markdown",
   "metadata": {},
   "source": [
    "## Modeling for single data"
   ]
  },
  {
   "cell_type": "markdown",
   "metadata": {},
   "source": [
    "**Example:**  \n",
    "Your boss is not very satisfied with the previous machine learning regression model. He now wants you to extract information from the recovery rate (i.e., recovery amount (percent)) alone. He hopes that you can give a certain probability value for the range of variation he provides.  \n",
    "\n",
    "This requires you to use statistical modeling methods to estimate the distribution of a single variable, and use this to complete subsequent work. You decide to use Bayesian methods to accomplish this task."
   ]
  },
  {
   "cell_type": "code",
   "execution_count": 89,
   "metadata": {
    "ExecuteTime": {
     "end_time": "2020-08-28T08:45:13.892727Z",
     "start_time": "2020-08-28T08:45:13.863288Z"
    }
   },
   "outputs": [
    {
     "data": {
      "text/plain": [
       "index\n",
       "0       28.0\n",
       "1       31.0\n",
       "2       26.0\n",
       "3       25.0\n",
       "4       31.0\n",
       "        ... \n",
       "1396    30.0\n",
       "1397    35.0\n",
       "1398    22.0\n",
       "1399     8.0\n",
       "1400     8.0\n",
       "Name: Recovery Amount (percent), Length: 1401, dtype: float64"
      ]
     },
     "execution_count": 89,
     "metadata": {},
     "output_type": "execute_result"
    }
   ],
   "source": [
    "#用贝叶斯展示所有违约率曲线分布，找图形模拟一下；再尝试注入一个主观先验的情景；单变量描绘的混合模型；高斯核函数模拟\n",
    "#图像断点分析 book2例子，\n",
    "\n",
    "import pymc3 as pm\n",
    "from scipy import stats\n",
    "import seaborn as sns\n",
    "import arviz as az\n",
    "\n",
    "palette = 'muted'\n",
    "sns.set_palette(palette); sns.set_color_codes(palette)\n",
    "np.set_printoptions(precision=2)\n",
    "pd.set_option('display.precision', 2)\n",
    "\n",
    "y = df_ml['Recovery Amount (percent)']\n",
    "y"
   ]
  },
  {
   "cell_type": "markdown",
   "metadata": {},
   "source": [
    "### Gaussian Inferences"
   ]
  },
  {
   "cell_type": "code",
   "execution_count": 92,
   "metadata": {
    "ExecuteTime": {
     "end_time": "2020-08-28T08:47:16.907442Z",
     "start_time": "2020-08-28T08:47:15.750983Z"
    },
    "scrolled": true
   },
   "outputs": [
    {
     "name": "stderr",
     "output_type": "stream",
     "text": [
      "C:\\Users\\langbo\\anaconda3\\lib\\site-packages\\ipykernel_launcher.py:11: MatplotlibDeprecationWarning: savefig() got unexpected keyword argument \"figsize\" which is no longer supported as of 3.3 and will become an error two minor releases later\n",
      "  # This is added back by InteractiveShellApp.init_path()\n"
     ]
    },
    {
     "data": {
      "image/png": "[encoded data removed]",
      "text/plain": [
       "<Figure size 576x396 with 1 Axes>"
      ]
     },
     "metadata": {},
     "output_type": "display_data"
    }
   ],
   "source": [
    "# Remove outliers using the interquartile rule(depends on requirements)\n",
    "quant = np.percentile(y, [25, 75])\n",
    "iqr = quant[1] - quant[0]\n",
    "upper_b = quant[1] + iqr * 1.5\n",
    "lower_b = quant[0] - iqr * 1.5\n",
    "y_clean = y[(y > lower_b) & (y < upper_b)]\n",
    "\n",
    "# Plot Kernel Density Estimation\n",
    "sns.kdeplot(y_clean)\n",
    "plt.xlabel('$Recovery \\quad Rate$', fontsize=16)\n",
    "plt.savefig('RecoveryRate.png', dpi=300, figsize=(5.5, 5.5))"
   ]
  },
  {
   "cell_type": "markdown",
   "metadata": {},
   "source": [
    "You can see a very obvious central tendency, so we naturally thought of fitting it with a Gaussian distribution.     \n",
    "\n",
    "We don't know the mean and variance of the Gaussian distribution, so we need to set a prior for it. We use the following statistical model:\n",
    "\n",
    "$$ \\mu  \\sim  Uniform(l,h) $$\n",
    "$$ \\sigma  \\sim  HalfNormal(\\sigma_\\sigma) $$\n",
    "$$ y  \\sim  Normal(\\mu,\\sigma) $$  \n",
    "\n",
    "** However, you can also see that the high probability area (in the middle of the image) is too wide, so the fitting result will not be particularly good. We will improve it later.*"
   ]
  },
  {
   "cell_type": "code",
   "execution_count": 97,
   "metadata": {
    "ExecuteTime": {
     "end_time": "2020-08-28T08:58:01.926917Z",
     "start_time": "2020-08-28T08:55:45.991888Z"
    }
   },
   "outputs": [
    {
     "name": "stderr",
     "output_type": "stream",
     "text": [
      "Auto-assigning NUTS sampler...\n",
      "Initializing NUTS using jitter+adapt_diag...\n",
      "Multiprocess sampling (2 chains in 2 jobs)\n",
      "NUTS: [sigma, mu]\n"
     ]
    },
    {
     "data": {
      "text/html": [
       "\n",
       "    <div>\n",
       "        <style>\n",
       "            /* Turns off some styling */\n",
       "            progress {\n",
       "                /* gets rid of default border in Firefox and Opera. */\n",
       "                border: none;\n",
       "                /* Needs to be in here for Safari polyfill so background images work as expected. */\n",
       "                background-size: auto;\n",
       "            }\n",
       "            .progress-bar-interrupted, .progress-bar-interrupted::-webkit-progress-bar {\n",
       "                background: #F44336;\n",
       "            }\n",
       "        </style>\n",
       "      <progress value='4200' class='' max='4200' style='width:300px; height:20px; vertical-align: middle;'></progress>\n",
       "      100.00% [4200/4200 01:13<00:00 Sampling 2 chains, 0 divergences]\n",
       "    </div>\n",
       "    "
      ],
      "text/plain": [
       "<IPython.core.display.HTML object>"
      ]
     },
     "metadata": {},
     "output_type": "display_data"
    },
    {
     "name": "stderr",
     "output_type": "stream",
     "text": [
      "Sampling 2 chains for 1_000 tune and 1_100 draw iterations (2_000 + 2_200 draws total) took 128 seconds.\n"
     ]
    }
   ],
   "source": [
    "with pm.Model() as model_g:\n",
    "    mu = pm.Uniform('mu', lower=5, upper=60)\n",
    "    sigma = pm.HalfNormal('sigma', sd=5)\n",
    "    y_clean = pm.Normal('y_clean', mu=mu, sd=sigma, observed=y)\n",
    "    trace_g = pm.sample(1100)"
   ]
  },
  {
   "cell_type": "code",
   "execution_count": 98,
   "metadata": {
    "ExecuteTime": {
     "end_time": "2020-08-28T08:58:21.335929Z",
     "start_time": "2020-08-28T08:58:06.813711Z"
    }
   },
   "outputs": [
    {
     "name": "stderr",
     "output_type": "stream",
     "text": [
      "C:\\Users\\langbo\\anaconda3\\lib\\site-packages\\arviz\\data\\io_pymc3.py:89: FutureWarning: Using `from_pymc3` without the model will be deprecated in a future release. Not using the model will return less accurate and less useful results. Make sure you use the model argument or call from_pymc3 within a model context.\n",
      "  FutureWarning,\n"
     ]
    },
    {
     "data": {
      "text/plain": [
       "array([[<AxesSubplot:title={'center':'mu'}>,\n",
       "        <AxesSubplot:title={'center':'mu'}>],\n",
       "       [<AxesSubplot:title={'center':'sigma'}>,\n",
       "        <AxesSubplot:title={'center':'sigma'}>]], dtype=object)"
      ]
     },
     "execution_count": 98,
     "metadata": {},
     "output_type": "execute_result"
    },
    {
     "data": {
      "image/png": "[encoded data removed]",
      "text/plain": [
       "<Figure size 864x288 with 4 Axes>"
      ]
     },
     "metadata": {},
     "output_type": "display_data"
    }
   ],
   "source": [
    "chain_g = trace_g[100:]\n",
    "pm.traceplot(chain_g)"
   ]
  },
  {
   "cell_type": "code",
   "execution_count": 99,
   "metadata": {
    "ExecuteTime": {
     "end_time": "2020-08-28T08:58:26.165836Z",
     "start_time": "2020-08-28T08:58:23.884385Z"
    }
   },
   "outputs": [
    {
     "name": "stderr",
     "output_type": "stream",
     "text": [
      "C:\\Users\\langbo\\anaconda3\\lib\\site-packages\\arviz\\data\\io_pymc3.py:89: FutureWarning: Using `from_pymc3` without the model will be deprecated in a future release. Not using the model will return less accurate and less useful results. Make sure you use the model argument or call from_pymc3 within a model context.\n",
      "  FutureWarning,\n"
     ]
    },
    {
     "data": {
      "text/html": [
       "<div>\n",
       "<style scoped>\n",
       "    .dataframe tbody tr th:only-of-type {\n",
       "        vertical-align: middle;\n",
       "    }\n",
       "\n",
       "    .dataframe tbody tr th {\n",
       "        vertical-align: top;\n",
       "    }\n",
       "\n",
       "    .dataframe thead th {\n",
       "        text-align: right;\n",
       "    }\n",
       "</style>\n",
       "<table border=\"1\" class=\"dataframe\">\n",
       "  <thead>\n",
       "    <tr style=\"text-align: right;\">\n",
       "      <th></th>\n",
       "      <th>mean</th>\n",
       "      <th>sd</th>\n",
       "      <th>hdi_3%</th>\n",
       "      <th>hdi_97%</th>\n",
       "      <th>mcse_mean</th>\n",
       "      <th>mcse_sd</th>\n",
       "      <th>ess_mean</th>\n",
       "      <th>ess_sd</th>\n",
       "      <th>ess_bulk</th>\n",
       "      <th>ess_tail</th>\n",
       "      <th>r_hat</th>\n",
       "    </tr>\n",
       "  </thead>\n",
       "  <tbody>\n",
       "    <tr>\n",
       "      <th>mu</th>\n",
       "      <td>29.61</td>\n",
       "      <td>0.17</td>\n",
       "      <td>29.27</td>\n",
       "      <td>29.93</td>\n",
       "      <td>4.00e-03</td>\n",
       "      <td>3.00e-03</td>\n",
       "      <td>1609.0</td>\n",
       "      <td>1607.0</td>\n",
       "      <td>1606.0</td>\n",
       "      <td>1233.0</td>\n",
       "      <td>1.0</td>\n",
       "    </tr>\n",
       "    <tr>\n",
       "      <th>sigma</th>\n",
       "      <td>6.48</td>\n",
       "      <td>0.12</td>\n",
       "      <td>6.25</td>\n",
       "      <td>6.69</td>\n",
       "      <td>3.00e-03</td>\n",
       "      <td>2.00e-03</td>\n",
       "      <td>1824.0</td>\n",
       "      <td>1817.0</td>\n",
       "      <td>1806.0</td>\n",
       "      <td>1601.0</td>\n",
       "      <td>1.0</td>\n",
       "    </tr>\n",
       "  </tbody>\n",
       "</table>\n",
       "</div>"
      ],
      "text/plain": [
       "        mean    sd  hdi_3%  hdi_97%  mcse_mean   mcse_sd  ess_mean  ess_sd  \\\n",
       "mu     29.61  0.17   29.27    29.93   4.00e-03  3.00e-03    1609.0  1607.0   \n",
       "sigma   6.48  0.12    6.25     6.69   3.00e-03  2.00e-03    1824.0  1817.0   \n",
       "\n",
       "       ess_bulk  ess_tail  r_hat  \n",
       "mu       1606.0    1233.0    1.0  \n",
       "sigma    1806.0    1601.0    1.0  "
      ]
     },
     "execution_count": 99,
     "metadata": {},
     "output_type": "execute_result"
    }
   ],
   "source": [
    "pm.summary(chain_g)"
   ]
  },
  {
   "cell_type": "code",
   "execution_count": null,
   "metadata": {
    "ExecuteTime": {
     "end_time": "2020-08-28T09:01:22.848245Z",
     "start_time": "2020-08-28T09:01:05.174173Z"
    }
   },
   "outputs": [],
   "source": [
    "y_pred = pm.sample_posterior_predictive(chain_g, 100, model_g, size=len(df))"
   ]
  },
  {
   "cell_type": "code",
   "execution_count": 110,
   "metadata": {
    "ExecuteTime": {
     "end_time": "2020-08-28T09:07:07.776600Z",
     "start_time": "2020-08-28T09:07:07.762640Z"
    }
   },
   "outputs": [
    {
     "data": {
      "text/plain": [
       "{'y_clean': array([[[31.22, 42.67, 30.99, ..., 23.03, 34.83, 33.92],\n",
       "         [22.9 , 23.25, 32.4 , ..., 29.25, 25.36, 37.15],\n",
       "         [33.08, 38.27, 42.68, ..., 18.13, 24.81, 23.12],\n",
       "         ...,\n",
       "         [19.55, 25.74, 16.5 , ..., 25.48, 41.48, 18.52],\n",
       "         [32.78, 36.  , 33.43, ..., 22.93, 27.32, 27.25],\n",
       "         [20.98, 28.76, 33.22, ..., 30.34, 25.06, 31.14]],\n",
       " \n",
       "        [[35.63, 20.96, 15.59, ..., 27.81, 32.74, 27.31],\n",
       "         [20.27, 36.11, 23.42, ..., 35.38, 31.93, 33.27],\n",
       "         [31.5 , 24.22, 22.59, ..., 35.9 , 37.66, 26.1 ],\n",
       "         ...,\n",
       "         [28.3 , 34.14, 24.87, ..., 27.01, 25.07, 31.53],\n",
       "         [35.68, 32.48, 39.07, ..., 18.96, 31.44, 28.02],\n",
       "         [24.35, 36.68, 38.9 , ..., 31.28, 26.46, 31.33]],\n",
       " \n",
       "        [[31.35, 23.79, 22.76, ..., 33.44, 30.31, 35.13],\n",
       "         [25.61, 34.5 , 32.19, ..., 27.57, 37.58, 34.96],\n",
       "         [29.03, 35.19, 24.42, ..., 23.62, 31.92, 27.45],\n",
       "         ...,\n",
       "         [32.45, 34.86, 27.11, ..., 35.41, 22.79, 20.83],\n",
       "         [42.24, 34.11, 18.14, ..., 33.17, 31.79, 34.13],\n",
       "         [24.39, 39.74, 32.3 , ..., 13.54, 26.8 , 34.94]],\n",
       " \n",
       "        ...,\n",
       " \n",
       "        [[42.01, 32.17, 18.54, ..., 34.88, 25.76, 24.01],\n",
       "         [28.96, 23.21, 19.6 , ..., 18.03, 35.4 , 28.6 ],\n",
       "         [32.69, 33.68, 26.17, ..., 23.35, 23.39, 25.35],\n",
       "         ...,\n",
       "         [37.38, 28.26, 21.  , ..., 31.15, 29.6 , 31.11],\n",
       "         [21.92, 34.43, 29.56, ..., 32.3 , 27.3 , 25.49],\n",
       "         [36.82, 31.37, 36.92, ..., 32.32, 19.77, 41.6 ]],\n",
       " \n",
       "        [[35.76, 38.11, 14.66, ..., 41.39, 13.67, 36.18],\n",
       "         [20.36, 32.14, 27.58, ..., 36.  , 32.9 , 33.14],\n",
       "         [33.86, 27.54, 20.77, ..., 40.82, 35.7 , 31.59],\n",
       "         ...,\n",
       "         [34.73, 34.22, 39.99, ..., 22.97, 37.36, 28.98],\n",
       "         [27.46, 29.77, 40.69, ..., 27.33, 35.4 , 30.03],\n",
       "         [27.1 , 28.5 , 33.12, ..., 37.1 , 25.18,  9.56]],\n",
       " \n",
       "        [[33.48, 29.57, 25.08, ..., 24.37, 29.88, 22.97],\n",
       "         [16.95, 31.01, 37.  , ..., 31.25, 33.92, 17.76],\n",
       "         [21.39, 20.68, 27.44, ..., 30.33, 36.22, 37.36],\n",
       "         ...,\n",
       "         [17.05, 27.25, 45.89, ..., 28.4 , 32.85, 32.65],\n",
       "         [34.44, 37.14, 30.51, ..., 20.79, 26.  , 28.12],\n",
       "         [27.14, 30.28, 46.38, ..., 12.35, 24.55, 21.97]]])}"
      ]
     },
     "execution_count": 110,
     "metadata": {},
     "output_type": "execute_result"
    }
   ],
   "source": [
    "y_pred"
   ]
  },
  {
   "cell_type": "code",
   "execution_count": 111,
   "metadata": {
    "ExecuteTime": {
     "end_time": "2020-08-28T09:07:30.518708Z",
     "start_time": "2020-08-28T09:07:30.089260Z"
    }
   },
   "outputs": [
    {
     "ename": "ValueError",
     "evalue": "too many values to unpack (expected 2)",
     "output_type": "error",
     "traceback": [
      "\u001b[1;31m---------------------------------------------------------------------------\u001b[0m",
      "\u001b[1;31mValueError\u001b[0m                                Traceback (most recent call last)",
      "\u001b[1;32m<ipython-input-111-2d9524bfe3fa>\u001b[0m in \u001b[0;36m<module>\u001b[1;34m\u001b[0m\n\u001b[0;32m      1\u001b[0m \u001b[0msns\u001b[0m\u001b[1;33m.\u001b[0m\u001b[0mkdeplot\u001b[0m\u001b[1;33m(\u001b[0m\u001b[0my\u001b[0m\u001b[1;33m,\u001b[0m \u001b[0mcolor\u001b[0m\u001b[1;33m=\u001b[0m\u001b[1;34m'b'\u001b[0m\u001b[1;33m)\u001b[0m\u001b[1;33m\u001b[0m\u001b[1;33m\u001b[0m\u001b[0m\n\u001b[0;32m      2\u001b[0m \u001b[1;32mfor\u001b[0m \u001b[0mi\u001b[0m \u001b[1;32min\u001b[0m \u001b[0my_pred\u001b[0m\u001b[1;33m[\u001b[0m\u001b[1;34m'y_clean'\u001b[0m\u001b[1;33m]\u001b[0m\u001b[1;33m:\u001b[0m\u001b[1;33m\u001b[0m\u001b[1;33m\u001b[0m\u001b[0m\n\u001b[1;32m----> 3\u001b[1;33m     \u001b[0msns\u001b[0m\u001b[1;33m.\u001b[0m\u001b[0mkdeplot\u001b[0m\u001b[1;33m(\u001b[0m\u001b[0mi\u001b[0m\u001b[1;33m,\u001b[0m \u001b[0mcolor\u001b[0m\u001b[1;33m=\u001b[0m\u001b[1;34m'r'\u001b[0m\u001b[1;33m,\u001b[0m \u001b[0malpha\u001b[0m\u001b[1;33m=\u001b[0m\u001b[1;36m0.1\u001b[0m\u001b[1;33m)\u001b[0m\u001b[1;33m\u001b[0m\u001b[1;33m\u001b[0m\u001b[0m\n\u001b[0m\u001b[0;32m      4\u001b[0m \u001b[0mplt\u001b[0m\u001b[1;33m.\u001b[0m\u001b[0mtitle\u001b[0m\u001b[1;33m(\u001b[0m\u001b[1;34m'Gaussian model'\u001b[0m\u001b[1;33m,\u001b[0m \u001b[0mfontsize\u001b[0m\u001b[1;33m=\u001b[0m\u001b[1;36m16\u001b[0m\u001b[1;33m)\u001b[0m\u001b[1;33m\u001b[0m\u001b[1;33m\u001b[0m\u001b[0m\n\u001b[0;32m      5\u001b[0m \u001b[0mplt\u001b[0m\u001b[1;33m.\u001b[0m\u001b[0mxlabel\u001b[0m\u001b[1;33m(\u001b[0m\u001b[1;34m'$Recovery \\quad Rate$'\u001b[0m\u001b[1;33m,\u001b[0m \u001b[0mfontsize\u001b[0m\u001b[1;33m=\u001b[0m\u001b[1;36m16\u001b[0m\u001b[1;33m)\u001b[0m\u001b[1;33m\u001b[0m\u001b[1;33m\u001b[0m\u001b[0m\n",
      "\u001b[1;32m~\\anaconda3\\lib\\site-packages\\seaborn\\distributions.py\u001b[0m in \u001b[0;36mkdeplot\u001b[1;34m(data, data2, shade, vertical, kernel, bw, gridsize, cut, clip, legend, cumulative, shade_lowest, cbar, cbar_ax, cbar_kws, ax, **kwargs)\u001b[0m\n\u001b[0;32m    676\u001b[0m         \u001b[0mwarn\u001b[0m \u001b[1;33m=\u001b[0m \u001b[1;32mTrue\u001b[0m\u001b[1;33m\u001b[0m\u001b[1;33m\u001b[0m\u001b[0m\n\u001b[0;32m    677\u001b[0m         \u001b[0mbivariate\u001b[0m \u001b[1;33m=\u001b[0m \u001b[1;32mTrue\u001b[0m\u001b[1;33m\u001b[0m\u001b[1;33m\u001b[0m\u001b[0m\n\u001b[1;32m--> 678\u001b[1;33m         \u001b[0mx\u001b[0m\u001b[1;33m,\u001b[0m \u001b[0my\u001b[0m \u001b[1;33m=\u001b[0m \u001b[0mdata\u001b[0m\u001b[1;33m.\u001b[0m\u001b[0mT\u001b[0m\u001b[1;33m\u001b[0m\u001b[1;33m\u001b[0m\u001b[0m\n\u001b[0m\u001b[0;32m    679\u001b[0m     \u001b[1;32melif\u001b[0m \u001b[0misinstance\u001b[0m\u001b[1;33m(\u001b[0m\u001b[0mdata\u001b[0m\u001b[1;33m,\u001b[0m \u001b[0mpd\u001b[0m\u001b[1;33m.\u001b[0m\u001b[0mDataFrame\u001b[0m\u001b[1;33m)\u001b[0m \u001b[1;32mand\u001b[0m \u001b[0mnp\u001b[0m\u001b[1;33m.\u001b[0m\u001b[0mndim\u001b[0m\u001b[1;33m(\u001b[0m\u001b[0mdata\u001b[0m\u001b[1;33m)\u001b[0m \u001b[1;33m>\u001b[0m \u001b[1;36m1\u001b[0m\u001b[1;33m:\u001b[0m\u001b[1;33m\u001b[0m\u001b[1;33m\u001b[0m\u001b[0m\n\u001b[0;32m    680\u001b[0m         \u001b[0mwarn\u001b[0m \u001b[1;33m=\u001b[0m \u001b[1;32mTrue\u001b[0m\u001b[1;33m\u001b[0m\u001b[1;33m\u001b[0m\u001b[0m\n",
      "\u001b[1;31mValueError\u001b[0m: too many values to unpack (expected 2)"
     ]
    },
    {
     "data": {
      "image/png": "[encoded data removed]",
      "text/plain": [
       "<Figure size 576x396 with 1 Axes>"
      ]
     },
     "metadata": {},
     "output_type": "display_data"
    }
   ],
   "source": [
    "sns.kdeplot(y, color='b')\n",
    "for i in y_pred['y_clean']:\n",
    "    sns.kdeplot(i, color='r', alpha=0.1)\n",
    "plt.title('Gaussian model', fontsize=16)\n",
    "plt.xlabel('$Recovery \\quad Rate$', fontsize=16)\n",
    "\n",
    "# Another way to plot this graph\n",
    "# with model_g:\n",
    "#     ppc = pm.sample_posterior_predictive(\n",
    "#         chain_g, var_names=[\"mu\", \"sigma\", \"y_clean\"], random_seed=58\n",
    "#     )\n",
    "    \n",
    "# idata = az.from_pymc3(chain_g, posterior_predictive=ppc)\n",
    "# az.plot_ppc(idata);"
   ]
  },
  {
   "cell_type": "code",
   "execution_count": null,
   "metadata": {},
   "outputs": [],
   "source": []
  },
  {
   "cell_type": "markdown",
   "metadata": {},
   "source": [
    "## Multivariate modeling"
   ]
  },
  {
   "cell_type": "markdown",
   "metadata": {},
   "source": [
    "### Comparison between groups"
   ]
  },
  {
   "cell_type": "markdown",
   "metadata": {},
   "source": [
    "**Example:**  \n",
    "Your boss is still interested in the recovery rate, but he wants to know more from the data. He wants you to compare the trend of recovery rate over the years.    \n",
    "\n",
    "Therefore, you decide to group the y variable according to the year variable for comparison between groups. After that, you will build a hierarchical model to increase robustness."
   ]
  },
  {
   "cell_type": "code",
   "execution_count": 112,
   "metadata": {
    "ExecuteTime": {
     "end_time": "2020-08-28T12:30:05.364121Z",
     "start_time": "2020-08-28T12:30:05.293312Z"
    },
    "scrolled": false
   },
   "outputs": [
    {
     "data": {
      "text/html": [
       "<div>\n",
       "<style scoped>\n",
       "    .dataframe tbody tr th:only-of-type {\n",
       "        vertical-align: middle;\n",
       "    }\n",
       "\n",
       "    .dataframe tbody tr th {\n",
       "        vertical-align: top;\n",
       "    }\n",
       "\n",
       "    .dataframe thead th {\n",
       "        text-align: right;\n",
       "    }\n",
       "</style>\n",
       "<table border=\"1\" class=\"dataframe\">\n",
       "  <thead>\n",
       "    <tr style=\"text-align: right;\">\n",
       "      <th></th>\n",
       "      <th>Discovery Date</th>\n",
       "      <th>Year</th>\n",
       "      <th>Net Loss</th>\n",
       "      <th>Recovery Amount (percent)</th>\n",
       "      <th>timediff</th>\n",
       "      <th>Name Class</th>\n",
       "      <th>Region_Asia Pac</th>\n",
       "      <th>Region_EMEA</th>\n",
       "      <th>Region_North America</th>\n",
       "      <th>Business_Agency Services</th>\n",
       "      <th>...</th>\n",
       "      <th>Risk Sub-Category_Selection, Sponsorship and Exposure</th>\n",
       "      <th>Risk Sub-Category_Suitability, Disclosures and Fiduciary</th>\n",
       "      <th>Risk Sub-Category_Systems Security</th>\n",
       "      <th>Risk Sub-Category_Theft and Fraud</th>\n",
       "      <th>Risk Sub-Category_Trade Counterparties</th>\n",
       "      <th>Risk Sub-Category_Transaction/Data Management</th>\n",
       "      <th>Risk Sub-Category_Unauthorized Activity</th>\n",
       "      <th>Risk Sub-Category_Vendors and Suppliers</th>\n",
       "      <th>Risk Sub-Category_Willful Damage</th>\n",
       "      <th>Recovery Amount (percent)_bin</th>\n",
       "    </tr>\n",
       "    <tr>\n",
       "      <th>index</th>\n",
       "      <th></th>\n",
       "      <th></th>\n",
       "      <th></th>\n",
       "      <th></th>\n",
       "      <th></th>\n",
       "      <th></th>\n",
       "      <th></th>\n",
       "      <th></th>\n",
       "      <th></th>\n",
       "      <th></th>\n",
       "      <th></th>\n",
       "      <th></th>\n",
       "      <th></th>\n",
       "      <th></th>\n",
       "      <th></th>\n",
       "      <th></th>\n",
       "      <th></th>\n",
       "      <th></th>\n",
       "      <th></th>\n",
       "      <th></th>\n",
       "      <th></th>\n",
       "    </tr>\n",
       "  </thead>\n",
       "  <tbody>\n",
       "    <tr>\n",
       "      <th>0</th>\n",
       "      <td>1.17e+18</td>\n",
       "      <td>2007</td>\n",
       "      <td>296555.27</td>\n",
       "      <td>28.0</td>\n",
       "      <td>1.0</td>\n",
       "      <td>0</td>\n",
       "      <td>0</td>\n",
       "      <td>1</td>\n",
       "      <td>0</td>\n",
       "      <td>0</td>\n",
       "      <td>...</td>\n",
       "      <td>0</td>\n",
       "      <td>0</td>\n",
       "      <td>0</td>\n",
       "      <td>0</td>\n",
       "      <td>0</td>\n",
       "      <td>0</td>\n",
       "      <td>0</td>\n",
       "      <td>0</td>\n",
       "      <td>0</td>\n",
       "      <td>1.0</td>\n",
       "    </tr>\n",
       "    <tr>\n",
       "      <th>1</th>\n",
       "      <td>1.17e+18</td>\n",
       "      <td>2007</td>\n",
       "      <td>87472.47</td>\n",
       "      <td>31.0</td>\n",
       "      <td>2.0</td>\n",
       "      <td>0</td>\n",
       "      <td>0</td>\n",
       "      <td>0</td>\n",
       "      <td>1</td>\n",
       "      <td>0</td>\n",
       "      <td>...</td>\n",
       "      <td>0</td>\n",
       "      <td>0</td>\n",
       "      <td>0</td>\n",
       "      <td>0</td>\n",
       "      <td>1</td>\n",
       "      <td>0</td>\n",
       "      <td>0</td>\n",
       "      <td>0</td>\n",
       "      <td>0</td>\n",
       "      <td>0.0</td>\n",
       "    </tr>\n",
       "    <tr>\n",
       "      <th>2</th>\n",
       "      <td>1.17e+18</td>\n",
       "      <td>2007</td>\n",
       "      <td>229395.38</td>\n",
       "      <td>26.0</td>\n",
       "      <td>2.0</td>\n",
       "      <td>0</td>\n",
       "      <td>1</td>\n",
       "      <td>0</td>\n",
       "      <td>0</td>\n",
       "      <td>0</td>\n",
       "      <td>...</td>\n",
       "      <td>0</td>\n",
       "      <td>0</td>\n",
       "      <td>0</td>\n",
       "      <td>0</td>\n",
       "      <td>0</td>\n",
       "      <td>0</td>\n",
       "      <td>0</td>\n",
       "      <td>0</td>\n",
       "      <td>0</td>\n",
       "      <td>1.0</td>\n",
       "    </tr>\n",
       "    <tr>\n",
       "      <th>3</th>\n",
       "      <td>1.17e+18</td>\n",
       "      <td>2007</td>\n",
       "      <td>137925.29</td>\n",
       "      <td>25.0</td>\n",
       "      <td>3.0</td>\n",
       "      <td>0</td>\n",
       "      <td>0</td>\n",
       "      <td>1</td>\n",
       "      <td>0</td>\n",
       "      <td>0</td>\n",
       "      <td>...</td>\n",
       "      <td>0</td>\n",
       "      <td>0</td>\n",
       "      <td>0</td>\n",
       "      <td>0</td>\n",
       "      <td>0</td>\n",
       "      <td>0</td>\n",
       "      <td>0</td>\n",
       "      <td>0</td>\n",
       "      <td>0</td>\n",
       "      <td>1.0</td>\n",
       "    </tr>\n",
       "    <tr>\n",
       "      <th>4</th>\n",
       "      <td>1.17e+18</td>\n",
       "      <td>2007</td>\n",
       "      <td>292160.41</td>\n",
       "      <td>31.0</td>\n",
       "      <td>2.0</td>\n",
       "      <td>0</td>\n",
       "      <td>0</td>\n",
       "      <td>0</td>\n",
       "      <td>1</td>\n",
       "      <td>0</td>\n",
       "      <td>...</td>\n",
       "      <td>0</td>\n",
       "      <td>0</td>\n",
       "      <td>0</td>\n",
       "      <td>0</td>\n",
       "      <td>0</td>\n",
       "      <td>0</td>\n",
       "      <td>0</td>\n",
       "      <td>0</td>\n",
       "      <td>0</td>\n",
       "      <td>0.0</td>\n",
       "    </tr>\n",
       "    <tr>\n",
       "      <th>...</th>\n",
       "      <td>...</td>\n",
       "      <td>...</td>\n",
       "      <td>...</td>\n",
       "      <td>...</td>\n",
       "      <td>...</td>\n",
       "      <td>...</td>\n",
       "      <td>...</td>\n",
       "      <td>...</td>\n",
       "      <td>...</td>\n",
       "      <td>...</td>\n",
       "      <td>...</td>\n",
       "      <td>...</td>\n",
       "      <td>...</td>\n",
       "      <td>...</td>\n",
       "      <td>...</td>\n",
       "      <td>...</td>\n",
       "      <td>...</td>\n",
       "      <td>...</td>\n",
       "      <td>...</td>\n",
       "      <td>...</td>\n",
       "      <td>...</td>\n",
       "    </tr>\n",
       "    <tr>\n",
       "      <th>1396</th>\n",
       "      <td>1.38e+18</td>\n",
       "      <td>2013</td>\n",
       "      <td>952743.86</td>\n",
       "      <td>30.0</td>\n",
       "      <td>2.0</td>\n",
       "      <td>1</td>\n",
       "      <td>0</td>\n",
       "      <td>1</td>\n",
       "      <td>0</td>\n",
       "      <td>0</td>\n",
       "      <td>...</td>\n",
       "      <td>0</td>\n",
       "      <td>0</td>\n",
       "      <td>0</td>\n",
       "      <td>0</td>\n",
       "      <td>0</td>\n",
       "      <td>0</td>\n",
       "      <td>0</td>\n",
       "      <td>1</td>\n",
       "      <td>0</td>\n",
       "      <td>0.0</td>\n",
       "    </tr>\n",
       "    <tr>\n",
       "      <th>1397</th>\n",
       "      <td>1.39e+18</td>\n",
       "      <td>2014</td>\n",
       "      <td>122813.21</td>\n",
       "      <td>35.0</td>\n",
       "      <td>1.0</td>\n",
       "      <td>1</td>\n",
       "      <td>0</td>\n",
       "      <td>1</td>\n",
       "      <td>0</td>\n",
       "      <td>0</td>\n",
       "      <td>...</td>\n",
       "      <td>0</td>\n",
       "      <td>0</td>\n",
       "      <td>0</td>\n",
       "      <td>0</td>\n",
       "      <td>0</td>\n",
       "      <td>0</td>\n",
       "      <td>0</td>\n",
       "      <td>1</td>\n",
       "      <td>0</td>\n",
       "      <td>0.0</td>\n",
       "    </tr>\n",
       "    <tr>\n",
       "      <th>1398</th>\n",
       "      <td>1.40e+18</td>\n",
       "      <td>2014</td>\n",
       "      <td>949052.11</td>\n",
       "      <td>22.0</td>\n",
       "      <td>3.0</td>\n",
       "      <td>1</td>\n",
       "      <td>0</td>\n",
       "      <td>0</td>\n",
       "      <td>1</td>\n",
       "      <td>0</td>\n",
       "      <td>...</td>\n",
       "      <td>0</td>\n",
       "      <td>0</td>\n",
       "      <td>0</td>\n",
       "      <td>0</td>\n",
       "      <td>0</td>\n",
       "      <td>0</td>\n",
       "      <td>0</td>\n",
       "      <td>1</td>\n",
       "      <td>0</td>\n",
       "      <td>1.0</td>\n",
       "    </tr>\n",
       "    <tr>\n",
       "      <th>1399</th>\n",
       "      <td>1.40e+18</td>\n",
       "      <td>2014</td>\n",
       "      <td>230710.76</td>\n",
       "      <td>8.0</td>\n",
       "      <td>1.0</td>\n",
       "      <td>1</td>\n",
       "      <td>1</td>\n",
       "      <td>0</td>\n",
       "      <td>0</td>\n",
       "      <td>0</td>\n",
       "      <td>...</td>\n",
       "      <td>0</td>\n",
       "      <td>0</td>\n",
       "      <td>0</td>\n",
       "      <td>0</td>\n",
       "      <td>0</td>\n",
       "      <td>0</td>\n",
       "      <td>0</td>\n",
       "      <td>1</td>\n",
       "      <td>0</td>\n",
       "      <td>1.0</td>\n",
       "    </tr>\n",
       "    <tr>\n",
       "      <th>1400</th>\n",
       "      <td>1.41e+18</td>\n",
       "      <td>2014</td>\n",
       "      <td>240558.72</td>\n",
       "      <td>8.0</td>\n",
       "      <td>1.0</td>\n",
       "      <td>1</td>\n",
       "      <td>0</td>\n",
       "      <td>0</td>\n",
       "      <td>1</td>\n",
       "      <td>0</td>\n",
       "      <td>...</td>\n",
       "      <td>0</td>\n",
       "      <td>0</td>\n",
       "      <td>0</td>\n",
       "      <td>0</td>\n",
       "      <td>0</td>\n",
       "      <td>0</td>\n",
       "      <td>0</td>\n",
       "      <td>1</td>\n",
       "      <td>0</td>\n",
       "      <td>1.0</td>\n",
       "    </tr>\n",
       "  </tbody>\n",
       "</table>\n",
       "<p>1401 rows × 49 columns</p>\n",
       "</div>"
      ],
      "text/plain": [
       "       Discovery Date  Year   Net Loss  Recovery Amount (percent)  timediff  \\\n",
       "index                                                                         \n",
       "0            1.17e+18  2007  296555.27                       28.0       1.0   \n",
       "1            1.17e+18  2007   87472.47                       31.0       2.0   \n",
       "2            1.17e+18  2007  229395.38                       26.0       2.0   \n",
       "3            1.17e+18  2007  137925.29                       25.0       3.0   \n",
       "4            1.17e+18  2007  292160.41                       31.0       2.0   \n",
       "...               ...   ...        ...                        ...       ...   \n",
       "1396         1.38e+18  2013  952743.86                       30.0       2.0   \n",
       "1397         1.39e+18  2014  122813.21                       35.0       1.0   \n",
       "1398         1.40e+18  2014  949052.11                       22.0       3.0   \n",
       "1399         1.40e+18  2014  230710.76                        8.0       1.0   \n",
       "1400         1.41e+18  2014  240558.72                        8.0       1.0   \n",
       "\n",
       "       Name Class  Region_Asia Pac  Region_EMEA  Region_North America  \\\n",
       "index                                                                   \n",
       "0               0                0            1                     0   \n",
       "1               0                0            0                     1   \n",
       "2               0                1            0                     0   \n",
       "3               0                0            1                     0   \n",
       "4               0                0            0                     1   \n",
       "...           ...              ...          ...                   ...   \n",
       "1396            1                0            1                     0   \n",
       "1397            1                0            1                     0   \n",
       "1398            1                0            0                     1   \n",
       "1399            1                1            0                     0   \n",
       "1400            1                0            0                     1   \n",
       "\n",
       "       Business_Agency Services  ...  \\\n",
       "index                            ...   \n",
       "0                             0  ...   \n",
       "1                             0  ...   \n",
       "2                             0  ...   \n",
       "3                             0  ...   \n",
       "4                             0  ...   \n",
       "...                         ...  ...   \n",
       "1396                          0  ...   \n",
       "1397                          0  ...   \n",
       "1398                          0  ...   \n",
       "1399                          0  ...   \n",
       "1400                          0  ...   \n",
       "\n",
       "       Risk Sub-Category_Selection, Sponsorship and Exposure  \\\n",
       "index                                                          \n",
       "0                                                          0   \n",
       "1                                                          0   \n",
       "2                                                          0   \n",
       "3                                                          0   \n",
       "4                                                          0   \n",
       "...                                                      ...   \n",
       "1396                                                       0   \n",
       "1397                                                       0   \n",
       "1398                                                       0   \n",
       "1399                                                       0   \n",
       "1400                                                       0   \n",
       "\n",
       "       Risk Sub-Category_Suitability, Disclosures and Fiduciary  \\\n",
       "index                                                             \n",
       "0                                                             0   \n",
       "1                                                             0   \n",
       "2                                                             0   \n",
       "3                                                             0   \n",
       "4                                                             0   \n",
       "...                                                         ...   \n",
       "1396                                                          0   \n",
       "1397                                                          0   \n",
       "1398                                                          0   \n",
       "1399                                                          0   \n",
       "1400                                                          0   \n",
       "\n",
       "       Risk Sub-Category_Systems Security  Risk Sub-Category_Theft and Fraud  \\\n",
       "index                                                                          \n",
       "0                                       0                                  0   \n",
       "1                                       0                                  0   \n",
       "2                                       0                                  0   \n",
       "3                                       0                                  0   \n",
       "4                                       0                                  0   \n",
       "...                                   ...                                ...   \n",
       "1396                                    0                                  0   \n",
       "1397                                    0                                  0   \n",
       "1398                                    0                                  0   \n",
       "1399                                    0                                  0   \n",
       "1400                                    0                                  0   \n",
       "\n",
       "       Risk Sub-Category_Trade Counterparties  \\\n",
       "index                                           \n",
       "0                                           0   \n",
       "1                                           1   \n",
       "2                                           0   \n",
       "3                                           0   \n",
       "4                                           0   \n",
       "...                                       ...   \n",
       "1396                                        0   \n",
       "1397                                        0   \n",
       "1398                                        0   \n",
       "1399                                        0   \n",
       "1400                                        0   \n",
       "\n",
       "       Risk Sub-Category_Transaction/Data Management  \\\n",
       "index                                                  \n",
       "0                                                  0   \n",
       "1                                                  0   \n",
       "2                                                  0   \n",
       "3                                                  0   \n",
       "4                                                  0   \n",
       "...                                              ...   \n",
       "1396                                               0   \n",
       "1397                                               0   \n",
       "1398                                               0   \n",
       "1399                                               0   \n",
       "1400                                               0   \n",
       "\n",
       "       Risk Sub-Category_Unauthorized Activity  \\\n",
       "index                                            \n",
       "0                                            0   \n",
       "1                                            0   \n",
       "2                                            0   \n",
       "3                                            0   \n",
       "4                                            0   \n",
       "...                                        ...   \n",
       "1396                                         0   \n",
       "1397                                         0   \n",
       "1398                                         0   \n",
       "1399                                         0   \n",
       "1400                                         0   \n",
       "\n",
       "       Risk Sub-Category_Vendors and Suppliers  \\\n",
       "index                                            \n",
       "0                                            0   \n",
       "1                                            0   \n",
       "2                                            0   \n",
       "3                                            0   \n",
       "4                                            0   \n",
       "...                                        ...   \n",
       "1396                                         1   \n",
       "1397                                         1   \n",
       "1398                                         1   \n",
       "1399                                         1   \n",
       "1400                                         1   \n",
       "\n",
       "       Risk Sub-Category_Willful Damage  Recovery Amount (percent)_bin  \n",
       "index                                                                   \n",
       "0                                     0                            1.0  \n",
       "1                                     0                            0.0  \n",
       "2                                     0                            1.0  \n",
       "3                                     0                            1.0  \n",
       "4                                     0                            0.0  \n",
       "...                                 ...                            ...  \n",
       "1396                                  0                            0.0  \n",
       "1397                                  0                            0.0  \n",
       "1398                                  0                            1.0  \n",
       "1399                                  0                            1.0  \n",
       "1400                                  0                            1.0  \n",
       "\n",
       "[1401 rows x 49 columns]"
      ]
     },
     "execution_count": 112,
     "metadata": {},
     "output_type": "execute_result"
    }
   ],
   "source": [
    "df_ml"
   ]
  },
  {
   "cell_type": "code",
   "execution_count": 114,
   "metadata": {
    "ExecuteTime": {
     "end_time": "2020-08-28T12:48:47.798915Z",
     "start_time": "2020-08-28T12:48:45.297937Z"
    },
    "scrolled": true
   },
   "outputs": [
    {
     "data": {
      "image/png": "[encoded data removed]",
      "text/plain": [
       "<Figure size 576x396 with 1 Axes>"
      ]
     },
     "metadata": {},
     "output_type": "display_data"
    }
   ],
   "source": [
    "# Here we only focus on df_ml['Year'] and df_ml['Recovery Amount (percent)']\n",
    "sns.violinplot(x='Year', y='Recovery Amount (percent)', data=df_ml);"
   ]
  },
  {
   "cell_type": "code",
   "execution_count": null,
   "metadata": {},
   "outputs": [],
   "source": [
    "# Note that we transfer df_ml['Year'] as indexes\n",
    "y = df_ml['Recovery Amount (percent)'].values\n",
    "x = pd.Categorical(df_ml['Year']).codes"
   ]
  },
  {
   "cell_type": "code",
   "execution_count": null,
   "metadata": {},
   "outputs": [],
   "source": [
    "with pm.Model() as comparing_groups:        \n",
    "    means = pm.Normal('means', mu=0, sd=10, shape=len(set(x)))\n",
    "    sds = pm.HalfNormal('sds', sd=10, shape=len(set(x)))\n",
    "\n",
    "    y = pm.Normal('y', mu=means[x], sd=sds[x], observed=y)\n",
    "    # No bother for loop. We can just implace the function parameters in vectors.\n",
    "    trace_cg = pm.sample(5000)"
   ]
  },
  {
   "cell_type": "code",
   "execution_count": 113,
   "metadata": {
    "ExecuteTime": {
     "end_time": "2020-08-28T12:45:31.162512Z",
     "start_time": "2020-08-28T12:45:31.157523Z"
    }
   },
   "outputs": [],
   "source": [
    "chain_cg = trace_cg[100::]\n",
    "pm.traceplot(chain_cg);"
   ]
  },
  {
   "cell_type": "code",
   "execution_count": null,
   "metadata": {},
   "outputs": [],
   "source": [
    "pm.df_summary(chain_cg)"
   ]
  },
  {
   "cell_type": "code",
   "execution_count": null,
   "metadata": {},
   "outputs": [],
   "source": [
    "dist = dist = stats.norm()\n",
    "\n",
    "_, ax = plt.subplots(3, 2, figsize=(16, 12))\n",
    "\n",
    "comparisons = [(i,j) for i in range(4) for j in range(i+1, 4)]\n",
    "pos = [(k,l) for k in range(3) for l in (0, 1)]\n",
    "\n",
    "for (i, j), (k,l) in zip(comparisons, pos):\n",
    "    means_diff = chain_cg['means'][:,i]-chain_cg['means'][:,j]\n",
    "    d_cohen = (means_diff / np.sqrt((chain_cg['sds'][:,i]**2 + chain_cg['sds'][:,j]**2) / 2)).mean()\n",
    "    ps = dist.cdf(d_cohen/(2**0.5))\n",
    "        \n",
    "    pm.plot_posterior(means_diff, ref_val=0, ax=ax[k, l], kde_plot=True, lw=2)\n",
    "    ax[k, l].plot(0, label=\"Cohen's d = {:.2f}\\nProb sup = {:.2f}\".format(d_cohen, ps) ,alpha=0)\n",
    "    ax[k, l].set_xlabel('$\\mu_{}-\\mu_{}$'.format(i, j), fontsize=18)\n",
    "    ax[k,l ].legend(loc=0, fontsize=14)\n",
    "plt.tight_layout()"
   ]
  },
  {
   "cell_type": "markdown",
   "metadata": {},
   "source": [
    "### Hierarchical model  \n",
    "\n",
    "We use the following statistical model:    \n",
    "\n",
    "$$ \\alpha \\sim HalfCauchy(\\beta_\\alpha) $$\n",
    "$$ \\beta \\sim HalfCauchy(\\beta_\\beta) $$\n",
    "$$ \\theta \\sim Beta(\\alpha,\\beta) $$\n",
    "$$ y \\sim Bern(\\theta) $$"
   ]
  },
  {
   "cell_type": "code",
   "execution_count": null,
   "metadata": {},
   "outputs": [],
   "source": [
    "with pm.Model() as model_h:\n",
    "    alpha = pm.HalfCauchy('alpha', beta=10)\n",
    "    beta = pm.HalfCauchy('beta', beta=10)\n",
    "    \n",
    "    theta = pm.Beta('theta', alpha, beta, shape=len(df_ml))\n",
    "    y = pm.Bernoulli('y', p=theta[x], observed=y)\n",
    "\n",
    "    trace_h = pm.sample(2000)"
   ]
  },
  {
   "cell_type": "code",
   "execution_count": null,
   "metadata": {},
   "outputs": [],
   "source": [
    "chain_h = trace_h[200:]\n",
    "pm.traceplot(chain_h)"
   ]
  },
  {
   "cell_type": "code",
   "execution_count": 60,
   "metadata": {
    "ExecuteTime": {
     "end_time": "2020-08-28T07:15:27.734665Z",
     "start_time": "2020-08-28T07:15:27.727686Z"
    }
   },
   "outputs": [],
   "source": [
    "pm.df_summary(chain_h)"
   ]
  },
  {
   "cell_type": "markdown",
   "metadata": {},
   "source": [
    "### Multivariate Linear Regression"
   ]
  },
  {
   "cell_type": "markdown",
   "metadata": {},
   "source": [
    "I hope you feel familiar when you read this. We have implemented some of the Bayesian method in sklearn before. Now we will use PyMC3 statements to show another method and redo the process.  \n",
    "\n",
    "However, PyMC3 is more professional than sklearn in Bayesian statistics, so you will have more operable commands and professional output results this time."
   ]
  },
  {
   "cell_type": "code",
   "execution_count": 115,
   "metadata": {
    "ExecuteTime": {
     "end_time": "2020-08-28T13:47:48.501180Z",
     "start_time": "2020-08-28T13:47:48.368538Z"
    }
   },
   "outputs": [
    {
     "data": {
      "text/html": [
       "<div>\n",
       "<style scoped>\n",
       "    .dataframe tbody tr th:only-of-type {\n",
       "        vertical-align: middle;\n",
       "    }\n",
       "\n",
       "    .dataframe tbody tr th {\n",
       "        vertical-align: top;\n",
       "    }\n",
       "\n",
       "    .dataframe thead th {\n",
       "        text-align: right;\n",
       "    }\n",
       "</style>\n",
       "<table border=\"1\" class=\"dataframe\">\n",
       "  <thead>\n",
       "    <tr style=\"text-align: right;\">\n",
       "      <th></th>\n",
       "      <th>Discovery Date</th>\n",
       "      <th>Year</th>\n",
       "      <th>timediff</th>\n",
       "      <th>Name Class</th>\n",
       "      <th>Region_Asia Pac</th>\n",
       "      <th>Region_EMEA</th>\n",
       "      <th>Region_North America</th>\n",
       "      <th>Business_Agency Services</th>\n",
       "      <th>Business_Asset Management</th>\n",
       "      <th>Business_Commercial Banking</th>\n",
       "      <th>...</th>\n",
       "      <th>Risk Sub-Category_Safe Environment</th>\n",
       "      <th>Risk Sub-Category_Selection, Sponsorship and Exposure</th>\n",
       "      <th>Risk Sub-Category_Suitability, Disclosures and Fiduciary</th>\n",
       "      <th>Risk Sub-Category_Systems Security</th>\n",
       "      <th>Risk Sub-Category_Theft and Fraud</th>\n",
       "      <th>Risk Sub-Category_Trade Counterparties</th>\n",
       "      <th>Risk Sub-Category_Transaction/Data Management</th>\n",
       "      <th>Risk Sub-Category_Unauthorized Activity</th>\n",
       "      <th>Risk Sub-Category_Vendors and Suppliers</th>\n",
       "      <th>Risk Sub-Category_Willful Damage</th>\n",
       "    </tr>\n",
       "  </thead>\n",
       "  <tbody>\n",
       "    <tr>\n",
       "      <th>0</th>\n",
       "      <td>-2.00</td>\n",
       "      <td>-1.80</td>\n",
       "      <td>0.04</td>\n",
       "      <td>-0.97</td>\n",
       "      <td>-0.53</td>\n",
       "      <td>1.44</td>\n",
       "      <td>-0.92</td>\n",
       "      <td>-0.18</td>\n",
       "      <td>-0.15</td>\n",
       "      <td>-0.32</td>\n",
       "      <td>...</td>\n",
       "      <td>-0.18</td>\n",
       "      <td>-0.1</td>\n",
       "      <td>-0.1</td>\n",
       "      <td>-0.34</td>\n",
       "      <td>-0.69</td>\n",
       "      <td>-0.31</td>\n",
       "      <td>-0.17</td>\n",
       "      <td>-0.13</td>\n",
       "      <td>-0.24</td>\n",
       "      <td>-0.05</td>\n",
       "    </tr>\n",
       "    <tr>\n",
       "      <th>1</th>\n",
       "      <td>-2.00</td>\n",
       "      <td>-1.80</td>\n",
       "      <td>0.05</td>\n",
       "      <td>-0.97</td>\n",
       "      <td>-0.53</td>\n",
       "      <td>-0.69</td>\n",
       "      <td>1.09</td>\n",
       "      <td>-0.18</td>\n",
       "      <td>-0.15</td>\n",
       "      <td>-0.32</td>\n",
       "      <td>...</td>\n",
       "      <td>-0.18</td>\n",
       "      <td>-0.1</td>\n",
       "      <td>-0.1</td>\n",
       "      <td>-0.34</td>\n",
       "      <td>-0.69</td>\n",
       "      <td>3.24</td>\n",
       "      <td>-0.17</td>\n",
       "      <td>-0.13</td>\n",
       "      <td>-0.24</td>\n",
       "      <td>-0.05</td>\n",
       "    </tr>\n",
       "    <tr>\n",
       "      <th>2</th>\n",
       "      <td>-1.99</td>\n",
       "      <td>-1.80</td>\n",
       "      <td>0.05</td>\n",
       "      <td>-0.97</td>\n",
       "      <td>1.90</td>\n",
       "      <td>-0.69</td>\n",
       "      <td>-0.92</td>\n",
       "      <td>-0.18</td>\n",
       "      <td>-0.15</td>\n",
       "      <td>-0.32</td>\n",
       "      <td>...</td>\n",
       "      <td>-0.18</td>\n",
       "      <td>-0.1</td>\n",
       "      <td>-0.1</td>\n",
       "      <td>-0.34</td>\n",
       "      <td>-0.69</td>\n",
       "      <td>-0.31</td>\n",
       "      <td>-0.17</td>\n",
       "      <td>-0.13</td>\n",
       "      <td>-0.24</td>\n",
       "      <td>-0.05</td>\n",
       "    </tr>\n",
       "    <tr>\n",
       "      <th>3</th>\n",
       "      <td>-1.99</td>\n",
       "      <td>-1.80</td>\n",
       "      <td>0.07</td>\n",
       "      <td>-0.97</td>\n",
       "      <td>-0.53</td>\n",
       "      <td>1.44</td>\n",
       "      <td>-0.92</td>\n",
       "      <td>-0.18</td>\n",
       "      <td>-0.15</td>\n",
       "      <td>-0.32</td>\n",
       "      <td>...</td>\n",
       "      <td>-0.18</td>\n",
       "      <td>-0.1</td>\n",
       "      <td>-0.1</td>\n",
       "      <td>-0.34</td>\n",
       "      <td>-0.69</td>\n",
       "      <td>-0.31</td>\n",
       "      <td>-0.17</td>\n",
       "      <td>-0.13</td>\n",
       "      <td>-0.24</td>\n",
       "      <td>-0.05</td>\n",
       "    </tr>\n",
       "    <tr>\n",
       "      <th>4</th>\n",
       "      <td>-1.98</td>\n",
       "      <td>-1.80</td>\n",
       "      <td>0.05</td>\n",
       "      <td>-0.97</td>\n",
       "      <td>-0.53</td>\n",
       "      <td>-0.69</td>\n",
       "      <td>1.09</td>\n",
       "      <td>-0.18</td>\n",
       "      <td>-0.15</td>\n",
       "      <td>-0.32</td>\n",
       "      <td>...</td>\n",
       "      <td>-0.18</td>\n",
       "      <td>-0.1</td>\n",
       "      <td>-0.1</td>\n",
       "      <td>-0.34</td>\n",
       "      <td>-0.69</td>\n",
       "      <td>-0.31</td>\n",
       "      <td>-0.17</td>\n",
       "      <td>-0.13</td>\n",
       "      <td>-0.24</td>\n",
       "      <td>-0.05</td>\n",
       "    </tr>\n",
       "    <tr>\n",
       "      <th>...</th>\n",
       "      <td>...</td>\n",
       "      <td>...</td>\n",
       "      <td>...</td>\n",
       "      <td>...</td>\n",
       "      <td>...</td>\n",
       "      <td>...</td>\n",
       "      <td>...</td>\n",
       "      <td>...</td>\n",
       "      <td>...</td>\n",
       "      <td>...</td>\n",
       "      <td>...</td>\n",
       "      <td>...</td>\n",
       "      <td>...</td>\n",
       "      <td>...</td>\n",
       "      <td>...</td>\n",
       "      <td>...</td>\n",
       "      <td>...</td>\n",
       "      <td>...</td>\n",
       "      <td>...</td>\n",
       "      <td>...</td>\n",
       "      <td>...</td>\n",
       "    </tr>\n",
       "    <tr>\n",
       "      <th>1396</th>\n",
       "      <td>1.05</td>\n",
       "      <td>0.89</td>\n",
       "      <td>0.05</td>\n",
       "      <td>1.03</td>\n",
       "      <td>-0.53</td>\n",
       "      <td>1.44</td>\n",
       "      <td>-0.92</td>\n",
       "      <td>-0.18</td>\n",
       "      <td>-0.15</td>\n",
       "      <td>-0.32</td>\n",
       "      <td>...</td>\n",
       "      <td>-0.18</td>\n",
       "      <td>-0.1</td>\n",
       "      <td>-0.1</td>\n",
       "      <td>-0.34</td>\n",
       "      <td>-0.69</td>\n",
       "      <td>-0.31</td>\n",
       "      <td>-0.17</td>\n",
       "      <td>-0.13</td>\n",
       "      <td>4.09</td>\n",
       "      <td>-0.05</td>\n",
       "    </tr>\n",
       "    <tr>\n",
       "      <th>1397</th>\n",
       "      <td>1.14</td>\n",
       "      <td>1.33</td>\n",
       "      <td>0.04</td>\n",
       "      <td>1.03</td>\n",
       "      <td>-0.53</td>\n",
       "      <td>1.44</td>\n",
       "      <td>-0.92</td>\n",
       "      <td>-0.18</td>\n",
       "      <td>-0.15</td>\n",
       "      <td>-0.32</td>\n",
       "      <td>...</td>\n",
       "      <td>-0.18</td>\n",
       "      <td>-0.1</td>\n",
       "      <td>-0.1</td>\n",
       "      <td>-0.34</td>\n",
       "      <td>-0.69</td>\n",
       "      <td>-0.31</td>\n",
       "      <td>-0.17</td>\n",
       "      <td>-0.13</td>\n",
       "      <td>4.09</td>\n",
       "      <td>-0.05</td>\n",
       "    </tr>\n",
       "    <tr>\n",
       "      <th>1398</th>\n",
       "      <td>1.21</td>\n",
       "      <td>1.33</td>\n",
       "      <td>0.07</td>\n",
       "      <td>1.03</td>\n",
       "      <td>-0.53</td>\n",
       "      <td>-0.69</td>\n",
       "      <td>1.09</td>\n",
       "      <td>-0.18</td>\n",
       "      <td>-0.15</td>\n",
       "      <td>-0.32</td>\n",
       "      <td>...</td>\n",
       "      <td>-0.18</td>\n",
       "      <td>-0.1</td>\n",
       "      <td>-0.1</td>\n",
       "      <td>-0.34</td>\n",
       "      <td>-0.69</td>\n",
       "      <td>-0.31</td>\n",
       "      <td>-0.17</td>\n",
       "      <td>-0.13</td>\n",
       "      <td>4.09</td>\n",
       "      <td>-0.05</td>\n",
       "    </tr>\n",
       "    <tr>\n",
       "      <th>1399</th>\n",
       "      <td>1.31</td>\n",
       "      <td>1.33</td>\n",
       "      <td>0.04</td>\n",
       "      <td>1.03</td>\n",
       "      <td>1.90</td>\n",
       "      <td>-0.69</td>\n",
       "      <td>-0.92</td>\n",
       "      <td>-0.18</td>\n",
       "      <td>-0.15</td>\n",
       "      <td>-0.32</td>\n",
       "      <td>...</td>\n",
       "      <td>-0.18</td>\n",
       "      <td>-0.1</td>\n",
       "      <td>-0.1</td>\n",
       "      <td>-0.34</td>\n",
       "      <td>-0.69</td>\n",
       "      <td>-0.31</td>\n",
       "      <td>-0.17</td>\n",
       "      <td>-0.13</td>\n",
       "      <td>4.09</td>\n",
       "      <td>-0.05</td>\n",
       "    </tr>\n",
       "    <tr>\n",
       "      <th>1400</th>\n",
       "      <td>1.44</td>\n",
       "      <td>1.33</td>\n",
       "      <td>0.04</td>\n",
       "      <td>1.03</td>\n",
       "      <td>-0.53</td>\n",
       "      <td>-0.69</td>\n",
       "      <td>1.09</td>\n",
       "      <td>-0.18</td>\n",
       "      <td>-0.15</td>\n",
       "      <td>-0.32</td>\n",
       "      <td>...</td>\n",
       "      <td>-0.18</td>\n",
       "      <td>-0.1</td>\n",
       "      <td>-0.1</td>\n",
       "      <td>-0.34</td>\n",
       "      <td>-0.69</td>\n",
       "      <td>-0.31</td>\n",
       "      <td>-0.17</td>\n",
       "      <td>-0.13</td>\n",
       "      <td>4.09</td>\n",
       "      <td>-0.05</td>\n",
       "    </tr>\n",
       "  </tbody>\n",
       "</table>\n",
       "<p>1401 rows × 46 columns</p>\n",
       "</div>"
      ],
      "text/plain": [
       "      Discovery Date  Year  timediff  Name Class  Region_Asia Pac  \\\n",
       "0              -2.00 -1.80      0.04       -0.97            -0.53   \n",
       "1              -2.00 -1.80      0.05       -0.97            -0.53   \n",
       "2              -1.99 -1.80      0.05       -0.97             1.90   \n",
       "3              -1.99 -1.80      0.07       -0.97            -0.53   \n",
       "4              -1.98 -1.80      0.05       -0.97            -0.53   \n",
       "...              ...   ...       ...         ...              ...   \n",
       "1396            1.05  0.89      0.05        1.03            -0.53   \n",
       "1397            1.14  1.33      0.04        1.03            -0.53   \n",
       "1398            1.21  1.33      0.07        1.03            -0.53   \n",
       "1399            1.31  1.33      0.04        1.03             1.90   \n",
       "1400            1.44  1.33      0.04        1.03            -0.53   \n",
       "\n",
       "      Region_EMEA  Region_North America  Business_Agency Services  \\\n",
       "0            1.44                 -0.92                     -0.18   \n",
       "1           -0.69                  1.09                     -0.18   \n",
       "2           -0.69                 -0.92                     -0.18   \n",
       "3            1.44                 -0.92                     -0.18   \n",
       "4           -0.69                  1.09                     -0.18   \n",
       "...           ...                   ...                       ...   \n",
       "1396         1.44                 -0.92                     -0.18   \n",
       "1397         1.44                 -0.92                     -0.18   \n",
       "1398        -0.69                  1.09                     -0.18   \n",
       "1399        -0.69                 -0.92                     -0.18   \n",
       "1400        -0.69                  1.09                     -0.18   \n",
       "\n",
       "      Business_Asset Management  Business_Commercial Banking  ...  \\\n",
       "0                         -0.15                        -0.32  ...   \n",
       "1                         -0.15                        -0.32  ...   \n",
       "2                         -0.15                        -0.32  ...   \n",
       "3                         -0.15                        -0.32  ...   \n",
       "4                         -0.15                        -0.32  ...   \n",
       "...                         ...                          ...  ...   \n",
       "1396                      -0.15                        -0.32  ...   \n",
       "1397                      -0.15                        -0.32  ...   \n",
       "1398                      -0.15                        -0.32  ...   \n",
       "1399                      -0.15                        -0.32  ...   \n",
       "1400                      -0.15                        -0.32  ...   \n",
       "\n",
       "      Risk Sub-Category_Safe Environment  \\\n",
       "0                                  -0.18   \n",
       "1                                  -0.18   \n",
       "2                                  -0.18   \n",
       "3                                  -0.18   \n",
       "4                                  -0.18   \n",
       "...                                  ...   \n",
       "1396                               -0.18   \n",
       "1397                               -0.18   \n",
       "1398                               -0.18   \n",
       "1399                               -0.18   \n",
       "1400                               -0.18   \n",
       "\n",
       "      Risk Sub-Category_Selection, Sponsorship and Exposure  \\\n",
       "0                                                      -0.1   \n",
       "1                                                      -0.1   \n",
       "2                                                      -0.1   \n",
       "3                                                      -0.1   \n",
       "4                                                      -0.1   \n",
       "...                                                     ...   \n",
       "1396                                                   -0.1   \n",
       "1397                                                   -0.1   \n",
       "1398                                                   -0.1   \n",
       "1399                                                   -0.1   \n",
       "1400                                                   -0.1   \n",
       "\n",
       "      Risk Sub-Category_Suitability, Disclosures and Fiduciary  \\\n",
       "0                                                         -0.1   \n",
       "1                                                         -0.1   \n",
       "2                                                         -0.1   \n",
       "3                                                         -0.1   \n",
       "4                                                         -0.1   \n",
       "...                                                        ...   \n",
       "1396                                                      -0.1   \n",
       "1397                                                      -0.1   \n",
       "1398                                                      -0.1   \n",
       "1399                                                      -0.1   \n",
       "1400                                                      -0.1   \n",
       "\n",
       "      Risk Sub-Category_Systems Security  Risk Sub-Category_Theft and Fraud  \\\n",
       "0                                  -0.34                              -0.69   \n",
       "1                                  -0.34                              -0.69   \n",
       "2                                  -0.34                              -0.69   \n",
       "3                                  -0.34                              -0.69   \n",
       "4                                  -0.34                              -0.69   \n",
       "...                                  ...                                ...   \n",
       "1396                               -0.34                              -0.69   \n",
       "1397                               -0.34                              -0.69   \n",
       "1398                               -0.34                              -0.69   \n",
       "1399                               -0.34                              -0.69   \n",
       "1400                               -0.34                              -0.69   \n",
       "\n",
       "      Risk Sub-Category_Trade Counterparties  \\\n",
       "0                                      -0.31   \n",
       "1                                       3.24   \n",
       "2                                      -0.31   \n",
       "3                                      -0.31   \n",
       "4                                      -0.31   \n",
       "...                                      ...   \n",
       "1396                                   -0.31   \n",
       "1397                                   -0.31   \n",
       "1398                                   -0.31   \n",
       "1399                                   -0.31   \n",
       "1400                                   -0.31   \n",
       "\n",
       "      Risk Sub-Category_Transaction/Data Management  \\\n",
       "0                                             -0.17   \n",
       "1                                             -0.17   \n",
       "2                                             -0.17   \n",
       "3                                             -0.17   \n",
       "4                                             -0.17   \n",
       "...                                             ...   \n",
       "1396                                          -0.17   \n",
       "1397                                          -0.17   \n",
       "1398                                          -0.17   \n",
       "1399                                          -0.17   \n",
       "1400                                          -0.17   \n",
       "\n",
       "      Risk Sub-Category_Unauthorized Activity  \\\n",
       "0                                       -0.13   \n",
       "1                                       -0.13   \n",
       "2                                       -0.13   \n",
       "3                                       -0.13   \n",
       "4                                       -0.13   \n",
       "...                                       ...   \n",
       "1396                                    -0.13   \n",
       "1397                                    -0.13   \n",
       "1398                                    -0.13   \n",
       "1399                                    -0.13   \n",
       "1400                                    -0.13   \n",
       "\n",
       "      Risk Sub-Category_Vendors and Suppliers  \\\n",
       "0                                       -0.24   \n",
       "1                                       -0.24   \n",
       "2                                       -0.24   \n",
       "3                                       -0.24   \n",
       "4                                       -0.24   \n",
       "...                                       ...   \n",
       "1396                                     4.09   \n",
       "1397                                     4.09   \n",
       "1398                                     4.09   \n",
       "1399                                     4.09   \n",
       "1400                                     4.09   \n",
       "\n",
       "      Risk Sub-Category_Willful Damage  \n",
       "0                                -0.05  \n",
       "1                                -0.05  \n",
       "2                                -0.05  \n",
       "3                                -0.05  \n",
       "4                                -0.05  \n",
       "...                                ...  \n",
       "1396                             -0.05  \n",
       "1397                             -0.05  \n",
       "1398                             -0.05  \n",
       "1399                             -0.05  \n",
       "1400                             -0.05  \n",
       "\n",
       "[1401 rows x 46 columns]"
      ]
     },
     "execution_count": 115,
     "metadata": {},
     "output_type": "execute_result"
    }
   ],
   "source": [
    "# Let's recall the X and y we refined before:\n",
    "X_back"
   ]
  },
  {
   "cell_type": "code",
   "execution_count": 125,
   "metadata": {
    "ExecuteTime": {
     "end_time": "2020-08-28T14:38:41.069476Z",
     "start_time": "2020-08-28T14:38:41.048562Z"
    }
   },
   "outputs": [
    {
     "data": {
      "text/html": [
       "<div>\n",
       "<style scoped>\n",
       "    .dataframe tbody tr th:only-of-type {\n",
       "        vertical-align: middle;\n",
       "    }\n",
       "\n",
       "    .dataframe tbody tr th {\n",
       "        vertical-align: top;\n",
       "    }\n",
       "\n",
       "    .dataframe thead th {\n",
       "        text-align: right;\n",
       "    }\n",
       "</style>\n",
       "<table border=\"1\" class=\"dataframe\">\n",
       "  <thead>\n",
       "    <tr style=\"text-align: right;\">\n",
       "      <th></th>\n",
       "      <th>Recovery Amount (percent)</th>\n",
       "    </tr>\n",
       "    <tr>\n",
       "      <th>index</th>\n",
       "      <th></th>\n",
       "    </tr>\n",
       "  </thead>\n",
       "  <tbody>\n",
       "    <tr>\n",
       "      <th>0</th>\n",
       "      <td>28.0</td>\n",
       "    </tr>\n",
       "    <tr>\n",
       "      <th>1</th>\n",
       "      <td>31.0</td>\n",
       "    </tr>\n",
       "    <tr>\n",
       "      <th>2</th>\n",
       "      <td>26.0</td>\n",
       "    </tr>\n",
       "    <tr>\n",
       "      <th>3</th>\n",
       "      <td>25.0</td>\n",
       "    </tr>\n",
       "    <tr>\n",
       "      <th>4</th>\n",
       "      <td>31.0</td>\n",
       "    </tr>\n",
       "    <tr>\n",
       "      <th>...</th>\n",
       "      <td>...</td>\n",
       "    </tr>\n",
       "    <tr>\n",
       "      <th>1396</th>\n",
       "      <td>30.0</td>\n",
       "    </tr>\n",
       "    <tr>\n",
       "      <th>1397</th>\n",
       "      <td>35.0</td>\n",
       "    </tr>\n",
       "    <tr>\n",
       "      <th>1398</th>\n",
       "      <td>22.0</td>\n",
       "    </tr>\n",
       "    <tr>\n",
       "      <th>1399</th>\n",
       "      <td>8.0</td>\n",
       "    </tr>\n",
       "    <tr>\n",
       "      <th>1400</th>\n",
       "      <td>8.0</td>\n",
       "    </tr>\n",
       "  </tbody>\n",
       "</table>\n",
       "<p>1401 rows × 1 columns</p>\n",
       "</div>"
      ],
      "text/plain": [
       "       Recovery Amount (percent)\n",
       "index                           \n",
       "0                           28.0\n",
       "1                           31.0\n",
       "2                           26.0\n",
       "3                           25.0\n",
       "4                           31.0\n",
       "...                          ...\n",
       "1396                        30.0\n",
       "1397                        35.0\n",
       "1398                        22.0\n",
       "1399                         8.0\n",
       "1400                         8.0\n",
       "\n",
       "[1401 rows x 1 columns]"
      ]
     },
     "execution_count": 125,
     "metadata": {},
     "output_type": "execute_result"
    }
   ],
   "source": [
    "y_reg = pd.DataFrame(y)\n",
    "y_reg"
   ]
  },
  {
   "cell_type": "code",
   "execution_count": null,
   "metadata": {},
   "outputs": [],
   "source": [
    "with pm.Model() as model_mlr:\n",
    "    alpha_tmp = pm.Normal('alpha_tmp', mu=0, sd=10)\n",
    "    beta = pm.Normal('beta', mu=0, sd=1, shape=2)\n",
    "    epsilon = pm.HalfCauchy('epsilon', 5)\n",
    "\n",
    "    mu = alpha_tmp + pm.math.dot(beta, X_back)\n",
    "\n",
    "    alpha = pm.Deterministic('alpha', alpha_tmp) \n",
    "\n",
    "    y_pred = pm.Normal('y_pred', mu=mu, sd=epsilon, observed=yy_reg)\n",
    "\n",
    "    start = pm.find_MAP()\n",
    "    step = pm.NUTS(scaling=start)\n",
    "    trace_mlr = pm.sample(5000, step=step, start=start)"
   ]
  },
  {
   "cell_type": "code",
   "execution_count": null,
   "metadata": {},
   "outputs": [],
   "source": [
    "pm.traceplot(trace_mlr, ['alpha', 'beta','epsilon'])"
   ]
  },
  {
   "cell_type": "code",
   "execution_count": 61,
   "metadata": {
    "ExecuteTime": {
     "end_time": "2020-08-28T07:15:27.747630Z",
     "start_time": "2020-08-28T07:15:27.741648Z"
    }
   },
   "outputs": [],
   "source": [
    "pm.df_summary(trace_mlr, ['alpha', 'beta','epsilon'])"
   ]
  },
  {
   "cell_type": "markdown",
   "metadata": {},
   "source": [
    "### Multivariate Logistic Regression  \n",
    "\n",
    "Again, we have done similar work in sklearn before. This time we will try the multi-label classification problem.  \n",
    "\n",
    "**Example:**  \n",
    "Assuming that the current threshold for distinguishing asset ratings is changed to three grades, whose corresponding two demarcation points are 25 and 35. We train the model again to analyze it.  "
   ]
  },
  {
   "cell_type": "code",
   "execution_count": 127,
   "metadata": {
    "ExecuteTime": {
     "end_time": "2020-08-28T14:40:12.239903Z",
     "start_time": "2020-08-28T14:40:12.085804Z"
    }
   },
   "outputs": [
    {
     "ename": "NotImplementedError",
     "evalue": "> 1 ndim Categorical are not supported at this time",
     "output_type": "error",
     "traceback": [
      "\u001b[1;31m---------------------------------------------------------------------------\u001b[0m",
      "\u001b[1;31mValueError\u001b[0m                                Traceback (most recent call last)",
      "\u001b[1;32m~\\anaconda3\\lib\\site-packages\\pandas\\core\\arrays\\categorical.py\u001b[0m in \u001b[0;36m__init__\u001b[1;34m(self, values, categories, ordered, dtype, fastpath)\u001b[0m\n\u001b[0;32m    354\u001b[0m             \u001b[1;32mtry\u001b[0m\u001b[1;33m:\u001b[0m\u001b[1;33m\u001b[0m\u001b[1;33m\u001b[0m\u001b[0m\n\u001b[1;32m--> 355\u001b[1;33m                 \u001b[0mcodes\u001b[0m\u001b[1;33m,\u001b[0m \u001b[0mcategories\u001b[0m \u001b[1;33m=\u001b[0m \u001b[0mfactorize\u001b[0m\u001b[1;33m(\u001b[0m\u001b[0mvalues\u001b[0m\u001b[1;33m,\u001b[0m \u001b[0msort\u001b[0m\u001b[1;33m=\u001b[0m\u001b[1;32mTrue\u001b[0m\u001b[1;33m)\u001b[0m\u001b[1;33m\u001b[0m\u001b[1;33m\u001b[0m\u001b[0m\n\u001b[0m\u001b[0;32m    356\u001b[0m             \u001b[1;32mexcept\u001b[0m \u001b[0mTypeError\u001b[0m\u001b[1;33m:\u001b[0m\u001b[1;33m\u001b[0m\u001b[1;33m\u001b[0m\u001b[0m\n",
      "\u001b[1;32m~\\anaconda3\\lib\\site-packages\\pandas\\core\\algorithms.py\u001b[0m in \u001b[0;36mfactorize\u001b[1;34m(values, sort, na_sentinel, size_hint)\u001b[0m\n\u001b[0;32m    635\u001b[0m         codes, uniques = _factorize_array(\n\u001b[1;32m--> 636\u001b[1;33m             \u001b[0mvalues\u001b[0m\u001b[1;33m,\u001b[0m \u001b[0mna_sentinel\u001b[0m\u001b[1;33m=\u001b[0m\u001b[0mna_sentinel\u001b[0m\u001b[1;33m,\u001b[0m \u001b[0msize_hint\u001b[0m\u001b[1;33m=\u001b[0m\u001b[0msize_hint\u001b[0m\u001b[1;33m,\u001b[0m \u001b[0mna_value\u001b[0m\u001b[1;33m=\u001b[0m\u001b[0mna_value\u001b[0m\u001b[1;33m\u001b[0m\u001b[1;33m\u001b[0m\u001b[0m\n\u001b[0m\u001b[0;32m    637\u001b[0m         )\n",
      "\u001b[1;32m~\\anaconda3\\lib\\site-packages\\pandas\\core\\algorithms.py\u001b[0m in \u001b[0;36m_factorize_array\u001b[1;34m(values, na_sentinel, size_hint, na_value)\u001b[0m\n\u001b[0;32m    483\u001b[0m     \u001b[0mtable\u001b[0m \u001b[1;33m=\u001b[0m \u001b[0mhash_klass\u001b[0m\u001b[1;33m(\u001b[0m\u001b[0msize_hint\u001b[0m \u001b[1;32mor\u001b[0m \u001b[0mlen\u001b[0m\u001b[1;33m(\u001b[0m\u001b[0mvalues\u001b[0m\u001b[1;33m)\u001b[0m\u001b[1;33m)\u001b[0m\u001b[1;33m\u001b[0m\u001b[1;33m\u001b[0m\u001b[0m\n\u001b[1;32m--> 484\u001b[1;33m     \u001b[0muniques\u001b[0m\u001b[1;33m,\u001b[0m \u001b[0mcodes\u001b[0m \u001b[1;33m=\u001b[0m \u001b[0mtable\u001b[0m\u001b[1;33m.\u001b[0m\u001b[0mfactorize\u001b[0m\u001b[1;33m(\u001b[0m\u001b[0mvalues\u001b[0m\u001b[1;33m,\u001b[0m \u001b[0mna_sentinel\u001b[0m\u001b[1;33m=\u001b[0m\u001b[0mna_sentinel\u001b[0m\u001b[1;33m,\u001b[0m \u001b[0mna_value\u001b[0m\u001b[1;33m=\u001b[0m\u001b[0mna_value\u001b[0m\u001b[1;33m)\u001b[0m\u001b[1;33m\u001b[0m\u001b[1;33m\u001b[0m\u001b[0m\n\u001b[0m\u001b[0;32m    485\u001b[0m \u001b[1;33m\u001b[0m\u001b[0m\n",
      "\u001b[1;32mpandas\\_libs\\hashtable_class_helper.pxi\u001b[0m in \u001b[0;36mpandas._libs.hashtable.Float64HashTable.factorize\u001b[1;34m()\u001b[0m\n",
      "\u001b[1;31mValueError\u001b[0m: Buffer has wrong number of dimensions (expected 1, got 2)",
      "\nDuring handling of the above exception, another exception occurred:\n",
      "\u001b[1;31mNotImplementedError\u001b[0m                       Traceback (most recent call last)",
      "\u001b[1;32m<ipython-input-127-80a17dea5e6e>\u001b[0m in \u001b[0;36m<module>\u001b[1;34m\u001b[0m\n\u001b[0;32m      3\u001b[0m \u001b[0my_cat\u001b[0m\u001b[1;33m[\u001b[0m\u001b[0my_cat\u001b[0m\u001b[1;33m>\u001b[0m\u001b[1;36m35\u001b[0m\u001b[1;33m]\u001b[0m \u001b[1;33m=\u001b[0m \u001b[1;36m2\u001b[0m\u001b[1;33m\u001b[0m\u001b[1;33m\u001b[0m\u001b[0m\n\u001b[0;32m      4\u001b[0m \u001b[0my_cat\u001b[0m\u001b[1;33m[\u001b[0m\u001b[0my_cat\u001b[0m\u001b[1;33m>=\u001b[0m\u001b[1;36m25\u001b[0m\u001b[1;33m]\u001b[0m \u001b[1;33m=\u001b[0m \u001b[1;36m1\u001b[0m\u001b[1;33m\u001b[0m\u001b[1;33m\u001b[0m\u001b[0m\n\u001b[1;32m----> 5\u001b[1;33m \u001b[0my_cat\u001b[0m \u001b[1;33m=\u001b[0m \u001b[0mpd\u001b[0m\u001b[1;33m.\u001b[0m\u001b[0mCategorical\u001b[0m\u001b[1;33m(\u001b[0m\u001b[0my_cat\u001b[0m\u001b[1;33m)\u001b[0m\u001b[1;33m.\u001b[0m\u001b[0mcodes\u001b[0m\u001b[1;33m\u001b[0m\u001b[1;33m\u001b[0m\u001b[0m\n\u001b[0m\u001b[0;32m      6\u001b[0m \u001b[0my_cat\u001b[0m\u001b[1;33m\u001b[0m\u001b[1;33m\u001b[0m\u001b[0m\n",
      "\u001b[1;32m~\\anaconda3\\lib\\site-packages\\pandas\\core\\arrays\\categorical.py\u001b[0m in \u001b[0;36m__init__\u001b[1;34m(self, values, categories, ordered, dtype, fastpath)\u001b[0m\n\u001b[0;32m    368\u001b[0m                 \u001b[1;31m# FIXME\u001b[0m\u001b[1;33m\u001b[0m\u001b[1;33m\u001b[0m\u001b[1;33m\u001b[0m\u001b[0m\n\u001b[0;32m    369\u001b[0m                 raise NotImplementedError(\n\u001b[1;32m--> 370\u001b[1;33m                     \u001b[1;34m\"> 1 ndim Categorical are not supported at this time\"\u001b[0m\u001b[1;33m\u001b[0m\u001b[1;33m\u001b[0m\u001b[0m\n\u001b[0m\u001b[0;32m    371\u001b[0m                 )\n\u001b[0;32m    372\u001b[0m \u001b[1;33m\u001b[0m\u001b[0m\n",
      "\u001b[1;31mNotImplementedError\u001b[0m: > 1 ndim Categorical are not supported at this time"
     ]
    }
   ],
   "source": [
    "y_cat = np.copy(y_reg)\n",
    "y_cat[y_cat<25] = 0\n",
    "y_cat[y_cat>35] = 2\n",
    "y_cat[y_cat>=25] = 1\n",
    "y_cat = pd.Categorical(y_cat).codes\n",
    "y_cat"
   ]
  },
  {
   "cell_type": "code",
   "execution_count": null,
   "metadata": {},
   "outputs": [],
   "source": []
  },
  {
   "cell_type": "code",
   "execution_count": 62,
   "metadata": {
    "ExecuteTime": {
     "end_time": "2020-08-28T07:15:27.774559Z",
     "start_time": "2020-08-28T07:15:27.754613Z"
    }
   },
   "outputs": [],
   "source": [
    "#多元逻辑回归\n",
    "\n",
    "#softmax回归，广义多类别\n",
    "\n",
    "#完备性检查"
   ]
  },
  {
   "cell_type": "code",
   "execution_count": 63,
   "metadata": {
    "ExecuteTime": {
     "end_time": "2020-08-28T07:15:27.787524Z",
     "start_time": "2020-08-28T07:15:27.781542Z"
    }
   },
   "outputs": [],
   "source": [
    "#带混合项的logistic回归"
   ]
  },
  {
   "cell_type": "code",
   "execution_count": 64,
   "metadata": {
    "ExecuteTime": {
     "end_time": "2020-08-28T07:15:27.803481Z",
     "start_time": "2020-08-28T07:15:27.795504Z"
    }
   },
   "outputs": [],
   "source": [
    "#建立一个贝叶斯老虎机问题"
   ]
  },
  {
   "cell_type": "code",
   "execution_count": null,
   "metadata": {},
   "outputs": [],
   "source": []
  },
  {
   "cell_type": "code",
   "execution_count": null,
   "metadata": {},
   "outputs": [],
   "source": []
  },
  {
   "cell_type": "code",
   "execution_count": null,
   "metadata": {},
   "outputs": [],
   "source": []
  },
  {
   "cell_type": "code",
   "execution_count": null,
   "metadata": {},
   "outputs": [],
   "source": []
  },
  {
   "cell_type": "markdown",
   "metadata": {},
   "source": [
    " # Summary"
   ]
  },
  {
   "cell_type": "markdown",
   "metadata": {},
   "source": [
    "We have roughly understood some basic properties and application scenarios of machine learning and Bayesian methods. Although your current level of understanding and programming may not be enough to support your use of them in your thesis analysis, one day you will apply them to your thesis.  \n",
    "\n",
    "I hope you have generally understood the general steps in variety of machine learning projects.   \n",
    "We provide examples of three difficulty levels, you can find and run them in other folders.   \n",
    "\n",
    "\n",
    "Have fun, stay healthy and live a happy life."
   ]
  },
  {
   "cell_type": "markdown",
   "metadata": {},
   "source": [
    "# Reference\n",
    "\n",
    "https://wp-en.wikideck.com/  \n",
    "https://scikit-learn.org/"
   ]
  }
 ],
 "metadata": {
  "kernelspec": {
   "display_name": "Python 3",
   "language": "python",
   "name": "python3"
  },
  "language_info": {
   "codemirror_mode": {
    "name": "ipython",
    "version": 3
   },
   "file_extension": ".py",
   "mimetype": "text/x-python",
   "name": "python",
   "nbconvert_exporter": "python",
   "pygments_lexer": "ipython3",
   "version": "3.7.6"
  },
  "latex_envs": {
   "LaTeX_envs_menu_present": true,
   "autoclose": false,
   "autocomplete": true,
   "bibliofile": "biblio.bib",
   "cite_by": "apalike",
   "current_citInitial": 1,
   "eqLabelWithNumbers": true,
   "eqNumInitial": 1,
   "hotkeys": {
    "equation": "Ctrl-E",
    "itemize": "Ctrl-I"
   },
   "labels_anchors": false,
   "latex_user_defs": false,
   "report_style_numbering": false,
   "user_envs_cfg": false
  },
  "toc": {
   "base_numbering": 1,
   "nav_menu": {},
   "number_sections": true,
   "sideBar": true,
   "skip_h1_title": false,
   "title_cell": "Table of Contents",
   "title_sidebar": "Contents",
   "toc_cell": false,
   "toc_position": {
    "height": "calc(100% - 180px)",
    "left": "10px",
    "top": "150px",
    "width": "165px"
   },
   "toc_section_display": true,
   "toc_window_display": true
  },
  "varInspector": {
   "cols": {
    "lenName": 16,
    "lenType": 16,
    "lenVar": 40
   },
   "kernels_config": {
    "python": {
     "delete_cmd_postfix": "",
     "delete_cmd_prefix": "del ",
     "library": "var_list.py",
     "varRefreshCmd": "print(var_dic_list())"
    },
    "r": {
     "delete_cmd_postfix": ") ",
     "delete_cmd_prefix": "rm(",
     "library": "var_list.r",
     "varRefreshCmd": "cat(var_dic_list()) "
    }
   },
   "position": {
    "height": "251.4px",
    "left": "1083.2px",
    "right": "20px",
    "top": "60px",
    "width": "444px"
   },
   "types_to_exclude": [
    "module",
    "function",
    "builtin_function_or_method",
    "instance",
    "_Feature"
   ],
   "window_display": false
  }
 },
 "nbformat": 4,
 "nbformat_minor": 4
}
