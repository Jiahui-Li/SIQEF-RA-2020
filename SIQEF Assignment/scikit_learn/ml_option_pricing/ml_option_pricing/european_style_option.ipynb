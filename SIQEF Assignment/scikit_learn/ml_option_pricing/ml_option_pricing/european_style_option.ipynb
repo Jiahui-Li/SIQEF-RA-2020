{
 "cells": [
  {
   "cell_type": "markdown",
   "metadata": {},
   "source": [
    "# Using ANN for European style option pricing and calibration purpose"
   ]
  },
  {
   "cell_type": "code",
   "execution_count": 1,
   "metadata": {},
   "outputs": [],
   "source": [
    "import numpy as np\n",
    "import pandas as pd\n",
    "import time\n",
    "import pickle\n",
    "import matplotlib.pyplot as plt\n",
    "%matplotlib inline\n",
    "from numpy.random import standard_normal, seed, uniform, randint\n",
    "import scipy.stats as stats\n",
    "from scipy.stats import norm\n",
    "from sklearn.model_selection import train_test_split\n",
    "from sklearn.metrics import mean_squared_error, mean_absolute_error\n",
    "np.random.seed(42)"
   ]
  },
  {
   "cell_type": "markdown",
   "metadata": {},
   "source": [
    "##  Case of single asset BS European option"
   ]
  },
  {
   "cell_type": "markdown",
   "metadata": {},
   "source": [
    "**Reminder: Black Scholes formula for european option and implied volatility**"
   ]
  },
  {
   "cell_type": "markdown",
   "metadata": {},
   "source": [
    "\n",
    "In the Black-Scholes framework, the stock is assumed to follow a GBM Ito process as follow:\n",
    "\n",
    "$$dS_t=\\mu S_tdt+\\sigma S_tdW_t\\quad\\quad S_{t+1}=S_te^{\\left(\\mu-\\frac{1}{2}\\sigma^2\\right)\\Delta t+\\sigma\\sqrt{\\Delta t}Z}$$\n",
    "\n",
    "where $Z$ is a standard normal random variable.\n",
    "\n",
    "The principle of portfolio replication leads to a PDE for option price :\n",
    "$$\\frac{ \\partial V }{\\partial t} + \\frac{1}{2}\\sigma^2 S^2\\frac{ \\partial V^2 }{\\partial S^2} + rS\\frac{ \\partial V }{\\partial S}-rV = 0$$ with terminal condition $$V(t=T,S) = (S_0 - k)_+$$\n",
    "\n",
    "For European plain vanilla option, a closed form solution exists as follow for one asset:\n",
    "$$V_c(t, S)= SN(d_1) - Ke^{-r(T-t)}N(d_2)$$\n",
    "with : $d_1=\\frac{ \\log{S/K} + (r-0.5\\sigma^2)(T-t) }{\\sigma \\sqrt{T-t}}$ and $d_2 = d_1 - \\sigma \\sqrt{T-t}$"
   ]
  },
  {
   "cell_type": "markdown",
   "metadata": {},
   "source": [
    "**Pricing using MLP**\n",
    "\n",
    "We will train an MLP regressor to learn the option price from B&S parameters in a supervised learning formulation \n",
    "\n",
    "We construct a dataset by independent random sampling of B&S parameters and then compute option price using B&S formula. We construct the variables as follow:\n",
    "\n",
    "- Explanatory variables : init stock price/strike, time to maturity (yearly fraction), IV, risk free rate\n",
    "- target variable: European call price/Strike\n",
    "\n",
    "We then split the dataset in a train and test sample in proportion 70%-30%"
   ]
  },
  {
   "cell_type": "markdown",
   "metadata": {},
   "source": [
    "1 - **Generating the datasets**"
   ]
  },
  {
   "cell_type": "code",
   "execution_count": 37,
   "metadata": {},
   "outputs": [],
   "source": [
    "from pricing_utils import bs_call\n",
    "\n",
    "n_sample = 100000\n",
    "data = pd.DataFrame()\n",
    "data['S0/K'] = uniform(low=0.4, high=1.6, size=n_sample)\n",
    "data['to_maturity'] = uniform(low=0.2, high=1.1, size=n_sample)\n",
    "data['sigma'] = uniform(low=0.01, high=1, size=n_sample)\n",
    "data['r'] = uniform(low=0.02, high=0.1, size=n_sample)\n",
    "data['BS_price/K'] = bs_call(data['S0/K'].values,\n",
    "                           1, data['r'].values,\n",
    "                           data['sigma'].values,\n",
    "                           data['to_maturity'].values)\n",
    "\n",
    "\n",
    "y = data['BS_price/K']\n",
    "X = data.drop(columns='BS_price/K')\n",
    "X_train, X_test, y_train,  y_test = train_test_split(X, y, test_size=0.33, random_state=42)"
   ]
  },
  {
   "cell_type": "markdown",
   "metadata": {},
   "source": [
    "2 - **Calibration of hyperparameters**"
   ]
  },
  {
   "cell_type": "markdown",
   "metadata": {},
   "source": [
    "For tuning hyperparameters, we use Bayesian optimization implemented by Hyperopt library (tree Parzen algorithm) which is an iterative approach that store all hyperparameters tested during execution."
   ]
  },
  {
   "cell_type": "code",
   "execution_count": 2,
   "metadata": {},
   "outputs": [
    {
     "name": "stderr",
     "output_type": "stream",
     "text": [
      "Using TensorFlow backend.\n",
      "C:\\Users\\pascal\\PycharmProjects\\ml_option_pricing\\ml_option_pricing\\ml_utils.py:6: TqdmExperimentalWarning: Using `tqdm.autonotebook.tqdm` in notebook mode. Use `tqdm.tqdm` instead to force console mode (e.g. in jupyter console)\n",
      "  from tqdm.autonotebook import tqdm\n"
     ]
    }
   ],
   "source": [
    "from ml_models import MLPRegressor\n",
    "from ml_utils import bayesian_tuning\n",
    "from sklearn.preprocessing import StandardScaler\n",
    "from hyperopt import hp, tpe"
   ]
  },
  {
   "cell_type": "code",
   "execution_count": 9,
   "metadata": {
    "scrolled": false
   },
   "outputs": [
    {
     "data": {
      "application/vnd.jupyter.widget-view+json": {
       "model_id": "e1777d1ca286423aa601d18b6ed7e2ff",
       "version_major": 2,
       "version_minor": 0
      },
      "text/plain": [
       "HBox(children=(FloatProgress(value=0.0, description='MLPRegressor hyper optim', max=50.0, style=ProgressStyle(…"
      ]
     },
     "metadata": {},
     "output_type": "display_data"
    },
    {
     "name": "stdout",
     "output_type": "stream",
     "text": [
      "100%|████████████████████████████████████████████| 50/50 [52:04<00:00, 62.49s/trial, best loss: 1.8550190303562985e-05]\n",
      "\n"
     ]
    }
   ],
   "source": [
    "param_grid = {\n",
    "    'batch_normalisation': hp.choice('batch_normalisation', [True, False]),\n",
    "    'hidden_size': hp.choice('hidden_size',[int(x) for x in np.linspace(20, 400, 20)]),\n",
    "    'activation': hp.choice('activation',['relu', 'tanh', 'linear', 'sigmoid' ]),\n",
    "    'dropout':  hp.uniform('dropout', 0., 0.5),\n",
    "    'learning_rate': hp.loguniform('learning_rate',np.log(0.0001), np.log(0.001)),\n",
    "    'kernel_initializer': hp.choice('kernel_initializer', ['glorot_uniform', 'normal', 'uniform']),\n",
    "    'beta_1': hp.uniform('beta_1', 0., 0.99),\n",
    "    'beta_2': hp.uniform('beta_2', 0., 0.99),\n",
    "}\n",
    "\n",
    "model = MLPRegressor(\n",
    "    scaler=StandardScaler(),\n",
    "    n_feature=4,\n",
    "    epochs=10,\n",
    "    batch_size=1024,\n",
    "    loss=\"mse\",\n",
    "    verbose=0\n",
    ")\n",
    "\n",
    "\n",
    "tuning_output = bayesian_tuning(\n",
    "           X_train.values,\n",
    "           y_train.values,\n",
    "           model=model,\n",
    "           param_grid=param_grid, \n",
    "           loss_metric='mse',\n",
    "           n_kfold=5,\n",
    "           nb_evals=50,       \n",
    "           optimizer=tpe.suggest\n",
    "    )"
   ]
  },
  {
   "cell_type": "code",
   "execution_count": 10,
   "metadata": {},
   "outputs": [
    {
     "data": {
      "text/plain": [
       "{'activation': 'tanh',\n",
       " 'batch_normalisation': False,\n",
       " 'beta_1': 0.6300696431330379,\n",
       " 'beta_2': 0.409710231506068,\n",
       " 'dropout': 0.0018581460145205009,\n",
       " 'hidden_size': 180,\n",
       " 'kernel_initializer': 'normal',\n",
       " 'learning_rate': 0.00015449294956219027}"
      ]
     },
     "execution_count": 10,
     "metadata": {},
     "output_type": "execute_result"
    }
   ],
   "source": [
    "best_params = tuning_output[0]['hyperparameters']\n",
    "best_params"
   ]
  },
  {
   "cell_type": "markdown",
   "metadata": {},
   "source": [
    "3 - **Train and test**"
   ]
  },
  {
   "cell_type": "code",
   "execution_count": 11,
   "metadata": {},
   "outputs": [
    {
     "name": "stdout",
     "output_type": "stream",
     "text": [
      "Epoch 1/50\n",
      "67000/67000 [==============================] - 1s 16us/step - loss: 0.0282 - mse: 0.0282\n",
      "Epoch 2/50\n",
      "67000/67000 [==============================] - 1s 15us/step - loss: 5.4255e-04 - mse: 5.4255e-04\n",
      "Epoch 3/50\n",
      "67000/67000 [==============================] - 1s 20us/step - loss: 3.6788e-04 - mse: 3.6788e-04\n",
      "Epoch 4/50\n",
      "67000/67000 [==============================] - 1s 15us/step - loss: 2.2276e-04 - mse: 2.2276e-04\n",
      "Epoch 5/50\n",
      "67000/67000 [==============================] - 1s 20us/step - loss: 1.1848e-04 - mse: 1.1848e-04\n",
      "Epoch 6/50\n",
      "67000/67000 [==============================] - 1s 15us/step - loss: 7.9335e-05 - mse: 7.9335e-05\n",
      "Epoch 7/50\n",
      "67000/67000 [==============================] - 1s 20us/step - loss: 6.2411e-05 - mse: 6.2411e-05\n",
      "Epoch 8/50\n",
      "67000/67000 [==============================] - 1s 15us/step - loss: 5.2041e-05 - mse: 5.2041e-05\n",
      "Epoch 9/50\n",
      "67000/67000 [==============================] - 1s 19us/step - loss: 4.4935e-05 - mse: 4.4935e-05\n",
      "Epoch 10/50\n",
      "67000/67000 [==============================] - 1s 16us/step - loss: 4.0502e-05 - mse: 4.0502e-05\n",
      "Epoch 11/50\n",
      "67000/67000 [==============================] - 2s 25us/step - loss: 3.7585e-05 - mse: 3.7585e-05\n",
      "Epoch 12/50\n",
      "67000/67000 [==============================] - 1s 18us/step - loss: 3.4486e-05 - mse: 3.4486e-05\n",
      "Epoch 13/50\n",
      "67000/67000 [==============================] - 1s 20us/step - loss: 3.2573e-05 - mse: 3.2573e-05\n",
      "Epoch 14/50\n",
      "67000/67000 [==============================] - 1s 15us/step - loss: 3.0682e-05 - mse: 3.0682e-05\n",
      "Epoch 15/50\n",
      "67000/67000 [==============================] - 1s 21us/step - loss: 2.9554e-05 - mse: 2.9554e-05\n",
      "Epoch 16/50\n",
      "67000/67000 [==============================] - 1s 16us/step - loss: 2.7761e-05 - mse: 2.7761e-05: 0s - loss: 2.7848e-05 - mse: 2.7848e-0\n",
      "Epoch 17/50\n",
      "67000/67000 [==============================] - 2s 23us/step - loss: 2.7273e-05 - mse: 2.7273e-05\n",
      "Epoch 18/50\n",
      "67000/67000 [==============================] - 1s 15us/step - loss: 2.5111e-05 - mse: 2.5111e-05\n",
      "Epoch 19/50\n",
      "67000/67000 [==============================] - 1s 22us/step - loss: 2.4942e-05 - mse: 2.4942e-05\n",
      "Epoch 20/50\n",
      "67000/67000 [==============================] - 1s 15us/step - loss: 2.3483e-05 - mse: 2.3483e-05\n",
      "Epoch 21/50\n",
      "67000/67000 [==============================] - 1s 19us/step - loss: 2.3229e-05 - mse: 2.3230e-05\n",
      "Epoch 22/50\n",
      "67000/67000 [==============================] - 1s 19us/step - loss: 2.2960e-05 - mse: 2.2960e-05\n",
      "Epoch 23/50\n",
      "67000/67000 [==============================] - 2s 26us/step - loss: 2.2041e-05 - mse: 2.2041e-05\n",
      "Epoch 24/50\n",
      "67000/67000 [==============================] - 1s 18us/step - loss: 2.0970e-05 - mse: 2.0970e-05\n",
      "Epoch 25/50\n",
      "67000/67000 [==============================] - 2s 24us/step - loss: 2.1248e-05 - mse: 2.1248e-05\n",
      "Epoch 26/50\n",
      "67000/67000 [==============================] - 1s 16us/step - loss: 1.9761e-05 - mse: 1.9761e-05\n",
      "Epoch 27/50\n",
      "67000/67000 [==============================] - 1s 20us/step - loss: 2.0425e-05 - mse: 2.0425e-05\n",
      "Epoch 28/50\n",
      "67000/67000 [==============================] - 1s 19us/step - loss: 1.9717e-05 - mse: 1.9717e-05\n",
      "Epoch 29/50\n",
      "67000/67000 [==============================] - 1s 21us/step - loss: 1.9272e-05 - mse: 1.9272e-05\n",
      "Epoch 30/50\n",
      "67000/67000 [==============================] - 1s 16us/step - loss: 1.8936e-05 - mse: 1.8936e-05\n",
      "Epoch 31/50\n",
      "67000/67000 [==============================] - 1s 20us/step - loss: 1.7982e-05 - mse: 1.7982e-05\n",
      "Epoch 32/50\n",
      "67000/67000 [==============================] - 1s 15us/step - loss: 1.7850e-05 - mse: 1.7850e-05\n",
      "Epoch 33/50\n",
      "67000/67000 [==============================] - 2s 23us/step - loss: 1.7468e-05 - mse: 1.7468e-05\n",
      "Epoch 34/50\n",
      "67000/67000 [==============================] - 1s 16us/step - loss: 1.7432e-05 - mse: 1.7432e-05: 0s - loss: 1.7433e-05 - mse: 1.7433e-0\n",
      "Epoch 35/50\n",
      "67000/67000 [==============================] - 1s 20us/step - loss: 1.6975e-05 - mse: 1.6975e-05\n",
      "Epoch 36/50\n",
      "67000/67000 [==============================] - 1s 15us/step - loss: 1.7470e-05 - mse: 1.7469e-05\n",
      "Epoch 37/50\n",
      "67000/67000 [==============================] - 2s 23us/step - loss: 1.6735e-05 - mse: 1.6735e-05\n",
      "Epoch 38/50\n",
      "67000/67000 [==============================] - 1s 16us/step - loss: 1.6204e-05 - mse: 1.6204e-05\n",
      "Epoch 39/50\n",
      "67000/67000 [==============================] - 1s 19us/step - loss: 1.5811e-05 - mse: 1.5811e-05\n",
      "Epoch 40/50\n",
      "67000/67000 [==============================] - 1s 17us/step - loss: 1.5800e-05 - mse: 1.5800e-05\n",
      "Epoch 41/50\n",
      "67000/67000 [==============================] - 1s 20us/step - loss: 1.5890e-05 - mse: 1.5890e-05: 0s - loss: 1.5729e-05 - mse: 1.5729\n",
      "Epoch 42/50\n",
      "67000/67000 [==============================] - 1s 17us/step - loss: 1.5274e-05 - mse: 1.5274e-05\n",
      "Epoch 43/50\n",
      "67000/67000 [==============================] - 1s 19us/step - loss: 1.4675e-05 - mse: 1.4675e-05: 0s - loss: 1.6013e-\n",
      "Epoch 44/50\n",
      "67000/67000 [==============================] - 1s 18us/step - loss: 1.5536e-05 - mse: 1.5536e-05\n",
      "Epoch 45/50\n",
      "67000/67000 [==============================] - 1s 17us/step - loss: 1.5459e-05 - mse: 1.5459e-05\n",
      "Epoch 46/50\n",
      "67000/67000 [==============================] - 1s 20us/step - loss: 1.4836e-05 - mse: 1.4836e-05\n",
      "Epoch 47/50\n",
      "67000/67000 [==============================] - 1s 19us/step - loss: 1.4781e-05 - mse: 1.4781e-05\n",
      "Epoch 48/50\n",
      "67000/67000 [==============================] - 1s 18us/step - loss: 1.4360e-05 - mse: 1.4360e-05\n",
      "Epoch 49/50\n",
      "67000/67000 [==============================] - 1s 19us/step - loss: 1.4337e-05 - mse: 1.4337e-05\n",
      "Epoch 50/50\n",
      "67000/67000 [==============================] - 1s 18us/step - loss: 1.3599e-05 - mse: 1.3599e-05\n",
      "\n",
      "Time Cost train: 63.21522665023804 seconds\n"
     ]
    }
   ],
   "source": [
    "model = MLPRegressor(\n",
    "    scaler=StandardScaler(),\n",
    "    n_feature=4,\n",
    "    batch_size=1024,\n",
    "    epochs=50,\n",
    "    loss=\"mse\",\n",
    "    verbose=1\n",
    ")\n",
    "model.set_params(**best_params)\n",
    "\n",
    "model.verbose = 1\n",
    "starttime = time.time()\n",
    "model.fit(X_train, y_train)\n",
    "endtime = time.time()\n",
    "print('\\nTime Cost train:', endtime - starttime, 'seconds')"
   ]
  },
  {
   "cell_type": "code",
   "execution_count": 12,
   "metadata": {},
   "outputs": [
    {
     "name": "stdout",
     "output_type": "stream",
     "text": [
      "\n",
      "Time Cost predict: 0.457775354385376 seconds\n",
      "mse on train set 4.225750326652832e-06\n",
      "mae on train set 0.0015665030244798922\n",
      "mse on test set 1.1652354546438333e-05\n",
      "mae on test set 0.0027649811296425737\n"
     ]
    }
   ],
   "source": [
    "y_hat = model.predict(X_train)\n",
    "starttime = time.time()\n",
    "y_pred = model.predict(X_test) # nb_path=100 to use Monte-Carlo dropout mean\n",
    "endtime = time.time()\n",
    "print('\\nTime Cost predict:', endtime - starttime, 'seconds')\n",
    "print('mse on train set', mean_squared_error(y_train, y_hat))\n",
    "print('mae on train set', mean_absolute_error(y_train, y_hat))\n",
    "print('mse on test set', mean_squared_error(y_test, y_pred))\n",
    "print('mae on test set', mean_absolute_error(y_test, y_pred))"
   ]
  },
  {
   "cell_type": "code",
   "execution_count": 13,
   "metadata": {},
   "outputs": [
    {
     "data": {
      "image/png": "[encoded data removed]",
      "text/plain": [
       "<Figure size 432x288 with 1 Axes>"
      ]
     },
     "metadata": {
      "needs_background": "light"
     },
     "output_type": "display_data"
    },
    {
     "data": {
      "image/png": "[encoded data removed]",
      "text/plain": [
       "<Figure size 720x360 with 2 Axes>"
      ]
     },
     "metadata": {
      "needs_background": "light"
     },
     "output_type": "display_data"
    }
   ],
   "source": [
    "diff = y_test.values - y_pred.ravel()\n",
    "plt.hist(diff, bins=100, density=True)\n",
    "plt.xlabel('diff')\n",
    "plt.title('error distribution on test set')\n",
    "plt.grid()\n",
    "\n",
    "fig = plt.figure(figsize=(10, 5))\n",
    "ax = plt.subplot(121)\n",
    "plt.xlabel('S0/K')\n",
    "plt.ylabel('error')\n",
    "plt.title('error distribution on test set')\n",
    "dist = plt.scatter(X_test['S0/K'], diff)\n",
    "plt.grid()\n",
    "bx = plt.subplot(122)\n",
    "plt.xlabel('time to maturity (year unit)')\n",
    "plt.ylabel('error')\n",
    "dist = plt.scatter(X_test['to_maturity'], diff)\n",
    "plt.grid()"
   ]
  },
  {
   "cell_type": "markdown",
   "metadata": {},
   "source": [
    "We observe that the error is higher close to the money and boundary of of maturity and strike"
   ]
  },
  {
   "cell_type": "markdown",
   "metadata": {},
   "source": [
    "4 - **Compare with other models**"
   ]
  },
  {
   "cell_type": "markdown",
   "metadata": {},
   "source": [
    "**Linear Regression**"
   ]
  },
  {
   "cell_type": "code",
   "execution_count": 32,
   "metadata": {},
   "outputs": [
    {
     "name": "stdout",
     "output_type": "stream",
     "text": [
      "mse on test set 0.0037429366688963178\n",
      "mae on test set 0.0494982581702424\n"
     ]
    }
   ],
   "source": [
    "from sklearn.linear_model import LinearRegression\n",
    "reg = LinearRegression()\n",
    "reg.fit(X_train, y_train)\n",
    "y_pred = reg.predict(X_test)\n",
    "mse_test = mean_squared_error(y_test, y_pred)\n",
    "mae_test = mean_absolute_error(y_test, y_pred)\n",
    "print('mse on test set', mse_test)\n",
    "print('mae on test set', mae_test)\n"
   ]
  },
  {
   "cell_type": "markdown",
   "metadata": {},
   "source": [
    "**Gaussian process regression**"
   ]
  },
  {
   "cell_type": "code",
   "execution_count": 38,
   "metadata": {},
   "outputs": [
    {
     "name": "stdout",
     "output_type": "stream",
     "text": [
      "\n",
      "Time Cost train: 41.37523651123047 seconds\n",
      "\n",
      "Time Cost predict: 101.69892239570618 seconds\n",
      "mse on test set 2.392997369536552e-06\n",
      "mae on test set 0.0007179205725593282\n"
     ]
    }
   ],
   "source": [
    "from sklearn.gaussian_process import GaussianProcessRegressor\n",
    "reg = GaussianProcessRegressor()\n",
    "starttime = time.time()\n",
    "reg.fit(X_train[:10000], y_train[:10000]) # train on 10 000 data point is sufficient \n",
    "endtime = time.time()\n",
    "print('\\nTime Cost train:', endtime - starttime, 'seconds')\n",
    "\n",
    "starttime = time.time()\n",
    "y_pred = reg.predict(X_test)\n",
    "endtime = time.time()\n",
    "print('\\nTime Cost predict:', endtime - starttime, 'seconds')\n",
    "mse_test = mean_squared_error(y_test, y_pred)\n",
    "mae_test = mean_absolute_error(y_test, y_pred)\n",
    "print('mse on test set', mse_test)\n",
    "print('mae on test set', mae_test)\n"
   ]
  },
  {
   "cell_type": "code",
   "execution_count": 39,
   "metadata": {},
   "outputs": [
    {
     "data": {
      "image/png": "[encoded data removed]",
      "text/plain": [
       "<Figure size 432x288 with 1 Axes>"
      ]
     },
     "metadata": {
      "needs_background": "light"
     },
     "output_type": "display_data"
    },
    {
     "data": {
      "image/png": "[encoded data removed]",
      "text/plain": [
       "<Figure size 720x360 with 2 Axes>"
      ]
     },
     "metadata": {
      "needs_background": "light"
     },
     "output_type": "display_data"
    }
   ],
   "source": [
    "diff = y_test.values - y_pred.ravel()\n",
    "plt.hist(diff, bins=100, density=True)\n",
    "plt.xlabel('diff')\n",
    "plt.title('error distribution on test set')\n",
    "plt.grid()\n",
    "\n",
    "fig = plt.figure(figsize=(10, 5))\n",
    "ax = plt.subplot(121)\n",
    "plt.xlabel('S0/K')\n",
    "plt.ylabel('error')\n",
    "plt.title('error distribution on test set')\n",
    "dist = plt.scatter(X_test['S0/K'], diff)\n",
    "plt.grid()\n",
    "bx = plt.subplot(122)\n",
    "plt.xlabel('time to maturity (year unit)')\n",
    "plt.ylabel('error')\n",
    "dist = plt.scatter(X_test['to_maturity'], diff)\n",
    "plt.grid()"
   ]
  },
  {
   "cell_type": "markdown",
   "metadata": {},
   "source": [
    "5 - **Implied volatility computation**"
   ]
  },
  {
   "cell_type": "markdown",
   "metadata": {},
   "source": [
    "We now calibrate B&S implied volatility using MLP with observed prices, ie re-compute IV given observed market prices\n",
    "\n",
    "We construct our dataset by generating call prices using random sampling IV and other parameters and then formulate the following supervised learning problem:\n",
    "\n",
    " - Explanatory variables : E call prices/strike, init stock/strike, time to maturity (yearly fraction), risk free rate\n",
    " - Target : IV \n"
   ]
  },
  {
   "cell_type": "code",
   "execution_count": null,
   "metadata": {},
   "outputs": [],
   "source": [
    "data = pd.DataFrame()\n",
    "data['S0/K'] = uniform(low=0.4, high=1.6, size=10000)\n",
    "data['to_maturity'] = uniform(low=0.2, high=1.1, size=(len(data)))\n",
    "data['sigma'] = uniform(low=0.01, high=1, size=len(data)) \n",
    "data['r'] = uniform(low=0.02, high=0.1, size=len(data))\n",
    "data['BS_price/K'] = bs_call(data['S0/K'].values,\n",
    "                           1, data['r'].values,\n",
    "                           data['sigma'].values,\n",
    "                           data['to_maturity'].values) # we generate price using sampled sigma \n",
    "# we take the log of option time value for gradient issue\n",
    "data['log(time_value/K)'] = np.log(data['BS_price/K'] - \\\n",
    "                                   np.maximum(data['S0/K'] - np.exp(-data['r'] * data['to_maturity']), 0))\n",
    "\n",
    "data = data[data['log(time_value/K)']>-1e7] # drop small values\n",
    "y = data['sigma']\n",
    "X = data[['S0/K', 'to_maturity', 'r', 'log(time_value/K)']]\n",
    "X_train, X_test, y_train,  y_test = train_test_split(X, y, test_size=0.33, random_state=42)"
   ]
  },
  {
   "cell_type": "code",
   "execution_count": 21,
   "metadata": {},
   "outputs": [
    {
     "data": {
      "application/vnd.jupyter.widget-view+json": {
       "model_id": "aea6bd3399364552b45a0945d2a47d21",
       "version_major": 2,
       "version_minor": 0
      },
      "text/plain": [
       "HBox(children=(FloatProgress(value=0.0, description='MLPRegressor hyper optim', max=50.0, style=ProgressStyle(…"
      ]
     },
     "metadata": {},
     "output_type": "display_data"
    },
    {
     "name": "stdout",
     "output_type": "stream",
     "text": [
      "100%|████████████████████████████████████████████| 50/50 [1:02:22<00:00, 74.85s/trial, best loss: 0.024055723708364785]\n",
      "\n",
      "\n",
      "Time Cost: 25.74895453453064 seconds\n",
      "mse on train set 0.0020751623896354634\n",
      "mae on train set 0.03527376307439293\n",
      "mse on test set 0.0016923051409279738\n",
      "mae on test set 0.030896452785355577\n"
     ]
    }
   ],
   "source": [
    "model.verbose = 0\n",
    "tuning_output = bayesian_tuning(\n",
    "           X_train.values,\n",
    "           y_train.values,\n",
    "           model=model,\n",
    "           param_grid=param_grid, \n",
    "           loss_metric='mse',\n",
    "           n_kfold=5,\n",
    "           nb_evals=50,       \n",
    "           optimizer=tpe.suggest\n",
    "    )\n",
    "\n",
    "starttime = time.time()\n",
    "model.fit(X_train, y_train)\n",
    "endtime = time.time()\n",
    "print('\\nTime Cost:', endtime - starttime, 'seconds')\n",
    "\n",
    "y_hat = model.predict(X_train)\n",
    "y_pred = model.predict(X_test) # nb_path=100 to use Monte-Carlo dropout mean\n",
    "print('mse on train set', mean_squared_error(y_train, y_hat))\n",
    "print('mae on train set', mean_absolute_error(y_train, y_hat))\n",
    "print('mse on test set', mean_squared_error(y_test, y_pred))\n",
    "print('mae on test set', mean_absolute_error(y_test, y_pred))"
   ]
  },
  {
   "cell_type": "code",
   "execution_count": null,
   "metadata": {},
   "outputs": [],
   "source": [
    "from pricing_utils import bs_vol_imp_call\n",
    "\n",
    "X = data\n",
    "X_train, X_test, y_train,  y_test = train_test_split(X, y, test_size=0.33, random_state=42)\n",
    "starttime = time.time()\n",
    "iv_newton = [bs_vol_imp_call(X_test.iloc[i]['S0/K'],\n",
    "                          1,\n",
    "                          X_test.iloc[i]['to_maturity'],\n",
    "                          X_test.iloc[i]['BS_price/K'],\n",
    "                          X_test.iloc[i]['r'],\n",
    "                          sigma_init=1) for i in range(len(X_test))]\n",
    "endtime = time.time()\n",
    "iv_newton = np.array(iv_newton)\n",
    "print('\\nTime Cost:', endtime - starttime, 'seconds')\n",
    "print('mse newton on test set', mean_squared_error(y_test, iv_newton))\n",
    "print('mae newton on test set', mean_absolute_error(y_test, iv_newton))"
   ]
  },
  {
   "cell_type": "markdown",
   "metadata": {},
   "source": [
    "6 - **Conclusion**"
   ]
  },
  {
   "cell_type": "markdown",
   "metadata": {},
   "source": [
    "- Neural network NLP can offer better precision but need high number of sample to be efficiently trained\n",
    "- Single hidden layer seems sufficient for the case of one asset\n",
    "- Gaussian process can do better with small dataset but prediction is longer\n",
    "- The performance can be highly deteriorated for new set of parameters that are close or out of the boundary of the training space"
   ]
  },
  {
   "cell_type": "markdown",
   "metadata": {},
   "source": [
    "## Case of basket option (Multi-underlying)"
   ]
  },
  {
   "cell_type": "markdown",
   "metadata": {},
   "source": [
    "**Brief presentation:**\n",
    "\n",
    "We consider a basket call option on an index $I_t$ given by :\n",
    "$$I_t = a_1S^1_t + ... + a_dS^d_t$$\n",
    "where $a_i>0$,  $\\sum a_i = 1$ and where each of the d assets follow a GBM:\n",
    "\n",
    "$dS^i_t=r S^i_tdt+\\sigma_i S^i_tdW^i_t\\quad\\quad$ with $\\quad d \\langle W^i, W^j\\rangle_t = \\rho_{ij}dt\\quad$ and $\\quad \\rho_{ij}=\\frac{\\sum^{d}_{k=1}{\\Sigma_{ik}\\Sigma_{jk}}}{\\sigma_i \\sigma_j}$\n",
    "\n",
    "Under risk-neutral measure\n",
    "\n",
    "We consider payoff of kind $(I_T - K)_+$"
   ]
  },
  {
   "cell_type": "markdown",
   "metadata": {},
   "source": [
    "**Monte-Carlo Pricing**\n",
    "\n",
    "The Feynman-Kac theorem enable to write the option price as the conditional expectation of the discounted terminal payoff under the risk neutral measure and thus we will use Monte-Carlo simulation of stock path to estimate this value. A very basic MC pricer is used, no variance reduction technics"
   ]
  },
  {
   "cell_type": "markdown",
   "metadata": {},
   "source": [
    "1 - **Generating dataset for 4 assets**"
   ]
  },
  {
   "cell_type": "code",
   "execution_count": 40,
   "metadata": {},
   "outputs": [
    {
     "name": "stdout",
     "output_type": "stream",
     "text": [
      "\n",
      "Time Cost of MC pricing: ~ 11.901693291664124 seconds\n"
     ]
    }
   ],
   "source": [
    "from scipy.stats import random_correlation\n",
    "from pricing_utils import payoff_call_basket, basket_mc_price\n",
    "\n",
    "n_sample = 10000\n",
    "d = 4\n",
    "N = 10000 #nb path for pricer\n",
    "data_sample = []\n",
    "data = []\n",
    "starttime = time.time()\n",
    "\n",
    "for n in range(n_sample):\n",
    "    Rho = random_correlation.rvs((.5, .8, 1.2, 1.5)) \n",
    "    sigma = uniform(low=0.01, high=1, size=d)\n",
    "    Gamma = np.diag(sigma) * Rho * np.diag(sigma)\n",
    "    Sigma=np.sqrt(Gamma)\n",
    "    r = uniform(low=0.02, high=0.1)\n",
    "    T = uniform(low=0.2, high=1.1) # annualized\n",
    "    a = (1/d)*np.ones(d) # fixed weights \n",
    "    S_0 = np.random.lognormal(mean=0.5, sigma=0.25, size=4)\n",
    "    I_0 = np.dot(a, S_0)\n",
    "    K = uniform(low=1, high=3) \n",
    "    Call_price, _, _ = basket_mc_price(N, S_0/K, 1, r, T, sigma, Sigma, a, fonction_payoff=payoff_call_basket)\n",
    "    data_sample = np.concatenate([Rho[0,1:], Rho[1,2:], Rho[2,3:], sigma, S_0/K,  [r, T, Call_price]])\n",
    "    data.append(data_sample)\n",
    "\n",
    "endtime = time.time()\n",
    "print('\\nTime Cost of MC pricing: ~', (endtime - starttime) * 0.33, 'seconds')\n",
    "\n",
    "data = pd.DataFrame(data,\n",
    "                   columns=['rho_12', 'rho_13', 'rho_14','rho_23', 'rho_24', 'rho_34',\n",
    "                           'sigma_1', 'sigma_2', 'sigma_3', 'sigma_4', 'S1_0/K', 'S2_0/K',\n",
    "                            'S3_0/K', 'S4_0/K', 'r', 'T', 'Price'])\n",
    "y = data['Price']\n",
    "X = data.drop(columns='Price')\n",
    "X_train, X_test, y_train,  y_test = train_test_split(X, y, test_size=0.33, random_state=42)"
   ]
  },
  {
   "cell_type": "markdown",
   "metadata": {},
   "source": [
    "2 - **MLP pricing**"
   ]
  },
  {
   "cell_type": "code",
   "execution_count": 26,
   "metadata": {},
   "outputs": [
    {
     "data": {
      "application/vnd.jupyter.widget-view+json": {
       "model_id": "a1310fe16e1f4ddca1e2b12d7bbac3af",
       "version_major": 2,
       "version_minor": 0
      },
      "text/plain": [
       "HBox(children=(FloatProgress(value=0.0, description='MLPRegressor hyper optim', max=50.0, style=ProgressStyle(…"
      ]
     },
     "metadata": {},
     "output_type": "display_data"
    },
    {
     "name": "stdout",
     "output_type": "stream",
     "text": [
      "100%|████████████████████████████████████████████| 50/50 [10:54<00:00, 13.09s/trial, best loss: 0.00012880593383592098]\n",
      "\n",
      "best_params:\n",
      "{'activation': 'relu', 'batch_normalisation': False, 'beta_1': 0.5376808511121938, 'beta_2': 0.6724216233003347, 'dropout': 0.011986471818406869, 'hidden_size': 160, 'hidden_size_2': 100, 'kernel_initializer': 'normal', 'learning_rate': 0.00016999986607110835}\n"
     ]
    }
   ],
   "source": [
    "param_grid = {\n",
    "    'batch_normalisation': hp.choice('batch_normalisation', [True, False]),\n",
    "    'hidden_size': hp.choice('hidden_size',[int(x) for x in np.linspace(20, 400, 20)]),\n",
    "    'hidden_size_2': hp.choice('hidden_size_2',[None] + [int(x) for x in np.linspace(20, 400, 20)]),\n",
    "    'activation': hp.choice('activation',['relu', 'tanh', 'linear', 'sigmoid' ]),\n",
    "    'dropout':  hp.uniform('dropout', 0., 0.5),\n",
    "    'learning_rate': hp.loguniform('learning_rate',np.log(0.0001), np.log(0.001)),\n",
    "    'kernel_initializer': hp.choice('kernel_initializer', ['glorot_uniform', 'normal', 'uniform']),\n",
    "    'beta_1': hp.uniform('beta_1', 0., 0.99),\n",
    "    'beta_2': hp.uniform('beta_2', 0., 0.99),\n",
    "}\n",
    "\n",
    "model = MLPRegressor(\n",
    "    scaler=StandardScaler(),\n",
    "    n_feature=16,\n",
    "    epochs=10,\n",
    "    batch_size=200,\n",
    "    loss=\"mse\",\n",
    "    verbose=0\n",
    ")\n",
    "\n",
    "tuning_output = bayesian_tuning(\n",
    "           X_train.values,\n",
    "           y_train.values,\n",
    "           model=model,\n",
    "           param_grid=param_grid, \n",
    "           loss_metric='mse',\n",
    "           n_kfold=5,\n",
    "           nb_evals=50,       \n",
    "           optimizer=tpe.suggest\n",
    "    )\n",
    "best_params = tuning_output[0]['hyperparameters']\n",
    "print('best_params:')\n",
    "print(best_params)"
   ]
  },
  {
   "cell_type": "code",
   "execution_count": 42,
   "metadata": {},
   "outputs": [
    {
     "name": "stdout",
     "output_type": "stream",
     "text": [
      "\n",
      "Time Cost training: 10.102301359176636 seconds\n",
      "\n",
      "Time Cost predict: 0.08976364135742188 seconds\n",
      "mse on train set 2.7387665524908807e-05\n",
      "mae on train set 0.003823132944112368\n",
      "mse on test set 4.780324122413507e-05\n",
      "mae on test set 0.004878958994490042\n"
     ]
    }
   ],
   "source": [
    "model.epochs=100\n",
    "model.batch_size=1024\n",
    "model.set_params(**best_params)\n",
    "\n",
    "starttime = time.time()\n",
    "model.fit(X_train, y_train)\n",
    "endtime = time.time()\n",
    "print('\\nTime Cost training:', endtime - starttime, 'seconds')\n",
    "\n",
    "y_hat = model.predict(X_train)\n",
    "starttime = time.time()\n",
    "y_pred = model.predict(X_test) # nb_path=100 to use Monte-Carlo dropout mean\n",
    "endtime = time.time()\n",
    "print('\\nTime Cost predict:', endtime - starttime, 'seconds')\n",
    "print('mse on train set', mean_squared_error(y_train, y_hat))\n",
    "print('mae on train set', mean_absolute_error(y_train, y_hat))\n",
    "print('mse on test set', mean_squared_error(y_test, y_pred))\n",
    "print('mae on test set', mean_absolute_error(y_test, y_pred))"
   ]
  },
  {
   "cell_type": "markdown",
   "metadata": {},
   "source": [
    "Error distribution"
   ]
  },
  {
   "cell_type": "code",
   "execution_count": 44,
   "metadata": {},
   "outputs": [
    {
     "data": {
      "image/png": "[encoded data removed]",
      "text/plain": [
       "<Figure size 720x360 with 2 Axes>"
      ]
     },
     "metadata": {
      "needs_background": "light"
     },
     "output_type": "display_data"
    }
   ],
   "source": [
    "diff = y_test.values - y_pred.ravel()\n",
    "\n",
    "fig = plt.figure(figsize=(10, 5))\n",
    "ax = plt.subplot(121)\n",
    "plt.hist(diff, bins=100, density=True)\n",
    "plt.xlabel('diff')\n",
    "plt.title('error distribution on test set')\n",
    "plt.grid()\n",
    "plt.grid()\n",
    "bx = plt.subplot(122)\n",
    "plt.xlabel('time to maturity (year unit)')\n",
    "plt.ylabel('error')\n",
    "dist = plt.scatter(X_test['T'], diff)\n",
    "plt.grid()"
   ]
  },
  {
   "cell_type": "markdown",
   "metadata": {},
   "source": [
    "3 - **Gaussian Process pricing**"
   ]
  },
  {
   "cell_type": "code",
   "execution_count": 29,
   "metadata": {},
   "outputs": [
    {
     "name": "stdout",
     "output_type": "stream",
     "text": [
      "\n",
      "Time Cost train: 10.64850902557373 seconds\n",
      "\n",
      "Time Cost predict: 1.2297098636627197 seconds\n",
      "mse on test set 0.0002573993882746857\n",
      "mae on test set 0.004581358782621973\n"
     ]
    }
   ],
   "source": [
    "reg = GaussianProcessRegressor()\n",
    "starttime = time.time()\n",
    "reg.fit(X_train, y_train) \n",
    "endtime = time.time()\n",
    "print('\\nTime Cost train:', endtime - starttime, 'seconds')\n",
    "\n",
    "starttime = time.time()\n",
    "y_pred = reg.predict(X_test)\n",
    "endtime = time.time()\n",
    "print('\\nTime Cost predict:', endtime - starttime, 'seconds')\n",
    "mse_test = mean_squared_error(y_test, y_pred)\n",
    "mae_test = mean_absolute_error(y_test, y_pred)\n",
    "print('mse on test set', mse_test)\n",
    "print('mae on test set', mae_test)"
   ]
  },
  {
   "cell_type": "markdown",
   "metadata": {},
   "source": [
    "6 - **Conclusion**"
   ]
  },
  {
   "cell_type": "markdown",
   "metadata": {},
   "source": [
    "In this case with more features, using two hidden layers for MLP leads to better performance"
   ]
  },
  {
   "cell_type": "markdown",
   "metadata": {},
   "source": [
    "## Case of stochastic vol framework"
   ]
  },
  {
   "cell_type": "markdown",
   "metadata": {},
   "source": [
    "**Model**\n",
    "\n"
   ]
  },
  {
   "cell_type": "markdown",
   "metadata": {},
   "source": [
    "The Heston Model is defined as follow (under risk-neutral measure):\n",
    "$$dS_t=r S_tdt+ \\sqrt{v_t} S_tdW^S_t$$\n",
    "$$dv_t=\\kappa (v - v_t)dt+\\gamma \\sqrt{v_t}dW^v_t$$\n",
    "\n",
    "$d \\langle W^S, W^v\\rangle_t = \\rho_{Sv}dt\\quad$, $\\quad S_{t_0}=S_0$, $\\quad v_{t_0}=v_0$\n",
    "\n",
    "Note that we have more than one source of uncertaincy (volatility term parameters) and thus leads to non uniqueness of a risk-neutral price."
   ]
  },
  {
   "cell_type": "markdown",
   "metadata": {},
   "source": [
    "**Pricer**\n",
    "\n",
    "We use here an implementation of the COS method to compute call prices for our study"
   ]
  },
  {
   "cell_type": "markdown",
   "metadata": {},
   "source": [
    "1 - **Generating dataset**"
   ]
  },
  {
   "cell_type": "code",
   "execution_count": 45,
   "metadata": {},
   "outputs": [
    {
     "name": "stdout",
     "output_type": "stream",
     "text": [
      "\n",
      "Time Cost pricing: ~ 112.49125830332439 seconds\n"
     ]
    }
   ],
   "source": [
    "from pricing_utils import cos_heston_price\n",
    "\n",
    "n_sample = 100000\n",
    "data = pd.DataFrame()\n",
    "data['S_0/K'] = uniform(low=0.4, high=1.6, size=n_sample)\n",
    "data['to_maturity'] = uniform(low=0.2, high=1.1, size=n_sample)\n",
    "data['r'] = uniform(low=0.02, high=0.1, size=n_sample)\n",
    "data['init_variance'] = uniform(low=0.05, high=1, size=n_sample)\n",
    "data['mean_variance'] = uniform(low=0.01, high=1, size=n_sample)\n",
    "data['reversion_speed'] = uniform(low=0.01, high=3, size=n_sample)\n",
    "data['gamma'] = uniform(low=0.01, high=0.8, size=n_sample)\n",
    "data['rho'] = uniform(low=-0.9, high=0, size=n_sample)\n",
    "starttime = time.time()\n",
    "data['call_price'] = [cos_heston_price(data.iloc[i]['S_0/K'],\n",
    "                                       1,\n",
    "                                       data.iloc[i]['r'],\n",
    "                                       data.iloc[i]['to_maturity'],\n",
    "                                       data.iloc[i]['mean_variance'],\n",
    "                                       data.iloc[i]['init_variance'],\n",
    "                                       data.iloc[i]['reversion_speed'],\n",
    "                                       data.iloc[i]['gamma'],\n",
    "                                       data.iloc[i]['rho'],\n",
    "                                       call=True)\n",
    "                      for i in range(len(data))]\n",
    "endtime = time.time()\n",
    "print('\\nTime Cost pricing: ~', (endtime - starttime)/3, 'seconds')\n",
    "\n",
    "data = data[(data['call_price']>0) & (data['call_price']<1)] #drop extrem values\n",
    "y = data['call_price']\n",
    "X = data.drop(columns='call_price')\n",
    "X_train, X_test, y_train,  y_test = train_test_split(X, y, test_size=0.33, random_state=42)"
   ]
  },
  {
   "cell_type": "code",
   "execution_count": 35,
   "metadata": {},
   "outputs": [
    {
     "data": {
      "text/plain": [
       "Text(0.5, 1.0, 'call price distribution')"
      ]
     },
     "execution_count": 35,
     "metadata": {},
     "output_type": "execute_result"
    },
    {
     "data": {
      "image/png": "[encoded data removed]",
      "text/plain": [
       "<Figure size 432x288 with 1 Axes>"
      ]
     },
     "metadata": {
      "needs_background": "light"
     },
     "output_type": "display_data"
    }
   ],
   "source": [
    "data['call_price'].hist(bins=100)\n",
    "plt.title('call price distribution')"
   ]
  },
  {
   "cell_type": "markdown",
   "metadata": {},
   "source": [
    "2 - **Pricing with MLP**"
   ]
  },
  {
   "cell_type": "code",
   "execution_count": 29,
   "metadata": {},
   "outputs": [
    {
     "data": {
      "application/vnd.jupyter.widget-view+json": {
       "model_id": "1feca25c12bd452cbd99d3cf5a9c719e",
       "version_major": 2,
       "version_minor": 0
      },
      "text/plain": [
       "HBox(children=(FloatProgress(value=0.0, description='MLPRegressor hyper optim', max=50.0, style=ProgressStyle(…"
      ]
     },
     "metadata": {},
     "output_type": "display_data"
    },
    {
     "name": "stdout",
     "output_type": "stream",
     "text": [
      "100%|█████████████████████████████████████████| 50/50 [2:24:00<00:00, 172.80s/trial, best loss: 0.00016664903476740155]\n",
      "\n"
     ]
    }
   ],
   "source": [
    "param_grid = {\n",
    "    'batch_normalisation': hp.choice('batch_normalisation', [True, False]),\n",
    "    'hidden_size': hp.choice('hidden_size',[int(x) for x in np.linspace(20, 400, 20)]),\n",
    "    'hidden_size_2': hp.choice('hidden_size_2',[None] + [int(x) for x in np.linspace(20, 400, 20)]),\n",
    "    'activation': hp.choice('activation',['relu', 'tanh', 'linear', 'sigmoid' ]),\n",
    "    'dropout':  hp.uniform('dropout', 0., 0.5),\n",
    "    'learning_rate': hp.loguniform('learning_rate',np.log(0.0001), np.log(0.001)),\n",
    "    'kernel_initializer': hp.choice('kernel_initializer', ['glorot_uniform', 'normal', 'uniform']),\n",
    "    'beta_1': hp.uniform('beta_1', 0., 0.99),\n",
    "    'beta_2': hp.uniform('beta_2', 0., 0.99),\n",
    "}\n",
    "model = MLPRegressor(\n",
    "    scaler=StandardScaler(),\n",
    "    n_feature=8,\n",
    "    epochs=10,\n",
    "    batch_size=200,\n",
    "    loss=\"mse\",\n",
    "    verbose=0\n",
    ")\n",
    "tuning_output = calibration(\n",
    "           X_train,\n",
    "           y_train,\n",
    "           model=model,\n",
    "           param_grid=param_grid, \n",
    "           loss_metric='mse',\n",
    "           n_kfold=5,\n",
    "           nb_evals=50,       \n",
    "           optimizer=tpe.suggest\n",
    "    )\n",
    "best_params = tuning_output[0]['hyperparameters']"
   ]
  },
  {
   "cell_type": "code",
   "execution_count": 47,
   "metadata": {},
   "outputs": [
    {
     "name": "stdout",
     "output_type": "stream",
     "text": [
      "hyperparamers used\n",
      "{'activation': 'sigmoid', 'batch_normalisation': False, 'beta_1': 0.7239479308172907, 'beta_2': 0.4658923447178774, 'dropout': 0.3145559749735203, 'hidden_size': 240, 'hidden_size_2': 80, 'kernel_initializer': 'uniform', 'learning_rate': 0.0006158306591303526}\n",
      "\n",
      "Time Cost training: 136.56036972999573 seconds\n",
      "mse on train set 0.00012025746650963547\n",
      "mae on train set 0.0036613856714399077\n",
      "mse on test set 0.00011036520697960599\n",
      "mae on test set 0.0036079036353207695\n"
     ]
    }
   ],
   "source": [
    "model.epochs=100\n",
    "model.batch_size=1024\n",
    "model.set_params(**best_params)\n",
    "print('hyperparamers used')\n",
    "print(best_params)\n",
    "\n",
    "starttime = time.time()\n",
    "model.fit(X_train, y_train)\n",
    "endtime = time.time()\n",
    "print('\\nTime Cost training:', endtime - starttime, 'seconds')\n",
    "\n",
    "y_hat = model.predict(X_train)\n",
    "y_pred = model.predict(X_test) # nb_path=100 to use Monte-Carlo dropout mean\n",
    "print('mse on train set', mean_squared_error(y_train, y_hat))\n",
    "print('mae on train set', mean_absolute_error(y_train, y_hat))\n",
    "print('mse on test set', mean_squared_error(y_test, y_pred))\n",
    "print('mae on test set', mean_absolute_error(y_test, y_pred))"
   ]
  },
  {
   "cell_type": "code",
   "execution_count": 51,
   "metadata": {},
   "outputs": [
    {
     "data": {
      "image/png": "[encoded data removed]",
      "text/plain": [
       "<Figure size 1080x648 with 6 Axes>"
      ]
     },
     "metadata": {
      "needs_background": "light"
     },
     "output_type": "display_data"
    }
   ],
   "source": [
    "diff = y_test.values - y_pred.ravel()\n",
    "\n",
    "fig = plt.figure(figsize=(15, 9))\n",
    "plt.subplot(231)\n",
    "plt.hist(diff, bins=100, density=True)\n",
    "plt.xlabel('diff')\n",
    "plt.title('error distribution on test set')\n",
    "plt.grid()\n",
    "plt.subplot(232)\n",
    "plt.xlabel('time to maturity (year unit)')\n",
    "plt.ylabel('error')\n",
    "dist = plt.scatter(X_test['to_maturity'], diff)\n",
    "plt.grid()\n",
    "plt.subplot(233)\n",
    "plt.xlabel('S_0/K')\n",
    "plt.ylabel('error')\n",
    "dist = plt.scatter(X_test['S_0/K'], diff)\n",
    "plt.grid()\n",
    "plt.subplot(234)\n",
    "plt.xlabel('init_variance')\n",
    "plt.ylabel('error')\n",
    "dist = plt.scatter(X_test['init_variance'], diff)\n",
    "plt.grid()\n",
    "plt.subplot(235)\n",
    "plt.xlabel('mean_variance')\n",
    "plt.ylabel('error')\n",
    "dist = plt.scatter(X_test['mean_variance'], diff)\n",
    "plt.grid()\n",
    "plt.subplot(236)\n",
    "plt.xlabel('rho')\n",
    "plt.ylabel('error')\n",
    "dist = plt.scatter(X_test['rho'], diff)\n",
    "plt.grid()"
   ]
  },
  {
   "cell_type": "markdown",
   "metadata": {},
   "source": [
    "2 - **Calibration of Heston parameters with multi-output regression MLP**"
   ]
  },
  {
   "cell_type": "markdown",
   "metadata": {},
   "source": [
    "An important issue with such incomplete model is to find the Heston paramters that \"reflect\" the observable liquid option price on market.\n",
    "Fixing some value such as $K$, $T$ and $r$, and given a range of observed option prices for different init stock price ($S_0$) and init variance ($v_0$) as explanatory variables, is it possible to train a supervise ANN able to predict $(\\kappa,v,\\gamma, \\rho)$ ? And the same but using observed prices of different $T$ for a given init price $S_0$ and init $v_0$"
   ]
  },
  {
   "cell_type": "markdown",
   "metadata": {},
   "source": [
    "**Generate data**"
   ]
  },
  {
   "cell_type": "code",
   "execution_count": 6,
   "metadata": {},
   "outputs": [],
   "source": [
    "from pricing_utils import cos_heston_price\n",
    "\n",
    "#fix some parameters\n",
    "K = 100\n",
    "T = 1\n",
    "r = 0.1\n",
    "\n",
    "n_sample = 10000\n",
    "\n",
    "x_data = np.zeros((n_sample, 10, 10)) # grid of 10x10 different prices\n",
    "y_data = np.zeros((n_sample, 4))\n",
    "\n",
    "#first define a space of S_0, v_0 values in which we will sample 10x10 values\n",
    "init_price = 100 * uniform(low=0.4, high=1.6, size=15)\n",
    "init_var = uniform(low=0.05, high=1, size=15)\n",
    "\n",
    "mean_variance = uniform(low=0.01, high=1, size=n_sample)\n",
    "reversion_speed = uniform(low=0.01, high=3, size=n_sample)\n",
    "gamma = uniform(low=0.01, high=0.8, size=n_sample)\n",
    "rho = uniform(low=-0.9, high=0, size=n_sample)\n",
    "\n",
    "for i in range(n_sample):\n",
    "    S_0 = np.random.choice(init_price, replace=False, size=10)\n",
    "    v_0 = np.random.choice(init_var, replace=False, size=10)\n",
    "    y_data[i,:] = np.array([reversion_speed[i], mean_variance[i], gamma[i], rho[i]])\n",
    "    x_data[i,::] = np.array([[cos_heston_price(S_0[j], K, r, T,\n",
    "                                               mean_variance[i],\n",
    "                                               v_0[k],\n",
    "                                               reversion_speed[i],\n",
    "                                               gamma[i],\n",
    "                                               rho[i],\n",
    "                                               call=True)\n",
    "                              for j in range(S_0.shape[0])]\n",
    "                             for k in range(v_0.shape[0])])\n",
    "x_data = np.where(x_data>1, 1, x_data)\n",
    "x_data = np.where(x_data<0, 0, x_data)"
   ]
  },
  {
   "cell_type": "markdown",
   "metadata": {},
   "source": [
    "**CNN multi-Regression**"
   ]
  },
  {
   "cell_type": "code",
   "execution_count": 8,
   "metadata": {},
   "outputs": [
    {
     "data": {
      "application/vnd.jupyter.widget-view+json": {
       "model_id": "077d81c7e56b4f76b1ce27a165b290e9",
       "version_major": 2,
       "version_minor": 0
      },
      "text/plain": [
       "HBox(children=(FloatProgress(value=0.0, description='CNNRegressor hyper optim', max=30.0, style=ProgressStyle(…"
      ]
     },
     "metadata": {},
     "output_type": "display_data"
    },
    {
     "name": "stdout",
     "output_type": "stream",
     "text": [
      "100%|████████████████████████████████████████████████| 30/30 [02:57<00:00,  5.93s/trial, best loss: 0.1711858871057353]\n",
      "\n",
      "hyperparameters used:\n",
      "{'activation': 'relu', 'hidden_size': 894, 'learning_rate': 2.170582524678732}\n",
      "\n",
      "Time Cost training: 12.529718399047852 seconds\n",
      "mse on train set 0.2357965956244129\n",
      "mse on test set 0.2359220904850561\n"
     ]
    }
   ],
   "source": [
    "from ml_models import CNNRegressor\n",
    "\n",
    "X_train, X_test, y_train,  y_test = train_test_split(x_data, y_data, test_size=0.33, random_state=42)\n",
    "X_train = X_train.reshape(X_train.shape[0], 10,10, 1)\n",
    "X_test = X_test.reshape(X_test.shape[0], 10,10, 1)\n",
    "\n",
    "param_grid = {\n",
    "    'learning_rate': hp.loguniform('learning_rate',np.log(1.), np.log(100)),\n",
    "    'activation': hp.choice('activation', ['relu', 'tanh']),\n",
    "    'hidden_size': hp.choice('hidden_size',[int(x) for x in np.linspace(500, 1000, 20)]),\n",
    "\n",
    "}\n",
    "model = CNNRegressor(\n",
    "    input_shape=(10,10,1),\n",
    "    n_output=4,\n",
    "    epochs=10,\n",
    "    batch_size=200,\n",
    "    loss=\"mse\",\n",
    "    verbose=0\n",
    ")\n",
    "tuning_output = bayesian_tuning(\n",
    "           X_train,\n",
    "           y_train,\n",
    "           model=model,\n",
    "           param_grid=param_grid, \n",
    "           loss_metric='mse',\n",
    "           n_kfold=5,\n",
    "           nb_evals=30,       \n",
    "           optimizer=tpe.suggest\n",
    "    )\n",
    "best_params = tuning_output[0]['hyperparameters']\n",
    "model.epochs = 100\n",
    "print('hyperparameters used:')\n",
    "print(best_params)\n",
    "starttime = time.time()\n",
    "model.fit(X_train, y_train)\n",
    "endtime = time.time()\n",
    "print('\\nTime Cost training:', endtime - starttime, 'seconds')\n",
    "y_hat = model.predict(X_train)\n",
    "y_pred = model.predict(X_test)\n",
    "print('mse on train set', mean_squared_error(y_train, y_hat))\n",
    "print('mse on test set', mean_squared_error(y_test, y_pred))\n"
   ]
  },
  {
   "cell_type": "markdown",
   "metadata": {},
   "source": [
    "**MLP multi-Regression**"
   ]
  },
  {
   "cell_type": "code",
   "execution_count": 9,
   "metadata": {},
   "outputs": [
    {
     "data": {
      "application/vnd.jupyter.widget-view+json": {
       "model_id": "069b5dd6772e4c57885e3633ee131cf1",
       "version_major": 2,
       "version_minor": 0
      },
      "text/plain": [
       "HBox(children=(FloatProgress(value=0.0, description='MLPRegressor hyper optim', max=30.0, style=ProgressStyle(…"
      ]
     },
     "metadata": {},
     "output_type": "display_data"
    },
    {
     "name": "stdout",
     "output_type": "stream",
     "text": [
      "100%|███████████████████████████████████████████████| 30/30 [27:31<00:00, 55.05s/trial, best loss: 0.06246033119474067]\n",
      "\n",
      "hyperparameters used:\n",
      "{'activation': 'sigmoid', 'batch_normalisation': False, 'beta_1': 0.9279104560589684, 'beta_2': 0.9231968462661895, 'dropout': 0.02386329410273856, 'hidden_size': 778, 'hidden_size_2': 168, 'kernel_initializer': 'glorot_uniform', 'learning_rate': 0.0009995539231962155}\n",
      "\n",
      "Time Cost training: 107.16726565361023 seconds\n",
      "mse on train set 0.010390291554666132\n",
      "mse on test set 0.08825610289141314\n"
     ]
    }
   ],
   "source": [
    "X_train, X_test, y_train,  y_test = train_test_split(x_data, y_data, test_size=0.33, random_state=42)\n",
    "X_train = X_train.reshape(-1, X_train.shape[1] * X_train.shape[2])\n",
    "X_test = X_test.reshape(-1,X_test.shape[1] * X_test.shape[2])\n",
    "\n",
    "param_grid = {\n",
    "    'batch_normalisation': hp.choice('batch_normalisation', [True, False]),\n",
    "    'hidden_size': hp.choice('hidden_size',[int(x) for x in np.linspace(300, 1000, 20)]),\n",
    "    'hidden_size_2': hp.choice('hidden_size_2',[None] + [int(x) for x in np.linspace(50, 500, 20)]),\n",
    "    'activation': hp.choice('activation',['relu', 'tanh', 'linear', 'sigmoid' ]),\n",
    "    'dropout':  hp.uniform('dropout', 0., 0.3),\n",
    "    'learning_rate': hp.loguniform('learning_rate',np.log(0.0001), np.log(0.001)),\n",
    "    'kernel_initializer': hp.choice('kernel_initializer', ['glorot_uniform', 'normal', 'uniform']),\n",
    "    'beta_1': hp.uniform('beta_1', 0., 0.99),\n",
    "    'beta_2': hp.uniform('beta_2', 0., 0.99),\n",
    "}\n",
    "model = MLPRegressor(\n",
    "    scaler=StandardScaler(),\n",
    "    n_feature=100,\n",
    "    n_output=4,\n",
    "    epochs=10,\n",
    "    batch_size=200,\n",
    "    loss=\"mse\",\n",
    "    verbose=0\n",
    ")\n",
    "tuning_output = bayesian_tuning(\n",
    "           X_train,\n",
    "           y_train,\n",
    "           model=model,\n",
    "           param_grid=param_grid, \n",
    "           loss_metric='mse',\n",
    "           n_kfold=5,\n",
    "           nb_evals=30,       \n",
    "           optimizer=tpe.suggest\n",
    "    )\n",
    "best_params = tuning_output[0]['hyperparameters']\n",
    "model.epochs = 100\n",
    "print('hyperparameters used:')\n",
    "print(best_params)\n",
    "model.set_params(**best_params)\n",
    "starttime = time.time()\n",
    "model.fit(X_train, y_train)\n",
    "endtime = time.time()\n",
    "print('\\nTime Cost training:', endtime - starttime, 'seconds')\n",
    "y_hat = model.predict(X_train)\n",
    "y_pred = model.predict(X_test)\n",
    "print('mse on train set', mean_squared_error(y_train, y_hat))\n",
    "print('mse on test set', mean_squared_error(y_test, y_pred))\n"
   ]
  },
  {
   "cell_type": "code",
   "execution_count": 10,
   "metadata": {},
   "outputs": [
    {
     "name": "stdout",
     "output_type": "stream",
     "text": [
      "abs error for each parameters:\n"
     ]
    },
    {
     "data": {
      "text/html": [
       "<div>\n",
       "<style scoped>\n",
       "    .dataframe tbody tr th:only-of-type {\n",
       "        vertical-align: middle;\n",
       "    }\n",
       "\n",
       "    .dataframe tbody tr th {\n",
       "        vertical-align: top;\n",
       "    }\n",
       "\n",
       "    .dataframe thead th {\n",
       "        text-align: right;\n",
       "    }\n",
       "</style>\n",
       "<table border=\"1\" class=\"dataframe\">\n",
       "  <thead>\n",
       "    <tr style=\"text-align: right;\">\n",
       "      <th></th>\n",
       "      <th>kappa</th>\n",
       "      <th>v_mean</th>\n",
       "      <th>gamma</th>\n",
       "      <th>rho</th>\n",
       "    </tr>\n",
       "  </thead>\n",
       "  <tbody>\n",
       "    <tr>\n",
       "      <th>mae</th>\n",
       "      <td>0.287787</td>\n",
       "      <td>0.164567</td>\n",
       "      <td>0.222601</td>\n",
       "      <td>0.257717</td>\n",
       "    </tr>\n",
       "    <tr>\n",
       "      <th>mae%</th>\n",
       "      <td>41.125478</td>\n",
       "      <td>88.786276</td>\n",
       "      <td>156.688906</td>\n",
       "      <td>-342.512047</td>\n",
       "    </tr>\n",
       "  </tbody>\n",
       "</table>\n",
       "</div>"
      ],
      "text/plain": [
       "          kappa     v_mean       gamma         rho\n",
       "mae    0.287787   0.164567    0.222601    0.257717\n",
       "mae%  41.125478  88.786276  156.688906 -342.512047"
      ]
     },
     "execution_count": 10,
     "metadata": {},
     "output_type": "execute_result"
    }
   ],
   "source": [
    "error = pd.DataFrame(mean_absolute_error(y_test, y_pred, multioutput = 'raw_values')).T\n",
    "error_perc = np.mean(np.divide(np.abs(y_test - y_pred), y_test)*100, axis=0)\n",
    "error_perc = pd.DataFrame(error_perc).T\n",
    "error = pd.concat([error, error_perc], axis=0)\n",
    "error.rename(columns={0:'kappa', 1:'v_mean', 2:'gamma', 3:'rho'}, inplace=True)\n",
    "error.set_index(np.array(['mae', 'mae%']), inplace=True)\n",
    "print('abs error for each parameters:')\n",
    "error"
   ]
  },
  {
   "cell_type": "markdown",
   "metadata": {},
   "source": [
    "**Use of Monte-Carlo Dropout**"
   ]
  },
  {
   "cell_type": "code",
   "execution_count": 18,
   "metadata": {},
   "outputs": [
    {
     "name": "stdout",
     "output_type": "stream",
     "text": [
      "mse on train set 0.010390291554666132\n",
      "mse on test set 0.08774080312325341\n",
      "MLP Monte-Carlo Dropout mean variance: kappa: 0.05968843400478363 v: 0.04675784334540367 gamma: 0.05713067203760147\n"
     ]
    }
   ],
   "source": [
    "y_pred, std, conf_inf, conf_sup = model.predict(X_test, nb_path=1000)\n",
    "print('mse on train set', mean_squared_error(y_train, y_hat))\n",
    "print('mse on test set', mean_squared_error(y_test, y_pred))\n",
    "print('MLP Monte-Carlo Dropout mean variance:', 'kappa: {}'.format(std[0,:].mean()),\n",
    "      'v: {}'.format(std[1,:].mean()), 'gamma: {}'.format(std[2,:].mean()) )"
   ]
  },
  {
   "cell_type": "markdown",
   "metadata": {},
   "source": [
    "**Gaussian Process**"
   ]
  },
  {
   "cell_type": "code",
   "execution_count": 25,
   "metadata": {},
   "outputs": [
    {
     "name": "stdout",
     "output_type": "stream",
     "text": [
      "\n",
      "Time Cost train: 14.726619482040405 seconds\n",
      "\n",
      "Time Cost predict: 3.8267621994018555 seconds\n",
      "mse on test set 0.16011469581323856\n",
      "mae on test set 0.3018467168558491\n"
     ]
    }
   ],
   "source": [
    "from sklearn.gaussian_process import GaussianProcessRegressor\n",
    "reg = GaussianProcessRegressor()\n",
    "starttime = time.time()\n",
    "reg.fit(X_train, y_train) # train on 10 000 data point is sufficient \n",
    "endtime = time.time()\n",
    "print('\\nTime Cost train:', endtime - starttime, 'seconds')\n",
    "\n",
    "starttime = time.time()\n",
    "y_pred = reg.predict(X_test)\n",
    "endtime = time.time()\n",
    "print('\\nTime Cost predict:', endtime - starttime, 'seconds')\n",
    "mse_test = mean_squared_error(y_test, y_pred)\n",
    "mae_test = mean_absolute_error(y_test, y_pred)\n",
    "print('mse on test set', mse_test)\n",
    "print('mae on test set', mae_test)"
   ]
  }
 ],
 "metadata": {
  "kernelspec": {
   "display_name": "Python 3",
   "language": "python",
   "name": "python3"
  },
  "language_info": {
   "codemirror_mode": {
    "name": "ipython",
    "version": 3
   },
   "file_extension": ".py",
   "mimetype": "text/x-python",
   "name": "python",
   "nbconvert_exporter": "python",
   "pygments_lexer": "ipython3",
   "version": "3.7.6"
  }
 },
 "nbformat": 4,
 "nbformat_minor": 4
}
