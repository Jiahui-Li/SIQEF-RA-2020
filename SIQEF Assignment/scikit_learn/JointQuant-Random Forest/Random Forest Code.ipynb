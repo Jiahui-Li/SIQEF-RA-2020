{
 "cells": [
  {
   "cell_type": "code",
   "execution_count": 1,
   "metadata": {},
   "outputs": [
    {
     "name": "stdout",
     "output_type": "stream",
     "text": [
      "data done\n"
     ]
    }
   ],
   "source": [
    "import talib\n",
    "from jqdata import *\n",
    "\n",
    "test_stock = '399300.XSHE'\n",
    "start_date = datetime.date(2007, 1, 4)\n",
    "end_date = datetime.date(2016, 6, 3)\n",
    "\n",
    "trading_days = list(get_all_trade_days())\n",
    "start_date_index = trading_days.index(start_date)\n",
    "end_date_index = trading_days.index(end_date)\n",
    "\n",
    "x_all = []\n",
    "y_all = []\n",
    "\n",
    "for index in range(start_date_index, end_date_index):\n",
    "    # 得到计算指标的所有数据\n",
    "    start_day = trading_days[index - 30]\n",
    "    end_day = trading_days[index]\n",
    "    stock_data = get_price(test_stock, start_date=start_day, end_date=end_day, frequency='daily', fields=['close'])\n",
    "    close_prices = stock_data['close'].values\n",
    "    \n",
    "    #通过数据计算指标\n",
    "    # -2是保证获取的数据是昨天的，-1就是通过今天的数据计算出来的指标\n",
    "    sma_data = talib.SMA(close_prices)[-2] \n",
    "    wma_data = talib.WMA(close_prices)[-2]\n",
    "    mom_data = talib.MOM(close_prices)[-2]\n",
    "    \n",
    "    features = []\n",
    "    features.append(sma_data)\n",
    "    features.append(wma_data)\n",
    "    features.append(mom_data)\n",
    "    \n",
    "    label = False\n",
    "    if close_prices[-1] > close_prices[-2]:\n",
    "        label = True\n",
    "    x_all.append(features)\n",
    "    y_all.append(label)\n",
    "    \n",
    "\n",
    "# 准备算法需要用到的数据\n",
    "x_train = x_all[: -1]\n",
    "y_train = y_all[: -1]\n",
    "x_test = x_all[-1]\n",
    "y_test = y_all[-1]\n",
    "print('data done')"
   ]
  },
  {
   "cell_type": "code",
   "execution_count": 4,
   "metadata": {},
   "outputs": [
    {
     "name": "stdout",
     "output_type": "stream",
     "text": [
      "[ True]\n",
      "all done\n"
     ]
    }
   ],
   "source": [
    "from sklearn.ensemble import RandomForestClassifier\n",
    "\n",
    "#开始利用机器学习算法计算，括号里面的n_estimators就是森林中包含的树的数目啦\n",
    "clf = RandomForestClassifier(n_estimators=10)\n",
    "#训练的代码\n",
    "clf.fit(x_train, y_train)\n",
    "#得到测试结果的代码\n",
    "prediction = clf.predict(x_test)\n",
    "\n",
    "# 看看预测对了没\n",
    "print(prediction == y_test)\n",
    "print('all done')"
   ]
  },
  {
   "cell_type": "code",
   "execution_count": null,
   "metadata": {
    "collapsed": true
   },
   "outputs": [],
   "source": []
  }
 ],
 "metadata": {
  "kernelspec": {
   "display_name": "Python 3",
   "language": "python",
   "name": "python3"
  },
  "language_info": {
   "codemirror_mode": {
    "name": "ipython",
    "version": 3
   },
   "file_extension": ".py",
   "mimetype": "text/x-python",
   "name": "python",
   "nbconvert_exporter": "python",
   "pygments_lexer": "ipython3",
   "version": "3.6.7"
  },
  "toc": {
   "base_numbering": 1,
   "nav_menu": {},
   "number_sections": false,
   "sideBar": true,
   "skip_h1_title": false,
   "title_cell": "MarkDown菜单",
   "title_sidebar": "Contents",
   "toc_cell": false,
   "toc_position": {},
   "toc_section_display": true,
   "toc_window_display": false
  }
 },
 "nbformat": 4,
 "nbformat_minor": 1
}
