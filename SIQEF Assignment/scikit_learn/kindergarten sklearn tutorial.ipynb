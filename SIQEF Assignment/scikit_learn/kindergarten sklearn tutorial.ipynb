{
 "cells": [
  {
   "cell_type": "markdown",
   "metadata": {},
   "source": [
    "This jupyter is aiming at provide some programming skill for 0-4 year old children limited on my knowledge."
   ]
  },
  {
   "cell_type": "markdown",
   "metadata": {},
   "source": [
    "# Kindergarten machine learning project guidance in python"
   ]
  },
  {
   "cell_type": "markdown",
   "metadata": {},
   "source": [
    "### Author : PHBS SIQEF 2020 Research Assistance Group"
   ]
  },
  {
   "cell_type": "markdown",
   "metadata": {},
   "source": [
    "When you start to code your own machine learning project, the first thing is to import relevant packages. In kindergarten you will usually be scared when you see the adult-level code,'cause they actually import so many packages!  \n",
    "Feel free for that. You will never need to scrutinize all the packages syntex when you begin to code. They just did this in order to be beautiful. You can just import packages whenever you need them. \n",
    "\n",
    "Press M to write some comments, and use multiple # to indicate the title. Use space_space_enter to change to another line. If you meet some problems, try to breath and describe it clearly, then search it in google. You will always get the correct answer within the 20 page results.  \n",
    "\n",
    "If you want to control the size and font of the markdown accurately,<font/><br>you may try </font><font color=#FF0000 size=2 face=\"Times New Roman\">this way."
   ]
  },
  {
   "cell_type": "code",
   "execution_count": 3,
   "metadata": {},
   "outputs": [],
   "source": [
    "# But some basic packages you need to import, which will help you to load data.\n",
    "import pandas as pd\n",
    "import numpy as np\n",
    "# If you want to time your program, you can\n",
    "# import time"
   ]
  },
  {
   "cell_type": "markdown",
   "metadata": {},
   "source": [
    "## 1. Find data"
   ]
  },
  {
   "cell_type": "markdown",
   "metadata": {},
   "source": [
    "Finding relative data is the first step for your project or research. On quantity side, it's always great to find huge quantity data. For the normal machine learning case, it's appropriate to have 1000+ data.  \n",
    "\n",
    "If you want to do something fancy, you can collect your own data. As machine learning needs so much data, usually you need to study beautifulsoup and some web crawler skills\n",
    "\n",
    "But in dimension side, even with the help of auto-algorithms to delete the unnecessary data, I still urge you not to have too much dimension(like 1000+) due to your computer capacity. Actually you can do that if you graduate from kindergarten and get the hand of cloud computing or parallel computing."
   ]
  },
  {
   "cell_type": "code",
   "execution_count": 5,
   "metadata": {},
   "outputs": [],
   "source": [
    "# load local data if you already have it\n",
    "?pd.read_csv\n",
    "?pd.read_excel\n",
    "?pd.read_stata\n",
    "?pd.read_sql\n",
    "# and others …\n",
    "# print pd. then use tab to check the optional and its "
   ]
  },
  {
   "cell_type": "markdown",
   "metadata": {},
   "source": [
    "It's okay if you download data and preprocess it in excel or other software. But in case that you need data from URL, it's convenient if you can input data without download to your local computer and proprecess it in Python.\n",
    "\n",
    "Since not all of the website provide data API,let's use an local data case."
   ]
  },
  {
   "cell_type": "code",
   "execution_count": null,
   "metadata": {},
   "outputs": [],
   "source": [
    "# Data download form https://tianchi.aliyun.com/dataset/dataDetail?dataId=50893\n",
    "# You can also use this platform to code if your local jupyter have some problems. \n",
    "\n"
   ]
  }
 ],
 "metadata": {
  "kernelspec": {
   "display_name": "Python 3",
   "language": "python",
   "name": "python3"
  },
  "language_info": {
   "codemirror_mode": {
    "name": "ipython",
    "version": 3
   },
   "file_extension": ".py",
   "mimetype": "text/x-python",
   "name": "python",
   "nbconvert_exporter": "python",
   "pygments_lexer": "ipython3",
   "version": "3.7.6"
  }
 },
 "nbformat": 4,
 "nbformat_minor": 4
}
