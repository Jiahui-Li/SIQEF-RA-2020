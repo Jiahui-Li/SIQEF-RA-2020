{
 "cells": [
  {
   "cell_type": "markdown",
   "metadata": {
    "toc": true
   },
   "source": [
    "<h1>Table of Contents<span class=\"tocSkip\"></span></h1>\n",
    "<div class=\"toc\"><ul class=\"toc-item\"><li><span><a href=\"#1-基本知识\" data-toc-modified-id=\"1-基本知识-1\">1 基本知识</a></span><ul class=\"toc-item\"><li><span><a href=\"#1.1-变量\" data-toc-modified-id=\"1.1-变量-1.1\">1.1 变量</a></span><ul class=\"toc-item\"><li><span><a href=\"#1.1.1变量的命名\" data-toc-modified-id=\"1.1.1变量的命名-1.1.1\">1.1.1变量的命名</a></span></li><li><span><a href=\"#1.1.2变量的使用\" data-toc-modified-id=\"1.1.2变量的使用-1.1.2\">1.1.2变量的使用<br></a></span></li></ul></li><li><span><a href=\"#1.2-变量的类型\" data-toc-modified-id=\"1.2-变量的类型-1.2\">1.2 变量的类型</a></span><ul class=\"toc-item\"><li><span><a href=\"#1.2.1-变量类型的介绍\" data-toc-modified-id=\"1.2.1-变量类型的介绍-1.2.1\">1.2.1 变量类型的介绍</a></span></li><li><span><a href=\"#1.2.2-变量类型的转换\" data-toc-modified-id=\"1.2.2-变量类型的转换-1.2.2\">1.2.2 变量类型的转换</a></span></li></ul></li><li><span><a href=\"#1.3-运算符\" data-toc-modified-id=\"1.3-运算符-1.3\">1.3 运算符</a></span><ul class=\"toc-item\"><li><span><a href=\"#1.3.1-算术运算符\" data-toc-modified-id=\"1.3.1-算术运算符-1.3.1\">1.3.1 算术运算符</a></span></li><li><span><a href=\"#1.3.2-赋值运算符\" data-toc-modified-id=\"1.3.2-赋值运算符-1.3.2\">1.3.2 赋值运算符</a></span></li></ul></li><li><span><a href=\"#1.4-常用函数\" data-toc-modified-id=\"1.4-常用函数-1.4\">1.4 常用函数</a></span><ul class=\"toc-item\"><li><span><a href=\"#1.4.1-字符串函数\" data-toc-modified-id=\"1.4.1-字符串函数-1.4.1\">1.4.1 字符串函数</a></span></li><li><span><a href=\"#1.4.2-其他函数\" data-toc-modified-id=\"1.4.2-其他函数-1.4.2\">1.4.2 其他函数</a></span></li><li><span><a href=\"#※exec(str.format())应用——动态化语句\" data-toc-modified-id=\"※exec(str.format())应用——动态化语句-1.4.3\">※exec(str.format())应用——动态化语句</a></span></li></ul></li></ul></li><li><span><a href=\"#2.-数据结构\" data-toc-modified-id=\"2.-数据结构-2\">2. 数据结构</a></span><ul class=\"toc-item\"><li><span><a href=\"#2.1-列表与元组\" data-toc-modified-id=\"2.1-列表与元组-2.1\">2.1 列表与元组</a></span><ul class=\"toc-item\"><li><span><a href=\"#2.1.1-列表的定义\" data-toc-modified-id=\"2.1.1-列表的定义-2.1.1\">2.1.1 列表的定义</a></span></li><li><span><a href=\"#2.1.2-修改、添加和删除元素\" data-toc-modified-id=\"2.1.2-修改、添加和删除元素-2.1.2\">2.1.2 修改、添加和删除元素</a></span></li><li><span><a href=\"#2.1.3-列表排序\" data-toc-modified-id=\"2.1.3-列表排序-2.1.3\">2.1.3 列表排序</a></span></li><li><span><a href=\"#2.1.4-快速创建等差数值列表\" data-toc-modified-id=\"2.1.4-快速创建等差数值列表-2.1.4\">2.1.4 快速创建等差数值列表</a></span></li><li><span><a href=\"#2.1.5-列表的切片\" data-toc-modified-id=\"2.1.5-列表的切片-2.1.5\">2.1.5 列表的切片</a></span></li><li><span><a href=\"#2.1.6-元组简介\" data-toc-modified-id=\"2.1.6-元组简介-2.1.6\">2.1.6 元组简介</a></span></li><li><span><a href=\"#两个要点\" data-toc-modified-id=\"两个要点-2.1.7\">两个要点</a></span></li></ul></li><li><span><a href=\"#2.2-集合\" data-toc-modified-id=\"2.2-集合-2.2\">2.2 集合</a></span><ul class=\"toc-item\"><li><span><a href=\"#2.2.1-集合的定义\" data-toc-modified-id=\"2.2.1-集合的定义-2.2.1\">2.2.1 集合的定义</a></span></li><li><span><a href=\"#2.2.2-集合的基本操作\" data-toc-modified-id=\"2.2.2-集合的基本操作-2.2.2\">2.2.2 集合的基本操作</a></span></li><li><span><a href=\"#2.2.3-集合的运算\" data-toc-modified-id=\"2.2.3-集合的运算-2.2.3\">2.2.3 集合的运算</a></span></li><li><span><a href=\"#2.2.4-set()的去重复功能\" data-toc-modified-id=\"2.2.4-set()的去重复功能-2.2.4\">2.2.4 set()的去重复功能</a></span></li></ul></li><li><span><a href=\"#2.3-字典\" data-toc-modified-id=\"2.3-字典-2.3\">2.3 字典</a></span><ul class=\"toc-item\"><li><span><a href=\"#2.3.1-字典的输入\" data-toc-modified-id=\"2.3.1-字典的输入-2.3.1\">2.3.1 字典的输入</a></span></li><li><span><a href=\"#2,3,2-键值的访问，修改，删除，判断\" data-toc-modified-id=\"2,3,2-键值的访问，修改，删除，判断-2.3.2\">2,3,2 键值的访问，修改，删除，判断</a></span></li><li><span><a href=\"#2.3.3-返回键及键值\" data-toc-modified-id=\"2.3.3-返回键及键值-2.3.3\">2.3.3 返回键及键值</a></span></li><li><span><a href=\"#2.3.4-最后，几个概念\" data-toc-modified-id=\"2.3.4-最后，几个概念-2.3.4\">2.3.4 最后，几个概念</a></span></li></ul></li></ul></li><li><span><a href=\"#3.选择\" data-toc-modified-id=\"3.选择-3\">3.选择</a></span><ul class=\"toc-item\"><li><span><a href=\"#3.1.-布尔表达式\" data-toc-modified-id=\"3.1.-布尔表达式-3.1\">3.1. 布尔表达式</a></span><ul class=\"toc-item\"><li><span><a href=\"#3.1.1布尔值\" data-toc-modified-id=\"3.1.1布尔值-3.1.1\">3.1.1布尔值</a></span></li><li><span><a href=\"#3.1.2-比较运算符\" data-toc-modified-id=\"3.1.2-比较运算符-3.1.2\">3.1.2 比较运算符</a></span></li><li><span><a href=\"#3.1.3-逻辑运算符\" data-toc-modified-id=\"3.1.3-逻辑运算符-3.1.3\">3.1.3 逻辑运算符</a></span></li><li><span><a href=\"#3.1.4-成员运算符和身份运算符\" data-toc-modified-id=\"3.1.4-成员运算符和身份运算符-3.1.4\">3.1.4 成员运算符和身份运算符</a></span></li><li><span><a href=\"#3.1.5-运算符运算顺序\" data-toc-modified-id=\"3.1.5-运算符运算顺序-3.1.5\">3.1.5 运算符运算顺序</a></span></li></ul></li><li><span><a href=\"#3.2.-if-else\" data-toc-modified-id=\"3.2.-if-else-3.2\">3.2. if-else</a></span><ul class=\"toc-item\"><li><span><a href=\"#3.2.1-if语句\" data-toc-modified-id=\"3.2.1-if语句-3.2.1\">3.2.1 if语句</a></span></li><li><span><a href=\"#3.2.2-if-else语句\" data-toc-modified-id=\"3.2.2-if-else语句-3.2.2\">3.2.2 if-else语句</a></span></li><li><span><a href=\"#3.2.3-if-elif-else语句和嵌套if\" data-toc-modified-id=\"3.2.3-if-elif-else语句和嵌套if-3.2.3\">3.2.3 if-elif-else语句和嵌套if</a></span></li><li><span><a href=\"#3.2.4-if-else三元表达式\" data-toc-modified-id=\"3.2.4-if-else三元表达式-3.2.4\">3.2.4 if-else三元表达式</a></span></li><li><span><a href=\"#Example:-判定闰年\" data-toc-modified-id=\"Example:-判定闰年-3.2.5\">Example: 判定闰年</a></span></li></ul></li></ul></li><li><span><a href=\"#4.循环\" data-toc-modified-id=\"4.循环-4\">4.循环</a></span><ul class=\"toc-item\"><li><span><a href=\"#4.1-while循环\" data-toc-modified-id=\"4.1-while循环-4.1\">4.1 while循环</a></span><ul class=\"toc-item\"><li><span><a href=\"#Example:-猜数字\" data-toc-modified-id=\"Example:-猜数字-4.1.1\">Example: 猜数字</a></span></li></ul></li><li><span><a href=\"#4.2-for循环\" data-toc-modified-id=\"4.2-for循环-4.2\">4.2 for循环</a></span><ul class=\"toc-item\"><li><span><a href=\"#Example:-能被5整除且至少有一个数字是5的三位数个数\" data-toc-modified-id=\"Example:-能被5整除且至少有一个数字是5的三位数个数-4.2.1\">Example: 能被5整除且至少有一个数字是5的三位数个数</a></span></li></ul></li><li><span><a href=\"#4.3.-break-&amp;-continue\" data-toc-modified-id=\"4.3.-break-&amp;-continue-4.3\">4.3. break &amp; continue</a></span><ul class=\"toc-item\"><li><span><a href=\"#4.3.1.-break\" data-toc-modified-id=\"4.3.1.-break-4.3.1\">4.3.1. break</a></span></li><li><span><a href=\"#4.3.2.-continue\" data-toc-modified-id=\"4.3.2.-continue-4.3.2\">4.3.2. continue</a></span></li><li><span><a href=\"#Example:-完全数\" data-toc-modified-id=\"Example:-完全数-4.3.3\">Example: 完全数</a></span></li></ul></li></ul></li></ul></div>"
   ]
  },
  {
   "cell_type": "markdown",
   "metadata": {
    "slideshow": {
     "slide_type": "-"
    }
   },
   "source": [
    "# 1 基本知识\n",
    "## 1.1 变量\n",
    "### 1.1.1变量的命名\n",
    "\n",
    "<font size=4>1.变量名只能包含</font><font color=#FF0000 size=4>字母</font><font size=4>、</font><font color=#FF0000 size=4>数字</font><font size=4>和</font><font color=#FF0000 size=4>下划线</font><font size=4>，且必须让</font><font color=#FF0000 size=4>字母</font><font size=4>或</font><font color=#FF0000 size=4>下划线</font><font size=4>开头。例如，可将变量命名为message_1，但不能将其命名为1_message </font><br>\n",
    "\n",
    "<font size=4>2.变量名不能包含</font><font color=#FF0000 size=4>空格</font><font size=4>，但可使用</font><font color=#FF0000 size=4>下划线</font><font size=4>来分隔其中的单词。例如，变量名greeting_message可行，但变量名greeting message会引发错误。</font><br>\n",
    "<font size=4>3.不要将Python</font><font color=#FF0000 size=4>关键字</font><font size=4>和</font><font color=#FF0000 size=4>函数名</font><font size=4>用作变量名，即不要使用Python保留用于特殊用途的单词，如print</font>\n"
   ]
  },
  {
   "cell_type": "markdown",
   "metadata": {},
   "source": []
  },
  {
   "cell_type": "markdown",
   "metadata": {},
   "source": [
    "### 1.1.2变量的使用<br>\n",
    "<font size=4>使用print(变量)进行输出</font>"
   ]
  },
  {
   "cell_type": "code",
   "execution_count": 1,
   "metadata": {
    "collapsed": true
   },
   "outputs": [],
   "source": [
    "# 1_message=1"
   ]
  },
  {
   "cell_type": "code",
   "execution_count": 2,
   "metadata": {
    "collapsed": true
   },
   "outputs": [],
   "source": [
    "# message var=1"
   ]
  },
  {
   "cell_type": "code",
   "execution_count": 3,
   "metadata": {
    "collapsed": true
   },
   "outputs": [],
   "source": [
    "print=1"
   ]
  },
  {
   "cell_type": "code",
   "execution_count": 4,
   "metadata": {
    "collapsed": true
   },
   "outputs": [],
   "source": [
    "del print"
   ]
  },
  {
   "cell_type": "code",
   "execution_count": 5,
   "metadata": {},
   "outputs": [
    {
     "name": "stdout",
     "output_type": "stream",
     "text": [
      "1\n",
      "2\n"
     ]
    }
   ],
   "source": [
    "message_1=1\n",
    "_message=2\n",
    "print(message_1)\n",
    "print(_message)"
   ]
  },
  {
   "cell_type": "markdown",
   "metadata": {},
   "source": [
    "## 1.2 变量的类型\n",
    "### 1.2.1 变量类型的介绍\n",
    "<font size=4>1.整数（int）<font/><br>\n",
    "<font size=4>2.浮点数（float）<font/><br>\n",
    "<font size=4>3.字符串（str）<font/><br>\n",
    "<font size=4>4.虚数（complex）——使用'j'作为虚部单位<font/><br>\n",
    "<font size=4>5.逻辑常量/布尔值（bool）<font/><br>\n",
    "<font size=4>6.空值（None）<font/><br>"
   ]
  },
  {
   "cell_type": "code",
   "execution_count": 6,
   "metadata": {},
   "outputs": [
    {
     "name": "stdout",
     "output_type": "stream",
     "text": [
      "1 1.5 haha (2+3j) True None\n"
     ]
    }
   ],
   "source": [
    "a=1\n",
    "b=1.5\n",
    "c='haha'\n",
    "d=2+3j\n",
    "e=True\n",
    "f=None\n",
    "print(a,b,c,d,e,f)"
   ]
  },
  {
   "cell_type": "markdown",
   "metadata": {},
   "source": [
    "<font size=4>另外，我们还可以检测和判断各个变量的类型<font/><br>\n",
    "<font size=4>type(变量)  isinstance(变量, '类型名')<font/>"
   ]
  },
  {
   "cell_type": "code",
   "execution_count": 1,
   "metadata": {},
   "outputs": [
    {
     "ename": "NameError",
     "evalue": "name 'a' is not defined",
     "output_type": "error",
     "traceback": [
      "\u001b[1;31m---------------------------------------------------------------------------\u001b[0m",
      "\u001b[1;31mNameError\u001b[0m                                 Traceback (most recent call last)",
      "\u001b[1;32m<ipython-input-1-ae5393bb4287>\u001b[0m in \u001b[0;36m<module>\u001b[1;34m()\u001b[0m\n\u001b[1;32m----> 1\u001b[1;33m \u001b[0mprint\u001b[0m\u001b[1;33m(\u001b[0m\u001b[0mtype\u001b[0m\u001b[1;33m(\u001b[0m\u001b[0ma\u001b[0m\u001b[1;33m)\u001b[0m\u001b[1;33m,\u001b[0m\u001b[0mtype\u001b[0m\u001b[1;33m(\u001b[0m\u001b[0mb\u001b[0m\u001b[1;33m)\u001b[0m\u001b[1;33m,\u001b[0m\u001b[0mtype\u001b[0m\u001b[1;33m(\u001b[0m\u001b[0mc\u001b[0m\u001b[1;33m)\u001b[0m\u001b[1;33m,\u001b[0m\u001b[0mtype\u001b[0m\u001b[1;33m(\u001b[0m\u001b[0md\u001b[0m\u001b[1;33m)\u001b[0m\u001b[1;33m,\u001b[0m\u001b[0mtype\u001b[0m\u001b[1;33m(\u001b[0m\u001b[0me\u001b[0m\u001b[1;33m)\u001b[0m\u001b[1;33m,\u001b[0m\u001b[0mtype\u001b[0m\u001b[1;33m(\u001b[0m\u001b[0mf\u001b[0m\u001b[1;33m)\u001b[0m\u001b[1;33m)\u001b[0m\u001b[1;33m\u001b[0m\u001b[0m\n\u001b[0m",
      "\u001b[1;31mNameError\u001b[0m: name 'a' is not defined"
     ]
    }
   ],
   "source": [
    "print(type(a),type(b),type(c),type(d),type(e),type(f))"
   ]
  },
  {
   "cell_type": "code",
   "execution_count": 2,
   "metadata": {},
   "outputs": [
    {
     "ename": "NameError",
     "evalue": "name 'a' is not defined",
     "output_type": "error",
     "traceback": [
      "\u001b[1;31m---------------------------------------------------------------------------\u001b[0m",
      "\u001b[1;31mNameError\u001b[0m                                 Traceback (most recent call last)",
      "\u001b[1;32m<ipython-input-2-6e0d51d609d8>\u001b[0m in \u001b[0;36m<module>\u001b[1;34m()\u001b[0m\n\u001b[1;32m----> 1\u001b[1;33m \u001b[0misinstance\u001b[0m\u001b[1;33m(\u001b[0m\u001b[0ma\u001b[0m\u001b[1;33m,\u001b[0m\u001b[0mint\u001b[0m\u001b[1;33m)\u001b[0m\u001b[1;33m,\u001b[0m\u001b[0misinstance\u001b[0m\u001b[1;33m(\u001b[0m\u001b[0mb\u001b[0m\u001b[1;33m,\u001b[0m\u001b[0mint\u001b[0m\u001b[1;33m)\u001b[0m\u001b[1;33m\u001b[0m\u001b[0m\n\u001b[0m",
      "\u001b[1;31mNameError\u001b[0m: name 'a' is not defined"
     ]
    }
   ],
   "source": [
    "isinstance(a,int),isinstance(b,int)"
   ]
  },
  {
   "cell_type": "markdown",
   "metadata": {},
   "source": [
    "### 1.2.2 变量类型的转换\n",
    "<font size=4>1.字符串或浮点型转为整型——int(变量)，如果是小数，</font><font color=#FF0000 size=4>向下取整<font/><br>\n",
    "<font color=#000000 size=4>2.其他类型转为字符串——str(变量)<font/>"
   ]
  },
  {
   "cell_type": "code",
   "execution_count": 9,
   "metadata": {},
   "outputs": [
    {
     "name": "stdout",
     "output_type": "stream",
     "text": [
      "('123', <class 'str'>) (3.3, <class 'float'>) (3.9, <class 'float'>) (256.4, <class 'float'>)\n",
      "(123, <class 'int'>) (3, <class 'int'>) (3, <class 'int'>) ('256.4', <class 'str'>)\n"
     ]
    }
   ],
   "source": [
    "a='123'\n",
    "b=3.3\n",
    "c=3.9\n",
    "d=256.4\n",
    "print((a,type(a)),(b,type(b)),(c,type(c)),(d,type(d)))\n",
    "a=int(a)\n",
    "b=int(b)\n",
    "c=int(c)\n",
    "d=str(d)\n",
    "print((a,type(a)),(b,type(b)),(c,type(c)),(d,type(d)))"
   ]
  },
  {
   "cell_type": "markdown",
   "metadata": {},
   "source": [
    "## 1.3 运算符\n",
    "### 1.3.1 算术运算符\n",
    "<font size=4>+ 加法（对于str变量，可起到</font><font color=#FF0000 size=4>连接字符串</font><font color=#000000 size=4>的作用）<font/><br>\n",
    "<font size=4>- 减法<font/><br>\n",
    "<font size=4>* 乘法<font/><br>\n",
    "<font size=4>/ 除法（即便</font><font color=#FF0000 size=4>能够整除</font><font size=4>，结果也会是</font><font color=#FF0000 size=4>float</font><font size=4>）<font/><br>\n",
    "<font size=4>** 幂<font/><br>\n",
    "<font size=4>// 整除（<font/><font color=#FF0000 size=4>向下取整<font/><font color=#FF0000 size=4>）<font/><br>"
   ]
  },
  {
   "cell_type": "code",
   "execution_count": 10,
   "metadata": {},
   "outputs": [
    {
     "name": "stdout",
     "output_type": "stream",
     "text": [
      "4 \n",
      " hahahihi \n",
      " 1 \n",
      " 9 \n",
      " 2.0 <class 'float'> \n",
      " 16 \n",
      " 2\n"
     ]
    }
   ],
   "source": [
    "print(2+2,'\\n',\n",
    "      'haha'+'hihi','\\n',\n",
    "      2-1,'\\n',\n",
    "      3*3,'\\n',\n",
    "      4/2,type(4/2),'\\n',\n",
    "      2**4,'\\n',\n",
    "      9//4)"
   ]
  },
  {
   "cell_type": "markdown",
   "metadata": {},
   "source": [
    "### 1.3.2 赋值运算符\n",
    "\n",
    "<br><font size=4> +=&emsp;&emsp;&emsp;加法赋值运算符&emsp;&emsp;&emsp;c += a 等效于 c = c + a<font/><br>\n",
    "<font size=4> -=&emsp;&emsp;&emsp;减法赋值运算符&emsp;&emsp;&emsp;c -= a 等效于 c = c - a<font/><br>\n",
    "<font size=4> \\*=&emsp;&emsp;&emsp;乘法赋值运算符&emsp;&emsp;&emsp;c \\*= a 等效于 c = c * a<font/><br>\n",
    "<font size=4> /=&emsp;&emsp;&emsp;除法赋值运算符&emsp;&emsp;&emsp;c /= a 等效于 c = c / a<font/><br>\n",
    "<font size=4> %=&emsp;&emsp;&emsp;取模赋值运算符&emsp;&emsp;&emsp;c %= a 等效于 c = c % a<font/><br>\n",
    "<font size=4> \\**=&emsp;&emsp;&emsp;幂赋值运算符&emsp;&emsp;&emsp;&emsp;c \\**= a 等效于 c = c \\** a<font/><br>\n",
    "<font size=4> //=&emsp;&emsp;&emsp;取整除赋值运算符&emsp;&emsp;&emsp;c //= a 等效于 c = c // a<font/><br>"
   ]
  },
  {
   "cell_type": "code",
   "execution_count": 11,
   "metadata": {},
   "outputs": [
    {
     "name": "stdout",
     "output_type": "stream",
     "text": [
      "10\n",
      "12\n",
      "10\n",
      "20\n",
      "10.0\n",
      "100.0\n",
      "9.0\n"
     ]
    }
   ],
   "source": [
    "c=10\n",
    "a=2\n",
    "print(c)\n",
    "c+=a\n",
    "print(c)\n",
    "c-=a\n",
    "print(c)\n",
    "c*=a\n",
    "print(c)\n",
    "c/=a\n",
    "print(c)\n",
    "c**=2\n",
    "print(c)\n",
    "c//=11\n",
    "print(c)"
   ]
  },
  {
   "cell_type": "markdown",
   "metadata": {},
   "source": [
    "## 1.4 常用函数\n",
    "### 1.4.1 字符串函数\n",
    "<font size=4>str.title()&emsp;字符串中每个单词首字母大写，其余小写<font/><br>\n",
    "<font size=4>str.upper()&emsp;字符串中所有字母大写<font/><br>\n",
    "<font size=4>str.lower()&emsp;字符串中所有字母小写<font/><br>\n",
    "<font size=4>str.swapcase()&emsp;大写字母转小写，小写字母转大写<font/><br>\n",
    "<font size=4>str.rstrip()&emsp;去掉字符串后面的空格<font/><br>\n",
    "<font size=4>str.lstrip()&emsp;去掉字符串前面的空格<font/><br>\n",
    "<font size=4>str.strip()&emsp;去掉字符串前面和后面的空格<font/><br>\n",
    "\n"
   ]
  },
  {
   "cell_type": "code",
   "execution_count": 12,
   "metadata": {},
   "outputs": [
    {
     "name": "stdout",
     "output_type": "stream",
     "text": [
      "Oooo OOOO oooo OOoo \n",
      " Hello World  \n",
      "  Hello World \n",
      " Hello World\n"
     ]
    }
   ],
   "source": [
    "print('oOOO'.title(),\n",
    "    'oooo'.upper(),\n",
    "    'OOOO'.lower(),\n",
    "    'ooOO'.swapcase(),'\\n',\n",
    "    ' Hello World '.lstrip(),'\\n',\n",
    "    ' Hello World '.rstrip(),'\\n',\n",
    "    ' Hello World '.strip())"
   ]
  },
  {
   "cell_type": "markdown",
   "metadata": {},
   "source": [
    "<font size=4>str2.split(str1)&emsp;返回一个列表，列表的元素是以str1作为分隔符对str2进行切片,str1默认为空格<font/><br>\n",
    "<font size=4>str2.splitlines()&emsp;返回一个列表，列表的元素是以换行为分隔符，对str2进行切片<font/><br>\n",
    "<font size=4>str1.join(seq)&emsp;以指定字符串作为分隔符，将seq(list, tuple, string)中的所有元素合并成为一个新的字符串<font/><br>\n",
    "<font size=4>str.replace(old, new[, count])&emsp;使用新字符串替换旧字符串,count指定替换前几个，若不指定，则全部替换<font/><br>"
   ]
  },
  {
   "cell_type": "code",
   "execution_count": 13,
   "metadata": {},
   "outputs": [
    {
     "name": "stdout",
     "output_type": "stream",
     "text": [
      "['hahah', 'hahah'] \n",
      " ['h', 'h', 'h h', 'h', 'h'] \n",
      " 12,34 \n",
      " 1,2,3,4 \n",
      " hahahahah \n",
      " hahahAhAh\n"
     ]
    }
   ],
   "source": [
    "print('hahah hahah'.split(),'\\n',\n",
    "      'hahah hahah'.split('a'),'\\n',\n",
    "      ','.join(['12','34']),'\\n',\n",
    "      ','.join('1234'),'\\n',\n",
    "      'hAhAhAhAh'.replace('A','a'),'\\n',\n",
    "      'hAhAhAhAh'.replace('A','a',2))"
   ]
  },
  {
   "cell_type": "markdown",
   "metadata": {},
   "source": [
    "<font size=4>str.center(width[,fillchar])&emsp;返回一个指定宽度的居中字符串，并在两侧填充fillchar指定的字符，若未指定，则默认使用空格<font/><br>\n",
    "<font size=4>str.ljust(width[,fillchar])&emsp;返回一个指定宽度左对齐的字符串，并在右侧填充fillchar指定的字符<font/><br>\n",
    "<font size=4>str.rjust(width[,fillchar])&emsp;返回一个指定宽度右对齐的字符串，并在左侧填充fillchar指定的字符<font/><br>\n",
    "<font size=4>str.zfill(width)&emsp;返回一个长度为width的字符串，原字符右对齐，前面补0<font/><br>\n",
    "<font size=4>str2.count(str1[,start,end])&emsp;返回str1在str2中出现的次数，可以指定一个范围，若不指定则默认查找整个字符串，区分大小写<font/><br>\n",
    "<font size=4>str2.find(str1[,start,end])&emsp;从左往右检测str2，返回str1第一次出现在str2中的下标。若找不到则返回-1，可以指定查询的范围，若不指定则默认查询整个字符串<font/><br>\n",
    "<font size=4>str2.rfind(str1[,start,end])&emsp;从右往左检测str2<font/><br>"
   ]
  },
  {
   "cell_type": "code",
   "execution_count": 14,
   "metadata": {},
   "outputs": [
    {
     "name": "stdout",
     "output_type": "stream",
     "text": [
      "**haha** \n",
      " haha**** \n",
      " ****haha \n",
      " 0000haha \n",
      " 2 \n",
      " 4 \n",
      " 5 \n",
      " 1 \n",
      " 3 \n",
      " 7 \n",
      "\n"
     ]
    }
   ],
   "source": [
    "print('haha'.center(8,'*'),'\\n',\n",
    "    'haha'.ljust(8,'*'),'\\n',\n",
    "    'haha'.rjust(8,'*'),'\\n',\n",
    "    'haha'.zfill(8),'\\n',\n",
    "    'hahahaha'.count('a',0,4),'\\n',\n",
    "    'hahahaha'.count('a'),'\\n',\n",
    "    'hahahaha'.find('a',4,8),'\\n',\n",
    "    'hahahaha'.find('a'),'\\n',\n",
    "    'hahahaha'.rfind('a',0,4),'\\n',\n",
    "    'hahahaha'.rfind('a'),'\\n')"
   ]
  },
  {
   "cell_type": "markdown",
   "metadata": {},
   "source": [
    "### 1.4.2 其他函数\n",
    "<font size=4>输入函数input()：&emsp;要将输入内容存入的变量=input('输入提示')<font/><br>\n",
    "<font size=4>eval(str)将字符串激活为语句（不包含等号'='）；包含等号：exec(str)<font/><br>\n",
    "<font size=4>组合使用：eval(input('请输入数字：'))<font/><br>"
   ]
  },
  {
   "cell_type": "code",
   "execution_count": 15,
   "metadata": {},
   "outputs": [
    {
     "name": "stdout",
     "output_type": "stream",
     "text": [
      "请输入字符串:haha\n",
      "请输入数字：3\n",
      "haha \n",
      " 16 \n",
      " 8 \n",
      " 5\n"
     ]
    }
   ],
   "source": [
    "ss=input('请输入字符串:')\n",
    "a=eval('2**4')\n",
    "exec('b=2**3')\n",
    "#c=input('请输入数字：')\n",
    "c=eval(input('请输入数字：'))\n",
    "print(ss,'\\n',\n",
    "      a,'\\n',\n",
    "      b,'\\n',\n",
    "      c+2)"
   ]
  },
  {
   "cell_type": "markdown",
   "metadata": {},
   "source": [
    "<font size=4>求长函数len()：&emsp;可求出str, list, tuple, set等数据类型中元素的个数<font/><br>"
   ]
  },
  {
   "cell_type": "code",
   "execution_count": 16,
   "metadata": {
    "scrolled": true
   },
   "outputs": [
    {
     "name": "stdout",
     "output_type": "stream",
     "text": [
      "4 4 3 2\n"
     ]
    }
   ],
   "source": [
    "a='haha'\n",
    "b=[1,2,3,4]\n",
    "c=(1,2,3)\n",
    "d={2,3}\n",
    "print(len(a),len(b),len(c),len(d))"
   ]
  },
  {
   "cell_type": "markdown",
   "metadata": {},
   "source": [
    "<font size=4>绝对值函数abs()<font/><br>\n",
    "<font size=4>最大值函数max()<font/><br>\n",
    "<font size=4>最小值函数min()<font/><br>\n",
    "<font size=4>指数函数pow(x,y)：&emsp;x是底数，y是指数<font/><br>\n",
    "<font size=4>四舍五入函数round(num,n)：&emsp;num是数字，n是精度<font/><br>"
   ]
  },
  {
   "cell_type": "code",
   "execution_count": 17,
   "metadata": {},
   "outputs": [
    {
     "name": "stdout",
     "output_type": "stream",
     "text": [
      "3 \n",
      " 3 \n",
      " 3 \n",
      " 1 \n",
      " 8 \n",
      " 2.346\n"
     ]
    }
   ],
   "source": [
    "print(abs(3),'\\n',\n",
    "     abs(-3),'\\n',\n",
    "     max([1,2,3]),'\\n',\n",
    "     min([1,2,3]),'\\n',\n",
    "     pow(2,3),'\\n',\n",
    "     round(2.346346,3))"
   ]
  },
  {
   "cell_type": "markdown",
   "metadata": {},
   "source": [
    "<font size=4>进制转换函数：&emsp;bin()二进制&emsp;oct()八进制&emsp;hex()十六进制<font/><br>\n",
    "<font size=4>转回十进制：int()&emsp;int('数字字符串',数字字符串所隐含的非十进制)<font/><br>"
   ]
  },
  {
   "cell_type": "code",
   "execution_count": 18,
   "metadata": {},
   "outputs": [
    {
     "name": "stdout",
     "output_type": "stream",
     "text": [
      "0b10001 \n",
      " 0o21 \n",
      " 0x11 \n",
      " 17 \n",
      " 17 \n",
      " 17\n"
     ]
    }
   ],
   "source": [
    "print(bin(17),'\\n',\n",
    "     oct(17),'\\n',\n",
    "     hex(17),'\\n',\n",
    "     int('10001',2),'\\n',\n",
    "     int('21',8),'\\n',\n",
    "     int('11',16))"
   ]
  },
  {
   "cell_type": "markdown",
   "metadata": {},
   "source": [
    "<font size=4>字符串格式化函数:format()&emsp;具体用法：<font/><br>\n",
    "<font size=4>'{index(number):fill (<^>) width , .precise type}'.format(变量/常量，变量/常量)<font/><br>\n",
    "<font size=4>type包含：d(十进制) b(二进制) o(八进制) x(十六进制) f(浮点数) e(科学计数法) %(百分数) s(字符串)<font/><br>"
   ]
  },
  {
   "cell_type": "code",
   "execution_count": 19,
   "metadata": {},
   "outputs": [
    {
     "name": "stdout",
     "output_type": "stream",
     "text": [
      "35\n",
      "35\n",
      "53\n",
      "\n",
      "\n",
      "345**\n",
      "*345*\n",
      "**345\n",
      "****345\n",
      "\n",
      "\n",
      "0345\n",
      "12345\n",
      "\n",
      "\n",
      "345.23423\n",
      "12345.23400\n",
      "12,345.23400\n"
     ]
    }
   ],
   "source": [
    "print('{}{}'.format(3,5))\n",
    "print('{0}{1}'.format(3,5))\n",
    "print('{1}{0}'.format(3,5))\n",
    "print('\\n')\n",
    "print('{:*<5}'.format(345))\n",
    "print('{:*^5}'.format(345))\n",
    "print('{:*>5}'.format(345))\n",
    "print('{:*>7}'.format(345))\n",
    "print('\\n')\n",
    "print('{:04}'.format(345))\n",
    "print('{:04}'.format(12345))\n",
    "print('\\n')\n",
    "print('{:04.5f}'.format(345.234234))\n",
    "print('{:04.5f}'.format(12345.234))\n",
    "print('{:04,.5f}'.format(12345.234))"
   ]
  },
  {
   "cell_type": "code",
   "execution_count": 20,
   "metadata": {},
   "outputs": [
    {
     "name": "stdout",
     "output_type": "stream",
     "text": [
      "123\n",
      "123.450000\n",
      "1.234500e+02\n",
      "12345.000000%\n",
      "1111011\n",
      "173\n",
      "7b\n",
      "123.45\n"
     ]
    }
   ],
   "source": [
    "print('{:d}'.format(123))\n",
    "print('{:f}'.format(123.45))\n",
    "print('{:e}'.format(123.45))\n",
    "print('{:%}'.format(123.45))\n",
    "print('{:b}'.format(123))\n",
    "print('{:o}'.format(123))\n",
    "print('{:x}'.format(123))\n",
    "print('{:s}'.format('123.45'))"
   ]
  },
  {
   "cell_type": "markdown",
   "metadata": {},
   "source": [
    "### ※exec(str.format())应用——动态化语句\n",
    "<font size=4>语句结构类似，无需重复输入<font/>"
   ]
  },
  {
   "cell_type": "code",
   "execution_count": 21,
   "metadata": {},
   "outputs": [
    {
     "name": "stdout",
     "output_type": "stream",
     "text": [
      "{'zz': 'zz1'}\n",
      "dicts['aa']='aa1'\n",
      "dicts['bb']='bb1'\n",
      "dicts['cc']='cc1'\n",
      "dicts['dd']='dd1'\n",
      "{'zz': 'zz1', 'aa': 'aa1', 'bb': 'bb1', 'cc': 'cc1', 'dd': 'dd1'}\n"
     ]
    }
   ],
   "source": [
    "dicts={'zz':'zz1'}\n",
    "print(dicts)\n",
    "for c in ['aa','bb','cc','dd']:\n",
    "    cmd=\"dicts['{}']='{}'\".format(c,c+'1')\n",
    "    print(cmd)\n",
    "    exec(cmd)\n",
    "print(dicts)    "
   ]
  },
  {
   "cell_type": "markdown",
   "metadata": {},
   "source": [
    "# 2. 数据结构\n",
    "## 2.1 列表与元组\n",
    "### 2.1.1 列表的定义\n",
    "<font size=4>list是一种有序的集合，可以随时添加和删除其中的元素。<font/><br>\n",
    "<font size=4>访问方法：list[index]，index是从0开始的自然数（从左到右）；若index为负数，则从右到左<font/><br>"
   ]
  },
  {
   "cell_type": "code",
   "execution_count": 22,
   "metadata": {},
   "outputs": [
    {
     "name": "stdout",
     "output_type": "stream",
     "text": [
      "1\n",
      "5\n",
      "5\n",
      "3\n"
     ]
    }
   ],
   "source": [
    "lists=[1,2,3,4,5]\n",
    "print(lists[0])\n",
    "print(lists[4])\n",
    "print(lists[-1])\n",
    "print(lists[-3])"
   ]
  },
  {
   "cell_type": "markdown",
   "metadata": {},
   "source": [
    "### 2.1.2 修改、添加和删除元素\n",
    "<font size=4>修改：list[index]=new_element<font/><br>\n",
    "<font size=4>添加：<font/><br>\n",
    "<font size=4>&emsp;①队尾添加：list.append(new_element)<font/><br>\n",
    "<font size=4>&emsp;②插队添加：list.insert(index,new_element)，在第index个元素前进行插入，使new_element成为第index个元素<font/><br>\n",
    "<font size=4>删除：<font/><br>\n",
    "<font size=4>&emsp;①直接删除（后面的会往前顶替）：del list[index]<font/><br>\n",
    "<font size=4>&emsp;②删除最后一个元素：list.pop()<font/><br>\n",
    "<font size=4>&emsp;③删除第index个元素：list.pop(index)<font/><br>\n",
    "<font size=4>&emsp;④删除值为element的元素（一次只删除一个，从左到右）：list.remove(element)<font/><br>"
   ]
  },
  {
   "cell_type": "code",
   "execution_count": 23,
   "metadata": {},
   "outputs": [
    {
     "name": "stdout",
     "output_type": "stream",
     "text": [
      "[1, 2, 100, 4, 5]\n",
      "[1, 2, 100, 4, 5, 101]\n",
      "[1, 2, 100, 102, 4, 5, 101]\n",
      "[1, 2, 102, 4, 5, 101]\n",
      "[1, 2, 102, 4, 5]\n",
      "[1, 2, 4, 5]\n",
      "[1, 2, 5]\n"
     ]
    }
   ],
   "source": [
    "lists=[1,2,3,4,5]\n",
    "lists[2]=100\n",
    "print(lists)\n",
    "lists.append(101)\n",
    "print(lists)\n",
    "lists.insert(3,102)\n",
    "print(lists)\n",
    "del lists[2]\n",
    "print(lists)\n",
    "lists.pop()\n",
    "print(lists)\n",
    "lists.pop(2)\n",
    "print(lists)\n",
    "lists.remove(4)\n",
    "print(lists)"
   ]
  },
  {
   "cell_type": "markdown",
   "metadata": {},
   "source": [
    "### 2.1.3 列表排序\n",
    "<font size=4>①直接操作型：<font/><br>\n",
    "<font size=4>&emsp;升序：list.sort()&emsp;降序：list.sort(reverse=True)&emsp;反序：list.reverse()<font/><br>\n",
    "<font size=4>②函数性（保留原本，产生副本）：<font/><br>\n",
    "<font size=4>&emsp;升序：sorted(list)&emsp;降序：sorted(list,reverse=True)<font/><br>"
   ]
  },
  {
   "cell_type": "code",
   "execution_count": 24,
   "metadata": {},
   "outputs": [
    {
     "name": "stdout",
     "output_type": "stream",
     "text": [
      "[5, 3, 1, 2, 4]\n",
      "[1, 2, 3, 4, 5]\n",
      "[5, 4, 3, 2, 1]\n",
      "\n",
      "\n",
      "[1, 2, 3, 4, 5] [5, 4, 3, 2, 1] [4, 2, 1, 3, 5]\n"
     ]
    }
   ],
   "source": [
    "lists=[4,2,1,3,5]\n",
    "lists.reverse()\n",
    "#print(lists.reverse())\n",
    "print(lists)\n",
    "lists.sort()\n",
    "print(lists)\n",
    "lists.sort(reverse=True)\n",
    "print(lists)\n",
    "print('\\n')\n",
    "lists=[4,2,1,3,5]\n",
    "print(sorted(lists),sorted(lists,reverse=True),lists)"
   ]
  },
  {
   "cell_type": "markdown",
   "metadata": {},
   "source": [
    "### 2.1.4 快速创建等差数值列表\n",
    "<font size=4>①从0到n-1：list(range(n))<font/><br>\n",
    "<font size=4>②从i到j-1：list(range(i, j))<font/><br>\n",
    "<font size=4>③公差不等于1但是是正整数,从a到b-1(或者比b-1小的整数)：list(range(a,b,step))<font/><br>\n",
    "<font size=4>④创建减序列，不仅需要让step为负，还要通过令arg1>arg2的方式实现<font/><br>"
   ]
  },
  {
   "cell_type": "code",
   "execution_count": 25,
   "metadata": {},
   "outputs": [
    {
     "name": "stdout",
     "output_type": "stream",
     "text": [
      "[0, 1, 2, 3, 4, 5, 6, 7, 8, 9]\n",
      "[3, 4, 5, 6, 7]\n",
      "[0, 2, 4, 6, 8]\n",
      "[0, 2, 4, 6, 8, 10]\n",
      "[]\n",
      "[10, 8, 6, 4, 2]\n"
     ]
    }
   ],
   "source": [
    "print(list(range(10)))\n",
    "print(list(range(3,8)))\n",
    "print(list(range(0,10,2)))\n",
    "print(list(range(0,11,2)))\n",
    "print(list(range(0,10,-2)))\n",
    "print(list(range(10,0,-2)))"
   ]
  },
  {
   "cell_type": "markdown",
   "metadata": {},
   "source": [
    "### 2.1.5 列表的切片\n",
    "<font size=4>①使用从第a个到第b-1个的元素：list[a:b]<font/><br>\n",
    "<font size=4>②从头到第b-1个元素：list[:b]<font/><br>\n",
    "<font size=4>③从第a个到最后一个元素：list[a:]<font/><br>\n",
    "<font size=4>④从头到倒数第b+1个元素：[:-b]<font/><br>\n",
    "<font size=4>⑤从倒数第a个到最后一个元素：list[-a:]<font/><br>\n",
    "<font size=4>⑥全部元素：list[:]<font/><br>\n",
    "<font size=4>※和对字符串的访问方法一样<font/><br>\n",
    "<font size=4>※对于复合数据类型，来回复制的时候，不能直接使用'='，对于list，要使用New_list=list[:]，否则New_list只会成为list的引用（别名），对New_list进行操作会同步影响list<font/><br>"
   ]
  },
  {
   "cell_type": "code",
   "execution_count": 26,
   "metadata": {},
   "outputs": [
    {
     "name": "stdout",
     "output_type": "stream",
     "text": [
      "[4, 5, 6, 7, 8]\n",
      "[1, 2, 3, 4, 5, 6, 7, 8]\n",
      "[4, 5, 6, 7, 8, 9]\n",
      "[1, 2, 3, 4, 5, 6]\n",
      "[3, 4, 5, 6, 7, 8, 9]\n",
      "[1, 2, 3, 4, 5, 6, 7, 8, 9]\n",
      "45678\n",
      "12345678\n",
      "456789\n",
      "123456\n",
      "3456789\n",
      "123456789\n"
     ]
    }
   ],
   "source": [
    "lists=[1,2,3,4,5,6,7,8,9]\n",
    "string='123456789'\n",
    "print(lists[3:8])\n",
    "print(lists[:8])\n",
    "print(lists[3:])\n",
    "print(lists[:-3])\n",
    "print(lists[-7:])\n",
    "print(lists[:])\n",
    "print(string[3:8])\n",
    "print(string[:8])\n",
    "print(string[3:])\n",
    "print(string[:-3])\n",
    "print(string[-7:])\n",
    "print(string[:])"
   ]
  },
  {
   "cell_type": "markdown",
   "metadata": {},
   "source": [
    "### 2.1.6 元组简介\n",
    "<font size=4>元组使用'()'进行定义（初始化），而非'[]'。实质上就是只可读，不可写的列表，即<font/><br>\n",
    "<font size=4>①可以访问<font/><br>\n",
    "<font size=4>②可以返回排序后的副本（不可直接操作排序）<font/><br>\n",
    "<font size=4>③不可添加元素<font/><br>\n",
    "<font size=4>④不可删除元素<font/><br><br>\n",
    "<font size=4>元组和列表可以通过函数进行相互转换：<font/><br>\n",
    "<font size=4>①元组→列表，list(元组)<font/><br>\n",
    "<font size=4>②列表→元组，tuple(列表)<font/><br>"
   ]
  },
  {
   "cell_type": "code",
   "execution_count": 27,
   "metadata": {
    "scrolled": false
   },
   "outputs": [
    {
     "name": "stdout",
     "output_type": "stream",
     "text": [
      "1 4\n",
      "[1, 1, 2, 4]\n",
      "[1, 2, 4, 1]\n",
      "(1, 2, 4, 1)\n"
     ]
    }
   ],
   "source": [
    "tuples=(1,2,4,1)\n",
    "print(tuples[0],tuples[2])\n",
    "print(sorted(tuples))\n",
    "#a=tuples.sort()\n",
    "#tuples.append(2)\n",
    "#tuples[2]=1\n",
    "#del tuples[2]\n",
    "a=list(tuples)\n",
    "print(a)\n",
    "b=tuple(a)\n",
    "print(b)"
   ]
  },
  {
   "cell_type": "markdown",
   "metadata": {},
   "source": [
    "### 两个要点\n",
    "<font size=4>1. 如果要初始只有一个元素的元组，则应a=(元素,)<font/><br>\n",
    "<font size=4>2. 如果元组中存在非元组类型的复合类型数据元素，则在某种程度上，改元组是可写的<font/><br>"
   ]
  },
  {
   "cell_type": "code",
   "execution_count": 28,
   "metadata": {},
   "outputs": [
    {
     "name": "stdout",
     "output_type": "stream",
     "text": [
      "(1,)\n",
      "(1, 2, [1, 2, 3])\n"
     ]
    }
   ],
   "source": [
    "b=(1,) #如果不加逗号的话，变量则会被初始化为第一个元素本身\n",
    "print(b)\n",
    "a=(1,2,[1,2])\n",
    "a[2].append(3)\n",
    "print(a)"
   ]
  },
  {
   "cell_type": "markdown",
   "metadata": {},
   "source": [
    "## 2.2 集合\n",
    "### 2.2.1 集合的定义\n",
    "<font size=4>集合（set）是一个无序的不重复元素序列<font/><br>\n",
    "<font size=4>初始化一个空集合的方法：set()，不可以是代表空字典的{}<font/><br>"
   ]
  },
  {
   "cell_type": "code",
   "execution_count": 29,
   "metadata": {},
   "outputs": [
    {
     "name": "stdout",
     "output_type": "stream",
     "text": [
      "set() <class 'set'> {} <class 'dict'>\n"
     ]
    }
   ],
   "source": [
    "s=set()\n",
    "ss={}\n",
    "print(s,type(s),ss,type(ss))"
   ]
  },
  {
   "cell_type": "markdown",
   "metadata": {},
   "source": [
    "### 2.2.2 集合的基本操作\n",
    "<font size=4>1.添加元素：<font/><br>\n",
    "<font size=4>&emsp;①set.add(新元素)，若该元素已存在<font/><br>\n",
    "<font size=4>&emsp;②set.update(新元素或复合数据结构（list, tuple, set等）)<font/><br>\n",
    "<font size=4>2.删除元素<font/><br>\n",
    "<font size=4>&emsp;①set.remove(元素)，如果指定元素不存在，则会发生错误<font/><br>\n",
    "<font size=4>&emsp;②set.discard(元素)，如果指定元素不存在，不会发生错误<font/><br>\n",
    "<font size=4>&emsp;③set.pop()，随机删除一个元素，在交互式界面会删除显示的第一个元素<font/><br>\n",
    "<font size=4>3.清空集合：set.clear()<font/><br>"
   ]
  },
  {
   "cell_type": "code",
   "execution_count": 30,
   "metadata": {},
   "outputs": [
    {
     "name": "stdout",
     "output_type": "stream",
     "text": [
      "{1, 2, 3, 4, 5, 6}\n",
      "{1, 2, 3, 4, 5, 6, 7, 8, 'a', 'b', 'c', '0', '9'}\n",
      "{1, 2, 3, 5, 6, 7, 8, 'a', 'b', 'c', '0', '9'}\n",
      "{1, 3, 5, 6, 7, 8, 'a', 'b', 'c', '0', '9'}\n",
      "{1, 3, 5, 6, 7, 8, 'a', 'b', 'c', '0', '9'}\n",
      "{3, 5, 6, 7, 8, 'a', 'b', 'c', '0', '9'}\n",
      "set()\n"
     ]
    }
   ],
   "source": [
    "seta={1,2,3,4,5}\n",
    "seta.add(6)\n",
    "print(seta)\n",
    "seta.update([6,7,8])\n",
    "seta.update('90')\n",
    "seta.update(('a','b','c'))\n",
    "print(seta)\n",
    "seta.remove(4)\n",
    "print(seta)\n",
    "#seta.remove(4)\n",
    "seta.discard(2)\n",
    "print(seta)\n",
    "seta.discard(2)\n",
    "print(seta)\n",
    "seta.pop()\n",
    "print(seta)\n",
    "seta.clear()\n",
    "print(seta)"
   ]
  },
  {
   "cell_type": "markdown",
   "metadata": {},
   "source": [
    "### 2.2.3 集合的运算\n",
    "<font size=4>1.差集：seta-setb<font/><br>\n",
    "<font size=4>2.并集：seta|setb<font/><br>\n",
    "<font size=4>3.交集：seta&setb<font/><br>\n",
    "<font size=4>4.异或集：seta^setb<font/><br>"
   ]
  },
  {
   "cell_type": "code",
   "execution_count": 31,
   "metadata": {},
   "outputs": [
    {
     "name": "stdout",
     "output_type": "stream",
     "text": [
      "{1}\n",
      "{1, 2, 3, 4}\n",
      "{2, 3}\n",
      "{1, 4}\n"
     ]
    }
   ],
   "source": [
    "seta={1,2,3}\n",
    "setb={2,3,4}\n",
    "print(seta-setb)\n",
    "print(seta|setb)\n",
    "print(seta&setb)\n",
    "print(seta^setb)"
   ]
  },
  {
   "cell_type": "markdown",
   "metadata": {},
   "source": [
    "### 2.2.4 set()的去重复功能\n",
    "<font size=4>对于tuple、list、字符串等数据，set函数可以起到去重复的功能<font/><br>"
   ]
  },
  {
   "cell_type": "code",
   "execution_count": 32,
   "metadata": {},
   "outputs": [
    {
     "name": "stdout",
     "output_type": "stream",
     "text": [
      "{1, 2, 3, 4}\n",
      "{1, 2, 3, 4}\n",
      "{'1', '4', '3', '2'}\n",
      "\n",
      "\n",
      "(1, 2, 3, 4)\n",
      "[1, 2, 3, 4]\n",
      "1432 <class 'str'>\n"
     ]
    }
   ],
   "source": [
    "tuples=(1,2,3,4,1)\n",
    "lists=[1,2,3,4,1]\n",
    "string='12341'\n",
    "print(set(tuples))\n",
    "print(set(lists))\n",
    "print(set(string))\n",
    "print('\\n')\n",
    "tuples=tuple(set(tuples))\n",
    "lists=list(set(lists))\n",
    "string=''.join(set(string))\n",
    "print(tuples)\n",
    "print(lists)\n",
    "print(string,type(string))"
   ]
  },
  {
   "cell_type": "markdown",
   "metadata": {
    "collapsed": true
   },
   "source": [
    "## 2.3 字典\n",
    "\n",
    "另一个非Python数据类型是字典(Mapping Types — dict)。"
   ]
  },
  {
   "cell_type": "markdown",
   "metadata": {
    "collapsed": true
   },
   "source": [
    "### 2.3.1 字典的输入\n",
    "<font size=4>1.定义字典并输入键值 dict={'键':值,'键':值}<font/><br>\n",
    "\n",
    "<font size=4>2.添加键值对dict['新键']=值<font/><br>"
   ]
  },
  {
   "cell_type": "code",
   "execution_count": 33,
   "metadata": {},
   "outputs": [
    {
     "data": {
      "text/plain": [
       "{'jack': 4098, 'sape': 4139, 'guido': 4127}"
      ]
     },
     "execution_count": 33,
     "metadata": {},
     "output_type": "execute_result"
    }
   ],
   "source": [
    "tel = {'jack': 4098, 'sape': 4139}\n",
    "tel['guido'] = 4127\n",
    "tel"
   ]
  },
  {
   "cell_type": "markdown",
   "metadata": {},
   "source": [
    "### 2,3,2 键值的访问，修改，删除，判断\n",
    "<font size=4>3.访问字典键值dict['键']<font/><br>"
   ]
  },
  {
   "cell_type": "code",
   "execution_count": 34,
   "metadata": {},
   "outputs": [
    {
     "data": {
      "text/plain": [
       "4098"
      ]
     },
     "execution_count": 34,
     "metadata": {},
     "output_type": "execute_result"
    }
   ],
   "source": [
    "tel['jack']"
   ]
  },
  {
   "cell_type": "markdown",
   "metadata": {},
   "source": [
    "<font size=4>4.修改键值dict['键']= 新值<font/><br>"
   ]
  },
  {
   "cell_type": "code",
   "execution_count": 35,
   "metadata": {},
   "outputs": [
    {
     "data": {
      "text/plain": [
       "{'jack': 4100, 'sape': 4139, 'guido': 4127}"
      ]
     },
     "execution_count": 35,
     "metadata": {},
     "output_type": "execute_result"
    }
   ],
   "source": [
    "tel['jack']=4100\n",
    "tel"
   ]
  },
  {
   "cell_type": "markdown",
   "metadata": {},
   "source": [
    "<font size=4>5.删除键值对 del dict[‘键’]<font/><br>\n",
    "\n",
    "<font size=4>6.判断元素是否在字典中:'键' in the dic<font/><br>\n",
    "\n",
    "<font size=4>7.dict.get(键，默认值) ☆: 返回dict的对应键值，如果字典中不存在该键，则返回默认值<font/><br>"
   ]
  },
  {
   "cell_type": "code",
   "execution_count": 36,
   "metadata": {},
   "outputs": [
    {
     "data": {
      "text/plain": [
       "{'jack': 4100, 'guido': 4127}"
      ]
     },
     "execution_count": 36,
     "metadata": {},
     "output_type": "execute_result"
    }
   ],
   "source": [
    "del tel['sape']\n",
    "tel"
   ]
  },
  {
   "cell_type": "code",
   "execution_count": 37,
   "metadata": {},
   "outputs": [
    {
     "data": {
      "text/plain": [
       "True"
      ]
     },
     "execution_count": 37,
     "metadata": {},
     "output_type": "execute_result"
    }
   ],
   "source": [
    "'jack' in tel"
   ]
  },
  {
   "cell_type": "code",
   "execution_count": 38,
   "metadata": {},
   "outputs": [
    {
     "data": {
      "text/plain": [
       "False"
      ]
     },
     "execution_count": 38,
     "metadata": {},
     "output_type": "execute_result"
    }
   ],
   "source": [
    "'Thomas' in tel"
   ]
  },
  {
   "cell_type": "code",
   "execution_count": 39,
   "metadata": {},
   "outputs": [
    {
     "data": {
      "text/plain": [
       "4100"
      ]
     },
     "execution_count": 39,
     "metadata": {},
     "output_type": "execute_result"
    }
   ],
   "source": [
    "tel.get('jack',-1)"
   ]
  },
  {
   "cell_type": "code",
   "execution_count": 40,
   "metadata": {},
   "outputs": [
    {
     "data": {
      "text/plain": [
       "-1"
      ]
     },
     "execution_count": 40,
     "metadata": {},
     "output_type": "execute_result"
    }
   ],
   "source": [
    "tel.get('Thomas',-1)"
   ]
  },
  {
   "cell_type": "markdown",
   "metadata": {},
   "source": [
    "### 2.3.3 返回键及键值\n",
    "<font size=4>8.dict.keys() 返回键列表<font/><br>\n",
    "\n",
    "<font size=4>9.dict.values () 返回值列表<font/><br>\n",
    "\n",
    "<font size=4>10.dict.items() 返回键值列表<font/><br>"
   ]
  },
  {
   "cell_type": "code",
   "execution_count": 41,
   "metadata": {},
   "outputs": [
    {
     "data": {
      "text/plain": [
       "dict_keys(['jack', 'guido'])"
      ]
     },
     "execution_count": 41,
     "metadata": {},
     "output_type": "execute_result"
    }
   ],
   "source": [
    "tel.keys()"
   ]
  },
  {
   "cell_type": "code",
   "execution_count": 42,
   "metadata": {},
   "outputs": [
    {
     "data": {
      "text/plain": [
       "dict_values([4100, 4127])"
      ]
     },
     "execution_count": 42,
     "metadata": {},
     "output_type": "execute_result"
    }
   ],
   "source": [
    "tel.values()"
   ]
  },
  {
   "cell_type": "code",
   "execution_count": 43,
   "metadata": {},
   "outputs": [
    {
     "name": "stdout",
     "output_type": "stream",
     "text": [
      "jack\n",
      "guido\n",
      "sape\n"
     ]
    }
   ],
   "source": [
    "tel['guido'] = 4127\n",
    "tel['sape'] = 4139\n",
    "for k in tel.keys(): print (k)"
   ]
  },
  {
   "cell_type": "code",
   "execution_count": 44,
   "metadata": {},
   "outputs": [
    {
     "name": "stdout",
     "output_type": "stream",
     "text": [
      "4100\n",
      "4127\n",
      "4139\n"
     ]
    }
   ],
   "source": [
    "for value in tel.values(): print(value)"
   ]
  },
  {
   "cell_type": "code",
   "execution_count": 45,
   "metadata": {},
   "outputs": [
    {
     "name": "stdout",
     "output_type": "stream",
     "text": [
      "jack 4100\n",
      "guido 4127\n",
      "sape 4139\n"
     ]
    }
   ],
   "source": [
    "for k,v in tel.items(): print(k,v)"
   ]
  },
  {
   "cell_type": "code",
   "execution_count": 46,
   "metadata": {
    "collapsed": true
   },
   "outputs": [],
   "source": [
    "tel['guido'] = 4100\n",
    "tel['sape'] = 4100"
   ]
  },
  {
   "cell_type": "code",
   "execution_count": 47,
   "metadata": {},
   "outputs": [
    {
     "name": "stdout",
     "output_type": "stream",
     "text": [
      "jack 4100\n",
      "guido 4100\n",
      "sape 4100\n"
     ]
    }
   ],
   "source": [
    "for k,v in tel.items(): print(k,v)"
   ]
  },
  {
   "cell_type": "markdown",
   "metadata": {},
   "source": [
    "### 2.3.4 最后，几个概念\n",
    "\n",
    "1.字典列表：列表中的每一个元素都是一个字典\n",
    "\n",
    "2.列表字典：字典中某一个或几个键的值为列表型变量\n",
    "\n",
    "3.字典字典：字典中某一个或几个键的值为字典型变量\n",
    "\n",
    "需要说明，dictionary内部存放的顺序和key放入的顺序是没有关系的。 和list比较，dict有查找和插入的速度极快，不会随着key的增加而变慢的特点；而与此同时，它需要占用大量的内存，内存浪费多，与list恰好相反。"
   ]
  },
  {
   "cell_type": "markdown",
   "metadata": {},
   "source": [
    "# 3.选择\n",
    "## 3.1. 布尔表达式\n",
    "### 3.1.1布尔值\n",
    "<font size=4>虽然整型、浮点型和字符串数据类型有无数种可能的值，但是“</font><font color=#FF0000 size=4>布尔型</font><font size=4>”只有两种值：</font><font color=#FF0000 size=4>True</font><font size=4>和</font><font color=#FF0000 size=4>False</font><font size=4>，两边没有引号，总是以大写字母T或F开头，后面的字母小写。"
   ]
  },
  {
   "cell_type": "code",
   "execution_count": null,
   "metadata": {},
   "outputs": [],
   "source": [
    "boolean_var = True\n",
    "boolean_var"
   ]
  },
  {
   "cell_type": "code",
   "execution_count": null,
   "metadata": {},
   "outputs": [],
   "source": [
    "boolean_var = true\n",
    "boolean_var"
   ]
  },
  {
   "cell_type": "code",
   "execution_count": null,
   "metadata": {},
   "outputs": [],
   "source": [
    "True = 2+2\n",
    "True"
   ]
  },
  {
   "cell_type": "markdown",
   "metadata": {},
   "source": [
    "<font size=4>在计算机内部，Python使用</font><font color=#FF0000 size=4>1</font><font size=4>来表示True，而用</font><font color=#FF0000 size=4>0</font><font size=4>来表示False。"
   ]
  },
  {
   "cell_type": "code",
   "execution_count": null,
   "metadata": {},
   "outputs": [],
   "source": [
    "True + True"
   ]
  },
  {
   "cell_type": "code",
   "execution_count": null,
   "metadata": {},
   "outputs": [],
   "source": [
    "True * False"
   ]
  },
  {
   "cell_type": "markdown",
   "metadata": {},
   "source": [
    "<font size=4>可以用bool()函数将输入转换成布尔值。如果值为0或空，这个函数返回</font><font color=#FF0000 size=4>False</font><font size=4>,否则总是返回</font><font color=#FF0000 size=4>True</font><font size=4>。"
   ]
  },
  {
   "cell_type": "code",
   "execution_count": null,
   "metadata": {},
   "outputs": [],
   "source": [
    "print(bool(43))\n",
    "print(bool(0))"
   ]
  },
  {
   "cell_type": "code",
   "execution_count": null,
   "metadata": {},
   "outputs": [],
   "source": [
    "print(bool(()))  #empty tuple\n",
    "print(bool([]))  #empty list\n",
    "print(bool(''))  #empty string\n",
    "print(bool({}))  #empty dict"
   ]
  },
  {
   "cell_type": "markdown",
   "metadata": {},
   "source": [
    "### 3.1.2 比较运算符\n",
    "<font size=4>==&emsp;&emsp;&emsp;等于,比较对象是否相等<font/><br>\n",
    "<font size=4>!=&emsp;&emsp;&emsp;不等于,比较两个对象是否不相等<font/><br>\n",
    "<font size=4>>&emsp;&emsp;&emsp;&ensp;大于,返回x是否大于y<font/><br>\n",
    "<font size=4><&emsp;&emsp;&emsp;&ensp;小于,返回x是否小于y<font/><br>\n",
    "<font size=4>>=&emsp;&emsp;&emsp;大于等于,返回x是否大于等于y<font/><br>\n",
    "<font size=4><=&emsp;&emsp;&emsp;小于等于,返回x是否小于等于y<font/><br>"
   ]
  },
  {
   "cell_type": "code",
   "execution_count": null,
   "metadata": {},
   "outputs": [],
   "source": [
    "print(3 == 3, 4 == 3, 4 != 3, 5 > 2, 5 < 2, 6 >= 5, 7 <= 8)"
   ]
  },
  {
   "cell_type": "markdown",
   "metadata": {},
   "source": [
    "### 3.1.3 逻辑运算符\n",
    "<font size=4>and，& &emsp;代表逻辑——“与”<br>\n",
    "<font size=4>or，|&emsp;&emsp; 代表逻辑——“或”<br>\n",
    "<font size=4>not&emsp;&emsp;&emsp;代表逻辑——“非”<br>\n",
    "<br>\n",
    "<font size=4> True and True :&emsp;&ensp; True<br>\n",
    "<font size=4> True and False :&emsp;&ensp;False<br>\n",
    "<font size=4> False and False :&emsp;False<br>\n",
    "<br>\n",
    "<font size=4> True or True :&emsp;&emsp;&ensp;True<br>\n",
    "<font size=4> True or False :&emsp;&emsp;True<br>\n",
    "<font size=4> False or False:&emsp;&emsp;False<br>\n",
    "<br>\n",
    "<font size=4> not True :&emsp;&emsp;&emsp;&emsp;&ensp;False<br>\n",
    "<font size=4> not False :&emsp;&emsp;&emsp;&emsp;True<br>"
   ]
  },
  {
   "cell_type": "code",
   "execution_count": null,
   "metadata": {},
   "outputs": [],
   "source": [
    "print(1<2 & 3<4)\n",
    "\n",
    "print(not 1<2)"
   ]
  },
  {
   "cell_type": "code",
   "execution_count": null,
   "metadata": {},
   "outputs": [],
   "source": [
    "a = '11'\n",
    "b = 11\n",
    "c = 'hello'\n",
    "d = 'Hello'\n",
    "print(a == b == c == d)\n",
    "print(a != b != c != d)"
   ]
  },
  {
   "cell_type": "markdown",
   "metadata": {},
   "source": [
    "<font size=4>all():&emsp; 如果x所有元素为真（或为空），返回 True 。<br>\n",
    "<font size=4>any():&emsp;如果x任一元素为真，返回 True 。"
   ]
  },
  {
   "cell_type": "code",
   "execution_count": null,
   "metadata": {},
   "outputs": [],
   "source": [
    "a = [1,2,3,4]\n",
    "b = (0,1,2,3)\n",
    "print(all(a))\n",
    "print(any(b))\n",
    "print(all([]))\n",
    "print(any(''))"
   ]
  },
  {
   "cell_type": "markdown",
   "metadata": {},
   "source": [
    "### 3.1.4 成员运算符和身份运算符\n",
    "<font size=4>in&emsp;not in ：查看该元素(element)是否存在于可迭代量(iterable)中（如：list, tuple, set等）<font/><br>\n",
    "<font size=4>is&emsp;is not ：使用方法等价于：==&emsp;!=<font/>"
   ]
  },
  {
   "cell_type": "code",
   "execution_count": null,
   "metadata": {},
   "outputs": [],
   "source": [
    "lists = [1,2,3,4]\n",
    "tuples = (1,2,3,4)\n",
    "sets = {1,2,3,4}\n",
    "strs = 'strings' \n",
    "dicts = {'A':1, 'B':2}\n",
    "print(1 in lists, 2 not in tuples, 3 in sets, 'ing' in strs, 'A' in dicts)"
   ]
  },
  {
   "cell_type": "code",
   "execution_count": null,
   "metadata": {},
   "outputs": [],
   "source": [
    "a = '11'\n",
    "b = 11\n",
    "c = 'hello'\n",
    "d = 'Hello'\n",
    "print(a is b, a is not b, c is d)"
   ]
  },
  {
   "cell_type": "markdown",
   "metadata": {},
   "source": [
    "### 3.1.5 运算符运算顺序\n",
    "<font size=3>算数运算符--->比较运算符--->成员和身份运算符--->逻辑运算符<br>\n",
    "    \n",
    "<font size=3>乘方 &emsp;&emsp;&emsp;**<br>\n",
    "<font size=3>乘除 &emsp;&emsp;&emsp; *、 /、 //、 %<br>\n",
    "<font size=3>加减 &emsp;&emsp;&emsp;+、 -<br>\n",
    "\n",
    "<font size=3>比较运算符 ==、!=、>、>=、<、<= <br>\n",
    "    \n",
    "<font size=3>is、 is not<br>\n",
    "<font size=3>in、 not in<br>\n",
    "    \n",
    "<font size=3>逻辑非 &emsp;&emsp;not<br>\n",
    "<font size=3>逻辑与 &emsp;&emsp;and <br>\n",
    "<font size=3>逻辑或 &emsp;&emsp;or<br>\n"
   ]
  },
  {
   "cell_type": "code",
   "execution_count": 3,
   "metadata": {},
   "outputs": [
    {
     "data": {
      "text/plain": [
       "True"
      ]
     },
     "execution_count": 3,
     "metadata": {},
     "output_type": "execute_result"
    }
   ],
   "source": [
    "True or True and False"
   ]
  },
  {
   "cell_type": "code",
   "execution_count": null,
   "metadata": {},
   "outputs": [],
   "source": [
    "a = [True, not True]\n",
    "print(not True in a)\n",
    "print((not True) in a)"
   ]
  },
  {
   "cell_type": "code",
   "execution_count": null,
   "metadata": {},
   "outputs": [],
   "source": [
    "not True % 3 == 2"
   ]
  },
  {
   "cell_type": "markdown",
   "metadata": {},
   "source": [
    "## 3.2. if-else\n",
    "### 3.2.1 if语句\n",
    "</font><font color=#FF0000 size=4>if</font><font size=4>: 如果条件为真，执行子句中的代码。<br>\n",
    "    <br>\n",
    "<font size=3>if语句包含以下部分：<br>\n",
    "<font size=3>&emsp;·if关键字；<br>\n",
    "<font size=3>&emsp;·条件（即求值为True或False的表达式）；<br>\n",
    "<font size=3>&emsp;·冒号；<br> \n",
    "<font size=3>&emsp;·if子句（缩进）。<br>"
   ]
  },
  {
   "cell_type": "code",
   "execution_count": 4,
   "metadata": {},
   "outputs": [
    {
     "name": "stdout",
     "output_type": "stream",
     "text": [
      "Who are you?\n"
     ]
    }
   ],
   "source": [
    "name = input('Who are you?')\n",
    "if name == 'Gao':\n",
    "    print('Welcome back, handsome!')"
   ]
  },
  {
   "cell_type": "markdown",
   "metadata": {},
   "source": [
    "### 3.2.2 if-else语句\n",
    "</font><font color=#FF0000 size=4>else</font><font size=4>: if语句的条件为假，执行else子句。<br>\n",
    "    <br>\n",
    "<font size=3>else语句包含以下部分：<br>\n",
    "<font size=3>&emsp;·else关键字；<br>\n",
    "<font size=3>&emsp;·冒号；<br> \n",
    "<font size=3>&emsp;·if子句（缩进）。<br>"
   ]
  },
  {
   "cell_type": "code",
   "execution_count": null,
   "metadata": {},
   "outputs": [],
   "source": [
    "name = input('Who are you?')\n",
    "if name == 'Gao':\n",
    "    print('Welcome back, handsome!')\n",
    "else:\n",
    "    print('Hello, stranger!')"
   ]
  },
  {
   "cell_type": "markdown",
   "metadata": {},
   "source": [
    "### 3.2.3 if-elif-else语句和嵌套if\n",
    "<font size=4>有时候你可能希望，许多可能的子句中有一个被执行。</font><font color=#FF0000 size=4>elif</font><font size=4>: 否则如果，总是跟在if或另一条elif语句后面，仅在前面的条件为False时才检查该条件。<br>\n",
    "    <br>\n",
    "<font size=3>elif语句包含以下部分：<br>\n",
    "<font size=3>&emsp;·elif关键字；<br>\n",
    "<font size=3>&emsp;·条件（即求值为True或False的表达式）；<br>\n",
    "<font size=3>&emsp;·冒号；<br> \n",
    "<font size=3>&emsp;·elif子句（缩进）。<br>"
   ]
  },
  {
   "cell_type": "code",
   "execution_count": null,
   "metadata": {},
   "outputs": [],
   "source": [
    "name = input('Who are you?')\n",
    "if name == 'Gao':\n",
    "    print('Welcome back, handsome!')\n",
    "elif name == 'Gao GF':\n",
    "    print('Welcome back, beautiful!')\n",
    "elif name == 'Gao papa':\n",
    "    print('Welcome back, papa!')\n",
    "else:\n",
    "    print('Hello, stranger!')"
   ]
  },
  {
   "cell_type": "code",
   "execution_count": null,
   "metadata": {},
   "outputs": [],
   "source": [
    "name = input('Who are you?')\n",
    "if name == 'Gao':\n",
    "    print('Welcome back, handsome!')\n",
    "else:\n",
    "    if name == 'Gao GF':\n",
    "        print('Welcome back, beautiful!')\n",
    "    else:\n",
    "        if name == 'Gao papa':            \n",
    "            print('Welcome back, papa!')\n",
    "        else:\n",
    "            print('Hello, stranger!')"
   ]
  },
  {
   "cell_type": "markdown",
   "metadata": {},
   "source": [
    "### 3.2.4 if-else三元表达式\n",
    "<font size=2><b>if</font><font size=2> X:<br>\n",
    "    <font size=2>&emsp;A = Y<br>\n",
    "<font size=2><b>else</font><font size=2>:<br>\n",
    "<font size=2>&emsp;A = Z<br>\n",
    "<font size=4>利用三元表达式，可以简化为：<br>\n",
    "<font size=2>A = Y </font><font size=2><b>if </font><font size=2>X </font><font size=2><b>else </font><font size=2>Z<font/>"
   ]
  },
  {
   "cell_type": "code",
   "execution_count": null,
   "metadata": {},
   "outputs": [],
   "source": [
    "items = [1,2,3,4]\n",
    "start, *end = items\n",
    "print(start if start >=5 else end)"
   ]
  },
  {
   "cell_type": "markdown",
   "metadata": {},
   "source": [
    "### Example: 判定闰年"
   ]
  },
  {
   "cell_type": "markdown",
   "metadata": {},
   "source": [
    "# 4.循环\n",
    "## 4.1 while循环\n",
    "<font size=4>当一个条件保持为真时，</font><font color=#FF0000 size=4>while</font><font size=4>循环重复执行语句块。<br>\n",
    "<font size=4>while循环的语法是：<br>\n",
    "    <br>\n",
    "<font size=3><b>while </font><font size=3>loop-continuation-condition:<br>\n",
    "<font size=3>&emsp;statement(s)<br>"
   ]
  },
  {
   "cell_type": "code",
   "execution_count": null,
   "metadata": {},
   "outputs": [],
   "source": [
    "count = 0\n",
    "while count <= 10:\n",
    "    print('loop count =',count)\n",
    "    count += 1"
   ]
  },
  {
   "cell_type": "markdown",
   "metadata": {},
   "source": [
    "### Example: 猜数字 "
   ]
  },
  {
   "cell_type": "markdown",
   "metadata": {},
   "source": [
    "## 4.2 for循环\n",
    "<font size=4>Python</font><font color=#FF0000 size=4>for</font><font size=4>循环通过一个序列中的每个值来进行迭代。<br>\n",
    "<font size=4>for循环的语法是：<br>\n",
    "    <br>\n",
    "<font size=3><b>for </font><font size=3>var </font><font size=3><b>in </font><font size=3>sequence :<br>\n",
    "<font size=3>&emsp;statement(s)<br>"
   ]
  },
  {
   "cell_type": "code",
   "execution_count": 5,
   "metadata": {},
   "outputs": [
    {
     "name": "stdout",
     "output_type": "stream",
     "text": [
      "loop count = 0\n",
      "loop count = 1\n",
      "loop count = 2\n",
      "loop count = 3\n",
      "loop count = 4\n",
      "loop count = 5\n",
      "loop count = 6\n",
      "loop count = 7\n",
      "loop count = 8\n",
      "loop count = 9\n",
      "loop count = 10\n"
     ]
    }
   ],
   "source": [
    "count = 0\n",
    "while count <= 10:\n",
    "    print('loop count =',count)\n",
    "    count += 1"
   ]
  },
  {
   "cell_type": "code",
   "execution_count": 6,
   "metadata": {},
   "outputs": [
    {
     "name": "stdout",
     "output_type": "stream",
     "text": [
      "loop time = 0\n",
      "loop time = 1\n",
      "loop time = 2\n",
      "loop time = 3\n",
      "loop time = 4\n",
      "loop time = 5\n",
      "loop time = 6\n",
      "loop time = 7\n",
      "loop time = 8\n",
      "loop time = 9\n",
      "loop time = 10\n"
     ]
    }
   ],
   "source": [
    "for ii in range(11):\n",
    "    print('loop time =',ii)"
   ]
  },
  {
   "cell_type": "markdown",
   "metadata": {},
   "source": [
    "<font size=4>zip( )返回一个元组的迭代器，其中的第 i 个元组包含来自每个参数序列或可迭代对象的第 i 个元素。"
   ]
  },
  {
   "cell_type": "code",
   "execution_count": 7,
   "metadata": {
    "scrolled": true
   },
   "outputs": [
    {
     "data": {
      "text/plain": [
       "{'China': 'Beijing',\n",
       " 'Japan': 'Tokyo',\n",
       " 'South Korea': 'Seoul',\n",
       " 'North Korea': 'Pyongyang',\n",
       " 'Russia': 'Moscow'}"
      ]
     },
     "execution_count": 7,
     "metadata": {},
     "output_type": "execute_result"
    }
   ],
   "source": [
    "cities = ['Beijing','Tokyo','Seoul','Pyongyang','Moscow']\n",
    "countries = ['China','Japan','South Korea','North Korea','Russia']\n",
    "dict_capital = {}\n",
    "for city, country in zip(cities, countries):\n",
    "    dict_capital[country]=city\n",
    "\n",
    "dict_capital"
   ]
  },
  {
   "cell_type": "markdown",
   "metadata": {},
   "source": [
    "<font size=4>enumerate( ) 返回一个元组迭代器，里面包含一个计数值（默认从0开始）和通过迭代 iterable 获得的值。"
   ]
  },
  {
   "cell_type": "code",
   "execution_count": null,
   "metadata": {},
   "outputs": [],
   "source": [
    "list(enumerate(countries))"
   ]
  },
  {
   "cell_type": "code",
   "execution_count": null,
   "metadata": {},
   "outputs": [],
   "source": [
    "str1 = 'AFT'\n",
    "for ii, letter in enumerate(str1,1):\n",
    "    print(f'The {ii} letter is {letter}')   "
   ]
  },
  {
   "cell_type": "markdown",
   "metadata": {},
   "source": [
    "### Example: 能被5整除且至少有一个数字是5的三位数个数"
   ]
  },
  {
   "cell_type": "markdown",
   "metadata": {},
   "source": [
    "## 4.3. break & continue\n",
    "### 4.3.1. break\n",
    "<font size=4>Python只要遇到</font><font color=#FF0000 size=4>break</font><font size=4>，循环就会终止。<br>\n"
   ]
  },
  {
   "cell_type": "code",
   "execution_count": 8,
   "metadata": {},
   "outputs": [
    {
     "name": "stdout",
     "output_type": "stream",
     "text": [
      "1\n",
      "2\n",
      "3\n",
      "4\n"
     ]
    }
   ],
   "source": [
    "count = 1\n",
    "while True:\n",
    "    if count%5 == 0:\n",
    "        break\n",
    "    print(count)\n",
    "    count += 1"
   ]
  },
  {
   "cell_type": "code",
   "execution_count": 11,
   "metadata": {},
   "outputs": [
    {
     "name": "stdout",
     "output_type": "stream",
     "text": [
      "ii = {1} jj = {1}\n",
      "ii = {1} jj = {2}\n",
      "ii = {2} jj = {1}\n",
      "ii = {2} jj = {2}\n",
      "ii = {3} jj = {1}\n",
      "ii = {3} jj = {2}\n",
      "ii = {4} jj = {1}\n",
      "ii = {4} jj = {2}\n",
      "ii = {5} jj = {1}\n",
      "ii = {5} jj = {2}\n"
     ]
    }
   ],
   "source": [
    "for ii in range(1,6):\n",
    "    for jj in range(1,6):\n",
    "        if jj%3 == 0:\n",
    "            break\n",
    "        print(\"ii =\", {ii}, \"jj =\", {jj})"
   ]
  },
  {
   "cell_type": "markdown",
   "metadata": {},
   "source": [
    "### 4.3.2. continue\n",
    "<font size=4>使用</font><font color=#FF0000 size=4>continue</font><font size=4>语句来终止循环的当前迭代，并进入下一次迭代。<br>\n"
   ]
  },
  {
   "cell_type": "code",
   "execution_count": null,
   "metadata": {},
   "outputs": [],
   "source": [
    "for ii in range(1,10):\n",
    "    if ii%2:\n",
    "        continue\n",
    "    print(ii)"
   ]
  },
  {
   "cell_type": "markdown",
   "metadata": {},
   "source": [
    "### Example: 完全数"
   ]
  }
 ],
 "metadata": {
  "kernelspec": {
   "display_name": "Python 3",
   "language": "python",
   "name": "python3"
  },
  "language_info": {
   "codemirror_mode": {
    "name": "ipython",
    "version": 3
   },
   "file_extension": ".py",
   "mimetype": "text/x-python",
   "name": "python",
   "nbconvert_exporter": "python",
   "pygments_lexer": "ipython3",
   "version": "3.7.6"
  },
  "toc": {
   "base_numbering": 1,
   "nav_menu": {},
   "number_sections": false,
   "sideBar": true,
   "skip_h1_title": false,
   "title_cell": "Table of Contents",
   "title_sidebar": "Contents",
   "toc_cell": true,
   "toc_position": {},
   "toc_section_display": true,
   "toc_window_display": true
  }
 },
 "nbformat": 4,
 "nbformat_minor": 2
}
