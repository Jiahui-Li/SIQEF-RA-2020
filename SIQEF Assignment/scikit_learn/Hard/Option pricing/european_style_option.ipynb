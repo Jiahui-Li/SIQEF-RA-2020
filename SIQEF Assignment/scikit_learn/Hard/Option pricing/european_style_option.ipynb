{
 "cells": [
  {
   "cell_type": "markdown",
   "metadata": {},
   "source": [
    "# Using ANN for European style option pricing and calibration purpose"
   ]
  },
  {
   "cell_type": "code",
   "execution_count": 1,
   "metadata": {},
   "outputs": [],
   "source": [
    "import numpy as np\n",
    "import pandas as pd\n",
    "import time\n",
    "import pickle\n",
    "import matplotlib.pyplot as plt\n",
    "%matplotlib inline\n",
    "from numpy.random import standard_normal, seed, uniform, randint\n",
    "import scipy.stats as stats\n",
    "from scipy.stats import norm\n",
    "from sklearn.model_selection import train_test_split\n",
    "from sklearn.metrics import mean_squared_error, mean_absolute_error\n",
    "np.random.seed(42)"
   ]
  },
  {
   "cell_type": "markdown",
   "metadata": {},
   "source": [
    "##  Case of single asset BS European option"
   ]
  },
  {
   "cell_type": "markdown",
   "metadata": {},
   "source": [
    "**Reminder: Black Scholes formula for european option and implied volatility**"
   ]
  },
  {
   "cell_type": "markdown",
   "metadata": {},
   "source": [
    "\n",
    "In the Black-Scholes framework, the stock is assumed to follow a GBM Ito process as follow:\n",
    "\n",
    "$$dS_t=\\mu S_tdt+\\sigma S_tdW_t\\quad\\quad S_{t+1}=S_te^{\\left(\\mu-\\frac{1}{2}\\sigma^2\\right)\\Delta t+\\sigma\\sqrt{\\Delta t}Z}$$\n",
    "\n",
    "where $Z$ is a standard normal random variable.\n",
    "\n",
    "The principle of portfolio replication leads to a PDE for option price :\n",
    "$$\\frac{ \\partial V }{\\partial t} + \\frac{1}{2}\\sigma^2 S^2\\frac{ \\partial V^2 }{\\partial S^2} + rS\\frac{ \\partial V }{\\partial S}-rV = 0$$ with terminal condition $$V(t=T,S) = (S_0 - k)_+$$\n",
    "\n",
    "For European plain vanilla option, a closed form solution exists as follow for one asset:\n",
    "$$V_c(t, S)= SN(d_1) - Ke^{-r(T-t)}N(d_2)$$\n",
    "with : $d_1=\\frac{ \\log{S/K} + (r-0.5\\sigma^2)(T-t) }{\\sigma \\sqrt{T-t}}$ and $d_2 = d_1 - \\sigma \\sqrt{T-t}$"
   ]
  },
  {
   "cell_type": "markdown",
   "metadata": {},
   "source": [
    "**Pricing using MLP**\n",
    "\n",
    "We will train an MLP regressor to learn the option price from B&S parameters in a supervised learning formulation \n",
    "\n",
    "We construct a dataset by independent random sampling of B&S parameters and then compute option price using B&S formula. We construct the variables as follow:\n",
    "\n",
    "- Explanatory variables : init stock price/strike, time to maturity (yearly fraction), IV, risk free rate\n",
    "- target variable: European call price/Strike\n",
    "\n",
    "We then split the dataset in a train and test sample in proportion 70%-30%"
   ]
  },
  {
   "cell_type": "markdown",
   "metadata": {},
   "source": [
    "1 - **Generating the datasets**"
   ]
  },
  {
   "cell_type": "code",
   "execution_count": 2,
   "metadata": {},
   "outputs": [],
   "source": [
    "from pricing_utils import bs_call\n",
    "\n",
    "n_sample = 100000\n",
    "data = pd.DataFrame()\n",
    "data['S0/K'] = uniform(low=0.4, high=1.6, size=n_sample)\n",
    "data['to_maturity'] = uniform(low=0.2, high=1.1, size=n_sample)\n",
    "data['sigma'] = uniform(low=0.01, high=1, size=n_sample)\n",
    "data['r'] = uniform(low=0.02, high=0.1, size=n_sample)\n",
    "data['BS_price/K'] = bs_call(data['S0/K'].values,\n",
    "                           1, data['r'].values,\n",
    "                           data['sigma'].values,\n",
    "                           data['to_maturity'].values)\n",
    "\n",
    "\n",
    "y = data['BS_price/K']\n",
    "X = data.drop(columns='BS_price/K')\n",
    "X_train, X_test, y_train,  y_test = train_test_split(X, y, test_size=0.33, random_state=42)"
   ]
  },
  {
   "cell_type": "markdown",
   "metadata": {},
   "source": [
    "2 - **Calibration of hyperparameters**"
   ]
  },
  {
   "cell_type": "markdown",
   "metadata": {},
   "source": [
    "For tuning hyperparameters, we use Bayesian optimization implemented by Hyperopt library (tree Parzen algorithm) which is an iterative approach that store all hyperparameters tested during execution."
   ]
  },
  {
   "cell_type": "code",
   "execution_count": 9,
   "metadata": {},
   "outputs": [],
   "source": [
    "from ml_models import MLPRegressor\n",
    "from ml_utils import bayesian_tuning\n",
    "from sklearn.preprocessing import StandardScaler\n",
    "from hyperopt import hp, tpe"
   ]
  },
  {
   "cell_type": "code",
   "execution_count": 10,
   "metadata": {
    "scrolled": false
   },
   "outputs": [
    {
     "data": {
      "application/vnd.jupyter.widget-view+json": {
       "model_id": "15ef21af926d48f89f996118fecc2cd7",
       "version_major": 2,
       "version_minor": 0
      },
      "text/plain": [
       "HBox(children=(FloatProgress(value=0.0, description='MLPRegressor hyper optim', max=50.0, style=ProgressStyle(…"
      ]
     },
     "metadata": {},
     "output_type": "display_data"
    },
    {
     "name": "stdout",
     "output_type": "stream",
     "text": [
      "100%|██████| 50/50 [10:17<00:00, 12.35s/trial, best loss: 0.033642629374347324]\n",
      "\n"
     ]
    }
   ],
   "source": [
    "param_grid = {\n",
    "    'batch_normalisation': hp.choice('batch_normalisation', [True, False]),\n",
    "    'hidden_size': hp.choice('hidden_size',[int(x) for x in np.linspace(20, 400, 20)]),\n",
    "    'activation': hp.choice('activation',['relu', 'tanh', 'linear', 'sigmoid' ]),\n",
    "    'dropout':  hp.uniform('dropout', 0., 0.5),\n",
    "    'learning_rate': hp.loguniform('learning_rate',np.log(0.0001), np.log(0.001)),\n",
    "    'kernel_initializer': hp.choice('kernel_initializer', ['glorot_uniform', 'normal', 'uniform']),\n",
    "    'beta_1': hp.uniform('beta_1', 0., 0.99),\n",
    "    'beta_2': hp.uniform('beta_2', 0., 0.99),\n",
    "}\n",
    "\n",
    "model = MLPRegressor(\n",
    "    scaler=StandardScaler(),\n",
    "    n_feature=4,\n",
    "    epochs=10,\n",
    "    batch_size=1024,\n",
    "    loss=\"mse\",\n",
    "    verbose=0\n",
    ")\n",
    "\n",
    "\n",
    "tuning_output = bayesian_tuning(\n",
    "           X_train.values,\n",
    "           y_train.values,\n",
    "           model=model,\n",
    "           param_grid=param_grid, \n",
    "           loss_metric='mse',\n",
    "           n_kfold=5,\n",
    "           nb_evals=50,       \n",
    "           optimizer=tpe.suggest\n",
    "    )"
   ]
  },
  {
   "cell_type": "code",
   "execution_count": 11,
   "metadata": {},
   "outputs": [
    {
     "data": {
      "text/plain": [
       "{'activation': 'linear',\n",
       " 'batch_normalisation': True,\n",
       " 'beta_1': 0.6687991182446276,\n",
       " 'beta_2': 0.48238955010525786,\n",
       " 'dropout': 0.0563309747410968,\n",
       " 'hidden_size': 380,\n",
       " 'kernel_initializer': 'uniform',\n",
       " 'learning_rate': 0.0008690133934201894}"
      ]
     },
     "execution_count": 11,
     "metadata": {},
     "output_type": "execute_result"
    }
   ],
   "source": [
    "best_params = tuning_output[0]['hyperparameters']\n",
    "best_params"
   ]
  },
  {
   "cell_type": "markdown",
   "metadata": {},
   "source": [
    "3 - **Train and test**"
   ]
  },
  {
   "cell_type": "code",
   "execution_count": 12,
   "metadata": {},
   "outputs": [
    {
     "name": "stdout",
     "output_type": "stream",
     "text": [
      "Epoch 1/50\n",
      "7/7 [==============================] - 0s 36ms/step - loss: 0.2030 - mse: 0.2030\n",
      "Epoch 2/50\n",
      "7/7 [==============================] - 0s 39ms/step - loss: 0.0853 - mse: 0.0853\n",
      "Epoch 3/50\n",
      "7/7 [==============================] - 0s 36ms/step - loss: 0.0659 - mse: 0.0659\n",
      "Epoch 4/50\n",
      "7/7 [==============================] - 0s 35ms/step - loss: 0.0582 - mse: 0.0582\n",
      "Epoch 5/50\n",
      "7/7 [==============================] - 0s 35ms/step - loss: 0.0498 - mse: 0.0498\n",
      "Epoch 6/50\n",
      "7/7 [==============================] - 0s 33ms/step - loss: 0.0422 - mse: 0.0422\n",
      "Epoch 7/50\n",
      "7/7 [==============================] - 0s 36ms/step - loss: 0.0376 - mse: 0.0376\n",
      "Epoch 8/50\n",
      "7/7 [==============================] - 0s 34ms/step - loss: 0.0339 - mse: 0.0339\n",
      "Epoch 9/50\n",
      "7/7 [==============================] - 0s 38ms/step - loss: 0.0307 - mse: 0.0307\n",
      "Epoch 10/50\n",
      "7/7 [==============================] - 0s 35ms/step - loss: 0.0277 - mse: 0.0277\n",
      "Epoch 11/50\n",
      "7/7 [==============================] - 0s 34ms/step - loss: 0.0247 - mse: 0.0247\n",
      "Epoch 12/50\n",
      "7/7 [==============================] - 0s 37ms/step - loss: 0.0217 - mse: 0.0217\n",
      "Epoch 13/50\n",
      "7/7 [==============================] - 0s 35ms/step - loss: 0.0190 - mse: 0.0190\n",
      "Epoch 14/50\n",
      "7/7 [==============================] - 0s 33ms/step - loss: 0.0160 - mse: 0.0160\n",
      "Epoch 15/50\n",
      "7/7 [==============================] - 0s 34ms/step - loss: 0.0158 - mse: 0.0158\n",
      "Epoch 16/50\n",
      "7/7 [==============================] - 0s 37ms/step - loss: 0.0128 - mse: 0.0128\n",
      "Epoch 17/50\n",
      "7/7 [==============================] - 0s 33ms/step - loss: 0.0107 - mse: 0.0107\n",
      "Epoch 18/50\n",
      "7/7 [==============================] - 0s 34ms/step - loss: 0.0096 - mse: 0.0096\n",
      "Epoch 19/50\n",
      "7/7 [==============================] - 0s 33ms/step - loss: 0.0082 - mse: 0.0082\n",
      "Epoch 20/50\n",
      "7/7 [==============================] - 0s 40ms/step - loss: 0.0077 - mse: 0.0077\n",
      "Epoch 21/50\n",
      "7/7 [==============================] - 0s 39ms/step - loss: 0.0071 - mse: 0.0071\n",
      "Epoch 22/50\n",
      "7/7 [==============================] - 0s 34ms/step - loss: 0.0060 - mse: 0.0060\n",
      "Epoch 23/50\n",
      "7/7 [==============================] - 0s 36ms/step - loss: 0.0058 - mse: 0.0058\n",
      "Epoch 24/50\n",
      "7/7 [==============================] - 0s 34ms/step - loss: 0.0050 - mse: 0.0050\n",
      "Epoch 25/50\n",
      "7/7 [==============================] - 0s 36ms/step - loss: 0.0047 - mse: 0.0047\n",
      "Epoch 26/50\n",
      "7/7 [==============================] - 0s 32ms/step - loss: 0.0048 - mse: 0.0048\n",
      "Epoch 27/50\n",
      "7/7 [==============================] - 0s 35ms/step - loss: 0.0042 - mse: 0.0042\n",
      "Epoch 28/50\n",
      "7/7 [==============================] - 0s 33ms/step - loss: 0.0043 - mse: 0.0043\n",
      "Epoch 29/50\n",
      "7/7 [==============================] - 0s 38ms/step - loss: 0.0041 - mse: 0.0041\n",
      "Epoch 30/50\n",
      "7/7 [==============================] - 0s 36ms/step - loss: 0.0039 - mse: 0.0039\n",
      "Epoch 31/50\n",
      "7/7 [==============================] - 0s 39ms/step - loss: 0.0034 - mse: 0.0034\n",
      "Epoch 32/50\n",
      "7/7 [==============================] - 0s 39ms/step - loss: 0.0042 - mse: 0.0042\n",
      "Epoch 33/50\n",
      "7/7 [==============================] - 0s 35ms/step - loss: 0.0033 - mse: 0.0033\n",
      "Epoch 34/50\n",
      "7/7 [==============================] - 0s 35ms/step - loss: 0.0039 - mse: 0.0039\n",
      "Epoch 35/50\n",
      "7/7 [==============================] - 0s 35ms/step - loss: 0.0033 - mse: 0.0033\n",
      "Epoch 36/50\n",
      "7/7 [==============================] - 0s 39ms/step - loss: 0.0035 - mse: 0.0035\n",
      "Epoch 37/50\n",
      "7/7 [==============================] - 0s 38ms/step - loss: 0.0034 - mse: 0.0034\n",
      "Epoch 38/50\n",
      "7/7 [==============================] - 0s 37ms/step - loss: 0.0030 - mse: 0.0030\n",
      "Epoch 39/50\n",
      "7/7 [==============================] - 0s 34ms/step - loss: 0.0030 - mse: 0.0030\n",
      "Epoch 40/50\n",
      "7/7 [==============================] - 0s 37ms/step - loss: 0.0027 - mse: 0.0027\n",
      "Epoch 41/50\n",
      "7/7 [==============================] - 0s 38ms/step - loss: 0.0030 - mse: 0.0030\n",
      "Epoch 42/50\n",
      "7/7 [==============================] - 0s 41ms/step - loss: 0.0026 - mse: 0.0026\n",
      "Epoch 43/50\n",
      "7/7 [==============================] - 0s 36ms/step - loss: 0.0028 - mse: 0.0028\n",
      "Epoch 44/50\n",
      "7/7 [==============================] - 0s 36ms/step - loss: 0.0028 - mse: 0.0028\n",
      "Epoch 45/50\n",
      "7/7 [==============================] - 0s 36ms/step - loss: 0.0028 - mse: 0.0028\n",
      "Epoch 46/50\n",
      "7/7 [==============================] - 0s 35ms/step - loss: 0.0027 - mse: 0.0027\n",
      "Epoch 47/50\n",
      "7/7 [==============================] - 0s 36ms/step - loss: 0.0022 - mse: 0.0022\n",
      "Epoch 48/50\n",
      "7/7 [==============================] - 0s 37ms/step - loss: 0.0025 - mse: 0.0025\n",
      "Epoch 49/50\n",
      "7/7 [==============================] - 0s 37ms/step - loss: 0.0025 - mse: 0.0025\n",
      "Epoch 50/50\n",
      "7/7 [==============================] - 0s 38ms/step - loss: 0.0024 - mse: 0.0024\n",
      "\n",
      "Time Cost train: 16.34127712249756 seconds\n"
     ]
    }
   ],
   "source": [
    "model = MLPRegressor(\n",
    "    scaler=StandardScaler(),\n",
    "    n_feature=4,\n",
    "    batch_size=1024,\n",
    "    epochs=50,\n",
    "    loss=\"mse\",\n",
    "    verbose=1\n",
    ")\n",
    "model.set_params(**best_params)\n",
    "\n",
    "model.verbose = 1\n",
    "starttime = time.time()\n",
    "model.fit(X_train, y_train)\n",
    "endtime = time.time()\n",
    "print('\\nTime Cost train:', endtime - starttime, 'seconds')"
   ]
  },
  {
   "cell_type": "code",
   "execution_count": 13,
   "metadata": {},
   "outputs": [
    {
     "name": "stdout",
     "output_type": "stream",
     "text": [
      "\n",
      "Time Cost predict: 0.19547748565673828 seconds\n",
      "mse on train set 0.003212499003754801\n",
      "mae on train set 0.043120966526488023\n",
      "mse on test set 0.017491824515753932\n",
      "mae on test set 0.09389930215576513\n"
     ]
    }
   ],
   "source": [
    "y_hat = model.predict(X_train)\n",
    "starttime = time.time()\n",
    "y_pred = model.predict(X_test) # nb_path=100 to use Monte-Carlo dropout mean\n",
    "endtime = time.time()\n",
    "print('\\nTime Cost predict:', endtime - starttime, 'seconds')\n",
    "print('mse on train set', mean_squared_error(y_train, y_hat))\n",
    "print('mae on train set', mean_absolute_error(y_train, y_hat))\n",
    "print('mse on test set', mean_squared_error(y_test, y_pred))\n",
    "print('mae on test set', mean_absolute_error(y_test, y_pred))"
   ]
  },
  {
   "cell_type": "code",
   "execution_count": 14,
   "metadata": {},
   "outputs": [
    {
     "data": {
      "image/png": "[encoded data removed]",
      "text/plain": [
       "<Figure size 432x288 with 1 Axes>"
      ]
     },
     "metadata": {
      "needs_background": "light"
     },
     "output_type": "display_data"
    },
    {
     "data": {
      "image/png": "[encoded data removed]",
      "text/plain": [
       "<Figure size 720x360 with 2 Axes>"
      ]
     },
     "metadata": {
      "needs_background": "light"
     },
     "output_type": "display_data"
    }
   ],
   "source": [
    "diff = y_test.values - y_pred.ravel()\n",
    "plt.hist(diff, bins=100, density=True)\n",
    "plt.xlabel('diff')\n",
    "plt.title('error distribution on test set')\n",
    "plt.grid()\n",
    "\n",
    "fig = plt.figure(figsize=(10, 5))\n",
    "ax = plt.subplot(121)\n",
    "plt.xlabel('S0/K')\n",
    "plt.ylabel('error')\n",
    "plt.title('error distribution on test set')\n",
    "dist = plt.scatter(X_test['S0/K'], diff)\n",
    "plt.grid()\n",
    "bx = plt.subplot(122)\n",
    "plt.xlabel('time to maturity (year unit)')\n",
    "plt.ylabel('error')\n",
    "dist = plt.scatter(X_test['to_maturity'], diff)\n",
    "plt.grid()"
   ]
  },
  {
   "cell_type": "markdown",
   "metadata": {},
   "source": [
    "We observe that the error is higher close to the money and boundary of of maturity and strike"
   ]
  },
  {
   "cell_type": "markdown",
   "metadata": {},
   "source": [
    "4 - **Compare with other models**"
   ]
  },
  {
   "cell_type": "markdown",
   "metadata": {},
   "source": [
    "**Linear Regression**"
   ]
  },
  {
   "cell_type": "code",
   "execution_count": 15,
   "metadata": {},
   "outputs": [
    {
     "name": "stdout",
     "output_type": "stream",
     "text": [
      "mse on test set 0.07138825040119176\n",
      "mae on test set 0.23136208404548672\n"
     ]
    }
   ],
   "source": [
    "from sklearn.linear_model import LinearRegression\n",
    "reg = LinearRegression()\n",
    "reg.fit(X_train, y_train)\n",
    "y_pred = reg.predict(X_test)\n",
    "mse_test = mean_squared_error(y_test, y_pred)\n",
    "mae_test = mean_absolute_error(y_test, y_pred)\n",
    "print('mse on test set', mse_test)\n",
    "print('mae on test set', mae_test)\n"
   ]
  },
  {
   "cell_type": "markdown",
   "metadata": {},
   "source": [
    "**Gaussian process regression**"
   ]
  },
  {
   "cell_type": "code",
   "execution_count": 16,
   "metadata": {},
   "outputs": [
    {
     "name": "stdout",
     "output_type": "stream",
     "text": [
      "\n",
      "Time Cost train: 14.564031600952148 seconds\n",
      "\n",
      "Time Cost predict: 1.4660766124725342 seconds\n",
      "mse on test set 0.0002760178380141024\n",
      "mae on test set 0.011316301183473312\n"
     ]
    }
   ],
   "source": [
    "from sklearn.gaussian_process import GaussianProcessRegressor\n",
    "reg = GaussianProcessRegressor()\n",
    "starttime = time.time()\n",
    "reg.fit(X_train[:10000], y_train[:10000]) # train on 10 000 data point is sufficient \n",
    "endtime = time.time()\n",
    "print('\\nTime Cost train:', endtime - starttime, 'seconds')\n",
    "\n",
    "starttime = time.time()\n",
    "y_pred = reg.predict(X_test)\n",
    "endtime = time.time()\n",
    "print('\\nTime Cost predict:', endtime - starttime, 'seconds')\n",
    "mse_test = mean_squared_error(y_test, y_pred)\n",
    "mae_test = mean_absolute_error(y_test, y_pred)\n",
    "print('mse on test set', mse_test)\n",
    "print('mae on test set', mae_test)\n"
   ]
  },
  {
   "cell_type": "code",
   "execution_count": 17,
   "metadata": {},
   "outputs": [
    {
     "data": {
      "image/png": "[encoded data removed]",
      "text/plain": [
       "<Figure size 432x288 with 1 Axes>"
      ]
     },
     "metadata": {
      "needs_background": "light"
     },
     "output_type": "display_data"
    },
    {
     "data": {
      "image/png": "[encoded data removed]",
      "text/plain": [
       "<Figure size 720x360 with 2 Axes>"
      ]
     },
     "metadata": {
      "needs_background": "light"
     },
     "output_type": "display_data"
    }
   ],
   "source": [
    "diff = y_test.values - y_pred.ravel()\n",
    "plt.hist(diff, bins=100, density=True)\n",
    "plt.xlabel('diff')\n",
    "plt.title('error distribution on test set')\n",
    "plt.grid()\n",
    "\n",
    "fig = plt.figure(figsize=(10, 5))\n",
    "ax = plt.subplot(121)\n",
    "plt.xlabel('S0/K')\n",
    "plt.ylabel('error')\n",
    "plt.title('error distribution on test set')\n",
    "dist = plt.scatter(X_test['S0/K'], diff)\n",
    "plt.grid()\n",
    "bx = plt.subplot(122)\n",
    "plt.xlabel('time to maturity (year unit)')\n",
    "plt.ylabel('error')\n",
    "dist = plt.scatter(X_test['to_maturity'], diff)\n",
    "plt.grid()"
   ]
  },
  {
   "cell_type": "markdown",
   "metadata": {},
   "source": [
    "5 - **Implied volatility computation**"
   ]
  },
  {
   "cell_type": "markdown",
   "metadata": {},
   "source": [
    "We now calibrate B&S implied volatility using MLP with observed prices, ie re-compute IV given observed market prices\n",
    "\n",
    "We construct our dataset by generating call prices using random sampling IV and other parameters and then formulate the following supervised learning problem:\n",
    "\n",
    " - Explanatory variables : E call prices/strike, init stock/strike, time to maturity (yearly fraction), risk free rate\n",
    " - Target : IV \n"
   ]
  },
  {
   "cell_type": "code",
   "execution_count": 18,
   "metadata": {},
   "outputs": [
    {
     "name": "stderr",
     "output_type": "stream",
     "text": [
      "C:\\Users\\langbo\\anaconda3\\lib\\site-packages\\pandas\\core\\series.py:679: RuntimeWarning: divide by zero encountered in log\n",
      "  result = getattr(ufunc, method)(*inputs, **kwargs)\n",
      "C:\\Users\\langbo\\anaconda3\\lib\\site-packages\\pandas\\core\\series.py:679: RuntimeWarning: invalid value encountered in log\n",
      "  result = getattr(ufunc, method)(*inputs, **kwargs)\n"
     ]
    }
   ],
   "source": [
    "data = pd.DataFrame()\n",
    "data['S0/K'] = uniform(low=0.4, high=1.6, size=10000)\n",
    "data['to_maturity'] = uniform(low=0.2, high=1.1, size=(len(data)))\n",
    "data['sigma'] = uniform(low=0.01, high=1, size=len(data)) \n",
    "data['r'] = uniform(low=0.02, high=0.1, size=len(data))\n",
    "data['BS_price/K'] = bs_call(data['S0/K'].values,\n",
    "                           1, data['r'].values,\n",
    "                           data['sigma'].values,\n",
    "                           data['to_maturity'].values) # we generate price using sampled sigma \n",
    "# we take the log of option time value for gradient issue\n",
    "data['log(time_value/K)'] = np.log(data['BS_price/K'] - \\\n",
    "                                   np.maximum(data['S0/K'] - np.exp(-data['r'] * data['to_maturity']), 0))\n",
    "\n",
    "data = data[data['log(time_value/K)']>-1e7] # drop small values\n",
    "y = data['sigma']\n",
    "X = data[['S0/K', 'to_maturity', 'r', 'log(time_value/K)']]\n",
    "X_train, X_test, y_train,  y_test = train_test_split(X, y, test_size=0.33, random_state=42)"
   ]
  },
  {
   "cell_type": "code",
   "execution_count": 19,
   "metadata": {},
   "outputs": [
    {
     "data": {
      "application/vnd.jupyter.widget-view+json": {
       "model_id": "829c8aff3fe9417dada694f705adf6c8",
       "version_major": 2,
       "version_minor": 0
      },
      "text/plain": [
       "HBox(children=(FloatProgress(value=0.0, description='MLPRegressor hyper optim', max=50.0, style=ProgressStyle(…"
      ]
     },
     "metadata": {},
     "output_type": "display_data"
    },
    {
     "name": "stdout",
     "output_type": "stream",
     "text": [
      "100%|██████| 50/50 [28:55<00:00, 34.72s/trial, best loss: 0.016632149385345994]\n",
      "\n",
      "\n",
      "Time Cost: 19.56197476387024 seconds\n",
      "mse on train set 0.054173586395716795\n",
      "mae on train set 0.200275524155845\n",
      "mse on test set 0.05393940461506526\n",
      "mae on test set 0.19879379269521938\n"
     ]
    }
   ],
   "source": [
    "model.verbose = 0\n",
    "tuning_output = bayesian_tuning(\n",
    "           X_train.values,\n",
    "           y_train.values,\n",
    "           model=model,\n",
    "           param_grid=param_grid, \n",
    "           loss_metric='mse',\n",
    "           n_kfold=5,\n",
    "           nb_evals=50,       \n",
    "           optimizer=tpe.suggest\n",
    "    )\n",
    "\n",
    "starttime = time.time()\n",
    "model.fit(X_train, y_train)\n",
    "endtime = time.time()\n",
    "print('\\nTime Cost:', endtime - starttime, 'seconds')\n",
    "\n",
    "y_hat = model.predict(X_train)\n",
    "y_pred = model.predict(X_test) # nb_path=100 to use Monte-Carlo dropout mean\n",
    "print('mse on train set', mean_squared_error(y_train, y_hat))\n",
    "print('mae on train set', mean_absolute_error(y_train, y_hat))\n",
    "print('mse on test set', mean_squared_error(y_test, y_pred))\n",
    "print('mae on test set', mean_absolute_error(y_test, y_pred))"
   ]
  },
  {
   "cell_type": "code",
   "execution_count": 20,
   "metadata": {},
   "outputs": [
    {
     "name": "stderr",
     "output_type": "stream",
     "text": [
      "C:\\Users\\langbo\\Documents\\GitHub\\SIQEF-RA-2020\\SIQEF Assignment\\scikit_learn\\ml_option_pricing\\ml_option_pricing\\pricing_utils.py:89: RuntimeWarning: overflow encountered in double_scalars\n",
      "  xnew = (xnew - fx - V) / vega\n",
      "C:\\Users\\langbo\\Documents\\GitHub\\SIQEF-RA-2020\\SIQEF Assignment\\scikit_learn\\ml_option_pricing\\ml_option_pricing\\pricing_utils.py:87: RuntimeWarning: invalid value encountered in double_scalars\n",
      "  while abs(xnew - xold) > tol:\n"
     ]
    },
    {
     "name": "stdout",
     "output_type": "stream",
     "text": [
      "\n",
      "Time Cost: 9.078711748123169 seconds\n"
     ]
    },
    {
     "ename": "ValueError",
     "evalue": "Input contains NaN, infinity or a value too large for dtype('float64').",
     "output_type": "error",
     "traceback": [
      "\u001b[1;31m---------------------------------------------------------------------------\u001b[0m",
      "\u001b[1;31mValueError\u001b[0m                                Traceback (most recent call last)",
      "\u001b[1;32m<ipython-input-20-2bac31daf43b>\u001b[0m in \u001b[0;36m<module>\u001b[1;34m\u001b[0m\n\u001b[0;32m     13\u001b[0m \u001b[0miv_newton\u001b[0m \u001b[1;33m=\u001b[0m \u001b[0mnp\u001b[0m\u001b[1;33m.\u001b[0m\u001b[0marray\u001b[0m\u001b[1;33m(\u001b[0m\u001b[0miv_newton\u001b[0m\u001b[1;33m)\u001b[0m\u001b[1;33m\u001b[0m\u001b[1;33m\u001b[0m\u001b[0m\n\u001b[0;32m     14\u001b[0m \u001b[0mprint\u001b[0m\u001b[1;33m(\u001b[0m\u001b[1;34m'\\nTime Cost:'\u001b[0m\u001b[1;33m,\u001b[0m \u001b[0mendtime\u001b[0m \u001b[1;33m-\u001b[0m \u001b[0mstarttime\u001b[0m\u001b[1;33m,\u001b[0m \u001b[1;34m'seconds'\u001b[0m\u001b[1;33m)\u001b[0m\u001b[1;33m\u001b[0m\u001b[1;33m\u001b[0m\u001b[0m\n\u001b[1;32m---> 15\u001b[1;33m \u001b[0mprint\u001b[0m\u001b[1;33m(\u001b[0m\u001b[1;34m'mse newton on test set'\u001b[0m\u001b[1;33m,\u001b[0m \u001b[0mmean_squared_error\u001b[0m\u001b[1;33m(\u001b[0m\u001b[0my_test\u001b[0m\u001b[1;33m,\u001b[0m \u001b[0miv_newton\u001b[0m\u001b[1;33m)\u001b[0m\u001b[1;33m)\u001b[0m\u001b[1;33m\u001b[0m\u001b[1;33m\u001b[0m\u001b[0m\n\u001b[0m\u001b[0;32m     16\u001b[0m \u001b[0mprint\u001b[0m\u001b[1;33m(\u001b[0m\u001b[1;34m'mae newton on test set'\u001b[0m\u001b[1;33m,\u001b[0m \u001b[0mmean_absolute_error\u001b[0m\u001b[1;33m(\u001b[0m\u001b[0my_test\u001b[0m\u001b[1;33m,\u001b[0m \u001b[0miv_newton\u001b[0m\u001b[1;33m)\u001b[0m\u001b[1;33m)\u001b[0m\u001b[1;33m\u001b[0m\u001b[1;33m\u001b[0m\u001b[0m\n",
      "\u001b[1;32m~\\anaconda3\\lib\\site-packages\\sklearn\\metrics\\_regression.py\u001b[0m in \u001b[0;36mmean_squared_error\u001b[1;34m(y_true, y_pred, sample_weight, multioutput, squared)\u001b[0m\n\u001b[0;32m    250\u001b[0m     \"\"\"\n\u001b[0;32m    251\u001b[0m     y_type, y_true, y_pred, multioutput = _check_reg_targets(\n\u001b[1;32m--> 252\u001b[1;33m         y_true, y_pred, multioutput)\n\u001b[0m\u001b[0;32m    253\u001b[0m     \u001b[0mcheck_consistent_length\u001b[0m\u001b[1;33m(\u001b[0m\u001b[0my_true\u001b[0m\u001b[1;33m,\u001b[0m \u001b[0my_pred\u001b[0m\u001b[1;33m,\u001b[0m \u001b[0msample_weight\u001b[0m\u001b[1;33m)\u001b[0m\u001b[1;33m\u001b[0m\u001b[1;33m\u001b[0m\u001b[0m\n\u001b[0;32m    254\u001b[0m     output_errors = np.average((y_true - y_pred) ** 2, axis=0,\n",
      "\u001b[1;32m~\\anaconda3\\lib\\site-packages\\sklearn\\metrics\\_regression.py\u001b[0m in \u001b[0;36m_check_reg_targets\u001b[1;34m(y_true, y_pred, multioutput, dtype)\u001b[0m\n\u001b[0;32m     84\u001b[0m     \u001b[0mcheck_consistent_length\u001b[0m\u001b[1;33m(\u001b[0m\u001b[0my_true\u001b[0m\u001b[1;33m,\u001b[0m \u001b[0my_pred\u001b[0m\u001b[1;33m)\u001b[0m\u001b[1;33m\u001b[0m\u001b[1;33m\u001b[0m\u001b[0m\n\u001b[0;32m     85\u001b[0m     \u001b[0my_true\u001b[0m \u001b[1;33m=\u001b[0m \u001b[0mcheck_array\u001b[0m\u001b[1;33m(\u001b[0m\u001b[0my_true\u001b[0m\u001b[1;33m,\u001b[0m \u001b[0mensure_2d\u001b[0m\u001b[1;33m=\u001b[0m\u001b[1;32mFalse\u001b[0m\u001b[1;33m,\u001b[0m \u001b[0mdtype\u001b[0m\u001b[1;33m=\u001b[0m\u001b[0mdtype\u001b[0m\u001b[1;33m)\u001b[0m\u001b[1;33m\u001b[0m\u001b[1;33m\u001b[0m\u001b[0m\n\u001b[1;32m---> 86\u001b[1;33m     \u001b[0my_pred\u001b[0m \u001b[1;33m=\u001b[0m \u001b[0mcheck_array\u001b[0m\u001b[1;33m(\u001b[0m\u001b[0my_pred\u001b[0m\u001b[1;33m,\u001b[0m \u001b[0mensure_2d\u001b[0m\u001b[1;33m=\u001b[0m\u001b[1;32mFalse\u001b[0m\u001b[1;33m,\u001b[0m \u001b[0mdtype\u001b[0m\u001b[1;33m=\u001b[0m\u001b[0mdtype\u001b[0m\u001b[1;33m)\u001b[0m\u001b[1;33m\u001b[0m\u001b[1;33m\u001b[0m\u001b[0m\n\u001b[0m\u001b[0;32m     87\u001b[0m \u001b[1;33m\u001b[0m\u001b[0m\n\u001b[0;32m     88\u001b[0m     \u001b[1;32mif\u001b[0m \u001b[0my_true\u001b[0m\u001b[1;33m.\u001b[0m\u001b[0mndim\u001b[0m \u001b[1;33m==\u001b[0m \u001b[1;36m1\u001b[0m\u001b[1;33m:\u001b[0m\u001b[1;33m\u001b[0m\u001b[1;33m\u001b[0m\u001b[0m\n",
      "\u001b[1;32m~\\anaconda3\\lib\\site-packages\\sklearn\\utils\\validation.py\u001b[0m in \u001b[0;36mcheck_array\u001b[1;34m(array, accept_sparse, accept_large_sparse, dtype, order, copy, force_all_finite, ensure_2d, allow_nd, ensure_min_samples, ensure_min_features, warn_on_dtype, estimator)\u001b[0m\n\u001b[0;32m    576\u001b[0m         \u001b[1;32mif\u001b[0m \u001b[0mforce_all_finite\u001b[0m\u001b[1;33m:\u001b[0m\u001b[1;33m\u001b[0m\u001b[1;33m\u001b[0m\u001b[0m\n\u001b[0;32m    577\u001b[0m             _assert_all_finite(array,\n\u001b[1;32m--> 578\u001b[1;33m                                allow_nan=force_all_finite == 'allow-nan')\n\u001b[0m\u001b[0;32m    579\u001b[0m \u001b[1;33m\u001b[0m\u001b[0m\n\u001b[0;32m    580\u001b[0m     \u001b[1;32mif\u001b[0m \u001b[0mensure_min_samples\u001b[0m \u001b[1;33m>\u001b[0m \u001b[1;36m0\u001b[0m\u001b[1;33m:\u001b[0m\u001b[1;33m\u001b[0m\u001b[1;33m\u001b[0m\u001b[0m\n",
      "\u001b[1;32m~\\anaconda3\\lib\\site-packages\\sklearn\\utils\\validation.py\u001b[0m in \u001b[0;36m_assert_all_finite\u001b[1;34m(X, allow_nan, msg_dtype)\u001b[0m\n\u001b[0;32m     58\u001b[0m                     \u001b[0mmsg_err\u001b[0m\u001b[1;33m.\u001b[0m\u001b[0mformat\u001b[0m\u001b[1;33m\u001b[0m\u001b[1;33m\u001b[0m\u001b[0m\n\u001b[0;32m     59\u001b[0m                     (type_err,\n\u001b[1;32m---> 60\u001b[1;33m                      msg_dtype if msg_dtype is not None else X.dtype)\n\u001b[0m\u001b[0;32m     61\u001b[0m             )\n\u001b[0;32m     62\u001b[0m     \u001b[1;31m# for object dtype data, we only check for NaNs (GH-13254)\u001b[0m\u001b[1;33m\u001b[0m\u001b[1;33m\u001b[0m\u001b[1;33m\u001b[0m\u001b[0m\n",
      "\u001b[1;31mValueError\u001b[0m: Input contains NaN, infinity or a value too large for dtype('float64')."
     ]
    }
   ],
   "source": [
    "from pricing_utils import bs_vol_imp_call\n",
    "\n",
    "X = data\n",
    "X_train, X_test, y_train,  y_test = train_test_split(X, y, test_size=0.33, random_state=42)\n",
    "starttime = time.time()\n",
    "iv_newton = [bs_vol_imp_call(X_test.iloc[i]['S0/K'],\n",
    "                          1,\n",
    "                          X_test.iloc[i]['to_maturity'],\n",
    "                          X_test.iloc[i]['BS_price/K'],\n",
    "                          X_test.iloc[i]['r'],\n",
    "                          sigma_init=1) for i in range(len(X_test))]\n",
    "endtime = time.time()\n",
    "iv_newton = np.array(iv_newton)\n",
    "print('\\nTime Cost:', endtime - starttime, 'seconds')\n",
    "print('mse newton on test set', mean_squared_error(y_test, iv_newton))\n",
    "print('mae newton on test set', mean_absolute_error(y_test, iv_newton))"
   ]
  },
  {
   "cell_type": "markdown",
   "metadata": {},
   "source": [
    "6 - **Conclusion**"
   ]
  },
  {
   "cell_type": "markdown",
   "metadata": {},
   "source": [
    "- Neural network NLP can offer better precision but need high number of sample to be efficiently trained\n",
    "- Single hidden layer seems sufficient for the case of one asset\n",
    "- Gaussian process can do better with small dataset but prediction is longer\n",
    "- The performance can be highly deteriorated for new set of parameters that are close or out of the boundary of the training space"
   ]
  },
  {
   "cell_type": "markdown",
   "metadata": {},
   "source": [
    "## Case of basket option (Multi-underlying)"
   ]
  },
  {
   "cell_type": "markdown",
   "metadata": {},
   "source": [
    "**Brief presentation:**\n",
    "\n",
    "We consider a basket call option on an index $I_t$ given by :\n",
    "$$I_t = a_1S^1_t + ... + a_dS^d_t$$\n",
    "where $a_i>0$,  $\\sum a_i = 1$ and where each of the d assets follow a GBM:\n",
    "\n",
    "$dS^i_t=r S^i_tdt+\\sigma_i S^i_tdW^i_t\\quad\\quad$ with $\\quad d \\langle W^i, W^j\\rangle_t = \\rho_{ij}dt\\quad$ and $\\quad \\rho_{ij}=\\frac{\\sum^{d}_{k=1}{\\Sigma_{ik}\\Sigma_{jk}}}{\\sigma_i \\sigma_j}$\n",
    "\n",
    "Under risk-neutral measure\n",
    "\n",
    "We consider payoff of kind $(I_T - K)_+$"
   ]
  },
  {
   "cell_type": "markdown",
   "metadata": {},
   "source": [
    "**Monte-Carlo Pricing**\n",
    "\n",
    "The Feynman-Kac theorem enable to write the option price as the conditional expectation of the discounted terminal payoff under the risk neutral measure and thus we will use Monte-Carlo simulation of stock path to estimate this value. A very basic MC pricer is used, no variance reduction technics"
   ]
  },
  {
   "cell_type": "markdown",
   "metadata": {},
   "source": [
    "1 - **Generating dataset for 4 assets**"
   ]
  },
  {
   "cell_type": "code",
   "execution_count": 21,
   "metadata": {},
   "outputs": [
    {
     "name": "stdout",
     "output_type": "stream",
     "text": [
      "\n",
      "Time Cost of MC pricing: ~ 18.673668973445892 seconds\n"
     ]
    }
   ],
   "source": [
    "from scipy.stats import random_correlation\n",
    "from pricing_utils import payoff_call_basket, basket_mc_price\n",
    "\n",
    "n_sample = 10000\n",
    "d = 4\n",
    "N = 10000 #nb path for pricer\n",
    "data_sample = []\n",
    "data = []\n",
    "starttime = time.time()\n",
    "\n",
    "for n in range(n_sample):\n",
    "    Rho = random_correlation.rvs((.5, .8, 1.2, 1.5)) \n",
    "    sigma = uniform(low=0.01, high=1, size=d)\n",
    "    Gamma = np.diag(sigma) * Rho * np.diag(sigma)\n",
    "    Sigma=np.sqrt(Gamma)\n",
    "    r = uniform(low=0.02, high=0.1)\n",
    "    T = uniform(low=0.2, high=1.1) # annualized\n",
    "    a = (1/d)*np.ones(d) # fixed weights \n",
    "    S_0 = np.random.lognormal(mean=0.5, sigma=0.25, size=4)\n",
    "    I_0 = np.dot(a, S_0)\n",
    "    K = uniform(low=1, high=3) \n",
    "    Call_price, _, _ = basket_mc_price(N, S_0/K, 1, r, T, sigma, Sigma, a, fonction_payoff=payoff_call_basket)\n",
    "    data_sample = np.concatenate([Rho[0,1:], Rho[1,2:], Rho[2,3:], sigma, S_0/K,  [r, T, Call_price]])\n",
    "    data.append(data_sample)\n",
    "\n",
    "endtime = time.time()\n",
    "print('\\nTime Cost of MC pricing: ~', (endtime - starttime) * 0.33, 'seconds')\n",
    "\n",
    "data = pd.DataFrame(data,\n",
    "                   columns=['rho_12', 'rho_13', 'rho_14','rho_23', 'rho_24', 'rho_34',\n",
    "                           'sigma_1', 'sigma_2', 'sigma_3', 'sigma_4', 'S1_0/K', 'S2_0/K',\n",
    "                            'S3_0/K', 'S4_0/K', 'r', 'T', 'Price'])\n",
    "y = data['Price']\n",
    "X = data.drop(columns='Price')\n",
    "X_train, X_test, y_train,  y_test = train_test_split(X, y, test_size=0.33, random_state=42)"
   ]
  },
  {
   "cell_type": "markdown",
   "metadata": {},
   "source": [
    "2 - **MLP pricing**"
   ]
  },
  {
   "cell_type": "code",
   "execution_count": 22,
   "metadata": {},
   "outputs": [
    {
     "data": {
      "application/vnd.jupyter.widget-view+json": {
       "model_id": "629c176aa56d41c2b2ecdb2cd1d0bb5f",
       "version_major": 2,
       "version_minor": 0
      },
      "text/plain": [
       "HBox(children=(FloatProgress(value=0.0, description='MLPRegressor hyper optim', max=50.0, style=ProgressStyle(…"
      ]
     },
     "metadata": {},
     "output_type": "display_data"
    },
    {
     "name": "stdout",
     "output_type": "stream",
     "text": [
      " 62%|███  | 31/50 [11:22<06:58, 22.01s/trial, best loss: 0.0002110481387029225]\n"
     ]
    },
    {
     "ename": "KeyboardInterrupt",
     "evalue": "",
     "output_type": "error",
     "traceback": [
      "\u001b[1;31m---------------------------------------------------------------------------\u001b[0m",
      "\u001b[1;31mKeyboardInterrupt\u001b[0m                         Traceback (most recent call last)",
      "\u001b[1;32m<ipython-input-22-0d6584c93168>\u001b[0m in \u001b[0;36m<module>\u001b[1;34m\u001b[0m\n\u001b[0;32m     28\u001b[0m            \u001b[0mn_kfold\u001b[0m\u001b[1;33m=\u001b[0m\u001b[1;36m5\u001b[0m\u001b[1;33m,\u001b[0m\u001b[1;33m\u001b[0m\u001b[1;33m\u001b[0m\u001b[0m\n\u001b[0;32m     29\u001b[0m            \u001b[0mnb_evals\u001b[0m\u001b[1;33m=\u001b[0m\u001b[1;36m50\u001b[0m\u001b[1;33m,\u001b[0m\u001b[1;33m\u001b[0m\u001b[1;33m\u001b[0m\u001b[0m\n\u001b[1;32m---> 30\u001b[1;33m            \u001b[0moptimizer\u001b[0m\u001b[1;33m=\u001b[0m\u001b[0mtpe\u001b[0m\u001b[1;33m.\u001b[0m\u001b[0msuggest\u001b[0m\u001b[1;33m\u001b[0m\u001b[1;33m\u001b[0m\u001b[0m\n\u001b[0m\u001b[0;32m     31\u001b[0m     )\n\u001b[0;32m     32\u001b[0m \u001b[0mbest_params\u001b[0m \u001b[1;33m=\u001b[0m \u001b[0mtuning_output\u001b[0m\u001b[1;33m[\u001b[0m\u001b[1;36m0\u001b[0m\u001b[1;33m]\u001b[0m\u001b[1;33m[\u001b[0m\u001b[1;34m'hyperparameters'\u001b[0m\u001b[1;33m]\u001b[0m\u001b[1;33m\u001b[0m\u001b[1;33m\u001b[0m\u001b[0m\n",
      "\u001b[1;32m~\\Documents\\GitHub\\SIQEF-RA-2020\\SIQEF Assignment\\scikit_learn\\ml_option_pricing\\ml_option_pricing\\ml_utils.py\u001b[0m in \u001b[0;36mbayesian_tuning\u001b[1;34m(X, y, model, param_grid, loss_metric, n_kfold, y_transform, static_params, sample_weight, trials, nb_evals, optimizer, **kwargs)\u001b[0m\n\u001b[0;32m    211\u001b[0m     \u001b[0mtrials\u001b[0m \u001b[1;33m=\u001b[0m \u001b[0mtrials\u001b[0m\u001b[1;33m(\u001b[0m\u001b[1;33m)\u001b[0m\u001b[1;33m\u001b[0m\u001b[1;33m\u001b[0m\u001b[0m\n\u001b[0;32m    212\u001b[0m     results = fmin(fn=objective, space=param_grid, algo=optimizer, trials=trials,\n\u001b[1;32m--> 213\u001b[1;33m                   max_evals=nb_evals)\n\u001b[0m\u001b[0;32m    214\u001b[0m     \u001b[0mpbar\u001b[0m\u001b[1;33m.\u001b[0m\u001b[0mclose\u001b[0m\u001b[1;33m(\u001b[0m\u001b[1;33m)\u001b[0m\u001b[1;33m\u001b[0m\u001b[1;33m\u001b[0m\u001b[0m\n\u001b[0;32m    215\u001b[0m     \u001b[0mtrials_dict\u001b[0m \u001b[1;33m=\u001b[0m \u001b[0msorted\u001b[0m\u001b[1;33m(\u001b[0m\u001b[0mtrials\u001b[0m\u001b[1;33m.\u001b[0m\u001b[0mresults\u001b[0m\u001b[1;33m,\u001b[0m \u001b[0mkey\u001b[0m\u001b[1;33m=\u001b[0m\u001b[1;32mlambda\u001b[0m \u001b[0mx\u001b[0m\u001b[1;33m:\u001b[0m \u001b[0mx\u001b[0m\u001b[1;33m[\u001b[0m\u001b[1;34m'loss'\u001b[0m\u001b[1;33m]\u001b[0m\u001b[1;33m)\u001b[0m\u001b[1;33m\u001b[0m\u001b[1;33m\u001b[0m\u001b[0m\n",
      "\u001b[1;32m~\\anaconda3\\lib\\site-packages\\hyperopt\\fmin.py\u001b[0m in \u001b[0;36mfmin\u001b[1;34m(fn, space, algo, max_evals, timeout, loss_threshold, trials, rstate, allow_trials_fmin, pass_expr_memo_ctrl, catch_eval_exceptions, verbose, return_argmin, points_to_evaluate, max_queue_len, show_progressbar)\u001b[0m\n\u001b[0;32m    480\u001b[0m             \u001b[0mcatch_eval_exceptions\u001b[0m\u001b[1;33m=\u001b[0m\u001b[0mcatch_eval_exceptions\u001b[0m\u001b[1;33m,\u001b[0m\u001b[1;33m\u001b[0m\u001b[1;33m\u001b[0m\u001b[0m\n\u001b[0;32m    481\u001b[0m             \u001b[0mreturn_argmin\u001b[0m\u001b[1;33m=\u001b[0m\u001b[0mreturn_argmin\u001b[0m\u001b[1;33m,\u001b[0m\u001b[1;33m\u001b[0m\u001b[1;33m\u001b[0m\u001b[0m\n\u001b[1;32m--> 482\u001b[1;33m             \u001b[0mshow_progressbar\u001b[0m\u001b[1;33m=\u001b[0m\u001b[0mshow_progressbar\u001b[0m\u001b[1;33m,\u001b[0m\u001b[1;33m\u001b[0m\u001b[1;33m\u001b[0m\u001b[0m\n\u001b[0m\u001b[0;32m    483\u001b[0m         )\n\u001b[0;32m    484\u001b[0m \u001b[1;33m\u001b[0m\u001b[0m\n",
      "\u001b[1;32m~\\anaconda3\\lib\\site-packages\\hyperopt\\base.py\u001b[0m in \u001b[0;36mfmin\u001b[1;34m(self, fn, space, algo, max_evals, timeout, loss_threshold, max_queue_len, rstate, verbose, pass_expr_memo_ctrl, catch_eval_exceptions, return_argmin, show_progressbar)\u001b[0m\n\u001b[0;32m    684\u001b[0m             \u001b[0mcatch_eval_exceptions\u001b[0m\u001b[1;33m=\u001b[0m\u001b[0mcatch_eval_exceptions\u001b[0m\u001b[1;33m,\u001b[0m\u001b[1;33m\u001b[0m\u001b[1;33m\u001b[0m\u001b[0m\n\u001b[0;32m    685\u001b[0m             \u001b[0mreturn_argmin\u001b[0m\u001b[1;33m=\u001b[0m\u001b[0mreturn_argmin\u001b[0m\u001b[1;33m,\u001b[0m\u001b[1;33m\u001b[0m\u001b[1;33m\u001b[0m\u001b[0m\n\u001b[1;32m--> 686\u001b[1;33m             \u001b[0mshow_progressbar\u001b[0m\u001b[1;33m=\u001b[0m\u001b[0mshow_progressbar\u001b[0m\u001b[1;33m,\u001b[0m\u001b[1;33m\u001b[0m\u001b[1;33m\u001b[0m\u001b[0m\n\u001b[0m\u001b[0;32m    687\u001b[0m         )\n\u001b[0;32m    688\u001b[0m \u001b[1;33m\u001b[0m\u001b[0m\n",
      "\u001b[1;32m~\\anaconda3\\lib\\site-packages\\hyperopt\\fmin.py\u001b[0m in \u001b[0;36mfmin\u001b[1;34m(fn, space, algo, max_evals, timeout, loss_threshold, trials, rstate, allow_trials_fmin, pass_expr_memo_ctrl, catch_eval_exceptions, verbose, return_argmin, points_to_evaluate, max_queue_len, show_progressbar)\u001b[0m\n\u001b[0;32m    507\u001b[0m \u001b[1;33m\u001b[0m\u001b[0m\n\u001b[0;32m    508\u001b[0m     \u001b[1;31m# next line is where the fmin is actually executed\u001b[0m\u001b[1;33m\u001b[0m\u001b[1;33m\u001b[0m\u001b[1;33m\u001b[0m\u001b[0m\n\u001b[1;32m--> 509\u001b[1;33m     \u001b[0mrval\u001b[0m\u001b[1;33m.\u001b[0m\u001b[0mexhaust\u001b[0m\u001b[1;33m(\u001b[0m\u001b[1;33m)\u001b[0m\u001b[1;33m\u001b[0m\u001b[1;33m\u001b[0m\u001b[0m\n\u001b[0m\u001b[0;32m    510\u001b[0m \u001b[1;33m\u001b[0m\u001b[0m\n\u001b[0;32m    511\u001b[0m     \u001b[1;32mif\u001b[0m \u001b[0mreturn_argmin\u001b[0m\u001b[1;33m:\u001b[0m\u001b[1;33m\u001b[0m\u001b[1;33m\u001b[0m\u001b[0m\n",
      "\u001b[1;32m~\\anaconda3\\lib\\site-packages\\hyperopt\\fmin.py\u001b[0m in \u001b[0;36mexhaust\u001b[1;34m(self)\u001b[0m\n\u001b[0;32m    328\u001b[0m     \u001b[1;32mdef\u001b[0m \u001b[0mexhaust\u001b[0m\u001b[1;33m(\u001b[0m\u001b[0mself\u001b[0m\u001b[1;33m)\u001b[0m\u001b[1;33m:\u001b[0m\u001b[1;33m\u001b[0m\u001b[1;33m\u001b[0m\u001b[0m\n\u001b[0;32m    329\u001b[0m         \u001b[0mn_done\u001b[0m \u001b[1;33m=\u001b[0m \u001b[0mlen\u001b[0m\u001b[1;33m(\u001b[0m\u001b[0mself\u001b[0m\u001b[1;33m.\u001b[0m\u001b[0mtrials\u001b[0m\u001b[1;33m)\u001b[0m\u001b[1;33m\u001b[0m\u001b[1;33m\u001b[0m\u001b[0m\n\u001b[1;32m--> 330\u001b[1;33m         \u001b[0mself\u001b[0m\u001b[1;33m.\u001b[0m\u001b[0mrun\u001b[0m\u001b[1;33m(\u001b[0m\u001b[0mself\u001b[0m\u001b[1;33m.\u001b[0m\u001b[0mmax_evals\u001b[0m \u001b[1;33m-\u001b[0m \u001b[0mn_done\u001b[0m\u001b[1;33m,\u001b[0m \u001b[0mblock_until_done\u001b[0m\u001b[1;33m=\u001b[0m\u001b[0mself\u001b[0m\u001b[1;33m.\u001b[0m\u001b[0masynchronous\u001b[0m\u001b[1;33m)\u001b[0m\u001b[1;33m\u001b[0m\u001b[1;33m\u001b[0m\u001b[0m\n\u001b[0m\u001b[0;32m    331\u001b[0m         \u001b[0mself\u001b[0m\u001b[1;33m.\u001b[0m\u001b[0mtrials\u001b[0m\u001b[1;33m.\u001b[0m\u001b[0mrefresh\u001b[0m\u001b[1;33m(\u001b[0m\u001b[1;33m)\u001b[0m\u001b[1;33m\u001b[0m\u001b[1;33m\u001b[0m\u001b[0m\n\u001b[0;32m    332\u001b[0m         \u001b[1;32mreturn\u001b[0m \u001b[0mself\u001b[0m\u001b[1;33m\u001b[0m\u001b[1;33m\u001b[0m\u001b[0m\n",
      "\u001b[1;32m~\\anaconda3\\lib\\site-packages\\hyperopt\\fmin.py\u001b[0m in \u001b[0;36mrun\u001b[1;34m(self, N, block_until_done)\u001b[0m\n\u001b[0;32m    284\u001b[0m                 \u001b[1;32melse\u001b[0m\u001b[1;33m:\u001b[0m\u001b[1;33m\u001b[0m\u001b[1;33m\u001b[0m\u001b[0m\n\u001b[0;32m    285\u001b[0m                     \u001b[1;31m# -- loop over trials and do the jobs directly\u001b[0m\u001b[1;33m\u001b[0m\u001b[1;33m\u001b[0m\u001b[1;33m\u001b[0m\u001b[0m\n\u001b[1;32m--> 286\u001b[1;33m                     \u001b[0mself\u001b[0m\u001b[1;33m.\u001b[0m\u001b[0mserial_evaluate\u001b[0m\u001b[1;33m(\u001b[0m\u001b[1;33m)\u001b[0m\u001b[1;33m\u001b[0m\u001b[1;33m\u001b[0m\u001b[0m\n\u001b[0m\u001b[0;32m    287\u001b[0m \u001b[1;33m\u001b[0m\u001b[0m\n\u001b[0;32m    288\u001b[0m                 \u001b[0mself\u001b[0m\u001b[1;33m.\u001b[0m\u001b[0mtrials\u001b[0m\u001b[1;33m.\u001b[0m\u001b[0mrefresh\u001b[0m\u001b[1;33m(\u001b[0m\u001b[1;33m)\u001b[0m\u001b[1;33m\u001b[0m\u001b[1;33m\u001b[0m\u001b[0m\n",
      "\u001b[1;32m~\\anaconda3\\lib\\site-packages\\hyperopt\\fmin.py\u001b[0m in \u001b[0;36mserial_evaluate\u001b[1;34m(self, N)\u001b[0m\n\u001b[0;32m    163\u001b[0m                 \u001b[0mctrl\u001b[0m \u001b[1;33m=\u001b[0m \u001b[0mbase\u001b[0m\u001b[1;33m.\u001b[0m\u001b[0mCtrl\u001b[0m\u001b[1;33m(\u001b[0m\u001b[0mself\u001b[0m\u001b[1;33m.\u001b[0m\u001b[0mtrials\u001b[0m\u001b[1;33m,\u001b[0m \u001b[0mcurrent_trial\u001b[0m\u001b[1;33m=\u001b[0m\u001b[0mtrial\u001b[0m\u001b[1;33m)\u001b[0m\u001b[1;33m\u001b[0m\u001b[1;33m\u001b[0m\u001b[0m\n\u001b[0;32m    164\u001b[0m                 \u001b[1;32mtry\u001b[0m\u001b[1;33m:\u001b[0m\u001b[1;33m\u001b[0m\u001b[1;33m\u001b[0m\u001b[0m\n\u001b[1;32m--> 165\u001b[1;33m                     \u001b[0mresult\u001b[0m \u001b[1;33m=\u001b[0m \u001b[0mself\u001b[0m\u001b[1;33m.\u001b[0m\u001b[0mdomain\u001b[0m\u001b[1;33m.\u001b[0m\u001b[0mevaluate\u001b[0m\u001b[1;33m(\u001b[0m\u001b[0mspec\u001b[0m\u001b[1;33m,\u001b[0m \u001b[0mctrl\u001b[0m\u001b[1;33m)\u001b[0m\u001b[1;33m\u001b[0m\u001b[1;33m\u001b[0m\u001b[0m\n\u001b[0m\u001b[0;32m    166\u001b[0m                 \u001b[1;32mexcept\u001b[0m \u001b[0mException\u001b[0m \u001b[1;32mas\u001b[0m \u001b[0me\u001b[0m\u001b[1;33m:\u001b[0m\u001b[1;33m\u001b[0m\u001b[1;33m\u001b[0m\u001b[0m\n\u001b[0;32m    167\u001b[0m                     \u001b[0mlogger\u001b[0m\u001b[1;33m.\u001b[0m\u001b[0merror\u001b[0m\u001b[1;33m(\u001b[0m\u001b[1;34m\"job exception: %s\"\u001b[0m \u001b[1;33m%\u001b[0m \u001b[0mstr\u001b[0m\u001b[1;33m(\u001b[0m\u001b[0me\u001b[0m\u001b[1;33m)\u001b[0m\u001b[1;33m)\u001b[0m\u001b[1;33m\u001b[0m\u001b[1;33m\u001b[0m\u001b[0m\n",
      "\u001b[1;32m~\\anaconda3\\lib\\site-packages\\hyperopt\\base.py\u001b[0m in \u001b[0;36mevaluate\u001b[1;34m(self, config, ctrl, attach_attachments)\u001b[0m\n\u001b[0;32m    892\u001b[0m                 \u001b[0mprint_node_on_error\u001b[0m\u001b[1;33m=\u001b[0m\u001b[0mself\u001b[0m\u001b[1;33m.\u001b[0m\u001b[0mrec_eval_print_node_on_error\u001b[0m\u001b[1;33m,\u001b[0m\u001b[1;33m\u001b[0m\u001b[1;33m\u001b[0m\u001b[0m\n\u001b[0;32m    893\u001b[0m             )\n\u001b[1;32m--> 894\u001b[1;33m             \u001b[0mrval\u001b[0m \u001b[1;33m=\u001b[0m \u001b[0mself\u001b[0m\u001b[1;33m.\u001b[0m\u001b[0mfn\u001b[0m\u001b[1;33m(\u001b[0m\u001b[0mpyll_rval\u001b[0m\u001b[1;33m)\u001b[0m\u001b[1;33m\u001b[0m\u001b[1;33m\u001b[0m\u001b[0m\n\u001b[0m\u001b[0;32m    895\u001b[0m \u001b[1;33m\u001b[0m\u001b[0m\n\u001b[0;32m    896\u001b[0m         \u001b[1;32mif\u001b[0m \u001b[0misinstance\u001b[0m\u001b[1;33m(\u001b[0m\u001b[0mrval\u001b[0m\u001b[1;33m,\u001b[0m \u001b[1;33m(\u001b[0m\u001b[0mfloat\u001b[0m\u001b[1;33m,\u001b[0m \u001b[0mint\u001b[0m\u001b[1;33m,\u001b[0m \u001b[0mnp\u001b[0m\u001b[1;33m.\u001b[0m\u001b[0mnumber\u001b[0m\u001b[1;33m)\u001b[0m\u001b[1;33m)\u001b[0m\u001b[1;33m:\u001b[0m\u001b[1;33m\u001b[0m\u001b[1;33m\u001b[0m\u001b[0m\n",
      "\u001b[1;32m~\\Documents\\GitHub\\SIQEF-RA-2020\\SIQEF Assignment\\scikit_learn\\ml_option_pricing\\ml_option_pricing\\ml_utils.py\u001b[0m in \u001b[0;36mobjective\u001b[1;34m(hyperparameters)\u001b[0m\n\u001b[0;32m    194\u001b[0m             \u001b[0msample_weight\u001b[0m\u001b[1;33m=\u001b[0m\u001b[0msample_weight\u001b[0m\u001b[1;33m,\u001b[0m\u001b[1;33m\u001b[0m\u001b[1;33m\u001b[0m\u001b[0m\n\u001b[0;32m    195\u001b[0m             \u001b[0mloss_metric\u001b[0m\u001b[1;33m=\u001b[0m\u001b[0mloss_metric\u001b[0m\u001b[1;33m,\u001b[0m\u001b[1;33m\u001b[0m\u001b[1;33m\u001b[0m\u001b[0m\n\u001b[1;32m--> 196\u001b[1;33m             \u001b[1;33m**\u001b[0m\u001b[0mkwargs\u001b[0m\u001b[1;33m,\u001b[0m\u001b[1;33m\u001b[0m\u001b[1;33m\u001b[0m\u001b[0m\n\u001b[0m\u001b[0;32m    197\u001b[0m         )\n\u001b[0;32m    198\u001b[0m \u001b[1;33m\u001b[0m\u001b[0m\n",
      "\u001b[1;32m~\\Documents\\GitHub\\SIQEF-RA-2020\\SIQEF Assignment\\scikit_learn\\ml_option_pricing\\ml_option_pricing\\ml_utils.py\u001b[0m in \u001b[0;36mkfold_cv\u001b[1;34m(X, y, model, n_kfold, y_transform, sample_weight, loss_metric, **kwargs)\u001b[0m\n\u001b[0;32m    250\u001b[0m \u001b[1;33m\u001b[0m\u001b[0m\n\u001b[0;32m    251\u001b[0m         \u001b[0mmodel\u001b[0m\u001b[1;33m.\u001b[0m\u001b[0mfit\u001b[0m\u001b[1;33m(\u001b[0m\u001b[0mX_train\u001b[0m\u001b[1;33m,\u001b[0m \u001b[0my_train\u001b[0m\u001b[1;33m,\u001b[0m \u001b[0msample_weight\u001b[0m\u001b[1;33m=\u001b[0m\u001b[0mW_train\u001b[0m\u001b[1;33m,\u001b[0m \u001b[1;33m**\u001b[0m\u001b[0mkwargs\u001b[0m\u001b[1;33m)\u001b[0m\u001b[1;33m\u001b[0m\u001b[1;33m\u001b[0m\u001b[0m\n\u001b[1;32m--> 252\u001b[1;33m         \u001b[0my_pred\u001b[0m \u001b[1;33m=\u001b[0m \u001b[0mmodel\u001b[0m\u001b[1;33m.\u001b[0m\u001b[0mpredict\u001b[0m\u001b[1;33m(\u001b[0m\u001b[0mX_test\u001b[0m\u001b[1;33m)\u001b[0m\u001b[1;33m\u001b[0m\u001b[1;33m\u001b[0m\u001b[0m\n\u001b[0m\u001b[0;32m    253\u001b[0m \u001b[1;33m\u001b[0m\u001b[0m\n\u001b[0;32m    254\u001b[0m         \u001b[0mkf_score\u001b[0m \u001b[1;33m=\u001b[0m \u001b[1;33m{\u001b[0m\u001b[1;33m}\u001b[0m\u001b[1;33m\u001b[0m\u001b[1;33m\u001b[0m\u001b[0m\n",
      "\u001b[1;32m~\\Documents\\GitHub\\SIQEF-RA-2020\\SIQEF Assignment\\scikit_learn\\ml_option_pricing\\ml_option_pricing\\ml_models.py\u001b[0m in \u001b[0;36mpredict\u001b[1;34m(self, X, nb_path, sampling, **kwargs)\u001b[0m\n\u001b[0;32m    222\u001b[0m                 \u001b[1;32mreturn\u001b[0m \u001b[0mcompute_uncertainty\u001b[0m\u001b[1;33m(\u001b[0m\u001b[0mmc_samples\u001b[0m\u001b[1;33m)\u001b[0m\u001b[1;33m\u001b[0m\u001b[1;33m\u001b[0m\u001b[0m\n\u001b[0;32m    223\u001b[0m         \u001b[1;32melse\u001b[0m\u001b[1;33m:\u001b[0m\u001b[1;33m\u001b[0m\u001b[1;33m\u001b[0m\u001b[0m\n\u001b[1;32m--> 224\u001b[1;33m             \u001b[0mpred\u001b[0m \u001b[1;33m=\u001b[0m \u001b[0mself\u001b[0m\u001b[1;33m.\u001b[0m\u001b[0mmodel\u001b[0m\u001b[1;33m.\u001b[0m\u001b[0mpredict\u001b[0m\u001b[1;33m(\u001b[0m\u001b[0mX\u001b[0m\u001b[1;33m,\u001b[0m \u001b[1;33m**\u001b[0m\u001b[0mkwargs\u001b[0m\u001b[1;33m)\u001b[0m\u001b[1;33m\u001b[0m\u001b[1;33m\u001b[0m\u001b[0m\n\u001b[0m\u001b[0;32m    225\u001b[0m             \u001b[1;32mreturn\u001b[0m \u001b[0mpred\u001b[0m\u001b[1;33m\u001b[0m\u001b[1;33m\u001b[0m\u001b[0m\n\u001b[0;32m    226\u001b[0m \u001b[1;33m\u001b[0m\u001b[0m\n",
      "\u001b[1;32m~\\anaconda3\\lib\\site-packages\\tensorflow\\python\\keras\\engine\\training.py\u001b[0m in \u001b[0;36m_method_wrapper\u001b[1;34m(self, *args, **kwargs)\u001b[0m\n\u001b[0;32m     86\u001b[0m       raise ValueError('{} is not supported in multi-worker mode.'.format(\n\u001b[0;32m     87\u001b[0m           method.__name__))\n\u001b[1;32m---> 88\u001b[1;33m     \u001b[1;32mreturn\u001b[0m \u001b[0mmethod\u001b[0m\u001b[1;33m(\u001b[0m\u001b[0mself\u001b[0m\u001b[1;33m,\u001b[0m \u001b[1;33m*\u001b[0m\u001b[0margs\u001b[0m\u001b[1;33m,\u001b[0m \u001b[1;33m**\u001b[0m\u001b[0mkwargs\u001b[0m\u001b[1;33m)\u001b[0m\u001b[1;33m\u001b[0m\u001b[1;33m\u001b[0m\u001b[0m\n\u001b[0m\u001b[0;32m     89\u001b[0m \u001b[1;33m\u001b[0m\u001b[0m\n\u001b[0;32m     90\u001b[0m   return tf_decorator.make_decorator(\n",
      "\u001b[1;32m~\\anaconda3\\lib\\site-packages\\tensorflow\\python\\keras\\engine\\training.py\u001b[0m in \u001b[0;36mpredict\u001b[1;34m(self, x, batch_size, verbose, steps, callbacks, max_queue_size, workers, use_multiprocessing)\u001b[0m\n\u001b[0;32m   1247\u001b[0m           \u001b[0mworkers\u001b[0m\u001b[1;33m=\u001b[0m\u001b[0mworkers\u001b[0m\u001b[1;33m,\u001b[0m\u001b[1;33m\u001b[0m\u001b[1;33m\u001b[0m\u001b[0m\n\u001b[0;32m   1248\u001b[0m           \u001b[0muse_multiprocessing\u001b[0m\u001b[1;33m=\u001b[0m\u001b[0muse_multiprocessing\u001b[0m\u001b[1;33m,\u001b[0m\u001b[1;33m\u001b[0m\u001b[1;33m\u001b[0m\u001b[0m\n\u001b[1;32m-> 1249\u001b[1;33m           model=self)\n\u001b[0m\u001b[0;32m   1250\u001b[0m \u001b[1;33m\u001b[0m\u001b[0m\n\u001b[0;32m   1251\u001b[0m       \u001b[1;31m# Container that configures and calls `tf.keras.Callback`s.\u001b[0m\u001b[1;33m\u001b[0m\u001b[1;33m\u001b[0m\u001b[1;33m\u001b[0m\u001b[0m\n",
      "\u001b[1;32m~\\anaconda3\\lib\\site-packages\\tensorflow\\python\\keras\\engine\\data_adapter.py\u001b[0m in \u001b[0;36m__init__\u001b[1;34m(self, x, y, sample_weight, batch_size, steps_per_epoch, initial_epoch, epochs, shuffle, class_weight, max_queue_size, workers, use_multiprocessing, model)\u001b[0m\n\u001b[0;32m   1110\u001b[0m         \u001b[0muse_multiprocessing\u001b[0m\u001b[1;33m=\u001b[0m\u001b[0muse_multiprocessing\u001b[0m\u001b[1;33m,\u001b[0m\u001b[1;33m\u001b[0m\u001b[1;33m\u001b[0m\u001b[0m\n\u001b[0;32m   1111\u001b[0m         \u001b[0mdistribution_strategy\u001b[0m\u001b[1;33m=\u001b[0m\u001b[0mds_context\u001b[0m\u001b[1;33m.\u001b[0m\u001b[0mget_strategy\u001b[0m\u001b[1;33m(\u001b[0m\u001b[1;33m)\u001b[0m\u001b[1;33m,\u001b[0m\u001b[1;33m\u001b[0m\u001b[1;33m\u001b[0m\u001b[0m\n\u001b[1;32m-> 1112\u001b[1;33m         model=model)\n\u001b[0m\u001b[0;32m   1113\u001b[0m \u001b[1;33m\u001b[0m\u001b[0m\n\u001b[0;32m   1114\u001b[0m     \u001b[0mstrategy\u001b[0m \u001b[1;33m=\u001b[0m \u001b[0mds_context\u001b[0m\u001b[1;33m.\u001b[0m\u001b[0mget_strategy\u001b[0m\u001b[1;33m(\u001b[0m\u001b[1;33m)\u001b[0m\u001b[1;33m\u001b[0m\u001b[1;33m\u001b[0m\u001b[0m\n",
      "\u001b[1;32m~\\anaconda3\\lib\\site-packages\\tensorflow\\python\\keras\\engine\\data_adapter.py\u001b[0m in \u001b[0;36m__init__\u001b[1;34m(self, x, y, sample_weights, sample_weight_modes, batch_size, epochs, steps, shuffle, **kwargs)\u001b[0m\n\u001b[0;32m    360\u001b[0m       \u001b[1;32mreturn\u001b[0m \u001b[0mflat_dataset\u001b[0m\u001b[1;33m\u001b[0m\u001b[1;33m\u001b[0m\u001b[0m\n\u001b[0;32m    361\u001b[0m \u001b[1;33m\u001b[0m\u001b[0m\n\u001b[1;32m--> 362\u001b[1;33m     \u001b[0mindices_dataset\u001b[0m \u001b[1;33m=\u001b[0m \u001b[0mindices_dataset\u001b[0m\u001b[1;33m.\u001b[0m\u001b[0mflat_map\u001b[0m\u001b[1;33m(\u001b[0m\u001b[0mslice_batch_indices\u001b[0m\u001b[1;33m)\u001b[0m\u001b[1;33m\u001b[0m\u001b[1;33m\u001b[0m\u001b[0m\n\u001b[0m\u001b[0;32m    363\u001b[0m \u001b[1;33m\u001b[0m\u001b[0m\n\u001b[0;32m    364\u001b[0m     \u001b[0mdataset\u001b[0m \u001b[1;33m=\u001b[0m \u001b[0mself\u001b[0m\u001b[1;33m.\u001b[0m\u001b[0mslice_inputs\u001b[0m\u001b[1;33m(\u001b[0m\u001b[0mindices_dataset\u001b[0m\u001b[1;33m,\u001b[0m \u001b[0minputs\u001b[0m\u001b[1;33m)\u001b[0m\u001b[1;33m\u001b[0m\u001b[1;33m\u001b[0m\u001b[0m\n",
      "\u001b[1;32m~\\anaconda3\\lib\\site-packages\\tensorflow\\python\\data\\ops\\dataset_ops.py\u001b[0m in \u001b[0;36mflat_map\u001b[1;34m(self, map_func)\u001b[0m\n\u001b[0;32m   1650\u001b[0m       \u001b[0mDataset\u001b[0m\u001b[1;33m:\u001b[0m \u001b[0mA\u001b[0m\u001b[0;31m \u001b[0m\u001b[0;31m`\u001b[0m\u001b[0mDataset\u001b[0m\u001b[0;31m`\u001b[0m\u001b[1;33m.\u001b[0m\u001b[1;33m\u001b[0m\u001b[1;33m\u001b[0m\u001b[0m\n\u001b[0;32m   1651\u001b[0m     \"\"\"\n\u001b[1;32m-> 1652\u001b[1;33m     \u001b[1;32mreturn\u001b[0m \u001b[0mFlatMapDataset\u001b[0m\u001b[1;33m(\u001b[0m\u001b[0mself\u001b[0m\u001b[1;33m,\u001b[0m \u001b[0mmap_func\u001b[0m\u001b[1;33m)\u001b[0m\u001b[1;33m\u001b[0m\u001b[1;33m\u001b[0m\u001b[0m\n\u001b[0m\u001b[0;32m   1653\u001b[0m \u001b[1;33m\u001b[0m\u001b[0m\n\u001b[0;32m   1654\u001b[0m   def interleave(self,\n",
      "\u001b[1;32m~\\anaconda3\\lib\\site-packages\\tensorflow\\python\\data\\ops\\dataset_ops.py\u001b[0m in \u001b[0;36m__init__\u001b[1;34m(self, input_dataset, map_func)\u001b[0m\n\u001b[0;32m   4069\u001b[0m     \u001b[0mself\u001b[0m\u001b[1;33m.\u001b[0m\u001b[0m_input_dataset\u001b[0m \u001b[1;33m=\u001b[0m \u001b[0minput_dataset\u001b[0m\u001b[1;33m\u001b[0m\u001b[1;33m\u001b[0m\u001b[0m\n\u001b[0;32m   4070\u001b[0m     self._map_func = StructuredFunctionWrapper(\n\u001b[1;32m-> 4071\u001b[1;33m         map_func, self._transformation_name(), dataset=input_dataset)\n\u001b[0m\u001b[0;32m   4072\u001b[0m     \u001b[1;32mif\u001b[0m \u001b[1;32mnot\u001b[0m \u001b[0misinstance\u001b[0m\u001b[1;33m(\u001b[0m\u001b[0mself\u001b[0m\u001b[1;33m.\u001b[0m\u001b[0m_map_func\u001b[0m\u001b[1;33m.\u001b[0m\u001b[0moutput_structure\u001b[0m\u001b[1;33m,\u001b[0m \u001b[0mDatasetSpec\u001b[0m\u001b[1;33m)\u001b[0m\u001b[1;33m:\u001b[0m\u001b[1;33m\u001b[0m\u001b[1;33m\u001b[0m\u001b[0m\n\u001b[0;32m   4073\u001b[0m       raise TypeError(\n",
      "\u001b[1;32m~\\anaconda3\\lib\\site-packages\\tensorflow\\python\\data\\ops\\dataset_ops.py\u001b[0m in \u001b[0;36m__init__\u001b[1;34m(self, func, transformation_name, dataset, input_classes, input_shapes, input_types, input_structure, add_to_graph, use_legacy_function, defun_kwargs)\u001b[0m\n\u001b[0;32m   3219\u001b[0m       \u001b[1;32mwith\u001b[0m \u001b[0mtracking\u001b[0m\u001b[1;33m.\u001b[0m\u001b[0mresource_tracker_scope\u001b[0m\u001b[1;33m(\u001b[0m\u001b[0mresource_tracker\u001b[0m\u001b[1;33m)\u001b[0m\u001b[1;33m:\u001b[0m\u001b[1;33m\u001b[0m\u001b[1;33m\u001b[0m\u001b[0m\n\u001b[0;32m   3220\u001b[0m         \u001b[1;31m# TODO(b/141462134): Switch to using garbage collection.\u001b[0m\u001b[1;33m\u001b[0m\u001b[1;33m\u001b[0m\u001b[1;33m\u001b[0m\u001b[0m\n\u001b[1;32m-> 3221\u001b[1;33m         \u001b[0mself\u001b[0m\u001b[1;33m.\u001b[0m\u001b[0m_function\u001b[0m \u001b[1;33m=\u001b[0m \u001b[0mwrapper_fn\u001b[0m\u001b[1;33m.\u001b[0m\u001b[0mget_concrete_function\u001b[0m\u001b[1;33m(\u001b[0m\u001b[1;33m)\u001b[0m\u001b[1;33m\u001b[0m\u001b[1;33m\u001b[0m\u001b[0m\n\u001b[0m\u001b[0;32m   3222\u001b[0m \u001b[1;33m\u001b[0m\u001b[0m\n\u001b[0;32m   3223\u001b[0m         \u001b[1;32mif\u001b[0m \u001b[0madd_to_graph\u001b[0m\u001b[1;33m:\u001b[0m\u001b[1;33m\u001b[0m\u001b[1;33m\u001b[0m\u001b[0m\n",
      "\u001b[1;32m~\\anaconda3\\lib\\site-packages\\tensorflow\\python\\eager\\function.py\u001b[0m in \u001b[0;36mget_concrete_function\u001b[1;34m(self, *args, **kwargs)\u001b[0m\n\u001b[0;32m   2530\u001b[0m     \"\"\"\n\u001b[0;32m   2531\u001b[0m     graph_function = self._get_concrete_function_garbage_collected(\n\u001b[1;32m-> 2532\u001b[1;33m         *args, **kwargs)\n\u001b[0m\u001b[0;32m   2533\u001b[0m     \u001b[0mgraph_function\u001b[0m\u001b[1;33m.\u001b[0m\u001b[0m_garbage_collector\u001b[0m\u001b[1;33m.\u001b[0m\u001b[0mrelease\u001b[0m\u001b[1;33m(\u001b[0m\u001b[1;33m)\u001b[0m  \u001b[1;31m# pylint: disable=protected-access\u001b[0m\u001b[1;33m\u001b[0m\u001b[1;33m\u001b[0m\u001b[0m\n\u001b[0;32m   2534\u001b[0m     \u001b[1;32mreturn\u001b[0m \u001b[0mgraph_function\u001b[0m\u001b[1;33m\u001b[0m\u001b[1;33m\u001b[0m\u001b[0m\n",
      "\u001b[1;32m~\\anaconda3\\lib\\site-packages\\tensorflow\\python\\eager\\function.py\u001b[0m in \u001b[0;36m_get_concrete_function_garbage_collected\u001b[1;34m(self, *args, **kwargs)\u001b[0m\n\u001b[0;32m   2494\u001b[0m       \u001b[0margs\u001b[0m\u001b[1;33m,\u001b[0m \u001b[0mkwargs\u001b[0m \u001b[1;33m=\u001b[0m \u001b[1;32mNone\u001b[0m\u001b[1;33m,\u001b[0m \u001b[1;32mNone\u001b[0m\u001b[1;33m\u001b[0m\u001b[1;33m\u001b[0m\u001b[0m\n\u001b[0;32m   2495\u001b[0m     \u001b[1;32mwith\u001b[0m \u001b[0mself\u001b[0m\u001b[1;33m.\u001b[0m\u001b[0m_lock\u001b[0m\u001b[1;33m:\u001b[0m\u001b[1;33m\u001b[0m\u001b[1;33m\u001b[0m\u001b[0m\n\u001b[1;32m-> 2496\u001b[1;33m       \u001b[0mgraph_function\u001b[0m\u001b[1;33m,\u001b[0m \u001b[0margs\u001b[0m\u001b[1;33m,\u001b[0m \u001b[0mkwargs\u001b[0m \u001b[1;33m=\u001b[0m \u001b[0mself\u001b[0m\u001b[1;33m.\u001b[0m\u001b[0m_maybe_define_function\u001b[0m\u001b[1;33m(\u001b[0m\u001b[0margs\u001b[0m\u001b[1;33m,\u001b[0m \u001b[0mkwargs\u001b[0m\u001b[1;33m)\u001b[0m\u001b[1;33m\u001b[0m\u001b[1;33m\u001b[0m\u001b[0m\n\u001b[0m\u001b[0;32m   2497\u001b[0m       \u001b[1;32mif\u001b[0m \u001b[0mself\u001b[0m\u001b[1;33m.\u001b[0m\u001b[0minput_signature\u001b[0m\u001b[1;33m:\u001b[0m\u001b[1;33m\u001b[0m\u001b[1;33m\u001b[0m\u001b[0m\n\u001b[0;32m   2498\u001b[0m         \u001b[0margs\u001b[0m \u001b[1;33m=\u001b[0m \u001b[0mself\u001b[0m\u001b[1;33m.\u001b[0m\u001b[0minput_signature\u001b[0m\u001b[1;33m\u001b[0m\u001b[1;33m\u001b[0m\u001b[0m\n",
      "\u001b[1;32m~\\anaconda3\\lib\\site-packages\\tensorflow\\python\\eager\\function.py\u001b[0m in \u001b[0;36m_maybe_define_function\u001b[1;34m(self, args, kwargs)\u001b[0m\n\u001b[0;32m   2775\u001b[0m \u001b[1;33m\u001b[0m\u001b[0m\n\u001b[0;32m   2776\u001b[0m       \u001b[0mself\u001b[0m\u001b[1;33m.\u001b[0m\u001b[0m_function_cache\u001b[0m\u001b[1;33m.\u001b[0m\u001b[0mmissed\u001b[0m\u001b[1;33m.\u001b[0m\u001b[0madd\u001b[0m\u001b[1;33m(\u001b[0m\u001b[0mcall_context_key\u001b[0m\u001b[1;33m)\u001b[0m\u001b[1;33m\u001b[0m\u001b[1;33m\u001b[0m\u001b[0m\n\u001b[1;32m-> 2777\u001b[1;33m       \u001b[0mgraph_function\u001b[0m \u001b[1;33m=\u001b[0m \u001b[0mself\u001b[0m\u001b[1;33m.\u001b[0m\u001b[0m_create_graph_function\u001b[0m\u001b[1;33m(\u001b[0m\u001b[0margs\u001b[0m\u001b[1;33m,\u001b[0m \u001b[0mkwargs\u001b[0m\u001b[1;33m)\u001b[0m\u001b[1;33m\u001b[0m\u001b[1;33m\u001b[0m\u001b[0m\n\u001b[0m\u001b[0;32m   2778\u001b[0m       \u001b[0mself\u001b[0m\u001b[1;33m.\u001b[0m\u001b[0m_function_cache\u001b[0m\u001b[1;33m.\u001b[0m\u001b[0mprimary\u001b[0m\u001b[1;33m[\u001b[0m\u001b[0mcache_key\u001b[0m\u001b[1;33m]\u001b[0m \u001b[1;33m=\u001b[0m \u001b[0mgraph_function\u001b[0m\u001b[1;33m\u001b[0m\u001b[1;33m\u001b[0m\u001b[0m\n\u001b[0;32m   2779\u001b[0m       \u001b[1;32mreturn\u001b[0m \u001b[0mgraph_function\u001b[0m\u001b[1;33m,\u001b[0m \u001b[0margs\u001b[0m\u001b[1;33m,\u001b[0m \u001b[0mkwargs\u001b[0m\u001b[1;33m\u001b[0m\u001b[1;33m\u001b[0m\u001b[0m\n",
      "\u001b[1;32m~\\anaconda3\\lib\\site-packages\\tensorflow\\python\\eager\\function.py\u001b[0m in \u001b[0;36m_create_graph_function\u001b[1;34m(self, args, kwargs, override_flat_arg_shapes)\u001b[0m\n\u001b[0;32m   2665\u001b[0m             \u001b[0marg_names\u001b[0m\u001b[1;33m=\u001b[0m\u001b[0marg_names\u001b[0m\u001b[1;33m,\u001b[0m\u001b[1;33m\u001b[0m\u001b[1;33m\u001b[0m\u001b[0m\n\u001b[0;32m   2666\u001b[0m             \u001b[0moverride_flat_arg_shapes\u001b[0m\u001b[1;33m=\u001b[0m\u001b[0moverride_flat_arg_shapes\u001b[0m\u001b[1;33m,\u001b[0m\u001b[1;33m\u001b[0m\u001b[1;33m\u001b[0m\u001b[0m\n\u001b[1;32m-> 2667\u001b[1;33m             capture_by_value=self._capture_by_value),\n\u001b[0m\u001b[0;32m   2668\u001b[0m         \u001b[0mself\u001b[0m\u001b[1;33m.\u001b[0m\u001b[0m_function_attributes\u001b[0m\u001b[1;33m,\u001b[0m\u001b[1;33m\u001b[0m\u001b[1;33m\u001b[0m\u001b[0m\n\u001b[0;32m   2669\u001b[0m         \u001b[1;31m# Tell the ConcreteFunction to clean up its graph once it goes out of\u001b[0m\u001b[1;33m\u001b[0m\u001b[1;33m\u001b[0m\u001b[1;33m\u001b[0m\u001b[0m\n",
      "\u001b[1;32m~\\anaconda3\\lib\\site-packages\\tensorflow\\python\\framework\\func_graph.py\u001b[0m in \u001b[0;36mfunc_graph_from_py_func\u001b[1;34m(name, python_func, args, kwargs, signature, func_graph, autograph, autograph_options, add_control_dependencies, arg_names, op_return_value, collections, capture_by_value, override_flat_arg_shapes)\u001b[0m\n\u001b[0;32m    979\u001b[0m         \u001b[0m_\u001b[0m\u001b[1;33m,\u001b[0m \u001b[0moriginal_func\u001b[0m \u001b[1;33m=\u001b[0m \u001b[0mtf_decorator\u001b[0m\u001b[1;33m.\u001b[0m\u001b[0munwrap\u001b[0m\u001b[1;33m(\u001b[0m\u001b[0mpython_func\u001b[0m\u001b[1;33m)\u001b[0m\u001b[1;33m\u001b[0m\u001b[1;33m\u001b[0m\u001b[0m\n\u001b[0;32m    980\u001b[0m \u001b[1;33m\u001b[0m\u001b[0m\n\u001b[1;32m--> 981\u001b[1;33m       \u001b[0mfunc_outputs\u001b[0m \u001b[1;33m=\u001b[0m \u001b[0mpython_func\u001b[0m\u001b[1;33m(\u001b[0m\u001b[1;33m*\u001b[0m\u001b[0mfunc_args\u001b[0m\u001b[1;33m,\u001b[0m \u001b[1;33m**\u001b[0m\u001b[0mfunc_kwargs\u001b[0m\u001b[1;33m)\u001b[0m\u001b[1;33m\u001b[0m\u001b[1;33m\u001b[0m\u001b[0m\n\u001b[0m\u001b[0;32m    982\u001b[0m \u001b[1;33m\u001b[0m\u001b[0m\n\u001b[0;32m    983\u001b[0m       \u001b[1;31m# invariant: `func_outputs` contains only Tensors, CompositeTensors,\u001b[0m\u001b[1;33m\u001b[0m\u001b[1;33m\u001b[0m\u001b[1;33m\u001b[0m\u001b[0m\n",
      "\u001b[1;32m~\\anaconda3\\lib\\site-packages\\tensorflow\\python\\data\\ops\\dataset_ops.py\u001b[0m in \u001b[0;36mwrapper_fn\u001b[1;34m(*args)\u001b[0m\n\u001b[0;32m   3212\u001b[0m           attributes=defun_kwargs)\n\u001b[0;32m   3213\u001b[0m       \u001b[1;32mdef\u001b[0m \u001b[0mwrapper_fn\u001b[0m\u001b[1;33m(\u001b[0m\u001b[1;33m*\u001b[0m\u001b[0margs\u001b[0m\u001b[1;33m)\u001b[0m\u001b[1;33m:\u001b[0m  \u001b[1;31m# pylint: disable=missing-docstring\u001b[0m\u001b[1;33m\u001b[0m\u001b[1;33m\u001b[0m\u001b[0m\n\u001b[1;32m-> 3214\u001b[1;33m         \u001b[0mret\u001b[0m \u001b[1;33m=\u001b[0m \u001b[0m_wrapper_helper\u001b[0m\u001b[1;33m(\u001b[0m\u001b[1;33m*\u001b[0m\u001b[0margs\u001b[0m\u001b[1;33m)\u001b[0m\u001b[1;33m\u001b[0m\u001b[1;33m\u001b[0m\u001b[0m\n\u001b[0m\u001b[0;32m   3215\u001b[0m         \u001b[0mret\u001b[0m \u001b[1;33m=\u001b[0m \u001b[0mstructure\u001b[0m\u001b[1;33m.\u001b[0m\u001b[0mto_tensor_list\u001b[0m\u001b[1;33m(\u001b[0m\u001b[0mself\u001b[0m\u001b[1;33m.\u001b[0m\u001b[0m_output_structure\u001b[0m\u001b[1;33m,\u001b[0m \u001b[0mret\u001b[0m\u001b[1;33m)\u001b[0m\u001b[1;33m\u001b[0m\u001b[1;33m\u001b[0m\u001b[0m\n\u001b[0;32m   3216\u001b[0m         \u001b[1;32mreturn\u001b[0m \u001b[1;33m[\u001b[0m\u001b[0mops\u001b[0m\u001b[1;33m.\u001b[0m\u001b[0mconvert_to_tensor\u001b[0m\u001b[1;33m(\u001b[0m\u001b[0mt\u001b[0m\u001b[1;33m)\u001b[0m \u001b[1;32mfor\u001b[0m \u001b[0mt\u001b[0m \u001b[1;32min\u001b[0m \u001b[0mret\u001b[0m\u001b[1;33m]\u001b[0m\u001b[1;33m\u001b[0m\u001b[1;33m\u001b[0m\u001b[0m\n",
      "\u001b[1;32m~\\anaconda3\\lib\\site-packages\\tensorflow\\python\\data\\ops\\dataset_ops.py\u001b[0m in \u001b[0;36m_wrapper_helper\u001b[1;34m(*args)\u001b[0m\n\u001b[0;32m   3154\u001b[0m         \u001b[0mnested_args\u001b[0m \u001b[1;33m=\u001b[0m \u001b[1;33m(\u001b[0m\u001b[0mnested_args\u001b[0m\u001b[1;33m,\u001b[0m\u001b[1;33m)\u001b[0m\u001b[1;33m\u001b[0m\u001b[1;33m\u001b[0m\u001b[0m\n\u001b[0;32m   3155\u001b[0m \u001b[1;33m\u001b[0m\u001b[0m\n\u001b[1;32m-> 3156\u001b[1;33m       \u001b[0mret\u001b[0m \u001b[1;33m=\u001b[0m \u001b[0mautograph\u001b[0m\u001b[1;33m.\u001b[0m\u001b[0mtf_convert\u001b[0m\u001b[1;33m(\u001b[0m\u001b[0mfunc\u001b[0m\u001b[1;33m,\u001b[0m \u001b[0mag_ctx\u001b[0m\u001b[1;33m)\u001b[0m\u001b[1;33m(\u001b[0m\u001b[1;33m*\u001b[0m\u001b[0mnested_args\u001b[0m\u001b[1;33m)\u001b[0m\u001b[1;33m\u001b[0m\u001b[1;33m\u001b[0m\u001b[0m\n\u001b[0m\u001b[0;32m   3157\u001b[0m       \u001b[1;31m# If `func` returns a list of tensors, `nest.flatten()` and\u001b[0m\u001b[1;33m\u001b[0m\u001b[1;33m\u001b[0m\u001b[1;33m\u001b[0m\u001b[0m\n\u001b[0;32m   3158\u001b[0m       \u001b[1;31m# `ops.convert_to_tensor()` would conspire to attempt to stack\u001b[0m\u001b[1;33m\u001b[0m\u001b[1;33m\u001b[0m\u001b[1;33m\u001b[0m\u001b[0m\n",
      "\u001b[1;32m~\\anaconda3\\lib\\site-packages\\tensorflow\\python\\autograph\\impl\\api.py\u001b[0m in \u001b[0;36mwrapper\u001b[1;34m(*args, **kwargs)\u001b[0m\n\u001b[0;32m    260\u001b[0m       \u001b[1;32mtry\u001b[0m\u001b[1;33m:\u001b[0m\u001b[1;33m\u001b[0m\u001b[1;33m\u001b[0m\u001b[0m\n\u001b[0;32m    261\u001b[0m         \u001b[1;32mwith\u001b[0m \u001b[0mconversion_ctx\u001b[0m\u001b[1;33m:\u001b[0m\u001b[1;33m\u001b[0m\u001b[1;33m\u001b[0m\u001b[0m\n\u001b[1;32m--> 262\u001b[1;33m           \u001b[1;32mreturn\u001b[0m \u001b[0mconverted_call\u001b[0m\u001b[1;33m(\u001b[0m\u001b[0mf\u001b[0m\u001b[1;33m,\u001b[0m \u001b[0margs\u001b[0m\u001b[1;33m,\u001b[0m \u001b[0mkwargs\u001b[0m\u001b[1;33m,\u001b[0m \u001b[0moptions\u001b[0m\u001b[1;33m=\u001b[0m\u001b[0moptions\u001b[0m\u001b[1;33m)\u001b[0m\u001b[1;33m\u001b[0m\u001b[1;33m\u001b[0m\u001b[0m\n\u001b[0m\u001b[0;32m    263\u001b[0m       \u001b[1;32mexcept\u001b[0m \u001b[0mException\u001b[0m \u001b[1;32mas\u001b[0m \u001b[0me\u001b[0m\u001b[1;33m:\u001b[0m  \u001b[1;31m# pylint:disable=broad-except\u001b[0m\u001b[1;33m\u001b[0m\u001b[1;33m\u001b[0m\u001b[0m\n\u001b[0;32m    264\u001b[0m         \u001b[1;32mif\u001b[0m \u001b[0mhasattr\u001b[0m\u001b[1;33m(\u001b[0m\u001b[0me\u001b[0m\u001b[1;33m,\u001b[0m \u001b[1;34m'ag_error_metadata'\u001b[0m\u001b[1;33m)\u001b[0m\u001b[1;33m:\u001b[0m\u001b[1;33m\u001b[0m\u001b[1;33m\u001b[0m\u001b[0m\n",
      "\u001b[1;32m~\\anaconda3\\lib\\site-packages\\tensorflow\\python\\autograph\\impl\\api.py\u001b[0m in \u001b[0;36mconverted_call\u001b[1;34m(f, args, kwargs, caller_fn_scope, options)\u001b[0m\n\u001b[0;32m    490\u001b[0m \u001b[1;33m\u001b[0m\u001b[0m\n\u001b[0;32m    491\u001b[0m   \u001b[1;32mif\u001b[0m \u001b[1;32mnot\u001b[0m \u001b[0moptions\u001b[0m\u001b[1;33m.\u001b[0m\u001b[0muser_requested\u001b[0m \u001b[1;32mand\u001b[0m \u001b[0mconversion\u001b[0m\u001b[1;33m.\u001b[0m\u001b[0mis_whitelisted\u001b[0m\u001b[1;33m(\u001b[0m\u001b[0mf\u001b[0m\u001b[1;33m)\u001b[0m\u001b[1;33m:\u001b[0m\u001b[1;33m\u001b[0m\u001b[1;33m\u001b[0m\u001b[0m\n\u001b[1;32m--> 492\u001b[1;33m     \u001b[1;32mreturn\u001b[0m \u001b[0m_call_unconverted\u001b[0m\u001b[1;33m(\u001b[0m\u001b[0mf\u001b[0m\u001b[1;33m,\u001b[0m \u001b[0margs\u001b[0m\u001b[1;33m,\u001b[0m \u001b[0mkwargs\u001b[0m\u001b[1;33m,\u001b[0m \u001b[0moptions\u001b[0m\u001b[1;33m)\u001b[0m\u001b[1;33m\u001b[0m\u001b[1;33m\u001b[0m\u001b[0m\n\u001b[0m\u001b[0;32m    493\u001b[0m \u001b[1;33m\u001b[0m\u001b[0m\n\u001b[0;32m    494\u001b[0m   \u001b[1;31m# internal_convert_user_code is for example turned off when issuing a dynamic\u001b[0m\u001b[1;33m\u001b[0m\u001b[1;33m\u001b[0m\u001b[1;33m\u001b[0m\u001b[0m\n",
      "\u001b[1;32m~\\anaconda3\\lib\\site-packages\\tensorflow\\python\\autograph\\impl\\api.py\u001b[0m in \u001b[0;36m_call_unconverted\u001b[1;34m(f, args, kwargs, options, update_cache)\u001b[0m\n\u001b[0;32m    344\u001b[0m \u001b[1;33m\u001b[0m\u001b[0m\n\u001b[0;32m    345\u001b[0m   \u001b[1;32mif\u001b[0m \u001b[0mkwargs\u001b[0m \u001b[1;32mis\u001b[0m \u001b[1;32mnot\u001b[0m \u001b[1;32mNone\u001b[0m\u001b[1;33m:\u001b[0m\u001b[1;33m\u001b[0m\u001b[1;33m\u001b[0m\u001b[0m\n\u001b[1;32m--> 346\u001b[1;33m     \u001b[1;32mreturn\u001b[0m \u001b[0mf\u001b[0m\u001b[1;33m(\u001b[0m\u001b[1;33m*\u001b[0m\u001b[0margs\u001b[0m\u001b[1;33m,\u001b[0m \u001b[1;33m**\u001b[0m\u001b[0mkwargs\u001b[0m\u001b[1;33m)\u001b[0m\u001b[1;33m\u001b[0m\u001b[1;33m\u001b[0m\u001b[0m\n\u001b[0m\u001b[0;32m    347\u001b[0m   \u001b[1;32melse\u001b[0m\u001b[1;33m:\u001b[0m\u001b[1;33m\u001b[0m\u001b[1;33m\u001b[0m\u001b[0m\n\u001b[0;32m    348\u001b[0m     \u001b[1;32mreturn\u001b[0m \u001b[0mf\u001b[0m\u001b[1;33m(\u001b[0m\u001b[1;33m*\u001b[0m\u001b[0margs\u001b[0m\u001b[1;33m)\u001b[0m\u001b[1;33m\u001b[0m\u001b[1;33m\u001b[0m\u001b[0m\n",
      "\u001b[1;32m~\\anaconda3\\lib\\site-packages\\tensorflow\\python\\keras\\engine\\data_adapter.py\u001b[0m in \u001b[0;36mslice_batch_indices\u001b[1;34m(indices)\u001b[0m\n\u001b[0;32m    353\u001b[0m         index_remainder = dataset_ops.DatasetV2.from_tensors(array_ops.slice(\n\u001b[0;32m    354\u001b[0m             indices, [num_in_full_batch], [self._partial_batch_size]))\n\u001b[1;32m--> 355\u001b[1;33m         \u001b[0mflat_dataset\u001b[0m \u001b[1;33m=\u001b[0m \u001b[0mflat_dataset\u001b[0m\u001b[1;33m.\u001b[0m\u001b[0mconcatenate\u001b[0m\u001b[1;33m(\u001b[0m\u001b[0mindex_remainder\u001b[0m\u001b[1;33m)\u001b[0m\u001b[1;33m\u001b[0m\u001b[1;33m\u001b[0m\u001b[0m\n\u001b[0m\u001b[0;32m    356\u001b[0m \u001b[1;33m\u001b[0m\u001b[0m\n\u001b[0;32m    357\u001b[0m       \u001b[1;32mif\u001b[0m \u001b[0mshuffle\u001b[0m \u001b[1;33m==\u001b[0m \u001b[1;34m\"batch\"\u001b[0m\u001b[1;33m:\u001b[0m\u001b[1;33m\u001b[0m\u001b[1;33m\u001b[0m\u001b[0m\n",
      "\u001b[1;32m~\\anaconda3\\lib\\site-packages\\tensorflow\\python\\data\\ops\\dataset_ops.py\u001b[0m in \u001b[0;36mconcatenate\u001b[1;34m(self, dataset)\u001b[0m\n\u001b[0;32m    985\u001b[0m       \u001b[0mDataset\u001b[0m\u001b[1;33m:\u001b[0m \u001b[0mA\u001b[0m\u001b[0;31m \u001b[0m\u001b[0;31m`\u001b[0m\u001b[0mDataset\u001b[0m\u001b[0;31m`\u001b[0m\u001b[1;33m.\u001b[0m\u001b[1;33m\u001b[0m\u001b[1;33m\u001b[0m\u001b[0m\n\u001b[0;32m    986\u001b[0m     \"\"\"\n\u001b[1;32m--> 987\u001b[1;33m     \u001b[1;32mreturn\u001b[0m \u001b[0mConcatenateDataset\u001b[0m\u001b[1;33m(\u001b[0m\u001b[0mself\u001b[0m\u001b[1;33m,\u001b[0m \u001b[0mdataset\u001b[0m\u001b[1;33m)\u001b[0m\u001b[1;33m\u001b[0m\u001b[1;33m\u001b[0m\u001b[0m\n\u001b[0m\u001b[0;32m    988\u001b[0m \u001b[1;33m\u001b[0m\u001b[0m\n\u001b[0;32m    989\u001b[0m   \u001b[1;32mdef\u001b[0m \u001b[0mprefetch\u001b[0m\u001b[1;33m(\u001b[0m\u001b[0mself\u001b[0m\u001b[1;33m,\u001b[0m \u001b[0mbuffer_size\u001b[0m\u001b[1;33m)\u001b[0m\u001b[1;33m:\u001b[0m\u001b[1;33m\u001b[0m\u001b[1;33m\u001b[0m\u001b[0m\n",
      "\u001b[1;32m~\\anaconda3\\lib\\site-packages\\tensorflow\\python\\data\\ops\\dataset_ops.py\u001b[0m in \u001b[0;36m__init__\u001b[1;34m(self, input_dataset, dataset_to_concatenate)\u001b[0m\n\u001b[0;32m   3386\u001b[0m     variant_tensor = gen_dataset_ops.concatenate_dataset(\n\u001b[0;32m   3387\u001b[0m         \u001b[0minput_dataset\u001b[0m\u001b[1;33m.\u001b[0m\u001b[0m_variant_tensor\u001b[0m\u001b[1;33m,\u001b[0m \u001b[0mdataset_to_concatenate\u001b[0m\u001b[1;33m.\u001b[0m\u001b[0m_variant_tensor\u001b[0m\u001b[1;33m,\u001b[0m\u001b[1;33m\u001b[0m\u001b[1;33m\u001b[0m\u001b[0m\n\u001b[1;32m-> 3388\u001b[1;33m         **self._flat_structure)\n\u001b[0m\u001b[0;32m   3389\u001b[0m     \u001b[1;31m# pylint: enable=protected-access\u001b[0m\u001b[1;33m\u001b[0m\u001b[1;33m\u001b[0m\u001b[1;33m\u001b[0m\u001b[0m\n\u001b[0;32m   3390\u001b[0m     \u001b[0msuper\u001b[0m\u001b[1;33m(\u001b[0m\u001b[0mConcatenateDataset\u001b[0m\u001b[1;33m,\u001b[0m \u001b[0mself\u001b[0m\u001b[1;33m)\u001b[0m\u001b[1;33m.\u001b[0m\u001b[0m__init__\u001b[0m\u001b[1;33m(\u001b[0m\u001b[0mvariant_tensor\u001b[0m\u001b[1;33m)\u001b[0m\u001b[1;33m\u001b[0m\u001b[1;33m\u001b[0m\u001b[0m\n",
      "\u001b[1;32m~\\anaconda3\\lib\\site-packages\\tensorflow\\python\\ops\\gen_dataset_ops.py\u001b[0m in \u001b[0;36mconcatenate_dataset\u001b[1;34m(input_dataset, another_dataset, output_types, output_shapes, name)\u001b[0m\n\u001b[0;32m    819\u001b[0m                               \u001b[0manother_dataset\u001b[0m\u001b[1;33m=\u001b[0m\u001b[0manother_dataset\u001b[0m\u001b[1;33m,\u001b[0m\u001b[1;33m\u001b[0m\u001b[1;33m\u001b[0m\u001b[0m\n\u001b[0;32m    820\u001b[0m                               \u001b[0moutput_types\u001b[0m\u001b[1;33m=\u001b[0m\u001b[0moutput_types\u001b[0m\u001b[1;33m,\u001b[0m\u001b[1;33m\u001b[0m\u001b[1;33m\u001b[0m\u001b[0m\n\u001b[1;32m--> 821\u001b[1;33m                               output_shapes=output_shapes, name=name)\n\u001b[0m\u001b[0;32m    822\u001b[0m   \u001b[0m_result\u001b[0m \u001b[1;33m=\u001b[0m \u001b[0m_outputs\u001b[0m\u001b[1;33m[\u001b[0m\u001b[1;33m:\u001b[0m\u001b[1;33m]\u001b[0m\u001b[1;33m\u001b[0m\u001b[1;33m\u001b[0m\u001b[0m\n\u001b[0;32m    823\u001b[0m   \u001b[1;32mif\u001b[0m \u001b[0m_execute\u001b[0m\u001b[1;33m.\u001b[0m\u001b[0mmust_record_gradient\u001b[0m\u001b[1;33m(\u001b[0m\u001b[1;33m)\u001b[0m\u001b[1;33m:\u001b[0m\u001b[1;33m\u001b[0m\u001b[1;33m\u001b[0m\u001b[0m\n",
      "\u001b[1;32m~\\anaconda3\\lib\\site-packages\\tensorflow\\python\\framework\\op_def_library.py\u001b[0m in \u001b[0;36m_apply_op_helper\u001b[1;34m(op_type_name, name, **keywords)\u001b[0m\n\u001b[0;32m    742\u001b[0m       op = g._create_op_internal(op_type_name, inputs, dtypes=None,\n\u001b[0;32m    743\u001b[0m                                  \u001b[0mname\u001b[0m\u001b[1;33m=\u001b[0m\u001b[0mscope\u001b[0m\u001b[1;33m,\u001b[0m \u001b[0minput_types\u001b[0m\u001b[1;33m=\u001b[0m\u001b[0minput_types\u001b[0m\u001b[1;33m,\u001b[0m\u001b[1;33m\u001b[0m\u001b[1;33m\u001b[0m\u001b[0m\n\u001b[1;32m--> 744\u001b[1;33m                                  attrs=attr_protos, op_def=op_def)\n\u001b[0m\u001b[0;32m    745\u001b[0m \u001b[1;33m\u001b[0m\u001b[0m\n\u001b[0;32m    746\u001b[0m     \u001b[1;31m# `outputs` is returned as a separate return value so that the output\u001b[0m\u001b[1;33m\u001b[0m\u001b[1;33m\u001b[0m\u001b[1;33m\u001b[0m\u001b[0m\n",
      "\u001b[1;32m~\\anaconda3\\lib\\site-packages\\tensorflow\\python\\framework\\func_graph.py\u001b[0m in \u001b[0;36m_create_op_internal\u001b[1;34m(self, op_type, inputs, dtypes, input_types, name, attrs, op_def, compute_device)\u001b[0m\n\u001b[0;32m    593\u001b[0m     return super(FuncGraph, self)._create_op_internal(  # pylint: disable=protected-access\n\u001b[0;32m    594\u001b[0m         \u001b[0mop_type\u001b[0m\u001b[1;33m,\u001b[0m \u001b[0minputs\u001b[0m\u001b[1;33m,\u001b[0m \u001b[0mdtypes\u001b[0m\u001b[1;33m,\u001b[0m \u001b[0minput_types\u001b[0m\u001b[1;33m,\u001b[0m \u001b[0mname\u001b[0m\u001b[1;33m,\u001b[0m \u001b[0mattrs\u001b[0m\u001b[1;33m,\u001b[0m \u001b[0mop_def\u001b[0m\u001b[1;33m,\u001b[0m\u001b[1;33m\u001b[0m\u001b[1;33m\u001b[0m\u001b[0m\n\u001b[1;32m--> 595\u001b[1;33m         compute_device)\n\u001b[0m\u001b[0;32m    596\u001b[0m \u001b[1;33m\u001b[0m\u001b[0m\n\u001b[0;32m    597\u001b[0m   \u001b[1;32mdef\u001b[0m \u001b[0mcapture\u001b[0m\u001b[1;33m(\u001b[0m\u001b[0mself\u001b[0m\u001b[1;33m,\u001b[0m \u001b[0mtensor\u001b[0m\u001b[1;33m,\u001b[0m \u001b[0mname\u001b[0m\u001b[1;33m=\u001b[0m\u001b[1;32mNone\u001b[0m\u001b[1;33m,\u001b[0m \u001b[0mshape\u001b[0m\u001b[1;33m=\u001b[0m\u001b[1;32mNone\u001b[0m\u001b[1;33m)\u001b[0m\u001b[1;33m:\u001b[0m\u001b[1;33m\u001b[0m\u001b[1;33m\u001b[0m\u001b[0m\n",
      "\u001b[1;32m~\\anaconda3\\lib\\site-packages\\tensorflow\\python\\framework\\ops.py\u001b[0m in \u001b[0;36m_create_op_internal\u001b[1;34m(self, op_type, inputs, dtypes, input_types, name, attrs, op_def, compute_device)\u001b[0m\n\u001b[0;32m   3325\u001b[0m           \u001b[0minput_types\u001b[0m\u001b[1;33m=\u001b[0m\u001b[0minput_types\u001b[0m\u001b[1;33m,\u001b[0m\u001b[1;33m\u001b[0m\u001b[1;33m\u001b[0m\u001b[0m\n\u001b[0;32m   3326\u001b[0m           \u001b[0moriginal_op\u001b[0m\u001b[1;33m=\u001b[0m\u001b[0mself\u001b[0m\u001b[1;33m.\u001b[0m\u001b[0m_default_original_op\u001b[0m\u001b[1;33m,\u001b[0m\u001b[1;33m\u001b[0m\u001b[1;33m\u001b[0m\u001b[0m\n\u001b[1;32m-> 3327\u001b[1;33m           op_def=op_def)\n\u001b[0m\u001b[0;32m   3328\u001b[0m       \u001b[0mself\u001b[0m\u001b[1;33m.\u001b[0m\u001b[0m_create_op_helper\u001b[0m\u001b[1;33m(\u001b[0m\u001b[0mret\u001b[0m\u001b[1;33m,\u001b[0m \u001b[0mcompute_device\u001b[0m\u001b[1;33m=\u001b[0m\u001b[0mcompute_device\u001b[0m\u001b[1;33m)\u001b[0m\u001b[1;33m\u001b[0m\u001b[1;33m\u001b[0m\u001b[0m\n\u001b[0;32m   3329\u001b[0m     \u001b[1;32mreturn\u001b[0m \u001b[0mret\u001b[0m\u001b[1;33m\u001b[0m\u001b[1;33m\u001b[0m\u001b[0m\n",
      "\u001b[1;32m~\\anaconda3\\lib\\site-packages\\tensorflow\\python\\framework\\ops.py\u001b[0m in \u001b[0;36m__init__\u001b[1;34m(self, node_def, g, inputs, output_types, control_inputs, input_types, original_op, op_def)\u001b[0m\n\u001b[0;32m   1815\u001b[0m         \u001b[0mop_def\u001b[0m \u001b[1;33m=\u001b[0m \u001b[0mself\u001b[0m\u001b[1;33m.\u001b[0m\u001b[0m_graph\u001b[0m\u001b[1;33m.\u001b[0m\u001b[0m_get_op_def\u001b[0m\u001b[1;33m(\u001b[0m\u001b[0mnode_def\u001b[0m\u001b[1;33m.\u001b[0m\u001b[0mop\u001b[0m\u001b[1;33m)\u001b[0m\u001b[1;33m\u001b[0m\u001b[1;33m\u001b[0m\u001b[0m\n\u001b[0;32m   1816\u001b[0m       self._c_op = _create_c_op(self._graph, node_def, inputs,\n\u001b[1;32m-> 1817\u001b[1;33m                                 control_input_ops, op_def)\n\u001b[0m\u001b[0;32m   1818\u001b[0m       \u001b[0mname\u001b[0m \u001b[1;33m=\u001b[0m \u001b[0mcompat\u001b[0m\u001b[1;33m.\u001b[0m\u001b[0mas_str\u001b[0m\u001b[1;33m(\u001b[0m\u001b[0mnode_def\u001b[0m\u001b[1;33m.\u001b[0m\u001b[0mname\u001b[0m\u001b[1;33m)\u001b[0m\u001b[1;33m\u001b[0m\u001b[1;33m\u001b[0m\u001b[0m\n\u001b[0;32m   1819\u001b[0m     \u001b[1;31m# pylint: enable=protected-access\u001b[0m\u001b[1;33m\u001b[0m\u001b[1;33m\u001b[0m\u001b[1;33m\u001b[0m\u001b[0m\n",
      "\u001b[1;32m~\\anaconda3\\lib\\site-packages\\tensorflow\\python\\framework\\ops.py\u001b[0m in \u001b[0;36m_create_c_op\u001b[1;34m(graph, node_def, inputs, control_inputs, op_def)\u001b[0m\n\u001b[0;32m   1627\u001b[0m   op_desc = pywrap_tf_session.TF_NewOperation(graph._c_graph,\n\u001b[0;32m   1628\u001b[0m                                               \u001b[0mcompat\u001b[0m\u001b[1;33m.\u001b[0m\u001b[0mas_str\u001b[0m\u001b[1;33m(\u001b[0m\u001b[0mnode_def\u001b[0m\u001b[1;33m.\u001b[0m\u001b[0mop\u001b[0m\u001b[1;33m)\u001b[0m\u001b[1;33m,\u001b[0m\u001b[1;33m\u001b[0m\u001b[1;33m\u001b[0m\u001b[0m\n\u001b[1;32m-> 1629\u001b[1;33m                                               compat.as_str(node_def.name))\n\u001b[0m\u001b[0;32m   1630\u001b[0m   \u001b[1;32mif\u001b[0m \u001b[0mnode_def\u001b[0m\u001b[1;33m.\u001b[0m\u001b[0mdevice\u001b[0m\u001b[1;33m:\u001b[0m\u001b[1;33m\u001b[0m\u001b[1;33m\u001b[0m\u001b[0m\n\u001b[0;32m   1631\u001b[0m     \u001b[0mpywrap_tf_session\u001b[0m\u001b[1;33m.\u001b[0m\u001b[0mTF_SetDevice\u001b[0m\u001b[1;33m(\u001b[0m\u001b[0mop_desc\u001b[0m\u001b[1;33m,\u001b[0m \u001b[0mcompat\u001b[0m\u001b[1;33m.\u001b[0m\u001b[0mas_str\u001b[0m\u001b[1;33m(\u001b[0m\u001b[0mnode_def\u001b[0m\u001b[1;33m.\u001b[0m\u001b[0mdevice\u001b[0m\u001b[1;33m)\u001b[0m\u001b[1;33m)\u001b[0m\u001b[1;33m\u001b[0m\u001b[1;33m\u001b[0m\u001b[0m\n",
      "\u001b[1;31mKeyboardInterrupt\u001b[0m: "
     ]
    }
   ],
   "source": [
    "param_grid = {\n",
    "    'batch_normalisation': hp.choice('batch_normalisation', [True, False]),\n",
    "    'hidden_size': hp.choice('hidden_size',[int(x) for x in np.linspace(20, 400, 20)]),\n",
    "    'hidden_size_2': hp.choice('hidden_size_2',[None] + [int(x) for x in np.linspace(20, 400, 20)]),\n",
    "    'activation': hp.choice('activation',['relu', 'tanh', 'linear', 'sigmoid' ]),\n",
    "    'dropout':  hp.uniform('dropout', 0., 0.5),\n",
    "    'learning_rate': hp.loguniform('learning_rate',np.log(0.0001), np.log(0.001)),\n",
    "    'kernel_initializer': hp.choice('kernel_initializer', ['glorot_uniform', 'normal', 'uniform']),\n",
    "    'beta_1': hp.uniform('beta_1', 0., 0.99),\n",
    "    'beta_2': hp.uniform('beta_2', 0., 0.99),\n",
    "}\n",
    "\n",
    "model = MLPRegressor(\n",
    "    scaler=StandardScaler(),\n",
    "    n_feature=16,\n",
    "    epochs=10,\n",
    "    batch_size=200,\n",
    "    loss=\"mse\",\n",
    "    verbose=0\n",
    ")\n",
    "\n",
    "tuning_output = bayesian_tuning(\n",
    "           X_train.values,\n",
    "           y_train.values,\n",
    "           model=model,\n",
    "           param_grid=param_grid, \n",
    "           loss_metric='mse',\n",
    "           n_kfold=5,\n",
    "           nb_evals=50,       \n",
    "           optimizer=tpe.suggest\n",
    "    )\n",
    "best_params = tuning_output[0]['hyperparameters']\n",
    "print('best_params:')\n",
    "print(best_params)"
   ]
  },
  {
   "cell_type": "code",
   "execution_count": null,
   "metadata": {},
   "outputs": [],
   "source": [
    "model.epochs=100\n",
    "model.batch_size=1024\n",
    "model.set_params(**best_params)\n",
    "\n",
    "starttime = time.time()\n",
    "model.fit(X_train, y_train)\n",
    "endtime = time.time()\n",
    "print('\\nTime Cost training:', endtime - starttime, 'seconds')\n",
    "\n",
    "y_hat = model.predict(X_train)\n",
    "starttime = time.time()\n",
    "y_pred = model.predict(X_test) # nb_path=100 to use Monte-Carlo dropout mean\n",
    "endtime = time.time()\n",
    "print('\\nTime Cost predict:', endtime - starttime, 'seconds')\n",
    "print('mse on train set', mean_squared_error(y_train, y_hat))\n",
    "print('mae on train set', mean_absolute_error(y_train, y_hat))\n",
    "print('mse on test set', mean_squared_error(y_test, y_pred))\n",
    "print('mae on test set', mean_absolute_error(y_test, y_pred))"
   ]
  },
  {
   "cell_type": "markdown",
   "metadata": {},
   "source": [
    "Error distribution"
   ]
  },
  {
   "cell_type": "code",
   "execution_count": null,
   "metadata": {},
   "outputs": [],
   "source": [
    "diff = y_test.values - y_pred.ravel()\n",
    "\n",
    "fig = plt.figure(figsize=(10, 5))\n",
    "ax = plt.subplot(121)\n",
    "plt.hist(diff, bins=100, density=True)\n",
    "plt.xlabel('diff')\n",
    "plt.title('error distribution on test set')\n",
    "plt.grid()\n",
    "plt.grid()\n",
    "bx = plt.subplot(122)\n",
    "plt.xlabel('time to maturity (year unit)')\n",
    "plt.ylabel('error')\n",
    "dist = plt.scatter(X_test['T'], diff)\n",
    "plt.grid()"
   ]
  },
  {
   "cell_type": "markdown",
   "metadata": {},
   "source": [
    "3 - **Gaussian Process pricing**"
   ]
  },
  {
   "cell_type": "code",
   "execution_count": null,
   "metadata": {},
   "outputs": [],
   "source": [
    "reg = GaussianProcessRegressor()\n",
    "starttime = time.time()\n",
    "reg.fit(X_train, y_train) \n",
    "endtime = time.time()\n",
    "print('\\nTime Cost train:', endtime - starttime, 'seconds')\n",
    "\n",
    "starttime = time.time()\n",
    "y_pred = reg.predict(X_test)\n",
    "endtime = time.time()\n",
    "print('\\nTime Cost predict:', endtime - starttime, 'seconds')\n",
    "mse_test = mean_squared_error(y_test, y_pred)\n",
    "mae_test = mean_absolute_error(y_test, y_pred)\n",
    "print('mse on test set', mse_test)\n",
    "print('mae on test set', mae_test)"
   ]
  },
  {
   "cell_type": "markdown",
   "metadata": {},
   "source": [
    "6 - **Conclusion**"
   ]
  },
  {
   "cell_type": "markdown",
   "metadata": {},
   "source": [
    "In this case with more features, using two hidden layers for MLP leads to better performance"
   ]
  },
  {
   "cell_type": "markdown",
   "metadata": {},
   "source": [
    "## Case of stochastic vol framework"
   ]
  },
  {
   "cell_type": "markdown",
   "metadata": {},
   "source": [
    "**Model**\n",
    "\n"
   ]
  },
  {
   "cell_type": "markdown",
   "metadata": {},
   "source": [
    "The Heston Model is defined as follow (under risk-neutral measure):\n",
    "$$dS_t=r S_tdt+ \\sqrt{v_t} S_tdW^S_t$$\n",
    "$$dv_t=\\kappa (v - v_t)dt+\\gamma \\sqrt{v_t}dW^v_t$$\n",
    "\n",
    "$d \\langle W^S, W^v\\rangle_t = \\rho_{Sv}dt\\quad$, $\\quad S_{t_0}=S_0$, $\\quad v_{t_0}=v_0$\n",
    "\n",
    "Note that we have more than one source of uncertaincy (volatility term parameters) and thus leads to non uniqueness of a risk-neutral price."
   ]
  },
  {
   "cell_type": "markdown",
   "metadata": {},
   "source": [
    "**Pricer**\n",
    "\n",
    "We use here an implementation of the COS method to compute call prices for our study"
   ]
  },
  {
   "cell_type": "markdown",
   "metadata": {},
   "source": [
    "1 - **Generating dataset**"
   ]
  },
  {
   "cell_type": "code",
   "execution_count": null,
   "metadata": {},
   "outputs": [],
   "source": [
    "from pricing_utils import cos_heston_price\n",
    "\n",
    "n_sample = 100000\n",
    "data = pd.DataFrame()\n",
    "data['S_0/K'] = uniform(low=0.4, high=1.6, size=n_sample)\n",
    "data['to_maturity'] = uniform(low=0.2, high=1.1, size=n_sample)\n",
    "data['r'] = uniform(low=0.02, high=0.1, size=n_sample)\n",
    "data['init_variance'] = uniform(low=0.05, high=1, size=n_sample)\n",
    "data['mean_variance'] = uniform(low=0.01, high=1, size=n_sample)\n",
    "data['reversion_speed'] = uniform(low=0.01, high=3, size=n_sample)\n",
    "data['gamma'] = uniform(low=0.01, high=0.8, size=n_sample)\n",
    "data['rho'] = uniform(low=-0.9, high=0, size=n_sample)\n",
    "starttime = time.time()\n",
    "data['call_price'] = [cos_heston_price(data.iloc[i]['S_0/K'],\n",
    "                                       1,\n",
    "                                       data.iloc[i]['r'],\n",
    "                                       data.iloc[i]['to_maturity'],\n",
    "                                       data.iloc[i]['mean_variance'],\n",
    "                                       data.iloc[i]['init_variance'],\n",
    "                                       data.iloc[i]['reversion_speed'],\n",
    "                                       data.iloc[i]['gamma'],\n",
    "                                       data.iloc[i]['rho'],\n",
    "                                       call=True)\n",
    "                      for i in range(len(data))]\n",
    "endtime = time.time()\n",
    "print('\\nTime Cost pricing: ~', (endtime - starttime)/3, 'seconds')\n",
    "\n",
    "data = data[(data['call_price']>0) & (data['call_price']<1)] #drop extrem values\n",
    "y = data['call_price']\n",
    "X = data.drop(columns='call_price')\n",
    "X_train, X_test, y_train,  y_test = train_test_split(X, y, test_size=0.33, random_state=42)"
   ]
  },
  {
   "cell_type": "code",
   "execution_count": null,
   "metadata": {},
   "outputs": [],
   "source": [
    "data['call_price'].hist(bins=100)\n",
    "plt.title('call price distribution')"
   ]
  },
  {
   "cell_type": "markdown",
   "metadata": {},
   "source": [
    "2 - **Pricing with MLP**"
   ]
  },
  {
   "cell_type": "code",
   "execution_count": null,
   "metadata": {},
   "outputs": [],
   "source": [
    "param_grid = {\n",
    "    'batch_normalisation': hp.choice('batch_normalisation', [True, False]),\n",
    "    'hidden_size': hp.choice('hidden_size',[int(x) for x in np.linspace(20, 400, 20)]),\n",
    "    'hidden_size_2': hp.choice('hidden_size_2',[None] + [int(x) for x in np.linspace(20, 400, 20)]),\n",
    "    'activation': hp.choice('activation',['relu', 'tanh', 'linear', 'sigmoid' ]),\n",
    "    'dropout':  hp.uniform('dropout', 0., 0.5),\n",
    "    'learning_rate': hp.loguniform('learning_rate',np.log(0.0001), np.log(0.001)),\n",
    "    'kernel_initializer': hp.choice('kernel_initializer', ['glorot_uniform', 'normal', 'uniform']),\n",
    "    'beta_1': hp.uniform('beta_1', 0., 0.99),\n",
    "    'beta_2': hp.uniform('beta_2', 0., 0.99),\n",
    "}\n",
    "model = MLPRegressor(\n",
    "    scaler=StandardScaler(),\n",
    "    n_feature=8,\n",
    "    epochs=10,\n",
    "    batch_size=200,\n",
    "    loss=\"mse\",\n",
    "    verbose=0\n",
    ")\n",
    "tuning_output = calibration(\n",
    "           X_train,\n",
    "           y_train,\n",
    "           model=model,\n",
    "           param_grid=param_grid, \n",
    "           loss_metric='mse',\n",
    "           n_kfold=5,\n",
    "           nb_evals=50,       \n",
    "           optimizer=tpe.suggest\n",
    "    )\n",
    "best_params = tuning_output[0]['hyperparameters']"
   ]
  },
  {
   "cell_type": "code",
   "execution_count": null,
   "metadata": {},
   "outputs": [],
   "source": [
    "model.epochs=100\n",
    "model.batch_size=1024\n",
    "model.set_params(**best_params)\n",
    "print('hyperparamers used')\n",
    "print(best_params)\n",
    "\n",
    "starttime = time.time()\n",
    "model.fit(X_train, y_train)\n",
    "endtime = time.time()\n",
    "print('\\nTime Cost training:', endtime - starttime, 'seconds')\n",
    "\n",
    "y_hat = model.predict(X_train)\n",
    "y_pred = model.predict(X_test) # nb_path=100 to use Monte-Carlo dropout mean\n",
    "print('mse on train set', mean_squared_error(y_train, y_hat))\n",
    "print('mae on train set', mean_absolute_error(y_train, y_hat))\n",
    "print('mse on test set', mean_squared_error(y_test, y_pred))\n",
    "print('mae on test set', mean_absolute_error(y_test, y_pred))"
   ]
  },
  {
   "cell_type": "code",
   "execution_count": null,
   "metadata": {},
   "outputs": [],
   "source": [
    "diff = y_test.values - y_pred.ravel()\n",
    "\n",
    "fig = plt.figure(figsize=(15, 9))\n",
    "plt.subplot(231)\n",
    "plt.hist(diff, bins=100, density=True)\n",
    "plt.xlabel('diff')\n",
    "plt.title('error distribution on test set')\n",
    "plt.grid()\n",
    "plt.subplot(232)\n",
    "plt.xlabel('time to maturity (year unit)')\n",
    "plt.ylabel('error')\n",
    "dist = plt.scatter(X_test['to_maturity'], diff)\n",
    "plt.grid()\n",
    "plt.subplot(233)\n",
    "plt.xlabel('S_0/K')\n",
    "plt.ylabel('error')\n",
    "dist = plt.scatter(X_test['S_0/K'], diff)\n",
    "plt.grid()\n",
    "plt.subplot(234)\n",
    "plt.xlabel('init_variance')\n",
    "plt.ylabel('error')\n",
    "dist = plt.scatter(X_test['init_variance'], diff)\n",
    "plt.grid()\n",
    "plt.subplot(235)\n",
    "plt.xlabel('mean_variance')\n",
    "plt.ylabel('error')\n",
    "dist = plt.scatter(X_test['mean_variance'], diff)\n",
    "plt.grid()\n",
    "plt.subplot(236)\n",
    "plt.xlabel('rho')\n",
    "plt.ylabel('error')\n",
    "dist = plt.scatter(X_test['rho'], diff)\n",
    "plt.grid()"
   ]
  },
  {
   "cell_type": "markdown",
   "metadata": {},
   "source": [
    "2 - **Calibration of Heston parameters with multi-output regression MLP**"
   ]
  },
  {
   "cell_type": "markdown",
   "metadata": {},
   "source": [
    "An important issue with such incomplete model is to find the Heston paramters that \"reflect\" the observable liquid option price on market.\n",
    "Fixing some value such as $K$, $T$ and $r$, and given a range of observed option prices for different init stock price ($S_0$) and init variance ($v_0$) as explanatory variables, is it possible to train a supervise ANN able to predict $(\\kappa,v,\\gamma, \\rho)$ ? And the same but using observed prices of different $T$ for a given init price $S_0$ and init $v_0$"
   ]
  },
  {
   "cell_type": "markdown",
   "metadata": {},
   "source": [
    "**Generate data**"
   ]
  },
  {
   "cell_type": "code",
   "execution_count": null,
   "metadata": {},
   "outputs": [],
   "source": [
    "from pricing_utils import cos_heston_price\n",
    "\n",
    "#fix some parameters\n",
    "K = 100\n",
    "T = 1\n",
    "r = 0.1\n",
    "\n",
    "n_sample = 10000\n",
    "\n",
    "x_data = np.zeros((n_sample, 10, 10)) # grid of 10x10 different prices\n",
    "y_data = np.zeros((n_sample, 4))\n",
    "\n",
    "#first define a space of S_0, v_0 values in which we will sample 10x10 values\n",
    "init_price = 100 * uniform(low=0.4, high=1.6, size=15)\n",
    "init_var = uniform(low=0.05, high=1, size=15)\n",
    "\n",
    "mean_variance = uniform(low=0.01, high=1, size=n_sample)\n",
    "reversion_speed = uniform(low=0.01, high=3, size=n_sample)\n",
    "gamma = uniform(low=0.01, high=0.8, size=n_sample)\n",
    "rho = uniform(low=-0.9, high=0, size=n_sample)\n",
    "\n",
    "for i in range(n_sample):\n",
    "    S_0 = np.random.choice(init_price, replace=False, size=10)\n",
    "    v_0 = np.random.choice(init_var, replace=False, size=10)\n",
    "    y_data[i,:] = np.array([reversion_speed[i], mean_variance[i], gamma[i], rho[i]])\n",
    "    x_data[i,::] = np.array([[cos_heston_price(S_0[j], K, r, T,\n",
    "                                               mean_variance[i],\n",
    "                                               v_0[k],\n",
    "                                               reversion_speed[i],\n",
    "                                               gamma[i],\n",
    "                                               rho[i],\n",
    "                                               call=True)\n",
    "                              for j in range(S_0.shape[0])]\n",
    "                             for k in range(v_0.shape[0])])\n",
    "x_data = np.where(x_data>1, 1, x_data)\n",
    "x_data = np.where(x_data<0, 0, x_data)"
   ]
  },
  {
   "cell_type": "markdown",
   "metadata": {},
   "source": [
    "**CNN multi-Regression**"
   ]
  },
  {
   "cell_type": "code",
   "execution_count": null,
   "metadata": {},
   "outputs": [],
   "source": [
    "from ml_models import CNNRegressor\n",
    "\n",
    "X_train, X_test, y_train,  y_test = train_test_split(x_data, y_data, test_size=0.33, random_state=42)\n",
    "X_train = X_train.reshape(X_train.shape[0], 10,10, 1)\n",
    "X_test = X_test.reshape(X_test.shape[0], 10,10, 1)\n",
    "\n",
    "param_grid = {\n",
    "    'learning_rate': hp.loguniform('learning_rate',np.log(1.), np.log(100)),\n",
    "    'activation': hp.choice('activation', ['relu', 'tanh']),\n",
    "    'hidden_size': hp.choice('hidden_size',[int(x) for x in np.linspace(500, 1000, 20)]),\n",
    "\n",
    "}\n",
    "model = CNNRegressor(\n",
    "    input_shape=(10,10,1),\n",
    "    n_output=4,\n",
    "    epochs=10,\n",
    "    batch_size=200,\n",
    "    loss=\"mse\",\n",
    "    verbose=0\n",
    ")\n",
    "tuning_output = bayesian_tuning(\n",
    "           X_train,\n",
    "           y_train,\n",
    "           model=model,\n",
    "           param_grid=param_grid, \n",
    "           loss_metric='mse',\n",
    "           n_kfold=5,\n",
    "           nb_evals=30,       \n",
    "           optimizer=tpe.suggest\n",
    "    )\n",
    "best_params = tuning_output[0]['hyperparameters']\n",
    "model.epochs = 100\n",
    "print('hyperparameters used:')\n",
    "print(best_params)\n",
    "starttime = time.time()\n",
    "model.fit(X_train, y_train)\n",
    "endtime = time.time()\n",
    "print('\\nTime Cost training:', endtime - starttime, 'seconds')\n",
    "y_hat = model.predict(X_train)\n",
    "y_pred = model.predict(X_test)\n",
    "print('mse on train set', mean_squared_error(y_train, y_hat))\n",
    "print('mse on test set', mean_squared_error(y_test, y_pred))\n"
   ]
  },
  {
   "cell_type": "markdown",
   "metadata": {},
   "source": [
    "**MLP multi-Regression**"
   ]
  },
  {
   "cell_type": "code",
   "execution_count": null,
   "metadata": {},
   "outputs": [],
   "source": [
    "X_train, X_test, y_train,  y_test = train_test_split(x_data, y_data, test_size=0.33, random_state=42)\n",
    "X_train = X_train.reshape(-1, X_train.shape[1] * X_train.shape[2])\n",
    "X_test = X_test.reshape(-1,X_test.shape[1] * X_test.shape[2])\n",
    "\n",
    "param_grid = {\n",
    "    'batch_normalisation': hp.choice('batch_normalisation', [True, False]),\n",
    "    'hidden_size': hp.choice('hidden_size',[int(x) for x in np.linspace(300, 1000, 20)]),\n",
    "    'hidden_size_2': hp.choice('hidden_size_2',[None] + [int(x) for x in np.linspace(50, 500, 20)]),\n",
    "    'activation': hp.choice('activation',['relu', 'tanh', 'linear', 'sigmoid' ]),\n",
    "    'dropout':  hp.uniform('dropout', 0., 0.3),\n",
    "    'learning_rate': hp.loguniform('learning_rate',np.log(0.0001), np.log(0.001)),\n",
    "    'kernel_initializer': hp.choice('kernel_initializer', ['glorot_uniform', 'normal', 'uniform']),\n",
    "    'beta_1': hp.uniform('beta_1', 0., 0.99),\n",
    "    'beta_2': hp.uniform('beta_2', 0., 0.99),\n",
    "}\n",
    "model = MLPRegressor(\n",
    "    scaler=StandardScaler(),\n",
    "    n_feature=100,\n",
    "    n_output=4,\n",
    "    epochs=10,\n",
    "    batch_size=200,\n",
    "    loss=\"mse\",\n",
    "    verbose=0\n",
    ")\n",
    "tuning_output = bayesian_tuning(\n",
    "           X_train,\n",
    "           y_train,\n",
    "           model=model,\n",
    "           param_grid=param_grid, \n",
    "           loss_metric='mse',\n",
    "           n_kfold=5,\n",
    "           nb_evals=30,       \n",
    "           optimizer=tpe.suggest\n",
    "    )\n",
    "best_params = tuning_output[0]['hyperparameters']\n",
    "model.epochs = 100\n",
    "print('hyperparameters used:')\n",
    "print(best_params)\n",
    "model.set_params(**best_params)\n",
    "starttime = time.time()\n",
    "model.fit(X_train, y_train)\n",
    "endtime = time.time()\n",
    "print('\\nTime Cost training:', endtime - starttime, 'seconds')\n",
    "y_hat = model.predict(X_train)\n",
    "y_pred = model.predict(X_test)\n",
    "print('mse on train set', mean_squared_error(y_train, y_hat))\n",
    "print('mse on test set', mean_squared_error(y_test, y_pred))\n"
   ]
  },
  {
   "cell_type": "code",
   "execution_count": null,
   "metadata": {},
   "outputs": [],
   "source": [
    "error = pd.DataFrame(mean_absolute_error(y_test, y_pred, multioutput = 'raw_values')).T\n",
    "error_perc = np.mean(np.divide(np.abs(y_test - y_pred), y_test)*100, axis=0)\n",
    "error_perc = pd.DataFrame(error_perc).T\n",
    "error = pd.concat([error, error_perc], axis=0)\n",
    "error.rename(columns={0:'kappa', 1:'v_mean', 2:'gamma', 3:'rho'}, inplace=True)\n",
    "error.set_index(np.array(['mae', 'mae%']), inplace=True)\n",
    "print('abs error for each parameters:')\n",
    "error"
   ]
  },
  {
   "cell_type": "markdown",
   "metadata": {},
   "source": [
    "**Use of Monte-Carlo Dropout**"
   ]
  },
  {
   "cell_type": "code",
   "execution_count": null,
   "metadata": {},
   "outputs": [],
   "source": [
    "y_pred, std, conf_inf, conf_sup = model.predict(X_test, nb_path=1000)\n",
    "print('mse on train set', mean_squared_error(y_train, y_hat))\n",
    "print('mse on test set', mean_squared_error(y_test, y_pred))\n",
    "print('MLP Monte-Carlo Dropout mean variance:', 'kappa: {}'.format(std[0,:].mean()),\n",
    "      'v: {}'.format(std[1,:].mean()), 'gamma: {}'.format(std[2,:].mean()) )"
   ]
  },
  {
   "cell_type": "markdown",
   "metadata": {},
   "source": [
    "**Gaussian Process**"
   ]
  },
  {
   "cell_type": "code",
   "execution_count": null,
   "metadata": {},
   "outputs": [],
   "source": [
    "from sklearn.gaussian_process import GaussianProcessRegressor\n",
    "reg = GaussianProcessRegressor()\n",
    "starttime = time.time()\n",
    "reg.fit(X_train, y_train) # train on 10 000 data point is sufficient \n",
    "endtime = time.time()\n",
    "print('\\nTime Cost train:', endtime - starttime, 'seconds')\n",
    "\n",
    "starttime = time.time()\n",
    "y_pred = reg.predict(X_test)\n",
    "endtime = time.time()\n",
    "print('\\nTime Cost predict:', endtime - starttime, 'seconds')\n",
    "mse_test = mean_squared_error(y_test, y_pred)\n",
    "mae_test = mean_absolute_error(y_test, y_pred)\n",
    "print('mse on test set', mse_test)\n",
    "print('mae on test set', mae_test)"
   ]
  },
  {
   "cell_type": "code",
   "execution_count": null,
   "metadata": {},
   "outputs": [],
   "source": []
  },
  {
   "cell_type": "code",
   "execution_count": null,
   "metadata": {},
   "outputs": [],
   "source": []
  }
 ],
 "metadata": {
  "kernelspec": {
   "display_name": "Python 3",
   "language": "python",
   "name": "python3"
  },
  "language_info": {
   "codemirror_mode": {
    "name": "ipython",
    "version": 3
   },
   "file_extension": ".py",
   "mimetype": "text/x-python",
   "name": "python",
   "nbconvert_exporter": "python",
   "pygments_lexer": "ipython3",
   "version": "3.7.6"
  }
 },
 "nbformat": 4,
 "nbformat_minor": 4
}
