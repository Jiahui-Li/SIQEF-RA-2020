{
 "cells": [
  {
   "cell_type": "markdown",
   "metadata": {},
   "source": [
    "# 2. cvxpy"
   ]
  },
  {
   "cell_type": "markdown",
   "metadata": {},
   "source": [
    "## contents\n",
    "- [2.1 Linear Programming](#2.1-Linear-Programming)\n",
    "    - [Example 1](#Example-1:-Constrained-Production)\n",
    "    - [Example 2](#Example-2:-Utility-from-Substitutes)\n",
    "    - [Example 3](#Example-3:-Integer-Linear-Programming)\n",
    "    - [Example 4](#Example-4:-Linear-Rregression)\n",
    "    - [Example 5](#Example-5:-Integer-LP-in-More-Compact-Form)\n",
    "- [2.2 Nonlinear Programming](#2.2-Convex-Optimization)\n",
    "    - [Example 1](#Example-1)\n",
    "    - [Example 2](#Example-2)\n",
    "    - [Example 3](#Example-3)\n",
    "- [2.3 Other Issues (Optional)](#2.3-Other-Issues)"
   ]
  },
  {
   "cell_type": "markdown",
   "metadata": {},
   "source": [
    "## 2.1 Linear Programming"
   ]
  },
  {
   "cell_type": "code",
   "execution_count": 1,
   "metadata": {},
   "outputs": [],
   "source": [
    "import cvxpy as cp\n",
    "import numpy as np\n",
    "import scipy as sp\n",
    "import cvxopt\n",
    "import cylp\n",
    "# import naginterfaces\n",
    "import matplotlib.pyplot as plt\n",
    "\n",
    "# import sdpt3glue\n",
    "# import sdpt3glue.solve as slv\n",
    "# ModuleNotFoundError: No module named 'solve'\n",
    "# seems cannot use sdpt3\n",
    "\n",
    "from pyscipopt import Model\n",
    "\n",
    "from warnings import filterwarnings\n",
    "\n",
    "from IPython.display import set_matplotlib_formats\n",
    "set_matplotlib_formats('retina')"
   ]
  },
  {
   "cell_type": "markdown",
   "metadata": {},
   "source": [
    "For obvious reason, we apply this package to the same examples as in scipy.optimize.\n",
    "\n",
    "But before that, we want to introduce what problems can be solved by this package. The **DCP (Disciplined Convex Programming)** rules must be satisfied, which is as follows:\n",
    "\n",
    "- Objective must have one of the following two forms:\n",
    "  - Minimize(convex)\n",
    "  - Maximize(concave)\n",
    " \n",
    "- Constraints must have one of the following three forms:\n",
    "  - affine == affine\n",
    "  - convex <= concave\n",
    "  - concave >= convex\n",
    "  \n",
    "If you don't know how to judge the above, or just be lazy to do so, then you are lucky, because `cvxpy` can do for you with the method `prob.is_dcp()` where by `prob` I mean the optimization problem we construct."
   ]
  },
  {
   "cell_type": "markdown",
   "metadata": {},
   "source": [
    "![jupyter](./cvxpy_status.jpg)"
   ]
  },
  {
   "cell_type": "markdown",
   "metadata": {},
   "source": [
    "### Example 1: Constrained Production"
   ]
  },
  {
   "cell_type": "markdown",
   "metadata": {},
   "source": [
    "$$\n",
    "\\begin{aligned}\n",
    "\\max_{X,Y} \\quad & Z = 2X + Y \\\\\n",
    "\\text{s.t.} \\quad & 4X + Y \\leq 400 \\\\\n",
    "& X + Y \\leq 300 \\\\\n",
    "& 2X + 5Y \\leq 200\n",
    "\\end{aligned}\n",
    "$$"
   ]
  },
  {
   "cell_type": "code",
   "execution_count": 2,
   "metadata": {},
   "outputs": [
    {
     "name": "stdout",
     "output_type": "stream",
     "text": [
      "28.6 ms ± 5.73 ms per loop (mean ± std. dev. of 7 runs, 10 loops each)\n",
      "DCP: True\n",
      "status: optimal\n",
      "optimal value 199.99999999495162\n",
      "optimal var 99.99999999747027 1.10708271867546e-11\n"
     ]
    }
   ],
   "source": [
    "# create optimization variables\n",
    "x1 = cp.Variable()\n",
    "y1 = cp.Variable()\n",
    "\n",
    "# create constraints\n",
    "cons1 = [4*x1 +   y1 <= 400,\n",
    "          x1 +   y1 <= 300,\n",
    "        2*x1 + 5*y1 <= 200,\n",
    "          x1 >= 0,         # slightly different with these two non-negativity constraints\n",
    "          y1 >= 0]\n",
    "\n",
    "# create objective\n",
    "obj1 = cp.Maximize(2*x1 + y1)\n",
    "\n",
    "# form and solve optimization problems\n",
    "prob1 = cp.Problem(obj1, cons1)\n",
    "%timeit prob1.solve()  # Returns the optimal value.\n",
    "\n",
    "print(\"DCP:\", prob1.is_dcp())\n",
    "print(\"status:\", prob1.status)\n",
    "print(\"optimal value\", prob1.value)\n",
    "print(\"optimal var\", x1.value, y1.value)"
   ]
  },
  {
   "cell_type": "markdown",
   "metadata": {},
   "source": [
    "It seems this package runs with similar time as the revised simplex method, but not that accuracy.\n",
    "\n",
    "We can **choose a built-in solver** among ['ECOS', 'OSQP', 'SCS']."
   ]
  },
  {
   "cell_type": "code",
   "execution_count": 3,
   "metadata": {
    "scrolled": true
   },
   "outputs": [
    {
     "name": "stdout",
     "output_type": "stream",
     "text": [
      "2.97 ms ± 147 µs per loop (mean ± std. dev. of 7 runs, 100 loops each)\n",
      "DCP: True\n",
      "status: optimal\n",
      "optimal value 199.99999983941774\n",
      "optimal var 99.99999987967911 8.005952551603999e-08\n"
     ]
    }
   ],
   "source": [
    "%timeit prob1.solve(solver=cp.ECOS)  # by default\n",
    "\n",
    "print(\"DCP:\", prob1.is_dcp())\n",
    "print(\"status:\", prob1.status)\n",
    "print(\"optimal value\", prob1.value)\n",
    "print(\"optimal var\", x1.value, y1.value)"
   ]
  },
  {
   "cell_type": "code",
   "execution_count": 4,
   "metadata": {},
   "outputs": [
    {
     "name": "stdout",
     "output_type": "stream",
     "text": [
      "3.81 ms ± 419 µs per loop (mean ± std. dev. of 7 runs, 100 loops each)\n",
      "DCP: True\n",
      "status: optimal\n",
      "optimal value 200.00000000000003\n",
      "optimal var 100.0 3.828768110634485e-14\n"
     ]
    }
   ],
   "source": [
    "%timeit prob1.solve(solver=cp.OSQP)  \n",
    "\n",
    "print(\"DCP:\", prob1.is_dcp())\n",
    "print(\"status:\", prob1.status)\n",
    "print(\"optimal value\", prob1.value)\n",
    "print(\"optimal var\", x1.value, y1.value)"
   ]
  },
  {
   "cell_type": "code",
   "execution_count": 5,
   "metadata": {},
   "outputs": [
    {
     "name": "stdout",
     "output_type": "stream",
     "text": [
      "2.6 ms ± 74.4 µs per loop (mean ± std. dev. of 7 runs, 100 loops each)\n",
      "DCP: True\n",
      "status: optimal\n",
      "optimal value 200.00000000000006\n",
      "optimal var 100.00000000000004 -2.4310966140281386e-14\n"
     ]
    }
   ],
   "source": [
    "%timeit prob1.solve(solver=cp.SCS)  \n",
    "\n",
    "print(\"DCP:\", prob1.is_dcp())\n",
    "print(\"status:\", prob1.status)\n",
    "print(\"optimal value\", prob1.value)\n",
    "print(\"optimal var\", x1.value, y1.value)"
   ]
  },
  {
   "cell_type": "code",
   "execution_count": 6,
   "metadata": {},
   "outputs": [
    {
     "name": "stdout",
     "output_type": "stream",
     "text": [
      "['CBC', 'CPLEX', 'CVXOPT', 'ECOS', 'GLPK', 'GLPK_MI', 'GUROBI', 'MOSEK', 'OSQP', 'SCIP', 'SCS']\n"
     ]
    }
   ],
   "source": [
    "# installed_solvers()\n",
    "# NameError: name 'installed_solvers' is not defined\n",
    "\n",
    "print(cp.installed_solvers())"
   ]
  },
  {
   "cell_type": "markdown",
   "metadata": {},
   "source": [
    "![jupyter](./cvxpy_solver.jpg)"
   ]
  },
  {
   "cell_type": "code",
   "execution_count": 7,
   "metadata": {},
   "outputs": [],
   "source": [
    "# https://www.cvxpy.org/install/#install-with-cvxopt-and-glpk-support\n",
    "# https://www.cvxpy.org/install/#install-with-gurobi-support\n",
    "# https://www.cvxpy.org/install/#install-with-mosek-support\n",
    "# https://www.cvxpy.org/install/#install-with-xpress-support\n",
    "# https://www.cvxpy.org/install/#install-with-cbc-clp-cgl-support\n",
    "# https://www.cvxpy.org/install/#install-with-cplex-support\n",
    "# https://www.cvxpy.org/install/#install-with-sdpt3-support\n",
    "# https://www.cvxpy.org/install/#install-with-nag-support\n",
    "# https://www.cvxpy.org/install/#install-with-scip-support"
   ]
  },
  {
   "cell_type": "code",
   "execution_count": 8,
   "metadata": {},
   "outputs": [
    {
     "name": "stdout",
     "output_type": "stream",
     "text": [
      "13.9 ms ± 890 µs per loop (mean ± std. dev. of 7 runs, 100 loops each)\n",
      "DCP: True\n",
      "status: optimal\n",
      "optimal value 199.99999994980018\n",
      "optimal var 99.99999996894064 1.1918898707241887e-08\n"
     ]
    }
   ],
   "source": [
    "%timeit prob1.solve(solver=cp.CVXOPT)  \n",
    "\n",
    "print(\"DCP:\", prob1.is_dcp())\n",
    "print(\"status:\", prob1.status)\n",
    "print(\"optimal value\", prob1.value)\n",
    "print(\"optimal var\", x1.value, y1.value)"
   ]
  },
  {
   "cell_type": "code",
   "execution_count": 9,
   "metadata": {},
   "outputs": [
    {
     "name": "stdout",
     "output_type": "stream",
     "text": [
      "optimal value with GLPK: 200.0\n",
      "optimal var with GLPK 100.0 0.0\n"
     ]
    }
   ],
   "source": [
    "# Solve with GLPK.\n",
    "# install instruction: \n",
    "#      https://www.cnblogs.com/Arbor/p/6506404.html \n",
    "#      https://blog.csdn.net/belldeep/article/details/7882124\n",
    "prob1.solve(solver=cp.GLPK)\n",
    "print(\"optimal value with GLPK:\", prob1.value)\n",
    "print(\"optimal var with GLPK\", x1.value, y1.value)\n",
    "# related to numpy + mkl\n",
    "# quite precise"
   ]
  },
  {
   "cell_type": "code",
   "execution_count": 10,
   "metadata": {},
   "outputs": [
    {
     "name": "stdout",
     "output_type": "stream",
     "text": [
      "optimal value with GLPK_MI: 200.0\n",
      "optimal var with GLPK_MI 100.0 -0.0\n"
     ]
    }
   ],
   "source": [
    "# Solve with GLPK_MI.\n",
    "prob1.solve(solver=cp.GLPK_MI)\n",
    "print(\"optimal value with GLPK_MI:\", prob1.value)\n",
    "print(\"optimal var with GLPK_MI\", x1.value, y1.value)\n",
    "# related to numpy + mkl"
   ]
  },
  {
   "cell_type": "code",
   "execution_count": 11,
   "metadata": {},
   "outputs": [
    {
     "name": "stdout",
     "output_type": "stream",
     "text": [
      "Using license file C:\\Users\\HKH\\gurobi.lic\n",
      "Academic license - for non-commercial use only\n",
      "optimal value with GUROBI: 200.0\n",
      "optimal var with GUROBI 100.0 0.0\n"
     ]
    }
   ],
   "source": [
    "# Solve with GUROBI.\n",
    "# install instruction:\n",
    "#   https://www.cnblogs.com/hongliyu/p/10220098.html\n",
    "#   https://blog.csdn.net/WASEFADG/article/details/90344256\n",
    "#   can acquire academic licence\n",
    "prob1.solve(solver=cp.GUROBI)\n",
    "print(\"optimal value with GUROBI:\", prob1.value)\n",
    "print(\"optimal var with GUROBI\", x1.value, y1.value)"
   ]
  },
  {
   "cell_type": "code",
   "execution_count": 12,
   "metadata": {},
   "outputs": [
    {
     "name": "stdout",
     "output_type": "stream",
     "text": [
      "optimal value with MOSEK: 199.99999999495162\n",
      "optimal var with MOSEK 99.99999999747027 1.10708271867546e-11\n"
     ]
    }
   ],
   "source": [
    "# Solve with MOSEK.\n",
    "#    https://docs.mosek.com/9.2/install/installation.html\n",
    "#    can acquire academic licence\n",
    "prob1.solve(solver=cp.MOSEK)\n",
    "print(\"optimal value with MOSEK:\", prob1.value)\n",
    "print(\"optimal var with MOSEK\", x1.value, y1.value)\n",
    "# not that precise\n",
    "\n",
    "# Error: rescode.err_missing_license_file(1008): License cannot be located. The default search path is ';C:\\Users\\HKH\\mosek\\mosek.lic;'.\n",
    "# if there is no this directory - C:\\Users\\HKH\\mosek\\ - just create it and put the lic file there"
   ]
  },
  {
   "cell_type": "code",
   "execution_count": 13,
   "metadata": {},
   "outputs": [],
   "source": [
    "# Solve with Elemental.\n",
    "# prob1.solve(solver=cp.ELEMENTAL)\n",
    "# print(\"optimal value with Elemental:\", prob1.value)\n",
    "# print(\"optimal var with Elemental\", x1.value, y1.value)\n",
    "\n",
    "# AttributeError: module 'cvxpy' has no attribute 'ELEMENTAL'\n",
    "# no longer have this solver"
   ]
  },
  {
   "cell_type": "code",
   "execution_count": 14,
   "metadata": {},
   "outputs": [
    {
     "name": "stdout",
     "output_type": "stream",
     "text": [
      "optimal value with CBC: 200.0\n",
      "optimal var with CBC 100.0 -0.0\n"
     ]
    }
   ],
   "source": [
    "# Solve with CBC.\n",
    "# pip install cylp\n",
    "# import cylp\n",
    "prob1.solve(solver=cp.CBC)\n",
    "print(\"optimal value with CBC:\", prob1.value)\n",
    "print(\"optimal var with CBC\", x1.value, y1.value)"
   ]
  },
  {
   "cell_type": "code",
   "execution_count": 15,
   "metadata": {},
   "outputs": [
    {
     "name": "stdout",
     "output_type": "stream",
     "text": [
      "optimal value with CPLEX: 200.0\n",
      "optimal var with CPLEX 100.0 0.0\n"
     ]
    }
   ],
   "source": [
    "# Solve with CPLEX.\n",
    "# pip install cplex\n",
    "prob1.solve(solver=cp.CPLEX)\n",
    "print (\"optimal value with CPLEX:\", prob1.value)\n",
    "print(\"optimal var with CPLEX\", x1.value, y1.value)"
   ]
  },
  {
   "cell_type": "code",
   "execution_count": 16,
   "metadata": {},
   "outputs": [],
   "source": [
    "# Solve with NAG.\n",
    "#     https://www.nag.co.uk/numeric/py/nagdoc_latest/readme.html#installation\n",
    "#     need to request for licence\n",
    "\n",
    "# prob1.solve(solver=cp.NAG)\n",
    "# print (\"optimal value with NAG:\", prob1.value)\n",
    "# print(\"optimal var with NAG\", x1.value, y1.value)"
   ]
  },
  {
   "cell_type": "code",
   "execution_count": 17,
   "metadata": {},
   "outputs": [],
   "source": [
    "# Solve with SCIP.\n",
    "# prob1.solve(solver=cp.SCIP)\n",
    "# print (\"optimal value with SCIP:\", prob1.value)\n",
    "# print(\"optimal var with SCIP\", x1.value, y1.value)\n",
    "#  AttributeError: module 'cvxpy' has no attribute 'SCIP'"
   ]
  },
  {
   "cell_type": "code",
   "execution_count": 18,
   "metadata": {},
   "outputs": [
    {
     "name": "stdout",
     "output_type": "stream",
     "text": [
      "optimal value with SCIP: 200.0\n",
      "optimal var with SCIP 100.0 0.0\n"
     ]
    }
   ],
   "source": [
    "# Solve with SCIP.\n",
    "prob1.solve(solver='SCIP')\n",
    "print (\"optimal value with SCIP:\", prob1.value)\n",
    "print(\"optimal var with SCIP\", x1.value, y1.value)\n",
    "\n",
    "# SolverError: The solver SCIP is not installed.\n",
    "# download the latest cvxpy from github\n",
    "# https://github.com/cvxgrp/cvxpy"
   ]
  },
  {
   "cell_type": "code",
   "execution_count": 19,
   "metadata": {},
   "outputs": [],
   "source": [
    "# https://github.com/SCIP-Interfaces/PySCIPOpt/blob/master/INSTALL.md\n",
    "# https://www.cnblogs.com/dengfaheng/p/10041488.html"
   ]
  },
  {
   "cell_type": "code",
   "execution_count": 20,
   "metadata": {},
   "outputs": [
    {
     "name": "stdout",
     "output_type": "stream",
     "text": [
      "x: 100.0\n",
      "y: 0.0\n",
      "LP solution status:  0\n",
      "LP solution value:  200.0\n"
     ]
    }
   ],
   "source": [
    "# Solve with SCIP.\n",
    "# from pyscipopt import Model\n",
    "\n",
    "model = Model(\"Example\")\n",
    "x = model.addVar(\"x\")\n",
    "y = model.addVar(\"y\")\n",
    "model.setObjective(-2*x - y)\n",
    "model.addCons(4*x + y <= 400)\n",
    "model.addCons(x + y <= 300)\n",
    "model.addCons(2*x + 5*y <= 200)\n",
    "model.optimize()\n",
    "sol = model.getBestSol()\n",
    "print(\"x: {}\".format(sol[x]))\n",
    "print(\"y: {}\".format(sol[y]))\n",
    "print(\"LP solution status: \",model.getLPSolstat())\n",
    "print(\"LP solution value: \",-model.getLPObjVal())\n",
    "# can use tap completion check attributes of model"
   ]
  },
  {
   "cell_type": "code",
   "execution_count": null,
   "metadata": {},
   "outputs": [],
   "source": []
  },
  {
   "cell_type": "code",
   "execution_count": 21,
   "metadata": {},
   "outputs": [
    {
     "data": {
      "text/plain": [
       "([], 'var0', [], 'var1')"
      ]
     },
     "execution_count": 21,
     "metadata": {},
     "output_type": "execute_result"
    }
   ],
   "source": [
    "x1.domain, x1.name(), y1.domain, y1.name()"
   ]
  },
  {
   "cell_type": "markdown",
   "metadata": {},
   "source": [
    "Why the domains of x and y are not bounded?"
   ]
  },
  {
   "cell_type": "code",
   "execution_count": 22,
   "metadata": {},
   "outputs": [
    {
     "data": {
      "text/plain": [
       "200.0"
      ]
     },
     "execution_count": 22,
     "metadata": {},
     "output_type": "execute_result"
    }
   ],
   "source": [
    "obj1.value"
   ]
  },
  {
   "cell_type": "code",
   "execution_count": 23,
   "metadata": {},
   "outputs": [],
   "source": [
    "# obj.curvature\n",
    "# AttributeError: 'Maximize' object has no attribute 'curvature'"
   ]
  },
  {
   "cell_type": "code",
   "execution_count": 24,
   "metadata": {},
   "outputs": [],
   "source": [
    "# obj.sign\n",
    "# AttributeError: 'Maximize' object has no attribute 'sign'"
   ]
  },
  {
   "cell_type": "code",
   "execution_count": 25,
   "metadata": {},
   "outputs": [],
   "source": [
    "# obj.grad\n",
    "# AttributeError: 'Maximize' object has no attribute 'grad'"
   ]
  },
  {
   "cell_type": "markdown",
   "metadata": {},
   "source": [
    "### Example 2: Utility from Substitutes"
   ]
  },
  {
   "cell_type": "markdown",
   "metadata": {},
   "source": [
    "$$\n",
    "\\begin{aligned}\n",
    "\\max_{X,Y} \\quad & Z = X + Y  \\\\\n",
    "\\text{s.t.} \\quad & 2X + 3Y \\leq 40 \\\\\n",
    "& X - Y \\geq 5 \\\\\n",
    "\\end{aligned}\n",
    "$$"
   ]
  },
  {
   "cell_type": "code",
   "execution_count": 26,
   "metadata": {},
   "outputs": [
    {
     "name": "stdout",
     "output_type": "stream",
     "text": [
      "26.1 ms ± 3.43 ms per loop (mean ± std. dev. of 7 runs, 10 loops each)\n",
      "DCP: True\n",
      "status: optimal\n",
      "optimal value 20.0\n",
      "optimal var 20.0 -0.0\n"
     ]
    }
   ],
   "source": [
    "# create optimization variables\n",
    "x2 = cp.Variable()\n",
    "y2 = cp.Variable()\n",
    "\n",
    "# create constraints\n",
    "cons2 = [2*x2 + 3*y2 <= 40,\n",
    "          x2 -   y2 >= 5,\n",
    "          x2 >= 0,         # slightly different with these two non-negativity constraints\n",
    "          y2 >= 0]\n",
    "\n",
    "# create objective\n",
    "obj2 = cp.Maximize(x2 + y2)\n",
    "\n",
    "# form and solve optimization problems\n",
    "prob2 = cp.Problem(obj2, cons2)\n",
    "%timeit prob2.solve()  # Returns the optimal value.\n",
    "\n",
    "print(\"DCP:\", prob2.is_dcp())\n",
    "print(\"status:\", prob2.status)\n",
    "print(\"optimal value\", prob2.value)\n",
    "print(\"optimal var\", x2.value, y2.value)"
   ]
  },
  {
   "cell_type": "markdown",
   "metadata": {},
   "source": [
    "It's **weird** since it doesn't satisfy the constraint or more precisely, the bound that $y \\geq 0$. However, since we are dealing with floating point numbers, so it's normal to expect some oscillations around $0$."
   ]
  },
  {
   "cell_type": "code",
   "execution_count": 27,
   "metadata": {},
   "outputs": [
    {
     "data": {
      "text/plain": [
       "([], 'var525', 20.0)"
      ]
     },
     "execution_count": 27,
     "metadata": {},
     "output_type": "execute_result"
    }
   ],
   "source": [
    "x2.domain, x2.name(), obj2.value"
   ]
  },
  {
   "cell_type": "markdown",
   "metadata": {},
   "source": [
    "### Example 3: Integer Linear Programming"
   ]
  },
  {
   "cell_type": "markdown",
   "metadata": {},
   "source": [
    "We can solve a integer LP simply by letting the `integer` options in `cp.Variable` to be `True` (just as easy as letting the `nonneg` option in `cp.Parameter` to be `True`.)"
   ]
  },
  {
   "cell_type": "code",
   "execution_count": 28,
   "metadata": {},
   "outputs": [
    {
     "name": "stdout",
     "output_type": "stream",
     "text": [
      "26.5 ms ± 4.73 ms per loop (mean ± std. dev. of 7 runs, 10 loops each)\n",
      "DCP: True\n",
      "status: optimal\n",
      "optimal value 20.0\n",
      "optimal var 20.0 0.0\n"
     ]
    }
   ],
   "source": [
    "# create optimization variables\n",
    "x2 = cp.Variable(integer=True)\n",
    "y2 = cp.Variable(integer=True)\n",
    "\n",
    "# create constraints\n",
    "cons2 = [2*x2 + 3*y2 <= 40,\n",
    "          x2 -   y2 >= 5,\n",
    "          x2 >= 0,         # slightly different with these two non-negativity constraints\n",
    "          y2 >= 0]\n",
    "\n",
    "# create objective\n",
    "obj2 = cp.Maximize(x2 + y2)\n",
    "\n",
    "# form and solve optimization problems\n",
    "prob2 = cp.Problem(obj2, cons2)\n",
    "%timeit prob2.solve()  # Returns the optimal value.\n",
    "\n",
    "print(\"DCP:\", prob2.is_dcp())\n",
    "print(\"status:\", prob2.status)\n",
    "print(\"optimal value\", prob2.value)\n",
    "print(\"optimal var\", x2.value, y2.value)"
   ]
  },
  {
   "cell_type": "markdown",
   "metadata": {},
   "source": [
    "### Example 4: Linear Rregression"
   ]
  },
  {
   "cell_type": "markdown",
   "metadata": {},
   "source": [
    "$$\\min_{\\beta} \\quad (y-\\mathbb{X}\\beta)^{T}(y-\\mathbb{X}\\beta)$$"
   ]
  },
  {
   "cell_type": "code",
   "execution_count": 29,
   "metadata": {},
   "outputs": [],
   "source": [
    "var_b = cp.Variable((2,1))\n",
    "\n",
    "np.random.seed(1)\n",
    "X = np.random.randn(100,2)\n",
    "Y = X @ np.array([[2],[1]]) + np.random.randn(100,1)"
   ]
  },
  {
   "cell_type": "markdown",
   "metadata": {},
   "source": [
    "$$\\beta = (\\mathbb{X}^T\\mathbb{X})^{-1}\\mathbb{X}^Ty$$"
   ]
  },
  {
   "cell_type": "code",
   "execution_count": 30,
   "metadata": {},
   "outputs": [
    {
     "name": "stdout",
     "output_type": "stream",
     "text": [
      "[[2.06198497]\n",
      " [0.89626717]]\n"
     ]
    }
   ],
   "source": [
    "# solve b using linear algebra\n",
    "\n",
    "b = np.linalg.solve(X.T @ X, X.T @ Y)\n",
    "print(b)"
   ]
  },
  {
   "cell_type": "code",
   "execution_count": 31,
   "metadata": {},
   "outputs": [
    {
     "data": {
      "text/plain": [
       "array([[2.06198497],\n",
       "       [0.89626717]])"
      ]
     },
     "execution_count": 31,
     "metadata": {},
     "output_type": "execute_result"
    }
   ],
   "source": [
    "# solve b using cvxpy\n",
    "\n",
    "objR = cp.Minimize(cp.sum_squares(Y - X @ var_b))\n",
    "probR = cp.Problem(objR)\n",
    "probR.solve()\n",
    "var_b.value"
   ]
  },
  {
   "cell_type": "markdown",
   "metadata": {},
   "source": [
    "### Example 5: Integer LP in More Compact Form"
   ]
  },
  {
   "cell_type": "markdown",
   "metadata": {},
   "source": [
    "This example is obtained from [here](https://blog.csdn.net/A_thermal/article/details/104485823). The original problem is as follows:\n",
    "\n",
    "$$\n",
    "\\begin{aligned}\n",
    "\\text{Objective: }& & \\min_{\\lbrace x_i \\rbrace_{i=1}^{5}}\\sum_{i=1}^{5} x_i \\\\\n",
    "\\text{s.t. } \\\\\n",
    "& \\text{C1: }& 0 \\leq x_1 \\leq 25 \\\\\n",
    "& \\text{C2: }& 0 \\leq x_2 \\leq 12 \\\\\n",
    "& \\text{C3: }& 0 \\leq x_3 \\leq 12.5 \\\\\n",
    "& \\text{C4: }& 0 \\leq x_4 \\leq 2 \\\\\n",
    "& \\text{C5: }& 0 \\leq x_5 \\leq 0 \\\\\n",
    "& \\text{C6: }& x_1 \\leq 10 \\\\\n",
    "& \\text{C7: }& x_2 \\leq 40 \\\\\n",
    "& \\text{C8: }& x_3 \\leq 90 \\\\\n",
    "& \\text{C9: }& x_4 \\leq 80 \\\\\n",
    "& \\text{C10: }& x_5 \\leq 0 \\\\\n",
    "& \\text{C11: }& -1 · x_1 \\leq 40 \\\\\n",
    "& \\text{C12: }& -0.9 · x_1 - x_2 \\leq 2 \\\\\n",
    "& \\text{C13: }& -0.8 · x_1 - (5/6) · x_2 - x_3 \\leq -30 \\\\\n",
    "& \\text{C14: }& -0.3 · x_1 - (5/8) · x_2 - 0.8 · x_3 - x_4 \\leq 38 \\\\\n",
    "\\end{aligned}\n",
    "$$"
   ]
  },
  {
   "cell_type": "code",
   "execution_count": 32,
   "metadata": {},
   "outputs": [
    {
     "name": "stdout",
     "output_type": "stream",
     "text": [
      "The optimal value is 34.0\n",
      "A solution x is\n",
      "[10. 12. 12. -0. -0.]\n"
     ]
    }
   ],
   "source": [
    "# source code from: https://blog.csdn.net/A_thermal/article/details/104485823\n",
    "\n",
    "n = 5\n",
    "x = cp.Variable(n, integer=True)\n",
    "\n",
    "A1 = np.ones((5,5))\n",
    "for i in range(A1.shape[0]):\n",
    "    for j in range(A1.shape[1]):\n",
    "        if i == j:\n",
    "            pass\n",
    "        else:\n",
    "            A1[i,j] = A1[i,j]*0\n",
    "A2 = A1 * (-1)\n",
    "A3 = np.array([[-1,0,0,0,0],[-0.9,-1,0,0,0],[-0.8,-(40/48),-1,0,0],[-0.3,-(5/8),-0.8,-1,0]])\n",
    "B = np.array([0,0,0,0,0,25,12,12.5,2,0,10,40,90,80,0,40,2,-30,32])\n",
    "A = np.vstack((A2,A1,A1,A3))\n",
    "constraints = [A @ x <= B]\n",
    "\n",
    "objects = cp.Minimize(cp.sum(x))\n",
    "\n",
    "probC = cp.Problem(objects,constraints)\n",
    "probC.solve(solver=cp.CPLEX)\n",
    "\n",
    "print(\"The optimal value is\", probC.value)\n",
    "print(\"A solution x is\")\n",
    "print(x.value)"
   ]
  },
  {
   "cell_type": "markdown",
   "metadata": {},
   "source": [
    "**Conclusion**: It seems _cvxpy_ is not that good in dealing with linear programming problem at the first sight, compared to *linprog*. But it's up to which solver we choose. More general, we have much more options in _cvxpy_."
   ]
  },
  {
   "cell_type": "markdown",
   "metadata": {},
   "source": [
    "## 2.2 Convex Optimization"
   ]
  },
  {
   "cell_type": "markdown",
   "metadata": {},
   "source": [
    "### Example 1"
   ]
  },
  {
   "cell_type": "markdown",
   "metadata": {},
   "source": [
    "$$\n",
    "\\begin{aligned}\n",
    "\\max_{K,L} \\quad & K^\\frac{1}{3}L^\\frac{2}{3}\\\\\n",
    "\\text{s.t.} \\quad & 4K + 5L \\leq 100\n",
    "\\end{aligned}\n",
    "$$"
   ]
  },
  {
   "cell_type": "code",
   "execution_count": 33,
   "metadata": {},
   "outputs": [
    {
     "name": "stdout",
     "output_type": "stream",
     "text": [
      "DCP: False\n"
     ]
    }
   ],
   "source": [
    "k = cp.Variable()\n",
    "l = cp.Variable()\n",
    "\n",
    "nlcons1 = [4 * k + 5 * l <= 100,\n",
    "             k >= 0,         \n",
    "             l >= 0]\n",
    "\n",
    "nlobj1 = cp.Maximize(k ** (1/3) * l ** (2/3))\n",
    "\n",
    "nlprob1 = cp.Problem(nlobj1, nlcons1)\n",
    "# nlprob1.solve()  \n",
    "\n",
    "print(\"DCP:\", nlprob1.is_dcp())\n",
    "# print(\"status:\", nlprob1.status)\n",
    "# print(\"optimal value\", nlprob1.value)\n",
    "# print(\"optimal var\", k.value, l.value)"
   ]
  },
  {
   "cell_type": "markdown",
   "metadata": {},
   "source": [
    "### Example 2"
   ]
  },
  {
   "cell_type": "markdown",
   "metadata": {},
   "source": [
    "$$\n",
    "\\begin{aligned}\n",
    "\\min_{x,y} \\quad & PPF = x^2 + y^2 \\\\\n",
    "\\text{s.t.} \\quad & U = x^\\frac{1}{3}y^\\frac{2}{3} \\geq 10\n",
    "\\end{aligned}\n",
    "$$"
   ]
  },
  {
   "cell_type": "code",
   "execution_count": 34,
   "metadata": {},
   "outputs": [
    {
     "name": "stdout",
     "output_type": "stream",
     "text": [
      "DCP: False \n",
      "\n",
      "Problem does not follow DCP rules. Specifically:\n",
      "The objective is not DCP, even though each sub-expression is.\n",
      "You are trying to maximize a function that is convex.\n"
     ]
    }
   ],
   "source": [
    "x = cp.Variable()\n",
    "y = cp.Variable()\n",
    "\n",
    "nlcons2 = [x ** (1/3) * y ** (2/3) >= 10,\n",
    "             x >= 0,         \n",
    "             y >= 0]\n",
    "\n",
    "nlobj2 = cp.Maximize(x ** 2 + y ** 2)\n",
    "\n",
    "nlprob2 = cp.Problem(nlobj2, nlcons2)\n",
    "\n",
    "print(\"DCP:\", nlprob2.is_dcp(),'\\n')\n",
    "\n",
    "try:\n",
    "    nlprob2.solve()\n",
    "except Exception as e:\n",
    "    print(e)"
   ]
  },
  {
   "cell_type": "markdown",
   "metadata": {},
   "source": [
    "### Example 3"
   ]
  },
  {
   "cell_type": "markdown",
   "metadata": {},
   "source": [
    "$$\n",
    "\\begin{aligned}\n",
    "\\max_{x,y}\\quad & -(x-20)^2 - 2(y-1)^2 \\\\\n",
    "\\text{s.t.}: \\quad & x + 2y \\leq 50\n",
    "\\end{aligned}\n",
    "$$"
   ]
  },
  {
   "cell_type": "code",
   "execution_count": 35,
   "metadata": {},
   "outputs": [
    {
     "name": "stdout",
     "output_type": "stream",
     "text": [
      "DCP: True\n",
      "status: optimal\n",
      "optimal value -1.2990296595053677e-44\n",
      "optimal var 20.0 1.0000000000000002\n"
     ]
    }
   ],
   "source": [
    "x = cp.Variable()\n",
    "y = cp.Variable()\n",
    "\n",
    "nlcons3 = [x + 2*y <= 50,\n",
    "             x >= 0,         \n",
    "             y >= 0]\n",
    "\n",
    "nlobj3 = cp.Maximize(-(x-20)**2 - 2*(y-1)**2)\n",
    "\n",
    "nlprob3 = cp.Problem(nlobj3, nlcons3)\n",
    "nlprob3.solve()  \n",
    "\n",
    "print(\"DCP:\", nlprob3.is_dcp())\n",
    "print(\"status:\", nlprob3.status)\n",
    "print(\"optimal value\", nlprob3.value)\n",
    "print(\"optimal var\", x.value, y.value)"
   ]
  },
  {
   "cell_type": "markdown",
   "metadata": {},
   "source": [
    "## 2.3 Other Issues"
   ]
  },
  {
   "cell_type": "markdown",
   "metadata": {},
   "source": [
    "### 1. Parameters"
   ]
  },
  {
   "cell_type": "markdown",
   "metadata": {},
   "source": [
    "> \"Parameters are symbolic representations of constants. The purpose of parameters is to change the value of a constant in a problem without reconstructing the entire problem. In many cases, solving a parametrized program multiple times can be substantially faster than repeatedly solving a new problem: after reading this section, be sure to read the tutorial on [Disciplined Parametrized Programming (DPP)](https://www.cvxpy.org/tutorial/advanced/index.html#dpp).\n",
    "$\\quad\\quad\\quad\\quad\\quad\\quad\\quad\\quad\\quad\\quad\\quad\\quad\\quad\\quad\\quad\\quad\\quad\\quad\\quad\\quad\\quad\\quad\\quad\\quad\\quad\\quad\\quad\\quad\\quad\\quad\\quad\\quad\\quad\\quad\\quad\\quad\\quad\\quad\\quad\\quad\\quad\\quad\\quad$ \n",
    "$\\quad\\quad\\quad\\quad\\quad\\quad\\quad\\quad\\quad\\quad\\quad\\quad\\quad\\quad\\quad\\quad\\quad\\quad\\quad\\quad\\quad\\quad\\quad\\quad\\quad\\quad\\quad\\quad\\quad\\quad\\quad\\quad\\quad\\quad\\quad\\quad\\quad\\quad\\quad\\quad$—— CVXPY Tutorial"
   ]
  },
  {
   "cell_type": "markdown",
   "metadata": {},
   "source": [
    "Generally, we can create **parameters** and specify some properties and assign concrete values if necessary."
   ]
  },
  {
   "cell_type": "code",
   "execution_count": 36,
   "metadata": {},
   "outputs": [],
   "source": [
    "# Positive scalar parameter.\n",
    "m = cp.Parameter(nonneg=True)\n",
    "\n",
    "# Column vector parameter with unknown sign (by default).\n",
    "c = cp.Parameter(5)\n",
    "\n",
    "# Matrix parameter with negative entries.\n",
    "G = cp.Parameter((4, 7), nonpos=True)\n",
    "\n",
    "# Assigns a constant value to G.\n",
    "G.value = -np.ones((4, 7))"
   ]
  },
  {
   "cell_type": "code",
   "execution_count": 37,
   "metadata": {},
   "outputs": [
    {
     "name": "stdout",
     "output_type": "stream",
     "text": [
      "2 2\n"
     ]
    }
   ],
   "source": [
    "# Create parameter, then assign value.\n",
    "rho1 = cp.Parameter(nonneg=True)\n",
    "rho1.value = 2\n",
    "\n",
    "# Initialize parameter with a value.\n",
    "rho2 = cp.Parameter(nonneg=True, value=2)\n",
    "\n",
    "print(rho1.value,rho2.value)"
   ]
  },
  {
   "cell_type": "markdown",
   "metadata": {},
   "source": [
    "Computing trade-off curves is a common use of parameters. The example below computes a trade-off curve for a LASSO problem."
   ]
  },
  {
   "cell_type": "code",
   "execution_count": 38,
   "metadata": {},
   "outputs": [
    {
     "name": "stdout",
     "output_type": "stream",
     "text": [
      "gamma_vals[0:5]: [0.0001     0.00015999 0.00025595 0.00040949 0.00065513]\n",
      "gamma_vals[-5:]: [ 152641.79671752  244205.30945487  390693.99370546  625055.1925274\n",
      " 1000000.        ]\n"
     ]
    },
    {
     "name": "stderr",
     "output_type": "stream",
     "text": [
      "C:\\Users\\HKH\\Anaconda3\\lib\\site-packages\\cvxpy\\expressions\\expression.py:516: UserWarning: \n",
      "This use of ``*`` has resulted in matrix multiplication.\n",
      "Using ``*`` for matrix multiplication has been deprecated since CVXPY 1.1.\n",
      "    Use ``*`` for matrix-scalar and vector-scalar multiplication.\n",
      "    Use ``@`` for matrix-matrix and matrix-vector multiplication.\n",
      "    Use ``multiply`` for elementwise multiplication.\n",
      "\n",
      "  warnings.warn(__STAR_MATMUL_WARNING__, UserWarning)\n"
     ]
    },
    {
     "data": {
      "image/png": "[encoded data removed]",
      "text/plain": [
       "<Figure size 432x720 with 2 Axes>"
      ]
     },
     "metadata": {
      "needs_background": "light"
     },
     "output_type": "display_data"
    }
   ],
   "source": [
    "# source code from tutorial\n",
    "\n",
    "filterwarnings('ignore')\n",
    "# Problem data.\n",
    "n = 15\n",
    "m = 10\n",
    "np.random.seed(1)\n",
    "A = np.random.randn(n, m)\n",
    "b = np.random.randn(n)\n",
    "# gamma must be nonnegative due to DCP rules.\n",
    "gamma = cp.Parameter(nonneg=True)\n",
    "\n",
    "# Construct the problem.\n",
    "x = cp.Variable(m)\n",
    "error = cp.sum_squares(A*x - b)\n",
    "obj = cp.Minimize(error + gamma*cp.norm(x, 1))\n",
    "prob = cp.Problem(obj)\n",
    "\n",
    "# Construct a trade-off curve of ||Ax-b||^2 vs. ||x||_1\n",
    "sq_penalty = []\n",
    "l1_penalty = []\n",
    "x_values = []\n",
    "gamma_vals = np.logspace(-4, 6)\n",
    "print('gamma_vals[0:5]:', gamma_vals[0:5])\n",
    "print('gamma_vals[-5:]:', gamma_vals[-5:])\n",
    "for val in gamma_vals:\n",
    "    gamma.value = val\n",
    "    prob.solve()\n",
    "    # Use expr.value to get the numerical value of\n",
    "    # an expression in the problem.\n",
    "    sq_penalty.append(error.value)\n",
    "    l1_penalty.append(cp.norm(x, 1).value)\n",
    "    x_values.append(x.value)\n",
    "    \n",
    "plt.rc('font', family='serif')\n",
    "plt.figure(figsize=(6,10))\n",
    "\n",
    "# Plot trade-off curve.\n",
    "plt.subplot(211)\n",
    "plt.plot(l1_penalty, sq_penalty)\n",
    "plt.xlabel(r'$\\|x\\|_1$', fontsize=16)\n",
    "plt.ylabel(r'square error $\\|Ax-b\\|^2$', fontsize=16)\n",
    "plt.title('Trade-Off Curve for LASSO', fontsize=16)\n",
    "\n",
    "# Plot entries of x vs. gamma.\n",
    "plt.subplot(212)\n",
    "for i in range(m):\n",
    "    plt.plot(gamma_vals, [xi[i] for xi in x_values])\n",
    "plt.xlabel(r'$\\gamma$', fontsize=16)\n",
    "plt.ylabel('value of entries of x', fontsize=16)\n",
    "plt.xscale('log')\n",
    "plt.title(r'Entries of x vs. $\\gamma$', fontsize=16)\n",
    "\n",
    "plt.tight_layout()\n",
    "plt.show()    "
   ]
  },
  {
   "cell_type": "markdown",
   "metadata": {},
   "source": [
    "Trade-off curves can easily be computed in parallel. The code below computes in parallel the optimal x for each γ in the LASSO problem above."
   ]
  },
  {
   "cell_type": "code",
   "execution_count": 39,
   "metadata": {},
   "outputs": [],
   "source": [
    "# from multiprocessing import Pool\n",
    "\n",
    "# Assign a value to gamma and find the optimal x.\n",
    "# def get_x(gamma_value):\n",
    "#     gamma.value = gamma_value\n",
    "#     result = prob.solve()\n",
    "#     return x.value\n",
    "\n",
    "# Parallel computation (set to 1 process here).\n",
    "# pool = Pool(processes = 1)\n",
    "# x_values = pool.map(get_x, gamma_vals)"
   ]
  },
  {
   "cell_type": "markdown",
   "metadata": {},
   "source": [
    "**DPP**"
   ]
  },
  {
   "cell_type": "markdown",
   "metadata": {},
   "source": [
    "In DPP, an expression is said to be **parameter-affine** if it does not involve variables and is affine in its parameters, and it is **variable-free** if it does not have variables. DPP introduces two restrictions to DCP:\n",
    "\n",
    "1. Under DPP, all parameters are classified as affine, just like variables.\n",
    "\n",
    "2. Under DPP, the product of two expressions is affine when at least one of the expressions is constant, or when one of the expressions is parameter-affine and the other is parameter-free.\n",
    "\n",
    "An expression is **DPP-compliant** if it DCP-compliant subject to these two restrictions. Similar, we have `.is_dcp()` method to check this, but need to assign `dpp=True`."
   ]
  },
  {
   "cell_type": "code",
   "execution_count": 40,
   "metadata": {},
   "outputs": [
    {
     "name": "stdout",
     "output_type": "stream",
     "text": [
      "True\n"
     ]
    }
   ],
   "source": [
    "m, n = 3, 2\n",
    "x = cp.Variable((n, 1))\n",
    "F = cp.Parameter((m, n))\n",
    "G = cp.Parameter((m, n))\n",
    "g = cp.Parameter((m, 1))\n",
    "gamma = cp.Parameter(nonneg=True)\n",
    "\n",
    "objective = cp.norm((F + G) @ x - g) + gamma * cp.norm(x)\n",
    "print(objective.is_dcp(dpp=True))"
   ]
  },
  {
   "cell_type": "markdown",
   "metadata": {},
   "source": [
    "It prints `True`. We can walk through the DPP analysis to understand why `objective` is DPP-compliant. The product `(F + G) @ x` is affine under DPP, because `F + G` is parameter-affine and `x` is variable-free. The difference `(F + G) @ x - g` is affine because the addition atom is affine and both `(F + G) @ x` and `- g` are affine. The product `gamma * cp.norm(x)` is convex because `cp.norm(x)` is convex, the product is affine because `gamma` is parameter-affine and `cp.norm(x)` is variable-free, and the expression `gamma * cp.norm(x)` is convex because the product is increasing in its second argument (since `gamma` is nonnegative)."
   ]
  },
  {
   "cell_type": "markdown",
   "metadata": {},
   "source": [
    "Some are DCP-compliant but not DPP-compliant."
   ]
  },
  {
   "cell_type": "code",
   "execution_count": 41,
   "metadata": {},
   "outputs": [
    {
     "name": "stdout",
     "output_type": "stream",
     "text": [
      "Is DPP?  False\n",
      "Is DCP?  True\n"
     ]
    }
   ],
   "source": [
    "x = cp.Variable()\n",
    "gamma = cp.Parameter(nonneg=True)\n",
    "problem = cp.Problem(cp.Minimize(gamma * gamma * x), [x >= 1])\n",
    "print(\"Is DPP? \", problem.is_dcp(dpp=True))\n",
    "print(\"Is DCP? \", problem.is_dcp(dpp=False))"
   ]
  },
  {
   "cell_type": "markdown",
   "metadata": {},
   "source": [
    "Just as it is possible to rewrite non-DCP problems in DCP-compliant ways, it is also possible to re-express non-DPP problems in DPP-compliant ways."
   ]
  },
  {
   "cell_type": "code",
   "execution_count": 42,
   "metadata": {},
   "outputs": [
    {
     "name": "stdout",
     "output_type": "stream",
     "text": [
      "Is DPP?  True\n",
      "Is DCP?  True\n"
     ]
    }
   ],
   "source": [
    "x = cp.Variable()\n",
    "y = cp.Variable()\n",
    "gamma = cp.Parameter(nonneg=True)\n",
    "problem = cp.Problem(cp.Minimize(gamma * y), [y == gamma * x])\n",
    "print(\"Is DPP? \", problem.is_dcp(dpp=True))\n",
    "print(\"Is DCP? \", problem.is_dcp(dpp=False))"
   ]
  },
  {
   "cell_type": "markdown",
   "metadata": {},
   "source": [
    "In other cases, you can represent non-DPP transformations of parameters by doing them outside of the DSL, e.g., in NumPy. For example, if `P` is a parameter and `x` is a variable, `cp.quad_form(x, P)` is not DPP. You can represent a parametric quadratic form like so:"
   ]
  },
  {
   "cell_type": "code",
   "execution_count": 43,
   "metadata": {},
   "outputs": [],
   "source": [
    "n = 4\n",
    "L = np.random.randn(n, n)\n",
    "P = L.T @ L\n",
    "P_sqrt = cp.Parameter((n, n))\n",
    "x = cp.Variable((n, 1))\n",
    "quad_form = cp.sum_squares(P_sqrt @ x)\n",
    "P_sqrt.value = sp.linalg.sqrtm(P)\n",
    "assert quad_form.is_dcp(dpp=True)"
   ]
  },
  {
   "cell_type": "markdown",
   "metadata": {},
   "source": [
    "As another example, the quotient `expr / p` is not DPP-compliant when `p` is a parameter, but this can be rewritten as `expr * p_tilde`, where `p_tilde` is a parameter that represents `1/p`."
   ]
  },
  {
   "cell_type": "markdown",
   "metadata": {},
   "source": [
    "### 2. Check curvature of variables, constraints and objective"
   ]
  },
  {
   "cell_type": "markdown",
   "metadata": {},
   "source": [
    "![jupyter](./curvature.jpg)"
   ]
  },
  {
   "cell_type": "code",
   "execution_count": 44,
   "metadata": {},
   "outputs": [
    {
     "name": "stdout",
     "output_type": "stream",
     "text": [
      "curvature of x,y:  AFFINE AFFINE\n",
      "curvature of -(x-20)**2:  CONCAVE\n",
      "curvature of -2*(y-1)**2:  CONCAVE\n"
     ]
    }
   ],
   "source": [
    "print('curvature of x,y: ',x.curvature,y.curvature)\n",
    "print('curvature of -(x-20)**2: ',(-1*cp.square(x-20)).curvature)\n",
    "print('curvature of -2*(y-1)**2: ',(-2*cp.square(y-1)).curvature)"
   ]
  },
  {
   "cell_type": "code",
   "execution_count": 45,
   "metadata": {},
   "outputs": [
    {
     "name": "stdout",
     "output_type": "stream",
     "text": [
      "sign of x,y:  UNKNOWN UNKNOWN\n",
      "sign of -(x-20)**2:  NONPOSITIVE\n",
      "sign of -2*(y-1)**2:  NONPOSITIVE\n"
     ]
    }
   ],
   "source": [
    "print('sign of x,y: ',x.sign,y.sign)\n",
    "print('sign of -(x-20)**2: ',(-1*cp.square(x-20)).sign)\n",
    "print('sign of -2*(y-1)**2: ',(-2*cp.square(y-1)).sign)"
   ]
  },
  {
   "cell_type": "markdown",
   "metadata": {},
   "source": [
    "### 3. Atoms"
   ]
  },
  {
   "cell_type": "markdown",
   "metadata": {},
   "source": [
    "**Infix Operators**"
   ]
  },
  {
   "cell_type": "code",
   "execution_count": 46,
   "metadata": {},
   "outputs": [],
   "source": [
    "# +, -, *, /, @"
   ]
  },
  {
   "cell_type": "markdown",
   "metadata": {},
   "source": [
    "**Transpose**"
   ]
  },
  {
   "cell_type": "code",
   "execution_count": 47,
   "metadata": {},
   "outputs": [],
   "source": [
    "# ().T"
   ]
  },
  {
   "cell_type": "markdown",
   "metadata": {},
   "source": [
    "**Power**"
   ]
  },
  {
   "cell_type": "code",
   "execution_count": 48,
   "metadata": {},
   "outputs": [],
   "source": [
    "# power(x,p)"
   ]
  },
  {
   "cell_type": "markdown",
   "metadata": {},
   "source": [
    "**Scalar Atomic Functions**"
   ]
  },
  {
   "cell_type": "code",
   "execution_count": 49,
   "metadata": {},
   "outputs": [],
   "source": [
    "x = cp.Variable(5)\n",
    "X = cp.Variable((5,4))\n",
    "# cp.geo_mean(x)\n",
    "# cp.geo_mean(x,(1,2,3,4,5))\n",
    "# cp.harmonic_mean(x)\n",
    "# cp.lambda_max(X)  # largest eigenvalues\n",
    "# cp.lambda_min(X)  # minimum eigenvalues\n",
    "# cp.lambda_sum_largest(X,k) # sum of k largest eigenvalues of x\n",
    "# cp.lambda_sum_smallest(X,k)\n",
    "# cp.log_det(X)\n",
    "# cp.log_sum_exp(X)\n",
    "# cp.matrix_frac(x,P)  # x^T @ P^{-1} @ x\n",
    "# cp.max(X)\n",
    "# cp.min(X)\n",
    "# cp.mixed_norm(X,p,q)\n",
    "# cp.norm(x)\n",
    "# cp.norm(x,1)\n",
    "# cp.norm(x,2)\n",
    "# cp.norm(x,'inf')\n",
    "# cp.norm(X)\n",
    "# cp.norm(X,1)\n",
    "# cp.norm(X,2)\n",
    "# cp.norm(X,'fro')\n",
    "# cp.norm(X,'inf')\n",
    "# cp.norm(X,'nuc')\n",
    "# cp.pnorm(X,p)  p >= 1 or p = 'inf'\n",
    "# cp.pnorm(X,p)  p < 1 but p not equal to 0\n",
    "# cp.quad_form(x,P)  # P \\in S_{+}^{n}\n",
    "# cp.quad_form(x,P)  # P \\in S_{-}^{n}\n",
    "# cp.quad_form(c,X)\n",
    "# cp.quad_over_lin(X,y)\n",
    "# cp.sum(X)\n",
    "# cp.sum(X,axis=0, keepdims=True)  # has size (1,4)\n",
    "# cp.sum(X, axis=0)  # has size (4,)\n",
    "# cp.sum(X,axis=1)  # has size (5,)\n",
    "# cp.sum_largest(X,k)\n",
    "# cp.sum_smallest(X,k)\n",
    "# cp.sum_squares(X)\n",
    "# cp.trace(X)\n",
    "# cp.tv(x)\n",
    "# cp.tv(X)\n",
    "# cp.tv([X1,X2,...,Xk])"
   ]
  },
  {
   "cell_type": "markdown",
   "metadata": {},
   "source": [
    "**Elementwise Atomic Functions**"
   ]
  },
  {
   "cell_type": "code",
   "execution_count": 50,
   "metadata": {},
   "outputs": [],
   "source": [
    "# cp.abs(x)\n",
    "# cp.entr(x)\n",
    "# cp.exp(x)\n",
    "# cp.huber(x,M=1)  # M >= 0\n",
    "# cp.inv_pos(x)\n",
    "# cp.kl_div(x,y)\n",
    "# cp.log(x)\n",
    "# cp.log1p(x)\n",
    "# cp.logistic(x)\n",
    "# cp.maximum(x,y)\n",
    "# cp.minimum(x,y)\n",
    "# cp.multiply(c,x)\n",
    "# cp.neg(x)\n",
    "# cp.pos(x)\n",
    "# cp.power(x,0)\n",
    "# cp.power(x,1)\n",
    "# cp.power(x,p)\n",
    "# cp.scalene(x,alpha,beta)   # alpha pos(x) + beta neg(x)  alpha >= 0  beta >= 0\n",
    "# cp.sqrt(x)\n",
    "# cp.square(x)"
   ]
  },
  {
   "cell_type": "markdown",
   "metadata": {},
   "source": [
    "### 4. Disciplined Geometric Programming"
   ]
  },
  {
   "cell_type": "markdown",
   "metadata": {},
   "source": [
    "> \"While DCP is a ruleset for constructing convex programs, DGP is a ruleset for log-log convex programs (LLCPs), which are problems that are convex after the variables, objective functions, and constraint functions are replaced with their logs, an operation that we refer to as a log-log transformation. Every geometric program (GP) and generalized geometric program (GGP) is an LLCP, but there are LLCPs that are neither GPs nor GGPs.\" \n",
    "$\\quad\\quad\\quad\\quad\\quad\\quad\\quad\\quad\\quad\\quad\\quad\\quad\\quad\\quad\\quad\\quad\\quad\\quad\\quad\\quad\\quad\\quad\\quad\\quad\\quad\\quad\\quad\\quad\\quad\\quad\\quad\\quad\\quad\\quad\\quad\\quad\\quad\\quad\\quad\\quad\\quad\\quad\\quad$ \n",
    "$\\quad\\quad\\quad\\quad\\quad\\quad\\quad\\quad\\quad\\quad\\quad\\quad\\quad\\quad\\quad\\quad\\quad\\quad\\quad\\quad\\quad\\quad\\quad\\quad\\quad\\quad\\quad\\quad\\quad\\quad\\quad\\quad\\quad\\quad\\quad\\quad\\quad\\quad\\quad\\quad$—— CVXPY Tutorial"
   ]
  },
  {
   "cell_type": "code",
   "execution_count": 51,
   "metadata": {},
   "outputs": [
    {
     "name": "stdout",
     "output_type": "stream",
     "text": [
      "Optimal value:  2.000000010082854\n",
      "      x      :  1.0000000133712281\n",
      "      y      :  1.9999999833403979\n",
      "      z      :  1.0\n"
     ]
    }
   ],
   "source": [
    "# source code from CVXPY tutorial\n",
    "# DGP requires Variables to be declared positive via `pos=True`.\n",
    "x = cp.Variable(pos=True)\n",
    "y = cp.Variable(pos=True)\n",
    "z = cp.Variable(pos=True)\n",
    "\n",
    "objective_fn = x * y * z\n",
    "constraints = [4 * x * y * z + 2 * x * z <= 10, \n",
    "                   x <= 2*y, \n",
    "                   y <= 2*x, \n",
    "                   z >= 1]\n",
    "\n",
    "problem = cp.Problem(cp.Maximize(objective_fn), constraints)\n",
    "try:\n",
    "    problem.solve(gp=True) # To solve DGP, must assign gp value to the solve method\n",
    "except Exception as e:\n",
    "    print(e)\n",
    "\n",
    "print(\"Optimal value: \", problem.value)\n",
    "print(\"      x      : \", x.value)\n",
    "print(\"      y      : \", y.value)\n",
    "print(\"      z      : \", z.value)"
   ]
  },
  {
   "cell_type": "markdown",
   "metadata": {},
   "source": [
    "![jupyter](./log-log_curvature.jpg)"
   ]
  },
  {
   "cell_type": "code",
   "execution_count": 52,
   "metadata": {},
   "outputs": [
    {
     "name": "stdout",
     "output_type": "stream",
     "text": [
      "LOG-LOG CONSTANT\n",
      "LOG-LOG AFFINE\n",
      "LOG-LOG CONVEX\n",
      "LOG-LOG CONCAVE\n",
      "UNKNOWN\n"
     ]
    }
   ],
   "source": [
    "# source code obtained from CVXPY tutorial\n",
    "# log-log curvature is stored in .log_log_curvature attribute\n",
    "x = cp.Variable(pos=True)\n",
    "y = cp.Variable(pos=True)\n",
    "\n",
    "constant = cp.Constant(2.0)\n",
    "monomial = constant * x * y\n",
    "posynomial = monomial + (x ** 1.5) * (y ** -1)\n",
    "reciprocal = posynomial ** -1\n",
    "unknown = reciprocal + posynomial\n",
    "\n",
    "print(constant.log_log_curvature)\n",
    "print(monomial.log_log_curvature)\n",
    "print(posynomial.log_log_curvature)\n",
    "print(reciprocal.log_log_curvature)\n",
    "print(unknown.log_log_curvature)"
   ]
  },
  {
   "cell_type": "code",
   "execution_count": 53,
   "metadata": {},
   "outputs": [
    {
     "name": "stdout",
     "output_type": "stream",
     "text": [
      "True\n",
      "True\n",
      "True\n",
      "True\n"
     ]
    }
   ],
   "source": [
    "print(constant.is_log_log_constant())\n",
    "print(monomial.is_log_log_affine())\n",
    "print(posynomial.is_log_log_convex())\n",
    "print(reciprocal.is_log_log_concave())\n",
    "# print(unknown.is_log_log_unknown())\n",
    "# AttributeError: 'AddExpression' object has no attribute 'is_log_log_unknown'"
   ]
  },
  {
   "cell_type": "markdown",
   "metadata": {},
   "source": [
    "Again, we have method `.is_dgp()` similar to `.is_dcp()`."
   ]
  },
  {
   "cell_type": "code",
   "execution_count": 54,
   "metadata": {},
   "outputs": [
    {
     "name": "stdout",
     "output_type": "stream",
     "text": [
      "True\n",
      "True\n"
     ]
    }
   ],
   "source": [
    "# source code obtained from CVXPY tutorial\n",
    "# please refer to the tutorial for log-log curvature rules of f(expr1,expr2,expr3,...), which is quite intuitive\n",
    "\n",
    "x = cp.Variable(pos=True)\n",
    "y = cp.Variable(pos=True)\n",
    "\n",
    "monomial = 2.0 * constant * x * y\n",
    "posynomial = monomial + (x ** 1.5) * (y ** -1)\n",
    "\n",
    "assert monomial.is_dgp()\n",
    "assert posynomial.is_dgp()\n",
    "\n",
    "print(monomial.is_dgp())\n",
    "print(posynomial.is_dgp())"
   ]
  },
  {
   "cell_type": "markdown",
   "metadata": {},
   "source": [
    "Similar atoms to DCP."
   ]
  },
  {
   "cell_type": "code",
   "execution_count": 55,
   "metadata": {},
   "outputs": [],
   "source": [
    "# scalar functions \n",
    "\n",
    "# geo_mean(x)\n",
    "# geo_mean(x,p)\n",
    "# harmonic_mean(x)\n",
    "# max(X)\n",
    "# min(X)\n",
    "# norm(x)\n",
    "# norm(x,2)\n",
    "# norm(X,1)\n",
    "# norm(X,2)\n",
    "# norm(X,'inf')\n",
    "# norm(X,'fro')\n",
    "# pnorm(X,p)\n",
    "# prod(X)\n",
    "# quad_form(x,p)\n",
    "# quad_over_lin(X,y)\n",
    "# sum(X)\n",
    "# sum_squares(X)\n",
    "# trace(X)\n",
    "# pf_eigenvalue(X)"
   ]
  },
  {
   "cell_type": "code",
   "execution_count": 56,
   "metadata": {},
   "outputs": [],
   "source": [
    "# elementwise functions\n",
    "\n",
    "# diff_pos(x,y)\n",
    "# entr(x)\n",
    "# exp(x)\n",
    "# log(x)\n",
    "# maximum(x,y)\n",
    "# minimum(x,y)\n",
    "# multiply(x,y)\n",
    "# one_minus_pos(x)  # 1-x for x in (0,1)\n",
    "# power(x,0)\n",
    "# power(x,1)\n",
    "# sqrt(x)\n",
    "# square(x)"
   ]
  },
  {
   "cell_type": "code",
   "execution_count": 57,
   "metadata": {},
   "outputs": [],
   "source": [
    "# vector/matrix functions\n",
    "\n",
    "# bmat([[X_11,...,X_1q],...,[Xp1,...,Xpq]])\n",
    "# diag(x)\n",
    "# diag(X)\n",
    "# eye_minus_inv(X)\n",
    "# gmatmul(A,x)\n",
    "# hstack([X1,...,Xk])\n",
    "# matmul(X,Y)\n",
    "# resolvent(X)\n",
    "# reshape(X,(m',n'))\n",
    "# vec(X)\n",
    "# vstack([X1,...,Xk])"
   ]
  },
  {
   "cell_type": "markdown",
   "metadata": {},
   "source": [
    "### 5. Disciplined Quaiconvex Problem"
   ]
  },
  {
   "cell_type": "markdown",
   "metadata": {},
   "source": [
    ">  \"Disciplined quasiconvex programming (DQCP) is a generalization of DCP for quasiconvex functions.Quasiconvexity generalizes convexity: a function $f$ is quasiconvex if and only if its domain is a convex set and its sublevel sets $\\lbrace x:f(x) \\leq t \\rbrace$ are convex, for all $t$.\"\n",
    "$\\quad\\quad\\quad\\quad\\quad\\quad\\quad\\quad\\quad\\quad\\quad\\quad\\quad\\quad\\quad\\quad\\quad\\quad\\quad\\quad\\quad\\quad\\quad\\quad\\quad\\quad\\quad\\quad\\quad\\quad\\quad\\quad\\quad\\quad\\quad\\quad\\quad\\quad\\quad\\quad\\quad\\quad\\quad$ \n",
    "$\\quad\\quad\\quad\\quad\\quad\\quad\\quad\\quad\\quad\\quad\\quad\\quad\\quad\\quad\\quad\\quad\\quad\\quad\\quad\\quad\\quad\\quad\\quad\\quad\\quad\\quad\\quad\\quad\\quad\\quad\\quad\\quad\\quad\\quad\\quad\\quad\\quad\\quad\\quad\\quad$—— CVXPY Tutorial"
   ]
  },
  {
   "cell_type": "markdown",
   "metadata": {},
   "source": [
    "Compared to DCP, now the rulesets of DQCP aims to minimize a quasiconvex objective over a convex set, and allows forms of $f(x)\\leq t$ where $f(x)$ is quasiconvex while $t$ is constant, and of $f(x) \\geq t$ where $f(x)$ is quasiconcave while $t$ is constant."
   ]
  },
  {
   "cell_type": "code",
   "execution_count": 58,
   "metadata": {},
   "outputs": [
    {
     "name": "stdout",
     "output_type": "stream",
     "text": [
      "Optimal value:  -0.4288821220397949\n",
      "      x      :  0.4998944205766888\n",
      "      y      :  1.6485477840919485\n"
     ]
    }
   ],
   "source": [
    "# source code from tutorial\n",
    "\n",
    "x = cp.Variable()\n",
    "y = cp.Variable(pos=True)\n",
    "\n",
    "objective_fn = -cp.sqrt(x) / y\n",
    "\n",
    "problem = cp.Problem(cp.Minimize(objective_fn), [cp.exp(x) <= y])\n",
    "problem.solve(qcp=True)  # similarly, must assign True to qcp to solve DQCP\n",
    "\n",
    "assert problem.is_dqcp()\n",
    "\n",
    "print(\"Optimal value: \", problem.value)\n",
    "print(\"      x      : \", x.value)\n",
    "print(\"      y      : \", y.value)"
   ]
  },
  {
   "cell_type": "markdown",
   "metadata": {},
   "source": [
    "**Curvature**"
   ]
  },
  {
   "cell_type": "code",
   "execution_count": 59,
   "metadata": {},
   "outputs": [
    {
     "name": "stdout",
     "output_type": "stream",
     "text": [
      "QUASICONVEX\n",
      "QUASICONCAVE\n",
      "QUASILINEAR\n"
     ]
    }
   ],
   "source": [
    "# source code from tutorial\n",
    "x = cp.Variable(3)\n",
    "y = cp.length(x)\n",
    "z = -y\n",
    "print(y.curvature)\n",
    "print(z.curvature)\n",
    "\n",
    "w = cp.ceil(x)  # elementwise ceiling\n",
    "print(w.curvature)"
   ]
  },
  {
   "cell_type": "code",
   "execution_count": 60,
   "metadata": {},
   "outputs": [
    {
     "name": "stdout",
     "output_type": "stream",
     "text": [
      "True\n",
      "True\n",
      "True\n"
     ]
    }
   ],
   "source": [
    "print(w.is_quasiconvex())\n",
    "print(w.is_quasiconcave())\n",
    "print(w.is_quasilinear())  # if both w.is_quasiconvex() and w.is_quasiconcave() are True"
   ]
  },
  {
   "cell_type": "markdown",
   "metadata": {},
   "source": [
    "**Composition Rule**"
   ]
  },
  {
   "cell_type": "markdown",
   "metadata": {},
   "source": [
    "![jupyter](./DQCP_composition_rule.jpg)"
   ]
  },
  {
   "cell_type": "code",
   "execution_count": 61,
   "metadata": {},
   "outputs": [],
   "source": [
    "# source code from tutorial\n",
    "\n",
    "x = cp.Variable(pos=True)\n",
    "y = cp.Variable(pos=True)\n",
    "\n",
    "product = cp.multiply(x, y)\n",
    "\n",
    "assert product.is_quasiconcave()\n",
    "assert product.is_dqcp()"
   ]
  },
  {
   "cell_type": "code",
   "execution_count": 62,
   "metadata": {},
   "outputs": [
    {
     "name": "stdout",
     "output_type": "stream",
     "text": [
      "  Constant  : False\n",
      "   Affine   : False\n",
      "  Concave   : False\n",
      "   Convex   : False\n",
      "Quasiconcave: True\n",
      "Quasiconvex : False\n",
      "Quasilinear : False\n"
     ]
    }
   ],
   "source": [
    "print(\"  Constant  :\",product.is_constant())\n",
    "print(\"   Affine   :\",product.is_affine())\n",
    "print(\"  Concave   :\",product.is_concave())\n",
    "print(\"   Convex   :\",product.is_convex())\n",
    "print(\"Quasiconcave:\",product.is_quasiconcave())\n",
    "print(\"Quasiconvex :\",product.is_quasiconvex())\n",
    "print(\"Quasilinear :\",product.is_quasilinear())"
   ]
  },
  {
   "cell_type": "markdown",
   "metadata": {},
   "source": [
    "**DQCP rules**"
   ]
  },
  {
   "cell_type": "markdown",
   "metadata": {},
   "source": [
    "Valid Objectives:\n",
    "- Minimize (quasiconvex)\n",
    "- Maximize (quasiconcave)\n",
    "\n",
    "Valid Constraints:\n",
    "- affine == affine\n",
    "- convex <= concave\n",
    "- concave >= convex\n",
    "- quasiconvex <= constant\n",
    "- quasiconcave >= constant"
   ]
  },
  {
   "cell_type": "markdown",
   "metadata": {},
   "source": [
    "|    Valied Objectives       |   Valid Constraints     |\n",
    "|:------------------------------:|:--------------------------:|\n",
    "|<br>Minimize (quasiconvex)<br><br>Maximize (quasiconcave)|affine == affine<br>convex <= concave<br>concave >= convex<br>quasiconvex <= constant<br>quasiconcave >= constant|"
   ]
  },
  {
   "cell_type": "code",
   "execution_count": 63,
   "metadata": {},
   "outputs": [],
   "source": [
    "# source code from tutorial \n",
    "\n",
    "# The sign of variables affects curvature analysis.\n",
    "x = cp.Variable(nonneg=True)\n",
    "\n",
    "concave_fractional_fn = x * cp.sqrt(x)\n",
    "constraint = [cp.ceil(x) <= 10]\n",
    "\n",
    "problem = cp.Problem(cp.Maximize(concave_fractional_fn), constraint)\n",
    "\n",
    "assert concave_fractional_fn.is_quasiconcave()\n",
    "assert constraint[0].is_dqcp()  # must do slicing otherwise list object has no method of .is_dqcp()\n",
    "assert problem.is_dqcp()\n",
    "\n",
    "w = cp.Variable()\n",
    "fn = w * cp.sqrt(w)\n",
    "\n",
    "problem = cp.Problem(cp.Maximize(fn))\n",
    "\n",
    "assert not fn.is_dqcp()\n",
    "assert not problem.is_dqcp()"
   ]
  },
  {
   "cell_type": "markdown",
   "metadata": {},
   "source": [
    "**Atoms**"
   ]
  },
  {
   "cell_type": "code",
   "execution_count": 64,
   "metadata": {},
   "outputs": [],
   "source": [
    "# Ratio:\n",
    "#    x/y\n",
    "\n",
    "# Scalar product:\n",
    "#    *\n",
    "\n",
    "# Distance ratio function:\n",
    "#   cp.dist_ratio(x,a,b)\n",
    "#   || x-a ||_2 / || x-b ||_2, implicitly enforing the constraint: || x-a ||_2 <= || x-b ||_2\n",
    "\n",
    "# Maximum generalized eigenvalue:\n",
    "#   cp.gen_lambda_max(A,B)\n",
    "#   Ax = λBx\n",
    "\n",
    "# Ceiling and floor:\n",
    "#   cp.ceil(x) and cp.floor(x)   \n",
    "#   quasilinear and increasing\n",
    "\n",
    "# Sign:\n",
    "#   cp.sign(x)\n",
    "#   -1 for x<=0 and +1 for x>0\n",
    "\n",
    "# Length of a vector:\n",
    "#   cp.length(x)"
   ]
  },
  {
   "cell_type": "markdown",
   "metadata": {},
   "source": [
    "**Solve DQCP**"
   ]
  },
  {
   "cell_type": "markdown",
   "metadata": {},
   "source": [
    "The solve method will solves a DQCP by bisection and it will automatically find a lower bound and an upper bound for bisection, if both are not provided. You can also specify the options: `problem.solve(qcp=True, low=12, high=17)`. We can also choose a different solver: `problem.solve(qcp=True, solver=cp.SCS)`; check the verbose output describing the bisection process: `problem.solve(qcp=True, verbose=True)`. "
   ]
  },
  {
   "cell_type": "markdown",
   "metadata": {},
   "source": [
    "### 6. Advanced Features"
   ]
  },
  {
   "cell_type": "markdown",
   "metadata": {},
   "source": [
    "**Dual Variables (Lagrangian Multiplier)**"
   ]
  },
  {
   "cell_type": "code",
   "execution_count": 65,
   "metadata": {},
   "outputs": [
    {
     "name": "stdout",
     "output_type": "stream",
     "text": [
      "optimal (x + y == 1) dual variable 0.0\n",
      "optimal (x - y >= 1) dual variable 2.0\n",
      "x - y value: 1.0\n"
     ]
    }
   ],
   "source": [
    "# Create two scalar optimization variables.\n",
    "x = cp.Variable()\n",
    "y = cp.Variable()\n",
    "\n",
    "# Create two constraints.\n",
    "constraints = [x + y == 1,\n",
    "               x - y >= 1]\n",
    "\n",
    "# Form objective.\n",
    "obj = cp.Minimize((x - y)**2)\n",
    "\n",
    "# Form and solve problem.\n",
    "prob = cp.Problem(obj, constraints)\n",
    "prob.solve()\n",
    "\n",
    "# The optimal dual variable (Lagrange multiplier) for\n",
    "# a constraint is stored in constraint.dual_value.\n",
    "print(\"optimal (x + y == 1) dual variable\", constraints[0].dual_value)\n",
    "print(\"optimal (x - y >= 1) dual variable\", constraints[1].dual_value)\n",
    "print(\"x - y value:\", (x - y).value)"
   ]
  },
  {
   "cell_type": "markdown",
   "metadata": {},
   "source": [
    "With the value of multiplier/dual variable, we can back out whether inequality constraints are binding by complementarity slackness condition."
   ]
  },
  {
   "cell_type": "markdown",
   "metadata": {},
   "source": [
    "**Attributes**"
   ]
  },
  {
   "cell_type": "code",
   "execution_count": 66,
   "metadata": {},
   "outputs": [],
   "source": [
    "# Leaf(shape=None, name=None, value=None, nonneg=False, nonpos=False, \n",
    "#      symmetric=False, diag=False, PSD=False, NSD=False, boolean=False, integer=False)\n",
    "\n",
    "# Leaf is the parent class of Variable and Parameters"
   ]
  },
  {
   "cell_type": "code",
   "execution_count": 68,
   "metadata": {},
   "outputs": [
    {
     "name": "stdout",
     "output_type": "stream",
     "text": [
      "Parameter value must be nonnegative.\n",
      "Projection: 0.0\n"
     ]
    }
   ],
   "source": [
    "p = cp.Parameter(nonneg=True)\n",
    "try:\n",
    "    p.value = -1\n",
    "except Exception as e:\n",
    "    print(e)\n",
    "\n",
    "print(\"Projection:\", p.project(-1))"
   ]
  },
  {
   "cell_type": "markdown",
   "metadata": {},
   "source": [
    "A sensible idiom for assigning values to leaves is **`leaf.value = leaf.project(val)`**, ensuring that the assigned value satisfies the leaf’s properties. A slightly more efficient variant is **`leaf.project_and_assign(val)`**, which projects and assigns the value directly, without additionally checking that the value satisfies the leaf’s properties. In most cases `project` and checking that a value satisfies a leaf’s properties are cheap operations (i.e., `O(n)`), but for symmetric positive semidefinite or negative semidefinite leaves, the operations compute an eigenvalue decomposition."
   ]
  },
  {
   "cell_type": "markdown",
   "metadata": {},
   "source": [
    "**Semidefinite Matrices**"
   ]
  },
  {
   "cell_type": "code",
   "execution_count": 69,
   "metadata": {},
   "outputs": [],
   "source": [
    "# Creates a 100 by 100 positive semidefinite variable.\n",
    "X = cp.Variable((100, 100), PSD=True)\n",
    "\n",
    "# You can use X anywhere you would use a normal CVXPY variable.\n",
    "obj = cp.Minimize(cp.norm(X) + cp.sum(X))"
   ]
  },
  {
   "cell_type": "markdown",
   "metadata": {},
   "source": [
    "Set constraints on matrices in terms of PSD,NSD,PD,ND, and symmetric."
   ]
  },
  {
   "cell_type": "markdown",
   "metadata": {},
   "source": [
    "```python\n",
    "# expr1 must be positive semidefinite.\n",
    "constr1 = (expr1 >> 0)\n",
    "\n",
    "# expr2 must be negative semidefinite.\n",
    "constr2 = (expr2 << 0)\n",
    "\n",
    "# expr must be symmetric.\n",
    "constr = (expr == expr.T)\n",
    "```"
   ]
  },
  {
   "cell_type": "markdown",
   "metadata": {},
   "source": [
    "You can also use `Variable((n, n), symmetric=True)` to create an n by n variable constrained to be symmetric. The difference between specifying that a variable is symmetric via attributes and adding the constraint `X == X.T` is that attributes are parsed for DCP information and a symmetric variable is defined over the (lower dimensional) vector space of symmetric matrices."
   ]
  },
  {
   "cell_type": "markdown",
   "metadata": {},
   "source": [
    "**Mixed-integer Problem**"
   ]
  },
  {
   "cell_type": "markdown",
   "metadata": {},
   "source": [
    "As long as specify the corresponding attributes for variables."
   ]
  },
  {
   "cell_type": "markdown",
   "metadata": {},
   "source": [
    "```python\n",
    "# Creates a 10-vector constrained to have boolean valued entries.\n",
    "x = cp.Variable(10, boolean=True)\n",
    "\n",
    "# expr1 must be boolean valued.\n",
    "constr1 = (expr1 == x)\n",
    "\n",
    "# Creates a 5 by 7 matrix constrained to have integer valued entries.\n",
    "Z = cp.Variable((5, 7), integer=True)\n",
    "\n",
    "# expr2 must be integer valued.\n",
    "constr2 = (expr2 == Z)\n",
    "```"
   ]
  },
  {
   "cell_type": "markdown",
   "metadata": {},
   "source": [
    "CVXPY provides interfaces to many mixed-integer solver, but not install them by default: `GLPK_MI`,`CBC`,`SCIP`.CVXOPT provides CVXPY with access to `GLPK_MI`. If you need to solve **large** or **nonlinear** mixed-integer problems, you can use commercial solvers like `CPLEX`,`GUROBI`,`MOSEK`,`NAG`. Some of them require licences and you can acquire an academic one."
   ]
  },
  {
   "cell_type": "markdown",
   "metadata": {},
   "source": [
    "**Complex Values**"
   ]
  },
  {
   "cell_type": "code",
   "execution_count": 72,
   "metadata": {},
   "outputs": [
    {
     "name": "stdout",
     "output_type": "stream",
     "text": [
      "p.is_imag() =  True\n",
      "(x + 2).is_real() =  False\n"
     ]
    }
   ],
   "source": [
    "# A complex valued variable.\n",
    "x = cp.Variable(complex=True)\n",
    "# A purely imaginary parameter.\n",
    "p = cp.Parameter(imag=True)\n",
    "\n",
    "print(\"p.is_imag() = \", p.is_imag())\n",
    "print(\"(x + 2).is_real() = \", (x + 2).is_real())\n",
    "\n",
    "# is_real(), is_imag(), is_complex()"
   ]
  },
  {
   "cell_type": "markdown",
   "metadata": {},
   "source": [
    "The top-level expressions in the problem objective must be real valued, but subexpressions may be complex. Arithmetic and all linear atoms are defined for complex expressions. The nonlinear atoms abs and all norms except `norm(X, p)` for `p < 1` are also defined for complex expressions. All atoms whose domain is symmetric matrices are defined for Hermitian matrices. Similarly, the atoms `quad_form(x, P)` and `matrix_frac(x, P)` are defined for complex `x` and Hermitian `P`. All constraints are defined for complex expressions.\n",
    "\n",
    "The following additional atoms are provided for working with complex expressions:\n",
    "\n",
    "1. `real(expr)` gives the real part of expr.\n",
    "\n",
    "2. `imag(expr)` gives the imaginary part of expr (i.e., expr = real(expr) + 1j*imag(expr)).\n",
    "\n",
    "3. `conj(expr)` gives the complex conjugate of expr.\n",
    "\n",
    "4. `expr.H` gives the Hermitian (conjugate) transpose of expr."
   ]
  },
  {
   "cell_type": "markdown",
   "metadata": {},
   "source": [
    "**Transforms**"
   ]
  },
  {
   "cell_type": "code",
   "execution_count": 74,
   "metadata": {},
   "outputs": [],
   "source": [
    "# x = cp.Variable()\n",
    "# constraints = [0 <= x, x <= 1]\n",
    "# expr = cp.indicator(constraints)\n",
    "# x.value = .5\n",
    "# print(\"expr.value = \", expr.value)\n",
    "# x.value = 2\n",
    "# print(\"expr.value = \", expr.value)\n",
    "\n",
    "# return 0 if constraint holds and \\infty else\n",
    "# please refer to: https://www.cvxpy.org/api_reference/cvxpy.transforms.html#transforms-api\n",
    "\n",
    "# AttributeError: module 'cvxpy' has no attribute 'indicator'"
   ]
  },
  {
   "cell_type": "markdown",
   "metadata": {},
   "source": [
    "**Problem Arithmics**"
   ]
  },
  {
   "cell_type": "markdown",
   "metadata": {},
   "source": [
    "```python\n",
    "# Addition and subtraction.\n",
    "    Minimize(expr1) + Minimize(expr2) == Minimize(expr1 + expr2)\n",
    "    Maximize(expr1) + Maximize(expr2) == Maximize(expr1 + expr2)\n",
    "    Minimize(expr1) + Maximize(expr2) # Not allowed.\n",
    "    Minimize(expr1) - Maximize(expr2) == Minimize(expr1 - expr2)\n",
    "\n",
    "# Multiplication (alpha is a positive scalar).\n",
    "     alpha*Minimize(expr) == Minimize(alpha*expr)\n",
    "     alpha*Maximize(expr) == Maximize(alpha*expr)\n",
    "    -alpha*Minimize(expr) == Maximize(-alpha*expr)\n",
    "    -alpha*Maximize(expr) == Minimize(-alpha*expr)\n",
    "```"
   ]
  },
  {
   "cell_type": "markdown",
   "metadata": {},
   "source": [
    "```python\n",
    "# Addition and subtraction.\n",
    "    prob1 + prob2 == Problem(prob1.objective + prob2.objective,\n",
    "                             prob1.constraints + prob2.constraints)\n",
    "    prob1 - prob2 == Problem(prob1.objective - prob2.objective,\n",
    "                             prob1.constraints + prob2.constraints)\n",
    "\n",
    "# Multiplication (alpha is any scalar).\n",
    "    alpha*prob == Problem(alpha*prob.objective, prob.constraints)\n",
    "```"
   ]
  },
  {
   "cell_type": "markdown",
   "metadata": {},
   "source": [
    "**Solver Method Options**"
   ]
  },
  {
   "cell_type": "code",
   "execution_count": null,
   "metadata": {},
   "outputs": [],
   "source": [
    "# solve(solver=None, verbose=False, gp=False, qcp=False, requries_grad=False, enforce_dpp=False, **kwargs)\n",
    "\n",
    "# specific options for specific solvers please refer to:\n",
    "#     https://www.cvxpy.org/tutorial/advanced/index.html#setting-solver-options    "
   ]
  },
  {
   "cell_type": "markdown",
   "metadata": {},
   "source": [
    "**Warm Start**"
   ]
  },
  {
   "cell_type": "markdown",
   "metadata": {},
   "source": [
    "When solving the same problem for multiple values of a parameter, many solvers can exploit work from previous solves (i.e., warm start). For example, the solver might use the previous solution as an initial point or reuse cached matrix factorizations. Warm start is enabled by default and controlled with the `warm_start` solver option. The code below shows how warm start can accelerate solving a sequence of related least-squares problems."
   ]
  },
  {
   "cell_type": "code",
   "execution_count": 76,
   "metadata": {},
   "outputs": [
    {
     "name": "stdout",
     "output_type": "stream",
     "text": [
      "First solve time: 0.0202403\n",
      "Second solve time: 0.0101341\n"
     ]
    }
   ],
   "source": [
    "# Problem data.\n",
    "m = 200\n",
    "n = 100\n",
    "np.random.seed(1)\n",
    "A = np.random.randn(m, n)\n",
    "b = cp.Parameter(m)\n",
    "\n",
    "# Construct the problem.\n",
    "x = cp.Variable(n)\n",
    "prob = cp.Problem(cp.Minimize(cp.sum_squares(A @ x - b)),\n",
    "                   [x >= 0])\n",
    "\n",
    "b.value = np.random.randn(m)\n",
    "prob.solve()\n",
    "print(\"First solve time:\", prob.solver_stats.solve_time)\n",
    "\n",
    "b.value = np.random.randn(m)\n",
    "prob.solve(warm_start=True)\n",
    "print(\"Second solve time:\", prob.solver_stats.solve_time)"
   ]
  },
  {
   "cell_type": "markdown",
   "metadata": {},
   "source": [
    "**Get Standard Form**"
   ]
  },
  {
   "cell_type": "markdown",
   "metadata": {},
   "source": [
    "If you are interested in getting the standard form that CVXPY produces for a problem, you can use the `get_problem_data` method. When a problem is solved, a **SolvingChain** passes a low-level representation that is compatible with the targeted solver to a solver, which solves the problem. This method returns that low-level representation, along with a `SolvingChain` and metadata for unpacking a solution into the problem. This low-level representation closely resembles, but is not identitical to, the arguments supplied to the solver.\n",
    "\n",
    "A solution to the equivalent low-level problem can be obtained via the data by invoking the `solve_via_data` method of the returned solving chain, a thin wrapper around the code external to CVXPY that further processes and solves the problem. Invoke the `unpack_results` method to recover a solution to the original problem."
   ]
  },
  {
   "cell_type": "markdown",
   "metadata": {},
   "source": [
    "```python\n",
    "problem = cp.Problem(objective, constraints)\n",
    "data, chain, inverse_data = problem.get_problem_data(cp.SCS)\n",
    "# calls SCS using `data`\n",
    "soln = chain.solve_via_data(problem, data)\n",
    "# unpacks the solution returned by SCS into `problem`\n",
    "problem.unpack_results(soln, chain, inverse_data)\n",
    "```"
   ]
  },
  {
   "cell_type": "markdown",
   "metadata": {},
   "source": [
    "Alternatively, the `data` dictionary returned by this method contains enough information to bypass CVXPY and call the solver directly."
   ]
  },
  {
   "cell_type": "markdown",
   "metadata": {},
   "source": [
    "```python\n",
    "problem = cp.Problem(objective, constraints)\n",
    "probdata, _, _ = problem.get_problem_data(cp.SCS)\n",
    "\n",
    "import scs\n",
    "data = {\n",
    "  'A': probdata['A'],\n",
    "  'b': probdata['b'],\n",
    "  'c': probdata['c'],\n",
    "}\n",
    "cone_dims = probdata['dims']\n",
    "cones = {\n",
    "    \"f\": cone_dims.zero,\n",
    "    \"l\": cone_dims.nonpos,\n",
    "    \"q\": cone_dims.soc,\n",
    "    \"ep\": cone_dims.exp,\n",
    "    \"s\": cone_dims.psd,\n",
    "}\n",
    "soln = scs.solve(data, cones)\n",
    "```"
   ]
  },
  {
   "cell_type": "markdown",
   "metadata": {},
   "source": [
    "The structure of the data dict that CVXPY returns depends on the solver. For details, print the dictionary, or consult the solver interfaces in `cvxpy/reductions/solvers`."
   ]
  },
  {
   "cell_type": "markdown",
   "metadata": {},
   "source": [
    "**Reductions**"
   ]
  },
  {
   "cell_type": "markdown",
   "metadata": {},
   "source": [
    "CVXPY uses a system of **reductions** to rewrite problems from the form provided by the user into the standard form that a solver will accept. A reduction is a transformation from one problem to an equivalent problem. Two problems are equivalent if a solution of one can be converted efficiently to a solution of the other. Reductions take a CVXPY Problem as input and output a CVXPY Problem. The full set of reductions available is discussed in [Reductions](https://www.cvxpy.org/api_reference/cvxpy.reductions.html#reductions-api)."
   ]
  }
 ],
 "metadata": {
  "kernelspec": {
   "display_name": "Python 3",
   "language": "python",
   "name": "python3"
  },
  "language_info": {
   "codemirror_mode": {
    "name": "ipython",
    "version": 3
   },
   "file_extension": ".py",
   "mimetype": "text/x-python",
   "name": "python",
   "nbconvert_exporter": "python",
   "pygments_lexer": "ipython3",
   "version": "3.7.3"
  }
 },
 "nbformat": 4,
 "nbformat_minor": 2
}
