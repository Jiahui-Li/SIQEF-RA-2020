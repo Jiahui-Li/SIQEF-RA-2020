{
 "cells": [
  {
   "cell_type": "markdown",
   "metadata": {},
   "source": [
    "\n",
    "# OT for domain adaptation\n",
    "\n",
    "\n",
    "This example introduces a domain adaptation in a 2D setting and the 4 OTDA\n",
    "approaches currently supported in POT.\n",
    "\n",
    "\n"
   ]
  },
  {
   "cell_type": "code",
   "execution_count": 2,
   "metadata": {},
   "outputs": [],
   "source": [
    "import matplotlib.pylab as pl\n",
    "%matplotlib inline\n",
    "import ot"
   ]
  },
  {
   "cell_type": "code",
   "execution_count": null,
   "metadata": {},
   "outputs": [],
   "source": []
  },
  {
   "cell_type": "code",
   "execution_count": 12,
   "metadata": {},
   "outputs": [
    {
     "data": {
      "text/plain": [
       "<module 'ot.da' from 'C:\\\\Users\\\\langbo\\\\anaconda3\\\\lib\\\\site-packages\\\\ot\\\\da.py'>"
      ]
     },
     "execution_count": 12,
     "metadata": {},
     "output_type": "execute_result"
    }
   ],
   "source": []
  },
  {
   "cell_type": "markdown",
   "metadata": {},
   "source": [
    "Generate data\n",
    "-------------\n",
    "\n"
   ]
  },
  {
   "cell_type": "code",
   "execution_count": 3,
   "metadata": {},
   "outputs": [],
   "source": [
    "n_source_samples = 150\n",
    "n_target_samples = 150\n",
    "\n",
    "Xs, ys = ot.datasets.get_data_classif('3gauss', n_source_samples)\n",
    "Xt, yt = ot.datasets.get_data_classif('3gauss2', n_target_samples)"
   ]
  },
  {
   "cell_type": "code",
   "execution_count": 7,
   "metadata": {},
   "outputs": [
    {
     "data": {
      "text/plain": [
       "(150,)"
      ]
     },
     "execution_count": 7,
     "metadata": {},
     "output_type": "execute_result"
    }
   ],
   "source": [
    "ys.shape"
   ]
  },
  {
   "cell_type": "markdown",
   "metadata": {},
   "source": [
    "Instantiate the different transport algorithms and fit them\n",
    "-----------------------------------------------------------\n",
    "\n"
   ]
  },
  {
   "cell_type": "code",
   "execution_count": null,
   "metadata": {},
   "outputs": [],
   "source": [
    "# EMD Transport\n",
    "ot_emd = ot.da.EMDTransport()\n",
    "ot_emd.fit(Xs=Xs, Xt=Xt)"
   ]
  },
  {
   "cell_type": "code",
   "execution_count": null,
   "metadata": {},
   "outputs": [],
   "source": [
    "# Sinkhorn Transport\n",
    "ot_sinkhorn = ot.da.SinkhornTransport(reg_e=1e-1)\n",
    "ot_sinkhorn.fit(Xs=Xs, Xt=Xt)"
   ]
  },
  {
   "cell_type": "code",
   "execution_count": null,
   "metadata": {},
   "outputs": [],
   "source": [
    "# Sinkhorn Transport with Group lasso regularization\n",
    "ot_lpl1 = ot.da.SinkhornLpl1Transport(reg_e=1e-1, reg_cl=1e0)\n",
    "ot_lpl1.fit(Xs=Xs, ys=ys, Xt=Xt)"
   ]
  },
  {
   "cell_type": "code",
   "execution_count": null,
   "metadata": {},
   "outputs": [],
   "source": [
    "# Sinkhorn Transport with Group lasso regularization l1l2\n",
    "ot_l1l2 = ot.da.SinkhornL1l2Transport(reg_e=1e-1, reg_cl=2e0, max_iter=20,\n",
    "                                      verbose=True)\n",
    "ot_l1l2.fit(Xs=Xs, ys=ys, Xt=Xt)"
   ]
  },
  {
   "cell_type": "code",
   "execution_count": null,
   "metadata": {},
   "outputs": [],
   "source": [
    "# transport source samples onto target samples\n",
    "transp_Xs_emd = ot_emd.transform(Xs=Xs)\n",
    "transp_Xs_sinkhorn = ot_sinkhorn.transform(Xs=Xs)\n",
    "transp_Xs_lpl1 = ot_lpl1.transform(Xs=Xs)\n",
    "transp_Xs_l1l2 = ot_l1l2.transform(Xs=Xs)"
   ]
  },
  {
   "cell_type": "markdown",
   "metadata": {},
   "source": [
    "Fig 1 : plots source and target samples\n",
    "---------------------------------------\n",
    "\n"
   ]
  },
  {
   "cell_type": "code",
   "execution_count": null,
   "metadata": {},
   "outputs": [],
   "source": [
    "pl.figure(1, figsize=(10, 5))\n",
    "pl.subplot(1, 2, 1)\n",
    "pl.scatter(Xs[:, 0], Xs[:, 1], c=ys, marker='+', label='Source samples')\n",
    "pl.xticks([])\n",
    "pl.yticks([])\n",
    "pl.legend(loc=0)\n",
    "pl.title('Source  samples')\n",
    "\n",
    "pl.subplot(1, 2, 2)\n",
    "pl.scatter(Xt[:, 0], Xt[:, 1], c=yt, marker='o', label='Target samples')\n",
    "pl.xticks([])\n",
    "pl.yticks([])\n",
    "pl.legend(loc=0)\n",
    "pl.title('Target samples')\n",
    "pl.tight_layout()"
   ]
  },
  {
   "cell_type": "markdown",
   "metadata": {},
   "source": [
    "Fig 2 : plot optimal couplings and transported samples\n",
    "------------------------------------------------------\n",
    "\n"
   ]
  },
  {
   "cell_type": "code",
   "execution_count": null,
   "metadata": {},
   "outputs": [],
   "source": [
    "param_img = {'interpolation': 'nearest', 'cmap': 'spectral'}\n",
    "\n",
    "pl.figure(2, figsize=(15, 8))\n",
    "pl.subplot(2, 4, 1)\n",
    "pl.imshow(ot_emd.coupling_, **param_img)\n",
    "pl.xticks([])\n",
    "pl.yticks([])\n",
    "pl.title('Optimal coupling\\nEMDTransport')\n",
    "\n",
    "pl.subplot(2, 4, 2)\n",
    "pl.imshow(ot_sinkhorn.coupling_, **param_img)\n",
    "pl.xticks([])\n",
    "pl.yticks([])\n",
    "pl.title('Optimal coupling\\nSinkhornTransport')\n",
    "\n",
    "pl.subplot(2, 4, 3)\n",
    "pl.imshow(ot_lpl1.coupling_, **param_img)\n",
    "pl.xticks([])\n",
    "pl.yticks([])\n",
    "pl.title('Optimal coupling\\nSinkhornLpl1Transport')\n",
    "\n",
    "pl.subplot(2, 4, 4)\n",
    "pl.imshow(ot_l1l2.coupling_, **param_img)\n",
    "pl.xticks([])\n",
    "pl.yticks([])\n",
    "pl.title('Optimal coupling\\nSinkhornL1l2Transport')\n",
    "\n",
    "pl.subplot(2, 4, 5)\n",
    "pl.scatter(Xt[:, 0], Xt[:, 1], c=yt, marker='o',\n",
    "           label='Target samples', alpha=0.3)\n",
    "pl.scatter(transp_Xs_emd[:, 0], transp_Xs_emd[:, 1], c=ys,\n",
    "           marker='+', label='Transp samples', s=30)\n",
    "pl.xticks([])\n",
    "pl.yticks([])\n",
    "pl.title('Transported samples\\nEmdTransport')\n",
    "pl.legend(loc=\"lower left\")\n",
    "\n",
    "pl.subplot(2, 4, 6)\n",
    "pl.scatter(Xt[:, 0], Xt[:, 1], c=yt, marker='o',\n",
    "           label='Target samples', alpha=0.3)\n",
    "pl.scatter(transp_Xs_sinkhorn[:, 0], transp_Xs_sinkhorn[:, 1], c=ys,\n",
    "           marker='+', label='Transp samples', s=30)\n",
    "pl.xticks([])\n",
    "pl.yticks([])\n",
    "pl.title('Transported samples\\nSinkhornTransport')\n",
    "\n",
    "pl.subplot(2, 4, 7)\n",
    "pl.scatter(Xt[:, 0], Xt[:, 1], c=yt, marker='o',\n",
    "           label='Target samples', alpha=0.3)\n",
    "pl.scatter(transp_Xs_lpl1[:, 0], transp_Xs_lpl1[:, 1], c=ys,\n",
    "           marker='+', label='Transp samples', s=30)\n",
    "pl.xticks([])\n",
    "pl.yticks([])\n",
    "pl.title('Transported samples\\nSinkhornLpl1Transport')\n",
    "\n",
    "pl.subplot(2, 4, 8)\n",
    "pl.scatter(Xt[:, 0], Xt[:, 1], c=yt, marker='o',\n",
    "           label='Target samples', alpha=0.3)\n",
    "pl.scatter(transp_Xs_l1l2[:, 0], transp_Xs_l1l2[:, 1], c=ys,\n",
    "           marker='+', label='Transp samples', s=30)\n",
    "pl.xticks([])\n",
    "pl.yticks([])\n",
    "pl.title('Transported samples\\nSinkhornL1l2Transport')\n",
    "pl.tight_layout()\n",
    "\n",
    "pl.show()"
   ]
  },
  {
   "cell_type": "markdown",
   "metadata": {},
   "source": [
    "## Reference"
   ]
  },
  {
   "cell_type": "code",
   "execution_count": null,
   "metadata": {},
   "outputs": [],
   "source": [
    "# Authors: Remi Flamary <remi.flamary@unice.fr>\n",
    "#          Stanislas Chambon <stan.chambon@gmail.com>\n",
    "# Reference:https://pot.readthedocs.io/en/autonb/auto_examples/plot_otda_classes.html\n",
    "\n",
    "# License: MIT License"
   ]
  }
 ],
 "metadata": {
  "kernelspec": {
   "display_name": "Python 3",
   "language": "python",
   "name": "python3"
  },
  "language_info": {
   "codemirror_mode": {
    "name": "ipython",
    "version": 3
   },
   "file_extension": ".py",
   "mimetype": "text/x-python",
   "name": "python",
   "nbconvert_exporter": "python",
   "pygments_lexer": "ipython3",
   "version": "3.7.6"
  }
 },
 "nbformat": 4,
 "nbformat_minor": 1
}
